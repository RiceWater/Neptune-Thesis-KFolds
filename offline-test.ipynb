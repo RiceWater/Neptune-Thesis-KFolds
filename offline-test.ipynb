{
 "cells": [
  {
   "cell_type": "code",
   "execution_count": 3,
   "id": "2c0f90d2-a2a5-46d3-b270-9741f78cfb67",
   "metadata": {},
   "outputs": [
    {
     "name": "stdout",
     "output_type": "stream",
     "text": [
      "[neptune] [info   ] Neptune initialized. Open in the app: offline/4fa3c6fb-ad43-4977-8440-64051e601232\n",
      "[neptune] [info   ] Shutting down background jobs, please wait a moment...\n",
      "[neptune] [info   ] Done!\n"
     ]
    }
   ],
   "source": [
    "import neptune\n",
    "\n",
    "run = neptune.init_run(\n",
    "    project=\"New-Thesis/KFold-Test\",\n",
    "    # api_token=\"eyJhcGlfYWRkcmVzcyI6Imh0dHBzOi8vYXBwLm5lcHR1bmUuYWkiLCJhcGlfdXJsIjoiaHR0cHM6Ly9hcHAubmVwdHVuZS5haSIsImFwaV9rZXkiOiJiM2YzNGEwOC1iNmYyLTQ3YTEtYTljNi0xOWNmYWE0ZjZjOTMifQ==\",\n",
    "    mode='offline'\n",
    ")  # your credentials\n",
    "\n",
    "params = {\"learning_rate\": 0.001, \"optimizer\": \"Adam\"}\n",
    "run[\"parameters\"] = params\n",
    "\n",
    "for epoch in range(10):\n",
    "    run[\"train/loss\"].append(0.9 ** epoch)\n",
    "\n",
    "run[\"eval/f1_score\"] = 0.66\n",
    "\n",
    "run.stop()"
   ]
  },
  {
   "cell_type": "code",
   "execution_count": 2,
   "id": "d7d4c5fc-89e8-4efd-b555-a23d6ebaae71",
   "metadata": {},
   "outputs": [
    {
     "name": "stderr",
     "output_type": "stream",
     "text": [
      "Traceback (most recent call last):\n",
      "  File \"C:\\Users\\user\\anaconda3\\lib\\runpy.py\", line 196, in _run_module_as_main\n",
      "    return _run_code(code, main_globals, None,\n",
      "  File \"C:\\Users\\user\\anaconda3\\lib\\runpy.py\", line 86, in _run_code\n",
      "    exec(code, run_globals)\n",
      "  File \"C:\\Users\\user\\Documents\\Machine-Learning-Hub-1\\ImageClassification\\Neptune-Thesis\\venv\\Scripts\\neptune.exe\\__main__.py\", line 7, in <module>\n",
      "  File \"C:\\Users\\user\\Documents\\Machine-Learning-Hub-1\\ImageClassification\\Neptune-Thesis\\venv\\lib\\site-packages\\click\\core.py\", line 1157, in __call__\n",
      "    return self.main(*args, **kwargs)\n",
      "  File \"C:\\Users\\user\\Documents\\Machine-Learning-Hub-1\\ImageClassification\\Neptune-Thesis\\venv\\lib\\site-packages\\click\\core.py\", line 1078, in main\n",
      "    rv = self.invoke(ctx)\n",
      "  File \"C:\\Users\\user\\Documents\\Machine-Learning-Hub-1\\ImageClassification\\Neptune-Thesis\\venv\\lib\\site-packages\\click\\core.py\", line 1688, in invoke\n",
      "    return _process_result(sub_ctx.command.invoke(sub_ctx))\n",
      "  File \"C:\\Users\\user\\Documents\\Machine-Learning-Hub-1\\ImageClassification\\Neptune-Thesis\\venv\\lib\\site-packages\\click\\core.py\", line 1434, in invoke\n",
      "    return ctx.invoke(self.callback, **ctx.params)\n",
      "  File \"C:\\Users\\user\\Documents\\Machine-Learning-Hub-1\\ImageClassification\\Neptune-Thesis\\venv\\lib\\site-packages\\click\\core.py\", line 783, in invoke\n",
      "    return __callback(*args, **kwargs)\n",
      "  File \"C:\\Users\\user\\Documents\\Machine-Learning-Hub-1\\ImageClassification\\Neptune-Thesis\\venv\\lib\\site-packages\\neptune\\cli\\commands.py\", line 130, in sync\n",
      "    backend = HostedNeptuneBackend(Credentials.from_token())\n",
      "  File \"C:\\Users\\user\\Documents\\Machine-Learning-Hub-1\\ImageClassification\\Neptune-Thesis\\venv\\lib\\site-packages\\neptune\\internal\\credentials.py\", line 49, in from_token\n",
      "    raise NeptuneMissingApiTokenException()\n",
      "neptune.exceptions.NeptuneMissingApiTokenException: \n",
      "\n",
      "----NeptuneMissingApiTokenException-------------------------------------------\n",
      "\n",
      "The Neptune client couldn't find your API token.\n",
      "\n",
      "You can get it here:\n",
      "    - https://app.neptune.ai/get_my_api_token\n",
      "\n",
      "There are two options to add it:\n",
      "    - specify it in your code\n",
      "    - set an environment variable in your operating system.\n",
      "\n",
      "CODE\n",
      "Pass the token to the init_run() function via the api_token argument:\n",
      "    neptune.init_run(project='WORKSPACE_NAME/PROJECT_NAME', api_token='YOUR_API_TOKEN')\n",
      "\n",
      "ENVIRONMENT VARIABLE (Recommended option)\n",
      "or export or set an environment variable depending on your operating system:\n",
      "\n",
      "    Linux/Unix\n",
      "    In your terminal run:\n",
      "        export NEPTUNE_API_TOKEN=\"YOUR_API_TOKEN\"\n",
      "\n",
      "    Windows\n",
      "    In your CMD run:\n",
      "        set NEPTUNE_API_TOKEN=\"YOUR_API_TOKEN\"\n",
      "\n",
      "and skip the api_token argument of the init_run() function:\n",
      "    neptune.init_run(project='WORKSPACE_NAME/PROJECT_NAME')\n",
      "\n",
      "You may also want to check the following docs pages:\n",
      "    - https://docs.neptune.ai/setup/setting_api_token/\n",
      "\n",
      "Need help?-> https://docs.neptune.ai/getting_help\n",
      "\n"
     ]
    }
   ],
   "source": [
    "!neptune sync"
   ]
  }
 ],
 "metadata": {
  "kernelspec": {
   "display_name": "neptune",
   "language": "python",
   "name": "neptune"
  },
  "language_info": {
   "codemirror_mode": {
    "name": "ipython",
    "version": 3
   },
   "file_extension": ".py",
   "mimetype": "text/x-python",
   "name": "python",
   "nbconvert_exporter": "python",
   "pygments_lexer": "ipython3",
   "version": "3.10.9"
  }
 },
 "nbformat": 4,
 "nbformat_minor": 5
}
