{
 "cells": [
  {
   "cell_type": "markdown",
   "id": "5cea849d-f226-4bca-8a6e-05a0ff187b8a",
   "metadata": {},
   "source": [
    "## Load Libraries"
   ]
  },
  {
   "cell_type": "code",
   "execution_count": 1,
   "id": "2017626b-6732-4e8b-b744-5b89b8845f31",
   "metadata": {},
   "outputs": [
    {
     "name": "stdout",
     "output_type": "stream",
     "text": [
      "WARNING:tensorflow:From C:\\Users\\user\\Documents\\Machine-Learning-Hub-1\\ImageClassification\\Neptune-Thesis\\venv\\lib\\site-packages\\keras\\src\\losses.py:2976: The name tf.losses.sparse_softmax_cross_entropy is deprecated. Please use tf.compat.v1.losses.sparse_softmax_cross_entropy instead.\n",
      "\n"
     ]
    }
   ],
   "source": [
    "import tqdm\n",
    "import os\n",
    "import cv2\n",
    "import imghdr\n",
    "import image_to_numpy\n",
    "import numpy as np\n",
    "import seaborn as sns\n",
    "from matplotlib import pyplot as plt\n",
    "from datetime import datetime\n",
    "import itertools\n",
    "from numpy.random import default_rng\n",
    "\n",
    "import tensorflow as tf\n",
    "from tensorflow.keras.models import Sequential\n",
    "from tensorflow.keras.layers import RandomFlip, RandomRotation, RandomContrast, RandomBrightness, Rescaling, Resizing\n",
    "from tensorflow.keras.layers import Conv2D, MaxPooling2D, Flatten, Dense, Dropout, BatchNormalization, ReLU\n",
    "from tensorflow.keras.metrics import F1Score, Precision, Recall, CategoricalAccuracy, BinaryAccuracy\n",
    "from tensorboard.plugins.hparams import api as hp\n",
    "import sklearn\n",
    "from sklearn.metrics import classification_report,confusion_matrix\n",
    "from sklearn.model_selection import StratifiedKFold\n",
    "\n",
    "from time import perf_counter\n",
    "import math\n",
    "\n",
    "import neptune\n",
    "from neptune.integrations.tensorflow_keras import NeptuneCallback"
   ]
  },
  {
   "cell_type": "markdown",
   "id": "a7afa2a1-9cf3-4410-86b1-b17fbc655bb2",
   "metadata": {},
   "source": [
    "## Get Dataset"
   ]
  },
  {
   "cell_type": "code",
   "execution_count": 2,
   "id": "b2dae2b3-116c-41c8-921a-ae324ff90f61",
   "metadata": {},
   "outputs": [],
   "source": [
    "labels = ['Not Road', 'Road']\n",
    "X_train = []\n",
    "y_train = []\n",
    "y_label_idx = []\n",
    "image_size = 256\n",
    "for i in labels:\n",
    "    folderPath = os.path.join('D:\\\\DATASETS\\\\FireBase-Data\\\\Unseen-Testing-Data-For-Binary', i)\n",
    "    for j in os.listdir(folderPath):\n",
    "        img = image_to_numpy.load_image_file(os.path.join(folderPath,j))\n",
    "        img = cv2.resize(img,(image_size, image_size))\n",
    "        X_train.append(img)\n",
    "        y_label_idx.append(labels.index(i))"
   ]
  },
  {
   "cell_type": "code",
   "execution_count": 3,
   "id": "b965228b-7366-4724-ba62-d184772c89f5",
   "metadata": {},
   "outputs": [],
   "source": [
    "X_train = np.array(X_train)\n",
    "y_label_idx = np.array(y_label_idx)\n",
    "\n",
    "X_train_scaled = X_train.astype(np.float32) / 255.0"
   ]
  },
  {
   "cell_type": "markdown",
   "id": "5d165fcd-5a93-418f-b18e-e5b92f69b5fe",
   "metadata": {},
   "source": [
    "## Evaluate Final-B4_0_1-converted  "
   ]
  },
  {
   "cell_type": "code",
   "execution_count": 4,
   "id": "cf30d8ea-d116-4311-818c-c496074714a0",
   "metadata": {},
   "outputs": [
    {
     "name": "stdout",
     "output_type": "stream",
     "text": [
      "WARNING:tensorflow:From C:\\Users\\user\\Documents\\Machine-Learning-Hub-1\\ImageClassification\\Neptune-Thesis\\venv\\lib\\site-packages\\keras\\src\\backend.py:1398: The name tf.executing_eagerly_outside_functions is deprecated. Please use tf.compat.v1.executing_eagerly_outside_functions instead.\n",
      "\n",
      "WARNING:tensorflow:From C:\\Users\\user\\Documents\\Machine-Learning-Hub-1\\ImageClassification\\Neptune-Thesis\\venv\\lib\\site-packages\\keras\\src\\layers\\normalization\\batch_normalization.py:979: The name tf.nn.fused_batch_norm is deprecated. Please use tf.compat.v1.nn.fused_batch_norm instead.\n",
      "\n"
     ]
    },
    {
     "name": "stderr",
     "output_type": "stream",
     "text": [
      "WARNING:absl:Skipping variable loading for optimizer 'Adam', because it has 37 variables whereas the saved optimizer has 1 variables. \n"
     ]
    }
   ],
   "source": [
    "model_path = \"C:\\\\Users\\\\user\\\\Documents\\\\Machine-Learning-Hub-1\\\\Tensorflow\\\\kaggle_converted\\\\Final-B4_0_1-converted.keras\"\n",
    "sm = tf.keras.models.load_model(model_path)"
   ]
  },
  {
   "cell_type": "code",
   "execution_count": 5,
   "id": "7dd14629-37f1-4217-afce-2aea4068a709",
   "metadata": {},
   "outputs": [
    {
     "name": "stdout",
     "output_type": "stream",
     "text": [
      "Binary Model Result\n",
      "Precision: 0.753731369972229  -  Recall: 0.753731369972229\n",
      "Accuracy: 0.753731369972229\n",
      "F1Score: Not Road 0.6206896901130676 | Road 0.8176795244216919\n"
     ]
    }
   ],
   "source": [
    "pre = Precision()\n",
    "rec = Recall()\n",
    "c_acc = BinaryAccuracy()\n",
    "f1_score = F1Score()\n",
    "\n",
    "\n",
    "y = tf.keras.utils.to_categorical(y_label_idx)\n",
    "for i in range(len(X_train_scaled)):\n",
    "    ready_image = np.expand_dims(X_train_scaled[i], 0)\n",
    "    yhat = sm.predict(ready_image, verbose=0)\n",
    "    ytrue = np.expand_dims(y[i], 0)\n",
    "    f1_score.update_state(ytrue, yhat)\n",
    "    pre.update_state(ytrue, yhat)\n",
    "    rec.update_state(ytrue, yhat)\n",
    "    c_acc.update_state(ytrue, yhat)\n",
    "\n",
    "# PRINTING RESULTS ===========================================\n",
    "print(\"Binary Model Result\")\n",
    "print(f'Precision: {pre.result().numpy()}  -  Recall: {rec.result().numpy()}')\n",
    "print(f'Accuracy: {c_acc.result().numpy()}')\n",
    "print(f'F1Score: Not Road {f1_score.result().numpy()[0]} | Road {f1_score.result().numpy()[1]}')\n",
    "    "
   ]
  },
  {
   "cell_type": "markdown",
   "id": "14853324-1288-42e6-9a72-aa25e672bc0c",
   "metadata": {},
   "source": [
    "## Get Dataset"
   ]
  },
  {
   "cell_type": "code",
   "execution_count": 6,
   "id": "0327a21b",
   "metadata": {},
   "outputs": [],
   "source": [
    "labels = ['Building','Plant', 'Road', 'Not Road']\n",
    "X_train = []\n",
    "y_train = []\n",
    "y_label_idx = []\n",
    "image_size = 256\n",
    "for i in labels:\n",
    "    \n",
    "    folderPath = os.path.join(\"D:\\\\DATASETS\\\\FireBase-Data\\\\Unseen-Testing-Data-For-4_Class\", i)\n",
    "    if not os.path.exists(folderPath):\n",
    "        continue\n",
    "    for j in os.listdir(folderPath):\n",
    "        img = image_to_numpy.load_image_file(os.path.join(folderPath,j))\n",
    "        img = cv2.resize(img,(image_size, image_size))\n",
    "        X_train.append(img)\n",
    "        y_label_idx.append(labels.index(i))"
   ]
  },
  {
   "cell_type": "code",
   "execution_count": 7,
   "id": "e772dae2",
   "metadata": {},
   "outputs": [],
   "source": [
    "X_train = np.array(X_train)\n",
    "y_label_idx = np.array(y_label_idx)\n",
    "\n",
    "X_train_scaled = X_train.astype(np.float32) / 255.0"
   ]
  },
  {
   "cell_type": "markdown",
   "id": "74d32fc7-b748-4dbf-ad1a-5546370139f8",
   "metadata": {},
   "source": [
    "## Evaluate Model V4.0.1 (Deployed Model)"
   ]
  },
  {
   "cell_type": "code",
   "execution_count": 8,
   "id": "00cffe18-76dd-4e23-b7a5-91e598cfb760",
   "metadata": {},
   "outputs": [
    {
     "name": "stderr",
     "output_type": "stream",
     "text": [
      "WARNING:absl:Skipping variable loading for optimizer 'Adam', because it has 37 variables whereas the saved optimizer has 1 variables. \n"
     ]
    }
   ],
   "source": [
    "model_path = \"C:\\\\Users\\\\user\\\\Documents\\\\Machine-Learning-Hub-1\\\\Exp-Flask-New-Thesis\\\\model\\\\RNR\\\\Old\\\\Model_V4-0-1.keras\"\n",
    "sm = tf.keras.models.load_model(model_path)"
   ]
  },
  {
   "cell_type": "code",
   "execution_count": 9,
   "id": "b62655a0-2a80-4dd4-9e98-982ca32b538c",
   "metadata": {},
   "outputs": [
    {
     "name": "stdout",
     "output_type": "stream",
     "text": [
      "4-Class Deployed Model Result\n",
      "Precision: 0.6880000233650208  -  Recall: 0.641791045665741\n",
      "Accuracy: 0.8376865386962891\n",
      "F1Score: Building 0.2068965584039688 | Plant 0.13333334028720856\n",
      "F1Score: Road 0.813559353351593 | Vehicle 0.5106383562088013\n"
     ]
    }
   ],
   "source": [
    "pre = Precision()\n",
    "rec = Recall()\n",
    "c_acc = BinaryAccuracy()\n",
    "f1_score = F1Score()\n",
    "\n",
    "\n",
    "y = tf.keras.utils.to_categorical(y_label_idx, 4)\n",
    "for i in range(len(X_train_scaled)):\n",
    "    ready_image = np.expand_dims(X_train_scaled[i], 0)\n",
    "    yhat = sm.predict(ready_image, verbose=0)\n",
    "    ytrue = np.expand_dims(y[i], 0)\n",
    "    f1_score.update_state(ytrue, yhat)\n",
    "    pre.update_state(ytrue, yhat)\n",
    "    rec.update_state(ytrue, yhat)\n",
    "    c_acc.update_state(ytrue, yhat)\n",
    "\n",
    "# PRINTING RESULTS ===========================================\n",
    "print(\"4-Class Deployed Model Result\")\n",
    "print(f'Precision: {pre.result().numpy()}  -  Recall: {rec.result().numpy()}')\n",
    "print(f'Accuracy: {c_acc.result().numpy()}')\n",
    "print(f'F1Score: Building {f1_score.result().numpy()[0]} | Plant {f1_score.result().numpy()[1]}')\n",
    "print(f'F1Score: Road {f1_score.result().numpy()[2]} | Vehicle {f1_score.result().numpy()[3]}')\n",
    "    "
   ]
  },
  {
   "cell_type": "code",
   "execution_count": null,
   "id": "02534b53-ddc7-4edd-9968-a997e641bbcd",
   "metadata": {},
   "outputs": [],
   "source": []
  },
  {
   "cell_type": "markdown",
   "id": "b5ed2dd2-047e-46f3-be8c-d6d2bfc296ae",
   "metadata": {},
   "source": [
    "## Get Dataset"
   ]
  },
  {
   "cell_type": "code",
   "execution_count": 10,
   "id": "99fe3088",
   "metadata": {},
   "outputs": [],
   "source": [
    "labels = ['Building','Plant', 'Road', 'Not Road']\n",
    "X_train = []\n",
    "y_train = []\n",
    "y_label_idx = []\n",
    "image_size = 256\n",
    "for i in labels:\n",
    "    \n",
    "    folderPath = os.path.join('D:\\\\DATASETS\\\\FireBase-Data\\\\Unseen-Testing-Data-For-4_Class', i)\n",
    "    if not os.path.exists(folderPath):\n",
    "        continue\n",
    "    for j in os.listdir(folderPath):\n",
    "        img = image_to_numpy.load_image_file(os.path.join(folderPath,j))\n",
    "        img = cv2.resize(img,(image_size, image_size))\n",
    "        X_train.append(img)\n",
    "        y_label_idx.append(labels.index(i))"
   ]
  },
  {
   "cell_type": "code",
   "execution_count": 11,
   "id": "2e13dcc5",
   "metadata": {},
   "outputs": [],
   "source": [
    "X_train = np.array(X_train)\n",
    "y_label_idx = np.array(y_label_idx)\n",
    "\n",
    "X_train_scaled = X_train.astype(np.float32) / 255.0"
   ]
  },
  {
   "cell_type": "markdown",
   "id": "05834749-627e-410e-a2f3-84384d547718",
   "metadata": {},
   "source": [
    "## Evaluate AdrKFold-Final-4_0_1-converted"
   ]
  },
  {
   "cell_type": "code",
   "execution_count": 12,
   "id": "d99cc629",
   "metadata": {},
   "outputs": [
    {
     "name": "stderr",
     "output_type": "stream",
     "text": [
      "WARNING:absl:Skipping variable loading for optimizer 'Adam', because it has 37 variables whereas the saved optimizer has 1 variables. \n"
     ]
    }
   ],
   "source": [
    "model_path = \"C:\\\\Users\\\\user\\\\Documents\\\\Machine-Learning-Hub-1\\\\Tensorflow\\\\kaggle_converted\\\\AdrKFold-Final-4_0_1-converted.keras\"\n",
    "sm = tf.keras.models.load_model(model_path)"
   ]
  },
  {
   "cell_type": "code",
   "execution_count": 13,
   "id": "13d93302",
   "metadata": {},
   "outputs": [
    {
     "name": "stdout",
     "output_type": "stream",
     "text": [
      "4-Class Deployed Model Result\n",
      "Precision: 0.6412213444709778  -  Recall: 0.6268656849861145\n",
      "Accuracy: 0.8190298676490784\n",
      "F1Score: Building 0.14814816415309906 | Plant 0.125\n",
      "F1Score: Road 0.8196721076965332 | Vehicle 0.3809524178504944\n"
     ]
    }
   ],
   "source": [
    "pre = Precision()\n",
    "rec = Recall()\n",
    "c_acc = BinaryAccuracy()\n",
    "f1_score = F1Score()\n",
    "\n",
    "\n",
    "y = tf.keras.utils.to_categorical(y_label_idx, 4)\n",
    "for i in range(len(X_train_scaled)):\n",
    "    ready_image = np.expand_dims(X_train_scaled[i], 0)\n",
    "    yhat = sm.predict(ready_image, verbose=0)\n",
    "    ytrue = np.expand_dims(y[i], 0)\n",
    "    f1_score.update_state(ytrue, yhat)\n",
    "    pre.update_state(ytrue, yhat)\n",
    "    rec.update_state(ytrue, yhat)\n",
    "    c_acc.update_state(ytrue, yhat)\n",
    "\n",
    "# PRINTING RESULTS ===========================================\n",
    "print(\"4-Class Deployed Model Result\")\n",
    "print(f'Precision: {pre.result().numpy()}  -  Recall: {rec.result().numpy()}')\n",
    "print(f'Accuracy: {c_acc.result().numpy()}')\n",
    "print(f'F1Score: Building {f1_score.result().numpy()[0]} | Plant {f1_score.result().numpy()[1]}')\n",
    "print(f'F1Score: Road {f1_score.result().numpy()[2]} | Vehicle {f1_score.result().numpy()[3]}')\n",
    "    "
   ]
  },
  {
   "cell_type": "code",
   "execution_count": null,
   "id": "f33a83c5",
   "metadata": {},
   "outputs": [],
   "source": []
  },
  {
   "cell_type": "markdown",
   "id": "47c1336b-8374-463f-bd79-896b410a6744",
   "metadata": {},
   "source": [
    "## Get Dataset"
   ]
  },
  {
   "cell_type": "code",
   "execution_count": 14,
   "id": "50c49fea",
   "metadata": {},
   "outputs": [],
   "source": [
    "labels = ['Building','Plant', 'Road', 'Not Road']\n",
    "X_train = []\n",
    "y_train = []\n",
    "y_label_idx = []\n",
    "image_size = 256\n",
    "for i in labels:\n",
    "    \n",
    "    folderPath = os.path.join('D:\\\\DATASETS\\\\FireBase-Data\\\\Unseen-Testing-Data-For-4_Class', i)\n",
    "    if not os.path.exists(folderPath):\n",
    "        continue\n",
    "    for j in os.listdir(folderPath):\n",
    "        img = image_to_numpy.load_image_file(os.path.join(folderPath,j))\n",
    "        img = cv2.resize(img,(image_size, image_size))\n",
    "        X_train.append(img)\n",
    "        y_label_idx.append(labels.index(i))"
   ]
  },
  {
   "cell_type": "code",
   "execution_count": 15,
   "id": "8236f26a",
   "metadata": {},
   "outputs": [],
   "source": [
    "X_train = np.array(X_train)\n",
    "y_label_idx = np.array(y_label_idx)\n",
    "\n",
    "X_train_scaled = X_train.astype(np.float32) / 255.0"
   ]
  },
  {
   "cell_type": "markdown",
   "id": "422919df-6ecd-4e06-af68-a4076a6704de",
   "metadata": {},
   "source": [
    "## Evaluate PCNN0206_01B"
   ]
  },
  {
   "cell_type": "code",
   "execution_count": 16,
   "id": "d7c8cab8",
   "metadata": {},
   "outputs": [
    {
     "name": "stderr",
     "output_type": "stream",
     "text": [
      "WARNING:absl:Skipping variable loading for optimizer 'Adam', because it has 37 variables whereas the saved optimizer has 1 variables. \n"
     ]
    }
   ],
   "source": [
    "model_path = \"C:\\\\Users\\\\user\\\\Documents\\\\Machine-Learning-Hub-1\\\\Exp-Flask-New-Thesis\\\\model\\\\RNR\\\\PCNN0206_01B.keras\"\n",
    "sm = tf.keras.models.load_model(model_path)"
   ]
  },
  {
   "cell_type": "code",
   "execution_count": 17,
   "id": "dbd7b2b2",
   "metadata": {},
   "outputs": [
    {
     "name": "stdout",
     "output_type": "stream",
     "text": [
      "4-Class Deployed Model Result\n",
      "Precision: 0.5440000295639038  -  Recall: 0.5074626803398132\n",
      "Accuracy: 0.77052241563797\n",
      "F1Score: Building 0.1764705777168274 | Plant 0.10526315867900848\n",
      "F1Score: Road 0.6967741847038269 | Vehicle 0.46666666865348816\n"
     ]
    }
   ],
   "source": [
    "pre = Precision()\n",
    "rec = Recall()\n",
    "c_acc = BinaryAccuracy()\n",
    "f1_score = F1Score()\n",
    "\n",
    "\n",
    "y = tf.keras.utils.to_categorical(y_label_idx, 4)\n",
    "for i in range(len(X_train_scaled)):\n",
    "    ready_image = np.expand_dims(X_train_scaled[i], 0)\n",
    "    yhat = sm.predict(ready_image, verbose=0)\n",
    "    ytrue = np.expand_dims(y[i], 0)\n",
    "    f1_score.update_state(ytrue, yhat)\n",
    "    pre.update_state(ytrue, yhat)\n",
    "    rec.update_state(ytrue, yhat)\n",
    "    c_acc.update_state(ytrue, yhat)\n",
    "\n",
    "# PRINTING RESULTS ===========================================\n",
    "print(\"4-Class Deployed Model Result\")\n",
    "print(f'Precision: {pre.result().numpy()}  -  Recall: {rec.result().numpy()}')\n",
    "print(f'Accuracy: {c_acc.result().numpy()}')\n",
    "print(f'F1Score: Building {f1_score.result().numpy()[0]} | Plant {f1_score.result().numpy()[1]}')\n",
    "print(f'F1Score: Road {f1_score.result().numpy()[2]} | Vehicle {f1_score.result().numpy()[3]}')\n",
    "    "
   ]
  },
  {
   "cell_type": "code",
   "execution_count": null,
   "id": "f088c12c",
   "metadata": {},
   "outputs": [],
   "source": []
  }
 ],
 "metadata": {
  "kernelspec": {
   "display_name": "neptune",
   "language": "python",
   "name": "neptune"
  },
  "language_info": {
   "codemirror_mode": {
    "name": "ipython",
    "version": 3
   },
   "file_extension": ".py",
   "mimetype": "text/x-python",
   "name": "python",
   "nbconvert_exporter": "python",
   "pygments_lexer": "ipython3",
   "version": "3.10.9"
  }
 },
 "nbformat": 4,
 "nbformat_minor": 5
}
