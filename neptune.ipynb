{
 "cells": [
  {
   "cell_type": "markdown",
   "id": "654fdf86-1ac7-4eb0-8153-7e9a1a61fa78",
   "metadata": {
    "jp-MarkdownHeadingCollapsed": true
   },
   "source": [
    "# READ"
   ]
  },
  {
   "cell_type": "markdown",
   "id": "30e7deed-4595-4611-9254-ad26a45facd3",
   "metadata": {},
   "source": [
    "1. API is in User Variables for User in Environemtn Variables named \"NEPTUNE_API_TOKEN\"\n",
    "2. If internet sucks, set mode to offline\n",
    "4. When offline runs are saved locally, sync it with | neptune sync -p \"New-Thesis/KFold-Test\" --offline-only |\n",
    "- make sure it is in venv mode | (venv) PS C:\\Users\\user\\Documents\\Machine-Learning-Hub-1\\ImageClassification\\Neptune-Thesis> |\n",
    "5. Delete the offline folder or use | neptune clear |"
   ]
  },
  {
   "cell_type": "markdown",
   "id": "348ca800-674e-4b34-9d14-551b8c226b08",
   "metadata": {},
   "source": [
    "# Load Libraries"
   ]
  },
  {
   "cell_type": "code",
   "execution_count": 1,
   "id": "79947b1a-22c4-4658-9375-a7bcbc52590e",
   "metadata": {},
   "outputs": [
    {
     "name": "stdout",
     "output_type": "stream",
     "text": [
      "WARNING:tensorflow:From C:\\Users\\user\\Documents\\Machine-Learning-Hub-1\\ImageClassification\\Neptune-Thesis\\venv\\lib\\site-packages\\keras\\src\\losses.py:2976: The name tf.losses.sparse_softmax_cross_entropy is deprecated. Please use tf.compat.v1.losses.sparse_softmax_cross_entropy instead.\n",
      "\n"
     ]
    }
   ],
   "source": [
    "import tqdm\n",
    "import os\n",
    "import cv2\n",
    "import imghdr\n",
    "import image_to_numpy\n",
    "import numpy as np\n",
    "import seaborn as sns\n",
    "from matplotlib import pyplot as plt\n",
    "from datetime import datetime\n",
    "import itertools\n",
    "from numpy.random import default_rng\n",
    "\n",
    "import tensorflow as tf\n",
    "from tensorflow.keras.models import Sequential\n",
    "from tensorflow.keras.layers import RandomFlip, RandomRotation, RandomContrast, RandomBrightness, Rescaling, Resizing\n",
    "from tensorflow.keras.layers import Conv2D, MaxPooling2D, Flatten, Dense, Dropout, BatchNormalization, ReLU\n",
    "from tensorflow.keras.metrics import F1Score, Precision, Recall, CategoricalAccuracy\n",
    "from tensorboard.plugins.hparams import api as hp\n",
    "import sklearn\n",
    "from sklearn.metrics import classification_report,confusion_matrix\n",
    "from sklearn.model_selection import StratifiedKFold\n",
    "\n",
    "from time import perf_counter\n",
    "import math\n",
    "\n",
    "import neptune\n",
    "from neptune.integrations.tensorflow_keras import NeptuneCallback"
   ]
  },
  {
   "cell_type": "markdown",
   "id": "0eb1457f-83b0-4eb9-8a55-57299e4e4aac",
   "metadata": {},
   "source": [
    "# Initialize Functions"
   ]
  },
  {
   "cell_type": "code",
   "execution_count": 2,
   "id": "28c9f594-9465-4546-8a43-7f7ddefbce80",
   "metadata": {},
   "outputs": [],
   "source": [
    "model_name = \"V4.1.1\"\n",
    "checkpoint_path = f'./checkpoints/{model_name}/FOLD-'"
   ]
  },
  {
   "cell_type": "code",
   "execution_count": 16,
   "id": "27cee80d-5b28-441a-8ec0-67da468c4966",
   "metadata": {},
   "outputs": [],
   "source": [
    "def make_model(params):\n",
    "    model = Sequential()\n",
    "    model.add(RandomFlip(mode='horizontal', seed=1, input_shape=(256,256,3)))\n",
    "    model.add(RandomRotation(factor=0.2, seed=1))\n",
    "    \n",
    "    model.add(Conv2D(input_shape=(256,256,3), filters=32, kernel_size=(3,3), padding=\"same\"))\n",
    "    model.add(Conv2D(filters=32, kernel_size=(3,3), padding=\"same\"))\n",
    "    model.add(BatchNormalization(epsilon=0.0001))\n",
    "    model.add(ReLU())\n",
    "    model.add(MaxPooling2D())\n",
    "    \n",
    "    model.add(Conv2D(filters=64, kernel_size=(3,3), padding=\"same\"))\n",
    "    model.add(Conv2D(filters=64, kernel_size=(3,3), padding=\"same\"))\n",
    "    model.add(BatchNormalization(epsilon=0.0001))\n",
    "    model.add(ReLU())\n",
    "    model.add(MaxPooling2D())\n",
    "    \n",
    "    model.add(Conv2D(filters=128, kernel_size=(3,3), padding=\"same\"))\n",
    "    model.add(Conv2D(filters=128, kernel_size=(3,3), padding=\"same\"))\n",
    "    model.add(BatchNormalization(epsilon=0.0001))\n",
    "    model.add(ReLU())\n",
    "    model.add(MaxPooling2D())\n",
    "    \n",
    "    model.add(Flatten())\n",
    "    model.add(Dropout(0.2, seed=1))\n",
    "    model.add(Dense(units=128,activation=\"relu\"))\n",
    "    model.add(Dropout(0.2, seed=1))\n",
    "    model.add(Dense(units=128,activation=\"relu\"))\n",
    "    \n",
    "    model.add(Dense(units=4, activation=\"softmax\"))\n",
    "\n",
    "\n",
    "    optimizer = tf.keras.optimizers.Adam(\n",
    "        learning_rate=params[\"lr\"],\n",
    "    )\n",
    "    \n",
    "    model.compile(optimizer, loss='categorical_crossentropy', metrics=['accuracy'])\n",
    "    return model"
   ]
  },
  {
   "cell_type": "code",
   "execution_count": 4,
   "id": "022580a2-bbb0-46de-80d2-b93e647275c4",
   "metadata": {},
   "outputs": [],
   "source": [
    "def create_callbacks(counter):\n",
    "    neptune_cbk = NeptuneCallback(run=run, base_namespace=\"training\")\n",
    "\n",
    "    cp_callback = tf.keras.callbacks.ModelCheckpoint(filepath=checkpoint_path + str(counter), \n",
    "                                                                 monitor='val_loss', \n",
    "                                                                 mode='auto', \n",
    "                                                                 save_best_only=True, \n",
    "                                                                 verbose=1)\n",
    "    es_callback = tf.keras.callbacks.EarlyStopping(monitor='val_loss', \n",
    "                                                   patience=23,\n",
    "                                                  )\n",
    "    reduce_lr = tf.keras.callbacks.ReduceLROnPlateau(monitor='val_loss', \n",
    "                                                         factor=0.6, \n",
    "                                                         patience=10, \n",
    "                                                         min_delta=0.001, \n",
    "                                                         mode='auto', \n",
    "                                                         verbose=1)\n",
    "    return [neptune_cbk, reduce_lr, cp_callback, es_callback]"
   ]
  },
  {
   "cell_type": "code",
   "execution_count": 5,
   "id": "98d16a35-875d-4cff-abd0-6f554224f314",
   "metadata": {},
   "outputs": [],
   "source": [
    "def plot_loss(hist):\n",
    "    fig = plt.figure(figsize=(3,2))\n",
    "    plt.plot(hist.history['loss'], color='teal', label='loss')\n",
    "    plt.plot(hist.history['val_loss'], color='orange', label='val_loss')\n",
    "    plt.suptitle('Loss')\n",
    "    plt.legend(loc='upper right')\n",
    "    plt.show()\n",
    "    return fig"
   ]
  },
  {
   "cell_type": "code",
   "execution_count": 6,
   "id": "3ba83bd7-0b4b-43fc-8484-9f695a1f0039",
   "metadata": {},
   "outputs": [],
   "source": [
    "def plot_acc(hist):\n",
    "    fig = plt.figure(figsize=(3,2))\n",
    "    plt.plot(hist.history['accuracy'], color='teal', label='acc')\n",
    "    plt.plot(hist.history['val_accuracy'], color='orange', label='val_acc')\n",
    "    plt.suptitle('Accuracy')\n",
    "    plt.legend(loc='upper left')\n",
    "    plt.show()\n",
    "    return fig"
   ]
  },
  {
   "cell_type": "code",
   "execution_count": 7,
   "id": "8b527cae-cd2f-4cf0-8ad8-03355050b95c",
   "metadata": {},
   "outputs": [],
   "source": [
    "def avg_rate(metric_list):\n",
    "    return sum(metric_list) / len(metric_list)"
   ]
  },
  {
   "cell_type": "markdown",
   "id": "e27ee883-af64-4f8a-980d-d7936a9d6c9b",
   "metadata": {},
   "source": [
    "# Prepare Dataset"
   ]
  },
  {
   "cell_type": "code",
   "execution_count": 8,
   "id": "77bf8dc5-2d83-4b0a-ab84-007f05ccaa5a",
   "metadata": {},
   "outputs": [],
   "source": [
    "labels = ['Building', 'Plant', 'Road', 'Vehicle']\n",
    "X_train = []\n",
    "y_train = []\n",
    "y_label_idx = []\n",
    "image_size = 256\n",
    "for i in labels:\n",
    "    folderPath = os.path.join('D:\\DATASETS\\For-Thesis\\Labels', i)\n",
    "    for j in os.listdir(folderPath):\n",
    "        img = image_to_numpy.load_image_file(os.path.join(folderPath,j))\n",
    "        img = cv2.resize(img,(image_size, image_size))\n",
    "        X_train.append(img)\n",
    "        y_label_idx.append(labels.index(i))"
   ]
  },
  {
   "cell_type": "code",
   "execution_count": 9,
   "id": "86dd841d-f1af-4c0a-9557-55d800db547b",
   "metadata": {},
   "outputs": [],
   "source": [
    "X_train = np.array(X_train)\n",
    "y_label_idx = np.array(y_label_idx)\n",
    "\n",
    "X_train_scaled = X_train.astype(np.float32) / 255.0"
   ]
  },
  {
   "cell_type": "code",
   "execution_count": 10,
   "id": "569494d1-0259-4eaa-bcbe-89a567ac7203",
   "metadata": {},
   "outputs": [],
   "source": [
    "rng = default_rng(seed=1)\n",
    "\n",
    "buildings_test_idx = rng.choice(np.arange(0,600), size=120, replace=False)\n",
    "plants_test_idx = rng.choice(np.arange(600,1200), size=120, replace=False)\n",
    "roads_test_idx = rng.choice(np.arange(1200,1800), size=120, replace=False)\n",
    "vehicles_test_idx = rng.choice(np.arange(1800,2400), size=120, replace=False)\n",
    "total_test_idx = np.concatenate((buildings_test_idx, plants_test_idx, roads_test_idx, vehicles_test_idx), axis=None)"
   ]
  },
  {
   "cell_type": "code",
   "execution_count": 11,
   "id": "1b38d76e-94d9-442c-8025-11352e7a091d",
   "metadata": {},
   "outputs": [],
   "source": [
    "def train_test_X(X_train_scaled):    \n",
    "    test_x = X_train_scaled[total_test_idx]\n",
    "    train_x = np.delete(X_train_scaled, total_test_idx, axis=0)\n",
    "    return train_x, test_x\n",
    "\n",
    "def train_test_y(y_label_idx):\n",
    "    test_y = y_label_idx[total_test_idx]\n",
    "    train_y = np.delete(y_label_idx, total_test_idx, axis=0)\n",
    "    return train_y, test_y"
   ]
  },
  {
   "cell_type": "code",
   "execution_count": 12,
   "id": "cb0d422e-be3d-4544-84f8-1b5f39fd52af",
   "metadata": {},
   "outputs": [],
   "source": [
    "train_x, holdout_x = train_test_X(X_train_scaled)\n",
    "train_y, holdout_y = train_test_y(y_label_idx)"
   ]
  },
  {
   "cell_type": "code",
   "execution_count": 13,
   "id": "746890dd-29f8-433f-8a17-1b8e9444ce77",
   "metadata": {},
   "outputs": [
    {
     "name": "stdout",
     "output_type": "stream",
     "text": [
      "1920 480\n"
     ]
    }
   ],
   "source": [
    "print(len(train_x), len(holdout_x))"
   ]
  },
  {
   "cell_type": "code",
   "execution_count": 14,
   "id": "c4b2ae4a-5a0e-439d-9ece-c5a8a3d2fecd",
   "metadata": {},
   "outputs": [
    {
     "name": "stdout",
     "output_type": "stream",
     "text": [
      "[0 0 0 0 0]\n"
     ]
    }
   ],
   "source": [
    "print(train_y[:5])"
   ]
  },
  {
   "cell_type": "code",
   "execution_count": 15,
   "id": "7c75f07f-09ee-4037-83fb-d2bea64c4b02",
   "metadata": {},
   "outputs": [],
   "source": [
    "# Inidices remain the same thanks to the seed (set to 1)\n",
    "# with open('total_test_idx.txt', 'w+') as f:\n",
    "     \n",
    "#     # write elements of list\n",
    "#     for items in total_test_idx:\n",
    "#         f.write('%s ' %items)\n",
    "     \n",
    "#     print(\"File written successfully\")\n",
    " \n",
    " \n",
    "# # close the file\n",
    "# f.close()"
   ]
  },
  {
   "cell_type": "markdown",
   "id": "a10b3d75-dfe3-4d66-a5c7-b46073861043",
   "metadata": {},
   "source": [
    "# Run KFOLD"
   ]
  },
  {
   "cell_type": "code",
   "execution_count": 17,
   "id": "97c647dc-35a6-4391-80b6-1db5643a1820",
   "metadata": {},
   "outputs": [],
   "source": [
    "kfold = StratifiedKFold(n_splits=8, shuffle=True, random_state=1)"
   ]
  },
  {
   "cell_type": "code",
   "execution_count": 18,
   "id": "f4679eae-6da1-4f77-8dd2-bf6b2a248908",
   "metadata": {},
   "outputs": [],
   "source": [
    "project_name = \"New-Thesis/KFold-Test\"\n",
    "# api_token = <It is already initialized in environemnt variables>\n",
    "params = {\n",
    "    \"lr\": 0.0015, \n",
    "    \"epochs\": 45, \n",
    "    \"batch_size\": 8}"
   ]
  },
  {
   "cell_type": "code",
   "execution_count": 19,
   "id": "e13eae77-d4a9-4c8a-8571-b1249e13a124",
   "metadata": {},
   "outputs": [],
   "source": [
    "# run.stop()"
   ]
  },
  {
   "cell_type": "code",
   "execution_count": 20,
   "id": "2061b0ab-2132-4f3b-94cc-d5584da402ad",
   "metadata": {},
   "outputs": [
    {
     "name": "stderr",
     "output_type": "stream",
     "text": [
      "[neptune] [warning] NeptuneWarning: The following monitoring options are disabled by default in interactive sessions: 'capture_stdout', 'capture_stderr', 'capture_traceback', and 'capture_hardware_metrics'. To enable them, set each parameter to 'True' when initializing the run. The monitoring will continue until you call run.stop() or the kernel stops. Also note: Your source files can only be tracked if you pass the path(s) to the 'source_code' argument. For help, see the Neptune docs: https://docs.neptune.ai/logging/source_code/\n"
     ]
    },
    {
     "name": "stdout",
     "output_type": "stream",
     "text": [
      "[neptune] [info   ] Neptune initialized. Open in the app: offline/c5d0b559-9fe3-4f79-b441-761d793791ac\n",
      "WARNING:tensorflow:From C:\\Users\\user\\Documents\\Machine-Learning-Hub-1\\ImageClassification\\Neptune-Thesis\\venv\\lib\\site-packages\\keras\\src\\backend.py:873: The name tf.get_default_graph is deprecated. Please use tf.compat.v1.get_default_graph instead.\n",
      "\n",
      "WARNING:tensorflow:From C:\\Users\\user\\Documents\\Machine-Learning-Hub-1\\ImageClassification\\Neptune-Thesis\\venv\\lib\\site-packages\\keras\\src\\layers\\normalization\\batch_normalization.py:979: The name tf.nn.fused_batch_norm is deprecated. Please use tf.compat.v1.nn.fused_batch_norm instead.\n",
      "\n",
      "Epoch 1/45\n",
      "WARNING:tensorflow:From C:\\Users\\user\\Documents\\Machine-Learning-Hub-1\\ImageClassification\\Neptune-Thesis\\venv\\lib\\site-packages\\keras\\src\\utils\\tf_utils.py:492: The name tf.ragged.RaggedTensorValue is deprecated. Please use tf.compat.v1.ragged.RaggedTensorValue instead.\n",
      "\n",
      "WARNING:tensorflow:From C:\\Users\\user\\Documents\\Machine-Learning-Hub-1\\ImageClassification\\Neptune-Thesis\\venv\\lib\\site-packages\\keras\\src\\engine\\base_layer_utils.py:384: The name tf.executing_eagerly_outside_functions is deprecated. Please use tf.compat.v1.executing_eagerly_outside_functions instead.\n",
      "\n",
      "210/210 [==============================] - ETA: 0s - loss: 12.2210 - accuracy: 0.3536\n",
      "Epoch 1: val_loss improved from inf to 2.47975, saving model to ./checkpoints/V4.1.1\\FOLD-0\n",
      "INFO:tensorflow:Assets written to: ./checkpoints/V4.1.1\\FOLD-0\\assets\n"
     ]
    },
    {
     "name": "stderr",
     "output_type": "stream",
     "text": [
      "INFO:tensorflow:Assets written to: ./checkpoints/V4.1.1\\FOLD-0\\assets\n"
     ]
    },
    {
     "name": "stdout",
     "output_type": "stream",
     "text": [
      "210/210 [==============================] - 372s 2s/step - loss: 12.2210 - accuracy: 0.3536 - val_loss: 2.4798 - val_accuracy: 0.3792 - lr: 0.0015\n",
      "Epoch 2/45\n",
      "210/210 [==============================] - ETA: 0s - loss: 1.3860 - accuracy: 0.2589\n",
      "Epoch 2: val_loss improved from 2.47975 to 1.37829, saving model to ./checkpoints/V4.1.1\\FOLD-0\n",
      "INFO:tensorflow:Assets written to: ./checkpoints/V4.1.1\\FOLD-0\\assets\n"
     ]
    },
    {
     "name": "stderr",
     "output_type": "stream",
     "text": [
      "INFO:tensorflow:Assets written to: ./checkpoints/V4.1.1\\FOLD-0\\assets\n"
     ]
    },
    {
     "name": "stdout",
     "output_type": "stream",
     "text": [
      "210/210 [==============================] - 380s 2s/step - loss: 1.3860 - accuracy: 0.2589 - val_loss: 1.3783 - val_accuracy: 0.2708 - lr: 0.0015\n",
      "Epoch 3/45\n",
      "210/210 [==============================] - ETA: 0s - loss: 1.3359 - accuracy: 0.3470\n",
      "Epoch 3: val_loss improved from 1.37829 to 1.25273, saving model to ./checkpoints/V4.1.1\\FOLD-0\n",
      "INFO:tensorflow:Assets written to: ./checkpoints/V4.1.1\\FOLD-0\\assets\n"
     ]
    },
    {
     "name": "stderr",
     "output_type": "stream",
     "text": [
      "INFO:tensorflow:Assets written to: ./checkpoints/V4.1.1\\FOLD-0\\assets\n"
     ]
    },
    {
     "name": "stdout",
     "output_type": "stream",
     "text": [
      "210/210 [==============================] - 377s 2s/step - loss: 1.3359 - accuracy: 0.3470 - val_loss: 1.2527 - val_accuracy: 0.4042 - lr: 0.0015\n",
      "Epoch 4/45\n",
      "210/210 [==============================] - ETA: 0s - loss: 1.3143 - accuracy: 0.3786\n",
      "Epoch 4: val_loss did not improve from 1.25273\n",
      "210/210 [==============================] - 326s 2s/step - loss: 1.3143 - accuracy: 0.3786 - val_loss: 1.3057 - val_accuracy: 0.4000 - lr: 0.0015\n",
      "Epoch 5/45\n",
      "210/210 [==============================] - ETA: 0s - loss: 1.3432 - accuracy: 0.3619\n",
      "Epoch 5: val_loss did not improve from 1.25273\n",
      "210/210 [==============================] - 315s 1s/step - loss: 1.3432 - accuracy: 0.3619 - val_loss: 1.3458 - val_accuracy: 0.3667 - lr: 0.0015\n",
      "Epoch 6/45\n",
      "210/210 [==============================] - ETA: 0s - loss: 1.3940 - accuracy: 0.2536\n",
      "Epoch 6: val_loss did not improve from 1.25273\n",
      "210/210 [==============================] - 327s 2s/step - loss: 1.3940 - accuracy: 0.2536 - val_loss: 1.3829 - val_accuracy: 0.2625 - lr: 0.0015\n",
      "Epoch 7/45\n",
      "210/210 [==============================] - ETA: 0s - loss: 1.3729 - accuracy: 0.2899\n",
      "Epoch 7: val_loss did not improve from 1.25273\n",
      "210/210 [==============================] - 307s 1s/step - loss: 1.3729 - accuracy: 0.2899 - val_loss: 1.3040 - val_accuracy: 0.3333 - lr: 0.0015\n",
      "Epoch 8/45\n",
      "210/210 [==============================] - ETA: 0s - loss: 1.3524 - accuracy: 0.3250\n",
      "Epoch 8: val_loss did not improve from 1.25273\n",
      "210/210 [==============================] - 305s 1s/step - loss: 1.3524 - accuracy: 0.3250 - val_loss: 1.3276 - val_accuracy: 0.3250 - lr: 0.0015\n",
      "Epoch 9/45\n",
      "210/210 [==============================] - ETA: 0s - loss: 1.3239 - accuracy: 0.3548\n",
      "Epoch 9: val_loss improved from 1.25273 to 1.17439, saving model to ./checkpoints/V4.1.1\\FOLD-0\n",
      "INFO:tensorflow:Assets written to: ./checkpoints/V4.1.1\\FOLD-0\\assets\n"
     ]
    },
    {
     "name": "stderr",
     "output_type": "stream",
     "text": [
      "INFO:tensorflow:Assets written to: ./checkpoints/V4.1.1\\FOLD-0\\assets\n"
     ]
    },
    {
     "name": "stdout",
     "output_type": "stream",
     "text": [
      "210/210 [==============================] - 314s 1s/step - loss: 1.3239 - accuracy: 0.3548 - val_loss: 1.1744 - val_accuracy: 0.5250 - lr: 0.0015\n",
      "Epoch 10/45\n",
      "210/210 [==============================] - ETA: 0s - loss: 1.3729 - accuracy: 0.2905\n",
      "Epoch 10: val_loss did not improve from 1.17439\n",
      "210/210 [==============================] - 306s 1s/step - loss: 1.3729 - accuracy: 0.2905 - val_loss: 1.3811 - val_accuracy: 0.2625 - lr: 0.0015\n",
      "Epoch 11/45\n",
      "210/210 [==============================] - ETA: 0s - loss: 1.3883 - accuracy: 0.2720\n",
      "Epoch 11: val_loss did not improve from 1.17439\n",
      "210/210 [==============================] - 305s 1s/step - loss: 1.3883 - accuracy: 0.2720 - val_loss: 1.3822 - val_accuracy: 0.2667 - lr: 0.0015\n",
      "Epoch 12/45\n",
      "210/210 [==============================] - ETA: 0s - loss: 1.3772 - accuracy: 0.2619\n",
      "Epoch 12: val_loss did not improve from 1.17439\n",
      "210/210 [==============================] - 304s 1s/step - loss: 1.3772 - accuracy: 0.2619 - val_loss: 1.3928 - val_accuracy: 0.4167 - lr: 0.0015\n",
      "Epoch 13/45\n",
      "210/210 [==============================] - ETA: 0s - loss: 1.3746 - accuracy: 0.2786\n",
      "Epoch 13: val_loss did not improve from 1.17439\n",
      "210/210 [==============================] - 306s 1s/step - loss: 1.3746 - accuracy: 0.2786 - val_loss: 1.3950 - val_accuracy: 0.2667 - lr: 0.0015\n",
      "Epoch 14/45\n",
      "210/210 [==============================] - ETA: 0s - loss: 1.3827 - accuracy: 0.2685\n",
      "Epoch 14: val_loss did not improve from 1.17439\n",
      "210/210 [==============================] - 304s 1s/step - loss: 1.3827 - accuracy: 0.2685 - val_loss: 1.3859 - val_accuracy: 0.2542 - lr: 0.0015\n",
      "Epoch 15/45\n",
      "210/210 [==============================] - ETA: 0s - loss: 1.3855 - accuracy: 0.2339\n",
      "Epoch 15: val_loss did not improve from 1.17439\n",
      "210/210 [==============================] - 310s 1s/step - loss: 1.3855 - accuracy: 0.2339 - val_loss: 1.3778 - val_accuracy: 0.2667 - lr: 0.0015\n",
      "Epoch 16/45\n",
      "210/210 [==============================] - ETA: 0s - loss: 1.3861 - accuracy: 0.2417\n",
      "Epoch 16: val_loss did not improve from 1.17439\n",
      "210/210 [==============================] - 306s 1s/step - loss: 1.3861 - accuracy: 0.2417 - val_loss: 1.3748 - val_accuracy: 0.2625 - lr: 0.0015\n",
      "Epoch 17/45\n",
      "210/210 [==============================] - ETA: 0s - loss: 1.3825 - accuracy: 0.2423\n",
      "Epoch 17: val_loss did not improve from 1.17439\n",
      "210/210 [==============================] - 304s 1s/step - loss: 1.3825 - accuracy: 0.2423 - val_loss: 1.3762 - val_accuracy: 0.3208 - lr: 0.0015\n",
      "Epoch 18/45\n",
      "210/210 [==============================] - ETA: 0s - loss: 1.3877 - accuracy: 0.2363\n",
      "Epoch 18: val_loss did not improve from 1.17439\n",
      "210/210 [==============================] - 304s 1s/step - loss: 1.3877 - accuracy: 0.2363 - val_loss: 1.3864 - val_accuracy: 0.2500 - lr: 0.0015\n",
      "Epoch 19/45\n",
      "210/210 [==============================] - ETA: 0s - loss: 1.3881 - accuracy: 0.2327\n",
      "Epoch 19: ReduceLROnPlateau reducing learning rate to 0.0009000000078231095.\n",
      "\n",
      "Epoch 19: val_loss did not improve from 1.17439\n",
      "210/210 [==============================] - 304s 1s/step - loss: 1.3881 - accuracy: 0.2327 - val_loss: 1.3858 - val_accuracy: 0.2542 - lr: 0.0015\n",
      "Epoch 20/45\n",
      "210/210 [==============================] - ETA: 0s - loss: 1.3862 - accuracy: 0.2226\n",
      "Epoch 20: val_loss did not improve from 1.17439\n",
      "210/210 [==============================] - 303s 1s/step - loss: 1.3862 - accuracy: 0.2226 - val_loss: 1.3858 - val_accuracy: 0.2500 - lr: 9.0000e-04\n",
      "Epoch 21/45\n",
      "210/210 [==============================] - ETA: 0s - loss: 1.3850 - accuracy: 0.2351\n",
      "Epoch 21: val_loss did not improve from 1.17439\n",
      "210/210 [==============================] - 307s 1s/step - loss: 1.3850 - accuracy: 0.2351 - val_loss: 1.3918 - val_accuracy: 0.2500 - lr: 9.0000e-04\n",
      "Epoch 22/45\n",
      "210/210 [==============================] - ETA: 0s - loss: 1.3909 - accuracy: 0.2583\n",
      "Epoch 22: val_loss did not improve from 1.17439\n",
      "210/210 [==============================] - 303s 1s/step - loss: 1.3909 - accuracy: 0.2583 - val_loss: 1.3850 - val_accuracy: 0.2542 - lr: 9.0000e-04\n",
      "Epoch 23/45\n",
      "210/210 [==============================] - ETA: 0s - loss: 1.3869 - accuracy: 0.2363\n",
      "Epoch 23: val_loss did not improve from 1.17439\n",
      "210/210 [==============================] - 304s 1s/step - loss: 1.3869 - accuracy: 0.2363 - val_loss: 1.3863 - val_accuracy: 0.2500 - lr: 9.0000e-04\n",
      "Epoch 24/45\n",
      "210/210 [==============================] - ETA: 0s - loss: 1.3866 - accuracy: 0.2446\n",
      "Epoch 24: val_loss did not improve from 1.17439\n",
      "210/210 [==============================] - 302s 1s/step - loss: 1.3866 - accuracy: 0.2446 - val_loss: 1.3863 - val_accuracy: 0.2500 - lr: 9.0000e-04\n",
      "Epoch 25/45\n",
      "210/210 [==============================] - ETA: 0s - loss: 1.3855 - accuracy: 0.2470\n",
      "Epoch 25: val_loss did not improve from 1.17439\n",
      "210/210 [==============================] - 302s 1s/step - loss: 1.3855 - accuracy: 0.2470 - val_loss: 1.3861 - val_accuracy: 0.2500 - lr: 9.0000e-04\n",
      "Epoch 26/45\n",
      "210/210 [==============================] - ETA: 0s - loss: 1.3857 - accuracy: 0.2327\n",
      "Epoch 26: val_loss did not improve from 1.17439\n",
      "210/210 [==============================] - 303s 1s/step - loss: 1.3857 - accuracy: 0.2327 - val_loss: 1.3863 - val_accuracy: 0.2500 - lr: 9.0000e-04\n",
      "Epoch 27/45\n",
      "210/210 [==============================] - ETA: 0s - loss: 1.3844 - accuracy: 0.2423\n",
      "Epoch 27: val_loss did not improve from 1.17439\n",
      "210/210 [==============================] - 305s 1s/step - loss: 1.3844 - accuracy: 0.2423 - val_loss: 1.3863 - val_accuracy: 0.2500 - lr: 9.0000e-04\n",
      "Epoch 28/45\n",
      "210/210 [==============================] - ETA: 0s - loss: 1.4055 - accuracy: 0.2518\n",
      "Epoch 28: val_loss did not improve from 1.17439\n",
      "210/210 [==============================] - 302s 1s/step - loss: 1.4055 - accuracy: 0.2518 - val_loss: 1.3863 - val_accuracy: 0.2500 - lr: 9.0000e-04\n",
      "Epoch 29/45\n",
      "210/210 [==============================] - ETA: 0s - loss: 1.3870 - accuracy: 0.2381\n",
      "Epoch 29: ReduceLROnPlateau reducing learning rate to 0.0005399999907240271.\n",
      "\n",
      "Epoch 29: val_loss did not improve from 1.17439\n",
      "210/210 [==============================] - 305s 1s/step - loss: 1.3870 - accuracy: 0.2381 - val_loss: 1.3863 - val_accuracy: 0.2500 - lr: 9.0000e-04\n",
      "Epoch 30/45\n",
      "210/210 [==============================] - ETA: 0s - loss: 1.3865 - accuracy: 0.2274\n",
      "Epoch 30: val_loss did not improve from 1.17439\n",
      "210/210 [==============================] - 303s 1s/step - loss: 1.3865 - accuracy: 0.2274 - val_loss: 1.3881 - val_accuracy: 0.2500 - lr: 5.4000e-04\n",
      "Epoch 31/45\n",
      "210/210 [==============================] - ETA: 0s - loss: 1.3880 - accuracy: 0.2357\n",
      "Epoch 31: val_loss did not improve from 1.17439\n",
      "210/210 [==============================] - 303s 1s/step - loss: 1.3880 - accuracy: 0.2357 - val_loss: 1.3863 - val_accuracy: 0.2500 - lr: 5.4000e-04\n",
      "Epoch 32/45\n",
      "210/210 [==============================] - ETA: 0s - loss: 1.3867 - accuracy: 0.2470\n",
      "Epoch 32: val_loss did not improve from 1.17439\n",
      "210/210 [==============================] - 304s 1s/step - loss: 1.3867 - accuracy: 0.2470 - val_loss: 1.3863 - val_accuracy: 0.2500 - lr: 5.4000e-04\n"
     ]
    },
    {
     "data": {
      "image/png": "[encoded data removed]",
      "text/plain": [
       "<Figure size 300x200 with 1 Axes>"
      ]
     },
     "metadata": {},
     "output_type": "display_data"
    },
    {
     "data": {
      "image/png": "[encoded data removed]",
      "text/plain": [
       "<Figure size 300x200 with 1 Axes>"
      ]
     },
     "metadata": {},
     "output_type": "display_data"
    },
    {
     "name": "stdout",
     "output_type": "stream",
     "text": [
      "WARNING:tensorflow:From C:\\Users\\user\\Documents\\Machine-Learning-Hub-1\\ImageClassification\\Neptune-Thesis\\venv\\lib\\site-packages\\keras\\src\\saving\\legacy\\saved_model\\load.py:107: The name tf.gfile.Exists is deprecated. Please use tf.io.gfile.exists instead.\n",
      "\n"
     ]
    },
    {
     "name": "stderr",
     "output_type": "stream",
     "text": [
      "WARNING:tensorflow:From C:\\Users\\user\\Documents\\Machine-Learning-Hub-1\\ImageClassification\\Neptune-Thesis\\venv\\lib\\site-packages\\keras\\src\\saving\\legacy\\saved_model\\load.py:107: The name tf.gfile.Exists is deprecated. Please use tf.io.gfile.exists instead.\n",
      "\n"
     ]
    },
    {
     "name": "stdout",
     "output_type": "stream",
     "text": [
      "Fold Training Time: 2 hour(s) and 47 mins\n",
      "Precision: 57.999998331069946  -  Recall: 12.083332985639572\n",
      "Accuracy: 52.49999761581421\n",
      "F1Score: Building 39.17525863647461 | Plant 3.278688669204712 | Road 69.8795166015625 | Vehicle 61.5384635925293\n",
      "[neptune] [info   ] Shutting down background jobs, please wait a moment...\n",
      "[neptune] [info   ] Done!\n",
      "[neptune] [info   ] Neptune initialized. Open in the app: offline/3ec2a709-55bb-4111-b384-97e57f52bb42\n",
      "Epoch 1/45\n",
      "210/210 [==============================] - ETA: 0s - loss: 9.9445 - accuracy: 0.4042\n",
      "Epoch 1: val_loss improved from inf to 1.38300, saving model to ./checkpoints/V4.1.1\\FOLD-1\n",
      "INFO:tensorflow:Assets written to: ./checkpoints/V4.1.1\\FOLD-1\\assets\n"
     ]
    },
    {
     "name": "stderr",
     "output_type": "stream",
     "text": [
      "INFO:tensorflow:Assets written to: ./checkpoints/V4.1.1\\FOLD-1\\assets\n"
     ]
    },
    {
     "name": "stdout",
     "output_type": "stream",
     "text": [
      "210/210 [==============================] - 315s 1s/step - loss: 9.9445 - accuracy: 0.4042 - val_loss: 1.3830 - val_accuracy: 0.2542 - lr: 0.0015\n",
      "Epoch 2/45\n",
      "210/210 [==============================] - ETA: 0s - loss: 1.2699 - accuracy: 0.3905\n",
      "Epoch 2: val_loss improved from 1.38300 to 1.29626, saving model to ./checkpoints/V4.1.1\\FOLD-1\n",
      "INFO:tensorflow:Assets written to: ./checkpoints/V4.1.1\\FOLD-1\\assets\n"
     ]
    },
    {
     "name": "stderr",
     "output_type": "stream",
     "text": [
      "INFO:tensorflow:Assets written to: ./checkpoints/V4.1.1\\FOLD-1\\assets\n"
     ]
    },
    {
     "name": "stdout",
     "output_type": "stream",
     "text": [
      "210/210 [==============================] - 307s 1s/step - loss: 1.2699 - accuracy: 0.3905 - val_loss: 1.2963 - val_accuracy: 0.3375 - lr: 0.0015\n",
      "Epoch 3/45\n",
      "210/210 [==============================] - ETA: 0s - loss: 1.2451 - accuracy: 0.4131\n",
      "Epoch 3: val_loss did not improve from 1.29626\n",
      "210/210 [==============================] - 301s 1s/step - loss: 1.2451 - accuracy: 0.4131 - val_loss: 2.0747 - val_accuracy: 0.2958 - lr: 0.0015\n",
      "Epoch 4/45\n",
      "210/210 [==============================] - ETA: 0s - loss: 1.2101 - accuracy: 0.4226\n",
      "Epoch 4: val_loss did not improve from 1.29626\n",
      "210/210 [==============================] - 300s 1s/step - loss: 1.2101 - accuracy: 0.4226 - val_loss: 1.3835 - val_accuracy: 0.3958 - lr: 0.0015\n",
      "Epoch 5/45\n",
      "210/210 [==============================] - ETA: 0s - loss: 1.1953 - accuracy: 0.4048\n",
      "Epoch 5: val_loss did not improve from 1.29626\n",
      "210/210 [==============================] - 300s 1s/step - loss: 1.1953 - accuracy: 0.4048 - val_loss: 1.4346 - val_accuracy: 0.2667 - lr: 0.0015\n",
      "Epoch 6/45\n",
      "210/210 [==============================] - ETA: 0s - loss: 1.2503 - accuracy: 0.3625\n",
      "Epoch 6: val_loss did not improve from 1.29626\n",
      "210/210 [==============================] - 299s 1s/step - loss: 1.2503 - accuracy: 0.3625 - val_loss: 1.3330 - val_accuracy: 0.3125 - lr: 0.0015\n",
      "Epoch 7/45\n",
      "210/210 [==============================] - ETA: 0s - loss: 1.2217 - accuracy: 0.3774\n",
      "Epoch 7: val_loss did not improve from 1.29626\n",
      "210/210 [==============================] - 303s 1s/step - loss: 1.2217 - accuracy: 0.3774 - val_loss: 1.4165 - val_accuracy: 0.3208 - lr: 0.0015\n",
      "Epoch 8/45\n",
      "210/210 [==============================] - ETA: 0s - loss: 1.2008 - accuracy: 0.4030\n",
      "Epoch 8: val_loss did not improve from 1.29626\n",
      "210/210 [==============================] - 300s 1s/step - loss: 1.2008 - accuracy: 0.4030 - val_loss: 5.3631 - val_accuracy: 0.2500 - lr: 0.0015\n",
      "Epoch 9/45\n",
      "210/210 [==============================] - ETA: 0s - loss: 1.2278 - accuracy: 0.3750\n",
      "Epoch 9: val_loss improved from 1.29626 to 1.13220, saving model to ./checkpoints/V4.1.1\\FOLD-1\n",
      "INFO:tensorflow:Assets written to: ./checkpoints/V4.1.1\\FOLD-1\\assets\n"
     ]
    },
    {
     "name": "stderr",
     "output_type": "stream",
     "text": [
      "INFO:tensorflow:Assets written to: ./checkpoints/V4.1.1\\FOLD-1\\assets\n"
     ]
    },
    {
     "name": "stdout",
     "output_type": "stream",
     "text": [
      "210/210 [==============================] - 306s 1s/step - loss: 1.2278 - accuracy: 0.3750 - val_loss: 1.1322 - val_accuracy: 0.4125 - lr: 0.0015\n",
      "Epoch 10/45\n",
      "210/210 [==============================] - ETA: 0s - loss: 1.2429 - accuracy: 0.3833\n",
      "Epoch 10: val_loss did not improve from 1.13220\n",
      "210/210 [==============================] - 301s 1s/step - loss: 1.2429 - accuracy: 0.3833 - val_loss: 1.2130 - val_accuracy: 0.3708 - lr: 0.0015\n",
      "Epoch 11/45\n",
      "210/210 [==============================] - ETA: 0s - loss: 1.2399 - accuracy: 0.3964\n",
      "Epoch 11: val_loss improved from 1.13220 to 1.00756, saving model to ./checkpoints/V4.1.1\\FOLD-1\n",
      "INFO:tensorflow:Assets written to: ./checkpoints/V4.1.1\\FOLD-1\\assets\n"
     ]
    },
    {
     "name": "stderr",
     "output_type": "stream",
     "text": [
      "INFO:tensorflow:Assets written to: ./checkpoints/V4.1.1\\FOLD-1\\assets\n"
     ]
    },
    {
     "name": "stdout",
     "output_type": "stream",
     "text": [
      "210/210 [==============================] - 308s 1s/step - loss: 1.2399 - accuracy: 0.3964 - val_loss: 1.0076 - val_accuracy: 0.4792 - lr: 0.0015\n",
      "Epoch 12/45\n",
      "210/210 [==============================] - ETA: 0s - loss: 1.1544 - accuracy: 0.4179\n",
      "Epoch 12: val_loss did not improve from 1.00756\n",
      "210/210 [==============================] - 304s 1s/step - loss: 1.1544 - accuracy: 0.4179 - val_loss: 1.3255 - val_accuracy: 0.3292 - lr: 0.0015\n",
      "Epoch 13/45\n",
      "210/210 [==============================] - ETA: 0s - loss: 1.2313 - accuracy: 0.3863\n",
      "Epoch 13: val_loss did not improve from 1.00756\n",
      "210/210 [==============================] - 311s 1s/step - loss: 1.2313 - accuracy: 0.3863 - val_loss: 2.5909 - val_accuracy: 0.3375 - lr: 0.0015\n",
      "Epoch 14/45\n",
      "210/210 [==============================] - ETA: 0s - loss: 1.1976 - accuracy: 0.3994\n",
      "Epoch 14: val_loss did not improve from 1.00756\n",
      "210/210 [==============================] - 310s 1s/step - loss: 1.1976 - accuracy: 0.3994 - val_loss: 1.3673 - val_accuracy: 0.4375 - lr: 0.0015\n",
      "Epoch 15/45\n",
      "210/210 [==============================] - ETA: 0s - loss: 1.2755 - accuracy: 0.3440\n",
      "Epoch 15: val_loss did not improve from 1.00756\n",
      "210/210 [==============================] - 301s 1s/step - loss: 1.2755 - accuracy: 0.3440 - val_loss: 1.3551 - val_accuracy: 0.2833 - lr: 0.0015\n",
      "Epoch 16/45\n",
      "210/210 [==============================] - ETA: 0s - loss: 1.2390 - accuracy: 0.3702\n",
      "Epoch 16: val_loss did not improve from 1.00756\n",
      "210/210 [==============================] - 301s 1s/step - loss: 1.2390 - accuracy: 0.3702 - val_loss: 1.0420 - val_accuracy: 0.4500 - lr: 0.0015\n",
      "Epoch 17/45\n",
      "210/210 [==============================] - ETA: 0s - loss: 1.1874 - accuracy: 0.3929\n",
      "Epoch 17: val_loss did not improve from 1.00756\n",
      "210/210 [==============================] - 302s 1s/step - loss: 1.1874 - accuracy: 0.3929 - val_loss: 1.1121 - val_accuracy: 0.4292 - lr: 0.0015\n",
      "Epoch 18/45\n",
      "210/210 [==============================] - ETA: 0s - loss: 1.2450 - accuracy: 0.3643\n",
      "Epoch 18: val_loss did not improve from 1.00756\n",
      "210/210 [==============================] - 309s 1s/step - loss: 1.2450 - accuracy: 0.3643 - val_loss: 1.6750 - val_accuracy: 0.4583 - lr: 0.0015\n",
      "Epoch 19/45\n",
      "210/210 [==============================] - ETA: 0s - loss: 1.1965 - accuracy: 0.3970\n",
      "Epoch 19: val_loss did not improve from 1.00756\n",
      "210/210 [==============================] - 301s 1s/step - loss: 1.1965 - accuracy: 0.3970 - val_loss: 2.8753 - val_accuracy: 0.4042 - lr: 0.0015\n",
      "Epoch 20/45\n",
      "210/210 [==============================] - ETA: 0s - loss: 1.1711 - accuracy: 0.3863\n",
      "Epoch 20: val_loss did not improve from 1.00756\n",
      "210/210 [==============================] - 300s 1s/step - loss: 1.1711 - accuracy: 0.3863 - val_loss: 1.2628 - val_accuracy: 0.4458 - lr: 0.0015\n",
      "Epoch 21/45\n",
      "210/210 [==============================] - ETA: 0s - loss: 1.1738 - accuracy: 0.3958\n",
      "Epoch 21: ReduceLROnPlateau reducing learning rate to 0.0009000000078231095.\n",
      "\n",
      "Epoch 21: val_loss did not improve from 1.00756\n",
      "210/210 [==============================] - 300s 1s/step - loss: 1.1738 - accuracy: 0.3958 - val_loss: 1.1994 - val_accuracy: 0.4708 - lr: 0.0015\n",
      "Epoch 22/45\n",
      "210/210 [==============================] - ETA: 0s - loss: 1.1832 - accuracy: 0.3750\n",
      "Epoch 22: val_loss did not improve from 1.00756\n",
      "210/210 [==============================] - 301s 1s/step - loss: 1.1832 - accuracy: 0.3750 - val_loss: 1.1955 - val_accuracy: 0.4667 - lr: 9.0000e-04\n",
      "Epoch 23/45\n",
      "210/210 [==============================] - ETA: 0s - loss: 1.1551 - accuracy: 0.4006\n",
      "Epoch 23: val_loss did not improve from 1.00756\n",
      "210/210 [==============================] - 301s 1s/step - loss: 1.1551 - accuracy: 0.4006 - val_loss: 1.2958 - val_accuracy: 0.3375 - lr: 9.0000e-04\n",
      "Epoch 24/45\n",
      "210/210 [==============================] - ETA: 0s - loss: 1.1802 - accuracy: 0.4131\n",
      "Epoch 24: val_loss did not improve from 1.00756\n",
      "210/210 [==============================] - 300s 1s/step - loss: 1.1802 - accuracy: 0.4131 - val_loss: 2.0646 - val_accuracy: 0.3042 - lr: 9.0000e-04\n",
      "Epoch 25/45\n",
      "210/210 [==============================] - ETA: 0s - loss: 1.1348 - accuracy: 0.4131\n",
      "Epoch 25: val_loss did not improve from 1.00756\n",
      "210/210 [==============================] - 301s 1s/step - loss: 1.1348 - accuracy: 0.4131 - val_loss: 1.0141 - val_accuracy: 0.4542 - lr: 9.0000e-04\n",
      "Epoch 26/45\n",
      "210/210 [==============================] - ETA: 0s - loss: 1.1218 - accuracy: 0.4149\n",
      "Epoch 26: val_loss did not improve from 1.00756\n",
      "210/210 [==============================] - 299s 1s/step - loss: 1.1218 - accuracy: 0.4149 - val_loss: 1.3104 - val_accuracy: 0.4083 - lr: 9.0000e-04\n",
      "Epoch 27/45\n",
      "210/210 [==============================] - ETA: 0s - loss: 1.0999 - accuracy: 0.4244\n",
      "Epoch 27: val_loss did not improve from 1.00756\n",
      "210/210 [==============================] - 300s 1s/step - loss: 1.0999 - accuracy: 0.4244 - val_loss: 1.0412 - val_accuracy: 0.4542 - lr: 9.0000e-04\n",
      "Epoch 28/45\n",
      "210/210 [==============================] - ETA: 0s - loss: 1.1228 - accuracy: 0.4214\n",
      "Epoch 28: val_loss did not improve from 1.00756\n",
      "210/210 [==============================] - 301s 1s/step - loss: 1.1228 - accuracy: 0.4214 - val_loss: 1.1144 - val_accuracy: 0.4583 - lr: 9.0000e-04\n",
      "Epoch 29/45\n",
      "210/210 [==============================] - ETA: 0s - loss: 1.0733 - accuracy: 0.4387\n",
      "Epoch 29: val_loss did not improve from 1.00756\n",
      "210/210 [==============================] - 300s 1s/step - loss: 1.0733 - accuracy: 0.4387 - val_loss: 1.8836 - val_accuracy: 0.3042 - lr: 9.0000e-04\n",
      "Epoch 30/45\n",
      "210/210 [==============================] - ETA: 0s - loss: 1.1756 - accuracy: 0.4173\n",
      "Epoch 30: val_loss did not improve from 1.00756\n",
      "210/210 [==============================] - 301s 1s/step - loss: 1.1756 - accuracy: 0.4173 - val_loss: 1.2813 - val_accuracy: 0.3750 - lr: 9.0000e-04\n",
      "Epoch 31/45\n",
      "210/210 [==============================] - ETA: 0s - loss: 1.1440 - accuracy: 0.4036\n",
      "Epoch 31: ReduceLROnPlateau reducing learning rate to 0.0005399999907240271.\n",
      "\n",
      "Epoch 31: val_loss did not improve from 1.00756\n",
      "210/210 [==============================] - 301s 1s/step - loss: 1.1440 - accuracy: 0.4036 - val_loss: 1.2614 - val_accuracy: 0.3417 - lr: 9.0000e-04\n",
      "Epoch 32/45\n",
      "210/210 [==============================] - ETA: 0s - loss: 1.0791 - accuracy: 0.4405\n",
      "Epoch 32: val_loss did not improve from 1.00756\n",
      "210/210 [==============================] - 300s 1s/step - loss: 1.0791 - accuracy: 0.4405 - val_loss: 3.3940 - val_accuracy: 0.2500 - lr: 5.4000e-04\n",
      "Epoch 33/45\n",
      "210/210 [==============================] - ETA: 0s - loss: 1.0769 - accuracy: 0.4548\n",
      "Epoch 33: val_loss did not improve from 1.00756\n",
      "210/210 [==============================] - 300s 1s/step - loss: 1.0769 - accuracy: 0.4548 - val_loss: 2.0137 - val_accuracy: 0.3375 - lr: 5.4000e-04\n",
      "Epoch 34/45\n",
      "210/210 [==============================] - ETA: 0s - loss: 1.0453 - accuracy: 0.4500\n",
      "Epoch 34: val_loss improved from 1.00756 to 1.00207, saving model to ./checkpoints/V4.1.1\\FOLD-1\n",
      "INFO:tensorflow:Assets written to: ./checkpoints/V4.1.1\\FOLD-1\\assets\n"
     ]
    },
    {
     "name": "stderr",
     "output_type": "stream",
     "text": [
      "INFO:tensorflow:Assets written to: ./checkpoints/V4.1.1\\FOLD-1\\assets\n"
     ]
    },
    {
     "name": "stdout",
     "output_type": "stream",
     "text": [
      "210/210 [==============================] - 307s 1s/step - loss: 1.0453 - accuracy: 0.4500 - val_loss: 1.0021 - val_accuracy: 0.4750 - lr: 5.4000e-04\n",
      "Epoch 35/45\n",
      "210/210 [==============================] - ETA: 0s - loss: 1.0371 - accuracy: 0.4661\n",
      "Epoch 35: val_loss did not improve from 1.00207\n",
      "210/210 [==============================] - 299s 1s/step - loss: 1.0371 - accuracy: 0.4661 - val_loss: 1.2234 - val_accuracy: 0.4625 - lr: 5.4000e-04\n",
      "Epoch 36/45\n",
      "210/210 [==============================] - ETA: 0s - loss: 1.0053 - accuracy: 0.4625\n",
      "Epoch 36: val_loss did not improve from 1.00207\n",
      "210/210 [==============================] - 299s 1s/step - loss: 1.0053 - accuracy: 0.4625 - val_loss: 1.2397 - val_accuracy: 0.4458 - lr: 5.4000e-04\n",
      "Epoch 37/45\n",
      "210/210 [==============================] - ETA: 0s - loss: 1.0238 - accuracy: 0.4548\n",
      "Epoch 37: val_loss improved from 1.00207 to 0.97755, saving model to ./checkpoints/V4.1.1\\FOLD-1\n",
      "INFO:tensorflow:Assets written to: ./checkpoints/V4.1.1\\FOLD-1\\assets\n"
     ]
    },
    {
     "name": "stderr",
     "output_type": "stream",
     "text": [
      "INFO:tensorflow:Assets written to: ./checkpoints/V4.1.1\\FOLD-1\\assets\n"
     ]
    },
    {
     "name": "stdout",
     "output_type": "stream",
     "text": [
      "210/210 [==============================] - 307s 1s/step - loss: 1.0238 - accuracy: 0.4548 - val_loss: 0.9775 - val_accuracy: 0.4667 - lr: 5.4000e-04\n",
      "Epoch 38/45\n",
      "210/210 [==============================] - ETA: 0s - loss: 1.0315 - accuracy: 0.4458\n",
      "Epoch 38: val_loss did not improve from 0.97755\n",
      "210/210 [==============================] - 300s 1s/step - loss: 1.0315 - accuracy: 0.4458 - val_loss: 5.6571 - val_accuracy: 0.2500 - lr: 5.4000e-04\n",
      "Epoch 39/45\n",
      "210/210 [==============================] - ETA: 0s - loss: 1.0537 - accuracy: 0.4488\n",
      "Epoch 39: val_loss did not improve from 0.97755\n",
      "210/210 [==============================] - 299s 1s/step - loss: 1.0537 - accuracy: 0.4488 - val_loss: 1.0106 - val_accuracy: 0.4625 - lr: 5.4000e-04\n",
      "Epoch 40/45\n",
      "210/210 [==============================] - ETA: 0s - loss: 1.0380 - accuracy: 0.4619\n",
      "Epoch 40: val_loss did not improve from 0.97755\n",
      "210/210 [==============================] - 301s 1s/step - loss: 1.0380 - accuracy: 0.4619 - val_loss: 1.0703 - val_accuracy: 0.4333 - lr: 5.4000e-04\n",
      "Epoch 41/45\n",
      "210/210 [==============================] - ETA: 0s - loss: 1.0328 - accuracy: 0.4536\n",
      "Epoch 41: val_loss did not improve from 0.97755\n",
      "210/210 [==============================] - 301s 1s/step - loss: 1.0328 - accuracy: 0.4536 - val_loss: 1.2039 - val_accuracy: 0.4083 - lr: 5.4000e-04\n",
      "Epoch 42/45\n",
      "210/210 [==============================] - ETA: 0s - loss: 1.0119 - accuracy: 0.4554\n",
      "Epoch 42: val_loss did not improve from 0.97755\n",
      "210/210 [==============================] - 302s 1s/step - loss: 1.0119 - accuracy: 0.4554 - val_loss: 1.0040 - val_accuracy: 0.4875 - lr: 5.4000e-04\n",
      "Epoch 43/45\n",
      "210/210 [==============================] - ETA: 0s - loss: 1.0355 - accuracy: 0.4274\n",
      "Epoch 43: val_loss improved from 0.97755 to 0.97655, saving model to ./checkpoints/V4.1.1\\FOLD-1\n",
      "INFO:tensorflow:Assets written to: ./checkpoints/V4.1.1\\FOLD-1\\assets\n"
     ]
    },
    {
     "name": "stderr",
     "output_type": "stream",
     "text": [
      "INFO:tensorflow:Assets written to: ./checkpoints/V4.1.1\\FOLD-1\\assets\n"
     ]
    },
    {
     "name": "stdout",
     "output_type": "stream",
     "text": [
      "210/210 [==============================] - 307s 1s/step - loss: 1.0355 - accuracy: 0.4274 - val_loss: 0.9765 - val_accuracy: 0.4833 - lr: 5.4000e-04\n",
      "Epoch 44/45\n",
      "210/210 [==============================] - ETA: 0s - loss: 1.0265 - accuracy: 0.4518\n",
      "Epoch 44: val_loss did not improve from 0.97655\n",
      "210/210 [==============================] - 299s 1s/step - loss: 1.0265 - accuracy: 0.4518 - val_loss: 1.8257 - val_accuracy: 0.2875 - lr: 5.4000e-04\n",
      "Epoch 45/45\n",
      "210/210 [==============================] - ETA: 0s - loss: 0.9936 - accuracy: 0.4518\n",
      "Epoch 45: val_loss did not improve from 0.97655\n",
      "210/210 [==============================] - 299s 1s/step - loss: 0.9936 - accuracy: 0.4518 - val_loss: 1.0375 - val_accuracy: 0.4667 - lr: 5.4000e-04\n"
     ]
    },
    {
     "data": {
      "image/png": "[encoded data removed]",
      "text/plain": [
       "<Figure size 300x200 with 1 Axes>"
      ]
     },
     "metadata": {},
     "output_type": "display_data"
    },
    {
     "data": {
      "image/png": "[encoded data removed]",
      "text/plain": [
       "<Figure size 300x200 with 1 Axes>"
      ]
     },
     "metadata": {},
     "output_type": "display_data"
    },
    {
     "name": "stdout",
     "output_type": "stream",
     "text": [
      "Fold Training Time: 3 hour(s) and 46 mins\n",
      "Precision: 84.61538553237915  -  Recall: 22.91666716337204\n",
      "Accuracy: 48.33333194255829\n",
      "F1Score: Building 6.451613426208496 | Plant 85.92591857910156 | Road 0.0 | Vehicle 50.22421646118164\n",
      "[neptune] [info   ] Shutting down background jobs, please wait a moment...\n",
      "[neptune] [info   ] Done!\n",
      "[neptune] [info   ] Neptune initialized. Open in the app: offline/f3c5ce2f-1fc5-4ea9-9f5b-84e490d1b899\n",
      "Epoch 1/45\n",
      "210/210 [==============================] - ETA: 0s - loss: 9.5506 - accuracy: 0.3804\n",
      "Epoch 1: val_loss improved from inf to 1.68726, saving model to ./checkpoints/V4.1.1\\FOLD-2\n",
      "INFO:tensorflow:Assets written to: ./checkpoints/V4.1.1\\FOLD-2\\assets\n"
     ]
    },
    {
     "name": "stderr",
     "output_type": "stream",
     "text": [
      "INFO:tensorflow:Assets written to: ./checkpoints/V4.1.1\\FOLD-2\\assets\n"
     ]
    },
    {
     "name": "stdout",
     "output_type": "stream",
     "text": [
      "210/210 [==============================] - 315s 1s/step - loss: 9.5506 - accuracy: 0.3804 - val_loss: 1.6873 - val_accuracy: 0.3625 - lr: 0.0015\n",
      "Epoch 2/45\n",
      "210/210 [==============================] - ETA: 0s - loss: 1.1819 - accuracy: 0.4458\n",
      "Epoch 2: val_loss improved from 1.68726 to 1.11825, saving model to ./checkpoints/V4.1.1\\FOLD-2\n",
      "INFO:tensorflow:Assets written to: ./checkpoints/V4.1.1\\FOLD-2\\assets\n"
     ]
    },
    {
     "name": "stderr",
     "output_type": "stream",
     "text": [
      "INFO:tensorflow:Assets written to: ./checkpoints/V4.1.1\\FOLD-2\\assets\n"
     ]
    },
    {
     "name": "stdout",
     "output_type": "stream",
     "text": [
      "210/210 [==============================] - 305s 1s/step - loss: 1.1819 - accuracy: 0.4458 - val_loss: 1.1183 - val_accuracy: 0.5292 - lr: 0.0015\n",
      "Epoch 3/45\n",
      "210/210 [==============================] - ETA: 0s - loss: 1.1146 - accuracy: 0.5083\n",
      "Epoch 3: val_loss improved from 1.11825 to 1.07976, saving model to ./checkpoints/V4.1.1\\FOLD-2\n",
      "INFO:tensorflow:Assets written to: ./checkpoints/V4.1.1\\FOLD-2\\assets\n"
     ]
    },
    {
     "name": "stderr",
     "output_type": "stream",
     "text": [
      "INFO:tensorflow:Assets written to: ./checkpoints/V4.1.1\\FOLD-2\\assets\n"
     ]
    },
    {
     "name": "stdout",
     "output_type": "stream",
     "text": [
      "210/210 [==============================] - 305s 1s/step - loss: 1.1146 - accuracy: 0.5083 - val_loss: 1.0798 - val_accuracy: 0.5583 - lr: 0.0015\n",
      "Epoch 4/45\n",
      "210/210 [==============================] - ETA: 0s - loss: 1.0413 - accuracy: 0.5363\n",
      "Epoch 4: val_loss improved from 1.07976 to 0.97337, saving model to ./checkpoints/V4.1.1\\FOLD-2\n",
      "INFO:tensorflow:Assets written to: ./checkpoints/V4.1.1\\FOLD-2\\assets\n"
     ]
    },
    {
     "name": "stderr",
     "output_type": "stream",
     "text": [
      "INFO:tensorflow:Assets written to: ./checkpoints/V4.1.1\\FOLD-2\\assets\n"
     ]
    },
    {
     "name": "stdout",
     "output_type": "stream",
     "text": [
      "210/210 [==============================] - 306s 1s/step - loss: 1.0413 - accuracy: 0.5363 - val_loss: 0.9734 - val_accuracy: 0.5792 - lr: 0.0015\n",
      "Epoch 5/45\n",
      "210/210 [==============================] - ETA: 0s - loss: 1.0231 - accuracy: 0.5565\n",
      "Epoch 5: val_loss did not improve from 0.97337\n",
      "210/210 [==============================] - 299s 1s/step - loss: 1.0231 - accuracy: 0.5565 - val_loss: 5.2640 - val_accuracy: 0.3250 - lr: 0.0015\n",
      "Epoch 6/45\n",
      "210/210 [==============================] - ETA: 0s - loss: 1.1351 - accuracy: 0.4690\n",
      "Epoch 6: val_loss did not improve from 0.97337\n",
      "210/210 [==============================] - 299s 1s/step - loss: 1.1351 - accuracy: 0.4690 - val_loss: 1.3808 - val_accuracy: 0.3083 - lr: 0.0015\n",
      "Epoch 7/45\n",
      "210/210 [==============================] - ETA: 0s - loss: 1.0823 - accuracy: 0.5048\n",
      "Epoch 7: val_loss did not improve from 0.97337\n",
      "210/210 [==============================] - 299s 1s/step - loss: 1.0823 - accuracy: 0.5048 - val_loss: 1.1006 - val_accuracy: 0.4917 - lr: 0.0015\n",
      "Epoch 8/45\n",
      "210/210 [==============================] - ETA: 0s - loss: 1.1588 - accuracy: 0.4310\n",
      "Epoch 8: val_loss did not improve from 0.97337\n",
      "210/210 [==============================] - 300s 1s/step - loss: 1.1588 - accuracy: 0.4310 - val_loss: 1.2021 - val_accuracy: 0.3958 - lr: 0.0015\n",
      "Epoch 9/45\n",
      "210/210 [==============================] - ETA: 0s - loss: 1.1059 - accuracy: 0.4714\n",
      "Epoch 9: val_loss did not improve from 0.97337\n",
      "210/210 [==============================] - 299s 1s/step - loss: 1.1059 - accuracy: 0.4714 - val_loss: 0.9970 - val_accuracy: 0.5125 - lr: 0.0015\n",
      "Epoch 10/45\n",
      "210/210 [==============================] - ETA: 0s - loss: 1.0989 - accuracy: 0.4946\n",
      "Epoch 10: val_loss did not improve from 0.97337\n",
      "210/210 [==============================] - 301s 1s/step - loss: 1.0989 - accuracy: 0.4946 - val_loss: 1.1813 - val_accuracy: 0.5542 - lr: 0.0015\n",
      "Epoch 11/45\n",
      "210/210 [==============================] - ETA: 0s - loss: 1.1392 - accuracy: 0.4625\n",
      "Epoch 11: val_loss did not improve from 0.97337\n",
      "210/210 [==============================] - 298s 1s/step - loss: 1.1392 - accuracy: 0.4625 - val_loss: 1.2604 - val_accuracy: 0.3542 - lr: 0.0015\n",
      "Epoch 12/45\n",
      "210/210 [==============================] - ETA: 0s - loss: 1.2052 - accuracy: 0.4226\n",
      "Epoch 12: val_loss did not improve from 0.97337\n",
      "210/210 [==============================] - 299s 1s/step - loss: 1.2052 - accuracy: 0.4226 - val_loss: 1.3003 - val_accuracy: 0.3250 - lr: 0.0015\n",
      "Epoch 13/45\n",
      "210/210 [==============================] - ETA: 0s - loss: 1.1825 - accuracy: 0.3899\n",
      "Epoch 13: val_loss did not improve from 0.97337\n",
      "210/210 [==============================] - 299s 1s/step - loss: 1.1825 - accuracy: 0.3899 - val_loss: 1.4593 - val_accuracy: 0.2500 - lr: 0.0015\n",
      "Epoch 14/45\n",
      "210/210 [==============================] - ETA: 0s - loss: 1.1930 - accuracy: 0.3899\n",
      "Epoch 14: ReduceLROnPlateau reducing learning rate to 0.0009000000078231095.\n",
      "\n",
      "Epoch 14: val_loss did not improve from 0.97337\n",
      "210/210 [==============================] - 299s 1s/step - loss: 1.1930 - accuracy: 0.3899 - val_loss: 1.4163 - val_accuracy: 0.2708 - lr: 0.0015\n",
      "Epoch 15/45\n",
      "210/210 [==============================] - ETA: 0s - loss: 1.1670 - accuracy: 0.4113\n",
      "Epoch 15: val_loss did not improve from 0.97337\n",
      "210/210 [==============================] - 300s 1s/step - loss: 1.1670 - accuracy: 0.4113 - val_loss: 1.2597 - val_accuracy: 0.3625 - lr: 9.0000e-04\n",
      "Epoch 16/45\n",
      "210/210 [==============================] - ETA: 0s - loss: 1.1167 - accuracy: 0.4048\n",
      "Epoch 16: val_loss did not improve from 0.97337\n",
      "210/210 [==============================] - 300s 1s/step - loss: 1.1167 - accuracy: 0.4048 - val_loss: 1.2347 - val_accuracy: 0.3708 - lr: 9.0000e-04\n",
      "Epoch 17/45\n",
      "210/210 [==============================] - ETA: 0s - loss: 1.1156 - accuracy: 0.4190\n",
      "Epoch 17: val_loss did not improve from 0.97337\n",
      "210/210 [==============================] - 298s 1s/step - loss: 1.1156 - accuracy: 0.4190 - val_loss: 1.1008 - val_accuracy: 0.4167 - lr: 9.0000e-04\n",
      "Epoch 18/45\n",
      "210/210 [==============================] - ETA: 0s - loss: 1.1138 - accuracy: 0.4119\n",
      "Epoch 18: val_loss did not improve from 0.97337\n",
      "210/210 [==============================] - 298s 1s/step - loss: 1.1138 - accuracy: 0.4119 - val_loss: 1.1997 - val_accuracy: 0.3958 - lr: 9.0000e-04\n",
      "Epoch 19/45\n",
      "210/210 [==============================] - ETA: 0s - loss: 1.0995 - accuracy: 0.4060\n",
      "Epoch 19: val_loss did not improve from 0.97337\n",
      "210/210 [==============================] - 299s 1s/step - loss: 1.0995 - accuracy: 0.4060 - val_loss: 1.1766 - val_accuracy: 0.3917 - lr: 9.0000e-04\n",
      "Epoch 20/45\n",
      "210/210 [==============================] - ETA: 0s - loss: 1.0895 - accuracy: 0.4292\n",
      "Epoch 20: val_loss did not improve from 0.97337\n",
      "210/210 [==============================] - 299s 1s/step - loss: 1.0895 - accuracy: 0.4292 - val_loss: 1.3037 - val_accuracy: 0.3417 - lr: 9.0000e-04\n",
      "Epoch 21/45\n",
      "210/210 [==============================] - ETA: 0s - loss: 1.1389 - accuracy: 0.4149\n",
      "Epoch 21: val_loss did not improve from 0.97337\n",
      "210/210 [==============================] - 299s 1s/step - loss: 1.1389 - accuracy: 0.4149 - val_loss: 1.1408 - val_accuracy: 0.4042 - lr: 9.0000e-04\n",
      "Epoch 22/45\n",
      "210/210 [==============================] - ETA: 0s - loss: 1.1493 - accuracy: 0.4107\n",
      "Epoch 22: val_loss did not improve from 0.97337\n",
      "210/210 [==============================] - 300s 1s/step - loss: 1.1493 - accuracy: 0.4107 - val_loss: 1.0667 - val_accuracy: 0.4500 - lr: 9.0000e-04\n",
      "Epoch 23/45\n",
      "210/210 [==============================] - ETA: 0s - loss: 1.1553 - accuracy: 0.4149\n",
      "Epoch 23: val_loss did not improve from 0.97337\n",
      "210/210 [==============================] - 299s 1s/step - loss: 1.1553 - accuracy: 0.4149 - val_loss: 1.5062 - val_accuracy: 0.2500 - lr: 9.0000e-04\n",
      "Epoch 24/45\n",
      "210/210 [==============================] - ETA: 0s - loss: 1.1832 - accuracy: 0.3887\n",
      "Epoch 24: ReduceLROnPlateau reducing learning rate to 0.0005399999907240271.\n",
      "\n",
      "Epoch 24: val_loss did not improve from 0.97337\n",
      "210/210 [==============================] - 298s 1s/step - loss: 1.1832 - accuracy: 0.3887 - val_loss: 1.1195 - val_accuracy: 0.4208 - lr: 9.0000e-04\n",
      "Epoch 25/45\n",
      "210/210 [==============================] - ETA: 0s - loss: 1.1636 - accuracy: 0.3946\n",
      "Epoch 25: val_loss did not improve from 0.97337\n",
      "210/210 [==============================] - 300s 1s/step - loss: 1.1636 - accuracy: 0.3946 - val_loss: 1.1326 - val_accuracy: 0.4250 - lr: 5.4000e-04\n",
      "Epoch 26/45\n",
      "210/210 [==============================] - ETA: 0s - loss: 1.1285 - accuracy: 0.4190\n",
      "Epoch 26: val_loss did not improve from 0.97337\n",
      "210/210 [==============================] - 299s 1s/step - loss: 1.1285 - accuracy: 0.4190 - val_loss: 1.1390 - val_accuracy: 0.4042 - lr: 5.4000e-04\n",
      "Epoch 27/45\n",
      "210/210 [==============================] - ETA: 0s - loss: 1.1118 - accuracy: 0.4161\n",
      "Epoch 27: val_loss did not improve from 0.97337\n",
      "210/210 [==============================] - 300s 1s/step - loss: 1.1118 - accuracy: 0.4161 - val_loss: 1.1172 - val_accuracy: 0.4292 - lr: 5.4000e-04\n"
     ]
    },
    {
     "data": {
      "image/png": "[encoded data removed]",
      "text/plain": [
       "<Figure size 300x200 with 1 Axes>"
      ]
     },
     "metadata": {},
     "output_type": "display_data"
    },
    {
     "data": {
      "image/png": "[encoded data removed]",
      "text/plain": [
       "<Figure size 300x200 with 1 Axes>"
      ]
     },
     "metadata": {},
     "output_type": "display_data"
    },
    {
     "name": "stdout",
     "output_type": "stream",
     "text": [
      "Fold Training Time: 2 hour(s) and 15 mins\n",
      "Precision: 94.44444179534912  -  Recall: 28.333333134651184\n",
      "Accuracy: 57.91666507720947\n",
      "F1Score: Building 9.756097793579102 | Plant 84.95575714111328 | Road 68.81720733642578 | Vehicle 57.291664123535156\n",
      "[neptune] [info   ] Shutting down background jobs, please wait a moment...\n",
      "[neptune] [info   ] Done!\n",
      "[neptune] [info   ] Neptune initialized. Open in the app: offline/26393dd7-92b9-46b2-bc49-688c55e052f7\n",
      "Epoch 1/45\n",
      "210/210 [==============================] - ETA: 0s - loss: 9.6296 - accuracy: 0.4512\n",
      "Epoch 1: val_loss improved from inf to 1.40031, saving model to ./checkpoints/V4.1.1\\FOLD-3\n",
      "INFO:tensorflow:Assets written to: ./checkpoints/V4.1.1\\FOLD-3\\assets\n"
     ]
    },
    {
     "name": "stderr",
     "output_type": "stream",
     "text": [
      "INFO:tensorflow:Assets written to: ./checkpoints/V4.1.1\\FOLD-3\\assets\n"
     ]
    },
    {
     "name": "stdout",
     "output_type": "stream",
     "text": [
      "210/210 [==============================] - 309s 1s/step - loss: 9.6296 - accuracy: 0.4512 - val_loss: 1.4003 - val_accuracy: 0.2708 - lr: 0.0015\n",
      "Epoch 2/45\n",
      "210/210 [==============================] - ETA: 0s - loss: 1.0016 - accuracy: 0.5542\n",
      "Epoch 2: val_loss improved from 1.40031 to 1.16578, saving model to ./checkpoints/V4.1.1\\FOLD-3\n",
      "INFO:tensorflow:Assets written to: ./checkpoints/V4.1.1\\FOLD-3\\assets\n"
     ]
    },
    {
     "name": "stderr",
     "output_type": "stream",
     "text": [
      "INFO:tensorflow:Assets written to: ./checkpoints/V4.1.1\\FOLD-3\\assets\n"
     ]
    },
    {
     "name": "stdout",
     "output_type": "stream",
     "text": [
      "210/210 [==============================] - 303s 1s/step - loss: 1.0016 - accuracy: 0.5542 - val_loss: 1.1658 - val_accuracy: 0.5000 - lr: 0.0015\n",
      "Epoch 3/45\n",
      "210/210 [==============================] - ETA: 0s - loss: 0.9954 - accuracy: 0.5405\n",
      "Epoch 3: val_loss improved from 1.16578 to 0.92447, saving model to ./checkpoints/V4.1.1\\FOLD-3\n",
      "INFO:tensorflow:Assets written to: ./checkpoints/V4.1.1\\FOLD-3\\assets\n"
     ]
    },
    {
     "name": "stderr",
     "output_type": "stream",
     "text": [
      "INFO:tensorflow:Assets written to: ./checkpoints/V4.1.1\\FOLD-3\\assets\n"
     ]
    },
    {
     "name": "stdout",
     "output_type": "stream",
     "text": [
      "210/210 [==============================] - 303s 1s/step - loss: 0.9954 - accuracy: 0.5405 - val_loss: 0.9245 - val_accuracy: 0.6375 - lr: 0.0015\n",
      "Epoch 4/45\n",
      "210/210 [==============================] - ETA: 0s - loss: 1.0014 - accuracy: 0.5756\n",
      "Epoch 4: val_loss did not improve from 0.92447\n",
      "210/210 [==============================] - 297s 1s/step - loss: 1.0014 - accuracy: 0.5756 - val_loss: 1.1659 - val_accuracy: 0.5000 - lr: 0.0015\n",
      "Epoch 5/45\n",
      "210/210 [==============================] - ETA: 0s - loss: 1.0447 - accuracy: 0.5560\n",
      "Epoch 5: val_loss did not improve from 0.92447\n",
      "210/210 [==============================] - 298s 1s/step - loss: 1.0447 - accuracy: 0.5560 - val_loss: 0.9413 - val_accuracy: 0.6292 - lr: 0.0015\n",
      "Epoch 6/45\n",
      "210/210 [==============================] - ETA: 0s - loss: 1.0122 - accuracy: 0.5631\n",
      "Epoch 6: val_loss did not improve from 0.92447\n",
      "210/210 [==============================] - 298s 1s/step - loss: 1.0122 - accuracy: 0.5631 - val_loss: 1.1139 - val_accuracy: 0.4583 - lr: 0.0015\n",
      "Epoch 7/45\n",
      "210/210 [==============================] - ETA: 0s - loss: 0.9953 - accuracy: 0.5923\n",
      "Epoch 7: val_loss did not improve from 0.92447\n",
      "210/210 [==============================] - 299s 1s/step - loss: 0.9953 - accuracy: 0.5923 - val_loss: 1.0848 - val_accuracy: 0.5250 - lr: 0.0015\n",
      "Epoch 8/45\n",
      "210/210 [==============================] - ETA: 0s - loss: 1.1163 - accuracy: 0.4667\n",
      "Epoch 8: val_loss did not improve from 0.92447\n",
      "210/210 [==============================] - 296s 1s/step - loss: 1.1163 - accuracy: 0.4667 - val_loss: 0.9765 - val_accuracy: 0.5417 - lr: 0.0015\n",
      "Epoch 9/45\n",
      "210/210 [==============================] - ETA: 0s - loss: 1.2683 - accuracy: 0.4304\n",
      "Epoch 9: val_loss did not improve from 0.92447\n",
      "210/210 [==============================] - 297s 1s/step - loss: 1.2683 - accuracy: 0.4304 - val_loss: 0.9650 - val_accuracy: 0.6167 - lr: 0.0015\n",
      "Epoch 10/45\n",
      "210/210 [==============================] - ETA: 0s - loss: 1.1602 - accuracy: 0.4750\n",
      "Epoch 10: val_loss did not improve from 0.92447\n",
      "210/210 [==============================] - 298s 1s/step - loss: 1.1602 - accuracy: 0.4750 - val_loss: 1.2555 - val_accuracy: 0.4208 - lr: 0.0015\n",
      "Epoch 11/45\n",
      "210/210 [==============================] - ETA: 0s - loss: 1.1582 - accuracy: 0.4643\n",
      "Epoch 11: val_loss did not improve from 0.92447\n",
      "210/210 [==============================] - 301s 1s/step - loss: 1.1582 - accuracy: 0.4643 - val_loss: 1.1720 - val_accuracy: 0.3917 - lr: 0.0015\n",
      "Epoch 12/45\n",
      "210/210 [==============================] - ETA: 0s - loss: 1.1453 - accuracy: 0.4202\n",
      "Epoch 12: val_loss did not improve from 0.92447\n",
      "210/210 [==============================] - 297s 1s/step - loss: 1.1453 - accuracy: 0.4202 - val_loss: 1.0134 - val_accuracy: 0.4625 - lr: 0.0015\n",
      "Epoch 13/45\n",
      "210/210 [==============================] - ETA: 0s - loss: 1.2015 - accuracy: 0.4024\n",
      "Epoch 13: ReduceLROnPlateau reducing learning rate to 0.0009000000078231095.\n",
      "\n",
      "Epoch 13: val_loss did not improve from 0.92447\n",
      "210/210 [==============================] - 297s 1s/step - loss: 1.2015 - accuracy: 0.4024 - val_loss: 1.0601 - val_accuracy: 0.4125 - lr: 0.0015\n",
      "Epoch 14/45\n",
      "210/210 [==============================] - ETA: 0s - loss: 1.1477 - accuracy: 0.4030\n",
      "Epoch 14: val_loss did not improve from 0.92447\n",
      "210/210 [==============================] - 297s 1s/step - loss: 1.1477 - accuracy: 0.4030 - val_loss: 1.7539 - val_accuracy: 0.4042 - lr: 9.0000e-04\n",
      "Epoch 15/45\n",
      "210/210 [==============================] - ETA: 0s - loss: 1.1121 - accuracy: 0.4214\n",
      "Epoch 15: val_loss did not improve from 0.92447\n",
      "210/210 [==============================] - 297s 1s/step - loss: 1.1121 - accuracy: 0.4214 - val_loss: 1.0603 - val_accuracy: 0.4917 - lr: 9.0000e-04\n",
      "Epoch 16/45\n",
      "210/210 [==============================] - ETA: 0s - loss: 1.1284 - accuracy: 0.4030\n",
      "Epoch 16: val_loss did not improve from 0.92447\n",
      "210/210 [==============================] - 297s 1s/step - loss: 1.1284 - accuracy: 0.4030 - val_loss: 1.0077 - val_accuracy: 0.4750 - lr: 9.0000e-04\n",
      "Epoch 17/45\n",
      "210/210 [==============================] - ETA: 0s - loss: 1.0896 - accuracy: 0.4363\n",
      "Epoch 17: val_loss did not improve from 0.92447\n",
      "210/210 [==============================] - 299s 1s/step - loss: 1.0896 - accuracy: 0.4363 - val_loss: 1.1497 - val_accuracy: 0.4458 - lr: 9.0000e-04\n",
      "Epoch 18/45\n",
      "210/210 [==============================] - ETA: 0s - loss: 1.1107 - accuracy: 0.4375\n",
      "Epoch 18: val_loss did not improve from 0.92447\n",
      "210/210 [==============================] - 298s 1s/step - loss: 1.1107 - accuracy: 0.4375 - val_loss: 0.9456 - val_accuracy: 0.6000 - lr: 9.0000e-04\n",
      "Epoch 19/45\n",
      "210/210 [==============================] - ETA: 0s - loss: 1.0889 - accuracy: 0.5060\n",
      "Epoch 19: val_loss did not improve from 0.92447\n",
      "210/210 [==============================] - 296s 1s/step - loss: 1.0889 - accuracy: 0.5060 - val_loss: 1.0172 - val_accuracy: 0.5083 - lr: 9.0000e-04\n",
      "Epoch 20/45\n",
      "210/210 [==============================] - ETA: 0s - loss: 1.0469 - accuracy: 0.5298\n",
      "Epoch 20: val_loss did not improve from 0.92447\n",
      "210/210 [==============================] - 309s 1s/step - loss: 1.0469 - accuracy: 0.5298 - val_loss: 0.9353 - val_accuracy: 0.5750 - lr: 9.0000e-04\n",
      "Epoch 21/45\n",
      "210/210 [==============================] - ETA: 0s - loss: 1.0376 - accuracy: 0.5571\n",
      "Epoch 21: val_loss did not improve from 0.92447\n",
      "210/210 [==============================] - 303s 1s/step - loss: 1.0376 - accuracy: 0.5571 - val_loss: 1.4477 - val_accuracy: 0.3833 - lr: 9.0000e-04\n",
      "Epoch 22/45\n",
      "210/210 [==============================] - ETA: 0s - loss: 1.0351 - accuracy: 0.5673\n",
      "Epoch 22: val_loss did not improve from 0.92447\n",
      "210/210 [==============================] - 299s 1s/step - loss: 1.0351 - accuracy: 0.5673 - val_loss: 1.1453 - val_accuracy: 0.4125 - lr: 9.0000e-04\n",
      "Epoch 23/45\n",
      "210/210 [==============================] - ETA: 0s - loss: 1.0881 - accuracy: 0.5125\n",
      "Epoch 23: ReduceLROnPlateau reducing learning rate to 0.0005399999907240271.\n",
      "\n",
      "Epoch 23: val_loss did not improve from 0.92447\n",
      "210/210 [==============================] - 301s 1s/step - loss: 1.0881 - accuracy: 0.5125 - val_loss: 1.2268 - val_accuracy: 0.4875 - lr: 9.0000e-04\n",
      "Epoch 24/45\n",
      "210/210 [==============================] - ETA: 0s - loss: 0.9519 - accuracy: 0.5774\n",
      "Epoch 24: val_loss did not improve from 0.92447\n",
      "210/210 [==============================] - 305s 1s/step - loss: 0.9519 - accuracy: 0.5774 - val_loss: 1.0271 - val_accuracy: 0.5667 - lr: 5.4000e-04\n",
      "Epoch 25/45\n",
      "210/210 [==============================] - ETA: 0s - loss: 0.9261 - accuracy: 0.6060\n",
      "Epoch 25: val_loss did not improve from 0.92447\n",
      "210/210 [==============================] - 309s 1s/step - loss: 0.9261 - accuracy: 0.6060 - val_loss: 0.9771 - val_accuracy: 0.5000 - lr: 5.4000e-04\n",
      "Epoch 26/45\n",
      "210/210 [==============================] - ETA: 0s - loss: 0.8997 - accuracy: 0.6060\n",
      "Epoch 26: val_loss did not improve from 0.92447\n",
      "210/210 [==============================] - 306s 1s/step - loss: 0.8997 - accuracy: 0.6060 - val_loss: 1.0031 - val_accuracy: 0.5708 - lr: 5.4000e-04\n"
     ]
    },
    {
     "data": {
      "image/png": "[encoded data removed]",
      "text/plain": [
       "<Figure size 300x200 with 1 Axes>"
      ]
     },
     "metadata": {},
     "output_type": "display_data"
    },
    {
     "data": {
      "image/png": "[encoded data removed]",
      "text/plain": [
       "<Figure size 300x200 with 1 Axes>"
      ]
     },
     "metadata": {},
     "output_type": "display_data"
    },
    {
     "name": "stdout",
     "output_type": "stream",
     "text": [
      "Fold Training Time: 2 hour(s) and 10 mins\n",
      "Precision: 81.30841255187988  -  Recall: 36.250001192092896\n",
      "Accuracy: 63.749998807907104\n",
      "F1Score: Building 56.80473327636719 | Plant 85.27132415771484 | Road 63.91752243041992 | Vehicle 44.70588302612305\n",
      "[neptune] [info   ] Shutting down background jobs, please wait a moment...\n",
      "[neptune] [info   ] Done!\n",
      "[neptune] [info   ] Neptune initialized. Open in the app: offline/dcb330fb-e418-47ba-93de-642eb4085efc\n",
      "Epoch 1/45\n",
      "210/210 [==============================] - ETA: 0s - loss: 7.7328 - accuracy: 0.3821\n",
      "Epoch 1: val_loss improved from inf to 1.38504, saving model to ./checkpoints/V4.1.1\\FOLD-4\n",
      "INFO:tensorflow:Assets written to: ./checkpoints/V4.1.1\\FOLD-4\\assets\n"
     ]
    },
    {
     "name": "stderr",
     "output_type": "stream",
     "text": [
      "INFO:tensorflow:Assets written to: ./checkpoints/V4.1.1\\FOLD-4\\assets\n"
     ]
    },
    {
     "name": "stdout",
     "output_type": "stream",
     "text": [
      "210/210 [==============================] - 315s 1s/step - loss: 7.7328 - accuracy: 0.3821 - val_loss: 1.3850 - val_accuracy: 0.2625 - lr: 0.0015\n",
      "Epoch 2/45\n",
      "210/210 [==============================] - ETA: 0s - loss: 1.2215 - accuracy: 0.4202\n",
      "Epoch 2: val_loss improved from 1.38504 to 1.17378, saving model to ./checkpoints/V4.1.1\\FOLD-4\n",
      "INFO:tensorflow:Assets written to: ./checkpoints/V4.1.1\\FOLD-4\\assets\n"
     ]
    },
    {
     "name": "stderr",
     "output_type": "stream",
     "text": [
      "INFO:tensorflow:Assets written to: ./checkpoints/V4.1.1\\FOLD-4\\assets\n"
     ]
    },
    {
     "name": "stdout",
     "output_type": "stream",
     "text": [
      "210/210 [==============================] - 310s 1s/step - loss: 1.2215 - accuracy: 0.4202 - val_loss: 1.1738 - val_accuracy: 0.4583 - lr: 0.0015\n",
      "Epoch 3/45\n",
      "210/210 [==============================] - ETA: 0s - loss: 1.2741 - accuracy: 0.3869\n",
      "Epoch 3: val_loss did not improve from 1.17378\n",
      "210/210 [==============================] - 307s 1s/step - loss: 1.2741 - accuracy: 0.3869 - val_loss: 1.2149 - val_accuracy: 0.4917 - lr: 0.0015\n",
      "Epoch 4/45\n",
      "210/210 [==============================] - ETA: 0s - loss: 1.2481 - accuracy: 0.3988\n",
      "Epoch 4: val_loss improved from 1.17378 to 1.08778, saving model to ./checkpoints/V4.1.1\\FOLD-4\n",
      "INFO:tensorflow:Assets written to: ./checkpoints/V4.1.1\\FOLD-4\\assets\n"
     ]
    },
    {
     "name": "stderr",
     "output_type": "stream",
     "text": [
      "INFO:tensorflow:Assets written to: ./checkpoints/V4.1.1\\FOLD-4\\assets\n"
     ]
    },
    {
     "name": "stdout",
     "output_type": "stream",
     "text": [
      "210/210 [==============================] - 312s 1s/step - loss: 1.2481 - accuracy: 0.3988 - val_loss: 1.0878 - val_accuracy: 0.4625 - lr: 0.0015\n",
      "Epoch 5/45\n",
      "210/210 [==============================] - ETA: 0s - loss: 1.2522 - accuracy: 0.3899\n",
      "Epoch 5: val_loss did not improve from 1.08778\n",
      "210/210 [==============================] - 304s 1s/step - loss: 1.2522 - accuracy: 0.3899 - val_loss: 1.2614 - val_accuracy: 0.3917 - lr: 0.0015\n",
      "Epoch 6/45\n",
      "210/210 [==============================] - ETA: 0s - loss: 1.2484 - accuracy: 0.3893\n",
      "Epoch 6: val_loss did not improve from 1.08778\n",
      "210/210 [==============================] - 306s 1s/step - loss: 1.2484 - accuracy: 0.3893 - val_loss: 1.2944 - val_accuracy: 0.4375 - lr: 0.0015\n",
      "Epoch 7/45\n",
      "210/210 [==============================] - ETA: 0s - loss: 1.3167 - accuracy: 0.3607\n",
      "Epoch 7: val_loss did not improve from 1.08778\n",
      "210/210 [==============================] - 304s 1s/step - loss: 1.3167 - accuracy: 0.3607 - val_loss: 1.1551 - val_accuracy: 0.4292 - lr: 0.0015\n",
      "Epoch 8/45\n",
      "210/210 [==============================] - ETA: 0s - loss: 1.2931 - accuracy: 0.3232\n",
      "Epoch 8: val_loss did not improve from 1.08778\n",
      "210/210 [==============================] - 304s 1s/step - loss: 1.2931 - accuracy: 0.3232 - val_loss: 1.2076 - val_accuracy: 0.4458 - lr: 0.0015\n",
      "Epoch 9/45\n",
      "210/210 [==============================] - ETA: 0s - loss: 1.2707 - accuracy: 0.3565\n",
      "Epoch 9: val_loss did not improve from 1.08778\n",
      "210/210 [==============================] - 299s 1s/step - loss: 1.2707 - accuracy: 0.3565 - val_loss: 1.2409 - val_accuracy: 0.4000 - lr: 0.0015\n",
      "Epoch 10/45\n",
      "210/210 [==============================] - ETA: 0s - loss: 1.2177 - accuracy: 0.3732\n",
      "Epoch 10: val_loss did not improve from 1.08778\n",
      "210/210 [==============================] - 300s 1s/step - loss: 1.2177 - accuracy: 0.3732 - val_loss: 1.1231 - val_accuracy: 0.4750 - lr: 0.0015\n",
      "Epoch 11/45\n",
      "210/210 [==============================] - ETA: 0s - loss: 1.2001 - accuracy: 0.3869\n",
      "Epoch 11: val_loss did not improve from 1.08778\n",
      "210/210 [==============================] - 298s 1s/step - loss: 1.2001 - accuracy: 0.3869 - val_loss: 2.1093 - val_accuracy: 0.4000 - lr: 0.0015\n",
      "Epoch 12/45\n",
      "210/210 [==============================] - ETA: 0s - loss: 1.2639 - accuracy: 0.3714\n",
      "Epoch 12: val_loss did not improve from 1.08778\n",
      "210/210 [==============================] - 299s 1s/step - loss: 1.2639 - accuracy: 0.3714 - val_loss: 1.2960 - val_accuracy: 0.3458 - lr: 0.0015\n",
      "Epoch 13/45\n",
      "210/210 [==============================] - ETA: 0s - loss: 1.1901 - accuracy: 0.3821\n",
      "Epoch 13: val_loss did not improve from 1.08778\n",
      "210/210 [==============================] - 298s 1s/step - loss: 1.1901 - accuracy: 0.3821 - val_loss: 15.1454 - val_accuracy: 0.2458 - lr: 0.0015\n",
      "Epoch 14/45\n",
      "210/210 [==============================] - ETA: 0s - loss: 1.2044 - accuracy: 0.4036\n",
      "Epoch 14: ReduceLROnPlateau reducing learning rate to 0.0009000000078231095.\n",
      "\n",
      "Epoch 14: val_loss did not improve from 1.08778\n",
      "210/210 [==============================] - 298s 1s/step - loss: 1.2044 - accuracy: 0.4036 - val_loss: 1.3882 - val_accuracy: 0.2833 - lr: 0.0015\n",
      "Epoch 15/45\n",
      "210/210 [==============================] - ETA: 0s - loss: 1.1594 - accuracy: 0.3923\n",
      "Epoch 15: val_loss did not improve from 1.08778\n",
      "210/210 [==============================] - 308s 1s/step - loss: 1.1594 - accuracy: 0.3923 - val_loss: 1.2407 - val_accuracy: 0.4542 - lr: 9.0000e-04\n",
      "Epoch 16/45\n",
      "210/210 [==============================] - ETA: 0s - loss: 1.1842 - accuracy: 0.4048\n",
      "Epoch 16: val_loss did not improve from 1.08778\n",
      "210/210 [==============================] - 301s 1s/step - loss: 1.1842 - accuracy: 0.4048 - val_loss: 1.1400 - val_accuracy: 0.4500 - lr: 9.0000e-04\n",
      "Epoch 17/45\n",
      "210/210 [==============================] - ETA: 0s - loss: 1.1426 - accuracy: 0.4262\n",
      "Epoch 17: val_loss did not improve from 1.08778\n",
      "210/210 [==============================] - 301s 1s/step - loss: 1.1426 - accuracy: 0.4262 - val_loss: 4.5566 - val_accuracy: 0.2500 - lr: 9.0000e-04\n",
      "Epoch 18/45\n",
      "210/210 [==============================] - ETA: 0s - loss: 1.1549 - accuracy: 0.4054\n",
      "Epoch 18: val_loss did not improve from 1.08778\n",
      "210/210 [==============================] - 298s 1s/step - loss: 1.1549 - accuracy: 0.4054 - val_loss: 1.1618 - val_accuracy: 0.4250 - lr: 9.0000e-04\n",
      "Epoch 19/45\n",
      "210/210 [==============================] - ETA: 0s - loss: 1.2107 - accuracy: 0.4030\n",
      "Epoch 19: val_loss did not improve from 1.08778\n",
      "210/210 [==============================] - 297s 1s/step - loss: 1.2107 - accuracy: 0.4030 - val_loss: 1.1729 - val_accuracy: 0.4458 - lr: 9.0000e-04\n",
      "Epoch 20/45\n",
      "210/210 [==============================] - ETA: 0s - loss: 1.0865 - accuracy: 0.4518\n",
      "Epoch 20: val_loss did not improve from 1.08778\n",
      "210/210 [==============================] - 298s 1s/step - loss: 1.0865 - accuracy: 0.4518 - val_loss: 2.0616 - val_accuracy: 0.3792 - lr: 9.0000e-04\n",
      "Epoch 21/45\n",
      "210/210 [==============================] - ETA: 0s - loss: 1.1043 - accuracy: 0.4321\n",
      "Epoch 21: val_loss did not improve from 1.08778\n",
      "210/210 [==============================] - 297s 1s/step - loss: 1.1043 - accuracy: 0.4321 - val_loss: 1.2113 - val_accuracy: 0.4042 - lr: 9.0000e-04\n",
      "Epoch 22/45\n",
      "210/210 [==============================] - ETA: 0s - loss: 1.2121 - accuracy: 0.3911\n",
      "Epoch 22: val_loss did not improve from 1.08778\n",
      "210/210 [==============================] - 298s 1s/step - loss: 1.2121 - accuracy: 0.3911 - val_loss: 1.4535 - val_accuracy: 0.3542 - lr: 9.0000e-04\n",
      "Epoch 23/45\n",
      "210/210 [==============================] - ETA: 0s - loss: 1.2066 - accuracy: 0.3905\n",
      "Epoch 23: val_loss did not improve from 1.08778\n",
      "210/210 [==============================] - 298s 1s/step - loss: 1.2066 - accuracy: 0.3905 - val_loss: 1.3050 - val_accuracy: 0.3917 - lr: 9.0000e-04\n",
      "Epoch 24/45\n",
      "210/210 [==============================] - ETA: 0s - loss: 1.1633 - accuracy: 0.3905\n",
      "Epoch 24: ReduceLROnPlateau reducing learning rate to 0.0005399999907240271.\n",
      "\n",
      "Epoch 24: val_loss did not improve from 1.08778\n",
      "210/210 [==============================] - 298s 1s/step - loss: 1.1633 - accuracy: 0.3905 - val_loss: 6.8059 - val_accuracy: 0.2708 - lr: 9.0000e-04\n",
      "Epoch 25/45\n",
      "210/210 [==============================] - ETA: 0s - loss: 1.0955 - accuracy: 0.4339\n",
      "Epoch 25: val_loss did not improve from 1.08778\n",
      "210/210 [==============================] - 298s 1s/step - loss: 1.0955 - accuracy: 0.4339 - val_loss: 1.1126 - val_accuracy: 0.4875 - lr: 5.4000e-04\n",
      "Epoch 26/45\n",
      "210/210 [==============================] - ETA: 0s - loss: 1.1176 - accuracy: 0.4292\n",
      "Epoch 26: val_loss did not improve from 1.08778\n",
      "210/210 [==============================] - 301s 1s/step - loss: 1.1176 - accuracy: 0.4292 - val_loss: 1.9994 - val_accuracy: 0.3333 - lr: 5.4000e-04\n",
      "Epoch 27/45\n",
      "210/210 [==============================] - ETA: 0s - loss: 1.1095 - accuracy: 0.4190\n",
      "Epoch 27: val_loss improved from 1.08778 to 1.03977, saving model to ./checkpoints/V4.1.1\\FOLD-4\n",
      "INFO:tensorflow:Assets written to: ./checkpoints/V4.1.1\\FOLD-4\\assets\n"
     ]
    },
    {
     "name": "stderr",
     "output_type": "stream",
     "text": [
      "INFO:tensorflow:Assets written to: ./checkpoints/V4.1.1\\FOLD-4\\assets\n"
     ]
    },
    {
     "name": "stdout",
     "output_type": "stream",
     "text": [
      "210/210 [==============================] - 306s 1s/step - loss: 1.1095 - accuracy: 0.4190 - val_loss: 1.0398 - val_accuracy: 0.4542 - lr: 5.4000e-04\n",
      "Epoch 28/45\n",
      "210/210 [==============================] - ETA: 0s - loss: 1.0771 - accuracy: 0.4470\n",
      "Epoch 28: val_loss did not improve from 1.03977\n",
      "210/210 [==============================] - 299s 1s/step - loss: 1.0771 - accuracy: 0.4470 - val_loss: 1.0536 - val_accuracy: 0.4750 - lr: 5.4000e-04\n",
      "Epoch 29/45\n",
      "210/210 [==============================] - ETA: 0s - loss: 1.0540 - accuracy: 0.4512\n",
      "Epoch 29: val_loss improved from 1.03977 to 1.00620, saving model to ./checkpoints/V4.1.1\\FOLD-4\n",
      "INFO:tensorflow:Assets written to: ./checkpoints/V4.1.1\\FOLD-4\\assets\n"
     ]
    },
    {
     "name": "stderr",
     "output_type": "stream",
     "text": [
      "INFO:tensorflow:Assets written to: ./checkpoints/V4.1.1\\FOLD-4\\assets\n"
     ]
    },
    {
     "name": "stdout",
     "output_type": "stream",
     "text": [
      "210/210 [==============================] - 305s 1s/step - loss: 1.0540 - accuracy: 0.4512 - val_loss: 1.0062 - val_accuracy: 0.4708 - lr: 5.4000e-04\n",
      "Epoch 30/45\n",
      "210/210 [==============================] - ETA: 0s - loss: 1.0237 - accuracy: 0.4500\n",
      "Epoch 30: val_loss did not improve from 1.00620\n",
      "210/210 [==============================] - 299s 1s/step - loss: 1.0237 - accuracy: 0.4500 - val_loss: 1.3157 - val_accuracy: 0.3583 - lr: 5.4000e-04\n",
      "Epoch 31/45\n",
      "210/210 [==============================] - ETA: 0s - loss: 1.0253 - accuracy: 0.4839\n",
      "Epoch 31: val_loss did not improve from 1.00620\n",
      "210/210 [==============================] - 297s 1s/step - loss: 1.0253 - accuracy: 0.4839 - val_loss: 1.1056 - val_accuracy: 0.4875 - lr: 5.4000e-04\n",
      "Epoch 32/45\n",
      "210/210 [==============================] - ETA: 0s - loss: 1.0147 - accuracy: 0.4786\n",
      "Epoch 32: val_loss did not improve from 1.00620\n",
      "210/210 [==============================] - 298s 1s/step - loss: 1.0147 - accuracy: 0.4786 - val_loss: 2.8044 - val_accuracy: 0.3542 - lr: 5.4000e-04\n",
      "Epoch 33/45\n",
      "210/210 [==============================] - ETA: 0s - loss: 1.0298 - accuracy: 0.4381\n",
      "Epoch 33: val_loss did not improve from 1.00620\n",
      "210/210 [==============================] - 299s 1s/step - loss: 1.0298 - accuracy: 0.4381 - val_loss: 1.0826 - val_accuracy: 0.5458 - lr: 5.4000e-04\n",
      "Epoch 34/45\n",
      "210/210 [==============================] - ETA: 0s - loss: 1.0237 - accuracy: 0.4774\n",
      "Epoch 34: val_loss did not improve from 1.00620\n",
      "210/210 [==============================] - 298s 1s/step - loss: 1.0237 - accuracy: 0.4774 - val_loss: 1.0526 - val_accuracy: 0.5083 - lr: 5.4000e-04\n",
      "Epoch 35/45\n",
      "210/210 [==============================] - ETA: 0s - loss: 1.0127 - accuracy: 0.4958\n",
      "Epoch 35: val_loss did not improve from 1.00620\n",
      "210/210 [==============================] - 300s 1s/step - loss: 1.0127 - accuracy: 0.4958 - val_loss: 1.0836 - val_accuracy: 0.4625 - lr: 5.4000e-04\n",
      "Epoch 36/45\n",
      "210/210 [==============================] - ETA: 0s - loss: 0.9957 - accuracy: 0.4690\n",
      "Epoch 36: val_loss improved from 1.00620 to 0.99938, saving model to ./checkpoints/V4.1.1\\FOLD-4\n",
      "INFO:tensorflow:Assets written to: ./checkpoints/V4.1.1\\FOLD-4\\assets\n"
     ]
    },
    {
     "name": "stderr",
     "output_type": "stream",
     "text": [
      "INFO:tensorflow:Assets written to: ./checkpoints/V4.1.1\\FOLD-4\\assets\n"
     ]
    },
    {
     "name": "stdout",
     "output_type": "stream",
     "text": [
      "210/210 [==============================] - 304s 1s/step - loss: 0.9957 - accuracy: 0.4690 - val_loss: 0.9994 - val_accuracy: 0.5167 - lr: 5.4000e-04\n",
      "Epoch 37/45\n",
      "210/210 [==============================] - ETA: 0s - loss: 1.0404 - accuracy: 0.4595\n",
      "Epoch 37: val_loss did not improve from 0.99938\n",
      "210/210 [==============================] - 298s 1s/step - loss: 1.0404 - accuracy: 0.4595 - val_loss: 1.1433 - val_accuracy: 0.4792 - lr: 5.4000e-04\n",
      "Epoch 38/45\n",
      "210/210 [==============================] - ETA: 0s - loss: 1.0090 - accuracy: 0.4655\n",
      "Epoch 38: val_loss did not improve from 0.99938\n",
      "210/210 [==============================] - 299s 1s/step - loss: 1.0090 - accuracy: 0.4655 - val_loss: 1.2514 - val_accuracy: 0.3958 - lr: 5.4000e-04\n",
      "Epoch 39/45\n",
      "210/210 [==============================] - ETA: 0s - loss: 1.0163 - accuracy: 0.4500\n",
      "Epoch 39: val_loss did not improve from 0.99938\n",
      "210/210 [==============================] - 298s 1s/step - loss: 1.0163 - accuracy: 0.4500 - val_loss: 1.3672 - val_accuracy: 0.3542 - lr: 5.4000e-04\n",
      "Epoch 40/45\n",
      "210/210 [==============================] - ETA: 0s - loss: 1.0026 - accuracy: 0.4667\n",
      "Epoch 40: val_loss did not improve from 0.99938\n",
      "210/210 [==============================] - 298s 1s/step - loss: 1.0026 - accuracy: 0.4667 - val_loss: 1.0952 - val_accuracy: 0.4750 - lr: 5.4000e-04\n",
      "Epoch 41/45\n",
      "210/210 [==============================] - ETA: 0s - loss: 0.9843 - accuracy: 0.4649\n",
      "Epoch 41: val_loss did not improve from 0.99938\n",
      "210/210 [==============================] - 300s 1s/step - loss: 0.9843 - accuracy: 0.4649 - val_loss: 1.1458 - val_accuracy: 0.5417 - lr: 5.4000e-04\n",
      "Epoch 42/45\n",
      "210/210 [==============================] - ETA: 0s - loss: 0.9754 - accuracy: 0.4768\n",
      "Epoch 42: val_loss did not improve from 0.99938\n",
      "210/210 [==============================] - 298s 1s/step - loss: 0.9754 - accuracy: 0.4768 - val_loss: 1.2194 - val_accuracy: 0.5042 - lr: 5.4000e-04\n",
      "Epoch 43/45\n",
      "210/210 [==============================] - ETA: 0s - loss: 1.0210 - accuracy: 0.4524\n",
      "Epoch 43: val_loss did not improve from 0.99938\n",
      "210/210 [==============================] - 299s 1s/step - loss: 1.0210 - accuracy: 0.4524 - val_loss: 1.1177 - val_accuracy: 0.5083 - lr: 5.4000e-04\n",
      "Epoch 44/45\n",
      "210/210 [==============================] - ETA: 0s - loss: 0.9908 - accuracy: 0.4512\n",
      "Epoch 44: val_loss did not improve from 0.99938\n",
      "210/210 [==============================] - 298s 1s/step - loss: 0.9908 - accuracy: 0.4512 - val_loss: 1.1149 - val_accuracy: 0.3583 - lr: 5.4000e-04\n",
      "Epoch 45/45\n",
      "210/210 [==============================] - ETA: 0s - loss: 0.9664 - accuracy: 0.4649\n",
      "Epoch 45: val_loss did not improve from 0.99938\n",
      "210/210 [==============================] - 299s 1s/step - loss: 0.9664 - accuracy: 0.4649 - val_loss: 1.9002 - val_accuracy: 0.3208 - lr: 5.4000e-04\n"
     ]
    },
    {
     "data": {
      "image/png": "[encoded data removed]",
      "text/plain": [
       "<Figure size 300x200 with 1 Axes>"
      ]
     },
     "metadata": {},
     "output_type": "display_data"
    },
    {
     "data": {
      "image/png": "[encoded data removed]",
      "text/plain": [
       "<Figure size 300x200 with 1 Axes>"
      ]
     },
     "metadata": {},
     "output_type": "display_data"
    },
    {
     "name": "stdout",
     "output_type": "stream",
     "text": [
      "Fold Training Time: 3 hour(s) and 45 mins\n",
      "Precision: 94.44444179534912  -  Recall: 21.250000596046448\n",
      "Accuracy: 51.66666507720947\n",
      "F1Score: Building 29.268295288085938 | Plant 90.5982894897461 | Road 53.39366912841797 | Vehicle 0.0\n",
      "[neptune] [info   ] Shutting down background jobs, please wait a moment...\n",
      "[neptune] [info   ] Done!\n",
      "[neptune] [info   ] Neptune initialized. Open in the app: offline/d1ca7493-a25c-46b5-80ae-bcb602afd6da\n",
      "Epoch 1/45\n",
      "210/210 [==============================] - ETA: 0s - loss: 9.5193 - accuracy: 0.4119\n",
      "Epoch 1: val_loss improved from inf to 2.55752, saving model to ./checkpoints/V4.1.1\\FOLD-5\n",
      "INFO:tensorflow:Assets written to: ./checkpoints/V4.1.1\\FOLD-5\\assets\n"
     ]
    },
    {
     "name": "stderr",
     "output_type": "stream",
     "text": [
      "INFO:tensorflow:Assets written to: ./checkpoints/V4.1.1\\FOLD-5\\assets\n"
     ]
    },
    {
     "name": "stdout",
     "output_type": "stream",
     "text": [
      "210/210 [==============================] - 307s 1s/step - loss: 9.5193 - accuracy: 0.4119 - val_loss: 2.5575 - val_accuracy: 0.3583 - lr: 0.0015\n",
      "Epoch 2/45\n",
      "210/210 [==============================] - ETA: 0s - loss: 1.1551 - accuracy: 0.4655\n",
      "Epoch 2: val_loss improved from 2.55752 to 0.98796, saving model to ./checkpoints/V4.1.1\\FOLD-5\n",
      "INFO:tensorflow:Assets written to: ./checkpoints/V4.1.1\\FOLD-5\\assets\n"
     ]
    },
    {
     "name": "stderr",
     "output_type": "stream",
     "text": [
      "INFO:tensorflow:Assets written to: ./checkpoints/V4.1.1\\FOLD-5\\assets\n"
     ]
    },
    {
     "name": "stdout",
     "output_type": "stream",
     "text": [
      "210/210 [==============================] - 304s 1s/step - loss: 1.1551 - accuracy: 0.4655 - val_loss: 0.9880 - val_accuracy: 0.5750 - lr: 0.0015\n",
      "Epoch 3/45\n",
      "210/210 [==============================] - ETA: 0s - loss: 1.0551 - accuracy: 0.5256\n",
      "Epoch 3: val_loss did not improve from 0.98796\n",
      "210/210 [==============================] - 295s 1s/step - loss: 1.0551 - accuracy: 0.5256 - val_loss: 1.0736 - val_accuracy: 0.5083 - lr: 0.0015\n",
      "Epoch 4/45\n",
      "210/210 [==============================] - ETA: 0s - loss: 1.0424 - accuracy: 0.5292\n",
      "Epoch 4: val_loss improved from 0.98796 to 0.88823, saving model to ./checkpoints/V4.1.1\\FOLD-5\n",
      "INFO:tensorflow:Assets written to: ./checkpoints/V4.1.1\\FOLD-5\\assets\n"
     ]
    },
    {
     "name": "stderr",
     "output_type": "stream",
     "text": [
      "INFO:tensorflow:Assets written to: ./checkpoints/V4.1.1\\FOLD-5\\assets\n"
     ]
    },
    {
     "name": "stdout",
     "output_type": "stream",
     "text": [
      "210/210 [==============================] - 302s 1s/step - loss: 1.0424 - accuracy: 0.5292 - val_loss: 0.8882 - val_accuracy: 0.5875 - lr: 0.0015\n",
      "Epoch 5/45\n",
      "210/210 [==============================] - ETA: 0s - loss: 1.0416 - accuracy: 0.5226\n",
      "Epoch 5: val_loss did not improve from 0.88823\n",
      "210/210 [==============================] - 301s 1s/step - loss: 1.0416 - accuracy: 0.5226 - val_loss: 0.9244 - val_accuracy: 0.5750 - lr: 0.0015\n",
      "Epoch 6/45\n",
      "210/210 [==============================] - ETA: 0s - loss: 1.1054 - accuracy: 0.4839\n",
      "Epoch 6: val_loss did not improve from 0.88823\n",
      "210/210 [==============================] - 298s 1s/step - loss: 1.1054 - accuracy: 0.4839 - val_loss: 0.9100 - val_accuracy: 0.5750 - lr: 0.0015\n",
      "Epoch 7/45\n",
      "210/210 [==============================] - ETA: 0s - loss: 1.1621 - accuracy: 0.4589\n",
      "Epoch 7: val_loss did not improve from 0.88823\n",
      "210/210 [==============================] - 300s 1s/step - loss: 1.1621 - accuracy: 0.4589 - val_loss: 17.6833 - val_accuracy: 0.2500 - lr: 0.0015\n",
      "Epoch 8/45\n",
      "210/210 [==============================] - ETA: 0s - loss: 1.0872 - accuracy: 0.4982\n",
      "Epoch 8: val_loss did not improve from 0.88823\n",
      "210/210 [==============================] - 301s 1s/step - loss: 1.0872 - accuracy: 0.4982 - val_loss: 4.0022 - val_accuracy: 0.3292 - lr: 0.0015\n",
      "Epoch 9/45\n",
      "210/210 [==============================] - ETA: 0s - loss: 1.2184 - accuracy: 0.4089\n",
      "Epoch 9: val_loss did not improve from 0.88823\n",
      "210/210 [==============================] - 300s 1s/step - loss: 1.2184 - accuracy: 0.4089 - val_loss: 1.1662 - val_accuracy: 0.4292 - lr: 0.0015\n",
      "Epoch 10/45\n",
      "210/210 [==============================] - ETA: 0s - loss: 1.1933 - accuracy: 0.3976\n",
      "Epoch 10: val_loss did not improve from 0.88823\n",
      "210/210 [==============================] - 299s 1s/step - loss: 1.1933 - accuracy: 0.3976 - val_loss: 1.2243 - val_accuracy: 0.4000 - lr: 0.0015\n",
      "Epoch 11/45\n",
      "210/210 [==============================] - ETA: 0s - loss: 1.1779 - accuracy: 0.3881\n",
      "Epoch 11: val_loss did not improve from 0.88823\n",
      "210/210 [==============================] - 302s 1s/step - loss: 1.1779 - accuracy: 0.3881 - val_loss: 1.1988 - val_accuracy: 0.4000 - lr: 0.0015\n",
      "Epoch 12/45\n",
      "210/210 [==============================] - ETA: 0s - loss: 1.1539 - accuracy: 0.4060\n",
      "Epoch 12: val_loss did not improve from 0.88823\n",
      "210/210 [==============================] - 299s 1s/step - loss: 1.1539 - accuracy: 0.4060 - val_loss: 1.2703 - val_accuracy: 0.4167 - lr: 0.0015\n",
      "Epoch 13/45\n",
      "210/210 [==============================] - ETA: 0s - loss: 1.1707 - accuracy: 0.3899\n",
      "Epoch 13: val_loss did not improve from 0.88823\n",
      "210/210 [==============================] - 301s 1s/step - loss: 1.1707 - accuracy: 0.3899 - val_loss: 1.2475 - val_accuracy: 0.4208 - lr: 0.0015\n",
      "Epoch 14/45\n",
      "210/210 [==============================] - ETA: 0s - loss: 1.2038 - accuracy: 0.4000\n",
      "Epoch 14: ReduceLROnPlateau reducing learning rate to 0.0009000000078231095.\n",
      "\n",
      "Epoch 14: val_loss did not improve from 0.88823\n",
      "210/210 [==============================] - 303s 1s/step - loss: 1.2038 - accuracy: 0.4000 - val_loss: 1.6423 - val_accuracy: 0.4250 - lr: 0.0015\n",
      "Epoch 15/45\n",
      "210/210 [==============================] - ETA: 0s - loss: 1.1636 - accuracy: 0.4060\n",
      "Epoch 15: val_loss did not improve from 0.88823\n",
      "210/210 [==============================] - 310s 1s/step - loss: 1.1636 - accuracy: 0.4060 - val_loss: 1.3706 - val_accuracy: 0.4167 - lr: 9.0000e-04\n",
      "Epoch 16/45\n",
      "210/210 [==============================] - ETA: 0s - loss: 1.1556 - accuracy: 0.4125\n",
      "Epoch 16: val_loss did not improve from 0.88823\n",
      "210/210 [==============================] - 305s 1s/step - loss: 1.1556 - accuracy: 0.4125 - val_loss: 1.2026 - val_accuracy: 0.4167 - lr: 9.0000e-04\n",
      "Epoch 17/45\n",
      "210/210 [==============================] - ETA: 0s - loss: 1.1414 - accuracy: 0.4089\n",
      "Epoch 17: val_loss did not improve from 0.88823\n",
      "210/210 [==============================] - 300s 1s/step - loss: 1.1414 - accuracy: 0.4089 - val_loss: 1.2139 - val_accuracy: 0.4125 - lr: 9.0000e-04\n",
      "Epoch 18/45\n",
      "210/210 [==============================] - ETA: 0s - loss: 1.1365 - accuracy: 0.4065\n",
      "Epoch 18: val_loss did not improve from 0.88823\n",
      "210/210 [==============================] - 301s 1s/step - loss: 1.1365 - accuracy: 0.4065 - val_loss: 1.1913 - val_accuracy: 0.4000 - lr: 9.0000e-04\n",
      "Epoch 19/45\n",
      "210/210 [==============================] - ETA: 0s - loss: 1.1517 - accuracy: 0.3923\n",
      "Epoch 19: val_loss did not improve from 0.88823\n",
      "210/210 [==============================] - 300s 1s/step - loss: 1.1517 - accuracy: 0.3923 - val_loss: 1.1850 - val_accuracy: 0.4250 - lr: 9.0000e-04\n",
      "Epoch 20/45\n",
      "210/210 [==============================] - ETA: 0s - loss: 1.1290 - accuracy: 0.4196\n",
      "Epoch 20: val_loss did not improve from 0.88823\n",
      "210/210 [==============================] - 301s 1s/step - loss: 1.1290 - accuracy: 0.4196 - val_loss: 1.1911 - val_accuracy: 0.3833 - lr: 9.0000e-04\n",
      "Epoch 21/45\n",
      "210/210 [==============================] - ETA: 0s - loss: 1.1253 - accuracy: 0.4262\n",
      "Epoch 21: val_loss did not improve from 0.88823\n",
      "210/210 [==============================] - 299s 1s/step - loss: 1.1253 - accuracy: 0.4262 - val_loss: 1.2563 - val_accuracy: 0.3500 - lr: 9.0000e-04\n",
      "Epoch 22/45\n",
      "210/210 [==============================] - ETA: 0s - loss: 1.1706 - accuracy: 0.4065\n",
      "Epoch 22: val_loss did not improve from 0.88823\n",
      "210/210 [==============================] - 300s 1s/step - loss: 1.1706 - accuracy: 0.4065 - val_loss: 1.5088 - val_accuracy: 0.2542 - lr: 9.0000e-04\n",
      "Epoch 23/45\n",
      "210/210 [==============================] - ETA: 0s - loss: 1.1626 - accuracy: 0.3881\n",
      "Epoch 23: val_loss did not improve from 0.88823\n",
      "210/210 [==============================] - 300s 1s/step - loss: 1.1626 - accuracy: 0.3881 - val_loss: 1.4657 - val_accuracy: 0.2500 - lr: 9.0000e-04\n",
      "Epoch 24/45\n",
      "210/210 [==============================] - ETA: 0s - loss: 1.1398 - accuracy: 0.4054\n",
      "Epoch 24: ReduceLROnPlateau reducing learning rate to 0.0005399999907240271.\n",
      "\n",
      "Epoch 24: val_loss did not improve from 0.88823\n",
      "210/210 [==============================] - 300s 1s/step - loss: 1.1398 - accuracy: 0.4054 - val_loss: 5.3327 - val_accuracy: 0.3333 - lr: 9.0000e-04\n",
      "Epoch 25/45\n",
      "210/210 [==============================] - ETA: 0s - loss: 1.1328 - accuracy: 0.4244\n",
      "Epoch 25: val_loss did not improve from 0.88823\n",
      "210/210 [==============================] - 301s 1s/step - loss: 1.1328 - accuracy: 0.4244 - val_loss: 1.1656 - val_accuracy: 0.4292 - lr: 5.4000e-04\n",
      "Epoch 26/45\n",
      "210/210 [==============================] - ETA: 0s - loss: 1.1386 - accuracy: 0.4190\n",
      "Epoch 26: val_loss did not improve from 0.88823\n",
      "210/210 [==============================] - 300s 1s/step - loss: 1.1386 - accuracy: 0.4190 - val_loss: 1.2158 - val_accuracy: 0.3833 - lr: 5.4000e-04\n",
      "Epoch 27/45\n",
      "210/210 [==============================] - ETA: 0s - loss: 1.1177 - accuracy: 0.4054\n",
      "Epoch 27: val_loss did not improve from 0.88823\n",
      "210/210 [==============================] - 299s 1s/step - loss: 1.1177 - accuracy: 0.4054 - val_loss: 1.1918 - val_accuracy: 0.4208 - lr: 5.4000e-04\n"
     ]
    },
    {
     "data": {
      "image/png": "[encoded data removed]",
      "text/plain": [
       "<Figure size 300x200 with 1 Axes>"
      ]
     },
     "metadata": {},
     "output_type": "display_data"
    },
    {
     "data": {
      "image/png": "[encoded data removed]",
      "text/plain": [
       "<Figure size 300x200 with 1 Axes>"
      ]
     },
     "metadata": {},
     "output_type": "display_data"
    },
    {
     "name": "stdout",
     "output_type": "stream",
     "text": [
      "Fold Training Time: 2 hour(s) and 15 mins\n",
      "Precision: 94.04761791229248  -  Recall: 32.91666805744171\n",
      "Accuracy: 58.74999761581421\n",
      "F1Score: Building 0.0 | Plant 88.0 | Road 63.73626708984375 | Vehicle 57.57575607299805\n",
      "[neptune] [info   ] Shutting down background jobs, please wait a moment...\n",
      "[neptune] [info   ] Done!\n",
      "[neptune] [info   ] Neptune initialized. Open in the app: offline/982fc7e7-5bef-46b3-b5f6-15a63d26863a\n",
      "Epoch 1/45\n",
      "210/210 [==============================] - ETA: 0s - loss: 10.9743 - accuracy: 0.4696\n",
      "Epoch 1: val_loss improved from inf to 1.23634, saving model to ./checkpoints/V4.1.1\\FOLD-6\n",
      "INFO:tensorflow:Assets written to: ./checkpoints/V4.1.1\\FOLD-6\\assets\n"
     ]
    },
    {
     "name": "stderr",
     "output_type": "stream",
     "text": [
      "INFO:tensorflow:Assets written to: ./checkpoints/V4.1.1\\FOLD-6\\assets\n"
     ]
    },
    {
     "name": "stdout",
     "output_type": "stream",
     "text": [
      "210/210 [==============================] - 326s 2s/step - loss: 10.9743 - accuracy: 0.4696 - val_loss: 1.2363 - val_accuracy: 0.4708 - lr: 0.0015\n",
      "Epoch 2/45\n",
      "210/210 [==============================] - ETA: 0s - loss: 1.1220 - accuracy: 0.4857\n",
      "Epoch 2: val_loss improved from 1.23634 to 1.18755, saving model to ./checkpoints/V4.1.1\\FOLD-6\n",
      "INFO:tensorflow:Assets written to: ./checkpoints/V4.1.1\\FOLD-6\\assets\n"
     ]
    },
    {
     "name": "stderr",
     "output_type": "stream",
     "text": [
      "INFO:tensorflow:Assets written to: ./checkpoints/V4.1.1\\FOLD-6\\assets\n"
     ]
    },
    {
     "name": "stdout",
     "output_type": "stream",
     "text": [
      "210/210 [==============================] - 320s 2s/step - loss: 1.1220 - accuracy: 0.4857 - val_loss: 1.1875 - val_accuracy: 0.4042 - lr: 0.0015\n",
      "Epoch 3/45\n",
      "210/210 [==============================] - ETA: 0s - loss: 1.1903 - accuracy: 0.4101\n",
      "Epoch 3: val_loss improved from 1.18755 to 1.01897, saving model to ./checkpoints/V4.1.1\\FOLD-6\n",
      "INFO:tensorflow:Assets written to: ./checkpoints/V4.1.1\\FOLD-6\\assets\n"
     ]
    },
    {
     "name": "stderr",
     "output_type": "stream",
     "text": [
      "INFO:tensorflow:Assets written to: ./checkpoints/V4.1.1\\FOLD-6\\assets\n"
     ]
    },
    {
     "name": "stdout",
     "output_type": "stream",
     "text": [
      "210/210 [==============================] - 304s 1s/step - loss: 1.1903 - accuracy: 0.4101 - val_loss: 1.0190 - val_accuracy: 0.5792 - lr: 0.0015\n",
      "Epoch 4/45\n",
      "210/210 [==============================] - ETA: 0s - loss: 1.1095 - accuracy: 0.4780\n",
      "Epoch 4: val_loss did not improve from 1.01897\n",
      "210/210 [==============================] - 296s 1s/step - loss: 1.1095 - accuracy: 0.4780 - val_loss: 1.0391 - val_accuracy: 0.6125 - lr: 0.0015\n",
      "Epoch 5/45\n",
      "210/210 [==============================] - ETA: 0s - loss: 1.1476 - accuracy: 0.4643\n",
      "Epoch 5: val_loss did not improve from 1.01897\n",
      "210/210 [==============================] - 297s 1s/step - loss: 1.1476 - accuracy: 0.4643 - val_loss: 1.1332 - val_accuracy: 0.5625 - lr: 0.0015\n",
      "Epoch 6/45\n",
      "210/210 [==============================] - ETA: 0s - loss: 1.1617 - accuracy: 0.4673\n",
      "Epoch 6: val_loss did not improve from 1.01897\n",
      "210/210 [==============================] - 296s 1s/step - loss: 1.1617 - accuracy: 0.4673 - val_loss: 1.4107 - val_accuracy: 0.3208 - lr: 0.0015\n",
      "Epoch 7/45\n",
      "210/210 [==============================] - ETA: 0s - loss: 1.1952 - accuracy: 0.4667\n",
      "Epoch 7: val_loss did not improve from 1.01897\n",
      "210/210 [==============================] - 296s 1s/step - loss: 1.1952 - accuracy: 0.4667 - val_loss: 1.1251 - val_accuracy: 0.4417 - lr: 0.0015\n",
      "Epoch 8/45\n",
      "210/210 [==============================] - ETA: 0s - loss: 1.2153 - accuracy: 0.3815\n",
      "Epoch 8: val_loss did not improve from 1.01897\n",
      "210/210 [==============================] - 296s 1s/step - loss: 1.2153 - accuracy: 0.3815 - val_loss: 1.2481 - val_accuracy: 0.3458 - lr: 0.0015\n",
      "Epoch 9/45\n",
      "210/210 [==============================] - ETA: 0s - loss: 1.1803 - accuracy: 0.4048\n",
      "Epoch 9: val_loss did not improve from 1.01897\n",
      "210/210 [==============================] - 297s 1s/step - loss: 1.1803 - accuracy: 0.4048 - val_loss: 1.0555 - val_accuracy: 0.4542 - lr: 0.0015\n",
      "Epoch 10/45\n",
      "210/210 [==============================] - ETA: 0s - loss: 1.2627 - accuracy: 0.3613\n",
      "Epoch 10: val_loss did not improve from 1.01897\n",
      "210/210 [==============================] - 298s 1s/step - loss: 1.2627 - accuracy: 0.3613 - val_loss: 3.7013 - val_accuracy: 0.3333 - lr: 0.0015\n",
      "Epoch 11/45\n",
      "210/210 [==============================] - ETA: 0s - loss: 1.1233 - accuracy: 0.4649\n",
      "Epoch 11: val_loss did not improve from 1.01897\n",
      "210/210 [==============================] - 297s 1s/step - loss: 1.1233 - accuracy: 0.4649 - val_loss: 1.0434 - val_accuracy: 0.4625 - lr: 0.0015\n",
      "Epoch 12/45\n",
      "210/210 [==============================] - ETA: 0s - loss: 1.2652 - accuracy: 0.4000\n",
      "Epoch 12: val_loss did not improve from 1.01897\n",
      "210/210 [==============================] - 295s 1s/step - loss: 1.2652 - accuracy: 0.4000 - val_loss: 3.6177 - val_accuracy: 0.2542 - lr: 0.0015\n",
      "Epoch 13/45\n",
      "210/210 [==============================] - ETA: 0s - loss: 1.2928 - accuracy: 0.3363\n",
      "Epoch 13: ReduceLROnPlateau reducing learning rate to 0.0009000000078231095.\n",
      "\n",
      "Epoch 13: val_loss did not improve from 1.01897\n",
      "210/210 [==============================] - 296s 1s/step - loss: 1.2928 - accuracy: 0.3363 - val_loss: 1.2112 - val_accuracy: 0.4417 - lr: 0.0015\n",
      "Epoch 14/45\n",
      "210/210 [==============================] - ETA: 0s - loss: 1.2027 - accuracy: 0.3827\n",
      "Epoch 14: val_loss did not improve from 1.01897\n",
      "210/210 [==============================] - 298s 1s/step - loss: 1.2027 - accuracy: 0.3827 - val_loss: 1.4071 - val_accuracy: 0.2500 - lr: 9.0000e-04\n",
      "Epoch 15/45\n",
      "210/210 [==============================] - ETA: 0s - loss: 1.1912 - accuracy: 0.3863\n",
      "Epoch 15: val_loss did not improve from 1.01897\n",
      "210/210 [==============================] - 296s 1s/step - loss: 1.1912 - accuracy: 0.3863 - val_loss: 1.0473 - val_accuracy: 0.4750 - lr: 9.0000e-04\n",
      "Epoch 16/45\n",
      "210/210 [==============================] - ETA: 0s - loss: 1.1706 - accuracy: 0.4000\n",
      "Epoch 16: val_loss did not improve from 1.01897\n",
      "210/210 [==============================] - 296s 1s/step - loss: 1.1706 - accuracy: 0.4000 - val_loss: 1.1682 - val_accuracy: 0.4542 - lr: 9.0000e-04\n",
      "Epoch 17/45\n",
      "210/210 [==============================] - ETA: 0s - loss: 1.1622 - accuracy: 0.3982\n",
      "Epoch 17: val_loss did not improve from 1.01897\n",
      "210/210 [==============================] - 297s 1s/step - loss: 1.1622 - accuracy: 0.3982 - val_loss: 1.0840 - val_accuracy: 0.4750 - lr: 9.0000e-04\n",
      "Epoch 18/45\n",
      "210/210 [==============================] - ETA: 0s - loss: 1.1508 - accuracy: 0.3958\n",
      "Epoch 18: val_loss did not improve from 1.01897\n",
      "210/210 [==============================] - 296s 1s/step - loss: 1.1508 - accuracy: 0.3958 - val_loss: 1.4243 - val_accuracy: 0.2625 - lr: 9.0000e-04\n",
      "Epoch 19/45\n",
      "210/210 [==============================] - ETA: 0s - loss: 1.1457 - accuracy: 0.4179\n",
      "Epoch 19: val_loss did not improve from 1.01897\n",
      "210/210 [==============================] - 295s 1s/step - loss: 1.1457 - accuracy: 0.4179 - val_loss: 1.0429 - val_accuracy: 0.4542 - lr: 9.0000e-04\n",
      "Epoch 20/45\n",
      "210/210 [==============================] - ETA: 0s - loss: 1.1341 - accuracy: 0.4185\n",
      "Epoch 20: val_loss did not improve from 1.01897\n",
      "210/210 [==============================] - 297s 1s/step - loss: 1.1341 - accuracy: 0.4185 - val_loss: 1.4589 - val_accuracy: 0.2500 - lr: 9.0000e-04\n",
      "Epoch 21/45\n",
      "210/210 [==============================] - ETA: 0s - loss: 1.1576 - accuracy: 0.4268\n",
      "Epoch 21: val_loss did not improve from 1.01897\n",
      "210/210 [==============================] - 296s 1s/step - loss: 1.1576 - accuracy: 0.4268 - val_loss: 1.3228 - val_accuracy: 0.2667 - lr: 9.0000e-04\n",
      "Epoch 22/45\n",
      "210/210 [==============================] - ETA: 0s - loss: 1.1454 - accuracy: 0.4125\n",
      "Epoch 22: val_loss did not improve from 1.01897\n",
      "210/210 [==============================] - 297s 1s/step - loss: 1.1454 - accuracy: 0.4125 - val_loss: 1.2651 - val_accuracy: 0.4500 - lr: 9.0000e-04\n",
      "Epoch 23/45\n",
      "210/210 [==============================] - ETA: 0s - loss: 1.1776 - accuracy: 0.3911\n",
      "Epoch 23: ReduceLROnPlateau reducing learning rate to 0.0005399999907240271.\n",
      "\n",
      "Epoch 23: val_loss did not improve from 1.01897\n",
      "210/210 [==============================] - 298s 1s/step - loss: 1.1776 - accuracy: 0.3911 - val_loss: 1.1218 - val_accuracy: 0.4292 - lr: 9.0000e-04\n",
      "Epoch 24/45\n",
      "210/210 [==============================] - ETA: 0s - loss: 1.1509 - accuracy: 0.3946\n",
      "Epoch 24: val_loss did not improve from 1.01897\n",
      "210/210 [==============================] - 299s 1s/step - loss: 1.1509 - accuracy: 0.3946 - val_loss: 1.2862 - val_accuracy: 0.3375 - lr: 5.4000e-04\n",
      "Epoch 25/45\n",
      "210/210 [==============================] - ETA: 0s - loss: 1.1475 - accuracy: 0.3970\n",
      "Epoch 25: val_loss did not improve from 1.01897\n",
      "210/210 [==============================] - 296s 1s/step - loss: 1.1475 - accuracy: 0.3970 - val_loss: 1.4208 - val_accuracy: 0.2625 - lr: 5.4000e-04\n",
      "Epoch 26/45\n",
      "210/210 [==============================] - ETA: 0s - loss: 1.1525 - accuracy: 0.4131\n",
      "Epoch 26: val_loss did not improve from 1.01897\n",
      "210/210 [==============================] - 296s 1s/step - loss: 1.1525 - accuracy: 0.4131 - val_loss: 1.4637 - val_accuracy: 0.2500 - lr: 5.4000e-04\n"
     ]
    },
    {
     "data": {
      "image/png": "[encoded data removed]",
      "text/plain": [
       "<Figure size 300x200 with 1 Axes>"
      ]
     },
     "metadata": {},
     "output_type": "display_data"
    },
    {
     "data": {
      "image/png": "[encoded data removed]",
      "text/plain": [
       "<Figure size 300x200 with 1 Axes>"
      ]
     },
     "metadata": {},
     "output_type": "display_data"
    },
    {
     "name": "stdout",
     "output_type": "stream",
     "text": [
      "Fold Training Time: 2 hour(s) and 9 mins\n",
      "Precision: 86.07594966888428  -  Recall: 28.333333134651184\n",
      "Accuracy: 57.91666507720947\n",
      "F1Score: Building 8.571428298950195 | Plant 83.9285659790039 | Road 60.5405387878418 | Vehicle 58.407081604003906\n",
      "[neptune] [info   ] Shutting down background jobs, please wait a moment...\n",
      "[neptune] [info   ] Done!\n",
      "[neptune] [info   ] Neptune initialized. Open in the app: offline/60758e22-79db-4289-a650-ca1dbebf5fa9\n",
      "Epoch 1/45\n",
      "210/210 [==============================] - ETA: 0s - loss: 9.3763 - accuracy: 0.4792\n",
      "Epoch 1: val_loss improved from inf to 1.26573, saving model to ./checkpoints/V4.1.1\\FOLD-7\n",
      "INFO:tensorflow:Assets written to: ./checkpoints/V4.1.1\\FOLD-7\\assets\n"
     ]
    },
    {
     "name": "stderr",
     "output_type": "stream",
     "text": [
      "INFO:tensorflow:Assets written to: ./checkpoints/V4.1.1\\FOLD-7\\assets\n"
     ]
    },
    {
     "name": "stdout",
     "output_type": "stream",
     "text": [
      "210/210 [==============================] - 315s 1s/step - loss: 9.3763 - accuracy: 0.4792 - val_loss: 1.2657 - val_accuracy: 0.4625 - lr: 0.0015\n",
      "Epoch 2/45\n",
      "210/210 [==============================] - ETA: 0s - loss: 1.1196 - accuracy: 0.4905\n",
      "Epoch 2: val_loss improved from 1.26573 to 1.11554, saving model to ./checkpoints/V4.1.1\\FOLD-7\n",
      "INFO:tensorflow:Assets written to: ./checkpoints/V4.1.1\\FOLD-7\\assets\n"
     ]
    },
    {
     "name": "stderr",
     "output_type": "stream",
     "text": [
      "INFO:tensorflow:Assets written to: ./checkpoints/V4.1.1\\FOLD-7\\assets\n"
     ]
    },
    {
     "name": "stdout",
     "output_type": "stream",
     "text": [
      "210/210 [==============================] - 308s 1s/step - loss: 1.1196 - accuracy: 0.4905 - val_loss: 1.1155 - val_accuracy: 0.5458 - lr: 0.0015\n",
      "Epoch 3/45\n",
      "210/210 [==============================] - ETA: 0s - loss: 1.1121 - accuracy: 0.5256\n",
      "Epoch 3: val_loss improved from 1.11554 to 0.89072, saving model to ./checkpoints/V4.1.1\\FOLD-7\n",
      "INFO:tensorflow:Assets written to: ./checkpoints/V4.1.1\\FOLD-7\\assets\n"
     ]
    },
    {
     "name": "stderr",
     "output_type": "stream",
     "text": [
      "INFO:tensorflow:Assets written to: ./checkpoints/V4.1.1\\FOLD-7\\assets\n"
     ]
    },
    {
     "name": "stdout",
     "output_type": "stream",
     "text": [
      "210/210 [==============================] - 308s 1s/step - loss: 1.1121 - accuracy: 0.5256 - val_loss: 0.8907 - val_accuracy: 0.5958 - lr: 0.0015\n",
      "Epoch 4/45\n",
      "210/210 [==============================] - ETA: 0s - loss: 1.1095 - accuracy: 0.5107\n",
      "Epoch 4: val_loss improved from 0.89072 to 0.84099, saving model to ./checkpoints/V4.1.1\\FOLD-7\n",
      "INFO:tensorflow:Assets written to: ./checkpoints/V4.1.1\\FOLD-7\\assets\n"
     ]
    },
    {
     "name": "stderr",
     "output_type": "stream",
     "text": [
      "INFO:tensorflow:Assets written to: ./checkpoints/V4.1.1\\FOLD-7\\assets\n"
     ]
    },
    {
     "name": "stdout",
     "output_type": "stream",
     "text": [
      "210/210 [==============================] - 308s 1s/step - loss: 1.1095 - accuracy: 0.5107 - val_loss: 0.8410 - val_accuracy: 0.6292 - lr: 0.0015\n",
      "Epoch 5/45\n",
      "210/210 [==============================] - ETA: 0s - loss: 1.0070 - accuracy: 0.5518\n",
      "Epoch 5: val_loss did not improve from 0.84099\n",
      "210/210 [==============================] - 301s 1s/step - loss: 1.0070 - accuracy: 0.5518 - val_loss: 1.2989 - val_accuracy: 0.6625 - lr: 0.0015\n",
      "Epoch 6/45\n",
      "210/210 [==============================] - ETA: 0s - loss: 1.0585 - accuracy: 0.5476\n",
      "Epoch 6: val_loss did not improve from 0.84099\n",
      "210/210 [==============================] - 302s 1s/step - loss: 1.0585 - accuracy: 0.5476 - val_loss: 2.3166 - val_accuracy: 0.3917 - lr: 0.0015\n",
      "Epoch 7/45\n",
      "210/210 [==============================] - ETA: 0s - loss: 1.0653 - accuracy: 0.5512\n",
      "Epoch 7: val_loss improved from 0.84099 to 0.80525, saving model to ./checkpoints/V4.1.1\\FOLD-7\n",
      "INFO:tensorflow:Assets written to: ./checkpoints/V4.1.1\\FOLD-7\\assets\n"
     ]
    },
    {
     "name": "stderr",
     "output_type": "stream",
     "text": [
      "INFO:tensorflow:Assets written to: ./checkpoints/V4.1.1\\FOLD-7\\assets\n"
     ]
    },
    {
     "name": "stdout",
     "output_type": "stream",
     "text": [
      "210/210 [==============================] - 310s 1s/step - loss: 1.0653 - accuracy: 0.5512 - val_loss: 0.8052 - val_accuracy: 0.6750 - lr: 0.0015\n",
      "Epoch 8/45\n",
      "210/210 [==============================] - ETA: 0s - loss: 1.0614 - accuracy: 0.5435\n",
      "Epoch 8: val_loss did not improve from 0.80525\n",
      "210/210 [==============================] - 301s 1s/step - loss: 1.0614 - accuracy: 0.5435 - val_loss: 1.4280 - val_accuracy: 0.5625 - lr: 0.0015\n",
      "Epoch 9/45\n",
      "210/210 [==============================] - ETA: 0s - loss: 1.0796 - accuracy: 0.5107\n",
      "Epoch 9: val_loss did not improve from 0.80525\n",
      "210/210 [==============================] - 301s 1s/step - loss: 1.0796 - accuracy: 0.5107 - val_loss: 0.9057 - val_accuracy: 0.6000 - lr: 0.0015\n",
      "Epoch 10/45\n",
      "210/210 [==============================] - ETA: 0s - loss: 1.1359 - accuracy: 0.4905\n",
      "Epoch 10: val_loss did not improve from 0.80525\n",
      "210/210 [==============================] - 303s 1s/step - loss: 1.1359 - accuracy: 0.4905 - val_loss: 1.2469 - val_accuracy: 0.3625 - lr: 0.0015\n",
      "Epoch 11/45\n",
      "210/210 [==============================] - ETA: 0s - loss: 1.2021 - accuracy: 0.4179\n",
      "Epoch 11: val_loss did not improve from 0.80525\n",
      "210/210 [==============================] - 301s 1s/step - loss: 1.2021 - accuracy: 0.4179 - val_loss: 1.0017 - val_accuracy: 0.5833 - lr: 0.0015\n",
      "Epoch 12/45\n",
      "210/210 [==============================] - ETA: 0s - loss: 1.0893 - accuracy: 0.5208\n",
      "Epoch 12: val_loss did not improve from 0.80525\n",
      "210/210 [==============================] - 312s 1s/step - loss: 1.0893 - accuracy: 0.5208 - val_loss: 4.2486 - val_accuracy: 0.3917 - lr: 0.0015\n",
      "Epoch 13/45\n",
      "210/210 [==============================] - ETA: 0s - loss: 1.0129 - accuracy: 0.5351\n",
      "Epoch 13: val_loss did not improve from 0.80525\n",
      "210/210 [==============================] - 303s 1s/step - loss: 1.0129 - accuracy: 0.5351 - val_loss: 1.9358 - val_accuracy: 0.5458 - lr: 0.0015\n",
      "Epoch 14/45\n",
      "210/210 [==============================] - ETA: 0s - loss: 1.1988 - accuracy: 0.4774\n",
      "Epoch 14: val_loss did not improve from 0.80525\n",
      "210/210 [==============================] - 300s 1s/step - loss: 1.1988 - accuracy: 0.4774 - val_loss: 1.3710 - val_accuracy: 0.3042 - lr: 0.0015\n",
      "Epoch 15/45\n",
      "210/210 [==============================] - ETA: 0s - loss: 1.4754 - accuracy: 0.2440\n",
      "Epoch 15: val_loss did not improve from 0.80525\n",
      "210/210 [==============================] - 301s 1s/step - loss: 1.4754 - accuracy: 0.2440 - val_loss: 1.3870 - val_accuracy: 0.2500 - lr: 0.0015\n",
      "Epoch 16/45\n",
      "210/210 [==============================] - ETA: 0s - loss: 1.3874 - accuracy: 0.2310\n",
      "Epoch 16: val_loss did not improve from 0.80525\n",
      "210/210 [==============================] - 301s 1s/step - loss: 1.3874 - accuracy: 0.2310 - val_loss: 1.3864 - val_accuracy: 0.2500 - lr: 0.0015\n",
      "Epoch 17/45\n",
      "210/210 [==============================] - ETA: 0s - loss: 1.3877 - accuracy: 0.2274\n",
      "Epoch 17: ReduceLROnPlateau reducing learning rate to 0.0009000000078231095.\n",
      "\n",
      "Epoch 17: val_loss did not improve from 0.80525\n",
      "210/210 [==============================] - 300s 1s/step - loss: 1.3877 - accuracy: 0.2274 - val_loss: 1.3866 - val_accuracy: 0.2500 - lr: 0.0015\n",
      "Epoch 18/45\n",
      "210/210 [==============================] - ETA: 0s - loss: 1.3872 - accuracy: 0.2446\n",
      "Epoch 18: val_loss did not improve from 0.80525\n",
      "210/210 [==============================] - 301s 1s/step - loss: 1.3872 - accuracy: 0.2446 - val_loss: 1.3863 - val_accuracy: 0.2500 - lr: 9.0000e-04\n",
      "Epoch 19/45\n",
      "210/210 [==============================] - ETA: 0s - loss: 1.3871 - accuracy: 0.2345\n",
      "Epoch 19: val_loss did not improve from 0.80525\n",
      "210/210 [==============================] - 302s 1s/step - loss: 1.3871 - accuracy: 0.2345 - val_loss: 1.3863 - val_accuracy: 0.2500 - lr: 9.0000e-04\n",
      "Epoch 20/45\n",
      "210/210 [==============================] - ETA: 0s - loss: 1.3874 - accuracy: 0.2196\n",
      "Epoch 20: val_loss did not improve from 0.80525\n",
      "210/210 [==============================] - 301s 1s/step - loss: 1.3874 - accuracy: 0.2196 - val_loss: 1.3863 - val_accuracy: 0.2500 - lr: 9.0000e-04\n",
      "Epoch 21/45\n",
      "210/210 [==============================] - ETA: 0s - loss: 1.3872 - accuracy: 0.2411\n",
      "Epoch 21: val_loss did not improve from 0.80525\n",
      "210/210 [==============================] - 300s 1s/step - loss: 1.3872 - accuracy: 0.2411 - val_loss: 1.3863 - val_accuracy: 0.2500 - lr: 9.0000e-04\n",
      "Epoch 22/45\n",
      "210/210 [==============================] - ETA: 0s - loss: 1.3872 - accuracy: 0.2446\n",
      "Epoch 22: val_loss did not improve from 0.80525\n",
      "210/210 [==============================] - 301s 1s/step - loss: 1.3872 - accuracy: 0.2446 - val_loss: 1.3864 - val_accuracy: 0.2500 - lr: 9.0000e-04\n",
      "Epoch 23/45\n",
      "210/210 [==============================] - ETA: 0s - loss: 1.3872 - accuracy: 0.2226\n",
      "Epoch 23: val_loss did not improve from 0.80525\n",
      "210/210 [==============================] - 381s 2s/step - loss: 1.3872 - accuracy: 0.2226 - val_loss: 1.3864 - val_accuracy: 0.2500 - lr: 9.0000e-04\n",
      "Epoch 24/45\n",
      "210/210 [==============================] - ETA: 0s - loss: 1.3870 - accuracy: 0.2399\n",
      "Epoch 24: val_loss did not improve from 0.80525\n",
      "210/210 [==============================] - 397s 2s/step - loss: 1.3870 - accuracy: 0.2399 - val_loss: 1.3863 - val_accuracy: 0.2500 - lr: 9.0000e-04\n",
      "Epoch 25/45\n",
      "210/210 [==============================] - ETA: 0s - loss: 1.3871 - accuracy: 0.2286\n",
      "Epoch 25: val_loss did not improve from 0.80525\n",
      "210/210 [==============================] - 367s 2s/step - loss: 1.3871 - accuracy: 0.2286 - val_loss: 1.3865 - val_accuracy: 0.2500 - lr: 9.0000e-04\n",
      "Epoch 26/45\n",
      "210/210 [==============================] - ETA: 0s - loss: 1.3872 - accuracy: 0.2315\n",
      "Epoch 26: val_loss did not improve from 0.80525\n",
      "210/210 [==============================] - 332s 2s/step - loss: 1.3872 - accuracy: 0.2315 - val_loss: 1.3864 - val_accuracy: 0.2500 - lr: 9.0000e-04\n",
      "Epoch 27/45\n",
      "210/210 [==============================] - ETA: 0s - loss: 1.3871 - accuracy: 0.2232\n",
      "Epoch 27: ReduceLROnPlateau reducing learning rate to 0.0005399999907240271.\n",
      "\n",
      "Epoch 27: val_loss did not improve from 0.80525\n",
      "210/210 [==============================] - 351s 2s/step - loss: 1.3871 - accuracy: 0.2232 - val_loss: 1.3863 - val_accuracy: 0.2500 - lr: 9.0000e-04\n",
      "Epoch 28/45\n",
      "210/210 [==============================] - ETA: 0s - loss: 1.3869 - accuracy: 0.2464\n",
      "Epoch 28: val_loss did not improve from 0.80525\n",
      "210/210 [==============================] - 416s 2s/step - loss: 1.3869 - accuracy: 0.2464 - val_loss: 1.3864 - val_accuracy: 0.2500 - lr: 5.4000e-04\n",
      "Epoch 29/45\n",
      "210/210 [==============================] - ETA: 0s - loss: 1.3869 - accuracy: 0.2399\n",
      "Epoch 29: val_loss did not improve from 0.80525\n",
      "210/210 [==============================] - 413s 2s/step - loss: 1.3869 - accuracy: 0.2399 - val_loss: 1.3863 - val_accuracy: 0.2500 - lr: 5.4000e-04\n",
      "Epoch 30/45\n",
      "210/210 [==============================] - ETA: 0s - loss: 1.3868 - accuracy: 0.2464\n",
      "Epoch 30: val_loss did not improve from 0.80525\n",
      "210/210 [==============================] - 427s 2s/step - loss: 1.3868 - accuracy: 0.2464 - val_loss: 1.3863 - val_accuracy: 0.2500 - lr: 5.4000e-04\n"
     ]
    },
    {
     "data": {
      "image/png": "[encoded data removed]",
      "text/plain": [
       "<Figure size 300x200 with 1 Axes>"
      ]
     },
     "metadata": {},
     "output_type": "display_data"
    },
    {
     "data": {
      "image/png": "[encoded data removed]",
      "text/plain": [
       "<Figure size 300x200 with 1 Axes>"
      ]
     },
     "metadata": {},
     "output_type": "display_data"
    },
    {
     "name": "stdout",
     "output_type": "stream",
     "text": [
      "Fold Training Time: 2 hour(s) and 42 mins\n",
      "Precision: 90.67796468734741  -  Recall: 44.583332538604736\n",
      "Accuracy: 67.5000011920929\n",
      "F1Score: Building 56.097557067871094 | Plant 81.81817626953125 | Road 78.0 | Vehicle 60.377357482910156\n",
      "[neptune] [info   ] Shutting down background jobs, please wait a moment...\n",
      "[neptune] [info   ] Done!\n",
      "Total Training Time: 21 hour(s) and 56 mins\n"
     ]
    }
   ],
   "source": [
    "# ============================\n",
    "# Log performance of each fold\n",
    "# ============================\n",
    "\n",
    "precisions = []\n",
    "recalls = []\n",
    "accuracies = []\n",
    "f1_blds = []\n",
    "f1_plants = []\n",
    "f1_roads = []\n",
    "f1_vhcls = []\n",
    "\n",
    "counter = 0\n",
    "start = perf_counter()\n",
    "for train, test in kfold.split(train_x, train_y):\n",
    "    start_fold = perf_counter()\n",
    "\n",
    "    run = neptune.init_run(\n",
    "        name= f\"{model_name}-FOLD_{counter}\",\n",
    "        project=project_name,\n",
    "        mode=\"offline\"     # To prevent issue when internet sucks. Just manually sync it\n",
    "    )  # your credentials\n",
    "\n",
    "    run[\"parameters\"] = params\n",
    "    model = make_model(params)\n",
    "    cat_y = tf.keras.utils.to_categorical(train_y)\n",
    "    train_dataset = tf.data.Dataset.from_tensor_slices((train_x[train], cat_y[train]))\n",
    "    train_fold = train_dataset.shuffle(buffer_size=train_dataset.cardinality(), seed=1).batch(params['batch_size'])\n",
    "    \n",
    "    test_dataset = tf.data.Dataset.from_tensor_slices((train_x[test], cat_y[test]))\n",
    "    test_fold = test_dataset.shuffle(buffer_size=test_dataset.cardinality(), seed=1).batch(params['batch_size'])\n",
    "    \n",
    "    hist = model.fit(train_fold, \n",
    "                     validation_data=test_fold,\n",
    "                     batch_size=params['batch_size'],\n",
    "                     epochs=params['epochs'],\n",
    "                     verbose=1,\n",
    "                     callbacks=create_callbacks(counter))\n",
    "    end_fold = perf_counter()\n",
    "\n",
    "    # PLOTTING ==================================================\n",
    "    run[\"fig-train_loss\"].upload(plot_loss(hist))\n",
    "    run[\"fig-train_acc\"].upload(plot_acc(hist))\n",
    "    \n",
    "    # EVALUATING ==================================================\n",
    "    model = tf.keras.models.load_model(checkpoint_path + str(counter))\n",
    "    \n",
    "    pre = Precision()\n",
    "    rec = Recall()\n",
    "    c_acc = CategoricalAccuracy()\n",
    "    f1_score = F1Score()\n",
    "    for batch in test_fold.as_numpy_iterator():\n",
    "        X, y = batch\n",
    "        yhat = model.predict(X, verbose=0)\n",
    "        f1_score.update_state(y, yhat)\n",
    "        pre.update_state(y, yhat)\n",
    "        rec.update_state(y, yhat)\n",
    "        c_acc.update_state(y, yhat)\n",
    "        \n",
    "    precisions.append(pre.result().numpy() * 100)\n",
    "    recalls.append(rec.result().numpy() * 100)\n",
    "    accuracies.append(c_acc.result().numpy() * 100)\n",
    "    f1_s = f1_score.result().numpy() * 100\n",
    "    \n",
    "    f1_blds.append(f1_s[0])\n",
    "    f1_plants.append(f1_s[1])\n",
    "    f1_roads.append(f1_s[2])\n",
    "    f1_vhcls.append(f1_s[3])\n",
    "    \n",
    "    run[\"eval/ACC/\"] = accuracies[counter]\n",
    "    run[\"eval/REC/\"] = recalls[counter]\n",
    "    run[\"eval/PRE/\"] = precisions[counter]\n",
    "    run[\"eval/F1-Bld\"] = f1_blds[counter]\n",
    "    run[\"eval/F1-Plant\"] = f1_plants[counter]\n",
    "    run[\"eval/F1-Road\"] = f1_roads[counter]\n",
    "    run[\"eval/F1-Vhcl\"] = f1_vhcls[counter]\n",
    "    \n",
    "    # PRINTING RESULTS ===========================================\n",
    "    print(f'Fold Training Time: {math.floor((end_fold-start_fold)/3600) } hour(s) and {math.floor((end_fold-start_fold)/60)%60} mins')\n",
    "    print(f'Precision: {precisions[counter]}  -  Recall: {recalls[counter]}')\n",
    "    print(f'Accuracy: {accuracies[counter]}')\n",
    "    print(f'F1Score: Building {f1_blds[counter]} | Plant {f1_plants[counter]} | Road {f1_roads[counter]} | Vehicle {f1_vhcls[counter]}')\n",
    "    \n",
    "    run.stop()\n",
    "    \n",
    "    counter += 1\n",
    "\n",
    "end = perf_counter()\n",
    "\n",
    "print(f'Total Training Time: {math.floor((end-start)/3600) } hour(s) and {math.floor((end-start)/60)%60} mins')"
   ]
  },
  {
   "cell_type": "markdown",
   "id": "0cdcaea3-c498-44dd-be65-c899e9ba695c",
   "metadata": {},
   "source": [
    "# Get Average Performance of Model"
   ]
  },
  {
   "cell_type": "markdown",
   "id": "0e6a42b9-a558-4ea3-a099-c111c57b7ccf",
   "metadata": {},
   "source": [
    "## Save to Neptune AI"
   ]
  },
  {
   "cell_type": "code",
   "execution_count": 21,
   "id": "d13e1214-9537-4e9a-9e85-9b2f481506c3",
   "metadata": {},
   "outputs": [
    {
     "name": "stdout",
     "output_type": "stream",
     "text": [
      "[neptune] [info   ] Neptune initialized. Open in the app: offline/7a7a328f-2e94-4176-a528-9646a55d6773\n",
      "[neptune] [info   ] Shutting down background jobs, please wait a moment...\n",
      "[neptune] [info   ] Done!\n"
     ]
    }
   ],
   "source": [
    "run = neptune.init_run(\n",
    "        name= f\"{model_name}-AVG\",\n",
    "        project=project_name,\n",
    "        mode='offline',\n",
    "        # api_token=api_token, # Api token is saved in user's environemnt variables\n",
    "    )  # your credentials\n",
    "\n",
    "run[\"eval/PRE/\"] = avg_rate(precisions)\n",
    "run[\"eval/REC/\"] = avg_rate(recalls)\n",
    "run[\"eval/ACC/\"] = avg_rate(accuracies)\n",
    "run[\"eval/F1-Bld\"] = avg_rate(f1_blds)\n",
    "run[\"eval/F1-Plant\"] = avg_rate(f1_plants)\n",
    "run[\"eval/F1-Road\"] = avg_rate(f1_roads)\n",
    "run[\"eval/F1-Vhcl\"] = avg_rate(f1_vhcls)\n",
    "\n",
    "run.stop()"
   ]
  },
  {
   "cell_type": "markdown",
   "id": "e69c613b-b1b9-4a1b-9ecf-969e62123fc9",
   "metadata": {},
   "source": [
    "## Save to Tensorboard"
   ]
  },
  {
   "cell_type": "code",
   "execution_count": 22,
   "id": "31ea4d93-bce3-4a78-a309-280b83d61676",
   "metadata": {},
   "outputs": [],
   "source": [
    "# Command to access TensorBoard HParams:\n",
    "\n",
    "# tensorboard --logdir PATH/logs/hparam_tuning\n",
    "with tf.summary.create_file_writer(f'./logs/hparam_tuning/{model_name}').as_default():\n",
    "    hparams = {\n",
    "        'CONV_F1': 32,\n",
    "        'CONV_F2': 32,\n",
    "        'CONV_F3': 64,\n",
    "        'CONV_F4': 64,\n",
    "        'CONV_F5': 128,\n",
    "        'CONV_F6': 128,\n",
    "        'DROPOUT': 0.2,\n",
    "        'D_UNITS_1': 128,\n",
    "        'DROPOUT': 0.2,\n",
    "        'D_UNITS_2': 128,\n",
    "    }\n",
    "    hp.hparams(hparams)\n",
    "    tf.summary.scalar('PRE', avg_rate(precisions), step=1)\n",
    "    tf.summary.scalar('REC', avg_rate(recalls), step=1)\n",
    "    tf.summary.scalar('ACC', avg_rate(accuracies), step=1)\n",
    "    tf.summary.scalar('F1 - Building', avg_rate(f1_blds), step=1)\n",
    "    tf.summary.scalar('F1 - Plant', avg_rate(f1_plants), step=1)\n",
    "    tf.summary.scalar('F1 - Road', avg_rate(f1_roads), step=1)\n",
    "    tf.summary.scalar('F1 - Vehicle', avg_rate(f1_vhcls), step=1)"
   ]
  },
  {
   "cell_type": "code",
   "execution_count": null,
   "id": "53362329-adc7-4db5-a223-a27367cbb06a",
   "metadata": {},
   "outputs": [],
   "source": []
  },
  {
   "cell_type": "markdown",
   "id": "3a48f537-6a6e-4696-afc1-c608ffc793f3",
   "metadata": {},
   "source": [
    "# Asd"
   ]
  },
  {
   "cell_type": "markdown",
   "id": "98e06983-0acb-4201-bb07-4c6579d25cbd",
   "metadata": {
    "jp-MarkdownHeadingCollapsed": true
   },
   "source": [
    "# Others"
   ]
  },
  {
   "cell_type": "code",
   "execution_count": null,
   "id": "6590ec4c-5fc3-470e-bc7c-26503425ab8c",
   "metadata": {
    "scrolled": true
   },
   "outputs": [],
   "source": [
    "model= make_model()\n",
    "model.fit(\n",
    "    x_train,\n",
    "    y_train,\n",
    "    validation_data=(x_test,y_test),\n",
    "    epochs=params[\"epochs\"],\n",
    "    batch_size=params[\"batch_size\"],\n",
    "    callbacks=create_callbacks(0),\n",
    ")"
   ]
  },
  {
   "cell_type": "code",
   "execution_count": null,
   "id": "64460324-7348-47a8-bfed-b23556965940",
   "metadata": {
    "scrolled": true
   },
   "outputs": [],
   "source": [
    "true_test_dataset = tf.data.Dataset.from_tensor_slices((x_test, y_test))\n",
    "true_test_set = true_test_dataset.shuffle(buffer_size=true_test_dataset.cardinality(), seed=1).batch(64)\n",
    "\n",
    "f1 = F1Score()\n",
    "pre = Precision()\n",
    "rec = Recall()\n",
    "c_acc = CategoricalAccuracy()\n",
    "for batch in true_test_set.as_numpy_iterator():\n",
    "    X, y = batch\n",
    "    yhat = model.predict(X)\n",
    "    yhat_max = []\n",
    "    for i in yhat:\n",
    "        maxed = np.argmax(i)\n",
    "        yhat_max.append(maxed)\n",
    "    yhat = np.array(yhat_max)\n",
    "    f1.update_state(y, yhat)\n",
    "    pre.update_state(y, yhat)\n",
    "    rec.update_state(y, yhat)\n",
    "    c_acc.update_state(y, yhat)\n"
   ]
  },
  {
   "cell_type": "code",
   "execution_count": null,
   "id": "9e4864d2-4fb0-4526-95d3-9421c7bfa082",
   "metadata": {},
   "outputs": [],
   "source": [
    "run[\"eval/ACC/\"] = float(c_acc.result().numpy() * 100)\n",
    "run[\"eval/REC/\"] = float(rec.result().numpy() * 100)\n",
    "run[\"eval/PRE/\"] = float(pre.result().numpy() * 100)\n"
   ]
  },
  {
   "cell_type": "code",
   "execution_count": null,
   "id": "3a9f5d4a-c095-4788-8b9c-0f67f2631f42",
   "metadata": {},
   "outputs": [],
   "source": [
    "run.stop()"
   ]
  },
  {
   "cell_type": "code",
   "execution_count": null,
   "id": "153bb951-edfb-42a4-93ae-30f5d37fcbab",
   "metadata": {},
   "outputs": [],
   "source": []
  },
  {
   "cell_type": "code",
   "execution_count": null,
   "id": "1becccd6-290d-486c-9f34-f5b4b025b4f4",
   "metadata": {},
   "outputs": [],
   "source": []
  },
  {
   "cell_type": "code",
   "execution_count": null,
   "id": "bf6ba075-09fd-4fc7-8886-c600b17d2938",
   "metadata": {},
   "outputs": [],
   "source": [
    "eval_metrics = model.evaluate(x_test, y_test, verbose=0)\n",
    "for j, metric in enumerate(eval_metrics):\n",
    "    run[\"eval/AVG-ACC/{}\".format(model.metrics_names[j])] = metric\n",
    "\n",
    "run.stop()"
   ]
  },
  {
   "cell_type": "code",
   "execution_count": null,
   "id": "09100e0c-0d94-4e3d-8202-ec6e2872234d",
   "metadata": {},
   "outputs": [],
   "source": [
    "for j, metric in enumerate(eval_metrics):\n",
    "    print(model.metrics_names[j])"
   ]
  },
  {
   "cell_type": "markdown",
   "id": "91f20526-bb52-4153-a291-c18829f55825",
   "metadata": {},
   "source": [
    "## Neptune AI Notes"
   ]
  },
  {
   "cell_type": "raw",
   "id": "59ff9add-a7ad-4ccf-b4f4-e3b9dd83564d",
   "metadata": {},
   "source": [
    "1. neptune callback keeps track of learning rate - can use ReduceLROnPlateau\n",
    "2. neptune seems better used with one run each, but we can just create 1 more RUN before tuning the hyperparameters, name it with \"AVG\", have an \"AVG\" tag, and then save the average result\n",
    "3. The code below creates column in Neptune AI's website\n",
    "\n",
    "  for j, metric in enumerate(eval_metrics):\n",
    "    run[\"eval/AVG-ACC/{}\".format(model.metrics_names[j])] = metric\n",
    "    "
   ]
  },
  {
   "cell_type": "code",
   "execution_count": null,
   "id": "2603ac1c-fe1d-4a21-b8f0-9d8a32e67462",
   "metadata": {},
   "outputs": [],
   "source": []
  }
 ],
 "metadata": {
  "kernelspec": {
   "display_name": "neptune",
   "language": "python",
   "name": "neptune"
  },
  "language_info": {
   "codemirror_mode": {
    "name": "ipython",
    "version": 3
   },
   "file_extension": ".py",
   "mimetype": "text/x-python",
   "name": "python",
   "nbconvert_exporter": "python",
   "pygments_lexer": "ipython3",
   "version": "3.10.9"
  }
 },
 "nbformat": 4,
 "nbformat_minor": 5
}
