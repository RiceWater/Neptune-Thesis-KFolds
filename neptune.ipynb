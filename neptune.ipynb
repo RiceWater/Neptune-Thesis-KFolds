{
 "cells": [
  {
   "cell_type": "markdown",
   "id": "654fdf86-1ac7-4eb0-8153-7e9a1a61fa78",
   "metadata": {},
   "source": [
    "# READ"
   ]
  },
  {
   "cell_type": "markdown",
   "id": "30e7deed-4595-4611-9254-ad26a45facd3",
   "metadata": {},
   "source": [
    "1. API is in User Variables for User in Environemtn Variables named \"NEPTUNE_API_TOKEN\"\n",
    "2. If internet sucks, set mode to offline\n",
    "4. When offline runs are saved locally, sync it with | neptune sync -p \"New-Thesis/KFold-Test\" --offline-only |\n",
    "- make sure it is in venv mode | (venv) PS C:\\Users\\user\\Documents\\Machine-Learning-Hub-1\\ImageClassification\\Neptune-Thesis> |\n",
    "5. Delete the offline folder or use | neptune clear |"
   ]
  },
  {
   "cell_type": "markdown",
   "id": "348ca800-674e-4b34-9d14-551b8c226b08",
   "metadata": {},
   "source": [
    "# Load Libraries"
   ]
  },
  {
   "cell_type": "code",
   "execution_count": 1,
   "id": "79947b1a-22c4-4658-9375-a7bcbc52590e",
   "metadata": {},
   "outputs": [
    {
     "name": "stdout",
     "output_type": "stream",
     "text": [
      "WARNING:tensorflow:From C:\\Users\\user\\Documents\\Machine-Learning-Hub-1\\ImageClassification\\Neptune-Thesis\\venv\\lib\\site-packages\\keras\\src\\losses.py:2976: The name tf.losses.sparse_softmax_cross_entropy is deprecated. Please use tf.compat.v1.losses.sparse_softmax_cross_entropy instead.\n",
      "\n"
     ]
    }
   ],
   "source": [
    "import tqdm\n",
    "import os\n",
    "import cv2\n",
    "import imghdr\n",
    "import image_to_numpy\n",
    "import numpy as np\n",
    "import seaborn as sns\n",
    "from matplotlib import pyplot as plt\n",
    "from datetime import datetime\n",
    "import itertools\n",
    "from numpy.random import default_rng\n",
    "\n",
    "import tensorflow as tf\n",
    "from tensorflow.keras.models import Sequential\n",
    "from tensorflow.keras.layers import RandomFlip, RandomRotation, RandomContrast, RandomBrightness, Rescaling, Resizing\n",
    "from tensorflow.keras.layers import Conv2D, MaxPooling2D, Flatten, Dense, Dropout, BatchNormalization, ReLU\n",
    "from tensorflow.keras.metrics import F1Score, Precision, Recall, CategoricalAccuracy\n",
    "from tensorboard.plugins.hparams import api as hp\n",
    "import sklearn\n",
    "from sklearn.metrics import classification_report,confusion_matrix\n",
    "from sklearn.model_selection import StratifiedKFold\n",
    "\n",
    "from time import perf_counter\n",
    "import math\n",
    "\n",
    "import neptune\n",
    "from neptune.integrations.tensorflow_keras import NeptuneCallback"
   ]
  },
  {
   "cell_type": "markdown",
   "id": "0eb1457f-83b0-4eb9-8a55-57299e4e4aac",
   "metadata": {},
   "source": [
    "# Initialize Functions"
   ]
  },
  {
   "cell_type": "code",
   "execution_count": 2,
   "id": "28c9f594-9465-4546-8a43-7f7ddefbce80",
   "metadata": {},
   "outputs": [],
   "source": [
    "model_name = \"V4.1.0\"\n",
    "checkpoint_path = f'./checkpoints/{model_name}/FOLD-'"
   ]
  },
  {
   "cell_type": "code",
   "execution_count": 22,
   "id": "27cee80d-5b28-441a-8ec0-67da468c4966",
   "metadata": {},
   "outputs": [],
   "source": [
    "def make_model(params):\n",
    "    model = Sequential()\n",
    "    model.add(RandomFlip(mode='horizontal', seed=1, input_shape=(256,256,3)))\n",
    "    model.add(RandomRotation(factor=0.2, seed=1))\n",
    "    \n",
    "    model.add(Conv2D(input_shape=(256,256,3), filters=32, kernel_size=(3,3), padding=\"same\"))\n",
    "    model.add(BatchNormalization(epsilon=0.0001))\n",
    "    model.add(ReLU())\n",
    "    model.add(MaxPooling2D())\n",
    "    \n",
    "    model.add(Conv2D(filters=64, kernel_size=(3,3), padding=\"same\"))\n",
    "    model.add(BatchNormalization(epsilon=0.0001))\n",
    "    model.add(ReLU())\n",
    "    model.add(MaxPooling2D())\n",
    "    \n",
    "    model.add(Conv2D(filters=128, kernel_size=(3,3), padding=\"same\"))\n",
    "    model.add(BatchNormalization(epsilon=0.0001))\n",
    "    model.add(ReLU())\n",
    "    model.add(MaxPooling2D())\n",
    "    \n",
    "    model.add(Conv2D(filters=256, kernel_size=(3,3), padding=\"same\"))\n",
    "    model.add(BatchNormalization(epsilon=0.0001))\n",
    "    model.add(ReLU())\n",
    "    model.add(MaxPooling2D())\n",
    "    \n",
    "    model.add(Flatten())\n",
    "    model.add(Dropout(0.2, seed=1))\n",
    "    model.add(Dense(units=512,activation=\"relu\"))\n",
    "    model.add(Dropout(0.2, seed=1))\n",
    "    model.add(Dense(units=256,activation=\"relu\"))\n",
    "    \n",
    "    model.add(Dense(units=4, activation=\"softmax\"))\n",
    "\n",
    "\n",
    "    optimizer = tf.keras.optimizers.Adam(\n",
    "        learning_rate=params[\"lr\"],\n",
    "    )\n",
    "    \n",
    "    model.compile(optimizer, loss='categorical_crossentropy', metrics=['accuracy'])\n",
    "    return model"
   ]
  },
  {
   "cell_type": "code",
   "execution_count": 23,
   "id": "022580a2-bbb0-46de-80d2-b93e647275c4",
   "metadata": {},
   "outputs": [],
   "source": [
    "def create_callbacks(counter):\n",
    "    neptune_cbk = NeptuneCallback(run=run, base_namespace=\"training\")\n",
    "\n",
    "    cp_callback = tf.keras.callbacks.ModelCheckpoint(filepath=checkpoint_path + str(counter), \n",
    "                                                                 monitor='val_loss', \n",
    "                                                                 mode='auto', \n",
    "                                                                 save_best_only=True, \n",
    "                                                                 verbose=1)\n",
    "    es_callback = tf.keras.callbacks.EarlyStopping(monitor='val_loss', \n",
    "                                                   patience=23,\n",
    "                                                  )\n",
    "    reduce_lr = tf.keras.callbacks.ReduceLROnPlateau(monitor='val_loss', \n",
    "                                                         factor=0.6, \n",
    "                                                         patience=10, \n",
    "                                                         min_delta=0.001, \n",
    "                                                         mode='auto', \n",
    "                                                         verbose=1)\n",
    "    return [neptune_cbk, reduce_lr, cp_callback, es_callback]"
   ]
  },
  {
   "cell_type": "code",
   "execution_count": 5,
   "id": "98d16a35-875d-4cff-abd0-6f554224f314",
   "metadata": {},
   "outputs": [],
   "source": [
    "def plot_loss(hist):\n",
    "    fig = plt.figure(figsize=(3,2))\n",
    "    plt.plot(hist.history['loss'], color='teal', label='loss')\n",
    "    plt.plot(hist.history['val_loss'], color='orange', label='val_loss')\n",
    "    plt.suptitle('Loss')\n",
    "    plt.legend(loc='upper right')\n",
    "    plt.show()\n",
    "    return fig"
   ]
  },
  {
   "cell_type": "code",
   "execution_count": 6,
   "id": "3ba83bd7-0b4b-43fc-8484-9f695a1f0039",
   "metadata": {},
   "outputs": [],
   "source": [
    "def plot_acc(hist):\n",
    "    fig = plt.figure(figsize=(3,2))\n",
    "    plt.plot(hist.history['accuracy'], color='teal', label='acc')\n",
    "    plt.plot(hist.history['val_accuracy'], color='orange', label='val_acc')\n",
    "    plt.suptitle('Accuracy')\n",
    "    plt.legend(loc='upper left')\n",
    "    plt.show()\n",
    "    return fig"
   ]
  },
  {
   "cell_type": "code",
   "execution_count": 7,
   "id": "8b527cae-cd2f-4cf0-8ad8-03355050b95c",
   "metadata": {},
   "outputs": [],
   "source": [
    "def avg_rate(metric_list):\n",
    "    return sum(metric_list) / len(metric_list)"
   ]
  },
  {
   "cell_type": "markdown",
   "id": "e27ee883-af64-4f8a-980d-d7936a9d6c9b",
   "metadata": {},
   "source": [
    "# Prepare Dataset"
   ]
  },
  {
   "cell_type": "code",
   "execution_count": 8,
   "id": "77bf8dc5-2d83-4b0a-ab84-007f05ccaa5a",
   "metadata": {},
   "outputs": [],
   "source": [
    "labels = ['Building', 'Plant', 'Road', 'Vehicle']\n",
    "X_train = []\n",
    "y_train = []\n",
    "y_label_idx = []\n",
    "image_size = 256\n",
    "for i in labels:\n",
    "    folderPath = os.path.join('D:\\DATASETS\\For-Thesis\\Labels', i)\n",
    "    for j in os.listdir(folderPath):\n",
    "        img = image_to_numpy.load_image_file(os.path.join(folderPath,j))\n",
    "        img = cv2.resize(img,(image_size, image_size))\n",
    "        X_train.append(img)\n",
    "        y_label_idx.append(labels.index(i))"
   ]
  },
  {
   "cell_type": "code",
   "execution_count": 9,
   "id": "86dd841d-f1af-4c0a-9557-55d800db547b",
   "metadata": {},
   "outputs": [],
   "source": [
    "X_train = np.array(X_train)\n",
    "y_label_idx = np.array(y_label_idx)\n",
    "\n",
    "X_train_scaled = X_train.astype(np.float32) / 255.0"
   ]
  },
  {
   "cell_type": "code",
   "execution_count": 10,
   "id": "569494d1-0259-4eaa-bcbe-89a567ac7203",
   "metadata": {},
   "outputs": [],
   "source": [
    "rng = default_rng(seed=1)\n",
    "\n",
    "buildings_test_idx = rng.choice(np.arange(0,600), size=120, replace=False)\n",
    "plants_test_idx = rng.choice(np.arange(600,1200), size=120, replace=False)\n",
    "roads_test_idx = rng.choice(np.arange(1200,1800), size=120, replace=False)\n",
    "vehicles_test_idx = rng.choice(np.arange(1800,2400), size=120, replace=False)\n",
    "total_test_idx = np.concatenate((buildings_test_idx, plants_test_idx, roads_test_idx, vehicles_test_idx), axis=None)"
   ]
  },
  {
   "cell_type": "code",
   "execution_count": 11,
   "id": "1b38d76e-94d9-442c-8025-11352e7a091d",
   "metadata": {},
   "outputs": [],
   "source": [
    "def train_test_X(X_train_scaled):    \n",
    "    test_x = X_train_scaled[total_test_idx]\n",
    "    train_x = np.delete(X_train_scaled, total_test_idx, axis=0)\n",
    "    return train_x, test_x\n",
    "\n",
    "def train_test_y(y_label_idx):\n",
    "    test_y = y_label_idx[total_test_idx]\n",
    "    train_y = np.delete(y_label_idx, total_test_idx, axis=0)\n",
    "    return train_y, test_y"
   ]
  },
  {
   "cell_type": "code",
   "execution_count": 12,
   "id": "cb0d422e-be3d-4544-84f8-1b5f39fd52af",
   "metadata": {},
   "outputs": [],
   "source": [
    "train_x, holdout_x = train_test_X(X_train_scaled)\n",
    "train_y, holdout_y = train_test_y(y_label_idx)"
   ]
  },
  {
   "cell_type": "code",
   "execution_count": 13,
   "id": "746890dd-29f8-433f-8a17-1b8e9444ce77",
   "metadata": {},
   "outputs": [
    {
     "name": "stdout",
     "output_type": "stream",
     "text": [
      "1920 480\n"
     ]
    }
   ],
   "source": [
    "print(len(train_x), len(holdout_x))"
   ]
  },
  {
   "cell_type": "code",
   "execution_count": 14,
   "id": "c4b2ae4a-5a0e-439d-9ece-c5a8a3d2fecd",
   "metadata": {},
   "outputs": [
    {
     "name": "stdout",
     "output_type": "stream",
     "text": [
      "[0 0 0 0 0]\n"
     ]
    }
   ],
   "source": [
    "print(train_y[:5])"
   ]
  },
  {
   "cell_type": "code",
   "execution_count": 15,
   "id": "7c75f07f-09ee-4037-83fb-d2bea64c4b02",
   "metadata": {},
   "outputs": [],
   "source": [
    "# Inidices remain the same thanks to the seed (set to 1)\n",
    "# with open('total_test_idx.txt', 'w+') as f:\n",
    "     \n",
    "#     # write elements of list\n",
    "#     for items in total_test_idx:\n",
    "#         f.write('%s ' %items)\n",
    "     \n",
    "#     print(\"File written successfully\")\n",
    " \n",
    " \n",
    "# # close the file\n",
    "# f.close()"
   ]
  },
  {
   "cell_type": "code",
   "execution_count": 16,
   "id": "cabf3dcc-8327-4f9b-af3a-aa795f1ee122",
   "metadata": {},
   "outputs": [],
   "source": [
    "# mnist = tf.keras.datasets.mnist\n",
    "# (x_train, y_train), (x_test, y_test) = mnist.load_data()\n",
    "# x_train, x_test = x_train / 255.0, x_test / 255.0"
   ]
  },
  {
   "cell_type": "markdown",
   "id": "a10b3d75-dfe3-4d66-a5c7-b46073861043",
   "metadata": {},
   "source": [
    "# Run KFOLD"
   ]
  },
  {
   "cell_type": "code",
   "execution_count": 17,
   "id": "97c647dc-35a6-4391-80b6-1db5643a1820",
   "metadata": {},
   "outputs": [],
   "source": [
    "kfold = StratifiedKFold(n_splits=8, shuffle=True, random_state=1)"
   ]
  },
  {
   "cell_type": "code",
   "execution_count": 18,
   "id": "f4679eae-6da1-4f77-8dd2-bf6b2a248908",
   "metadata": {},
   "outputs": [],
   "source": [
    "project_name = \"New-Thesis/KFold-Test\"\n",
    "# api_token = <It is already initialized in environemnt variables>\n",
    "params = {\n",
    "    \"lr\": 0.002, \n",
    "    \"epochs\": 45, \n",
    "    \"batch_size\": 8}"
   ]
  },
  {
   "cell_type": "code",
   "execution_count": 21,
   "id": "e13eae77-d4a9-4c8a-8571-b1249e13a124",
   "metadata": {},
   "outputs": [],
   "source": [
    "# run.stop()"
   ]
  },
  {
   "cell_type": "code",
   "execution_count": 24,
   "id": "2061b0ab-2132-4f3b-94cc-d5584da402ad",
   "metadata": {},
   "outputs": [
    {
     "name": "stderr",
     "output_type": "stream",
     "text": [
      "[neptune] [warning] NeptuneWarning: The following monitoring options are disabled by default in interactive sessions: 'capture_stdout', 'capture_stderr', 'capture_traceback', and 'capture_hardware_metrics'. To enable them, set each parameter to 'True' when initializing the run. The monitoring will continue until you call run.stop() or the kernel stops. Also note: Your source files can only be tracked if you pass the path(s) to the 'source_code' argument. For help, see the Neptune docs: https://docs.neptune.ai/logging/source_code/\n"
     ]
    },
    {
     "name": "stdout",
     "output_type": "stream",
     "text": [
      "[neptune] [info   ] Neptune initialized. Open in the app: offline/57a51fc7-c4de-493d-800c-25c013e92220\n",
      "WARNING:tensorflow:From C:\\Users\\user\\Documents\\Machine-Learning-Hub-1\\ImageClassification\\Neptune-Thesis\\venv\\lib\\site-packages\\keras\\src\\backend.py:873: The name tf.get_default_graph is deprecated. Please use tf.compat.v1.get_default_graph instead.\n",
      "\n",
      "WARNING:tensorflow:From C:\\Users\\user\\Documents\\Machine-Learning-Hub-1\\ImageClassification\\Neptune-Thesis\\venv\\lib\\site-packages\\keras\\src\\layers\\normalization\\batch_normalization.py:979: The name tf.nn.fused_batch_norm is deprecated. Please use tf.compat.v1.nn.fused_batch_norm instead.\n",
      "\n",
      "Epoch 1/45\n",
      "WARNING:tensorflow:From C:\\Users\\user\\Documents\\Machine-Learning-Hub-1\\ImageClassification\\Neptune-Thesis\\venv\\lib\\site-packages\\keras\\src\\utils\\tf_utils.py:492: The name tf.ragged.RaggedTensorValue is deprecated. Please use tf.compat.v1.ragged.RaggedTensorValue instead.\n",
      "\n",
      "WARNING:tensorflow:From C:\\Users\\user\\Documents\\Machine-Learning-Hub-1\\ImageClassification\\Neptune-Thesis\\venv\\lib\\site-packages\\keras\\src\\engine\\base_layer_utils.py:384: The name tf.executing_eagerly_outside_functions is deprecated. Please use tf.compat.v1.executing_eagerly_outside_functions instead.\n",
      "\n",
      "210/210 [==============================] - ETA: 0s - loss: 12.2932 - accuracy: 0.5101\n",
      "Epoch 1: val_loss improved from inf to 4.76573, saving model to ./checkpoints/V4.1.0\\FOLD-0\n",
      "INFO:tensorflow:Assets written to: ./checkpoints/V4.1.0\\FOLD-0\\assets\n"
     ]
    },
    {
     "name": "stderr",
     "output_type": "stream",
     "text": [
      "INFO:tensorflow:Assets written to: ./checkpoints/V4.1.0\\FOLD-0\\assets\n"
     ]
    },
    {
     "name": "stdout",
     "output_type": "stream",
     "text": [
      "210/210 [==============================] - 242s 1s/step - loss: 12.2932 - accuracy: 0.5101 - val_loss: 4.7657 - val_accuracy: 0.2500 - lr: 0.0020\n",
      "Epoch 2/45\n",
      "210/210 [==============================] - ETA: 0s - loss: 1.1124 - accuracy: 0.5958\n",
      "Epoch 2: val_loss improved from 4.76573 to 1.64364, saving model to ./checkpoints/V4.1.0\\FOLD-0\n",
      "INFO:tensorflow:Assets written to: ./checkpoints/V4.1.0\\FOLD-0\\assets\n"
     ]
    },
    {
     "name": "stderr",
     "output_type": "stream",
     "text": [
      "INFO:tensorflow:Assets written to: ./checkpoints/V4.1.0\\FOLD-0\\assets\n"
     ]
    },
    {
     "name": "stdout",
     "output_type": "stream",
     "text": [
      "210/210 [==============================] - 249s 1s/step - loss: 1.1124 - accuracy: 0.5958 - val_loss: 1.6436 - val_accuracy: 0.4333 - lr: 0.0020\n",
      "Epoch 3/45\n",
      "210/210 [==============================] - ETA: 0s - loss: 0.9409 - accuracy: 0.6077\n",
      "Epoch 3: val_loss improved from 1.64364 to 0.76110, saving model to ./checkpoints/V4.1.0\\FOLD-0\n",
      "INFO:tensorflow:Assets written to: ./checkpoints/V4.1.0\\FOLD-0\\assets\n"
     ]
    },
    {
     "name": "stderr",
     "output_type": "stream",
     "text": [
      "INFO:tensorflow:Assets written to: ./checkpoints/V4.1.0\\FOLD-0\\assets\n"
     ]
    },
    {
     "name": "stdout",
     "output_type": "stream",
     "text": [
      "210/210 [==============================] - 229s 1s/step - loss: 0.9409 - accuracy: 0.6077 - val_loss: 0.7611 - val_accuracy: 0.6167 - lr: 0.0020\n",
      "Epoch 4/45\n",
      "210/210 [==============================] - ETA: 0s - loss: 0.8688 - accuracy: 0.6304\n",
      "Epoch 4: val_loss did not improve from 0.76110\n",
      "210/210 [==============================] - 223s 1s/step - loss: 0.8688 - accuracy: 0.6304 - val_loss: 1.1795 - val_accuracy: 0.4500 - lr: 0.0020\n",
      "Epoch 5/45\n",
      "210/210 [==============================] - ETA: 0s - loss: 0.8532 - accuracy: 0.6464\n",
      "Epoch 5: val_loss improved from 0.76110 to 0.70427, saving model to ./checkpoints/V4.1.0\\FOLD-0\n",
      "INFO:tensorflow:Assets written to: ./checkpoints/V4.1.0\\FOLD-0\\assets\n"
     ]
    },
    {
     "name": "stderr",
     "output_type": "stream",
     "text": [
      "INFO:tensorflow:Assets written to: ./checkpoints/V4.1.0\\FOLD-0\\assets\n"
     ]
    },
    {
     "name": "stdout",
     "output_type": "stream",
     "text": [
      "210/210 [==============================] - 232s 1s/step - loss: 0.8532 - accuracy: 0.6464 - val_loss: 0.7043 - val_accuracy: 0.7250 - lr: 0.0020\n",
      "Epoch 6/45\n",
      "210/210 [==============================] - ETA: 0s - loss: 0.8948 - accuracy: 0.6679\n",
      "Epoch 6: val_loss did not improve from 0.70427\n",
      "210/210 [==============================] - 222s 1s/step - loss: 0.8948 - accuracy: 0.6679 - val_loss: 1.4434 - val_accuracy: 0.4875 - lr: 0.0020\n",
      "Epoch 7/45\n",
      "210/210 [==============================] - ETA: 0s - loss: 0.8504 - accuracy: 0.6464\n",
      "Epoch 7: val_loss did not improve from 0.70427\n",
      "210/210 [==============================] - 222s 1s/step - loss: 0.8504 - accuracy: 0.6464 - val_loss: 0.8963 - val_accuracy: 0.5917 - lr: 0.0020\n",
      "Epoch 8/45\n",
      "210/210 [==============================] - ETA: 0s - loss: 0.7632 - accuracy: 0.6798\n",
      "Epoch 8: val_loss improved from 0.70427 to 0.64303, saving model to ./checkpoints/V4.1.0\\FOLD-0\n",
      "INFO:tensorflow:Assets written to: ./checkpoints/V4.1.0\\FOLD-0\\assets\n"
     ]
    },
    {
     "name": "stderr",
     "output_type": "stream",
     "text": [
      "INFO:tensorflow:Assets written to: ./checkpoints/V4.1.0\\FOLD-0\\assets\n"
     ]
    },
    {
     "name": "stdout",
     "output_type": "stream",
     "text": [
      "210/210 [==============================] - 228s 1s/step - loss: 0.7632 - accuracy: 0.6798 - val_loss: 0.6430 - val_accuracy: 0.7292 - lr: 0.0020\n",
      "Epoch 9/45\n",
      "210/210 [==============================] - ETA: 0s - loss: 0.7094 - accuracy: 0.6893\n",
      "Epoch 9: val_loss improved from 0.64303 to 0.58488, saving model to ./checkpoints/V4.1.0\\FOLD-0\n",
      "INFO:tensorflow:Assets written to: ./checkpoints/V4.1.0\\FOLD-0\\assets\n"
     ]
    },
    {
     "name": "stderr",
     "output_type": "stream",
     "text": [
      "INFO:tensorflow:Assets written to: ./checkpoints/V4.1.0\\FOLD-0\\assets\n"
     ]
    },
    {
     "name": "stdout",
     "output_type": "stream",
     "text": [
      "210/210 [==============================] - 230s 1s/step - loss: 0.7094 - accuracy: 0.6893 - val_loss: 0.5849 - val_accuracy: 0.7708 - lr: 0.0020\n",
      "Epoch 10/45\n",
      "210/210 [==============================] - ETA: 0s - loss: 0.7333 - accuracy: 0.6994\n",
      "Epoch 10: val_loss did not improve from 0.58488\n",
      "210/210 [==============================] - 225s 1s/step - loss: 0.7333 - accuracy: 0.6994 - val_loss: 0.8486 - val_accuracy: 0.6042 - lr: 0.0020\n",
      "Epoch 11/45\n",
      "210/210 [==============================] - ETA: 0s - loss: 0.6663 - accuracy: 0.7304\n",
      "Epoch 11: val_loss did not improve from 0.58488\n",
      "210/210 [==============================] - 227s 1s/step - loss: 0.6663 - accuracy: 0.7304 - val_loss: 0.6483 - val_accuracy: 0.7625 - lr: 0.0020\n",
      "Epoch 12/45\n",
      "210/210 [==============================] - ETA: 0s - loss: 0.7046 - accuracy: 0.7155\n",
      "Epoch 12: val_loss did not improve from 0.58488\n",
      "210/210 [==============================] - 226s 1s/step - loss: 0.7046 - accuracy: 0.7155 - val_loss: 0.8222 - val_accuracy: 0.6042 - lr: 0.0020\n",
      "Epoch 13/45\n",
      "210/210 [==============================] - ETA: 0s - loss: 0.6261 - accuracy: 0.7601\n",
      "Epoch 13: val_loss did not improve from 0.58488\n",
      "210/210 [==============================] - 219s 1s/step - loss: 0.6261 - accuracy: 0.7601 - val_loss: 2.0286 - val_accuracy: 0.4875 - lr: 0.0020\n",
      "Epoch 14/45\n",
      "210/210 [==============================] - ETA: 0s - loss: 0.6820 - accuracy: 0.7208\n",
      "Epoch 14: val_loss did not improve from 0.58488\n",
      "210/210 [==============================] - 215s 1s/step - loss: 0.6820 - accuracy: 0.7208 - val_loss: 1.1900 - val_accuracy: 0.4500 - lr: 0.0020\n",
      "Epoch 15/45\n",
      "210/210 [==============================] - ETA: 0s - loss: 0.6463 - accuracy: 0.7351\n",
      "Epoch 15: val_loss did not improve from 0.58488\n",
      "210/210 [==============================] - 215s 1s/step - loss: 0.6463 - accuracy: 0.7351 - val_loss: 0.8955 - val_accuracy: 0.7042 - lr: 0.0020\n",
      "Epoch 16/45\n",
      "210/210 [==============================] - ETA: 0s - loss: 0.6206 - accuracy: 0.7536\n",
      "Epoch 16: val_loss did not improve from 0.58488\n",
      "210/210 [==============================] - 215s 1s/step - loss: 0.6206 - accuracy: 0.7536 - val_loss: 0.8285 - val_accuracy: 0.6875 - lr: 0.0020\n",
      "Epoch 17/45\n",
      "210/210 [==============================] - ETA: 0s - loss: 0.5831 - accuracy: 0.7548\n",
      "Epoch 17: val_loss did not improve from 0.58488\n",
      "210/210 [==============================] - 215s 1s/step - loss: 0.5831 - accuracy: 0.7548 - val_loss: 0.9419 - val_accuracy: 0.6042 - lr: 0.0020\n",
      "Epoch 18/45\n",
      "210/210 [==============================] - ETA: 0s - loss: 0.5633 - accuracy: 0.7631\n",
      "Epoch 18: val_loss improved from 0.58488 to 0.48461, saving model to ./checkpoints/V4.1.0\\FOLD-0\n",
      "INFO:tensorflow:Assets written to: ./checkpoints/V4.1.0\\FOLD-0\\assets\n"
     ]
    },
    {
     "name": "stderr",
     "output_type": "stream",
     "text": [
      "INFO:tensorflow:Assets written to: ./checkpoints/V4.1.0\\FOLD-0\\assets\n"
     ]
    },
    {
     "name": "stdout",
     "output_type": "stream",
     "text": [
      "210/210 [==============================] - 222s 1s/step - loss: 0.5633 - accuracy: 0.7631 - val_loss: 0.4846 - val_accuracy: 0.8083 - lr: 0.0020\n",
      "Epoch 19/45\n",
      "210/210 [==============================] - ETA: 0s - loss: 0.6088 - accuracy: 0.7494\n",
      "Epoch 19: val_loss did not improve from 0.48461\n",
      "210/210 [==============================] - 215s 1s/step - loss: 0.6088 - accuracy: 0.7494 - val_loss: 1.9437 - val_accuracy: 0.3750 - lr: 0.0020\n",
      "Epoch 20/45\n",
      "210/210 [==============================] - ETA: 0s - loss: 0.5828 - accuracy: 0.7756\n",
      "Epoch 20: val_loss did not improve from 0.48461\n",
      "210/210 [==============================] - 215s 1s/step - loss: 0.5828 - accuracy: 0.7756 - val_loss: 0.5501 - val_accuracy: 0.7583 - lr: 0.0020\n",
      "Epoch 21/45\n",
      "210/210 [==============================] - ETA: 0s - loss: 0.5055 - accuracy: 0.7869\n",
      "Epoch 21: val_loss did not improve from 0.48461\n",
      "210/210 [==============================] - 215s 1s/step - loss: 0.5055 - accuracy: 0.7869 - val_loss: 1.0120 - val_accuracy: 0.5167 - lr: 0.0020\n",
      "Epoch 22/45\n",
      "210/210 [==============================] - ETA: 0s - loss: 0.5043 - accuracy: 0.7976\n",
      "Epoch 22: val_loss did not improve from 0.48461\n",
      "210/210 [==============================] - 215s 1s/step - loss: 0.5043 - accuracy: 0.7976 - val_loss: 1.5766 - val_accuracy: 0.4583 - lr: 0.0020\n",
      "Epoch 23/45\n",
      "210/210 [==============================] - ETA: 0s - loss: 0.5077 - accuracy: 0.7988\n",
      "Epoch 23: val_loss did not improve from 0.48461\n",
      "210/210 [==============================] - 216s 1s/step - loss: 0.5077 - accuracy: 0.7988 - val_loss: 0.5564 - val_accuracy: 0.8333 - lr: 0.0020\n",
      "Epoch 24/45\n",
      "210/210 [==============================] - ETA: 0s - loss: 0.4619 - accuracy: 0.8173\n",
      "Epoch 24: val_loss did not improve from 0.48461\n",
      "210/210 [==============================] - 215s 1s/step - loss: 0.4619 - accuracy: 0.8173 - val_loss: 0.6266 - val_accuracy: 0.7958 - lr: 0.0020\n",
      "Epoch 25/45\n",
      "210/210 [==============================] - ETA: 0s - loss: 0.4937 - accuracy: 0.7976\n",
      "Epoch 25: val_loss did not improve from 0.48461\n",
      "210/210 [==============================] - 251s 1s/step - loss: 0.4937 - accuracy: 0.7976 - val_loss: 0.8901 - val_accuracy: 0.6542 - lr: 0.0020\n",
      "Epoch 26/45\n",
      "210/210 [==============================] - ETA: 0s - loss: 0.4277 - accuracy: 0.8333\n",
      "Epoch 26: val_loss did not improve from 0.48461\n",
      "210/210 [==============================] - 245s 1s/step - loss: 0.4277 - accuracy: 0.8333 - val_loss: 1.8011 - val_accuracy: 0.5542 - lr: 0.0020\n",
      "Epoch 27/45\n",
      "210/210 [==============================] - ETA: 0s - loss: 0.4604 - accuracy: 0.8119\n",
      "Epoch 27: val_loss did not improve from 0.48461\n",
      "210/210 [==============================] - 246s 1s/step - loss: 0.4604 - accuracy: 0.8119 - val_loss: 1.1310 - val_accuracy: 0.4625 - lr: 0.0020\n",
      "Epoch 28/45\n",
      "210/210 [==============================] - ETA: 0s - loss: 0.4396 - accuracy: 0.8232\n",
      "Epoch 28: ReduceLROnPlateau reducing learning rate to 0.0012000000569969416.\n",
      "\n",
      "Epoch 28: val_loss did not improve from 0.48461\n",
      "210/210 [==============================] - 247s 1s/step - loss: 0.4396 - accuracy: 0.8232 - val_loss: 0.9277 - val_accuracy: 0.6708 - lr: 0.0020\n",
      "Epoch 29/45\n",
      "210/210 [==============================] - ETA: 0s - loss: 0.3959 - accuracy: 0.8488\n",
      "Epoch 29: val_loss did not improve from 0.48461\n",
      "210/210 [==============================] - 264s 1s/step - loss: 0.3959 - accuracy: 0.8488 - val_loss: 0.7129 - val_accuracy: 0.7500 - lr: 0.0012\n",
      "Epoch 30/45\n",
      "210/210 [==============================] - ETA: 0s - loss: 0.3108 - accuracy: 0.8780\n",
      "Epoch 30: val_loss did not improve from 0.48461\n",
      "210/210 [==============================] - 300s 1s/step - loss: 0.3108 - accuracy: 0.8780 - val_loss: 1.8099 - val_accuracy: 0.4042 - lr: 0.0012\n",
      "Epoch 31/45\n",
      "210/210 [==============================] - ETA: 0s - loss: 0.3393 - accuracy: 0.8619\n",
      "Epoch 31: val_loss did not improve from 0.48461\n",
      "210/210 [==============================] - 276s 1s/step - loss: 0.3393 - accuracy: 0.8619 - val_loss: 0.8109 - val_accuracy: 0.6833 - lr: 0.0012\n",
      "Epoch 32/45\n",
      "210/210 [==============================] - ETA: 0s - loss: 0.3384 - accuracy: 0.8744\n",
      "Epoch 32: val_loss improved from 0.48461 to 0.46686, saving model to ./checkpoints/V4.1.0\\FOLD-0\n",
      "INFO:tensorflow:Assets written to: ./checkpoints/V4.1.0\\FOLD-0\\assets\n"
     ]
    },
    {
     "name": "stderr",
     "output_type": "stream",
     "text": [
      "INFO:tensorflow:Assets written to: ./checkpoints/V4.1.0\\FOLD-0\\assets\n"
     ]
    },
    {
     "name": "stdout",
     "output_type": "stream",
     "text": [
      "210/210 [==============================] - 270s 1s/step - loss: 0.3384 - accuracy: 0.8744 - val_loss: 0.4669 - val_accuracy: 0.8667 - lr: 0.0012\n",
      "Epoch 33/45\n",
      "210/210 [==============================] - ETA: 0s - loss: 0.3281 - accuracy: 0.8833\n",
      "Epoch 33: val_loss did not improve from 0.46686\n",
      "210/210 [==============================] - 284s 1s/step - loss: 0.3281 - accuracy: 0.8833 - val_loss: 0.7594 - val_accuracy: 0.7083 - lr: 0.0012\n",
      "Epoch 34/45\n",
      "210/210 [==============================] - ETA: 0s - loss: 0.3431 - accuracy: 0.8756\n",
      "Epoch 34: val_loss did not improve from 0.46686\n",
      "210/210 [==============================] - 276s 1s/step - loss: 0.3431 - accuracy: 0.8756 - val_loss: 2.2038 - val_accuracy: 0.4250 - lr: 0.0012\n",
      "Epoch 35/45\n",
      "210/210 [==============================] - ETA: 0s - loss: 0.3153 - accuracy: 0.8851\n",
      "Epoch 35: val_loss improved from 0.46686 to 0.37043, saving model to ./checkpoints/V4.1.0\\FOLD-0\n",
      "INFO:tensorflow:Assets written to: ./checkpoints/V4.1.0\\FOLD-0\\assets\n"
     ]
    },
    {
     "name": "stderr",
     "output_type": "stream",
     "text": [
      "INFO:tensorflow:Assets written to: ./checkpoints/V4.1.0\\FOLD-0\\assets\n"
     ]
    },
    {
     "name": "stdout",
     "output_type": "stream",
     "text": [
      "210/210 [==============================] - 235s 1s/step - loss: 0.3153 - accuracy: 0.8851 - val_loss: 0.3704 - val_accuracy: 0.8583 - lr: 0.0012\n",
      "Epoch 36/45\n",
      "210/210 [==============================] - ETA: 0s - loss: 0.3152 - accuracy: 0.8768\n",
      "Epoch 36: val_loss did not improve from 0.37043\n",
      "210/210 [==============================] - 237s 1s/step - loss: 0.3152 - accuracy: 0.8768 - val_loss: 1.0090 - val_accuracy: 0.7042 - lr: 0.0012\n",
      "Epoch 37/45\n",
      "210/210 [==============================] - ETA: 0s - loss: 0.3095 - accuracy: 0.8804\n",
      "Epoch 37: val_loss improved from 0.37043 to 0.32165, saving model to ./checkpoints/V4.1.0\\FOLD-0\n",
      "INFO:tensorflow:Assets written to: ./checkpoints/V4.1.0\\FOLD-0\\assets\n"
     ]
    },
    {
     "name": "stderr",
     "output_type": "stream",
     "text": [
      "INFO:tensorflow:Assets written to: ./checkpoints/V4.1.0\\FOLD-0\\assets\n"
     ]
    },
    {
     "name": "stdout",
     "output_type": "stream",
     "text": [
      "210/210 [==============================] - 248s 1s/step - loss: 0.3095 - accuracy: 0.8804 - val_loss: 0.3216 - val_accuracy: 0.8792 - lr: 0.0012\n",
      "Epoch 38/45\n",
      "210/210 [==============================] - ETA: 0s - loss: 0.3009 - accuracy: 0.8845\n",
      "Epoch 38: val_loss did not improve from 0.32165\n",
      "210/210 [==============================] - 208s 993ms/step - loss: 0.3009 - accuracy: 0.8845 - val_loss: 0.4197 - val_accuracy: 0.8458 - lr: 0.0012\n",
      "Epoch 39/45\n",
      "210/210 [==============================] - ETA: 0s - loss: 0.3218 - accuracy: 0.8786\n",
      "Epoch 39: val_loss improved from 0.32165 to 0.28557, saving model to ./checkpoints/V4.1.0\\FOLD-0\n",
      "INFO:tensorflow:Assets written to: ./checkpoints/V4.1.0\\FOLD-0\\assets\n"
     ]
    },
    {
     "name": "stderr",
     "output_type": "stream",
     "text": [
      "INFO:tensorflow:Assets written to: ./checkpoints/V4.1.0\\FOLD-0\\assets\n"
     ]
    },
    {
     "name": "stdout",
     "output_type": "stream",
     "text": [
      "210/210 [==============================] - 213s 1s/step - loss: 0.3218 - accuracy: 0.8786 - val_loss: 0.2856 - val_accuracy: 0.8792 - lr: 0.0012\n",
      "Epoch 40/45\n",
      "210/210 [==============================] - ETA: 0s - loss: 0.2875 - accuracy: 0.8839\n",
      "Epoch 40: val_loss did not improve from 0.28557\n",
      "210/210 [==============================] - 205s 974ms/step - loss: 0.2875 - accuracy: 0.8839 - val_loss: 0.8131 - val_accuracy: 0.6875 - lr: 0.0012\n",
      "Epoch 41/45\n",
      "210/210 [==============================] - ETA: 0s - loss: 0.2704 - accuracy: 0.8952\n",
      "Epoch 41: val_loss did not improve from 0.28557\n",
      "210/210 [==============================] - 209s 996ms/step - loss: 0.2704 - accuracy: 0.8952 - val_loss: 0.3054 - val_accuracy: 0.8750 - lr: 0.0012\n",
      "Epoch 42/45\n",
      "210/210 [==============================] - ETA: 0s - loss: 0.3010 - accuracy: 0.8911\n",
      "Epoch 42: val_loss did not improve from 0.28557\n",
      "210/210 [==============================] - 246s 1s/step - loss: 0.3010 - accuracy: 0.8911 - val_loss: 0.8011 - val_accuracy: 0.7458 - lr: 0.0012\n",
      "Epoch 43/45\n",
      "210/210 [==============================] - ETA: 0s - loss: 0.2868 - accuracy: 0.8982\n",
      "Epoch 43: val_loss did not improve from 0.28557\n",
      "210/210 [==============================] - 249s 1s/step - loss: 0.2868 - accuracy: 0.8982 - val_loss: 0.6897 - val_accuracy: 0.7708 - lr: 0.0012\n",
      "Epoch 44/45\n",
      "210/210 [==============================] - ETA: 0s - loss: 0.2879 - accuracy: 0.9000\n",
      "Epoch 44: val_loss did not improve from 0.28557\n",
      "210/210 [==============================] - 243s 1s/step - loss: 0.2879 - accuracy: 0.9000 - val_loss: 0.5536 - val_accuracy: 0.8417 - lr: 0.0012\n",
      "Epoch 45/45\n",
      "210/210 [==============================] - ETA: 0s - loss: 0.2353 - accuracy: 0.9149\n",
      "Epoch 45: val_loss did not improve from 0.28557\n",
      "210/210 [==============================] - 234s 1s/step - loss: 0.2353 - accuracy: 0.9149 - val_loss: 0.6145 - val_accuracy: 0.7958 - lr: 0.0012\n"
     ]
    },
    {
     "data": {
      "image/png": "[encoded data removed]",
      "text/plain": [
       "<Figure size 300x200 with 1 Axes>"
      ]
     },
     "metadata": {},
     "output_type": "display_data"
    },
    {
     "data": {
      "image/png": "[encoded data removed]",
      "text/plain": [
       "<Figure size 300x200 with 1 Axes>"
      ]
     },
     "metadata": {},
     "output_type": "display_data"
    },
    {
     "name": "stdout",
     "output_type": "stream",
     "text": [
      "WARNING:tensorflow:From C:\\Users\\user\\Documents\\Machine-Learning-Hub-1\\ImageClassification\\Neptune-Thesis\\venv\\lib\\site-packages\\keras\\src\\saving\\legacy\\saved_model\\load.py:107: The name tf.gfile.Exists is deprecated. Please use tf.io.gfile.exists instead.\n",
      "\n"
     ]
    },
    {
     "name": "stderr",
     "output_type": "stream",
     "text": [
      "WARNING:tensorflow:From C:\\Users\\user\\Documents\\Machine-Learning-Hub-1\\ImageClassification\\Neptune-Thesis\\venv\\lib\\site-packages\\keras\\src\\saving\\legacy\\saved_model\\load.py:107: The name tf.gfile.Exists is deprecated. Please use tf.io.gfile.exists instead.\n",
      "\n"
     ]
    },
    {
     "name": "stdout",
     "output_type": "stream",
     "text": [
      "Fold Training Time: 2 hour(s) and 55 mins\n",
      "Precision: 87.98283338546753  -  Recall: 85.41666865348816\n",
      "Accuracy: 87.91666626930237\n",
      "F1Score: Building 78.50467681884766 | Plant 92.68293762207031 | Road 96.0 | Vehicle 83.19999694824219\n",
      "[neptune] [info   ] Shutting down background jobs, please wait a moment...\n",
      "[neptune] [info   ] Done!\n",
      "[neptune] [info   ] Neptune initialized. Open in the app: offline/e3e441c0-588c-4d79-a2e9-308312e3ad62\n",
      "Epoch 1/45\n",
      "210/210 [==============================] - ETA: 0s - loss: 12.9754 - accuracy: 0.4911\n",
      "Epoch 1: val_loss improved from inf to 6.28030, saving model to ./checkpoints/V4.1.0\\FOLD-1\n",
      "INFO:tensorflow:Assets written to: ./checkpoints/V4.1.0\\FOLD-1\\assets\n"
     ]
    },
    {
     "name": "stderr",
     "output_type": "stream",
     "text": [
      "INFO:tensorflow:Assets written to: ./checkpoints/V4.1.0\\FOLD-1\\assets\n"
     ]
    },
    {
     "name": "stdout",
     "output_type": "stream",
     "text": [
      "210/210 [==============================] - 227s 1s/step - loss: 12.9754 - accuracy: 0.4911 - val_loss: 6.2803 - val_accuracy: 0.3208 - lr: 0.0020\n",
      "Epoch 2/45\n",
      "210/210 [==============================] - ETA: 0s - loss: 0.9773 - accuracy: 0.6220\n",
      "Epoch 2: val_loss improved from 6.28030 to 1.02634, saving model to ./checkpoints/V4.1.0\\FOLD-1\n",
      "INFO:tensorflow:Assets written to: ./checkpoints/V4.1.0\\FOLD-1\\assets\n"
     ]
    },
    {
     "name": "stderr",
     "output_type": "stream",
     "text": [
      "INFO:tensorflow:Assets written to: ./checkpoints/V4.1.0\\FOLD-1\\assets\n"
     ]
    },
    {
     "name": "stdout",
     "output_type": "stream",
     "text": [
      "210/210 [==============================] - 208s 991ms/step - loss: 0.9773 - accuracy: 0.6220 - val_loss: 1.0263 - val_accuracy: 0.5500 - lr: 0.0020\n",
      "Epoch 3/45\n",
      "210/210 [==============================] - ETA: 0s - loss: 0.9047 - accuracy: 0.6440\n",
      "Epoch 3: val_loss did not improve from 1.02634\n",
      "210/210 [==============================] - 200s 951ms/step - loss: 0.9047 - accuracy: 0.6440 - val_loss: 1.4008 - val_accuracy: 0.4417 - lr: 0.0020\n",
      "Epoch 4/45\n",
      "210/210 [==============================] - ETA: 0s - loss: 0.8953 - accuracy: 0.6440\n",
      "Epoch 4: val_loss improved from 1.02634 to 1.01476, saving model to ./checkpoints/V4.1.0\\FOLD-1\n",
      "INFO:tensorflow:Assets written to: ./checkpoints/V4.1.0\\FOLD-1\\assets\n"
     ]
    },
    {
     "name": "stderr",
     "output_type": "stream",
     "text": [
      "INFO:tensorflow:Assets written to: ./checkpoints/V4.1.0\\FOLD-1\\assets\n"
     ]
    },
    {
     "name": "stdout",
     "output_type": "stream",
     "text": [
      "210/210 [==============================] - 211s 1s/step - loss: 0.8953 - accuracy: 0.6440 - val_loss: 1.0148 - val_accuracy: 0.5500 - lr: 0.0020\n",
      "Epoch 5/45\n",
      "210/210 [==============================] - ETA: 0s - loss: 0.8099 - accuracy: 0.6726\n",
      "Epoch 5: val_loss improved from 1.01476 to 0.89428, saving model to ./checkpoints/V4.1.0\\FOLD-1\n",
      "INFO:tensorflow:Assets written to: ./checkpoints/V4.1.0\\FOLD-1\\assets\n"
     ]
    },
    {
     "name": "stderr",
     "output_type": "stream",
     "text": [
      "INFO:tensorflow:Assets written to: ./checkpoints/V4.1.0\\FOLD-1\\assets\n"
     ]
    },
    {
     "name": "stdout",
     "output_type": "stream",
     "text": [
      "210/210 [==============================] - 214s 1s/step - loss: 0.8099 - accuracy: 0.6726 - val_loss: 0.8943 - val_accuracy: 0.6417 - lr: 0.0020\n",
      "Epoch 6/45\n",
      "210/210 [==============================] - ETA: 0s - loss: 0.8451 - accuracy: 0.6589\n",
      "Epoch 6: val_loss did not improve from 0.89428\n",
      "210/210 [==============================] - 211s 1s/step - loss: 0.8451 - accuracy: 0.6589 - val_loss: 1.3042 - val_accuracy: 0.4792 - lr: 0.0020\n",
      "Epoch 7/45\n",
      "210/210 [==============================] - ETA: 0s - loss: 0.7811 - accuracy: 0.7048\n",
      "Epoch 7: val_loss did not improve from 0.89428\n",
      "210/210 [==============================] - 206s 981ms/step - loss: 0.7811 - accuracy: 0.7048 - val_loss: 1.5816 - val_accuracy: 0.4875 - lr: 0.0020\n",
      "Epoch 8/45\n",
      "210/210 [==============================] - ETA: 0s - loss: 0.7906 - accuracy: 0.6881\n",
      "Epoch 8: val_loss did not improve from 0.89428\n",
      "210/210 [==============================] - 203s 968ms/step - loss: 0.7906 - accuracy: 0.6881 - val_loss: 1.1862 - val_accuracy: 0.5125 - lr: 0.0020\n",
      "Epoch 9/45\n",
      "210/210 [==============================] - ETA: 0s - loss: 0.7980 - accuracy: 0.7030\n",
      "Epoch 9: val_loss did not improve from 0.89428\n",
      "210/210 [==============================] - 203s 965ms/step - loss: 0.7980 - accuracy: 0.7030 - val_loss: 1.4636 - val_accuracy: 0.3458 - lr: 0.0020\n",
      "Epoch 10/45\n",
      "210/210 [==============================] - ETA: 0s - loss: 0.7272 - accuracy: 0.7107\n",
      "Epoch 10: val_loss did not improve from 0.89428\n",
      "210/210 [==============================] - 198s 943ms/step - loss: 0.7272 - accuracy: 0.7107 - val_loss: 1.2765 - val_accuracy: 0.5042 - lr: 0.0020\n",
      "Epoch 11/45\n",
      "210/210 [==============================] - ETA: 0s - loss: 0.6651 - accuracy: 0.7542\n",
      "Epoch 11: val_loss did not improve from 0.89428\n",
      "210/210 [==============================] - 195s 930ms/step - loss: 0.6651 - accuracy: 0.7542 - val_loss: 1.1455 - val_accuracy: 0.4458 - lr: 0.0020\n",
      "Epoch 12/45\n",
      "210/210 [==============================] - ETA: 0s - loss: 0.6847 - accuracy: 0.7423\n",
      "Epoch 12: val_loss improved from 0.89428 to 0.74891, saving model to ./checkpoints/V4.1.0\\FOLD-1\n",
      "INFO:tensorflow:Assets written to: ./checkpoints/V4.1.0\\FOLD-1\\assets\n"
     ]
    },
    {
     "name": "stderr",
     "output_type": "stream",
     "text": [
      "INFO:tensorflow:Assets written to: ./checkpoints/V4.1.0\\FOLD-1\\assets\n"
     ]
    },
    {
     "name": "stdout",
     "output_type": "stream",
     "text": [
      "210/210 [==============================] - 202s 961ms/step - loss: 0.6847 - accuracy: 0.7423 - val_loss: 0.7489 - val_accuracy: 0.7500 - lr: 0.0020\n",
      "Epoch 13/45\n",
      "210/210 [==============================] - ETA: 0s - loss: 0.6706 - accuracy: 0.7435\n",
      "Epoch 13: val_loss improved from 0.74891 to 0.65034, saving model to ./checkpoints/V4.1.0\\FOLD-1\n",
      "INFO:tensorflow:Assets written to: ./checkpoints/V4.1.0\\FOLD-1\\assets\n"
     ]
    },
    {
     "name": "stderr",
     "output_type": "stream",
     "text": [
      "INFO:tensorflow:Assets written to: ./checkpoints/V4.1.0\\FOLD-1\\assets\n"
     ]
    },
    {
     "name": "stdout",
     "output_type": "stream",
     "text": [
      "210/210 [==============================] - 202s 961ms/step - loss: 0.6706 - accuracy: 0.7435 - val_loss: 0.6503 - val_accuracy: 0.7333 - lr: 0.0020\n",
      "Epoch 14/45\n",
      "210/210 [==============================] - ETA: 0s - loss: 0.6247 - accuracy: 0.7607\n",
      "Epoch 14: val_loss did not improve from 0.65034\n",
      "210/210 [==============================] - 195s 928ms/step - loss: 0.6247 - accuracy: 0.7607 - val_loss: 0.9241 - val_accuracy: 0.6167 - lr: 0.0020\n",
      "Epoch 15/45\n",
      "210/210 [==============================] - ETA: 0s - loss: 0.6104 - accuracy: 0.7548\n",
      "Epoch 15: val_loss did not improve from 0.65034\n",
      "210/210 [==============================] - 196s 932ms/step - loss: 0.6104 - accuracy: 0.7548 - val_loss: 0.7170 - val_accuracy: 0.7208 - lr: 0.0020\n",
      "Epoch 16/45\n",
      "210/210 [==============================] - ETA: 0s - loss: 0.5974 - accuracy: 0.7798\n",
      "Epoch 16: val_loss improved from 0.65034 to 0.45608, saving model to ./checkpoints/V4.1.0\\FOLD-1\n",
      "INFO:tensorflow:Assets written to: ./checkpoints/V4.1.0\\FOLD-1\\assets\n"
     ]
    },
    {
     "name": "stderr",
     "output_type": "stream",
     "text": [
      "INFO:tensorflow:Assets written to: ./checkpoints/V4.1.0\\FOLD-1\\assets\n"
     ]
    },
    {
     "name": "stdout",
     "output_type": "stream",
     "text": [
      "210/210 [==============================] - 205s 978ms/step - loss: 0.5974 - accuracy: 0.7798 - val_loss: 0.4561 - val_accuracy: 0.8125 - lr: 0.0020\n",
      "Epoch 17/45\n",
      "210/210 [==============================] - ETA: 0s - loss: 0.5969 - accuracy: 0.7768\n",
      "Epoch 17: val_loss did not improve from 0.45608\n",
      "210/210 [==============================] - 196s 932ms/step - loss: 0.5969 - accuracy: 0.7768 - val_loss: 1.8105 - val_accuracy: 0.3583 - lr: 0.0020\n",
      "Epoch 18/45\n",
      "210/210 [==============================] - ETA: 0s - loss: 0.6224 - accuracy: 0.7708\n",
      "Epoch 18: val_loss did not improve from 0.45608\n",
      "210/210 [==============================] - 196s 933ms/step - loss: 0.6224 - accuracy: 0.7708 - val_loss: 0.5781 - val_accuracy: 0.7667 - lr: 0.0020\n",
      "Epoch 19/45\n",
      "210/210 [==============================] - ETA: 0s - loss: 0.5913 - accuracy: 0.7744\n",
      "Epoch 19: val_loss did not improve from 0.45608\n",
      "210/210 [==============================] - 195s 928ms/step - loss: 0.5913 - accuracy: 0.7744 - val_loss: 1.9725 - val_accuracy: 0.3542 - lr: 0.0020\n",
      "Epoch 20/45\n",
      "210/210 [==============================] - ETA: 0s - loss: 0.5573 - accuracy: 0.7988\n",
      "Epoch 20: val_loss did not improve from 0.45608\n",
      "210/210 [==============================] - 196s 932ms/step - loss: 0.5573 - accuracy: 0.7988 - val_loss: 0.8364 - val_accuracy: 0.7083 - lr: 0.0020\n",
      "Epoch 21/45\n",
      "210/210 [==============================] - ETA: 0s - loss: 0.5675 - accuracy: 0.7875\n",
      "Epoch 21: val_loss did not improve from 0.45608\n",
      "210/210 [==============================] - 195s 931ms/step - loss: 0.5675 - accuracy: 0.7875 - val_loss: 0.5409 - val_accuracy: 0.7917 - lr: 0.0020\n",
      "Epoch 22/45\n",
      "210/210 [==============================] - ETA: 0s - loss: 0.5163 - accuracy: 0.8024\n",
      "Epoch 22: val_loss improved from 0.45608 to 0.39413, saving model to ./checkpoints/V4.1.0\\FOLD-1\n",
      "INFO:tensorflow:Assets written to: ./checkpoints/V4.1.0\\FOLD-1\\assets\n"
     ]
    },
    {
     "name": "stderr",
     "output_type": "stream",
     "text": [
      "INFO:tensorflow:Assets written to: ./checkpoints/V4.1.0\\FOLD-1\\assets\n"
     ]
    },
    {
     "name": "stdout",
     "output_type": "stream",
     "text": [
      "210/210 [==============================] - 202s 962ms/step - loss: 0.5163 - accuracy: 0.8024 - val_loss: 0.3941 - val_accuracy: 0.8542 - lr: 0.0020\n",
      "Epoch 23/45\n",
      "210/210 [==============================] - ETA: 0s - loss: 0.5323 - accuracy: 0.7869\n",
      "Epoch 23: val_loss did not improve from 0.39413\n",
      "210/210 [==============================] - 196s 931ms/step - loss: 0.5323 - accuracy: 0.7869 - val_loss: 0.5732 - val_accuracy: 0.7500 - lr: 0.0020\n",
      "Epoch 24/45\n",
      "210/210 [==============================] - ETA: 0s - loss: 0.5602 - accuracy: 0.7899\n",
      "Epoch 24: val_loss did not improve from 0.39413\n",
      "210/210 [==============================] - 195s 927ms/step - loss: 0.5602 - accuracy: 0.7899 - val_loss: 0.5493 - val_accuracy: 0.7708 - lr: 0.0020\n",
      "Epoch 25/45\n",
      "210/210 [==============================] - ETA: 0s - loss: 0.5127 - accuracy: 0.8012\n",
      "Epoch 25: val_loss did not improve from 0.39413\n",
      "210/210 [==============================] - 196s 933ms/step - loss: 0.5127 - accuracy: 0.8012 - val_loss: 0.8182 - val_accuracy: 0.6667 - lr: 0.0020\n",
      "Epoch 26/45\n",
      "210/210 [==============================] - ETA: 0s - loss: 0.4854 - accuracy: 0.8113\n",
      "Epoch 26: val_loss did not improve from 0.39413\n",
      "210/210 [==============================] - 195s 931ms/step - loss: 0.4854 - accuracy: 0.8113 - val_loss: 3.1001 - val_accuracy: 0.3292 - lr: 0.0020\n",
      "Epoch 27/45\n",
      "210/210 [==============================] - ETA: 0s - loss: 0.4813 - accuracy: 0.8238\n",
      "Epoch 27: val_loss did not improve from 0.39413\n",
      "210/210 [==============================] - 195s 929ms/step - loss: 0.4813 - accuracy: 0.8238 - val_loss: 1.0867 - val_accuracy: 0.5708 - lr: 0.0020\n",
      "Epoch 28/45\n",
      "210/210 [==============================] - ETA: 0s - loss: 0.5096 - accuracy: 0.8077\n",
      "Epoch 28: val_loss did not improve from 0.39413\n",
      "210/210 [==============================] - 195s 929ms/step - loss: 0.5096 - accuracy: 0.8077 - val_loss: 1.9152 - val_accuracy: 0.5583 - lr: 0.0020\n",
      "Epoch 29/45\n",
      "210/210 [==============================] - ETA: 0s - loss: 0.4457 - accuracy: 0.8345\n",
      "Epoch 29: val_loss did not improve from 0.39413\n",
      "210/210 [==============================] - 196s 932ms/step - loss: 0.4457 - accuracy: 0.8345 - val_loss: 0.4347 - val_accuracy: 0.8167 - lr: 0.0020\n",
      "Epoch 30/45\n",
      "210/210 [==============================] - ETA: 0s - loss: 0.4848 - accuracy: 0.8214\n",
      "Epoch 30: val_loss did not improve from 0.39413\n",
      "210/210 [==============================] - 196s 934ms/step - loss: 0.4848 - accuracy: 0.8214 - val_loss: 0.7028 - val_accuracy: 0.7167 - lr: 0.0020\n",
      "Epoch 31/45\n",
      "210/210 [==============================] - ETA: 0s - loss: 0.4555 - accuracy: 0.8345\n",
      "Epoch 31: val_loss did not improve from 0.39413\n",
      "210/210 [==============================] - 195s 931ms/step - loss: 0.4555 - accuracy: 0.8345 - val_loss: 0.9923 - val_accuracy: 0.5208 - lr: 0.0020\n",
      "Epoch 32/45\n",
      "210/210 [==============================] - ETA: 0s - loss: 0.4892 - accuracy: 0.8143\n",
      "Epoch 32: ReduceLROnPlateau reducing learning rate to 0.0012000000569969416.\n",
      "\n",
      "Epoch 32: val_loss did not improve from 0.39413\n",
      "210/210 [==============================] - 195s 927ms/step - loss: 0.4892 - accuracy: 0.8143 - val_loss: 0.8711 - val_accuracy: 0.6333 - lr: 0.0020\n",
      "Epoch 33/45\n",
      "210/210 [==============================] - ETA: 0s - loss: 0.4235 - accuracy: 0.8452\n",
      "Epoch 33: val_loss did not improve from 0.39413\n",
      "210/210 [==============================] - 195s 929ms/step - loss: 0.4235 - accuracy: 0.8452 - val_loss: 0.6728 - val_accuracy: 0.7417 - lr: 0.0012\n",
      "Epoch 34/45\n",
      "210/210 [==============================] - ETA: 0s - loss: 0.3987 - accuracy: 0.8464\n",
      "Epoch 34: val_loss did not improve from 0.39413\n",
      "210/210 [==============================] - 196s 935ms/step - loss: 0.3987 - accuracy: 0.8464 - val_loss: 0.5122 - val_accuracy: 0.7750 - lr: 0.0012\n",
      "Epoch 35/45\n",
      "210/210 [==============================] - ETA: 0s - loss: 0.3593 - accuracy: 0.8637\n",
      "Epoch 35: val_loss did not improve from 0.39413\n",
      "210/210 [==============================] - 195s 927ms/step - loss: 0.3593 - accuracy: 0.8637 - val_loss: 2.8687 - val_accuracy: 0.4083 - lr: 0.0012\n",
      "Epoch 36/45\n",
      "210/210 [==============================] - ETA: 0s - loss: 0.3511 - accuracy: 0.8714\n",
      "Epoch 36: val_loss improved from 0.39413 to 0.33998, saving model to ./checkpoints/V4.1.0\\FOLD-1\n",
      "INFO:tensorflow:Assets written to: ./checkpoints/V4.1.0\\FOLD-1\\assets\n"
     ]
    },
    {
     "name": "stderr",
     "output_type": "stream",
     "text": [
      "INFO:tensorflow:Assets written to: ./checkpoints/V4.1.0\\FOLD-1\\assets\n"
     ]
    },
    {
     "name": "stdout",
     "output_type": "stream",
     "text": [
      "210/210 [==============================] - 203s 967ms/step - loss: 0.3511 - accuracy: 0.8714 - val_loss: 0.3400 - val_accuracy: 0.8708 - lr: 0.0012\n",
      "Epoch 37/45\n",
      "210/210 [==============================] - ETA: 0s - loss: 0.3982 - accuracy: 0.8613\n",
      "Epoch 37: val_loss did not improve from 0.33998\n",
      "210/210 [==============================] - 195s 930ms/step - loss: 0.3982 - accuracy: 0.8613 - val_loss: 1.3033 - val_accuracy: 0.5417 - lr: 0.0012\n",
      "Epoch 38/45\n",
      "210/210 [==============================] - ETA: 0s - loss: 0.3960 - accuracy: 0.8500\n",
      "Epoch 38: val_loss did not improve from 0.33998\n",
      "210/210 [==============================] - 195s 930ms/step - loss: 0.3960 - accuracy: 0.8500 - val_loss: 1.4410 - val_accuracy: 0.5750 - lr: 0.0012\n",
      "Epoch 39/45\n",
      "210/210 [==============================] - ETA: 0s - loss: 0.3756 - accuracy: 0.8732\n",
      "Epoch 39: val_loss did not improve from 0.33998\n",
      "210/210 [==============================] - 195s 929ms/step - loss: 0.3756 - accuracy: 0.8732 - val_loss: 0.7866 - val_accuracy: 0.7042 - lr: 0.0012\n",
      "Epoch 40/45\n",
      "210/210 [==============================] - ETA: 0s - loss: 0.3290 - accuracy: 0.8815\n",
      "Epoch 40: val_loss did not improve from 0.33998\n",
      "210/210 [==============================] - 196s 931ms/step - loss: 0.3290 - accuracy: 0.8815 - val_loss: 0.7693 - val_accuracy: 0.7083 - lr: 0.0012\n",
      "Epoch 41/45\n",
      "210/210 [==============================] - ETA: 0s - loss: 0.3283 - accuracy: 0.8827\n",
      "Epoch 41: val_loss did not improve from 0.33998\n",
      "210/210 [==============================] - 202s 960ms/step - loss: 0.3283 - accuracy: 0.8827 - val_loss: 0.3701 - val_accuracy: 0.8667 - lr: 0.0012\n",
      "Epoch 42/45\n",
      "210/210 [==============================] - ETA: 0s - loss: 0.4247 - accuracy: 0.8625\n",
      "Epoch 42: val_loss improved from 0.33998 to 0.31599, saving model to ./checkpoints/V4.1.0\\FOLD-1\n",
      "INFO:tensorflow:Assets written to: ./checkpoints/V4.1.0\\FOLD-1\\assets\n"
     ]
    },
    {
     "name": "stderr",
     "output_type": "stream",
     "text": [
      "INFO:tensorflow:Assets written to: ./checkpoints/V4.1.0\\FOLD-1\\assets\n"
     ]
    },
    {
     "name": "stdout",
     "output_type": "stream",
     "text": [
      "210/210 [==============================] - 206s 983ms/step - loss: 0.4247 - accuracy: 0.8625 - val_loss: 0.3160 - val_accuracy: 0.8958 - lr: 0.0012\n",
      "Epoch 43/45\n",
      "210/210 [==============================] - ETA: 0s - loss: 0.3570 - accuracy: 0.8756\n",
      "Epoch 43: val_loss did not improve from 0.31599\n",
      "210/210 [==============================] - 203s 964ms/step - loss: 0.3570 - accuracy: 0.8756 - val_loss: 0.4536 - val_accuracy: 0.8250 - lr: 0.0012\n",
      "Epoch 44/45\n",
      "210/210 [==============================] - ETA: 0s - loss: 0.3392 - accuracy: 0.8732\n",
      "Epoch 44: val_loss did not improve from 0.31599\n",
      "210/210 [==============================] - 201s 957ms/step - loss: 0.3392 - accuracy: 0.8732 - val_loss: 0.4096 - val_accuracy: 0.8333 - lr: 0.0012\n",
      "Epoch 45/45\n",
      "210/210 [==============================] - ETA: 0s - loss: 0.3056 - accuracy: 0.8893\n",
      "Epoch 45: val_loss did not improve from 0.31599\n",
      "210/210 [==============================] - 211s 1s/step - loss: 0.3056 - accuracy: 0.8893 - val_loss: 0.4934 - val_accuracy: 0.7958 - lr: 0.0012\n"
     ]
    },
    {
     "data": {
      "image/png": "[encoded data removed]",
      "text/plain": [
       "<Figure size 300x200 with 1 Axes>"
      ]
     },
     "metadata": {},
     "output_type": "display_data"
    },
    {
     "data": {
      "image/png": "[encoded data removed]",
      "text/plain": [
       "<Figure size 300x200 with 1 Axes>"
      ]
     },
     "metadata": {},
     "output_type": "display_data"
    },
    {
     "name": "stdout",
     "output_type": "stream",
     "text": [
      "Fold Training Time: 2 hour(s) and 30 mins\n",
      "Precision: 90.82969427108765  -  Recall: 86.66666746139526\n",
      "Accuracy: 89.58333134651184\n",
      "F1Score: Building 81.96721649169922 | Plant 94.48818969726562 | Road 97.4358901977539 | Vehicle 84.21052551269531\n",
      "[neptune] [info   ] Shutting down background jobs, please wait a moment...\n",
      "[neptune] [info   ] Done!\n",
      "[neptune] [info   ] Neptune initialized. Open in the app: offline/475243e6-9b35-4f89-9864-701ea96b2c7b\n",
      "Epoch 1/45\n",
      "210/210 [==============================] - ETA: 0s - loss: 12.1039 - accuracy: 0.5155\n",
      "Epoch 1: val_loss improved from inf to 3.43069, saving model to ./checkpoints/V4.1.0\\FOLD-2\n",
      "INFO:tensorflow:Assets written to: ./checkpoints/V4.1.0\\FOLD-2\\assets\n"
     ]
    },
    {
     "name": "stderr",
     "output_type": "stream",
     "text": [
      "INFO:tensorflow:Assets written to: ./checkpoints/V4.1.0\\FOLD-2\\assets\n"
     ]
    },
    {
     "name": "stdout",
     "output_type": "stream",
     "text": [
      "210/210 [==============================] - 223s 1s/step - loss: 12.1039 - accuracy: 0.5155 - val_loss: 3.4307 - val_accuracy: 0.2542 - lr: 0.0020\n",
      "Epoch 2/45\n",
      "210/210 [==============================] - ETA: 0s - loss: 1.0227 - accuracy: 0.6012\n",
      "Epoch 2: val_loss improved from 3.43069 to 1.08888, saving model to ./checkpoints/V4.1.0\\FOLD-2\n",
      "INFO:tensorflow:Assets written to: ./checkpoints/V4.1.0\\FOLD-2\\assets\n"
     ]
    },
    {
     "name": "stderr",
     "output_type": "stream",
     "text": [
      "INFO:tensorflow:Assets written to: ./checkpoints/V4.1.0\\FOLD-2\\assets\n"
     ]
    },
    {
     "name": "stdout",
     "output_type": "stream",
     "text": [
      "210/210 [==============================] - 236s 1s/step - loss: 1.0227 - accuracy: 0.6012 - val_loss: 1.0889 - val_accuracy: 0.4667 - lr: 0.0020\n",
      "Epoch 3/45\n",
      "210/210 [==============================] - ETA: 0s - loss: 0.9796 - accuracy: 0.6024\n",
      "Epoch 3: val_loss improved from 1.08888 to 1.06896, saving model to ./checkpoints/V4.1.0\\FOLD-2\n",
      "INFO:tensorflow:Assets written to: ./checkpoints/V4.1.0\\FOLD-2\\assets\n"
     ]
    },
    {
     "name": "stderr",
     "output_type": "stream",
     "text": [
      "INFO:tensorflow:Assets written to: ./checkpoints/V4.1.0\\FOLD-2\\assets\n"
     ]
    },
    {
     "name": "stdout",
     "output_type": "stream",
     "text": [
      "210/210 [==============================] - 214s 1s/step - loss: 0.9796 - accuracy: 0.6024 - val_loss: 1.0690 - val_accuracy: 0.6000 - lr: 0.0020\n",
      "Epoch 4/45\n",
      "210/210 [==============================] - ETA: 0s - loss: 1.0347 - accuracy: 0.5613\n",
      "Epoch 4: val_loss did not improve from 1.06896\n",
      "210/210 [==============================] - 208s 992ms/step - loss: 1.0347 - accuracy: 0.5613 - val_loss: 1.6641 - val_accuracy: 0.4542 - lr: 0.0020\n",
      "Epoch 5/45\n",
      "210/210 [==============================] - ETA: 0s - loss: 1.0534 - accuracy: 0.5726\n",
      "Epoch 5: val_loss did not improve from 1.06896\n",
      "210/210 [==============================] - 195s 927ms/step - loss: 1.0534 - accuracy: 0.5726 - val_loss: 8.0625 - val_accuracy: 0.3208 - lr: 0.0020\n",
      "Epoch 6/45\n",
      "210/210 [==============================] - ETA: 0s - loss: 1.0944 - accuracy: 0.5274\n",
      "Epoch 6: val_loss did not improve from 1.06896\n",
      "210/210 [==============================] - 209s 993ms/step - loss: 1.0944 - accuracy: 0.5274 - val_loss: 1.6094 - val_accuracy: 0.5917 - lr: 0.0020\n",
      "Epoch 7/45\n",
      "210/210 [==============================] - ETA: 0s - loss: 1.0907 - accuracy: 0.5530\n",
      "Epoch 7: val_loss did not improve from 1.06896\n",
      "210/210 [==============================] - 209s 994ms/step - loss: 1.0907 - accuracy: 0.5530 - val_loss: 1.1197 - val_accuracy: 0.4500 - lr: 0.0020\n",
      "Epoch 8/45\n",
      "210/210 [==============================] - ETA: 0s - loss: 1.0087 - accuracy: 0.5548\n",
      "Epoch 8: val_loss did not improve from 1.06896\n",
      "210/210 [==============================] - 177s 844ms/step - loss: 1.0087 - accuracy: 0.5548 - val_loss: 2.2024 - val_accuracy: 0.4583 - lr: 0.0020\n",
      "Epoch 9/45\n",
      "210/210 [==============================] - ETA: 0s - loss: 1.0742 - accuracy: 0.5482\n",
      "Epoch 9: val_loss improved from 1.06896 to 1.00232, saving model to ./checkpoints/V4.1.0\\FOLD-2\n",
      "INFO:tensorflow:Assets written to: ./checkpoints/V4.1.0\\FOLD-2\\assets\n"
     ]
    },
    {
     "name": "stderr",
     "output_type": "stream",
     "text": [
      "INFO:tensorflow:Assets written to: ./checkpoints/V4.1.0\\FOLD-2\\assets\n"
     ]
    },
    {
     "name": "stdout",
     "output_type": "stream",
     "text": [
      "210/210 [==============================] - 187s 891ms/step - loss: 1.0742 - accuracy: 0.5482 - val_loss: 1.0023 - val_accuracy: 0.5708 - lr: 0.0020\n",
      "Epoch 10/45\n",
      "210/210 [==============================] - ETA: 0s - loss: 1.0608 - accuracy: 0.5500\n",
      "Epoch 10: val_loss did not improve from 1.00232\n",
      "210/210 [==============================] - 178s 846ms/step - loss: 1.0608 - accuracy: 0.5500 - val_loss: 14.6310 - val_accuracy: 0.2667 - lr: 0.0020\n",
      "Epoch 11/45\n",
      "210/210 [==============================] - ETA: 0s - loss: 1.0530 - accuracy: 0.5429\n",
      "Epoch 11: val_loss improved from 1.00232 to 0.93738, saving model to ./checkpoints/V4.1.0\\FOLD-2\n",
      "INFO:tensorflow:Assets written to: ./checkpoints/V4.1.0\\FOLD-2\\assets\n"
     ]
    },
    {
     "name": "stderr",
     "output_type": "stream",
     "text": [
      "INFO:tensorflow:Assets written to: ./checkpoints/V4.1.0\\FOLD-2\\assets\n"
     ]
    },
    {
     "name": "stdout",
     "output_type": "stream",
     "text": [
      "210/210 [==============================] - 186s 886ms/step - loss: 1.0530 - accuracy: 0.5429 - val_loss: 0.9374 - val_accuracy: 0.5792 - lr: 0.0020\n",
      "Epoch 12/45\n",
      "210/210 [==============================] - ETA: 0s - loss: 1.0147 - accuracy: 0.5524\n",
      "Epoch 12: val_loss did not improve from 0.93738\n",
      "210/210 [==============================] - 178s 846ms/step - loss: 1.0147 - accuracy: 0.5524 - val_loss: 0.9896 - val_accuracy: 0.6292 - lr: 0.0020\n",
      "Epoch 13/45\n",
      "210/210 [==============================] - ETA: 0s - loss: 0.9321 - accuracy: 0.5619\n",
      "Epoch 13: val_loss did not improve from 0.93738\n",
      "210/210 [==============================] - 177s 843ms/step - loss: 0.9321 - accuracy: 0.5619 - val_loss: 1.0604 - val_accuracy: 0.4958 - lr: 0.0020\n",
      "Epoch 14/45\n",
      "210/210 [==============================] - ETA: 0s - loss: 0.9370 - accuracy: 0.5720\n",
      "Epoch 14: val_loss did not improve from 0.93738\n",
      "210/210 [==============================] - 178s 846ms/step - loss: 0.9370 - accuracy: 0.5720 - val_loss: 1.8777 - val_accuracy: 0.3875 - lr: 0.0020\n",
      "Epoch 15/45\n",
      "210/210 [==============================] - ETA: 0s - loss: 0.9192 - accuracy: 0.5851\n",
      "Epoch 15: val_loss did not improve from 0.93738\n",
      "210/210 [==============================] - 178s 849ms/step - loss: 0.9192 - accuracy: 0.5851 - val_loss: 1.1767 - val_accuracy: 0.5333 - lr: 0.0020\n",
      "Epoch 16/45\n",
      "210/210 [==============================] - ETA: 0s - loss: 0.9364 - accuracy: 0.5702\n",
      "Epoch 16: val_loss did not improve from 0.93738\n",
      "210/210 [==============================] - 178s 846ms/step - loss: 0.9364 - accuracy: 0.5702 - val_loss: 1.1513 - val_accuracy: 0.4250 - lr: 0.0020\n",
      "Epoch 17/45\n",
      "210/210 [==============================] - ETA: 0s - loss: 0.9164 - accuracy: 0.5935\n",
      "Epoch 17: val_loss did not improve from 0.93738\n",
      "210/210 [==============================] - 177s 844ms/step - loss: 0.9164 - accuracy: 0.5935 - val_loss: 1.1534 - val_accuracy: 0.4708 - lr: 0.0020\n",
      "Epoch 18/45\n",
      "210/210 [==============================] - ETA: 0s - loss: 0.9170 - accuracy: 0.5905\n",
      "Epoch 18: val_loss did not improve from 0.93738\n",
      "210/210 [==============================] - 178s 846ms/step - loss: 0.9170 - accuracy: 0.5905 - val_loss: 11.6807 - val_accuracy: 0.2625 - lr: 0.0020\n",
      "Epoch 19/45\n",
      "210/210 [==============================] - ETA: 0s - loss: 0.9499 - accuracy: 0.5696\n",
      "Epoch 19: val_loss did not improve from 0.93738\n",
      "210/210 [==============================] - 180s 859ms/step - loss: 0.9499 - accuracy: 0.5696 - val_loss: 1.2359 - val_accuracy: 0.4875 - lr: 0.0020\n",
      "Epoch 20/45\n",
      "210/210 [==============================] - ETA: 0s - loss: 0.9458 - accuracy: 0.5839\n",
      "Epoch 20: val_loss improved from 0.93738 to 0.85931, saving model to ./checkpoints/V4.1.0\\FOLD-2\n",
      "INFO:tensorflow:Assets written to: ./checkpoints/V4.1.0\\FOLD-2\\assets\n"
     ]
    },
    {
     "name": "stderr",
     "output_type": "stream",
     "text": [
      "INFO:tensorflow:Assets written to: ./checkpoints/V4.1.0\\FOLD-2\\assets\n"
     ]
    },
    {
     "name": "stdout",
     "output_type": "stream",
     "text": [
      "210/210 [==============================] - 184s 877ms/step - loss: 0.9458 - accuracy: 0.5839 - val_loss: 0.8593 - val_accuracy: 0.6417 - lr: 0.0020\n",
      "Epoch 21/45\n",
      "210/210 [==============================] - ETA: 0s - loss: 0.8888 - accuracy: 0.5827\n",
      "Epoch 21: val_loss did not improve from 0.85931\n",
      "210/210 [==============================] - 177s 845ms/step - loss: 0.8888 - accuracy: 0.5827 - val_loss: 0.8928 - val_accuracy: 0.5542 - lr: 0.0020\n",
      "Epoch 22/45\n",
      "210/210 [==============================] - ETA: 0s - loss: 0.8846 - accuracy: 0.5708\n",
      "Epoch 22: val_loss did not improve from 0.85931\n",
      "210/210 [==============================] - 177s 845ms/step - loss: 0.8846 - accuracy: 0.5708 - val_loss: 1.0481 - val_accuracy: 0.5708 - lr: 0.0020\n",
      "Epoch 23/45\n",
      "210/210 [==============================] - ETA: 0s - loss: 0.8825 - accuracy: 0.5964\n",
      "Epoch 23: val_loss did not improve from 0.85931\n",
      "210/210 [==============================] - 177s 844ms/step - loss: 0.8825 - accuracy: 0.5964 - val_loss: 1.6178 - val_accuracy: 0.5208 - lr: 0.0020\n",
      "Epoch 24/45\n",
      "210/210 [==============================] - ETA: 0s - loss: 0.8891 - accuracy: 0.5935\n",
      "Epoch 24: val_loss did not improve from 0.85931\n",
      "210/210 [==============================] - 177s 843ms/step - loss: 0.8891 - accuracy: 0.5935 - val_loss: 8.0767 - val_accuracy: 0.2500 - lr: 0.0020\n",
      "Epoch 25/45\n",
      "210/210 [==============================] - ETA: 0s - loss: 0.8431 - accuracy: 0.6208\n",
      "Epoch 25: val_loss did not improve from 0.85931\n",
      "210/210 [==============================] - 178s 847ms/step - loss: 0.8431 - accuracy: 0.6208 - val_loss: 3.2215 - val_accuracy: 0.3167 - lr: 0.0020\n",
      "Epoch 26/45\n",
      "210/210 [==============================] - ETA: 0s - loss: 0.8968 - accuracy: 0.5994\n",
      "Epoch 26: val_loss did not improve from 0.85931\n",
      "210/210 [==============================] - 177s 845ms/step - loss: 0.8968 - accuracy: 0.5994 - val_loss: 1.1417 - val_accuracy: 0.4750 - lr: 0.0020\n",
      "Epoch 27/45\n",
      "210/210 [==============================] - ETA: 0s - loss: 0.9000 - accuracy: 0.5929\n",
      "Epoch 27: val_loss did not improve from 0.85931\n",
      "210/210 [==============================] - 177s 845ms/step - loss: 0.9000 - accuracy: 0.5929 - val_loss: 1.2998 - val_accuracy: 0.3417 - lr: 0.0020\n",
      "Epoch 28/45\n",
      "210/210 [==============================] - ETA: 0s - loss: 0.9557 - accuracy: 0.5792\n",
      "Epoch 28: val_loss improved from 0.85931 to 0.71779, saving model to ./checkpoints/V4.1.0\\FOLD-2\n",
      "INFO:tensorflow:Assets written to: ./checkpoints/V4.1.0\\FOLD-2\\assets\n"
     ]
    },
    {
     "name": "stderr",
     "output_type": "stream",
     "text": [
      "INFO:tensorflow:Assets written to: ./checkpoints/V4.1.0\\FOLD-2\\assets\n"
     ]
    },
    {
     "name": "stdout",
     "output_type": "stream",
     "text": [
      "210/210 [==============================] - 185s 879ms/step - loss: 0.9557 - accuracy: 0.5792 - val_loss: 0.7178 - val_accuracy: 0.6792 - lr: 0.0020\n",
      "Epoch 29/45\n",
      "210/210 [==============================] - ETA: 0s - loss: 0.7825 - accuracy: 0.6375\n",
      "Epoch 29: val_loss did not improve from 0.71779\n",
      "210/210 [==============================] - 178s 850ms/step - loss: 0.7825 - accuracy: 0.6375 - val_loss: 0.8082 - val_accuracy: 0.6042 - lr: 0.0020\n",
      "Epoch 30/45\n",
      "210/210 [==============================] - ETA: 0s - loss: 0.8477 - accuracy: 0.6185\n",
      "Epoch 30: val_loss did not improve from 0.71779\n",
      "210/210 [==============================] - 178s 846ms/step - loss: 0.8477 - accuracy: 0.6185 - val_loss: 1.1360 - val_accuracy: 0.5750 - lr: 0.0020\n",
      "Epoch 31/45\n",
      "210/210 [==============================] - ETA: 0s - loss: 0.8086 - accuracy: 0.6190\n",
      "Epoch 31: val_loss did not improve from 0.71779\n",
      "210/210 [==============================] - 178s 846ms/step - loss: 0.8086 - accuracy: 0.6190 - val_loss: 0.7579 - val_accuracy: 0.6500 - lr: 0.0020\n",
      "Epoch 32/45\n",
      "210/210 [==============================] - ETA: 0s - loss: 0.8040 - accuracy: 0.6393\n",
      "Epoch 32: val_loss did not improve from 0.71779\n",
      "210/210 [==============================] - 178s 846ms/step - loss: 0.8040 - accuracy: 0.6393 - val_loss: 1.4819 - val_accuracy: 0.5042 - lr: 0.0020\n",
      "Epoch 33/45\n",
      "210/210 [==============================] - ETA: 0s - loss: 0.8032 - accuracy: 0.6387\n",
      "Epoch 33: val_loss did not improve from 0.71779\n",
      "210/210 [==============================] - 177s 844ms/step - loss: 0.8032 - accuracy: 0.6387 - val_loss: 0.8659 - val_accuracy: 0.6292 - lr: 0.0020\n",
      "Epoch 34/45\n",
      "210/210 [==============================] - ETA: 0s - loss: 0.7488 - accuracy: 0.6512\n",
      "Epoch 34: val_loss did not improve from 0.71779\n",
      "210/210 [==============================] - 179s 851ms/step - loss: 0.7488 - accuracy: 0.6512 - val_loss: 0.7510 - val_accuracy: 0.6375 - lr: 0.0020\n",
      "Epoch 35/45\n",
      "210/210 [==============================] - ETA: 0s - loss: 0.7204 - accuracy: 0.6548\n",
      "Epoch 35: val_loss did not improve from 0.71779\n",
      "210/210 [==============================] - 177s 844ms/step - loss: 0.7204 - accuracy: 0.6548 - val_loss: 0.7447 - val_accuracy: 0.6583 - lr: 0.0020\n",
      "Epoch 36/45\n",
      "210/210 [==============================] - ETA: 0s - loss: 0.6516 - accuracy: 0.6833\n",
      "Epoch 36: val_loss improved from 0.71779 to 0.71088, saving model to ./checkpoints/V4.1.0\\FOLD-2\n",
      "INFO:tensorflow:Assets written to: ./checkpoints/V4.1.0\\FOLD-2\\assets\n"
     ]
    },
    {
     "name": "stderr",
     "output_type": "stream",
     "text": [
      "INFO:tensorflow:Assets written to: ./checkpoints/V4.1.0\\FOLD-2\\assets\n"
     ]
    },
    {
     "name": "stdout",
     "output_type": "stream",
     "text": [
      "210/210 [==============================] - 184s 876ms/step - loss: 0.6516 - accuracy: 0.6833 - val_loss: 0.7109 - val_accuracy: 0.6542 - lr: 0.0020\n",
      "Epoch 37/45\n",
      "210/210 [==============================] - ETA: 0s - loss: 0.7773 - accuracy: 0.6286\n",
      "Epoch 37: val_loss did not improve from 0.71088\n",
      "210/210 [==============================] - 177s 845ms/step - loss: 0.7773 - accuracy: 0.6286 - val_loss: 1.5235 - val_accuracy: 0.4083 - lr: 0.0020\n",
      "Epoch 38/45\n",
      "210/210 [==============================] - ETA: 0s - loss: 0.7065 - accuracy: 0.6518\n",
      "Epoch 38: val_loss did not improve from 0.71088\n",
      "210/210 [==============================] - 177s 843ms/step - loss: 0.7065 - accuracy: 0.6518 - val_loss: 1.3213 - val_accuracy: 0.4750 - lr: 0.0020\n",
      "Epoch 39/45\n",
      "210/210 [==============================] - ETA: 0s - loss: 0.6916 - accuracy: 0.6565\n",
      "Epoch 39: val_loss improved from 0.71088 to 0.64556, saving model to ./checkpoints/V4.1.0\\FOLD-2\n",
      "INFO:tensorflow:Assets written to: ./checkpoints/V4.1.0\\FOLD-2\\assets\n"
     ]
    },
    {
     "name": "stderr",
     "output_type": "stream",
     "text": [
      "INFO:tensorflow:Assets written to: ./checkpoints/V4.1.0\\FOLD-2\\assets\n"
     ]
    },
    {
     "name": "stdout",
     "output_type": "stream",
     "text": [
      "210/210 [==============================] - 185s 881ms/step - loss: 0.6916 - accuracy: 0.6565 - val_loss: 0.6456 - val_accuracy: 0.6750 - lr: 0.0020\n",
      "Epoch 40/45\n",
      "210/210 [==============================] - ETA: 0s - loss: 0.6500 - accuracy: 0.6732\n",
      "Epoch 40: val_loss did not improve from 0.64556\n",
      "210/210 [==============================] - 177s 843ms/step - loss: 0.6500 - accuracy: 0.6732 - val_loss: 1.0805 - val_accuracy: 0.5708 - lr: 0.0020\n",
      "Epoch 41/45\n",
      "210/210 [==============================] - ETA: 0s - loss: 0.7252 - accuracy: 0.6631\n",
      "Epoch 41: val_loss did not improve from 0.64556\n",
      "210/210 [==============================] - 177s 842ms/step - loss: 0.7252 - accuracy: 0.6631 - val_loss: 0.8466 - val_accuracy: 0.6125 - lr: 0.0020\n",
      "Epoch 42/45\n",
      "210/210 [==============================] - ETA: 0s - loss: 0.7593 - accuracy: 0.6482\n",
      "Epoch 42: val_loss did not improve from 0.64556\n",
      "210/210 [==============================] - 177s 845ms/step - loss: 0.7593 - accuracy: 0.6482 - val_loss: 0.9800 - val_accuracy: 0.5875 - lr: 0.0020\n",
      "Epoch 43/45\n",
      "210/210 [==============================] - ETA: 0s - loss: 0.7497 - accuracy: 0.6554\n",
      "Epoch 43: val_loss improved from 0.64556 to 0.60272, saving model to ./checkpoints/V4.1.0\\FOLD-2\n",
      "INFO:tensorflow:Assets written to: ./checkpoints/V4.1.0\\FOLD-2\\assets\n"
     ]
    },
    {
     "name": "stderr",
     "output_type": "stream",
     "text": [
      "INFO:tensorflow:Assets written to: ./checkpoints/V4.1.0\\FOLD-2\\assets\n"
     ]
    },
    {
     "name": "stdout",
     "output_type": "stream",
     "text": [
      "210/210 [==============================] - 185s 880ms/step - loss: 0.7497 - accuracy: 0.6554 - val_loss: 0.6027 - val_accuracy: 0.6917 - lr: 0.0020\n",
      "Epoch 44/45\n",
      "210/210 [==============================] - ETA: 0s - loss: 0.7045 - accuracy: 0.6696\n",
      "Epoch 44: val_loss did not improve from 0.60272\n",
      "210/210 [==============================] - 177s 844ms/step - loss: 0.7045 - accuracy: 0.6696 - val_loss: 1.0813 - val_accuracy: 0.5375 - lr: 0.0020\n",
      "Epoch 45/45\n",
      "210/210 [==============================] - ETA: 0s - loss: 0.7270 - accuracy: 0.6589\n",
      "Epoch 45: val_loss did not improve from 0.60272\n",
      "210/210 [==============================] - 178s 847ms/step - loss: 0.7270 - accuracy: 0.6589 - val_loss: 1.0095 - val_accuracy: 0.5792 - lr: 0.0020\n"
     ]
    },
    {
     "data": {
      "image/png": "[encoded data removed]",
      "text/plain": [
       "<Figure size 300x200 with 1 Axes>"
      ]
     },
     "metadata": {},
     "output_type": "display_data"
    },
    {
     "data": {
      "image/png": "[encoded data removed]",
      "text/plain": [
       "<Figure size 300x200 with 1 Axes>"
      ]
     },
     "metadata": {},
     "output_type": "display_data"
    },
    {
     "name": "stdout",
     "output_type": "stream",
     "text": [
      "Fold Training Time: 2 hour(s) and 18 mins\n",
      "Precision: 70.31963467597961  -  Recall: 64.16666507720947\n",
      "Accuracy: 69.16666626930237\n",
      "F1Score: Building 14.084507942199707 | Plant 87.02290344238281 | Road 87.2727279663086 | Vehicle 66.66667175292969\n",
      "[neptune] [info   ] Shutting down background jobs, please wait a moment...\n",
      "[neptune] [info   ] Done!\n",
      "[neptune] [info   ] Neptune initialized. Open in the app: offline/48b4c3e3-5bd1-4bb0-abe1-441c729396a6\n",
      "Epoch 1/45\n",
      "210/210 [==============================] - ETA: 0s - loss: 10.8313 - accuracy: 0.5685\n",
      "Epoch 1: val_loss improved from inf to 4.88745, saving model to ./checkpoints/V4.1.0\\FOLD-3\n",
      "INFO:tensorflow:Assets written to: ./checkpoints/V4.1.0\\FOLD-3\\assets\n"
     ]
    },
    {
     "name": "stderr",
     "output_type": "stream",
     "text": [
      "INFO:tensorflow:Assets written to: ./checkpoints/V4.1.0\\FOLD-3\\assets\n"
     ]
    },
    {
     "name": "stdout",
     "output_type": "stream",
     "text": [
      "210/210 [==============================] - 197s 917ms/step - loss: 10.8313 - accuracy: 0.5685 - val_loss: 4.8875 - val_accuracy: 0.2875 - lr: 0.0020\n",
      "Epoch 2/45\n",
      "210/210 [==============================] - ETA: 0s - loss: 1.0311 - accuracy: 0.6429\n",
      "Epoch 2: val_loss improved from 4.88745 to 1.34543, saving model to ./checkpoints/V4.1.0\\FOLD-3\n",
      "INFO:tensorflow:Assets written to: ./checkpoints/V4.1.0\\FOLD-3\\assets\n"
     ]
    },
    {
     "name": "stderr",
     "output_type": "stream",
     "text": [
      "INFO:tensorflow:Assets written to: ./checkpoints/V4.1.0\\FOLD-3\\assets\n"
     ]
    },
    {
     "name": "stdout",
     "output_type": "stream",
     "text": [
      "210/210 [==============================] - 188s 897ms/step - loss: 1.0311 - accuracy: 0.6429 - val_loss: 1.3454 - val_accuracy: 0.4083 - lr: 0.0020\n",
      "Epoch 3/45\n",
      "210/210 [==============================] - ETA: 0s - loss: 1.0669 - accuracy: 0.5548\n",
      "Epoch 3: val_loss improved from 1.34543 to 0.81801, saving model to ./checkpoints/V4.1.0\\FOLD-3\n",
      "INFO:tensorflow:Assets written to: ./checkpoints/V4.1.0\\FOLD-3\\assets\n"
     ]
    },
    {
     "name": "stderr",
     "output_type": "stream",
     "text": [
      "INFO:tensorflow:Assets written to: ./checkpoints/V4.1.0\\FOLD-3\\assets\n"
     ]
    },
    {
     "name": "stdout",
     "output_type": "stream",
     "text": [
      "210/210 [==============================] - 190s 904ms/step - loss: 1.0669 - accuracy: 0.5548 - val_loss: 0.8180 - val_accuracy: 0.6667 - lr: 0.0020\n",
      "Epoch 4/45\n",
      "210/210 [==============================] - ETA: 0s - loss: 1.1095 - accuracy: 0.5131\n",
      "Epoch 4: val_loss did not improve from 0.81801\n",
      "210/210 [==============================] - 184s 875ms/step - loss: 1.1095 - accuracy: 0.5131 - val_loss: 1.0984 - val_accuracy: 0.6167 - lr: 0.0020\n",
      "Epoch 5/45\n",
      "210/210 [==============================] - ETA: 0s - loss: 1.0048 - accuracy: 0.5905\n",
      "Epoch 5: val_loss did not improve from 0.81801\n",
      "210/210 [==============================] - 181s 863ms/step - loss: 1.0048 - accuracy: 0.5905 - val_loss: 1.0384 - val_accuracy: 0.5542 - lr: 0.0020\n",
      "Epoch 6/45\n",
      "210/210 [==============================] - ETA: 0s - loss: 1.0598 - accuracy: 0.5756\n",
      "Epoch 6: val_loss did not improve from 0.81801\n",
      "210/210 [==============================] - 184s 878ms/step - loss: 1.0598 - accuracy: 0.5756 - val_loss: 1.2457 - val_accuracy: 0.5083 - lr: 0.0020\n",
      "Epoch 7/45\n",
      "210/210 [==============================] - ETA: 0s - loss: 0.9988 - accuracy: 0.5976\n",
      "Epoch 7: val_loss did not improve from 0.81801\n",
      "210/210 [==============================] - 181s 863ms/step - loss: 0.9988 - accuracy: 0.5976 - val_loss: 1.0831 - val_accuracy: 0.5125 - lr: 0.0020\n",
      "Epoch 8/45\n",
      "210/210 [==============================] - ETA: 0s - loss: 0.9642 - accuracy: 0.5929\n",
      "Epoch 8: val_loss did not improve from 0.81801\n",
      "210/210 [==============================] - 181s 862ms/step - loss: 0.9642 - accuracy: 0.5929 - val_loss: 2.5702 - val_accuracy: 0.4125 - lr: 0.0020\n",
      "Epoch 9/45\n",
      "210/210 [==============================] - ETA: 0s - loss: 1.0136 - accuracy: 0.5917\n",
      "Epoch 9: val_loss did not improve from 0.81801\n",
      "210/210 [==============================] - 182s 869ms/step - loss: 1.0136 - accuracy: 0.5917 - val_loss: 1.0236 - val_accuracy: 0.5417 - lr: 0.0020\n",
      "Epoch 10/45\n",
      "210/210 [==============================] - ETA: 0s - loss: 0.9593 - accuracy: 0.6095\n",
      "Epoch 10: val_loss did not improve from 0.81801\n",
      "210/210 [==============================] - 187s 891ms/step - loss: 0.9593 - accuracy: 0.6095 - val_loss: 1.0149 - val_accuracy: 0.6167 - lr: 0.0020\n",
      "Epoch 11/45\n",
      "210/210 [==============================] - ETA: 0s - loss: 0.9064 - accuracy: 0.6173\n",
      "Epoch 11: val_loss did not improve from 0.81801\n",
      "210/210 [==============================] - 182s 866ms/step - loss: 0.9064 - accuracy: 0.6173 - val_loss: 0.9266 - val_accuracy: 0.6083 - lr: 0.0020\n",
      "Epoch 12/45\n",
      "210/210 [==============================] - ETA: 0s - loss: 0.9727 - accuracy: 0.5881\n",
      "Epoch 12: val_loss did not improve from 0.81801\n",
      "210/210 [==============================] - 187s 892ms/step - loss: 0.9727 - accuracy: 0.5881 - val_loss: 1.9040 - val_accuracy: 0.4917 - lr: 0.0020\n",
      "Epoch 13/45\n",
      "210/210 [==============================] - ETA: 0s - loss: 0.9096 - accuracy: 0.6226\n",
      "Epoch 13: ReduceLROnPlateau reducing learning rate to 0.0012000000569969416.\n",
      "\n",
      "Epoch 13: val_loss did not improve from 0.81801\n",
      "210/210 [==============================] - 181s 863ms/step - loss: 0.9096 - accuracy: 0.6226 - val_loss: 2.2053 - val_accuracy: 0.4667 - lr: 0.0020\n",
      "Epoch 14/45\n",
      "210/210 [==============================] - ETA: 0s - loss: 0.8206 - accuracy: 0.6548\n",
      "Epoch 14: val_loss did not improve from 0.81801\n",
      "210/210 [==============================] - 184s 877ms/step - loss: 0.8206 - accuracy: 0.6548 - val_loss: 1.3547 - val_accuracy: 0.4667 - lr: 0.0012\n",
      "Epoch 15/45\n",
      "210/210 [==============================] - ETA: 0s - loss: 0.7609 - accuracy: 0.6845\n",
      "Epoch 15: val_loss did not improve from 0.81801\n",
      "210/210 [==============================] - 181s 863ms/step - loss: 0.7609 - accuracy: 0.6845 - val_loss: 1.0104 - val_accuracy: 0.5958 - lr: 0.0012\n",
      "Epoch 16/45\n",
      "210/210 [==============================] - ETA: 0s - loss: 0.6964 - accuracy: 0.7125\n",
      "Epoch 16: val_loss improved from 0.81801 to 0.69839, saving model to ./checkpoints/V4.1.0\\FOLD-3\n",
      "INFO:tensorflow:Assets written to: ./checkpoints/V4.1.0\\FOLD-3\\assets\n"
     ]
    },
    {
     "name": "stderr",
     "output_type": "stream",
     "text": [
      "INFO:tensorflow:Assets written to: ./checkpoints/V4.1.0\\FOLD-3\\assets\n"
     ]
    },
    {
     "name": "stdout",
     "output_type": "stream",
     "text": [
      "210/210 [==============================] - 188s 897ms/step - loss: 0.6964 - accuracy: 0.7125 - val_loss: 0.6984 - val_accuracy: 0.7125 - lr: 0.0012\n",
      "Epoch 17/45\n",
      "210/210 [==============================] - ETA: 0s - loss: 0.7077 - accuracy: 0.7298\n",
      "Epoch 17: val_loss did not improve from 0.69839\n",
      "210/210 [==============================] - 182s 869ms/step - loss: 0.7077 - accuracy: 0.7298 - val_loss: 0.9418 - val_accuracy: 0.6167 - lr: 0.0012\n",
      "Epoch 18/45\n",
      "210/210 [==============================] - ETA: 0s - loss: 0.7166 - accuracy: 0.7101\n",
      "Epoch 18: val_loss did not improve from 0.69839\n",
      "210/210 [==============================] - 181s 863ms/step - loss: 0.7166 - accuracy: 0.7101 - val_loss: 0.9715 - val_accuracy: 0.6000 - lr: 0.0012\n",
      "Epoch 19/45\n",
      "210/210 [==============================] - ETA: 0s - loss: 0.6916 - accuracy: 0.7244\n",
      "Epoch 19: val_loss did not improve from 0.69839\n",
      "210/210 [==============================] - 181s 863ms/step - loss: 0.6916 - accuracy: 0.7244 - val_loss: 0.7465 - val_accuracy: 0.6958 - lr: 0.0012\n",
      "Epoch 20/45\n",
      "210/210 [==============================] - ETA: 0s - loss: 0.7091 - accuracy: 0.6994\n",
      "Epoch 20: val_loss did not improve from 0.69839\n",
      "210/210 [==============================] - 182s 867ms/step - loss: 0.7091 - accuracy: 0.6994 - val_loss: 1.0959 - val_accuracy: 0.5792 - lr: 0.0012\n",
      "Epoch 21/45\n",
      "210/210 [==============================] - ETA: 0s - loss: 0.6507 - accuracy: 0.7351\n",
      "Epoch 21: val_loss improved from 0.69839 to 0.56762, saving model to ./checkpoints/V4.1.0\\FOLD-3\n",
      "INFO:tensorflow:Assets written to: ./checkpoints/V4.1.0\\FOLD-3\\assets\n"
     ]
    },
    {
     "name": "stderr",
     "output_type": "stream",
     "text": [
      "INFO:tensorflow:Assets written to: ./checkpoints/V4.1.0\\FOLD-3\\assets\n"
     ]
    },
    {
     "name": "stdout",
     "output_type": "stream",
     "text": [
      "210/210 [==============================] - 194s 924ms/step - loss: 0.6507 - accuracy: 0.7351 - val_loss: 0.5676 - val_accuracy: 0.7542 - lr: 0.0012\n",
      "Epoch 22/45\n",
      "210/210 [==============================] - ETA: 0s - loss: 0.6961 - accuracy: 0.7185\n",
      "Epoch 22: val_loss did not improve from 0.56762\n",
      "210/210 [==============================] - 182s 868ms/step - loss: 0.6961 - accuracy: 0.7185 - val_loss: 0.7317 - val_accuracy: 0.7125 - lr: 0.0012\n",
      "Epoch 23/45\n",
      "210/210 [==============================] - ETA: 0s - loss: 0.6310 - accuracy: 0.7351\n",
      "Epoch 23: val_loss improved from 0.56762 to 0.52621, saving model to ./checkpoints/V4.1.0\\FOLD-3\n",
      "INFO:tensorflow:Assets written to: ./checkpoints/V4.1.0\\FOLD-3\\assets\n"
     ]
    },
    {
     "name": "stderr",
     "output_type": "stream",
     "text": [
      "INFO:tensorflow:Assets written to: ./checkpoints/V4.1.0\\FOLD-3\\assets\n"
     ]
    },
    {
     "name": "stdout",
     "output_type": "stream",
     "text": [
      "210/210 [==============================] - 190s 906ms/step - loss: 0.6310 - accuracy: 0.7351 - val_loss: 0.5262 - val_accuracy: 0.7958 - lr: 0.0012\n",
      "Epoch 24/45\n",
      "210/210 [==============================] - ETA: 0s - loss: 0.6222 - accuracy: 0.7476\n",
      "Epoch 24: val_loss did not improve from 0.52621\n",
      "210/210 [==============================] - 182s 868ms/step - loss: 0.6222 - accuracy: 0.7476 - val_loss: 0.7519 - val_accuracy: 0.7292 - lr: 0.0012\n",
      "Epoch 25/45\n",
      "210/210 [==============================] - ETA: 0s - loss: 0.6052 - accuracy: 0.7625\n",
      "Epoch 25: val_loss improved from 0.52621 to 0.50126, saving model to ./checkpoints/V4.1.0\\FOLD-3\n",
      "INFO:tensorflow:Assets written to: ./checkpoints/V4.1.0\\FOLD-3\\assets\n"
     ]
    },
    {
     "name": "stderr",
     "output_type": "stream",
     "text": [
      "INFO:tensorflow:Assets written to: ./checkpoints/V4.1.0\\FOLD-3\\assets\n"
     ]
    },
    {
     "name": "stdout",
     "output_type": "stream",
     "text": [
      "210/210 [==============================] - 188s 897ms/step - loss: 0.6052 - accuracy: 0.7625 - val_loss: 0.5013 - val_accuracy: 0.8167 - lr: 0.0012\n",
      "Epoch 26/45\n",
      "210/210 [==============================] - ETA: 0s - loss: 0.5790 - accuracy: 0.7780\n",
      "Epoch 26: val_loss did not improve from 0.50126\n",
      "210/210 [==============================] - 182s 868ms/step - loss: 0.5790 - accuracy: 0.7780 - val_loss: 0.5921 - val_accuracy: 0.8000 - lr: 0.0012\n",
      "Epoch 27/45\n",
      "210/210 [==============================] - ETA: 0s - loss: 0.6042 - accuracy: 0.7696\n",
      "Epoch 27: val_loss did not improve from 0.50126\n",
      "210/210 [==============================] - 182s 864ms/step - loss: 0.6042 - accuracy: 0.7696 - val_loss: 1.0113 - val_accuracy: 0.6250 - lr: 0.0012\n",
      "Epoch 28/45\n",
      "210/210 [==============================] - ETA: 0s - loss: 0.5958 - accuracy: 0.7708\n",
      "Epoch 28: val_loss did not improve from 0.50126\n",
      "210/210 [==============================] - 181s 862ms/step - loss: 0.5958 - accuracy: 0.7708 - val_loss: 1.1516 - val_accuracy: 0.5000 - lr: 0.0012\n",
      "Epoch 29/45\n",
      "210/210 [==============================] - ETA: 0s - loss: 0.6289 - accuracy: 0.7530\n",
      "Epoch 29: val_loss did not improve from 0.50126\n",
      "210/210 [==============================] - 182s 865ms/step - loss: 0.6289 - accuracy: 0.7530 - val_loss: 1.3108 - val_accuracy: 0.5792 - lr: 0.0012\n",
      "Epoch 30/45\n",
      "210/210 [==============================] - ETA: 0s - loss: 0.5561 - accuracy: 0.7821\n",
      "Epoch 30: val_loss did not improve from 0.50126\n",
      "210/210 [==============================] - 182s 864ms/step - loss: 0.5561 - accuracy: 0.7821 - val_loss: 0.5177 - val_accuracy: 0.8125 - lr: 0.0012\n",
      "Epoch 31/45\n",
      "210/210 [==============================] - ETA: 0s - loss: 0.5251 - accuracy: 0.7935\n",
      "Epoch 31: val_loss did not improve from 0.50126\n",
      "210/210 [==============================] - 181s 864ms/step - loss: 0.5251 - accuracy: 0.7935 - val_loss: 1.7445 - val_accuracy: 0.3958 - lr: 0.0012\n",
      "Epoch 32/45\n",
      "210/210 [==============================] - ETA: 0s - loss: 0.5666 - accuracy: 0.7940\n",
      "Epoch 32: val_loss did not improve from 0.50126\n",
      "210/210 [==============================] - 181s 863ms/step - loss: 0.5666 - accuracy: 0.7940 - val_loss: 0.9917 - val_accuracy: 0.6667 - lr: 0.0012\n",
      "Epoch 33/45\n",
      "210/210 [==============================] - ETA: 0s - loss: 0.5091 - accuracy: 0.8012\n",
      "Epoch 33: val_loss did not improve from 0.50126\n",
      "210/210 [==============================] - 182s 868ms/step - loss: 0.5091 - accuracy: 0.8012 - val_loss: 0.5630 - val_accuracy: 0.7667 - lr: 0.0012\n",
      "Epoch 34/45\n",
      "210/210 [==============================] - ETA: 0s - loss: 0.4602 - accuracy: 0.8244\n",
      "Epoch 34: val_loss improved from 0.50126 to 0.45677, saving model to ./checkpoints/V4.1.0\\FOLD-3\n",
      "INFO:tensorflow:Assets written to: ./checkpoints/V4.1.0\\FOLD-3\\assets\n"
     ]
    },
    {
     "name": "stderr",
     "output_type": "stream",
     "text": [
      "INFO:tensorflow:Assets written to: ./checkpoints/V4.1.0\\FOLD-3\\assets\n"
     ]
    },
    {
     "name": "stdout",
     "output_type": "stream",
     "text": [
      "210/210 [==============================] - 189s 898ms/step - loss: 0.4602 - accuracy: 0.8244 - val_loss: 0.4568 - val_accuracy: 0.8333 - lr: 0.0012\n",
      "Epoch 35/45\n",
      "210/210 [==============================] - ETA: 0s - loss: 0.4528 - accuracy: 0.8327\n",
      "Epoch 35: val_loss improved from 0.45677 to 0.41880, saving model to ./checkpoints/V4.1.0\\FOLD-3\n",
      "INFO:tensorflow:Assets written to: ./checkpoints/V4.1.0\\FOLD-3\\assets\n"
     ]
    },
    {
     "name": "stderr",
     "output_type": "stream",
     "text": [
      "INFO:tensorflow:Assets written to: ./checkpoints/V4.1.0\\FOLD-3\\assets\n"
     ]
    },
    {
     "name": "stdout",
     "output_type": "stream",
     "text": [
      "210/210 [==============================] - 188s 895ms/step - loss: 0.4528 - accuracy: 0.8327 - val_loss: 0.4188 - val_accuracy: 0.8375 - lr: 0.0012\n",
      "Epoch 36/45\n",
      "210/210 [==============================] - ETA: 0s - loss: 0.4391 - accuracy: 0.8262\n",
      "Epoch 36: val_loss did not improve from 0.41880\n",
      "210/210 [==============================] - 182s 866ms/step - loss: 0.4391 - accuracy: 0.8262 - val_loss: 0.5549 - val_accuracy: 0.8042 - lr: 0.0012\n",
      "Epoch 37/45\n",
      "210/210 [==============================] - ETA: 0s - loss: 0.4490 - accuracy: 0.8286\n",
      "Epoch 37: val_loss did not improve from 0.41880\n",
      "210/210 [==============================] - 182s 865ms/step - loss: 0.4490 - accuracy: 0.8286 - val_loss: 0.4707 - val_accuracy: 0.8083 - lr: 0.0012\n",
      "Epoch 38/45\n",
      "210/210 [==============================] - ETA: 0s - loss: 0.4365 - accuracy: 0.8345\n",
      "Epoch 38: val_loss did not improve from 0.41880\n",
      "210/210 [==============================] - 181s 864ms/step - loss: 0.4365 - accuracy: 0.8345 - val_loss: 0.4838 - val_accuracy: 0.8375 - lr: 0.0012\n",
      "Epoch 39/45\n",
      "210/210 [==============================] - ETA: 0s - loss: 0.5046 - accuracy: 0.8268\n",
      "Epoch 39: val_loss did not improve from 0.41880\n",
      "210/210 [==============================] - 182s 867ms/step - loss: 0.5046 - accuracy: 0.8268 - val_loss: 0.5317 - val_accuracy: 0.8000 - lr: 0.0012\n",
      "Epoch 40/45\n",
      "210/210 [==============================] - ETA: 0s - loss: 0.4460 - accuracy: 0.8351\n",
      "Epoch 40: val_loss did not improve from 0.41880\n",
      "210/210 [==============================] - 182s 864ms/step - loss: 0.4460 - accuracy: 0.8351 - val_loss: 0.4289 - val_accuracy: 0.8250 - lr: 0.0012\n",
      "Epoch 41/45\n",
      "210/210 [==============================] - ETA: 0s - loss: 0.4185 - accuracy: 0.8363\n",
      "Epoch 41: val_loss did not improve from 0.41880\n",
      "210/210 [==============================] - 181s 864ms/step - loss: 0.4185 - accuracy: 0.8363 - val_loss: 1.9937 - val_accuracy: 0.4917 - lr: 0.0012\n",
      "Epoch 42/45\n",
      "210/210 [==============================] - ETA: 0s - loss: 0.4396 - accuracy: 0.8446\n",
      "Epoch 42: val_loss did not improve from 0.41880\n",
      "210/210 [==============================] - 182s 865ms/step - loss: 0.4396 - accuracy: 0.8446 - val_loss: 1.2978 - val_accuracy: 0.5833 - lr: 0.0012\n",
      "Epoch 43/45\n",
      "210/210 [==============================] - ETA: 0s - loss: 0.4222 - accuracy: 0.8476\n",
      "Epoch 43: val_loss did not improve from 0.41880\n",
      "210/210 [==============================] - 184s 875ms/step - loss: 0.4222 - accuracy: 0.8476 - val_loss: 0.4601 - val_accuracy: 0.8167 - lr: 0.0012\n",
      "Epoch 44/45\n",
      "210/210 [==============================] - ETA: 0s - loss: 0.3823 - accuracy: 0.8619\n",
      "Epoch 44: val_loss improved from 0.41880 to 0.35279, saving model to ./checkpoints/V4.1.0\\FOLD-3\n",
      "INFO:tensorflow:Assets written to: ./checkpoints/V4.1.0\\FOLD-3\\assets\n"
     ]
    },
    {
     "name": "stderr",
     "output_type": "stream",
     "text": [
      "INFO:tensorflow:Assets written to: ./checkpoints/V4.1.0\\FOLD-3\\assets\n"
     ]
    },
    {
     "name": "stdout",
     "output_type": "stream",
     "text": [
      "210/210 [==============================] - 190s 904ms/step - loss: 0.3823 - accuracy: 0.8619 - val_loss: 0.3528 - val_accuracy: 0.8458 - lr: 0.0012\n",
      "Epoch 45/45\n",
      "210/210 [==============================] - ETA: 0s - loss: 0.3628 - accuracy: 0.8685\n",
      "Epoch 45: val_loss did not improve from 0.35279\n",
      "210/210 [==============================] - 181s 863ms/step - loss: 0.3628 - accuracy: 0.8685 - val_loss: 0.3759 - val_accuracy: 0.8375 - lr: 0.0012\n"
     ]
    },
    {
     "data": {
      "image/png": "[encoded data removed]",
      "text/plain": [
       "<Figure size 300x200 with 1 Axes>"
      ]
     },
     "metadata": {},
     "output_type": "display_data"
    },
    {
     "data": {
      "image/png": "[encoded data removed]",
      "text/plain": [
       "<Figure size 300x200 with 1 Axes>"
      ]
     },
     "metadata": {},
     "output_type": "display_data"
    },
    {
     "name": "stdout",
     "output_type": "stream",
     "text": [
      "Fold Training Time: 2 hour(s) and 18 mins\n",
      "Precision: 89.04109597206116  -  Recall: 81.25\n",
      "Accuracy: 84.58333611488342\n",
      "F1Score: Building 76.9230728149414 | Plant 91.47286224365234 | Road 88.6956558227539 | Vehicle 80.67227172851562\n",
      "[neptune] [info   ] Shutting down background jobs, please wait a moment...\n",
      "[neptune] [info   ] Done!\n",
      "[neptune] [info   ] Neptune initialized. Open in the app: offline/b8ac00ef-8295-464a-97f1-366e72d088ad\n",
      "Epoch 1/45\n",
      "210/210 [==============================] - ETA: 0s - loss: 14.0007 - accuracy: 0.5119\n",
      "Epoch 1: val_loss improved from inf to 3.78376, saving model to ./checkpoints/V4.1.0\\FOLD-4\n",
      "INFO:tensorflow:Assets written to: ./checkpoints/V4.1.0\\FOLD-4\\assets\n"
     ]
    },
    {
     "name": "stderr",
     "output_type": "stream",
     "text": [
      "INFO:tensorflow:Assets written to: ./checkpoints/V4.1.0\\FOLD-4\\assets\n"
     ]
    },
    {
     "name": "stdout",
     "output_type": "stream",
     "text": [
      "210/210 [==============================] - 194s 903ms/step - loss: 14.0007 - accuracy: 0.5119 - val_loss: 3.7838 - val_accuracy: 0.2542 - lr: 0.0020\n",
      "Epoch 2/45\n",
      "210/210 [==============================] - ETA: 0s - loss: 1.0927 - accuracy: 0.5964\n",
      "Epoch 2: val_loss improved from 3.78376 to 1.04833, saving model to ./checkpoints/V4.1.0\\FOLD-4\n",
      "INFO:tensorflow:Assets written to: ./checkpoints/V4.1.0\\FOLD-4\\assets\n"
     ]
    },
    {
     "name": "stderr",
     "output_type": "stream",
     "text": [
      "INFO:tensorflow:Assets written to: ./checkpoints/V4.1.0\\FOLD-4\\assets\n"
     ]
    },
    {
     "name": "stdout",
     "output_type": "stream",
     "text": [
      "210/210 [==============================] - 188s 898ms/step - loss: 1.0927 - accuracy: 0.5964 - val_loss: 1.0483 - val_accuracy: 0.5083 - lr: 0.0020\n",
      "Epoch 3/45\n",
      "210/210 [==============================] - ETA: 0s - loss: 0.8597 - accuracy: 0.6387\n",
      "Epoch 3: val_loss improved from 1.04833 to 0.76001, saving model to ./checkpoints/V4.1.0\\FOLD-4\n",
      "INFO:tensorflow:Assets written to: ./checkpoints/V4.1.0\\FOLD-4\\assets\n"
     ]
    },
    {
     "name": "stderr",
     "output_type": "stream",
     "text": [
      "INFO:tensorflow:Assets written to: ./checkpoints/V4.1.0\\FOLD-4\\assets\n"
     ]
    },
    {
     "name": "stdout",
     "output_type": "stream",
     "text": [
      "210/210 [==============================] - 191s 908ms/step - loss: 0.8597 - accuracy: 0.6387 - val_loss: 0.7600 - val_accuracy: 0.7042 - lr: 0.0020\n",
      "Epoch 4/45\n",
      "210/210 [==============================] - ETA: 0s - loss: 0.8616 - accuracy: 0.6500\n",
      "Epoch 4: val_loss did not improve from 0.76001\n",
      "210/210 [==============================] - 186s 884ms/step - loss: 0.8616 - accuracy: 0.6500 - val_loss: 0.8979 - val_accuracy: 0.6167 - lr: 0.0020\n",
      "Epoch 5/45\n",
      "210/210 [==============================] - ETA: 0s - loss: 0.7975 - accuracy: 0.6583\n",
      "Epoch 5: val_loss did not improve from 0.76001\n",
      "210/210 [==============================] - 184s 878ms/step - loss: 0.7975 - accuracy: 0.6583 - val_loss: 1.2844 - val_accuracy: 0.6750 - lr: 0.0020\n",
      "Epoch 6/45\n",
      "210/210 [==============================] - ETA: 0s - loss: 0.8259 - accuracy: 0.6613\n",
      "Epoch 6: val_loss did not improve from 0.76001\n",
      "210/210 [==============================] - 183s 874ms/step - loss: 0.8259 - accuracy: 0.6613 - val_loss: 1.2894 - val_accuracy: 0.5042 - lr: 0.0020\n",
      "Epoch 7/45\n",
      "210/210 [==============================] - ETA: 0s - loss: 0.8049 - accuracy: 0.6661\n",
      "Epoch 7: val_loss improved from 0.76001 to 0.67930, saving model to ./checkpoints/V4.1.0\\FOLD-4\n",
      "INFO:tensorflow:Assets written to: ./checkpoints/V4.1.0\\FOLD-4\\assets\n"
     ]
    },
    {
     "name": "stderr",
     "output_type": "stream",
     "text": [
      "INFO:tensorflow:Assets written to: ./checkpoints/V4.1.0\\FOLD-4\\assets\n"
     ]
    },
    {
     "name": "stdout",
     "output_type": "stream",
     "text": [
      "210/210 [==============================] - 190s 907ms/step - loss: 0.8049 - accuracy: 0.6661 - val_loss: 0.6793 - val_accuracy: 0.7542 - lr: 0.0020\n",
      "Epoch 8/45\n",
      "210/210 [==============================] - ETA: 0s - loss: 0.8262 - accuracy: 0.6702\n",
      "Epoch 8: val_loss did not improve from 0.67930\n",
      "210/210 [==============================] - 183s 872ms/step - loss: 0.8262 - accuracy: 0.6702 - val_loss: 11.0894 - val_accuracy: 0.3000 - lr: 0.0020\n",
      "Epoch 9/45\n",
      "210/210 [==============================] - ETA: 0s - loss: 0.7972 - accuracy: 0.6679\n",
      "Epoch 9: val_loss did not improve from 0.67930\n",
      "210/210 [==============================] - 183s 873ms/step - loss: 0.7972 - accuracy: 0.6679 - val_loss: 4.2477 - val_accuracy: 0.4917 - lr: 0.0020\n",
      "Epoch 10/45\n",
      "210/210 [==============================] - ETA: 0s - loss: 0.7878 - accuracy: 0.6887\n",
      "Epoch 10: val_loss did not improve from 0.67930\n",
      "210/210 [==============================] - 183s 873ms/step - loss: 0.7878 - accuracy: 0.6887 - val_loss: 0.7926 - val_accuracy: 0.7375 - lr: 0.0020\n",
      "Epoch 11/45\n",
      "210/210 [==============================] - ETA: 0s - loss: 0.7256 - accuracy: 0.7048\n",
      "Epoch 11: val_loss did not improve from 0.67930\n",
      "210/210 [==============================] - 184s 878ms/step - loss: 0.7256 - accuracy: 0.7048 - val_loss: 0.6953 - val_accuracy: 0.7083 - lr: 0.0020\n",
      "Epoch 12/45\n",
      "210/210 [==============================] - ETA: 0s - loss: 0.7380 - accuracy: 0.6863\n",
      "Epoch 12: val_loss did not improve from 0.67930\n",
      "210/210 [==============================] - 183s 872ms/step - loss: 0.7380 - accuracy: 0.6863 - val_loss: 0.7727 - val_accuracy: 0.6667 - lr: 0.0020\n",
      "Epoch 13/45\n",
      "210/210 [==============================] - ETA: 0s - loss: 0.7444 - accuracy: 0.7042\n",
      "Epoch 13: val_loss improved from 0.67930 to 0.67326, saving model to ./checkpoints/V4.1.0\\FOLD-4\n",
      "INFO:tensorflow:Assets written to: ./checkpoints/V4.1.0\\FOLD-4\\assets\n"
     ]
    },
    {
     "name": "stderr",
     "output_type": "stream",
     "text": [
      "INFO:tensorflow:Assets written to: ./checkpoints/V4.1.0\\FOLD-4\\assets\n"
     ]
    },
    {
     "name": "stdout",
     "output_type": "stream",
     "text": [
      "210/210 [==============================] - 191s 908ms/step - loss: 0.7444 - accuracy: 0.7042 - val_loss: 0.6733 - val_accuracy: 0.7792 - lr: 0.0020\n",
      "Epoch 14/45\n",
      "210/210 [==============================] - ETA: 0s - loss: 0.6481 - accuracy: 0.7452\n",
      "Epoch 14: val_loss did not improve from 0.67326\n",
      "210/210 [==============================] - 184s 878ms/step - loss: 0.6481 - accuracy: 0.7452 - val_loss: 0.7290 - val_accuracy: 0.7542 - lr: 0.0020\n",
      "Epoch 15/45\n",
      "210/210 [==============================] - ETA: 0s - loss: 0.6942 - accuracy: 0.7405\n",
      "Epoch 15: val_loss did not improve from 0.67326\n",
      "210/210 [==============================] - 184s 878ms/step - loss: 0.6942 - accuracy: 0.7405 - val_loss: 1.6740 - val_accuracy: 0.3917 - lr: 0.0020\n",
      "Epoch 16/45\n",
      "210/210 [==============================] - ETA: 0s - loss: 0.6473 - accuracy: 0.7405\n",
      "Epoch 16: val_loss did not improve from 0.67326\n",
      "210/210 [==============================] - 184s 875ms/step - loss: 0.6473 - accuracy: 0.7405 - val_loss: 3.0978 - val_accuracy: 0.3708 - lr: 0.0020\n",
      "Epoch 17/45\n",
      "210/210 [==============================] - ETA: 0s - loss: 0.6763 - accuracy: 0.7399\n",
      "Epoch 17: val_loss did not improve from 0.67326\n",
      "210/210 [==============================] - 185s 882ms/step - loss: 0.6763 - accuracy: 0.7399 - val_loss: 0.9856 - val_accuracy: 0.6167 - lr: 0.0020\n",
      "Epoch 18/45\n",
      "210/210 [==============================] - ETA: 0s - loss: 0.5843 - accuracy: 0.7714\n",
      "Epoch 18: val_loss did not improve from 0.67326\n",
      "210/210 [==============================] - 184s 878ms/step - loss: 0.5843 - accuracy: 0.7714 - val_loss: 1.3866 - val_accuracy: 0.4542 - lr: 0.0020\n",
      "Epoch 19/45\n",
      "210/210 [==============================] - ETA: 0s - loss: 0.6428 - accuracy: 0.7411\n",
      "Epoch 19: val_loss did not improve from 0.67326\n",
      "210/210 [==============================] - 184s 877ms/step - loss: 0.6428 - accuracy: 0.7411 - val_loss: 1.0177 - val_accuracy: 0.6208 - lr: 0.0020\n",
      "Epoch 20/45\n",
      "210/210 [==============================] - ETA: 0s - loss: 0.5987 - accuracy: 0.7690\n",
      "Epoch 20: val_loss did not improve from 0.67326\n",
      "210/210 [==============================] - 184s 875ms/step - loss: 0.5987 - accuracy: 0.7690 - val_loss: 5.6858 - val_accuracy: 0.3292 - lr: 0.0020\n",
      "Epoch 21/45\n",
      "210/210 [==============================] - ETA: 0s - loss: 0.5464 - accuracy: 0.7988\n",
      "Epoch 21: val_loss did not improve from 0.67326\n",
      "210/210 [==============================] - 184s 878ms/step - loss: 0.5464 - accuracy: 0.7988 - val_loss: 1.1285 - val_accuracy: 0.5250 - lr: 0.0020\n",
      "Epoch 22/45\n",
      "210/210 [==============================] - ETA: 0s - loss: 0.5471 - accuracy: 0.7827\n",
      "Epoch 22: val_loss improved from 0.67326 to 0.64780, saving model to ./checkpoints/V4.1.0\\FOLD-4\n",
      "INFO:tensorflow:Assets written to: ./checkpoints/V4.1.0\\FOLD-4\\assets\n"
     ]
    },
    {
     "name": "stderr",
     "output_type": "stream",
     "text": [
      "INFO:tensorflow:Assets written to: ./checkpoints/V4.1.0\\FOLD-4\\assets\n"
     ]
    },
    {
     "name": "stdout",
     "output_type": "stream",
     "text": [
      "210/210 [==============================] - 191s 909ms/step - loss: 0.5471 - accuracy: 0.7827 - val_loss: 0.6478 - val_accuracy: 0.7708 - lr: 0.0020\n",
      "Epoch 23/45\n",
      "210/210 [==============================] - ETA: 0s - loss: 0.5251 - accuracy: 0.8000\n",
      "Epoch 23: val_loss did not improve from 0.64780\n",
      "210/210 [==============================] - 183s 871ms/step - loss: 0.5251 - accuracy: 0.8000 - val_loss: 0.8136 - val_accuracy: 0.7625 - lr: 0.0020\n",
      "Epoch 24/45\n",
      "210/210 [==============================] - ETA: 0s - loss: 0.5624 - accuracy: 0.7851\n",
      "Epoch 24: val_loss improved from 0.64780 to 0.55762, saving model to ./checkpoints/V4.1.0\\FOLD-4\n",
      "INFO:tensorflow:Assets written to: ./checkpoints/V4.1.0\\FOLD-4\\assets\n"
     ]
    },
    {
     "name": "stderr",
     "output_type": "stream",
     "text": [
      "INFO:tensorflow:Assets written to: ./checkpoints/V4.1.0\\FOLD-4\\assets\n"
     ]
    },
    {
     "name": "stdout",
     "output_type": "stream",
     "text": [
      "210/210 [==============================] - 191s 911ms/step - loss: 0.5624 - accuracy: 0.7851 - val_loss: 0.5576 - val_accuracy: 0.7958 - lr: 0.0020\n",
      "Epoch 25/45\n",
      "210/210 [==============================] - ETA: 0s - loss: 0.5843 - accuracy: 0.7786\n",
      "Epoch 25: val_loss did not improve from 0.55762\n",
      "210/210 [==============================] - 183s 869ms/step - loss: 0.5843 - accuracy: 0.7786 - val_loss: 1.2599 - val_accuracy: 0.5875 - lr: 0.0020\n",
      "Epoch 26/45\n",
      "210/210 [==============================] - ETA: 0s - loss: 0.4921 - accuracy: 0.8042\n",
      "Epoch 26: val_loss did not improve from 0.55762\n",
      "210/210 [==============================] - 183s 874ms/step - loss: 0.4921 - accuracy: 0.8042 - val_loss: 0.8972 - val_accuracy: 0.6750 - lr: 0.0020\n",
      "Epoch 27/45\n",
      "210/210 [==============================] - ETA: 0s - loss: 0.4818 - accuracy: 0.8173\n",
      "Epoch 27: val_loss did not improve from 0.55762\n",
      "210/210 [==============================] - 184s 876ms/step - loss: 0.4818 - accuracy: 0.8173 - val_loss: 0.8075 - val_accuracy: 0.6958 - lr: 0.0020\n",
      "Epoch 28/45\n",
      "210/210 [==============================] - ETA: 0s - loss: 0.5503 - accuracy: 0.7863\n",
      "Epoch 28: val_loss did not improve from 0.55762\n",
      "210/210 [==============================] - 184s 874ms/step - loss: 0.5503 - accuracy: 0.7863 - val_loss: 1.2508 - val_accuracy: 0.5000 - lr: 0.0020\n",
      "Epoch 29/45\n",
      "210/210 [==============================] - ETA: 0s - loss: 0.4872 - accuracy: 0.8131\n",
      "Epoch 29: val_loss improved from 0.55762 to 0.52189, saving model to ./checkpoints/V4.1.0\\FOLD-4\n",
      "INFO:tensorflow:Assets written to: ./checkpoints/V4.1.0\\FOLD-4\\assets\n"
     ]
    },
    {
     "name": "stderr",
     "output_type": "stream",
     "text": [
      "INFO:tensorflow:Assets written to: ./checkpoints/V4.1.0\\FOLD-4\\assets\n"
     ]
    },
    {
     "name": "stdout",
     "output_type": "stream",
     "text": [
      "210/210 [==============================] - 192s 915ms/step - loss: 0.4872 - accuracy: 0.8131 - val_loss: 0.5219 - val_accuracy: 0.8375 - lr: 0.0020\n",
      "Epoch 30/45\n",
      "210/210 [==============================] - ETA: 0s - loss: 0.4722 - accuracy: 0.8208\n",
      "Epoch 30: val_loss did not improve from 0.52189\n",
      "210/210 [==============================] - 184s 876ms/step - loss: 0.4722 - accuracy: 0.8208 - val_loss: 1.3651 - val_accuracy: 0.4250 - lr: 0.0020\n",
      "Epoch 31/45\n",
      "210/210 [==============================] - ETA: 0s - loss: 0.5016 - accuracy: 0.8161\n",
      "Epoch 31: val_loss improved from 0.52189 to 0.45870, saving model to ./checkpoints/V4.1.0\\FOLD-4\n",
      "INFO:tensorflow:Assets written to: ./checkpoints/V4.1.0\\FOLD-4\\assets\n"
     ]
    },
    {
     "name": "stderr",
     "output_type": "stream",
     "text": [
      "INFO:tensorflow:Assets written to: ./checkpoints/V4.1.0\\FOLD-4\\assets\n"
     ]
    },
    {
     "name": "stdout",
     "output_type": "stream",
     "text": [
      "210/210 [==============================] - 190s 907ms/step - loss: 0.5016 - accuracy: 0.8161 - val_loss: 0.4587 - val_accuracy: 0.8625 - lr: 0.0020\n",
      "Epoch 32/45\n",
      "210/210 [==============================] - ETA: 0s - loss: 0.4873 - accuracy: 0.8101\n",
      "Epoch 32: val_loss did not improve from 0.45870\n",
      "210/210 [==============================] - 183s 872ms/step - loss: 0.4873 - accuracy: 0.8101 - val_loss: 0.7057 - val_accuracy: 0.7792 - lr: 0.0020\n",
      "Epoch 33/45\n",
      "210/210 [==============================] - ETA: 0s - loss: 0.4411 - accuracy: 0.8381\n",
      "Epoch 33: val_loss did not improve from 0.45870\n",
      "210/210 [==============================] - 184s 877ms/step - loss: 0.4411 - accuracy: 0.8381 - val_loss: 0.9093 - val_accuracy: 0.7250 - lr: 0.0020\n",
      "Epoch 34/45\n",
      "210/210 [==============================] - ETA: 0s - loss: 0.4702 - accuracy: 0.8190\n",
      "Epoch 34: val_loss did not improve from 0.45870\n",
      "210/210 [==============================] - 185s 879ms/step - loss: 0.4702 - accuracy: 0.8190 - val_loss: 0.8738 - val_accuracy: 0.5917 - lr: 0.0020\n",
      "Epoch 35/45\n",
      "210/210 [==============================] - ETA: 0s - loss: 0.4401 - accuracy: 0.8375\n",
      "Epoch 35: val_loss did not improve from 0.45870\n",
      "210/210 [==============================] - 184s 876ms/step - loss: 0.4401 - accuracy: 0.8375 - val_loss: 0.7267 - val_accuracy: 0.7083 - lr: 0.0020\n",
      "Epoch 36/45\n",
      "210/210 [==============================] - ETA: 0s - loss: 0.4598 - accuracy: 0.8357\n",
      "Epoch 36: val_loss did not improve from 0.45870\n",
      "210/210 [==============================] - 184s 878ms/step - loss: 0.4598 - accuracy: 0.8357 - val_loss: 0.6655 - val_accuracy: 0.7292 - lr: 0.0020\n",
      "Epoch 37/45\n",
      "210/210 [==============================] - ETA: 0s - loss: 0.3970 - accuracy: 0.8435\n",
      "Epoch 37: val_loss did not improve from 0.45870\n",
      "210/210 [==============================] - 185s 881ms/step - loss: 0.3970 - accuracy: 0.8435 - val_loss: 3.1029 - val_accuracy: 0.5167 - lr: 0.0020\n",
      "Epoch 38/45\n",
      "210/210 [==============================] - ETA: 0s - loss: 0.4480 - accuracy: 0.8393\n",
      "Epoch 38: val_loss did not improve from 0.45870\n",
      "210/210 [==============================] - 184s 874ms/step - loss: 0.4480 - accuracy: 0.8393 - val_loss: 0.6463 - val_accuracy: 0.7917 - lr: 0.0020\n",
      "Epoch 39/45\n",
      "210/210 [==============================] - ETA: 0s - loss: 0.4176 - accuracy: 0.8488\n",
      "Epoch 39: val_loss did not improve from 0.45870\n",
      "210/210 [==============================] - 185s 882ms/step - loss: 0.4176 - accuracy: 0.8488 - val_loss: 0.6368 - val_accuracy: 0.8083 - lr: 0.0020\n",
      "Epoch 40/45\n",
      "210/210 [==============================] - ETA: 0s - loss: 0.5470 - accuracy: 0.8012\n",
      "Epoch 40: val_loss did not improve from 0.45870\n",
      "210/210 [==============================] - 184s 878ms/step - loss: 0.5470 - accuracy: 0.8012 - val_loss: 1.1185 - val_accuracy: 0.5750 - lr: 0.0020\n",
      "Epoch 41/45\n",
      "210/210 [==============================] - ETA: 0s - loss: 0.4877 - accuracy: 0.8208\n",
      "Epoch 41: val_loss improved from 0.45870 to 0.40673, saving model to ./checkpoints/V4.1.0\\FOLD-4\n",
      "INFO:tensorflow:Assets written to: ./checkpoints/V4.1.0\\FOLD-4\\assets\n"
     ]
    },
    {
     "name": "stderr",
     "output_type": "stream",
     "text": [
      "INFO:tensorflow:Assets written to: ./checkpoints/V4.1.0\\FOLD-4\\assets\n"
     ]
    },
    {
     "name": "stdout",
     "output_type": "stream",
     "text": [
      "210/210 [==============================] - 192s 914ms/step - loss: 0.4877 - accuracy: 0.8208 - val_loss: 0.4067 - val_accuracy: 0.9000 - lr: 0.0020\n",
      "Epoch 42/45\n",
      "210/210 [==============================] - ETA: 0s - loss: 0.4294 - accuracy: 0.8458\n",
      "Epoch 42: val_loss did not improve from 0.40673\n",
      "210/210 [==============================] - 183s 873ms/step - loss: 0.4294 - accuracy: 0.8458 - val_loss: 0.5399 - val_accuracy: 0.8000 - lr: 0.0020\n",
      "Epoch 43/45\n",
      "210/210 [==============================] - ETA: 0s - loss: 0.5326 - accuracy: 0.8131\n",
      "Epoch 43: val_loss did not improve from 0.40673\n",
      "210/210 [==============================] - 185s 880ms/step - loss: 0.5326 - accuracy: 0.8131 - val_loss: 0.6433 - val_accuracy: 0.7625 - lr: 0.0020\n",
      "Epoch 44/45\n",
      "210/210 [==============================] - ETA: 0s - loss: 0.4204 - accuracy: 0.8435\n",
      "Epoch 44: val_loss did not improve from 0.40673\n",
      "210/210 [==============================] - 184s 875ms/step - loss: 0.4204 - accuracy: 0.8435 - val_loss: 0.4348 - val_accuracy: 0.8417 - lr: 0.0020\n",
      "Epoch 45/45\n",
      "210/210 [==============================] - ETA: 0s - loss: 0.4167 - accuracy: 0.8601\n",
      "Epoch 45: val_loss did not improve from 0.40673\n",
      "210/210 [==============================] - 184s 877ms/step - loss: 0.4167 - accuracy: 0.8601 - val_loss: 0.5567 - val_accuracy: 0.7875 - lr: 0.0020\n"
     ]
    },
    {
     "data": {
      "image/png": "[encoded data removed]",
      "text/plain": [
       "<Figure size 300x200 with 1 Axes>"
      ]
     },
     "metadata": {},
     "output_type": "display_data"
    },
    {
     "data": {
      "image/png": "[encoded data removed]",
      "text/plain": [
       "<Figure size 300x200 with 1 Axes>"
      ]
     },
     "metadata": {},
     "output_type": "display_data"
    },
    {
     "name": "stdout",
     "output_type": "stream",
     "text": [
      "Fold Training Time: 2 hour(s) and 19 mins\n",
      "Precision: 93.68932247161865  -  Recall: 80.41666746139526\n",
      "Accuracy: 89.99999761581421\n",
      "F1Score: Building 85.0 | Plant 93.442626953125 | Road 92.17391967773438 | Vehicle 89.43089294433594\n",
      "[neptune] [info   ] Shutting down background jobs, please wait a moment...\n",
      "[neptune] [info   ] Done!\n",
      "[neptune] [info   ] Neptune initialized. Open in the app: offline/b9cee021-d264-4bc0-bee7-e96b0a5380da\n",
      "Epoch 1/45\n",
      "210/210 [==============================] - ETA: 0s - loss: 18.1343 - accuracy: 0.4595\n",
      "Epoch 1: val_loss improved from inf to 2.80447, saving model to ./checkpoints/V4.1.0\\FOLD-5\n",
      "INFO:tensorflow:Assets written to: ./checkpoints/V4.1.0\\FOLD-5\\assets\n"
     ]
    },
    {
     "name": "stderr",
     "output_type": "stream",
     "text": [
      "INFO:tensorflow:Assets written to: ./checkpoints/V4.1.0\\FOLD-5\\assets\n"
     ]
    },
    {
     "name": "stdout",
     "output_type": "stream",
     "text": [
      "210/210 [==============================] - 193s 895ms/step - loss: 18.1343 - accuracy: 0.4595 - val_loss: 2.8045 - val_accuracy: 0.2500 - lr: 0.0020\n",
      "Epoch 2/45\n",
      "210/210 [==============================] - ETA: 0s - loss: 1.2123 - accuracy: 0.5571\n",
      "Epoch 2: val_loss improved from 2.80447 to 1.20871, saving model to ./checkpoints/V4.1.0\\FOLD-5\n",
      "INFO:tensorflow:Assets written to: ./checkpoints/V4.1.0\\FOLD-5\\assets\n"
     ]
    },
    {
     "name": "stderr",
     "output_type": "stream",
     "text": [
      "INFO:tensorflow:Assets written to: ./checkpoints/V4.1.0\\FOLD-5\\assets\n"
     ]
    },
    {
     "name": "stdout",
     "output_type": "stream",
     "text": [
      "210/210 [==============================] - 188s 895ms/step - loss: 1.2123 - accuracy: 0.5571 - val_loss: 1.2087 - val_accuracy: 0.5167 - lr: 0.0020\n",
      "Epoch 3/45\n",
      "210/210 [==============================] - ETA: 0s - loss: 1.0092 - accuracy: 0.5905\n",
      "Epoch 3: val_loss improved from 1.20871 to 0.65290, saving model to ./checkpoints/V4.1.0\\FOLD-5\n",
      "INFO:tensorflow:Assets written to: ./checkpoints/V4.1.0\\FOLD-5\\assets\n"
     ]
    },
    {
     "name": "stderr",
     "output_type": "stream",
     "text": [
      "INFO:tensorflow:Assets written to: ./checkpoints/V4.1.0\\FOLD-5\\assets\n"
     ]
    },
    {
     "name": "stdout",
     "output_type": "stream",
     "text": [
      "210/210 [==============================] - 191s 908ms/step - loss: 1.0092 - accuracy: 0.5905 - val_loss: 0.6529 - val_accuracy: 0.7250 - lr: 0.0020\n",
      "Epoch 4/45\n",
      "210/210 [==============================] - ETA: 0s - loss: 1.0337 - accuracy: 0.5929\n",
      "Epoch 4: val_loss did not improve from 0.65290\n",
      "210/210 [==============================] - 182s 868ms/step - loss: 1.0337 - accuracy: 0.5929 - val_loss: 0.8543 - val_accuracy: 0.5917 - lr: 0.0020\n",
      "Epoch 5/45\n",
      "210/210 [==============================] - ETA: 0s - loss: 0.9662 - accuracy: 0.6107\n",
      "Epoch 5: val_loss did not improve from 0.65290\n",
      "210/210 [==============================] - 182s 868ms/step - loss: 0.9662 - accuracy: 0.6107 - val_loss: 1.8541 - val_accuracy: 0.4875 - lr: 0.0020\n",
      "Epoch 6/45\n",
      "210/210 [==============================] - ETA: 0s - loss: 0.9529 - accuracy: 0.6250\n",
      "Epoch 6: val_loss did not improve from 0.65290\n",
      "210/210 [==============================] - 182s 866ms/step - loss: 0.9529 - accuracy: 0.6250 - val_loss: 0.7672 - val_accuracy: 0.6542 - lr: 0.0020\n",
      "Epoch 7/45\n",
      "210/210 [==============================] - ETA: 0s - loss: 0.8666 - accuracy: 0.6411\n",
      "Epoch 7: val_loss did not improve from 0.65290\n",
      "210/210 [==============================] - 182s 868ms/step - loss: 0.8666 - accuracy: 0.6411 - val_loss: 0.9445 - val_accuracy: 0.6042 - lr: 0.0020\n",
      "Epoch 8/45\n",
      "210/210 [==============================] - ETA: 0s - loss: 0.8682 - accuracy: 0.6292\n",
      "Epoch 8: val_loss did not improve from 0.65290\n",
      "210/210 [==============================] - 184s 874ms/step - loss: 0.8682 - accuracy: 0.6292 - val_loss: 0.9711 - val_accuracy: 0.5292 - lr: 0.0020\n",
      "Epoch 9/45\n",
      "210/210 [==============================] - ETA: 0s - loss: 0.8068 - accuracy: 0.6601\n",
      "Epoch 9: val_loss did not improve from 0.65290\n",
      "210/210 [==============================] - 182s 865ms/step - loss: 0.8068 - accuracy: 0.6601 - val_loss: 0.8318 - val_accuracy: 0.6292 - lr: 0.0020\n",
      "Epoch 10/45\n",
      "210/210 [==============================] - ETA: 0s - loss: 0.7871 - accuracy: 0.6738\n",
      "Epoch 10: val_loss did not improve from 0.65290\n",
      "210/210 [==============================] - 181s 864ms/step - loss: 0.7871 - accuracy: 0.6738 - val_loss: 0.8390 - val_accuracy: 0.6708 - lr: 0.0020\n",
      "Epoch 11/45\n",
      "210/210 [==============================] - ETA: 0s - loss: 0.7213 - accuracy: 0.6964\n",
      "Epoch 11: val_loss did not improve from 0.65290\n",
      "210/210 [==============================] - 183s 872ms/step - loss: 0.7213 - accuracy: 0.6964 - val_loss: 2.4839 - val_accuracy: 0.3000 - lr: 0.0020\n",
      "Epoch 12/45\n",
      "210/210 [==============================] - ETA: 0s - loss: 0.7339 - accuracy: 0.6893\n",
      "Epoch 12: val_loss did not improve from 0.65290\n",
      "210/210 [==============================] - 182s 865ms/step - loss: 0.7339 - accuracy: 0.6893 - val_loss: 0.8353 - val_accuracy: 0.6417 - lr: 0.0020\n",
      "Epoch 13/45\n",
      "210/210 [==============================] - ETA: 0s - loss: 0.7320 - accuracy: 0.6958\n",
      "Epoch 13: val_loss improved from 0.65290 to 0.59498, saving model to ./checkpoints/V4.1.0\\FOLD-5\n",
      "INFO:tensorflow:Assets written to: ./checkpoints/V4.1.0\\FOLD-5\\assets\n"
     ]
    },
    {
     "name": "stderr",
     "output_type": "stream",
     "text": [
      "INFO:tensorflow:Assets written to: ./checkpoints/V4.1.0\\FOLD-5\\assets\n"
     ]
    },
    {
     "name": "stdout",
     "output_type": "stream",
     "text": [
      "210/210 [==============================] - 189s 902ms/step - loss: 0.7320 - accuracy: 0.6958 - val_loss: 0.5950 - val_accuracy: 0.7667 - lr: 0.0020\n",
      "Epoch 14/45\n",
      "210/210 [==============================] - ETA: 0s - loss: 0.6791 - accuracy: 0.7250\n",
      "Epoch 14: val_loss did not improve from 0.59498\n",
      "210/210 [==============================] - 182s 867ms/step - loss: 0.6791 - accuracy: 0.7250 - val_loss: 0.7357 - val_accuracy: 0.7125 - lr: 0.0020\n",
      "Epoch 15/45\n",
      "210/210 [==============================] - ETA: 0s - loss: 0.6639 - accuracy: 0.7256\n",
      "Epoch 15: val_loss improved from 0.59498 to 0.48756, saving model to ./checkpoints/V4.1.0\\FOLD-5\n",
      "INFO:tensorflow:Assets written to: ./checkpoints/V4.1.0\\FOLD-5\\assets\n"
     ]
    },
    {
     "name": "stderr",
     "output_type": "stream",
     "text": [
      "INFO:tensorflow:Assets written to: ./checkpoints/V4.1.0\\FOLD-5\\assets\n"
     ]
    },
    {
     "name": "stdout",
     "output_type": "stream",
     "text": [
      "210/210 [==============================] - 189s 899ms/step - loss: 0.6639 - accuracy: 0.7256 - val_loss: 0.4876 - val_accuracy: 0.8292 - lr: 0.0020\n",
      "Epoch 16/45\n",
      "210/210 [==============================] - ETA: 0s - loss: 0.6478 - accuracy: 0.7375\n",
      "Epoch 16: val_loss did not improve from 0.48756\n",
      "210/210 [==============================] - 181s 862ms/step - loss: 0.6478 - accuracy: 0.7375 - val_loss: 0.7960 - val_accuracy: 0.6292 - lr: 0.0020\n",
      "Epoch 17/45\n",
      "210/210 [==============================] - ETA: 0s - loss: 0.6605 - accuracy: 0.7315\n",
      "Epoch 17: val_loss improved from 0.48756 to 0.45180, saving model to ./checkpoints/V4.1.0\\FOLD-5\n",
      "INFO:tensorflow:Assets written to: ./checkpoints/V4.1.0\\FOLD-5\\assets\n"
     ]
    },
    {
     "name": "stderr",
     "output_type": "stream",
     "text": [
      "INFO:tensorflow:Assets written to: ./checkpoints/V4.1.0\\FOLD-5\\assets\n"
     ]
    },
    {
     "name": "stdout",
     "output_type": "stream",
     "text": [
      "210/210 [==============================] - 189s 902ms/step - loss: 0.6605 - accuracy: 0.7315 - val_loss: 0.4518 - val_accuracy: 0.8500 - lr: 0.0020\n",
      "Epoch 18/45\n",
      "210/210 [==============================] - ETA: 0s - loss: 0.6513 - accuracy: 0.7310\n",
      "Epoch 18: val_loss did not improve from 0.45180\n",
      "210/210 [==============================] - 182s 869ms/step - loss: 0.6513 - accuracy: 0.7310 - val_loss: 0.6732 - val_accuracy: 0.7250 - lr: 0.0020\n",
      "Epoch 19/45\n",
      "210/210 [==============================] - ETA: 0s - loss: 0.6815 - accuracy: 0.7256\n",
      "Epoch 19: val_loss did not improve from 0.45180\n",
      "210/210 [==============================] - 182s 865ms/step - loss: 0.6815 - accuracy: 0.7256 - val_loss: 2.7115 - val_accuracy: 0.4042 - lr: 0.0020\n",
      "Epoch 20/45\n",
      "210/210 [==============================] - ETA: 0s - loss: 0.6849 - accuracy: 0.7268\n",
      "Epoch 20: val_loss did not improve from 0.45180\n",
      "210/210 [==============================] - 181s 864ms/step - loss: 0.6849 - accuracy: 0.7268 - val_loss: 1.0878 - val_accuracy: 0.5708 - lr: 0.0020\n",
      "Epoch 21/45\n",
      "210/210 [==============================] - ETA: 0s - loss: 0.7286 - accuracy: 0.7060\n",
      "Epoch 21: val_loss did not improve from 0.45180\n",
      "210/210 [==============================] - 182s 868ms/step - loss: 0.7286 - accuracy: 0.7060 - val_loss: 1.3995 - val_accuracy: 0.4708 - lr: 0.0020\n",
      "Epoch 22/45\n",
      "210/210 [==============================] - ETA: 0s - loss: 0.6073 - accuracy: 0.7738\n",
      "Epoch 22: val_loss did not improve from 0.45180\n",
      "210/210 [==============================] - 181s 864ms/step - loss: 0.6073 - accuracy: 0.7738 - val_loss: 1.0254 - val_accuracy: 0.6125 - lr: 0.0020\n",
      "Epoch 23/45\n",
      "210/210 [==============================] - ETA: 0s - loss: 0.6568 - accuracy: 0.7577\n",
      "Epoch 23: val_loss did not improve from 0.45180\n",
      "210/210 [==============================] - 182s 868ms/step - loss: 0.6568 - accuracy: 0.7577 - val_loss: 0.6712 - val_accuracy: 0.7417 - lr: 0.0020\n",
      "Epoch 24/45\n",
      "210/210 [==============================] - ETA: 0s - loss: 0.6461 - accuracy: 0.7560\n",
      "Epoch 24: val_loss did not improve from 0.45180\n",
      "210/210 [==============================] - 182s 869ms/step - loss: 0.6461 - accuracy: 0.7560 - val_loss: 0.9762 - val_accuracy: 0.6750 - lr: 0.0020\n",
      "Epoch 25/45\n",
      "210/210 [==============================] - ETA: 0s - loss: 0.6852 - accuracy: 0.7458\n",
      "Epoch 25: val_loss did not improve from 0.45180\n",
      "210/210 [==============================] - 182s 866ms/step - loss: 0.6852 - accuracy: 0.7458 - val_loss: 3.0352 - val_accuracy: 0.2500 - lr: 0.0020\n",
      "Epoch 26/45\n",
      "210/210 [==============================] - ETA: 0s - loss: 0.6206 - accuracy: 0.7500\n",
      "Epoch 26: val_loss did not improve from 0.45180\n",
      "210/210 [==============================] - 182s 865ms/step - loss: 0.6206 - accuracy: 0.7500 - val_loss: 3.7266 - val_accuracy: 0.2708 - lr: 0.0020\n",
      "Epoch 27/45\n",
      "210/210 [==============================] - ETA: 0s - loss: 0.5818 - accuracy: 0.7708\n",
      "Epoch 27: ReduceLROnPlateau reducing learning rate to 0.0012000000569969416.\n",
      "\n",
      "Epoch 27: val_loss did not improve from 0.45180\n",
      "210/210 [==============================] - 182s 865ms/step - loss: 0.5818 - accuracy: 0.7708 - val_loss: 0.4789 - val_accuracy: 0.7958 - lr: 0.0020\n",
      "Epoch 28/45\n",
      "210/210 [==============================] - ETA: 0s - loss: 0.5287 - accuracy: 0.7970\n",
      "Epoch 28: val_loss did not improve from 0.45180\n",
      "210/210 [==============================] - 183s 870ms/step - loss: 0.5287 - accuracy: 0.7970 - val_loss: 0.6178 - val_accuracy: 0.7375 - lr: 0.0012\n",
      "Epoch 29/45\n",
      "210/210 [==============================] - ETA: 0s - loss: 0.4924 - accuracy: 0.8149\n",
      "Epoch 29: val_loss improved from 0.45180 to 0.41048, saving model to ./checkpoints/V4.1.0\\FOLD-5\n",
      "INFO:tensorflow:Assets written to: ./checkpoints/V4.1.0\\FOLD-5\\assets\n"
     ]
    },
    {
     "name": "stderr",
     "output_type": "stream",
     "text": [
      "INFO:tensorflow:Assets written to: ./checkpoints/V4.1.0\\FOLD-5\\assets\n"
     ]
    },
    {
     "name": "stdout",
     "output_type": "stream",
     "text": [
      "210/210 [==============================] - 189s 902ms/step - loss: 0.4924 - accuracy: 0.8149 - val_loss: 0.4105 - val_accuracy: 0.8667 - lr: 0.0012\n",
      "Epoch 30/45\n",
      "210/210 [==============================] - ETA: 0s - loss: 0.4785 - accuracy: 0.8095\n",
      "Epoch 30: val_loss did not improve from 0.41048\n",
      "210/210 [==============================] - 182s 865ms/step - loss: 0.4785 - accuracy: 0.8095 - val_loss: 0.8036 - val_accuracy: 0.6792 - lr: 0.0012\n",
      "Epoch 31/45\n",
      "210/210 [==============================] - ETA: 0s - loss: 0.4596 - accuracy: 0.8280\n",
      "Epoch 31: val_loss did not improve from 0.41048\n",
      "210/210 [==============================] - 182s 868ms/step - loss: 0.4596 - accuracy: 0.8280 - val_loss: 0.6268 - val_accuracy: 0.8000 - lr: 0.0012\n",
      "Epoch 32/45\n",
      "210/210 [==============================] - ETA: 0s - loss: 0.4449 - accuracy: 0.8393\n",
      "Epoch 32: val_loss did not improve from 0.41048\n",
      "210/210 [==============================] - 182s 867ms/step - loss: 0.4449 - accuracy: 0.8393 - val_loss: 1.1523 - val_accuracy: 0.5333 - lr: 0.0012\n",
      "Epoch 33/45\n",
      "210/210 [==============================] - ETA: 0s - loss: 0.4385 - accuracy: 0.8470\n",
      "Epoch 33: val_loss improved from 0.41048 to 0.36599, saving model to ./checkpoints/V4.1.0\\FOLD-5\n",
      "INFO:tensorflow:Assets written to: ./checkpoints/V4.1.0\\FOLD-5\\assets\n"
     ]
    },
    {
     "name": "stderr",
     "output_type": "stream",
     "text": [
      "INFO:tensorflow:Assets written to: ./checkpoints/V4.1.0\\FOLD-5\\assets\n"
     ]
    },
    {
     "name": "stdout",
     "output_type": "stream",
     "text": [
      "210/210 [==============================] - 189s 899ms/step - loss: 0.4385 - accuracy: 0.8470 - val_loss: 0.3660 - val_accuracy: 0.8625 - lr: 0.0012\n",
      "Epoch 34/45\n",
      "210/210 [==============================] - ETA: 0s - loss: 0.4840 - accuracy: 0.8113\n",
      "Epoch 34: val_loss did not improve from 0.36599\n",
      "210/210 [==============================] - 183s 869ms/step - loss: 0.4840 - accuracy: 0.8113 - val_loss: 1.1751 - val_accuracy: 0.6167 - lr: 0.0012\n",
      "Epoch 35/45\n",
      "210/210 [==============================] - ETA: 0s - loss: 0.4379 - accuracy: 0.8387\n",
      "Epoch 35: val_loss did not improve from 0.36599\n",
      "210/210 [==============================] - 182s 866ms/step - loss: 0.4379 - accuracy: 0.8387 - val_loss: 1.2630 - val_accuracy: 0.6167 - lr: 0.0012\n",
      "Epoch 36/45\n",
      "210/210 [==============================] - ETA: 0s - loss: 0.3927 - accuracy: 0.8518\n",
      "Epoch 36: val_loss did not improve from 0.36599\n",
      "210/210 [==============================] - 182s 867ms/step - loss: 0.3927 - accuracy: 0.8518 - val_loss: 0.4301 - val_accuracy: 0.8292 - lr: 0.0012\n",
      "Epoch 37/45\n",
      "210/210 [==============================] - ETA: 0s - loss: 0.4322 - accuracy: 0.8351\n",
      "Epoch 37: val_loss did not improve from 0.36599\n",
      "210/210 [==============================] - 183s 872ms/step - loss: 0.4322 - accuracy: 0.8351 - val_loss: 0.6139 - val_accuracy: 0.7458 - lr: 0.0012\n",
      "Epoch 38/45\n",
      "210/210 [==============================] - ETA: 0s - loss: 0.3955 - accuracy: 0.8440\n",
      "Epoch 38: val_loss improved from 0.36599 to 0.30338, saving model to ./checkpoints/V4.1.0\\FOLD-5\n",
      "INFO:tensorflow:Assets written to: ./checkpoints/V4.1.0\\FOLD-5\\assets\n"
     ]
    },
    {
     "name": "stderr",
     "output_type": "stream",
     "text": [
      "INFO:tensorflow:Assets written to: ./checkpoints/V4.1.0\\FOLD-5\\assets\n"
     ]
    },
    {
     "name": "stdout",
     "output_type": "stream",
     "text": [
      "210/210 [==============================] - 190s 904ms/step - loss: 0.3955 - accuracy: 0.8440 - val_loss: 0.3034 - val_accuracy: 0.8875 - lr: 0.0012\n",
      "Epoch 39/45\n",
      "210/210 [==============================] - ETA: 0s - loss: 0.4134 - accuracy: 0.8512\n",
      "Epoch 39: val_loss did not improve from 0.30338\n",
      "210/210 [==============================] - 182s 867ms/step - loss: 0.4134 - accuracy: 0.8512 - val_loss: 3.9325 - val_accuracy: 0.2917 - lr: 0.0012\n",
      "Epoch 40/45\n",
      "210/210 [==============================] - ETA: 0s - loss: 0.4132 - accuracy: 0.8583\n",
      "Epoch 40: val_loss did not improve from 0.30338\n",
      "210/210 [==============================] - 182s 868ms/step - loss: 0.4132 - accuracy: 0.8583 - val_loss: 2.0533 - val_accuracy: 0.3458 - lr: 0.0012\n",
      "Epoch 41/45\n",
      "210/210 [==============================] - ETA: 0s - loss: 0.4252 - accuracy: 0.8482\n",
      "Epoch 41: val_loss did not improve from 0.30338\n",
      "210/210 [==============================] - 181s 863ms/step - loss: 0.4252 - accuracy: 0.8482 - val_loss: 0.4705 - val_accuracy: 0.8083 - lr: 0.0012\n",
      "Epoch 42/45\n",
      "210/210 [==============================] - ETA: 0s - loss: 0.3848 - accuracy: 0.8583\n",
      "Epoch 42: val_loss did not improve from 0.30338\n",
      "210/210 [==============================] - 182s 867ms/step - loss: 0.3848 - accuracy: 0.8583 - val_loss: 0.7201 - val_accuracy: 0.7083 - lr: 0.0012\n",
      "Epoch 43/45\n",
      "210/210 [==============================] - ETA: 0s - loss: 0.4490 - accuracy: 0.8351\n",
      "Epoch 43: val_loss did not improve from 0.30338\n",
      "210/210 [==============================] - 182s 869ms/step - loss: 0.4490 - accuracy: 0.8351 - val_loss: 0.7015 - val_accuracy: 0.7000 - lr: 0.0012\n",
      "Epoch 44/45\n",
      "210/210 [==============================] - ETA: 0s - loss: 0.3521 - accuracy: 0.8655\n",
      "Epoch 44: val_loss did not improve from 0.30338\n",
      "210/210 [==============================] - 183s 872ms/step - loss: 0.3521 - accuracy: 0.8655 - val_loss: 4.2738 - val_accuracy: 0.4000 - lr: 0.0012\n",
      "Epoch 45/45\n",
      "210/210 [==============================] - ETA: 0s - loss: 0.3581 - accuracy: 0.8750\n",
      "Epoch 45: val_loss did not improve from 0.30338\n",
      "210/210 [==============================] - 197s 938ms/step - loss: 0.3581 - accuracy: 0.8750 - val_loss: 0.3648 - val_accuracy: 0.8792 - lr: 0.0012\n"
     ]
    },
    {
     "data": {
      "image/png": "[encoded data removed]",
      "text/plain": [
       "<Figure size 300x200 with 1 Axes>"
      ]
     },
     "metadata": {},
     "output_type": "display_data"
    },
    {
     "data": {
      "image/png": "[encoded data removed]",
      "text/plain": [
       "<Figure size 300x200 with 1 Axes>"
      ]
     },
     "metadata": {},
     "output_type": "display_data"
    },
    {
     "name": "stdout",
     "output_type": "stream",
     "text": [
      "Fold Training Time: 2 hour(s) and 18 mins\n",
      "Precision: 90.47619104385376  -  Recall: 87.08333373069763\n",
      "Accuracy: 88.7499988079071\n",
      "F1Score: Building 83.07691955566406 | Plant 92.06349182128906 | Road 94.7368392944336 | Vehicle 85.45454406738281\n",
      "[neptune] [info   ] Shutting down background jobs, please wait a moment...\n",
      "[neptune] [info   ] Done!\n",
      "[neptune] [info   ] Neptune initialized. Open in the app: offline/28350dab-be41-4c0a-b08e-434feddb41ff\n",
      "Epoch 1/45\n",
      "210/210 [==============================] - ETA: 0s - loss: 12.6688 - accuracy: 0.4917\n",
      "Epoch 1: val_loss improved from inf to 3.46601, saving model to ./checkpoints/V4.1.0\\FOLD-6\n",
      "INFO:tensorflow:Assets written to: ./checkpoints/V4.1.0\\FOLD-6\\assets\n"
     ]
    },
    {
     "name": "stderr",
     "output_type": "stream",
     "text": [
      "INFO:tensorflow:Assets written to: ./checkpoints/V4.1.0\\FOLD-6\\assets\n"
     ]
    },
    {
     "name": "stdout",
     "output_type": "stream",
     "text": [
      "210/210 [==============================] - 206s 954ms/step - loss: 12.6688 - accuracy: 0.4917 - val_loss: 3.4660 - val_accuracy: 0.2500 - lr: 0.0020\n",
      "Epoch 2/45\n",
      "210/210 [==============================] - ETA: 0s - loss: 1.0944 - accuracy: 0.5839\n",
      "Epoch 2: val_loss improved from 3.46601 to 1.23958, saving model to ./checkpoints/V4.1.0\\FOLD-6\n",
      "INFO:tensorflow:Assets written to: ./checkpoints/V4.1.0\\FOLD-6\\assets\n"
     ]
    },
    {
     "name": "stderr",
     "output_type": "stream",
     "text": [
      "INFO:tensorflow:Assets written to: ./checkpoints/V4.1.0\\FOLD-6\\assets\n"
     ]
    },
    {
     "name": "stdout",
     "output_type": "stream",
     "text": [
      "210/210 [==============================] - 222s 1s/step - loss: 1.0944 - accuracy: 0.5839 - val_loss: 1.2396 - val_accuracy: 0.4542 - lr: 0.0020\n",
      "Epoch 3/45\n",
      "210/210 [==============================] - ETA: 0s - loss: 0.9304 - accuracy: 0.6298\n",
      "Epoch 3: val_loss improved from 1.23958 to 0.77612, saving model to ./checkpoints/V4.1.0\\FOLD-6\n",
      "INFO:tensorflow:Assets written to: ./checkpoints/V4.1.0\\FOLD-6\\assets\n"
     ]
    },
    {
     "name": "stderr",
     "output_type": "stream",
     "text": [
      "INFO:tensorflow:Assets written to: ./checkpoints/V4.1.0\\FOLD-6\\assets\n"
     ]
    },
    {
     "name": "stdout",
     "output_type": "stream",
     "text": [
      "210/210 [==============================] - 201s 957ms/step - loss: 0.9304 - accuracy: 0.6298 - val_loss: 0.7761 - val_accuracy: 0.6500 - lr: 0.0020\n",
      "Epoch 4/45\n",
      "210/210 [==============================] - ETA: 0s - loss: 0.9841 - accuracy: 0.5708\n",
      "Epoch 4: val_loss did not improve from 0.77612\n",
      "210/210 [==============================] - 193s 918ms/step - loss: 0.9841 - accuracy: 0.5708 - val_loss: 1.1878 - val_accuracy: 0.5792 - lr: 0.0020\n",
      "Epoch 5/45\n",
      "210/210 [==============================] - ETA: 0s - loss: 0.9527 - accuracy: 0.6244\n",
      "Epoch 5: val_loss did not improve from 0.77612\n",
      "210/210 [==============================] - 192s 914ms/step - loss: 0.9527 - accuracy: 0.6244 - val_loss: 0.9364 - val_accuracy: 0.6875 - lr: 0.0020\n",
      "Epoch 6/45\n",
      "210/210 [==============================] - ETA: 0s - loss: 0.9527 - accuracy: 0.6077\n",
      "Epoch 6: val_loss did not improve from 0.77612\n",
      "210/210 [==============================] - 191s 911ms/step - loss: 0.9527 - accuracy: 0.6077 - val_loss: 0.8767 - val_accuracy: 0.6292 - lr: 0.0020\n",
      "Epoch 7/45\n",
      "210/210 [==============================] - ETA: 0s - loss: 0.9785 - accuracy: 0.6173\n",
      "Epoch 7: val_loss improved from 0.77612 to 0.73950, saving model to ./checkpoints/V4.1.0\\FOLD-6\n",
      "INFO:tensorflow:Assets written to: ./checkpoints/V4.1.0\\FOLD-6\\assets\n"
     ]
    },
    {
     "name": "stderr",
     "output_type": "stream",
     "text": [
      "INFO:tensorflow:Assets written to: ./checkpoints/V4.1.0\\FOLD-6\\assets\n"
     ]
    },
    {
     "name": "stdout",
     "output_type": "stream",
     "text": [
      "210/210 [==============================] - 198s 944ms/step - loss: 0.9785 - accuracy: 0.6173 - val_loss: 0.7395 - val_accuracy: 0.7125 - lr: 0.0020\n",
      "Epoch 8/45\n",
      "210/210 [==============================] - ETA: 0s - loss: 0.9358 - accuracy: 0.6238\n",
      "Epoch 8: val_loss did not improve from 0.73950\n",
      "210/210 [==============================] - 191s 912ms/step - loss: 0.9358 - accuracy: 0.6238 - val_loss: 1.0110 - val_accuracy: 0.5500 - lr: 0.0020\n",
      "Epoch 9/45\n",
      "210/210 [==============================] - ETA: 0s - loss: 0.8496 - accuracy: 0.6613\n",
      "Epoch 9: val_loss did not improve from 0.73950\n",
      "210/210 [==============================] - 191s 912ms/step - loss: 0.8496 - accuracy: 0.6613 - val_loss: 0.8237 - val_accuracy: 0.6833 - lr: 0.0020\n",
      "Epoch 10/45\n",
      "210/210 [==============================] - ETA: 0s - loss: 0.9011 - accuracy: 0.6417\n",
      "Epoch 10: val_loss did not improve from 0.73950\n",
      "210/210 [==============================] - 191s 911ms/step - loss: 0.9011 - accuracy: 0.6417 - val_loss: 1.5236 - val_accuracy: 0.5292 - lr: 0.0020\n",
      "Epoch 11/45\n",
      "210/210 [==============================] - ETA: 0s - loss: 0.7367 - accuracy: 0.6857\n",
      "Epoch 11: val_loss improved from 0.73950 to 0.71997, saving model to ./checkpoints/V4.1.0\\FOLD-6\n",
      "INFO:tensorflow:Assets written to: ./checkpoints/V4.1.0\\FOLD-6\\assets\n"
     ]
    },
    {
     "name": "stderr",
     "output_type": "stream",
     "text": [
      "INFO:tensorflow:Assets written to: ./checkpoints/V4.1.0\\FOLD-6\\assets\n"
     ]
    },
    {
     "name": "stdout",
     "output_type": "stream",
     "text": [
      "210/210 [==============================] - 199s 949ms/step - loss: 0.7367 - accuracy: 0.6857 - val_loss: 0.7200 - val_accuracy: 0.7542 - lr: 0.0020\n",
      "Epoch 12/45\n",
      "210/210 [==============================] - ETA: 0s - loss: 0.8468 - accuracy: 0.6476\n",
      "Epoch 12: val_loss did not improve from 0.71997\n",
      "210/210 [==============================] - 193s 917ms/step - loss: 0.8468 - accuracy: 0.6476 - val_loss: 2.5541 - val_accuracy: 0.4292 - lr: 0.0020\n",
      "Epoch 13/45\n",
      "210/210 [==============================] - ETA: 0s - loss: 0.7627 - accuracy: 0.6946\n",
      "Epoch 13: val_loss did not improve from 0.71997\n",
      "210/210 [==============================] - 191s 908ms/step - loss: 0.7627 - accuracy: 0.6946 - val_loss: 0.7762 - val_accuracy: 0.7833 - lr: 0.0020\n",
      "Epoch 14/45\n",
      "210/210 [==============================] - ETA: 0s - loss: 0.6604 - accuracy: 0.7274\n",
      "Epoch 14: val_loss improved from 0.71997 to 0.70189, saving model to ./checkpoints/V4.1.0\\FOLD-6\n",
      "INFO:tensorflow:Assets written to: ./checkpoints/V4.1.0\\FOLD-6\\assets\n"
     ]
    },
    {
     "name": "stderr",
     "output_type": "stream",
     "text": [
      "INFO:tensorflow:Assets written to: ./checkpoints/V4.1.0\\FOLD-6\\assets\n"
     ]
    },
    {
     "name": "stdout",
     "output_type": "stream",
     "text": [
      "210/210 [==============================] - 198s 943ms/step - loss: 0.6604 - accuracy: 0.7274 - val_loss: 0.7019 - val_accuracy: 0.6708 - lr: 0.0020\n",
      "Epoch 15/45\n",
      "210/210 [==============================] - ETA: 0s - loss: 0.7000 - accuracy: 0.7095\n",
      "Epoch 15: val_loss did not improve from 0.70189\n",
      "210/210 [==============================] - 191s 910ms/step - loss: 0.7000 - accuracy: 0.7095 - val_loss: 1.3349 - val_accuracy: 0.5125 - lr: 0.0020\n",
      "Epoch 16/45\n",
      "210/210 [==============================] - ETA: 0s - loss: 0.6838 - accuracy: 0.7190\n",
      "Epoch 16: val_loss did not improve from 0.70189\n",
      "210/210 [==============================] - 192s 912ms/step - loss: 0.6838 - accuracy: 0.7190 - val_loss: 1.8749 - val_accuracy: 0.3917 - lr: 0.0020\n",
      "Epoch 17/45\n",
      "210/210 [==============================] - ETA: 0s - loss: 0.5867 - accuracy: 0.7506\n",
      "Epoch 17: val_loss did not improve from 0.70189\n",
      "210/210 [==============================] - 192s 914ms/step - loss: 0.5867 - accuracy: 0.7506 - val_loss: 0.9039 - val_accuracy: 0.7083 - lr: 0.0020\n",
      "Epoch 18/45\n",
      "210/210 [==============================] - ETA: 0s - loss: 0.5964 - accuracy: 0.7589\n",
      "Epoch 18: val_loss did not improve from 0.70189\n",
      "210/210 [==============================] - 191s 908ms/step - loss: 0.5964 - accuracy: 0.7589 - val_loss: 1.4088 - val_accuracy: 0.4833 - lr: 0.0020\n",
      "Epoch 19/45\n",
      "210/210 [==============================] - ETA: 0s - loss: 0.6010 - accuracy: 0.7530\n",
      "Epoch 19: val_loss did not improve from 0.70189\n",
      "210/210 [==============================] - 191s 909ms/step - loss: 0.6010 - accuracy: 0.7530 - val_loss: 2.1639 - val_accuracy: 0.4083 - lr: 0.0020\n",
      "Epoch 20/45\n",
      "210/210 [==============================] - ETA: 0s - loss: 0.6355 - accuracy: 0.7548\n",
      "Epoch 20: val_loss did not improve from 0.70189\n",
      "210/210 [==============================] - 192s 913ms/step - loss: 0.6355 - accuracy: 0.7548 - val_loss: 0.8323 - val_accuracy: 0.6375 - lr: 0.0020\n",
      "Epoch 21/45\n",
      "210/210 [==============================] - ETA: 0s - loss: 0.5735 - accuracy: 0.7833\n",
      "Epoch 21: val_loss did not improve from 0.70189\n",
      "210/210 [==============================] - 191s 912ms/step - loss: 0.5735 - accuracy: 0.7833 - val_loss: 0.9249 - val_accuracy: 0.6458 - lr: 0.0020\n",
      "Epoch 22/45\n",
      "210/210 [==============================] - ETA: 0s - loss: 0.5673 - accuracy: 0.7774\n",
      "Epoch 22: val_loss did not improve from 0.70189\n",
      "210/210 [==============================] - 191s 912ms/step - loss: 0.5673 - accuracy: 0.7774 - val_loss: 0.8543 - val_accuracy: 0.7458 - lr: 0.0020\n",
      "Epoch 23/45\n",
      "210/210 [==============================] - ETA: 0s - loss: 0.5618 - accuracy: 0.7833\n",
      "Epoch 23: val_loss improved from 0.70189 to 0.57281, saving model to ./checkpoints/V4.1.0\\FOLD-6\n",
      "INFO:tensorflow:Assets written to: ./checkpoints/V4.1.0\\FOLD-6\\assets\n"
     ]
    },
    {
     "name": "stderr",
     "output_type": "stream",
     "text": [
      "INFO:tensorflow:Assets written to: ./checkpoints/V4.1.0\\FOLD-6\\assets\n"
     ]
    },
    {
     "name": "stdout",
     "output_type": "stream",
     "text": [
      "210/210 [==============================] - 199s 948ms/step - loss: 0.5618 - accuracy: 0.7833 - val_loss: 0.5728 - val_accuracy: 0.7833 - lr: 0.0020\n",
      "Epoch 24/45\n",
      "210/210 [==============================] - ETA: 0s - loss: 0.5363 - accuracy: 0.7893\n",
      "Epoch 24: val_loss did not improve from 0.57281\n",
      "210/210 [==============================] - 192s 914ms/step - loss: 0.5363 - accuracy: 0.7893 - val_loss: 0.6543 - val_accuracy: 0.7792 - lr: 0.0020\n",
      "Epoch 25/45\n",
      "210/210 [==============================] - ETA: 0s - loss: 0.4893 - accuracy: 0.8030\n",
      "Epoch 25: val_loss did not improve from 0.57281\n",
      "210/210 [==============================] - 191s 911ms/step - loss: 0.4893 - accuracy: 0.8030 - val_loss: 2.0983 - val_accuracy: 0.4208 - lr: 0.0020\n",
      "Epoch 26/45\n",
      "210/210 [==============================] - ETA: 0s - loss: 0.4936 - accuracy: 0.7988\n",
      "Epoch 26: val_loss did not improve from 0.57281\n",
      "210/210 [==============================] - 192s 913ms/step - loss: 0.4936 - accuracy: 0.7988 - val_loss: 1.2939 - val_accuracy: 0.4583 - lr: 0.0020\n",
      "Epoch 27/45\n",
      "210/210 [==============================] - ETA: 0s - loss: 0.4574 - accuracy: 0.8315\n",
      "Epoch 27: val_loss did not improve from 0.57281\n",
      "210/210 [==============================] - 188s 895ms/step - loss: 0.4574 - accuracy: 0.8315 - val_loss: 0.8072 - val_accuracy: 0.6750 - lr: 0.0020\n",
      "Epoch 28/45\n",
      "210/210 [==============================] - ETA: 0s - loss: 0.4978 - accuracy: 0.8083\n",
      "Epoch 28: val_loss improved from 0.57281 to 0.43048, saving model to ./checkpoints/V4.1.0\\FOLD-6\n",
      "INFO:tensorflow:Assets written to: ./checkpoints/V4.1.0\\FOLD-6\\assets\n"
     ]
    },
    {
     "name": "stderr",
     "output_type": "stream",
     "text": [
      "INFO:tensorflow:Assets written to: ./checkpoints/V4.1.0\\FOLD-6\\assets\n"
     ]
    },
    {
     "name": "stdout",
     "output_type": "stream",
     "text": [
      "210/210 [==============================] - 187s 892ms/step - loss: 0.4978 - accuracy: 0.8083 - val_loss: 0.4305 - val_accuracy: 0.8750 - lr: 0.0020\n",
      "Epoch 29/45\n",
      "210/210 [==============================] - ETA: 0s - loss: 0.4217 - accuracy: 0.8411\n",
      "Epoch 29: val_loss did not improve from 0.43048\n",
      "210/210 [==============================] - 180s 858ms/step - loss: 0.4217 - accuracy: 0.8411 - val_loss: 0.5173 - val_accuracy: 0.8083 - lr: 0.0020\n",
      "Epoch 30/45\n",
      "210/210 [==============================] - ETA: 0s - loss: 0.4721 - accuracy: 0.8292\n",
      "Epoch 30: val_loss did not improve from 0.43048\n",
      "210/210 [==============================] - 180s 858ms/step - loss: 0.4721 - accuracy: 0.8292 - val_loss: 2.5440 - val_accuracy: 0.3292 - lr: 0.0020\n",
      "Epoch 31/45\n",
      "210/210 [==============================] - ETA: 0s - loss: 0.4268 - accuracy: 0.8405\n",
      "Epoch 31: val_loss did not improve from 0.43048\n",
      "210/210 [==============================] - 180s 859ms/step - loss: 0.4268 - accuracy: 0.8405 - val_loss: 0.4569 - val_accuracy: 0.8250 - lr: 0.0020\n",
      "Epoch 32/45\n",
      "210/210 [==============================] - ETA: 0s - loss: 0.4013 - accuracy: 0.8548\n",
      "Epoch 32: val_loss did not improve from 0.43048\n",
      "210/210 [==============================] - 181s 864ms/step - loss: 0.4013 - accuracy: 0.8548 - val_loss: 1.2678 - val_accuracy: 0.5625 - lr: 0.0020\n",
      "Epoch 33/45\n",
      "210/210 [==============================] - ETA: 0s - loss: 0.4867 - accuracy: 0.8244\n",
      "Epoch 33: val_loss did not improve from 0.43048\n",
      "210/210 [==============================] - 180s 859ms/step - loss: 0.4867 - accuracy: 0.8244 - val_loss: 5.6772 - val_accuracy: 0.3458 - lr: 0.0020\n",
      "Epoch 34/45\n",
      "210/210 [==============================] - ETA: 0s - loss: 0.4155 - accuracy: 0.8405\n",
      "Epoch 34: val_loss improved from 0.43048 to 0.37385, saving model to ./checkpoints/V4.1.0\\FOLD-6\n",
      "INFO:tensorflow:Assets written to: ./checkpoints/V4.1.0\\FOLD-6\\assets\n"
     ]
    },
    {
     "name": "stderr",
     "output_type": "stream",
     "text": [
      "INFO:tensorflow:Assets written to: ./checkpoints/V4.1.0\\FOLD-6\\assets\n"
     ]
    },
    {
     "name": "stdout",
     "output_type": "stream",
     "text": [
      "210/210 [==============================] - 187s 891ms/step - loss: 0.4155 - accuracy: 0.8405 - val_loss: 0.3738 - val_accuracy: 0.8542 - lr: 0.0020\n",
      "Epoch 35/45\n",
      "210/210 [==============================] - ETA: 0s - loss: 0.3865 - accuracy: 0.8571\n",
      "Epoch 35: val_loss did not improve from 0.37385\n",
      "210/210 [==============================] - 180s 855ms/step - loss: 0.3865 - accuracy: 0.8571 - val_loss: 0.4904 - val_accuracy: 0.8792 - lr: 0.0020\n",
      "Epoch 36/45\n",
      "210/210 [==============================] - ETA: 0s - loss: 0.4255 - accuracy: 0.8458\n",
      "Epoch 36: val_loss did not improve from 0.37385\n",
      "210/210 [==============================] - 181s 862ms/step - loss: 0.4255 - accuracy: 0.8458 - val_loss: 0.6664 - val_accuracy: 0.7708 - lr: 0.0020\n",
      "Epoch 37/45\n",
      "210/210 [==============================] - ETA: 0s - loss: 0.3968 - accuracy: 0.8571\n",
      "Epoch 37: val_loss did not improve from 0.37385\n",
      "210/210 [==============================] - 180s 859ms/step - loss: 0.3968 - accuracy: 0.8571 - val_loss: 0.4944 - val_accuracy: 0.7833 - lr: 0.0020\n",
      "Epoch 38/45\n",
      "210/210 [==============================] - ETA: 0s - loss: 0.3741 - accuracy: 0.8607\n",
      "Epoch 38: val_loss did not improve from 0.37385\n",
      "210/210 [==============================] - 181s 861ms/step - loss: 0.3741 - accuracy: 0.8607 - val_loss: 0.9297 - val_accuracy: 0.6750 - lr: 0.0020\n",
      "Epoch 39/45\n",
      "210/210 [==============================] - ETA: 0s - loss: 0.3736 - accuracy: 0.8565\n",
      "Epoch 39: val_loss did not improve from 0.37385\n",
      "210/210 [==============================] - 180s 858ms/step - loss: 0.3736 - accuracy: 0.8565 - val_loss: 0.3901 - val_accuracy: 0.8708 - lr: 0.0020\n",
      "Epoch 40/45\n",
      "210/210 [==============================] - ETA: 0s - loss: 0.3566 - accuracy: 0.8577\n",
      "Epoch 40: val_loss did not improve from 0.37385\n",
      "210/210 [==============================] - 181s 861ms/step - loss: 0.3566 - accuracy: 0.8577 - val_loss: 0.3815 - val_accuracy: 0.8750 - lr: 0.0020\n",
      "Epoch 41/45\n",
      "210/210 [==============================] - ETA: 0s - loss: 0.3610 - accuracy: 0.8643\n",
      "Epoch 41: val_loss did not improve from 0.37385\n",
      "210/210 [==============================] - 181s 861ms/step - loss: 0.3610 - accuracy: 0.8643 - val_loss: 0.5921 - val_accuracy: 0.7833 - lr: 0.0020\n",
      "Epoch 42/45\n",
      "210/210 [==============================] - ETA: 0s - loss: 0.3767 - accuracy: 0.8649\n",
      "Epoch 42: val_loss did not improve from 0.37385\n",
      "210/210 [==============================] - 181s 860ms/step - loss: 0.3767 - accuracy: 0.8649 - val_loss: 2.3115 - val_accuracy: 0.5583 - lr: 0.0020\n",
      "Epoch 43/45\n",
      "210/210 [==============================] - ETA: 0s - loss: 0.3374 - accuracy: 0.8714\n",
      "Epoch 43: val_loss did not improve from 0.37385\n",
      "210/210 [==============================] - 181s 860ms/step - loss: 0.3374 - accuracy: 0.8714 - val_loss: 0.6399 - val_accuracy: 0.7833 - lr: 0.0020\n",
      "Epoch 44/45\n",
      "210/210 [==============================] - ETA: 0s - loss: 0.3422 - accuracy: 0.8673\n",
      "Epoch 44: ReduceLROnPlateau reducing learning rate to 0.0012000000569969416.\n",
      "\n",
      "Epoch 44: val_loss did not improve from 0.37385\n",
      "210/210 [==============================] - 181s 860ms/step - loss: 0.3422 - accuracy: 0.8673 - val_loss: 0.5192 - val_accuracy: 0.7667 - lr: 0.0020\n",
      "Epoch 45/45\n",
      "210/210 [==============================] - ETA: 0s - loss: 0.2772 - accuracy: 0.9012\n",
      "Epoch 45: val_loss did not improve from 0.37385\n",
      "210/210 [==============================] - 181s 860ms/step - loss: 0.2772 - accuracy: 0.9012 - val_loss: 0.6568 - val_accuracy: 0.7625 - lr: 0.0012\n"
     ]
    },
    {
     "data": {
      "image/png": "[encoded data removed]",
      "text/plain": [
       "<Figure size 300x200 with 1 Axes>"
      ]
     },
     "metadata": {},
     "output_type": "display_data"
    },
    {
     "data": {
      "image/png": "[encoded data removed]",
      "text/plain": [
       "<Figure size 300x200 with 1 Axes>"
      ]
     },
     "metadata": {},
     "output_type": "display_data"
    },
    {
     "name": "stdout",
     "output_type": "stream",
     "text": [
      "Fold Training Time: 2 hour(s) and 22 mins\n",
      "Precision: 86.60714030265808  -  Recall: 80.83333373069763\n",
      "Accuracy: 85.41666865348816\n",
      "F1Score: Building 75.9259262084961 | Plant 91.05691528320312 | Road 90.16393280029297 | Vehicle 83.46456146240234\n",
      "[neptune] [info   ] Shutting down background jobs, please wait a moment...\n",
      "[neptune] [info   ] Done!\n",
      "[neptune] [info   ] Neptune initialized. Open in the app: offline/3f95085b-6582-4544-b6a9-61c97322a4eb\n",
      "Epoch 1/45\n",
      "210/210 [==============================] - ETA: 0s - loss: 15.2720 - accuracy: 0.4881\n",
      "Epoch 1: val_loss improved from inf to 3.86928, saving model to ./checkpoints/V4.1.0\\FOLD-7\n",
      "INFO:tensorflow:Assets written to: ./checkpoints/V4.1.0\\FOLD-7\\assets\n"
     ]
    },
    {
     "name": "stderr",
     "output_type": "stream",
     "text": [
      "INFO:tensorflow:Assets written to: ./checkpoints/V4.1.0\\FOLD-7\\assets\n"
     ]
    },
    {
     "name": "stdout",
     "output_type": "stream",
     "text": [
      "210/210 [==============================] - 214s 994ms/step - loss: 15.2720 - accuracy: 0.4881 - val_loss: 3.8693 - val_accuracy: 0.2500 - lr: 0.0020\n",
      "Epoch 2/45\n",
      "210/210 [==============================] - ETA: 0s - loss: 1.2251 - accuracy: 0.5804\n",
      "Epoch 2: val_loss improved from 3.86928 to 1.29288, saving model to ./checkpoints/V4.1.0\\FOLD-7\n",
      "INFO:tensorflow:Assets written to: ./checkpoints/V4.1.0\\FOLD-7\\assets\n"
     ]
    },
    {
     "name": "stderr",
     "output_type": "stream",
     "text": [
      "INFO:tensorflow:Assets written to: ./checkpoints/V4.1.0\\FOLD-7\\assets\n"
     ]
    },
    {
     "name": "stdout",
     "output_type": "stream",
     "text": [
      "210/210 [==============================] - 201s 960ms/step - loss: 1.2251 - accuracy: 0.5804 - val_loss: 1.2929 - val_accuracy: 0.4375 - lr: 0.0020\n",
      "Epoch 3/45\n",
      "210/210 [==============================] - ETA: 0s - loss: 0.8312 - accuracy: 0.6613\n",
      "Epoch 3: val_loss improved from 1.29288 to 0.73871, saving model to ./checkpoints/V4.1.0\\FOLD-7\n",
      "INFO:tensorflow:Assets written to: ./checkpoints/V4.1.0\\FOLD-7\\assets\n"
     ]
    },
    {
     "name": "stderr",
     "output_type": "stream",
     "text": [
      "INFO:tensorflow:Assets written to: ./checkpoints/V4.1.0\\FOLD-7\\assets\n"
     ]
    },
    {
     "name": "stdout",
     "output_type": "stream",
     "text": [
      "210/210 [==============================] - 201s 958ms/step - loss: 0.8312 - accuracy: 0.6613 - val_loss: 0.7387 - val_accuracy: 0.6958 - lr: 0.0020\n",
      "Epoch 4/45\n",
      "210/210 [==============================] - ETA: 0s - loss: 0.8102 - accuracy: 0.6637\n",
      "Epoch 4: val_loss improved from 0.73871 to 0.71964, saving model to ./checkpoints/V4.1.0\\FOLD-7\n",
      "INFO:tensorflow:Assets written to: ./checkpoints/V4.1.0\\FOLD-7\\assets\n"
     ]
    },
    {
     "name": "stderr",
     "output_type": "stream",
     "text": [
      "INFO:tensorflow:Assets written to: ./checkpoints/V4.1.0\\FOLD-7\\assets\n"
     ]
    },
    {
     "name": "stdout",
     "output_type": "stream",
     "text": [
      "210/210 [==============================] - 201s 955ms/step - loss: 0.8102 - accuracy: 0.6637 - val_loss: 0.7196 - val_accuracy: 0.6542 - lr: 0.0020\n",
      "Epoch 5/45\n",
      "210/210 [==============================] - ETA: 0s - loss: 0.7268 - accuracy: 0.6970\n",
      "Epoch 5: val_loss did not improve from 0.71964\n",
      "210/210 [==============================] - 193s 918ms/step - loss: 0.7268 - accuracy: 0.6970 - val_loss: 1.2231 - val_accuracy: 0.5125 - lr: 0.0020\n",
      "Epoch 6/45\n",
      "210/210 [==============================] - ETA: 0s - loss: 0.7049 - accuracy: 0.7274\n",
      "Epoch 6: val_loss did not improve from 0.71964\n",
      "210/210 [==============================] - 193s 920ms/step - loss: 0.7049 - accuracy: 0.7274 - val_loss: 0.8429 - val_accuracy: 0.6542 - lr: 0.0020\n",
      "Epoch 7/45\n",
      "210/210 [==============================] - ETA: 0s - loss: 0.6876 - accuracy: 0.7125\n",
      "Epoch 7: val_loss improved from 0.71964 to 0.58400, saving model to ./checkpoints/V4.1.0\\FOLD-7\n",
      "INFO:tensorflow:Assets written to: ./checkpoints/V4.1.0\\FOLD-7\\assets\n"
     ]
    },
    {
     "name": "stderr",
     "output_type": "stream",
     "text": [
      "INFO:tensorflow:Assets written to: ./checkpoints/V4.1.0\\FOLD-7\\assets\n"
     ]
    },
    {
     "name": "stdout",
     "output_type": "stream",
     "text": [
      "210/210 [==============================] - 200s 951ms/step - loss: 0.6876 - accuracy: 0.7125 - val_loss: 0.5840 - val_accuracy: 0.7292 - lr: 0.0020\n",
      "Epoch 8/45\n",
      "210/210 [==============================] - ETA: 0s - loss: 0.6167 - accuracy: 0.7518\n",
      "Epoch 8: val_loss did not improve from 0.58400\n",
      "210/210 [==============================] - 194s 922ms/step - loss: 0.6167 - accuracy: 0.7518 - val_loss: 1.0438 - val_accuracy: 0.5917 - lr: 0.0020\n",
      "Epoch 9/45\n",
      "210/210 [==============================] - ETA: 0s - loss: 0.6136 - accuracy: 0.7565\n",
      "Epoch 9: val_loss did not improve from 0.58400\n",
      "210/210 [==============================] - 193s 917ms/step - loss: 0.6136 - accuracy: 0.7565 - val_loss: 0.7546 - val_accuracy: 0.6500 - lr: 0.0020\n",
      "Epoch 10/45\n",
      "210/210 [==============================] - ETA: 0s - loss: 0.5403 - accuracy: 0.7786\n",
      "Epoch 10: val_loss did not improve from 0.58400\n",
      "210/210 [==============================] - 193s 920ms/step - loss: 0.5403 - accuracy: 0.7786 - val_loss: 1.5463 - val_accuracy: 0.4833 - lr: 0.0020\n",
      "Epoch 11/45\n",
      "210/210 [==============================] - ETA: 0s - loss: 0.5478 - accuracy: 0.7827\n",
      "Epoch 11: val_loss did not improve from 0.58400\n",
      "210/210 [==============================] - 193s 921ms/step - loss: 0.5478 - accuracy: 0.7827 - val_loss: 0.9220 - val_accuracy: 0.6167 - lr: 0.0020\n",
      "Epoch 12/45\n",
      "210/210 [==============================] - ETA: 0s - loss: 0.5192 - accuracy: 0.7899\n",
      "Epoch 12: val_loss did not improve from 0.58400\n",
      "210/210 [==============================] - 193s 918ms/step - loss: 0.5192 - accuracy: 0.7899 - val_loss: 1.5389 - val_accuracy: 0.5375 - lr: 0.0020\n",
      "Epoch 13/45\n",
      "210/210 [==============================] - ETA: 0s - loss: 0.5742 - accuracy: 0.7935\n",
      "Epoch 13: val_loss did not improve from 0.58400\n",
      "210/210 [==============================] - 194s 923ms/step - loss: 0.5742 - accuracy: 0.7935 - val_loss: 0.8051 - val_accuracy: 0.6750 - lr: 0.0020\n",
      "Epoch 14/45\n",
      "210/210 [==============================] - ETA: 0s - loss: 0.4840 - accuracy: 0.8089\n",
      "Epoch 14: val_loss did not improve from 0.58400\n",
      "210/210 [==============================] - 193s 918ms/step - loss: 0.4840 - accuracy: 0.8089 - val_loss: 0.6154 - val_accuracy: 0.7750 - lr: 0.0020\n",
      "Epoch 15/45\n",
      "210/210 [==============================] - ETA: 0s - loss: 0.5037 - accuracy: 0.8113\n",
      "Epoch 15: val_loss did not improve from 0.58400\n",
      "210/210 [==============================] - 193s 921ms/step - loss: 0.5037 - accuracy: 0.8113 - val_loss: 1.2818 - val_accuracy: 0.4542 - lr: 0.0020\n",
      "Epoch 16/45\n",
      "210/210 [==============================] - ETA: 0s - loss: 0.4908 - accuracy: 0.8143\n",
      "Epoch 16: val_loss improved from 0.58400 to 0.52529, saving model to ./checkpoints/V4.1.0\\FOLD-7\n",
      "INFO:tensorflow:Assets written to: ./checkpoints/V4.1.0\\FOLD-7\\assets\n"
     ]
    },
    {
     "name": "stderr",
     "output_type": "stream",
     "text": [
      "INFO:tensorflow:Assets written to: ./checkpoints/V4.1.0\\FOLD-7\\assets\n"
     ]
    },
    {
     "name": "stdout",
     "output_type": "stream",
     "text": [
      "210/210 [==============================] - 202s 960ms/step - loss: 0.4908 - accuracy: 0.8143 - val_loss: 0.5253 - val_accuracy: 0.8167 - lr: 0.0020\n",
      "Epoch 17/45\n",
      "210/210 [==============================] - ETA: 0s - loss: 0.4571 - accuracy: 0.8298\n",
      "Epoch 17: val_loss did not improve from 0.52529\n",
      "210/210 [==============================] - 193s 918ms/step - loss: 0.4571 - accuracy: 0.8298 - val_loss: 2.8921 - val_accuracy: 0.4583 - lr: 0.0020\n",
      "Epoch 18/45\n",
      "210/210 [==============================] - ETA: 0s - loss: 0.4423 - accuracy: 0.8339\n",
      "Epoch 18: val_loss did not improve from 0.52529\n",
      "210/210 [==============================] - 193s 918ms/step - loss: 0.4423 - accuracy: 0.8339 - val_loss: 0.7507 - val_accuracy: 0.7375 - lr: 0.0020\n",
      "Epoch 19/45\n",
      "210/210 [==============================] - ETA: 0s - loss: 0.4606 - accuracy: 0.8268\n",
      "Epoch 19: val_loss did not improve from 0.52529\n",
      "210/210 [==============================] - 194s 924ms/step - loss: 0.4606 - accuracy: 0.8268 - val_loss: 0.8839 - val_accuracy: 0.6125 - lr: 0.0020\n",
      "Epoch 20/45\n",
      "210/210 [==============================] - ETA: 0s - loss: 0.3879 - accuracy: 0.8518\n",
      "Epoch 20: val_loss did not improve from 0.52529\n",
      "210/210 [==============================] - 193s 919ms/step - loss: 0.3879 - accuracy: 0.8518 - val_loss: 2.8094 - val_accuracy: 0.3583 - lr: 0.0020\n",
      "Epoch 21/45\n",
      "210/210 [==============================] - ETA: 0s - loss: 0.4135 - accuracy: 0.8399\n",
      "Epoch 21: val_loss did not improve from 0.52529\n",
      "210/210 [==============================] - 193s 918ms/step - loss: 0.4135 - accuracy: 0.8399 - val_loss: 4.6515 - val_accuracy: 0.2625 - lr: 0.0020\n",
      "Epoch 22/45\n",
      "210/210 [==============================] - ETA: 0s - loss: 0.4274 - accuracy: 0.8387\n",
      "Epoch 22: val_loss did not improve from 0.52529\n",
      "210/210 [==============================] - 193s 920ms/step - loss: 0.4274 - accuracy: 0.8387 - val_loss: 0.6210 - val_accuracy: 0.7750 - lr: 0.0020\n",
      "Epoch 23/45\n",
      "210/210 [==============================] - ETA: 0s - loss: 0.4481 - accuracy: 0.8440\n",
      "Epoch 23: val_loss did not improve from 0.52529\n",
      "210/210 [==============================] - 194s 924ms/step - loss: 0.4481 - accuracy: 0.8440 - val_loss: 1.3707 - val_accuracy: 0.5458 - lr: 0.0020\n",
      "Epoch 24/45\n",
      "210/210 [==============================] - ETA: 0s - loss: 0.3786 - accuracy: 0.8595\n",
      "Epoch 24: val_loss did not improve from 0.52529\n",
      "210/210 [==============================] - 193s 920ms/step - loss: 0.3786 - accuracy: 0.8595 - val_loss: 0.6227 - val_accuracy: 0.7417 - lr: 0.0020\n",
      "Epoch 25/45\n",
      "210/210 [==============================] - ETA: 0s - loss: 0.4336 - accuracy: 0.8423\n",
      "Epoch 25: val_loss did not improve from 0.52529\n",
      "210/210 [==============================] - 193s 921ms/step - loss: 0.4336 - accuracy: 0.8423 - val_loss: 4.2349 - val_accuracy: 0.2750 - lr: 0.0020\n",
      "Epoch 26/45\n",
      "210/210 [==============================] - ETA: 0s - loss: 0.3896 - accuracy: 0.8607\n",
      "Epoch 26: ReduceLROnPlateau reducing learning rate to 0.0012000000569969416.\n",
      "\n",
      "Epoch 26: val_loss did not improve from 0.52529\n",
      "210/210 [==============================] - 194s 922ms/step - loss: 0.3896 - accuracy: 0.8607 - val_loss: 1.0787 - val_accuracy: 0.6125 - lr: 0.0020\n",
      "Epoch 27/45\n",
      "210/210 [==============================] - ETA: 0s - loss: 0.3110 - accuracy: 0.8839\n",
      "Epoch 27: val_loss improved from 0.52529 to 0.32386, saving model to ./checkpoints/V4.1.0\\FOLD-7\n",
      "INFO:tensorflow:Assets written to: ./checkpoints/V4.1.0\\FOLD-7\\assets\n"
     ]
    },
    {
     "name": "stderr",
     "output_type": "stream",
     "text": [
      "INFO:tensorflow:Assets written to: ./checkpoints/V4.1.0\\FOLD-7\\assets\n"
     ]
    },
    {
     "name": "stdout",
     "output_type": "stream",
     "text": [
      "210/210 [==============================] - 200s 951ms/step - loss: 0.3110 - accuracy: 0.8839 - val_loss: 0.3239 - val_accuracy: 0.8750 - lr: 0.0012\n",
      "Epoch 28/45\n",
      "210/210 [==============================] - ETA: 0s - loss: 0.3086 - accuracy: 0.8923\n",
      "Epoch 28: val_loss did not improve from 0.32386\n",
      "210/210 [==============================] - 194s 922ms/step - loss: 0.3086 - accuracy: 0.8923 - val_loss: 0.4437 - val_accuracy: 0.8250 - lr: 0.0012\n",
      "Epoch 29/45\n",
      "210/210 [==============================] - ETA: 0s - loss: 0.2712 - accuracy: 0.8899\n",
      "Epoch 29: val_loss did not improve from 0.32386\n",
      "210/210 [==============================] - 194s 923ms/step - loss: 0.2712 - accuracy: 0.8899 - val_loss: 0.9101 - val_accuracy: 0.6792 - lr: 0.0012\n",
      "Epoch 30/45\n",
      "210/210 [==============================] - ETA: 0s - loss: 0.2573 - accuracy: 0.9018\n",
      "Epoch 30: val_loss did not improve from 0.32386\n",
      "210/210 [==============================] - 193s 919ms/step - loss: 0.2573 - accuracy: 0.9018 - val_loss: 1.2231 - val_accuracy: 0.6625 - lr: 0.0012\n",
      "Epoch 31/45\n",
      "210/210 [==============================] - ETA: 0s - loss: 0.2457 - accuracy: 0.9089\n",
      "Epoch 31: val_loss did not improve from 0.32386\n",
      "210/210 [==============================] - 194s 922ms/step - loss: 0.2457 - accuracy: 0.9089 - val_loss: 0.5656 - val_accuracy: 0.8375 - lr: 0.0012\n",
      "Epoch 32/45\n",
      "210/210 [==============================] - ETA: 0s - loss: 0.2679 - accuracy: 0.9024\n",
      "Epoch 32: val_loss did not improve from 0.32386\n",
      "210/210 [==============================] - 193s 919ms/step - loss: 0.2679 - accuracy: 0.9024 - val_loss: 0.6711 - val_accuracy: 0.7833 - lr: 0.0012\n",
      "Epoch 33/45\n",
      "210/210 [==============================] - ETA: 0s - loss: 0.3136 - accuracy: 0.8851\n",
      "Epoch 33: val_loss did not improve from 0.32386\n",
      "210/210 [==============================] - 193s 919ms/step - loss: 0.3136 - accuracy: 0.8851 - val_loss: 0.8228 - val_accuracy: 0.7333 - lr: 0.0012\n",
      "Epoch 34/45\n",
      "210/210 [==============================] - ETA: 0s - loss: 0.2852 - accuracy: 0.9036\n",
      "Epoch 34: val_loss did not improve from 0.32386\n",
      "210/210 [==============================] - 193s 922ms/step - loss: 0.2852 - accuracy: 0.9036 - val_loss: 1.4838 - val_accuracy: 0.5958 - lr: 0.0012\n",
      "Epoch 35/45\n",
      "210/210 [==============================] - ETA: 0s - loss: 0.2432 - accuracy: 0.9119\n",
      "Epoch 35: val_loss did not improve from 0.32386\n",
      "210/210 [==============================] - 193s 920ms/step - loss: 0.2432 - accuracy: 0.9119 - val_loss: 2.2377 - val_accuracy: 0.5083 - lr: 0.0012\n",
      "Epoch 36/45\n",
      "210/210 [==============================] - ETA: 0s - loss: 0.2297 - accuracy: 0.9083\n",
      "Epoch 36: val_loss did not improve from 0.32386\n",
      "210/210 [==============================] - 193s 919ms/step - loss: 0.2297 - accuracy: 0.9083 - val_loss: 0.6519 - val_accuracy: 0.8167 - lr: 0.0012\n",
      "Epoch 37/45\n",
      "210/210 [==============================] - ETA: 0s - loss: 0.2537 - accuracy: 0.9077\n",
      "Epoch 37: ReduceLROnPlateau reducing learning rate to 0.000720000034198165.\n",
      "\n",
      "Epoch 37: val_loss did not improve from 0.32386\n",
      "210/210 [==============================] - 193s 920ms/step - loss: 0.2537 - accuracy: 0.9077 - val_loss: 0.4078 - val_accuracy: 0.8542 - lr: 0.0012\n",
      "Epoch 38/45\n",
      "210/210 [==============================] - ETA: 0s - loss: 0.2150 - accuracy: 0.9185\n",
      "Epoch 38: val_loss did not improve from 0.32386\n",
      "210/210 [==============================] - 193s 918ms/step - loss: 0.2150 - accuracy: 0.9185 - val_loss: 0.4822 - val_accuracy: 0.8375 - lr: 7.2000e-04\n",
      "Epoch 39/45\n",
      "210/210 [==============================] - ETA: 0s - loss: 0.2154 - accuracy: 0.9214\n",
      "Epoch 39: val_loss did not improve from 0.32386\n",
      "210/210 [==============================] - 193s 920ms/step - loss: 0.2154 - accuracy: 0.9214 - val_loss: 0.4654 - val_accuracy: 0.8500 - lr: 7.2000e-04\n",
      "Epoch 40/45\n",
      "210/210 [==============================] - ETA: 0s - loss: 0.1801 - accuracy: 0.9298\n",
      "Epoch 40: val_loss did not improve from 0.32386\n",
      "210/210 [==============================] - 193s 920ms/step - loss: 0.1801 - accuracy: 0.9298 - val_loss: 0.3833 - val_accuracy: 0.8958 - lr: 7.2000e-04\n",
      "Epoch 41/45\n",
      "210/210 [==============================] - ETA: 0s - loss: 0.1860 - accuracy: 0.9345\n",
      "Epoch 41: val_loss did not improve from 0.32386\n",
      "210/210 [==============================] - 194s 923ms/step - loss: 0.1860 - accuracy: 0.9345 - val_loss: 0.9372 - val_accuracy: 0.7417 - lr: 7.2000e-04\n",
      "Epoch 42/45\n",
      "210/210 [==============================] - ETA: 0s - loss: 0.1890 - accuracy: 0.9250\n",
      "Epoch 42: val_loss did not improve from 0.32386\n",
      "210/210 [==============================] - 194s 923ms/step - loss: 0.1890 - accuracy: 0.9250 - val_loss: 0.5650 - val_accuracy: 0.8417 - lr: 7.2000e-04\n",
      "Epoch 43/45\n",
      "210/210 [==============================] - ETA: 0s - loss: 0.1775 - accuracy: 0.9339\n",
      "Epoch 43: val_loss did not improve from 0.32386\n",
      "210/210 [==============================] - 193s 919ms/step - loss: 0.1775 - accuracy: 0.9339 - val_loss: 0.8079 - val_accuracy: 0.7500 - lr: 7.2000e-04\n",
      "Epoch 44/45\n",
      "210/210 [==============================] - ETA: 0s - loss: 0.1716 - accuracy: 0.9387\n",
      "Epoch 44: val_loss did not improve from 0.32386\n",
      "210/210 [==============================] - 194s 926ms/step - loss: 0.1716 - accuracy: 0.9387 - val_loss: 0.3611 - val_accuracy: 0.8833 - lr: 7.2000e-04\n",
      "Epoch 45/45\n",
      "210/210 [==============================] - ETA: 0s - loss: 0.1633 - accuracy: 0.9381\n",
      "Epoch 45: val_loss did not improve from 0.32386\n",
      "210/210 [==============================] - 193s 917ms/step - loss: 0.1633 - accuracy: 0.9381 - val_loss: 0.7890 - val_accuracy: 0.7875 - lr: 7.2000e-04\n"
     ]
    },
    {
     "data": {
      "image/png": "[encoded data removed]",
      "text/plain": [
       "<Figure size 300x200 with 1 Axes>"
      ]
     },
     "metadata": {},
     "output_type": "display_data"
    },
    {
     "data": {
      "image/png": "[encoded data removed]",
      "text/plain": [
       "<Figure size 300x200 with 1 Axes>"
      ]
     },
     "metadata": {},
     "output_type": "display_data"
    },
    {
     "name": "stdout",
     "output_type": "stream",
     "text": [
      "Fold Training Time: 2 hour(s) and 26 mins\n",
      "Precision: 89.42731022834778  -  Recall: 84.58333611488342\n",
      "Accuracy: 87.5\n",
      "F1Score: Building 78.4313735961914 | Plant 93.65079498291016 | Road 93.33333587646484 | Vehicle 83.33332824707031\n",
      "[neptune] [info   ] Shutting down background jobs, please wait a moment...\n",
      "[neptune] [info   ] Done!\n",
      "Total Training Time: 19 hour(s) and 29 mins\n"
     ]
    }
   ],
   "source": [
    "# ============================\n",
    "# Log performance of each fold\n",
    "# ============================\n",
    "\n",
    "precisions = []\n",
    "recalls = []\n",
    "accuracies = []\n",
    "f1_blds = []\n",
    "f1_plants = []\n",
    "f1_roads = []\n",
    "f1_vhcls = []\n",
    "\n",
    "counter = 0\n",
    "start = perf_counter()\n",
    "for train, test in kfold.split(train_x, train_y):\n",
    "    start_fold = perf_counter()\n",
    "\n",
    "    run = neptune.init_run(\n",
    "        name= f\"{model_name}-FOLD_{counter}\",\n",
    "        project=project_name,\n",
    "        mode=\"offline\"     # To prevent issue when internet sucks. Just manually sync it\n",
    "    )  # your credentials\n",
    "\n",
    "    run[\"parameters\"] = params\n",
    "    model = make_model(params)\n",
    "    cat_y = tf.keras.utils.to_categorical(train_y)\n",
    "    train_dataset = tf.data.Dataset.from_tensor_slices((train_x[train], cat_y[train]))\n",
    "    train_fold = train_dataset.shuffle(buffer_size=train_dataset.cardinality(), seed=1).batch(params['batch_size'])\n",
    "    \n",
    "    test_dataset = tf.data.Dataset.from_tensor_slices((train_x[test], cat_y[test]))\n",
    "    test_fold = test_dataset.shuffle(buffer_size=test_dataset.cardinality(), seed=1).batch(params['batch_size'])\n",
    "    \n",
    "    hist = model.fit(train_fold, \n",
    "                     validation_data=test_fold,\n",
    "                     batch_size=params['batch_size'],\n",
    "                     epochs=params['epochs'],\n",
    "                     verbose=1,\n",
    "                     callbacks=create_callbacks(counter))\n",
    "    end_fold = perf_counter()\n",
    "\n",
    "    # PLOTTING ==================================================\n",
    "    run[\"fig-train_loss\"].upload(plot_loss(hist))\n",
    "    run[\"fig-train_acc\"].upload(plot_acc(hist))\n",
    "    \n",
    "    # EVALUATING ==================================================\n",
    "    model = tf.keras.models.load_model(checkpoint_path + str(counter))\n",
    "    \n",
    "    pre = Precision()\n",
    "    rec = Recall()\n",
    "    c_acc = CategoricalAccuracy()\n",
    "    f1_score = F1Score()\n",
    "    for batch in test_fold.as_numpy_iterator():\n",
    "        X, y = batch\n",
    "        yhat = model.predict(X, verbose=0)\n",
    "        f1_score.update_state(y, yhat)\n",
    "        pre.update_state(y, yhat)\n",
    "        rec.update_state(y, yhat)\n",
    "        c_acc.update_state(y, yhat)\n",
    "        \n",
    "    precisions.append(pre.result().numpy() * 100)\n",
    "    recalls.append(rec.result().numpy() * 100)\n",
    "    accuracies.append(c_acc.result().numpy() * 100)\n",
    "    f1_s = f1_score.result().numpy() * 100\n",
    "    \n",
    "    f1_blds.append(f1_s[0])\n",
    "    f1_plants.append(f1_s[1])\n",
    "    f1_roads.append(f1_s[2])\n",
    "    f1_vhcls.append(f1_s[3])\n",
    "    \n",
    "    run[\"eval/ACC/\"] = accuracies[counter]\n",
    "    run[\"eval/REC/\"] = recalls[counter]\n",
    "    run[\"eval/PRE/\"] = precisions[counter]\n",
    "    run[\"eval/F1-Bld\"] = f1_blds[counter]\n",
    "    run[\"eval/F1-Plant\"] = f1_plants[counter]\n",
    "    run[\"eval/F1-Road\"] = f1_roads[counter]\n",
    "    run[\"eval/F1-Vhcl\"] = f1_vhcls[counter]\n",
    "    \n",
    "    # PRINTING RESULTS ===========================================\n",
    "    print(f'Fold Training Time: {math.floor((end_fold-start_fold)/3600) } hour(s) and {math.floor((end_fold-start_fold)/60)%60} mins')\n",
    "    print(f'Precision: {precisions[counter]}  -  Recall: {recalls[counter]}')\n",
    "    print(f'Accuracy: {accuracies[counter]}')\n",
    "    print(f'F1Score: Building {f1_blds[counter]} | Plant {f1_plants[counter]} | Road {f1_roads[counter]} | Vehicle {f1_vhcls[counter]}')\n",
    "    \n",
    "    run.stop()\n",
    "    \n",
    "    counter += 1\n",
    "\n",
    "end = perf_counter()\n",
    "\n",
    "print(f'Total Training Time: {math.floor((end-start)/3600) } hour(s) and {math.floor((end-start)/60)%60} mins')"
   ]
  },
  {
   "cell_type": "markdown",
   "id": "0cdcaea3-c498-44dd-be65-c899e9ba695c",
   "metadata": {},
   "source": [
    "# Get Average Performance of Model"
   ]
  },
  {
   "cell_type": "markdown",
   "id": "0e6a42b9-a558-4ea3-a099-c111c57b7ccf",
   "metadata": {},
   "source": [
    "## Save to Neptune AI"
   ]
  },
  {
   "cell_type": "code",
   "execution_count": 25,
   "id": "d13e1214-9537-4e9a-9e85-9b2f481506c3",
   "metadata": {},
   "outputs": [
    {
     "name": "stdout",
     "output_type": "stream",
     "text": [
      "[neptune] [info   ] Neptune initialized. Open in the app: offline/f06c2e08-2878-449a-b75e-32601752a39c\n",
      "[neptune] [info   ] Shutting down background jobs, please wait a moment...\n",
      "[neptune] [info   ] Done!\n"
     ]
    }
   ],
   "source": [
    "run = neptune.init_run(\n",
    "        name= f\"{model_name}-AVG\",\n",
    "        project=project_name,\n",
    "        mode='offline',\n",
    "        # api_token=api_token, # Api token is saved in user's environemnt variables\n",
    "    )  # your credentials\n",
    "\n",
    "run[\"eval/PRE/\"] = avg_rate(precisions)\n",
    "run[\"eval/REC/\"] = avg_rate(recalls)\n",
    "run[\"eval/ACC/\"] = avg_rate(accuracies)\n",
    "run[\"eval/F1-Bld\"] = avg_rate(f1_blds)\n",
    "run[\"eval/F1-Plant\"] = avg_rate(f1_plants)\n",
    "run[\"eval/F1-Road\"] = avg_rate(f1_roads)\n",
    "run[\"eval/F1-Vhcl\"] = avg_rate(f1_vhcls)\n",
    "\n",
    "run.stop()"
   ]
  },
  {
   "cell_type": "markdown",
   "id": "e69c613b-b1b9-4a1b-9ecf-969e62123fc9",
   "metadata": {},
   "source": [
    "## Save to Tensorboard"
   ]
  },
  {
   "cell_type": "code",
   "execution_count": 26,
   "id": "31ea4d93-bce3-4a78-a309-280b83d61676",
   "metadata": {},
   "outputs": [],
   "source": [
    "# Command to access TensorBoard HParams:\n",
    "\n",
    "# tensorboard --logdir PATH/logs/hparam_tuning\n",
    "with tf.summary.create_file_writer(f'./logs/hparam_tuning/{model_name}').as_default():\n",
    "    hparams = {\n",
    "        'CONV_F1': 32,\n",
    "        'CONV_F2': 64,\n",
    "        'CONV_F3': 128,\n",
    "        'CONV_F4': 256,\n",
    "        'DROPOUT': 0.2,\n",
    "        'D_UNITS_1': 512,\n",
    "        'DROPOUT': 0.2,\n",
    "        'D_UNITS_2': 256,\n",
    "    }\n",
    "    hp.hparams(hparams)\n",
    "    tf.summary.scalar('PRE', avg_rate(precisions), step=1)\n",
    "    tf.summary.scalar('REC', avg_rate(recalls), step=1)\n",
    "    tf.summary.scalar('ACC', avg_rate(accuracies), step=1)\n",
    "    tf.summary.scalar('F1 - Building', avg_rate(f1_blds), step=1)\n",
    "    tf.summary.scalar('F1 - Plant', avg_rate(f1_plants), step=1)\n",
    "    tf.summary.scalar('F1 - Road', avg_rate(f1_roads), step=1)\n",
    "    tf.summary.scalar('F1 - Vehicle', avg_rate(f1_vhcls), step=1)"
   ]
  },
  {
   "cell_type": "code",
   "execution_count": null,
   "id": "53362329-adc7-4db5-a223-a27367cbb06a",
   "metadata": {},
   "outputs": [],
   "source": []
  },
  {
   "cell_type": "markdown",
   "id": "3a48f537-6a6e-4696-afc1-c608ffc793f3",
   "metadata": {},
   "source": [
    "# Asd"
   ]
  },
  {
   "cell_type": "markdown",
   "id": "98e06983-0acb-4201-bb07-4c6579d25cbd",
   "metadata": {
    "jp-MarkdownHeadingCollapsed": true
   },
   "source": [
    "# Others"
   ]
  },
  {
   "cell_type": "code",
   "execution_count": null,
   "id": "6590ec4c-5fc3-470e-bc7c-26503425ab8c",
   "metadata": {
    "scrolled": true
   },
   "outputs": [],
   "source": [
    "model= make_model()\n",
    "model.fit(\n",
    "    x_train,\n",
    "    y_train,\n",
    "    validation_data=(x_test,y_test),\n",
    "    epochs=params[\"epochs\"],\n",
    "    batch_size=params[\"batch_size\"],\n",
    "    callbacks=create_callbacks(0),\n",
    ")"
   ]
  },
  {
   "cell_type": "code",
   "execution_count": null,
   "id": "64460324-7348-47a8-bfed-b23556965940",
   "metadata": {
    "scrolled": true
   },
   "outputs": [],
   "source": [
    "true_test_dataset = tf.data.Dataset.from_tensor_slices((x_test, y_test))\n",
    "true_test_set = true_test_dataset.shuffle(buffer_size=true_test_dataset.cardinality(), seed=1).batch(64)\n",
    "\n",
    "f1 = F1Score()\n",
    "pre = Precision()\n",
    "rec = Recall()\n",
    "c_acc = CategoricalAccuracy()\n",
    "for batch in true_test_set.as_numpy_iterator():\n",
    "    X, y = batch\n",
    "    yhat = model.predict(X)\n",
    "    yhat_max = []\n",
    "    for i in yhat:\n",
    "        maxed = np.argmax(i)\n",
    "        yhat_max.append(maxed)\n",
    "    yhat = np.array(yhat_max)\n",
    "    f1.update_state(y, yhat)\n",
    "    pre.update_state(y, yhat)\n",
    "    rec.update_state(y, yhat)\n",
    "    c_acc.update_state(y, yhat)\n"
   ]
  },
  {
   "cell_type": "code",
   "execution_count": null,
   "id": "9e4864d2-4fb0-4526-95d3-9421c7bfa082",
   "metadata": {},
   "outputs": [],
   "source": [
    "run[\"eval/ACC/\"] = float(c_acc.result().numpy() * 100)\n",
    "run[\"eval/REC/\"] = float(rec.result().numpy() * 100)\n",
    "run[\"eval/PRE/\"] = float(pre.result().numpy() * 100)\n"
   ]
  },
  {
   "cell_type": "code",
   "execution_count": null,
   "id": "3a9f5d4a-c095-4788-8b9c-0f67f2631f42",
   "metadata": {},
   "outputs": [],
   "source": [
    "run.stop()"
   ]
  },
  {
   "cell_type": "code",
   "execution_count": null,
   "id": "153bb951-edfb-42a4-93ae-30f5d37fcbab",
   "metadata": {},
   "outputs": [],
   "source": []
  },
  {
   "cell_type": "code",
   "execution_count": null,
   "id": "1becccd6-290d-486c-9f34-f5b4b025b4f4",
   "metadata": {},
   "outputs": [],
   "source": []
  },
  {
   "cell_type": "code",
   "execution_count": null,
   "id": "bf6ba075-09fd-4fc7-8886-c600b17d2938",
   "metadata": {},
   "outputs": [],
   "source": [
    "eval_metrics = model.evaluate(x_test, y_test, verbose=0)\n",
    "for j, metric in enumerate(eval_metrics):\n",
    "    run[\"eval/AVG-ACC/{}\".format(model.metrics_names[j])] = metric\n",
    "\n",
    "run.stop()"
   ]
  },
  {
   "cell_type": "code",
   "execution_count": null,
   "id": "09100e0c-0d94-4e3d-8202-ec6e2872234d",
   "metadata": {},
   "outputs": [],
   "source": [
    "for j, metric in enumerate(eval_metrics):\n",
    "    print(model.metrics_names[j])"
   ]
  },
  {
   "cell_type": "markdown",
   "id": "91f20526-bb52-4153-a291-c18829f55825",
   "metadata": {},
   "source": [
    "## Neptune AI Notes"
   ]
  },
  {
   "cell_type": "raw",
   "id": "59ff9add-a7ad-4ccf-b4f4-e3b9dd83564d",
   "metadata": {},
   "source": [
    "1. neptune callback keeps track of learning rate - can use ReduceLROnPlateau\n",
    "2. neptune seems better used with one run each, but we can just create 1 more RUN before tuning the hyperparameters, name it with \"AVG\", have an \"AVG\" tag, and then save the average result\n",
    "3. The code below creates column in Neptune AI's website\n",
    "\n",
    "  for j, metric in enumerate(eval_metrics):\n",
    "    run[\"eval/AVG-ACC/{}\".format(model.metrics_names[j])] = metric\n",
    "    "
   ]
  },
  {
   "cell_type": "code",
   "execution_count": null,
   "id": "2603ac1c-fe1d-4a21-b8f0-9d8a32e67462",
   "metadata": {},
   "outputs": [],
   "source": []
  }
 ],
 "metadata": {
  "kernelspec": {
   "display_name": "neptune",
   "language": "python",
   "name": "neptune"
  },
  "language_info": {
   "codemirror_mode": {
    "name": "ipython",
    "version": 3
   },
   "file_extension": ".py",
   "mimetype": "text/x-python",
   "name": "python",
   "nbconvert_exporter": "python",
   "pygments_lexer": "ipython3",
   "version": "3.10.9"
  }
 },
 "nbformat": 4,
 "nbformat_minor": 5
}
