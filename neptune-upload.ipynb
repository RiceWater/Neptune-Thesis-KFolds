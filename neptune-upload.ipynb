{
 "cells": [
  {
   "cell_type": "code",
   "execution_count": 1,
   "id": "9464c0d7-3f30-4e88-9dc1-a64403e6c18e",
   "metadata": {},
   "outputs": [
    {
     "name": "stdout",
     "output_type": "stream",
     "text": [
      "WARNING:tensorflow:From C:\\Users\\user\\Documents\\Machine-Learning-Hub-1\\ImageClassification\\Neptune-Thesis\\venv\\lib\\site-packages\\keras\\src\\losses.py:2976: The name tf.losses.sparse_softmax_cross_entropy is deprecated. Please use tf.compat.v1.losses.sparse_softmax_cross_entropy instead.\n",
      "\n"
     ]
    }
   ],
   "source": [
    "import tensorflow as tf\n",
    "\n",
    "import neptune\n",
    "from neptune.integrations.tensorflow_keras import NeptuneCallback"
   ]
  },
  {
   "cell_type": "code",
   "execution_count": 25,
   "id": "25242c1c-b03c-40eb-8c01-9bc034b9fd40",
   "metadata": {},
   "outputs": [],
   "source": [
    "project_name = \"New-Thesis/KFold-Test\"\n",
    "run_id = 'KFTEST-32'\n",
    "run_path_chk = '/checkpoint/model'\n",
    "model_name = './models/V4-1-0_Fold-7.keras'"
   ]
  },
  {
   "cell_type": "code",
   "execution_count": 26,
   "id": "ec1f178b-0b3d-4e53-b5c8-496941f7d754",
   "metadata": {},
   "outputs": [],
   "source": [
    "# Turn checkpoint folder into keras file\n",
    "model_path_chk = './checkpoints/V4.1.0/FOLD-7'\n",
    "model = tf.keras.models.load_model(model_path_chk)\n",
    "\n",
    "model.save(model_name)"
   ]
  },
  {
   "cell_type": "code",
   "execution_count": 27,
   "id": "03dd3664-9605-4080-8050-4a6a85d63d1e",
   "metadata": {},
   "outputs": [
    {
     "name": "stdout",
     "output_type": "stream",
     "text": [
      "[neptune] [info   ] Neptune initialized. Open in the app: https://app.neptune.ai/New-Thesis/KFold-Test/e/KFTEST-32\n",
      "[neptune] [info   ] Shutting down background jobs, please wait a moment...\n",
      "[neptune] [info   ] Done!\n",
      "[neptune] [info   ] Waiting for the remaining 5 operations to synchronize with Neptune. Do not kill this process.\n",
      "[neptune] [info   ] Still waiting for the remaining 1 operations (80.00% done). Please wait.\n",
      "[neptune] [info   ] Still waiting for the remaining 1 operations (80.00% done). Please wait.\n",
      "[neptune] [info   ] Still waiting for the remaining 1 operations (80.00% done). Please wait.\n",
      "[neptune] [info   ] All 5 operations synced, thanks for waiting!\n",
      "[neptune] [info   ] Explore the metadata in the Neptune app: https://app.neptune.ai/New-Thesis/KFold-Test/e/KFTEST-32/metadata\n"
     ]
    }
   ],
   "source": [
    "# Upload the keras model (you can't upload folders)\n",
    "run = neptune.init_run(project=project_name,\n",
    "                       with_id=run_id, \n",
    "                       mode=\"async\")\n",
    "\n",
    "run[run_path_chk].upload(model_name)\n",
    "\n",
    "run.stop()"
   ]
  },
  {
   "cell_type": "code",
   "execution_count": null,
   "id": "3ded6790-ea01-4599-b26b-449fe8290367",
   "metadata": {},
   "outputs": [],
   "source": []
  }
 ],
 "metadata": {
  "kernelspec": {
   "display_name": "neptune",
   "language": "python",
   "name": "neptune"
  },
  "language_info": {
   "codemirror_mode": {
    "name": "ipython",
    "version": 3
   },
   "file_extension": ".py",
   "mimetype": "text/x-python",
   "name": "python",
   "nbconvert_exporter": "python",
   "pygments_lexer": "ipython3",
   "version": "3.10.9"
  }
 },
 "nbformat": 4,
 "nbformat_minor": 5
}
