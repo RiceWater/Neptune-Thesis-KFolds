{
 "cells": [
  {
   "cell_type": "markdown",
   "id": "654fdf86-1ac7-4eb0-8153-7e9a1a61fa78",
   "metadata": {},
   "source": [
    "# READ"
   ]
  },
  {
   "cell_type": "markdown",
   "id": "30e7deed-4595-4611-9254-ad26a45facd3",
   "metadata": {},
   "source": [
    "1. API is in User Variables for User in Environemtn Variables named \"NEPTUNE_API_TOKEN\"\n",
    "2. If internet sucks, set mode to offline\n",
    "4. When offline runs are saved locally, sync it with | neptune sync -p \"New-Thesis/KFold-Test\" --offline-only |\n",
    "- make sure it is in venv mode | (venv) PS C:\\Users\\user\\Documents\\Machine-Learning-Hub-1\\ImageClassification\\Neptune-Thesis> |\n",
    "5. Delete the offline folder or use | neptune clear |"
   ]
  },
  {
   "cell_type": "markdown",
   "id": "348ca800-674e-4b34-9d14-551b8c226b08",
   "metadata": {},
   "source": [
    "# Load Libraries"
   ]
  },
  {
   "cell_type": "code",
   "execution_count": 1,
   "id": "79947b1a-22c4-4658-9375-a7bcbc52590e",
   "metadata": {},
   "outputs": [
    {
     "name": "stdout",
     "output_type": "stream",
     "text": [
      "WARNING:tensorflow:From C:\\Users\\user\\Documents\\Machine-Learning-Hub-1\\ImageClassification\\Neptune-Thesis\\venv\\lib\\site-packages\\keras\\src\\losses.py:2976: The name tf.losses.sparse_softmax_cross_entropy is deprecated. Please use tf.compat.v1.losses.sparse_softmax_cross_entropy instead.\n",
      "\n"
     ]
    }
   ],
   "source": [
    "import tqdm\n",
    "import os\n",
    "import cv2\n",
    "import imghdr\n",
    "import image_to_numpy\n",
    "import numpy as np\n",
    "import seaborn as sns\n",
    "from matplotlib import pyplot as plt\n",
    "from datetime import datetime\n",
    "import itertools\n",
    "from numpy.random import default_rng\n",
    "\n",
    "import tensorflow as tf\n",
    "from tensorflow.keras.models import Sequential\n",
    "from tensorflow.keras.layers import RandomFlip, RandomRotation, RandomContrast, RandomBrightness, Rescaling, Resizing\n",
    "from tensorflow.keras.layers import Conv2D, MaxPooling2D, Flatten, Dense, Dropout, BatchNormalization, ReLU\n",
    "from tensorflow.keras.metrics import F1Score, Precision, Recall, CategoricalAccuracy\n",
    "from tensorboard.plugins.hparams import api as hp\n",
    "import sklearn\n",
    "from sklearn.metrics import classification_report,confusion_matrix\n",
    "from sklearn.model_selection import StratifiedKFold\n",
    "\n",
    "from time import perf_counter\n",
    "import math\n",
    "\n",
    "import neptune\n",
    "from neptune.integrations.tensorflow_keras import NeptuneCallback"
   ]
  },
  {
   "cell_type": "markdown",
   "id": "0eb1457f-83b0-4eb9-8a55-57299e4e4aac",
   "metadata": {},
   "source": [
    "# Initialize Functions"
   ]
  },
  {
   "cell_type": "code",
   "execution_count": 2,
   "id": "28c9f594-9465-4546-8a43-7f7ddefbce80",
   "metadata": {},
   "outputs": [],
   "source": [
    "model_name = \"V4.0.1\"\n",
    "checkpoint_path = f'./checkpoints/{model_name}/FOLD-'"
   ]
  },
  {
   "cell_type": "code",
   "execution_count": 3,
   "id": "27cee80d-5b28-441a-8ec0-67da468c4966",
   "metadata": {},
   "outputs": [],
   "source": [
    "def make_model(params):\n",
    "    model = Sequential()\n",
    "    model.add(RandomFlip(mode='horizontal', seed=1, input_shape=(256,256,3)))\n",
    "    model.add(RandomRotation(factor=0.2, seed=1))\n",
    "\n",
    "    model.add(Conv2D(input_shape=(256,256,3), filters=16, kernel_size=(3,3), padding=\"same\"))\n",
    "    model.add(BatchNormalization())\n",
    "    model.add(ReLU())\n",
    "    model.add(MaxPooling2D())\n",
    "\n",
    "    model.add(Conv2D(filters=16, kernel_size=(3,3), padding=\"same\"))\n",
    "    model.add(BatchNormalization())\n",
    "    model.add(ReLU())\n",
    "    model.add(MaxPooling2D())\n",
    "\n",
    "    model.add(Conv2D(filters=32, kernel_size=(3,3), padding=\"same\"))\n",
    "    model.add(BatchNormalization())\n",
    "    model.add(ReLU())\n",
    "    model.add(MaxPooling2D())\n",
    "\n",
    "    model.add(Flatten())\n",
    "    model.add(Dropout(0.2, seed=1))\n",
    "    model.add(Dense(units=128,activation=\"relu\"))\n",
    "    model.add(Dense(units=64,activation=\"relu\"))\n",
    "\n",
    "    model.add(Dense(units=4, activation=\"softmax\"))\n",
    "\n",
    "    optimizer = tf.keras.optimizers.Adam(\n",
    "        learning_rate=params[\"lr\"],\n",
    "    )\n",
    "    \n",
    "    model.compile('adam', loss='categorical_crossentropy', metrics=['accuracy'])\n",
    "    return model"
   ]
  },
  {
   "cell_type": "code",
   "execution_count": 5,
   "id": "022580a2-bbb0-46de-80d2-b93e647275c4",
   "metadata": {},
   "outputs": [],
   "source": [
    "def create_callbacks(counter):\n",
    "    neptune_cbk = NeptuneCallback(run=run, base_namespace=\"training\")\n",
    "\n",
    "    cp_callback = tf.keras.callbacks.ModelCheckpoint(filepath=checkpoint_path + str(counter), \n",
    "                                                                 monitor='val_loss', \n",
    "                                                                 mode='auto', \n",
    "                                                                 save_best_only=True, \n",
    "                                                                 verbose=1)\n",
    "    es_callback = tf.keras.callbacks.EarlyStopping(monitor='val_loss', \n",
    "                                                   patience=15,\n",
    "                                                  )\n",
    "    reduce_lr = tf.keras.callbacks.ReduceLROnPlateau(monitor='val_loss', \n",
    "                                                         factor=0.6, \n",
    "                                                         patience=5, \n",
    "                                                         min_delta=0.001, \n",
    "                                                         mode='auto', \n",
    "                                                         verbose=1)\n",
    "    return [neptune_cbk, reduce_lr, cp_callback, es_callback]"
   ]
  },
  {
   "cell_type": "code",
   "execution_count": 6,
   "id": "98d16a35-875d-4cff-abd0-6f554224f314",
   "metadata": {},
   "outputs": [],
   "source": [
    "def plot_loss(hist):\n",
    "    fig = plt.figure(figsize=(3,2))\n",
    "    plt.plot(hist.history['loss'], color='teal', label='loss')\n",
    "    plt.plot(hist.history['val_loss'], color='orange', label='val_loss')\n",
    "    plt.suptitle('Loss')\n",
    "    plt.legend(loc='upper right')\n",
    "    plt.show()\n",
    "    return fig"
   ]
  },
  {
   "cell_type": "code",
   "execution_count": 7,
   "id": "3ba83bd7-0b4b-43fc-8484-9f695a1f0039",
   "metadata": {},
   "outputs": [],
   "source": [
    "def plot_acc(hist):\n",
    "    fig = plt.figure(figsize=(3,2))\n",
    "    plt.plot(hist.history['accuracy'], color='teal', label='acc')\n",
    "    plt.plot(hist.history['val_accuracy'], color='orange', label='val_acc')\n",
    "    plt.suptitle('Accuracy')\n",
    "    plt.legend(loc='upper left')\n",
    "    plt.show()\n",
    "    return fig"
   ]
  },
  {
   "cell_type": "code",
   "execution_count": 8,
   "id": "8b527cae-cd2f-4cf0-8ad8-03355050b95c",
   "metadata": {},
   "outputs": [],
   "source": [
    "def avg_rate(metric_list):\n",
    "    return sum(metric_list) / len(metric_list)"
   ]
  },
  {
   "cell_type": "markdown",
   "id": "e27ee883-af64-4f8a-980d-d7936a9d6c9b",
   "metadata": {},
   "source": [
    "# Prepare Dataset"
   ]
  },
  {
   "cell_type": "code",
   "execution_count": 9,
   "id": "77bf8dc5-2d83-4b0a-ab84-007f05ccaa5a",
   "metadata": {},
   "outputs": [],
   "source": [
    "labels = ['Building', 'Plant', 'Road', 'Vehicle']\n",
    "X_train = []\n",
    "y_train = []\n",
    "y_label_idx = []\n",
    "image_size = 256\n",
    "for i in labels:\n",
    "    folderPath = os.path.join('D:\\DATASETS\\For-Thesis\\Labels', i)\n",
    "    for j in os.listdir(folderPath):\n",
    "        img = image_to_numpy.load_image_file(os.path.join(folderPath,j))\n",
    "        img = cv2.resize(img,(image_size, image_size))\n",
    "        X_train.append(img)\n",
    "        y_label_idx.append(labels.index(i))"
   ]
  },
  {
   "cell_type": "code",
   "execution_count": 10,
   "id": "86dd841d-f1af-4c0a-9557-55d800db547b",
   "metadata": {},
   "outputs": [],
   "source": [
    "X_train = np.array(X_train)\n",
    "y_label_idx = np.array(y_label_idx)\n",
    "\n",
    "X_train_scaled = X_train.astype(np.float32) / 255.0"
   ]
  },
  {
   "cell_type": "code",
   "execution_count": 11,
   "id": "569494d1-0259-4eaa-bcbe-89a567ac7203",
   "metadata": {},
   "outputs": [],
   "source": [
    "rng = default_rng(seed=1)\n",
    "\n",
    "buildings_test_idx = rng.choice(np.arange(0,600), size=120, replace=False)\n",
    "plants_test_idx = rng.choice(np.arange(600,1200), size=120, replace=False)\n",
    "roads_test_idx = rng.choice(np.arange(1200,1800), size=120, replace=False)\n",
    "vehicles_test_idx = rng.choice(np.arange(1800,2400), size=120, replace=False)\n",
    "total_test_idx = np.concatenate((buildings_test_idx, plants_test_idx, roads_test_idx, vehicles_test_idx), axis=None)"
   ]
  },
  {
   "cell_type": "code",
   "execution_count": 12,
   "id": "1b38d76e-94d9-442c-8025-11352e7a091d",
   "metadata": {},
   "outputs": [],
   "source": [
    "def train_test_X(X_train_scaled):    \n",
    "    test_x = X_train_scaled[total_test_idx]\n",
    "    train_x = np.delete(X_train_scaled, total_test_idx, axis=0)\n",
    "    return train_x, test_x\n",
    "\n",
    "def train_test_y(y_label_idx):\n",
    "    test_y = y_label_idx[total_test_idx]\n",
    "    train_y = np.delete(y_label_idx, total_test_idx, axis=0)\n",
    "    return train_y, test_y"
   ]
  },
  {
   "cell_type": "code",
   "execution_count": 14,
   "id": "cb0d422e-be3d-4544-84f8-1b5f39fd52af",
   "metadata": {},
   "outputs": [],
   "source": [
    "train_x, holdout_x = train_test_X(X_train_scaled)\n",
    "train_y, holdout_y = train_test_y(y_label_idx)"
   ]
  },
  {
   "cell_type": "code",
   "execution_count": 15,
   "id": "746890dd-29f8-433f-8a17-1b8e9444ce77",
   "metadata": {},
   "outputs": [
    {
     "name": "stdout",
     "output_type": "stream",
     "text": [
      "1920 480\n"
     ]
    }
   ],
   "source": [
    "print(len(train_x), len(holdout_x))"
   ]
  },
  {
   "cell_type": "code",
   "execution_count": 16,
   "id": "c4b2ae4a-5a0e-439d-9ece-c5a8a3d2fecd",
   "metadata": {},
   "outputs": [
    {
     "name": "stdout",
     "output_type": "stream",
     "text": [
      "[0 0 0 0 0]\n"
     ]
    }
   ],
   "source": [
    "print(train_y[:5])"
   ]
  },
  {
   "cell_type": "code",
   "execution_count": 17,
   "id": "7c75f07f-09ee-4037-83fb-d2bea64c4b02",
   "metadata": {},
   "outputs": [],
   "source": [
    "# Inidices remain the same thanks to the seed (set to 1)\n",
    "# with open('total_test_idx.txt', 'w+') as f:\n",
    "     \n",
    "#     # write elements of list\n",
    "#     for items in total_test_idx:\n",
    "#         f.write('%s ' %items)\n",
    "     \n",
    "#     print(\"File written successfully\")\n",
    " \n",
    " \n",
    "# # close the file\n",
    "# f.close()"
   ]
  },
  {
   "cell_type": "code",
   "execution_count": 18,
   "id": "cabf3dcc-8327-4f9b-af3a-aa795f1ee122",
   "metadata": {},
   "outputs": [],
   "source": [
    "# mnist = tf.keras.datasets.mnist\n",
    "# (x_train, y_train), (x_test, y_test) = mnist.load_data()\n",
    "# x_train, x_test = x_train / 255.0, x_test / 255.0"
   ]
  },
  {
   "cell_type": "markdown",
   "id": "a10b3d75-dfe3-4d66-a5c7-b46073861043",
   "metadata": {},
   "source": [
    "# Run KFOLD"
   ]
  },
  {
   "cell_type": "code",
   "execution_count": 19,
   "id": "97c647dc-35a6-4391-80b6-1db5643a1820",
   "metadata": {},
   "outputs": [],
   "source": [
    "kfold = StratifiedKFold(n_splits=8, shuffle=True, random_state=1)"
   ]
  },
  {
   "cell_type": "code",
   "execution_count": 20,
   "id": "f4679eae-6da1-4f77-8dd2-bf6b2a248908",
   "metadata": {},
   "outputs": [],
   "source": [
    "project_name = \"New-Thesis/KFold-Test\"\n",
    "# api_token = <It is already initialized in environemnt variables>\n",
    "params = {\n",
    "    \"lr\": 0.001, \n",
    "    \"epochs\": 25, \n",
    "    \"batch_size\": 8}"
   ]
  },
  {
   "cell_type": "code",
   "execution_count": 21,
   "id": "e13eae77-d4a9-4c8a-8571-b1249e13a124",
   "metadata": {},
   "outputs": [],
   "source": [
    "# run.stop()"
   ]
  },
  {
   "cell_type": "code",
   "execution_count": 22,
   "id": "2061b0ab-2132-4f3b-94cc-d5584da402ad",
   "metadata": {},
   "outputs": [
    {
     "name": "stderr",
     "output_type": "stream",
     "text": [
      "[neptune] [warning] NeptuneWarning: The following monitoring options are disabled by default in interactive sessions: 'capture_stdout', 'capture_stderr', 'capture_traceback', and 'capture_hardware_metrics'. To enable them, set each parameter to 'True' when initializing the run. The monitoring will continue until you call run.stop() or the kernel stops. Also note: Your source files can only be tracked if you pass the path(s) to the 'source_code' argument. For help, see the Neptune docs: https://docs.neptune.ai/logging/source_code/\n"
     ]
    },
    {
     "name": "stdout",
     "output_type": "stream",
     "text": [
      "[neptune] [info   ] Neptune initialized. Open in the app: offline/6d3ecedd-a464-4d62-bd21-f74bef635c9b\n",
      "WARNING:tensorflow:From C:\\Users\\user\\Documents\\Machine-Learning-Hub-1\\ImageClassification\\Neptune-Thesis\\venv\\lib\\site-packages\\keras\\src\\backend.py:873: The name tf.get_default_graph is deprecated. Please use tf.compat.v1.get_default_graph instead.\n",
      "\n",
      "WARNING:tensorflow:From C:\\Users\\user\\Documents\\Machine-Learning-Hub-1\\ImageClassification\\Neptune-Thesis\\venv\\lib\\site-packages\\keras\\src\\layers\\normalization\\batch_normalization.py:979: The name tf.nn.fused_batch_norm is deprecated. Please use tf.compat.v1.nn.fused_batch_norm instead.\n",
      "\n",
      "WARNING:tensorflow:From C:\\Users\\user\\Documents\\Machine-Learning-Hub-1\\ImageClassification\\Neptune-Thesis\\venv\\lib\\site-packages\\keras\\src\\optimizers\\__init__.py:309: The name tf.train.Optimizer is deprecated. Please use tf.compat.v1.train.Optimizer instead.\n",
      "\n",
      "Epoch 1/25\n",
      "WARNING:tensorflow:From C:\\Users\\user\\Documents\\Machine-Learning-Hub-1\\ImageClassification\\Neptune-Thesis\\venv\\lib\\site-packages\\keras\\src\\utils\\tf_utils.py:492: The name tf.ragged.RaggedTensorValue is deprecated. Please use tf.compat.v1.ragged.RaggedTensorValue instead.\n",
      "\n",
      "WARNING:tensorflow:From C:\\Users\\user\\Documents\\Machine-Learning-Hub-1\\ImageClassification\\Neptune-Thesis\\venv\\lib\\site-packages\\keras\\src\\engine\\base_layer_utils.py:384: The name tf.executing_eagerly_outside_functions is deprecated. Please use tf.compat.v1.executing_eagerly_outside_functions instead.\n",
      "\n",
      "210/210 [==============================] - ETA: 0s - loss: 2.2559 - accuracy: 0.5940\n",
      "Epoch 1: val_loss improved from inf to 1.90102, saving model to ./checkpoints/V4.0.1\\FOLD-0\n",
      "INFO:tensorflow:Assets written to: ./checkpoints/V4.0.1\\FOLD-0\\assets\n"
     ]
    },
    {
     "name": "stderr",
     "output_type": "stream",
     "text": [
      "INFO:tensorflow:Assets written to: ./checkpoints/V4.0.1\\FOLD-0\\assets\n"
     ]
    },
    {
     "name": "stdout",
     "output_type": "stream",
     "text": [
      "210/210 [==============================] - 60s 253ms/step - loss: 2.2559 - accuracy: 0.5940 - val_loss: 1.9010 - val_accuracy: 0.3500 - lr: 0.0010\n",
      "Epoch 2/25\n",
      "210/210 [==============================] - ETA: 0s - loss: 0.8313 - accuracy: 0.7125\n",
      "Epoch 2: val_loss improved from 1.90102 to 1.02064, saving model to ./checkpoints/V4.0.1\\FOLD-0\n",
      "INFO:tensorflow:Assets written to: ./checkpoints/V4.0.1\\FOLD-0\\assets\n"
     ]
    },
    {
     "name": "stderr",
     "output_type": "stream",
     "text": [
      "INFO:tensorflow:Assets written to: ./checkpoints/V4.0.1\\FOLD-0\\assets\n"
     ]
    },
    {
     "name": "stdout",
     "output_type": "stream",
     "text": [
      "210/210 [==============================] - 56s 267ms/step - loss: 0.8313 - accuracy: 0.7125 - val_loss: 1.0206 - val_accuracy: 0.5125 - lr: 0.0010\n",
      "Epoch 3/25\n",
      "210/210 [==============================] - ETA: 0s - loss: 0.7011 - accuracy: 0.7315\n",
      "Epoch 3: val_loss improved from 1.02064 to 0.71046, saving model to ./checkpoints/V4.0.1\\FOLD-0\n",
      "INFO:tensorflow:Assets written to: ./checkpoints/V4.0.1\\FOLD-0\\assets\n"
     ]
    },
    {
     "name": "stderr",
     "output_type": "stream",
     "text": [
      "INFO:tensorflow:Assets written to: ./checkpoints/V4.0.1\\FOLD-0\\assets\n"
     ]
    },
    {
     "name": "stdout",
     "output_type": "stream",
     "text": [
      "210/210 [==============================] - 56s 266ms/step - loss: 0.7011 - accuracy: 0.7315 - val_loss: 0.7105 - val_accuracy: 0.7208 - lr: 0.0010\n",
      "Epoch 4/25\n",
      "210/210 [==============================] - ETA: 0s - loss: 0.6749 - accuracy: 0.7369\n",
      "Epoch 4: val_loss improved from 0.71046 to 0.54733, saving model to ./checkpoints/V4.0.1\\FOLD-0\n",
      "INFO:tensorflow:Assets written to: ./checkpoints/V4.0.1\\FOLD-0\\assets\n"
     ]
    },
    {
     "name": "stderr",
     "output_type": "stream",
     "text": [
      "INFO:tensorflow:Assets written to: ./checkpoints/V4.0.1\\FOLD-0\\assets\n"
     ]
    },
    {
     "name": "stdout",
     "output_type": "stream",
     "text": [
      "210/210 [==============================] - 52s 246ms/step - loss: 0.6749 - accuracy: 0.7369 - val_loss: 0.5473 - val_accuracy: 0.7833 - lr: 0.0010\n",
      "Epoch 5/25\n",
      "210/210 [==============================] - ETA: 0s - loss: 0.5235 - accuracy: 0.7935\n",
      "Epoch 5: val_loss did not improve from 0.54733\n",
      "210/210 [==============================] - 41s 195ms/step - loss: 0.5235 - accuracy: 0.7935 - val_loss: 2.8636 - val_accuracy: 0.4250 - lr: 0.0010\n",
      "Epoch 6/25\n",
      "210/210 [==============================] - ETA: 0s - loss: 0.5467 - accuracy: 0.8000\n",
      "Epoch 6: val_loss did not improve from 0.54733\n",
      "210/210 [==============================] - 43s 205ms/step - loss: 0.5467 - accuracy: 0.8000 - val_loss: 1.7082 - val_accuracy: 0.5417 - lr: 0.0010\n",
      "Epoch 7/25\n",
      "210/210 [==============================] - ETA: 0s - loss: 0.4775 - accuracy: 0.8190\n",
      "Epoch 7: val_loss did not improve from 0.54733\n",
      "210/210 [==============================] - 44s 211ms/step - loss: 0.4775 - accuracy: 0.8190 - val_loss: 1.7322 - val_accuracy: 0.6042 - lr: 0.0010\n",
      "Epoch 8/25\n",
      "210/210 [==============================] - ETA: 0s - loss: 0.4724 - accuracy: 0.8179\n",
      "Epoch 8: val_loss did not improve from 0.54733\n",
      "210/210 [==============================] - 43s 206ms/step - loss: 0.4724 - accuracy: 0.8179 - val_loss: 1.7602 - val_accuracy: 0.4958 - lr: 0.0010\n",
      "Epoch 9/25\n",
      "210/210 [==============================] - ETA: 0s - loss: 0.4401 - accuracy: 0.8286\n",
      "Epoch 9: ReduceLROnPlateau reducing learning rate to 0.0006000000284984708.\n",
      "\n",
      "Epoch 9: val_loss did not improve from 0.54733\n",
      "210/210 [==============================] - 50s 236ms/step - loss: 0.4401 - accuracy: 0.8286 - val_loss: 2.0502 - val_accuracy: 0.4667 - lr: 0.0010\n",
      "Epoch 10/25\n",
      "210/210 [==============================] - ETA: 0s - loss: 0.3808 - accuracy: 0.8595\n",
      "Epoch 10: val_loss improved from 0.54733 to 0.38163, saving model to ./checkpoints/V4.0.1\\FOLD-0\n",
      "INFO:tensorflow:Assets written to: ./checkpoints/V4.0.1\\FOLD-0\\assets\n"
     ]
    },
    {
     "name": "stderr",
     "output_type": "stream",
     "text": [
      "INFO:tensorflow:Assets written to: ./checkpoints/V4.0.1\\FOLD-0\\assets\n"
     ]
    },
    {
     "name": "stdout",
     "output_type": "stream",
     "text": [
      "210/210 [==============================] - 47s 223ms/step - loss: 0.3808 - accuracy: 0.8595 - val_loss: 0.3816 - val_accuracy: 0.8708 - lr: 6.0000e-04\n",
      "Epoch 11/25\n",
      "210/210 [==============================] - ETA: 0s - loss: 0.3954 - accuracy: 0.8488\n",
      "Epoch 11: val_loss did not improve from 0.38163\n",
      "210/210 [==============================] - 37s 176ms/step - loss: 0.3954 - accuracy: 0.8488 - val_loss: 0.4311 - val_accuracy: 0.8458 - lr: 6.0000e-04\n",
      "Epoch 12/25\n",
      "210/210 [==============================] - ETA: 0s - loss: 0.3608 - accuracy: 0.8583\n",
      "Epoch 12: val_loss did not improve from 0.38163\n",
      "210/210 [==============================] - 38s 182ms/step - loss: 0.3608 - accuracy: 0.8583 - val_loss: 1.4129 - val_accuracy: 0.5708 - lr: 6.0000e-04\n",
      "Epoch 13/25\n",
      "210/210 [==============================] - ETA: 0s - loss: 0.3785 - accuracy: 0.8518\n",
      "Epoch 13: val_loss did not improve from 0.38163\n",
      "210/210 [==============================] - 42s 201ms/step - loss: 0.3785 - accuracy: 0.8518 - val_loss: 0.9860 - val_accuracy: 0.6792 - lr: 6.0000e-04\n",
      "Epoch 14/25\n",
      "210/210 [==============================] - ETA: 0s - loss: 0.3388 - accuracy: 0.8649\n",
      "Epoch 14: val_loss did not improve from 0.38163\n",
      "210/210 [==============================] - 46s 221ms/step - loss: 0.3388 - accuracy: 0.8649 - val_loss: 1.1419 - val_accuracy: 0.6208 - lr: 6.0000e-04\n",
      "Epoch 15/25\n",
      "210/210 [==============================] - ETA: 0s - loss: 0.3530 - accuracy: 0.8619\n",
      "Epoch 15: ReduceLROnPlateau reducing learning rate to 0.0003600000170990825.\n",
      "\n",
      "Epoch 15: val_loss did not improve from 0.38163\n",
      "210/210 [==============================] - 46s 217ms/step - loss: 0.3530 - accuracy: 0.8619 - val_loss: 0.4713 - val_accuracy: 0.8208 - lr: 6.0000e-04\n",
      "Epoch 16/25\n",
      "210/210 [==============================] - ETA: 0s - loss: 0.2963 - accuracy: 0.8869\n",
      "Epoch 16: val_loss did not improve from 0.38163\n",
      "210/210 [==============================] - 47s 222ms/step - loss: 0.2963 - accuracy: 0.8869 - val_loss: 0.5274 - val_accuracy: 0.8000 - lr: 3.6000e-04\n",
      "Epoch 17/25\n",
      "210/210 [==============================] - ETA: 0s - loss: 0.2980 - accuracy: 0.8780\n",
      "Epoch 17: val_loss did not improve from 0.38163\n",
      "210/210 [==============================] - 46s 218ms/step - loss: 0.2980 - accuracy: 0.8780 - val_loss: 0.4757 - val_accuracy: 0.8458 - lr: 3.6000e-04\n",
      "Epoch 18/25\n",
      "210/210 [==============================] - ETA: 0s - loss: 0.2628 - accuracy: 0.8911\n",
      "Epoch 18: val_loss improved from 0.38163 to 0.33143, saving model to ./checkpoints/V4.0.1\\FOLD-0\n",
      "INFO:tensorflow:Assets written to: ./checkpoints/V4.0.1\\FOLD-0\\assets\n"
     ]
    },
    {
     "name": "stderr",
     "output_type": "stream",
     "text": [
      "INFO:tensorflow:Assets written to: ./checkpoints/V4.0.1\\FOLD-0\\assets\n"
     ]
    },
    {
     "name": "stdout",
     "output_type": "stream",
     "text": [
      "210/210 [==============================] - 49s 234ms/step - loss: 0.2628 - accuracy: 0.8911 - val_loss: 0.3314 - val_accuracy: 0.8667 - lr: 3.6000e-04\n",
      "Epoch 19/25\n",
      "210/210 [==============================] - ETA: 0s - loss: 0.2706 - accuracy: 0.8994\n",
      "Epoch 19: val_loss did not improve from 0.33143\n",
      "210/210 [==============================] - 40s 192ms/step - loss: 0.2706 - accuracy: 0.8994 - val_loss: 0.5630 - val_accuracy: 0.8167 - lr: 3.6000e-04\n",
      "Epoch 20/25\n",
      "210/210 [==============================] - ETA: 0s - loss: 0.2759 - accuracy: 0.8946\n",
      "Epoch 20: val_loss did not improve from 0.33143\n",
      "210/210 [==============================] - 37s 176ms/step - loss: 0.2759 - accuracy: 0.8946 - val_loss: 0.4713 - val_accuracy: 0.8417 - lr: 3.6000e-04\n",
      "Epoch 21/25\n",
      "210/210 [==============================] - ETA: 0s - loss: 0.2948 - accuracy: 0.8929\n",
      "Epoch 21: val_loss improved from 0.33143 to 0.30432, saving model to ./checkpoints/V4.0.1\\FOLD-0\n",
      "INFO:tensorflow:Assets written to: ./checkpoints/V4.0.1\\FOLD-0\\assets\n"
     ]
    },
    {
     "name": "stderr",
     "output_type": "stream",
     "text": [
      "INFO:tensorflow:Assets written to: ./checkpoints/V4.0.1\\FOLD-0\\assets\n"
     ]
    },
    {
     "name": "stdout",
     "output_type": "stream",
     "text": [
      "210/210 [==============================] - 48s 230ms/step - loss: 0.2948 - accuracy: 0.8929 - val_loss: 0.3043 - val_accuracy: 0.8875 - lr: 3.6000e-04\n",
      "Epoch 22/25\n",
      "210/210 [==============================] - ETA: 0s - loss: 0.2594 - accuracy: 0.9042\n",
      "Epoch 22: val_loss did not improve from 0.30432\n",
      "210/210 [==============================] - 42s 202ms/step - loss: 0.2594 - accuracy: 0.9042 - val_loss: 0.3847 - val_accuracy: 0.8542 - lr: 3.6000e-04\n",
      "Epoch 23/25\n",
      "210/210 [==============================] - ETA: 0s - loss: 0.2439 - accuracy: 0.9125\n",
      "Epoch 23: val_loss did not improve from 0.30432\n",
      "210/210 [==============================] - 37s 175ms/step - loss: 0.2439 - accuracy: 0.9125 - val_loss: 0.4070 - val_accuracy: 0.7958 - lr: 3.6000e-04\n",
      "Epoch 24/25\n",
      "210/210 [==============================] - ETA: 0s - loss: 0.2650 - accuracy: 0.9042\n",
      "Epoch 24: val_loss improved from 0.30432 to 0.24866, saving model to ./checkpoints/V4.0.1\\FOLD-0\n",
      "INFO:tensorflow:Assets written to: ./checkpoints/V4.0.1\\FOLD-0\\assets\n"
     ]
    },
    {
     "name": "stderr",
     "output_type": "stream",
     "text": [
      "INFO:tensorflow:Assets written to: ./checkpoints/V4.0.1\\FOLD-0\\assets\n"
     ]
    },
    {
     "name": "stdout",
     "output_type": "stream",
     "text": [
      "210/210 [==============================] - 50s 240ms/step - loss: 0.2650 - accuracy: 0.9042 - val_loss: 0.2487 - val_accuracy: 0.9042 - lr: 3.6000e-04\n",
      "Epoch 25/25\n",
      "210/210 [==============================] - ETA: 0s - loss: 0.2751 - accuracy: 0.8958\n",
      "Epoch 25: val_loss did not improve from 0.24866\n",
      "210/210 [==============================] - 40s 189ms/step - loss: 0.2751 - accuracy: 0.8958 - val_loss: 1.3775 - val_accuracy: 0.5875 - lr: 3.6000e-04\n"
     ]
    },
    {
     "data": {
      "image/png": "[encoded data removed]",
      "text/plain": [
       "<Figure size 300x200 with 1 Axes>"
      ]
     },
     "metadata": {},
     "output_type": "display_data"
    },
    {
     "data": {
      "image/png": "[encoded data removed]",
      "text/plain": [
       "<Figure size 300x200 with 1 Axes>"
      ]
     },
     "metadata": {},
     "output_type": "display_data"
    },
    {
     "name": "stdout",
     "output_type": "stream",
     "text": [
      "WARNING:tensorflow:From C:\\Users\\user\\Documents\\Machine-Learning-Hub-1\\ImageClassification\\Neptune-Thesis\\venv\\lib\\site-packages\\keras\\src\\saving\\legacy\\saved_model\\load.py:107: The name tf.gfile.Exists is deprecated. Please use tf.io.gfile.exists instead.\n",
      "\n"
     ]
    },
    {
     "name": "stderr",
     "output_type": "stream",
     "text": [
      "WARNING:tensorflow:From C:\\Users\\user\\Documents\\Machine-Learning-Hub-1\\ImageClassification\\Neptune-Thesis\\venv\\lib\\site-packages\\keras\\src\\saving\\legacy\\saved_model\\load.py:107: The name tf.gfile.Exists is deprecated. Please use tf.io.gfile.exists instead.\n",
      "\n"
     ]
    },
    {
     "name": "stdout",
     "output_type": "stream",
     "text": [
      "Fold Training Time: 0 hour(s) and 19 mins\n",
      "Precision: 90.71729779243469  -  Recall: 89.58333134651184\n",
      "Accuracy: 90.41666388511658\n",
      "F1Score: Building 82.92683410644531 | Plant 95.86776733398438 | Road 97.52066040039062 | Vehicle 85.2173843383789\n",
      "[neptune] [info   ] Shutting down background jobs, please wait a moment...\n",
      "[neptune] [info   ] Done!\n",
      "[neptune] [info   ] Neptune initialized. Open in the app: offline/09fc0bb2-69fd-4555-8e12-de6d91fd79f7\n",
      "Epoch 1/25\n",
      "210/210 [==============================] - ETA: 0s - loss: 2.7724 - accuracy: 0.6071\n",
      "Epoch 1: val_loss improved from inf to 6.66780, saving model to ./checkpoints/V4.0.1\\FOLD-1\n",
      "INFO:tensorflow:Assets written to: ./checkpoints/V4.0.1\\FOLD-1\\assets\n"
     ]
    },
    {
     "name": "stderr",
     "output_type": "stream",
     "text": [
      "INFO:tensorflow:Assets written to: ./checkpoints/V4.0.1\\FOLD-1\\assets\n"
     ]
    },
    {
     "name": "stdout",
     "output_type": "stream",
     "text": [
      "210/210 [==============================] - 51s 224ms/step - loss: 2.7724 - accuracy: 0.6071 - val_loss: 6.6678 - val_accuracy: 0.2500 - lr: 0.0010\n",
      "Epoch 2/25\n",
      "210/210 [==============================] - ETA: 0s - loss: 0.7706 - accuracy: 0.7292\n",
      "Epoch 2: val_loss improved from 6.66780 to 0.92495, saving model to ./checkpoints/V4.0.1\\FOLD-1\n",
      "INFO:tensorflow:Assets written to: ./checkpoints/V4.0.1\\FOLD-1\\assets\n"
     ]
    },
    {
     "name": "stderr",
     "output_type": "stream",
     "text": [
      "INFO:tensorflow:Assets written to: ./checkpoints/V4.0.1\\FOLD-1\\assets\n"
     ]
    },
    {
     "name": "stdout",
     "output_type": "stream",
     "text": [
      "210/210 [==============================] - 53s 254ms/step - loss: 0.7706 - accuracy: 0.7292 - val_loss: 0.9249 - val_accuracy: 0.6625 - lr: 0.0010\n",
      "Epoch 3/25\n",
      "210/210 [==============================] - ETA: 0s - loss: 0.7021 - accuracy: 0.7435\n",
      "Epoch 3: val_loss did not improve from 0.92495\n",
      "210/210 [==============================] - 47s 223ms/step - loss: 0.7021 - accuracy: 0.7435 - val_loss: 1.3192 - val_accuracy: 0.5500 - lr: 0.0010\n",
      "Epoch 4/25\n",
      "210/210 [==============================] - ETA: 0s - loss: 0.5902 - accuracy: 0.7780\n",
      "Epoch 4: val_loss did not improve from 0.92495\n",
      "210/210 [==============================] - 47s 223ms/step - loss: 0.5902 - accuracy: 0.7780 - val_loss: 3.2343 - val_accuracy: 0.4875 - lr: 0.0010\n",
      "Epoch 5/25\n",
      "210/210 [==============================] - ETA: 0s - loss: 0.5223 - accuracy: 0.8125\n",
      "Epoch 5: val_loss did not improve from 0.92495\n",
      "210/210 [==============================] - 47s 224ms/step - loss: 0.5223 - accuracy: 0.8125 - val_loss: 1.1538 - val_accuracy: 0.5458 - lr: 0.0010\n",
      "Epoch 6/25\n",
      "210/210 [==============================] - ETA: 0s - loss: 0.5122 - accuracy: 0.8125\n",
      "Epoch 6: val_loss did not improve from 0.92495\n",
      "210/210 [==============================] - 47s 225ms/step - loss: 0.5122 - accuracy: 0.8125 - val_loss: 1.0609 - val_accuracy: 0.6167 - lr: 0.0010\n",
      "Epoch 7/25\n",
      "210/210 [==============================] - ETA: 0s - loss: 0.4502 - accuracy: 0.8220\n",
      "Epoch 7: val_loss improved from 0.92495 to 0.35812, saving model to ./checkpoints/V4.0.1\\FOLD-1\n",
      "INFO:tensorflow:Assets written to: ./checkpoints/V4.0.1\\FOLD-1\\assets\n"
     ]
    },
    {
     "name": "stderr",
     "output_type": "stream",
     "text": [
      "INFO:tensorflow:Assets written to: ./checkpoints/V4.0.1\\FOLD-1\\assets\n"
     ]
    },
    {
     "name": "stdout",
     "output_type": "stream",
     "text": [
      "210/210 [==============================] - 41s 197ms/step - loss: 0.4502 - accuracy: 0.8220 - val_loss: 0.3581 - val_accuracy: 0.8625 - lr: 0.0010\n",
      "Epoch 8/25\n",
      "210/210 [==============================] - ETA: 0s - loss: 0.4615 - accuracy: 0.8167\n",
      "Epoch 8: val_loss did not improve from 0.35812\n",
      "210/210 [==============================] - 36s 169ms/step - loss: 0.4615 - accuracy: 0.8167 - val_loss: 0.4153 - val_accuracy: 0.8292 - lr: 0.0010\n",
      "Epoch 9/25\n",
      "210/210 [==============================] - ETA: 0s - loss: 0.4804 - accuracy: 0.8095\n",
      "Epoch 9: val_loss did not improve from 0.35812\n",
      "210/210 [==============================] - 36s 170ms/step - loss: 0.4804 - accuracy: 0.8095 - val_loss: 0.4593 - val_accuracy: 0.8458 - lr: 0.0010\n",
      "Epoch 10/25\n",
      "210/210 [==============================] - ETA: 0s - loss: 0.4659 - accuracy: 0.8345\n",
      "Epoch 10: val_loss did not improve from 0.35812\n",
      "210/210 [==============================] - 36s 169ms/step - loss: 0.4659 - accuracy: 0.8345 - val_loss: 0.9682 - val_accuracy: 0.7000 - lr: 0.0010\n",
      "Epoch 11/25\n",
      "210/210 [==============================] - ETA: 0s - loss: 0.4582 - accuracy: 0.8310\n",
      "Epoch 11: val_loss did not improve from 0.35812\n",
      "210/210 [==============================] - 36s 173ms/step - loss: 0.4582 - accuracy: 0.8310 - val_loss: 0.3739 - val_accuracy: 0.8500 - lr: 0.0010\n",
      "Epoch 12/25\n",
      "210/210 [==============================] - ETA: 0s - loss: 0.3843 - accuracy: 0.8554\n",
      "Epoch 12: ReduceLROnPlateau reducing learning rate to 0.0006000000284984708.\n",
      "\n",
      "Epoch 12: val_loss did not improve from 0.35812\n",
      "210/210 [==============================] - 45s 212ms/step - loss: 0.3843 - accuracy: 0.8554 - val_loss: 1.0984 - val_accuracy: 0.6958 - lr: 0.0010\n",
      "Epoch 13/25\n",
      "210/210 [==============================] - ETA: 0s - loss: 0.3448 - accuracy: 0.8673\n",
      "Epoch 13: val_loss did not improve from 0.35812\n",
      "210/210 [==============================] - 47s 225ms/step - loss: 0.3448 - accuracy: 0.8673 - val_loss: 1.1005 - val_accuracy: 0.7250 - lr: 6.0000e-04\n",
      "Epoch 14/25\n",
      "210/210 [==============================] - ETA: 0s - loss: 0.3252 - accuracy: 0.8774\n",
      "Epoch 14: val_loss did not improve from 0.35812\n",
      "210/210 [==============================] - 42s 199ms/step - loss: 0.3252 - accuracy: 0.8774 - val_loss: 1.0152 - val_accuracy: 0.6917 - lr: 6.0000e-04\n",
      "Epoch 15/25\n",
      "210/210 [==============================] - ETA: 0s - loss: 0.3222 - accuracy: 0.8792\n",
      "Epoch 15: val_loss did not improve from 0.35812\n",
      "210/210 [==============================] - 40s 189ms/step - loss: 0.3222 - accuracy: 0.8792 - val_loss: 1.4353 - val_accuracy: 0.6250 - lr: 6.0000e-04\n",
      "Epoch 16/25\n",
      "210/210 [==============================] - ETA: 0s - loss: 0.3339 - accuracy: 0.8696\n",
      "Epoch 16: val_loss did not improve from 0.35812\n",
      "210/210 [==============================] - 39s 184ms/step - loss: 0.3339 - accuracy: 0.8696 - val_loss: 0.5409 - val_accuracy: 0.8000 - lr: 6.0000e-04\n",
      "Epoch 17/25\n",
      "210/210 [==============================] - ETA: 0s - loss: 0.2931 - accuracy: 0.8875\n",
      "Epoch 17: ReduceLROnPlateau reducing learning rate to 0.0003600000170990825.\n",
      "\n",
      "Epoch 17: val_loss did not improve from 0.35812\n",
      "210/210 [==============================] - 39s 183ms/step - loss: 0.2931 - accuracy: 0.8875 - val_loss: 1.1692 - val_accuracy: 0.6542 - lr: 6.0000e-04\n",
      "Epoch 18/25\n",
      "210/210 [==============================] - ETA: 0s - loss: 0.2869 - accuracy: 0.8946\n",
      "Epoch 18: val_loss improved from 0.35812 to 0.29812, saving model to ./checkpoints/V4.0.1\\FOLD-1\n",
      "INFO:tensorflow:Assets written to: ./checkpoints/V4.0.1\\FOLD-1\\assets\n"
     ]
    },
    {
     "name": "stderr",
     "output_type": "stream",
     "text": [
      "INFO:tensorflow:Assets written to: ./checkpoints/V4.0.1\\FOLD-1\\assets\n"
     ]
    },
    {
     "name": "stdout",
     "output_type": "stream",
     "text": [
      "210/210 [==============================] - 44s 208ms/step - loss: 0.2869 - accuracy: 0.8946 - val_loss: 0.2981 - val_accuracy: 0.8917 - lr: 3.6000e-04\n",
      "Epoch 19/25\n",
      "210/210 [==============================] - ETA: 0s - loss: 0.2406 - accuracy: 0.9012\n",
      "Epoch 19: val_loss did not improve from 0.29812\n",
      "210/210 [==============================] - 38s 183ms/step - loss: 0.2406 - accuracy: 0.9012 - val_loss: 0.3630 - val_accuracy: 0.8667 - lr: 3.6000e-04\n",
      "Epoch 20/25\n",
      "210/210 [==============================] - ETA: 0s - loss: 0.2356 - accuracy: 0.9155\n",
      "Epoch 20: val_loss improved from 0.29812 to 0.28742, saving model to ./checkpoints/V4.0.1\\FOLD-1\n",
      "INFO:tensorflow:Assets written to: ./checkpoints/V4.0.1\\FOLD-1\\assets\n"
     ]
    },
    {
     "name": "stderr",
     "output_type": "stream",
     "text": [
      "INFO:tensorflow:Assets written to: ./checkpoints/V4.0.1\\FOLD-1\\assets\n"
     ]
    },
    {
     "name": "stdout",
     "output_type": "stream",
     "text": [
      "210/210 [==============================] - 50s 241ms/step - loss: 0.2356 - accuracy: 0.9155 - val_loss: 0.2874 - val_accuracy: 0.8667 - lr: 3.6000e-04\n",
      "Epoch 21/25\n",
      "210/210 [==============================] - ETA: 0s - loss: 0.2614 - accuracy: 0.8970\n",
      "Epoch 21: val_loss did not improve from 0.28742\n",
      "210/210 [==============================] - 38s 179ms/step - loss: 0.2614 - accuracy: 0.8970 - val_loss: 0.4185 - val_accuracy: 0.8542 - lr: 3.6000e-04\n",
      "Epoch 22/25\n",
      "210/210 [==============================] - ETA: 0s - loss: 0.2424 - accuracy: 0.9107\n",
      "Epoch 22: val_loss did not improve from 0.28742\n",
      "210/210 [==============================] - 40s 190ms/step - loss: 0.2424 - accuracy: 0.9107 - val_loss: 1.7372 - val_accuracy: 0.5792 - lr: 3.6000e-04\n",
      "Epoch 23/25\n",
      "210/210 [==============================] - ETA: 0s - loss: 0.2385 - accuracy: 0.9083\n",
      "Epoch 23: val_loss did not improve from 0.28742\n",
      "210/210 [==============================] - 39s 185ms/step - loss: 0.2385 - accuracy: 0.9083 - val_loss: 1.1074 - val_accuracy: 0.7000 - lr: 3.6000e-04\n",
      "Epoch 24/25\n",
      "210/210 [==============================] - ETA: 0s - loss: 0.2557 - accuracy: 0.9018\n",
      "Epoch 24: val_loss did not improve from 0.28742\n",
      "210/210 [==============================] - 39s 183ms/step - loss: 0.2557 - accuracy: 0.9018 - val_loss: 0.3253 - val_accuracy: 0.8667 - lr: 3.6000e-04\n",
      "Epoch 25/25\n",
      "210/210 [==============================] - ETA: 0s - loss: 0.2505 - accuracy: 0.9077\n",
      "Epoch 25: ReduceLROnPlateau reducing learning rate to 0.00021600000327453016.\n",
      "\n",
      "Epoch 25: val_loss did not improve from 0.28742\n",
      "210/210 [==============================] - 39s 185ms/step - loss: 0.2505 - accuracy: 0.9077 - val_loss: 0.3604 - val_accuracy: 0.8458 - lr: 3.6000e-04\n"
     ]
    },
    {
     "data": {
      "image/png": "[encoded data removed]",
      "text/plain": [
       "<Figure size 300x200 with 1 Axes>"
      ]
     },
     "metadata": {},
     "output_type": "display_data"
    },
    {
     "data": {
      "image/png": "[encoded data removed]",
      "text/plain": [
       "<Figure size 300x200 with 1 Axes>"
      ]
     },
     "metadata": {},
     "output_type": "display_data"
    },
    {
     "name": "stdout",
     "output_type": "stream",
     "text": [
      "Fold Training Time: 0 hour(s) and 17 mins\n",
      "Precision: 86.91983222961426  -  Recall: 85.83333492279053\n",
      "Accuracy: 86.66666746139526\n",
      "F1Score: Building 77.96610260009766 | Plant 91.47286224365234 | Road 94.01709747314453 | Vehicle 82.75862121582031\n",
      "[neptune] [info   ] Shutting down background jobs, please wait a moment...\n",
      "[neptune] [info   ] Done!\n",
      "[neptune] [info   ] Neptune initialized. Open in the app: offline/38fe551b-0ac2-4233-9390-1bd72ea97a5c\n",
      "Epoch 1/25\n",
      "210/210 [==============================] - ETA: 0s - loss: 1.8446 - accuracy: 0.5976\n",
      "Epoch 1: val_loss improved from inf to 1.89938, saving model to ./checkpoints/V4.0.1\\FOLD-2\n",
      "INFO:tensorflow:Assets written to: ./checkpoints/V4.0.1\\FOLD-2\\assets\n"
     ]
    },
    {
     "name": "stderr",
     "output_type": "stream",
     "text": [
      "INFO:tensorflow:Assets written to: ./checkpoints/V4.0.1\\FOLD-2\\assets\n"
     ]
    },
    {
     "name": "stdout",
     "output_type": "stream",
     "text": [
      "210/210 [==============================] - 53s 229ms/step - loss: 1.8446 - accuracy: 0.5976 - val_loss: 1.8994 - val_accuracy: 0.3458 - lr: 0.0010\n",
      "Epoch 2/25\n",
      "210/210 [==============================] - ETA: 0s - loss: 0.7863 - accuracy: 0.7095\n",
      "Epoch 2: val_loss improved from 1.89938 to 0.92523, saving model to ./checkpoints/V4.0.1\\FOLD-2\n",
      "INFO:tensorflow:Assets written to: ./checkpoints/V4.0.1\\FOLD-2\\assets\n"
     ]
    },
    {
     "name": "stderr",
     "output_type": "stream",
     "text": [
      "INFO:tensorflow:Assets written to: ./checkpoints/V4.0.1\\FOLD-2\\assets\n"
     ]
    },
    {
     "name": "stdout",
     "output_type": "stream",
     "text": [
      "210/210 [==============================] - 42s 198ms/step - loss: 0.7863 - accuracy: 0.7095 - val_loss: 0.9252 - val_accuracy: 0.6458 - lr: 0.0010\n",
      "Epoch 3/25\n",
      "210/210 [==============================] - ETA: 0s - loss: 0.6833 - accuracy: 0.7440\n",
      "Epoch 3: val_loss improved from 0.92523 to 0.87981, saving model to ./checkpoints/V4.0.1\\FOLD-2\n",
      "INFO:tensorflow:Assets written to: ./checkpoints/V4.0.1\\FOLD-2\\assets\n"
     ]
    },
    {
     "name": "stderr",
     "output_type": "stream",
     "text": [
      "INFO:tensorflow:Assets written to: ./checkpoints/V4.0.1\\FOLD-2\\assets\n"
     ]
    },
    {
     "name": "stdout",
     "output_type": "stream",
     "text": [
      "210/210 [==============================] - 43s 203ms/step - loss: 0.6833 - accuracy: 0.7440 - val_loss: 0.8798 - val_accuracy: 0.6667 - lr: 0.0010\n",
      "Epoch 4/25\n",
      "210/210 [==============================] - ETA: 0s - loss: 0.5831 - accuracy: 0.7673\n",
      "Epoch 4: val_loss did not improve from 0.87981\n",
      "210/210 [==============================] - 37s 178ms/step - loss: 0.5831 - accuracy: 0.7673 - val_loss: 1.5201 - val_accuracy: 0.5042 - lr: 0.0010\n",
      "Epoch 5/25\n",
      "210/210 [==============================] - ETA: 0s - loss: 0.5202 - accuracy: 0.8018\n",
      "Epoch 5: val_loss did not improve from 0.87981\n",
      "210/210 [==============================] - 38s 179ms/step - loss: 0.5202 - accuracy: 0.8018 - val_loss: 6.5224 - val_accuracy: 0.3167 - lr: 0.0010\n",
      "Epoch 6/25\n",
      "210/210 [==============================] - ETA: 0s - loss: 0.5519 - accuracy: 0.8036\n",
      "Epoch 6: val_loss did not improve from 0.87981\n",
      "210/210 [==============================] - 37s 178ms/step - loss: 0.5519 - accuracy: 0.8036 - val_loss: 1.2653 - val_accuracy: 0.5792 - lr: 0.0010\n",
      "Epoch 7/25\n",
      "210/210 [==============================] - ETA: 0s - loss: 0.5034 - accuracy: 0.8077\n",
      "Epoch 7: val_loss did not improve from 0.87981\n",
      "210/210 [==============================] - 40s 190ms/step - loss: 0.5034 - accuracy: 0.8077 - val_loss: 1.1287 - val_accuracy: 0.7250 - lr: 0.0010\n",
      "Epoch 8/25\n",
      "210/210 [==============================] - ETA: 0s - loss: 0.4862 - accuracy: 0.8190\n",
      "Epoch 8: val_loss improved from 0.87981 to 0.71723, saving model to ./checkpoints/V4.0.1\\FOLD-2\n",
      "INFO:tensorflow:Assets written to: ./checkpoints/V4.0.1\\FOLD-2\\assets\n"
     ]
    },
    {
     "name": "stderr",
     "output_type": "stream",
     "text": [
      "INFO:tensorflow:Assets written to: ./checkpoints/V4.0.1\\FOLD-2\\assets\n"
     ]
    },
    {
     "name": "stdout",
     "output_type": "stream",
     "text": [
      "210/210 [==============================] - 43s 204ms/step - loss: 0.4862 - accuracy: 0.8190 - val_loss: 0.7172 - val_accuracy: 0.7833 - lr: 0.0010\n",
      "Epoch 9/25\n",
      "210/210 [==============================] - ETA: 0s - loss: 0.4705 - accuracy: 0.8238\n",
      "Epoch 9: val_loss did not improve from 0.71723\n",
      "210/210 [==============================] - 38s 179ms/step - loss: 0.4705 - accuracy: 0.8238 - val_loss: 0.8787 - val_accuracy: 0.7625 - lr: 0.0010\n",
      "Epoch 10/25\n",
      "210/210 [==============================] - ETA: 0s - loss: 0.4402 - accuracy: 0.8286\n",
      "Epoch 10: val_loss improved from 0.71723 to 0.69581, saving model to ./checkpoints/V4.0.1\\FOLD-2\n",
      "INFO:tensorflow:Assets written to: ./checkpoints/V4.0.1\\FOLD-2\\assets\n"
     ]
    },
    {
     "name": "stderr",
     "output_type": "stream",
     "text": [
      "INFO:tensorflow:Assets written to: ./checkpoints/V4.0.1\\FOLD-2\\assets\n"
     ]
    },
    {
     "name": "stdout",
     "output_type": "stream",
     "text": [
      "210/210 [==============================] - 43s 204ms/step - loss: 0.4402 - accuracy: 0.8286 - val_loss: 0.6958 - val_accuracy: 0.7542 - lr: 0.0010\n",
      "Epoch 11/25\n",
      "210/210 [==============================] - ETA: 0s - loss: 0.4361 - accuracy: 0.8310\n",
      "Epoch 11: val_loss did not improve from 0.69581\n",
      "210/210 [==============================] - 39s 187ms/step - loss: 0.4361 - accuracy: 0.8310 - val_loss: 0.7003 - val_accuracy: 0.7292 - lr: 0.0010\n",
      "Epoch 12/25\n",
      "210/210 [==============================] - ETA: 0s - loss: 0.3586 - accuracy: 0.8631\n",
      "Epoch 12: val_loss did not improve from 0.69581\n",
      "210/210 [==============================] - 36s 173ms/step - loss: 0.3586 - accuracy: 0.8631 - val_loss: 1.3142 - val_accuracy: 0.5708 - lr: 0.0010\n",
      "Epoch 13/25\n",
      "210/210 [==============================] - ETA: 0s - loss: 0.4164 - accuracy: 0.8440\n",
      "Epoch 13: val_loss improved from 0.69581 to 0.53611, saving model to ./checkpoints/V4.0.1\\FOLD-2\n",
      "INFO:tensorflow:Assets written to: ./checkpoints/V4.0.1\\FOLD-2\\assets\n"
     ]
    },
    {
     "name": "stderr",
     "output_type": "stream",
     "text": [
      "INFO:tensorflow:Assets written to: ./checkpoints/V4.0.1\\FOLD-2\\assets\n"
     ]
    },
    {
     "name": "stdout",
     "output_type": "stream",
     "text": [
      "210/210 [==============================] - 42s 198ms/step - loss: 0.4164 - accuracy: 0.8440 - val_loss: 0.5361 - val_accuracy: 0.8125 - lr: 0.0010\n",
      "Epoch 14/25\n",
      "210/210 [==============================] - ETA: 0s - loss: 0.3887 - accuracy: 0.8673\n",
      "Epoch 14: val_loss did not improve from 0.53611\n",
      "210/210 [==============================] - 37s 174ms/step - loss: 0.3887 - accuracy: 0.8673 - val_loss: 4.1664 - val_accuracy: 0.4417 - lr: 0.0010\n",
      "Epoch 15/25\n",
      "210/210 [==============================] - ETA: 0s - loss: 0.3823 - accuracy: 0.8613\n",
      "Epoch 15: val_loss did not improve from 0.53611\n",
      "210/210 [==============================] - 37s 175ms/step - loss: 0.3823 - accuracy: 0.8613 - val_loss: 1.1229 - val_accuracy: 0.6500 - lr: 0.0010\n",
      "Epoch 16/25\n",
      "210/210 [==============================] - ETA: 0s - loss: 0.3779 - accuracy: 0.8667\n",
      "Epoch 16: val_loss did not improve from 0.53611\n",
      "210/210 [==============================] - 36s 174ms/step - loss: 0.3779 - accuracy: 0.8667 - val_loss: 0.6416 - val_accuracy: 0.7708 - lr: 0.0010\n",
      "Epoch 17/25\n",
      "210/210 [==============================] - ETA: 0s - loss: 0.3509 - accuracy: 0.8708\n",
      "Epoch 17: val_loss did not improve from 0.53611\n",
      "210/210 [==============================] - 36s 171ms/step - loss: 0.3509 - accuracy: 0.8708 - val_loss: 1.8685 - val_accuracy: 0.5583 - lr: 0.0010\n",
      "Epoch 18/25\n",
      "210/210 [==============================] - ETA: 0s - loss: 0.3333 - accuracy: 0.8714\n",
      "Epoch 18: ReduceLROnPlateau reducing learning rate to 0.0006000000284984708.\n",
      "\n",
      "Epoch 18: val_loss did not improve from 0.53611\n",
      "210/210 [==============================] - 36s 170ms/step - loss: 0.3333 - accuracy: 0.8714 - val_loss: 1.5018 - val_accuracy: 0.6583 - lr: 0.0010\n",
      "Epoch 19/25\n",
      "210/210 [==============================] - ETA: 0s - loss: 0.2622 - accuracy: 0.9006\n",
      "Epoch 19: val_loss improved from 0.53611 to 0.35641, saving model to ./checkpoints/V4.0.1\\FOLD-2\n",
      "INFO:tensorflow:Assets written to: ./checkpoints/V4.0.1\\FOLD-2\\assets\n"
     ]
    },
    {
     "name": "stderr",
     "output_type": "stream",
     "text": [
      "INFO:tensorflow:Assets written to: ./checkpoints/V4.0.1\\FOLD-2\\assets\n"
     ]
    },
    {
     "name": "stdout",
     "output_type": "stream",
     "text": [
      "210/210 [==============================] - 41s 193ms/step - loss: 0.2622 - accuracy: 0.9006 - val_loss: 0.3564 - val_accuracy: 0.8792 - lr: 6.0000e-04\n",
      "Epoch 20/25\n",
      "210/210 [==============================] - ETA: 0s - loss: 0.2560 - accuracy: 0.9006\n",
      "Epoch 20: val_loss did not improve from 0.35641\n",
      "210/210 [==============================] - 35s 169ms/step - loss: 0.2560 - accuracy: 0.9006 - val_loss: 0.5596 - val_accuracy: 0.8208 - lr: 6.0000e-04\n",
      "Epoch 21/25\n",
      "210/210 [==============================] - ETA: 0s - loss: 0.2790 - accuracy: 0.8946\n",
      "Epoch 21: val_loss did not improve from 0.35641\n",
      "210/210 [==============================] - 36s 170ms/step - loss: 0.2790 - accuracy: 0.8946 - val_loss: 0.5575 - val_accuracy: 0.8333 - lr: 6.0000e-04\n",
      "Epoch 22/25\n",
      "210/210 [==============================] - ETA: 0s - loss: 0.2513 - accuracy: 0.9060\n",
      "Epoch 22: val_loss did not improve from 0.35641\n",
      "210/210 [==============================] - 37s 176ms/step - loss: 0.2513 - accuracy: 0.9060 - val_loss: 0.7098 - val_accuracy: 0.8250 - lr: 6.0000e-04\n",
      "Epoch 23/25\n",
      "210/210 [==============================] - ETA: 0s - loss: 0.2778 - accuracy: 0.8958\n",
      "Epoch 23: val_loss did not improve from 0.35641\n",
      "210/210 [==============================] - 37s 175ms/step - loss: 0.2778 - accuracy: 0.8958 - val_loss: 0.6726 - val_accuracy: 0.7750 - lr: 6.0000e-04\n",
      "Epoch 24/25\n",
      "210/210 [==============================] - ETA: 0s - loss: 0.2556 - accuracy: 0.9048\n",
      "Epoch 24: ReduceLROnPlateau reducing learning rate to 0.0003600000170990825.\n",
      "\n",
      "Epoch 24: val_loss did not improve from 0.35641\n",
      "210/210 [==============================] - 37s 175ms/step - loss: 0.2556 - accuracy: 0.9048 - val_loss: 0.7475 - val_accuracy: 0.7875 - lr: 6.0000e-04\n",
      "Epoch 25/25\n",
      "210/210 [==============================] - ETA: 0s - loss: 0.2155 - accuracy: 0.9149\n",
      "Epoch 25: val_loss did not improve from 0.35641\n",
      "210/210 [==============================] - 36s 172ms/step - loss: 0.2155 - accuracy: 0.9149 - val_loss: 0.4774 - val_accuracy: 0.8792 - lr: 3.6000e-04\n"
     ]
    },
    {
     "data": {
      "image/png": "[encoded data removed]",
      "text/plain": [
       "<Figure size 300x200 with 1 Axes>"
      ]
     },
     "metadata": {},
     "output_type": "display_data"
    },
    {
     "data": {
      "image/png": "[encoded data removed]",
      "text/plain": [
       "<Figure size 300x200 with 1 Axes>"
      ]
     },
     "metadata": {},
     "output_type": "display_data"
    },
    {
     "name": "stdout",
     "output_type": "stream",
     "text": [
      "Fold Training Time: 0 hour(s) and 16 mins\n",
      "Precision: 87.76371479034424  -  Recall: 86.66666746139526\n",
      "Accuracy: 87.91666626930237\n",
      "F1Score: Building 86.4000015258789 | Plant 89.39393615722656 | Road 88.8888931274414 | Vehicle 86.9565200805664\n",
      "[neptune] [info   ] Shutting down background jobs, please wait a moment...\n",
      "[neptune] [info   ] Done!\n",
      "[neptune] [info   ] Neptune initialized. Open in the app: offline/60294491-a32c-4a99-a274-0e2c3781492d\n",
      "Epoch 1/25\n",
      "210/210 [==============================] - ETA: 0s - loss: 1.5730 - accuracy: 0.6292\n",
      "Epoch 1: val_loss improved from inf to 2.18379, saving model to ./checkpoints/V4.0.1\\FOLD-3\n",
      "INFO:tensorflow:Assets written to: ./checkpoints/V4.0.1\\FOLD-3\\assets\n"
     ]
    },
    {
     "name": "stderr",
     "output_type": "stream",
     "text": [
      "INFO:tensorflow:Assets written to: ./checkpoints/V4.0.1\\FOLD-3\\assets\n"
     ]
    },
    {
     "name": "stdout",
     "output_type": "stream",
     "text": [
      "210/210 [==============================] - 46s 201ms/step - loss: 1.5730 - accuracy: 0.6292 - val_loss: 2.1838 - val_accuracy: 0.3333 - lr: 0.0010\n",
      "Epoch 2/25\n",
      "210/210 [==============================] - ETA: 0s - loss: 0.8285 - accuracy: 0.7030\n",
      "Epoch 2: val_loss improved from 2.18379 to 1.22728, saving model to ./checkpoints/V4.0.1\\FOLD-3\n",
      "INFO:tensorflow:Assets written to: ./checkpoints/V4.0.1\\FOLD-3\\assets\n"
     ]
    },
    {
     "name": "stderr",
     "output_type": "stream",
     "text": [
      "INFO:tensorflow:Assets written to: ./checkpoints/V4.0.1\\FOLD-3\\assets\n"
     ]
    },
    {
     "name": "stdout",
     "output_type": "stream",
     "text": [
      "210/210 [==============================] - 40s 191ms/step - loss: 0.8285 - accuracy: 0.7030 - val_loss: 1.2273 - val_accuracy: 0.5167 - lr: 0.0010\n",
      "Epoch 3/25\n",
      "210/210 [==============================] - ETA: 0s - loss: 0.6523 - accuracy: 0.7446\n",
      "Epoch 3: val_loss improved from 1.22728 to 0.65263, saving model to ./checkpoints/V4.0.1\\FOLD-3\n",
      "INFO:tensorflow:Assets written to: ./checkpoints/V4.0.1\\FOLD-3\\assets\n"
     ]
    },
    {
     "name": "stderr",
     "output_type": "stream",
     "text": [
      "INFO:tensorflow:Assets written to: ./checkpoints/V4.0.1\\FOLD-3\\assets\n"
     ]
    },
    {
     "name": "stdout",
     "output_type": "stream",
     "text": [
      "210/210 [==============================] - 40s 192ms/step - loss: 0.6523 - accuracy: 0.7446 - val_loss: 0.6526 - val_accuracy: 0.7083 - lr: 0.0010\n",
      "Epoch 4/25\n",
      "210/210 [==============================] - ETA: 0s - loss: 0.5610 - accuracy: 0.7786\n",
      "Epoch 4: val_loss improved from 0.65263 to 0.56955, saving model to ./checkpoints/V4.0.1\\FOLD-3\n",
      "INFO:tensorflow:Assets written to: ./checkpoints/V4.0.1\\FOLD-3\\assets\n"
     ]
    },
    {
     "name": "stderr",
     "output_type": "stream",
     "text": [
      "INFO:tensorflow:Assets written to: ./checkpoints/V4.0.1\\FOLD-3\\assets\n"
     ]
    },
    {
     "name": "stdout",
     "output_type": "stream",
     "text": [
      "210/210 [==============================] - 44s 208ms/step - loss: 0.5610 - accuracy: 0.7786 - val_loss: 0.5696 - val_accuracy: 0.7583 - lr: 0.0010\n",
      "Epoch 5/25\n",
      "210/210 [==============================] - ETA: 0s - loss: 0.4836 - accuracy: 0.8119\n",
      "Epoch 5: val_loss did not improve from 0.56955\n",
      "210/210 [==============================] - 39s 188ms/step - loss: 0.4836 - accuracy: 0.8119 - val_loss: 1.3761 - val_accuracy: 0.5875 - lr: 0.0010\n",
      "Epoch 6/25\n",
      "210/210 [==============================] - ETA: 0s - loss: 0.5410 - accuracy: 0.7988\n",
      "Epoch 6: val_loss improved from 0.56955 to 0.56031, saving model to ./checkpoints/V4.0.1\\FOLD-3\n",
      "INFO:tensorflow:Assets written to: ./checkpoints/V4.0.1\\FOLD-3\\assets\n"
     ]
    },
    {
     "name": "stderr",
     "output_type": "stream",
     "text": [
      "INFO:tensorflow:Assets written to: ./checkpoints/V4.0.1\\FOLD-3\\assets\n"
     ]
    },
    {
     "name": "stdout",
     "output_type": "stream",
     "text": [
      "210/210 [==============================] - 44s 211ms/step - loss: 0.5410 - accuracy: 0.7988 - val_loss: 0.5603 - val_accuracy: 0.7958 - lr: 0.0010\n",
      "Epoch 7/25\n",
      "210/210 [==============================] - ETA: 0s - loss: 0.4235 - accuracy: 0.8327\n",
      "Epoch 7: val_loss did not improve from 0.56031\n",
      "210/210 [==============================] - 40s 189ms/step - loss: 0.4235 - accuracy: 0.8327 - val_loss: 1.2070 - val_accuracy: 0.6417 - lr: 0.0010\n",
      "Epoch 8/25\n",
      "210/210 [==============================] - ETA: 0s - loss: 0.4289 - accuracy: 0.8393\n",
      "Epoch 8: val_loss improved from 0.56031 to 0.42160, saving model to ./checkpoints/V4.0.1\\FOLD-3\n",
      "INFO:tensorflow:Assets written to: ./checkpoints/V4.0.1\\FOLD-3\\assets\n"
     ]
    },
    {
     "name": "stderr",
     "output_type": "stream",
     "text": [
      "INFO:tensorflow:Assets written to: ./checkpoints/V4.0.1\\FOLD-3\\assets\n"
     ]
    },
    {
     "name": "stdout",
     "output_type": "stream",
     "text": [
      "210/210 [==============================] - 46s 217ms/step - loss: 0.4289 - accuracy: 0.8393 - val_loss: 0.4216 - val_accuracy: 0.8167 - lr: 0.0010\n",
      "Epoch 9/25\n",
      "210/210 [==============================] - ETA: 0s - loss: 0.4392 - accuracy: 0.8274\n",
      "Epoch 9: val_loss did not improve from 0.42160\n",
      "210/210 [==============================] - 40s 188ms/step - loss: 0.4392 - accuracy: 0.8274 - val_loss: 0.4914 - val_accuracy: 0.8333 - lr: 0.0010\n",
      "Epoch 10/25\n",
      "210/210 [==============================] - ETA: 0s - loss: 0.3694 - accuracy: 0.8589\n",
      "Epoch 10: val_loss did not improve from 0.42160\n",
      "210/210 [==============================] - 39s 183ms/step - loss: 0.3694 - accuracy: 0.8589 - val_loss: 0.5723 - val_accuracy: 0.7667 - lr: 0.0010\n",
      "Epoch 11/25\n",
      "210/210 [==============================] - ETA: 0s - loss: 0.4306 - accuracy: 0.8339\n",
      "Epoch 11: val_loss did not improve from 0.42160\n",
      "210/210 [==============================] - 40s 188ms/step - loss: 0.4306 - accuracy: 0.8339 - val_loss: 0.6320 - val_accuracy: 0.7750 - lr: 0.0010\n",
      "Epoch 12/25\n",
      "210/210 [==============================] - ETA: 0s - loss: 0.3487 - accuracy: 0.8649\n",
      "Epoch 12: val_loss did not improve from 0.42160\n",
      "210/210 [==============================] - 38s 179ms/step - loss: 0.3487 - accuracy: 0.8649 - val_loss: 1.0895 - val_accuracy: 0.6333 - lr: 0.0010\n",
      "Epoch 13/25\n",
      "210/210 [==============================] - ETA: 0s - loss: 0.3860 - accuracy: 0.8560\n",
      "Epoch 13: val_loss improved from 0.42160 to 0.34851, saving model to ./checkpoints/V4.0.1\\FOLD-3\n",
      "INFO:tensorflow:Assets written to: ./checkpoints/V4.0.1\\FOLD-3\\assets\n"
     ]
    },
    {
     "name": "stderr",
     "output_type": "stream",
     "text": [
      "INFO:tensorflow:Assets written to: ./checkpoints/V4.0.1\\FOLD-3\\assets\n"
     ]
    },
    {
     "name": "stdout",
     "output_type": "stream",
     "text": [
      "210/210 [==============================] - 41s 195ms/step - loss: 0.3860 - accuracy: 0.8560 - val_loss: 0.3485 - val_accuracy: 0.8708 - lr: 0.0010\n",
      "Epoch 14/25\n",
      "210/210 [==============================] - ETA: 0s - loss: 0.3245 - accuracy: 0.8667\n",
      "Epoch 14: val_loss did not improve from 0.34851\n",
      "210/210 [==============================] - 39s 186ms/step - loss: 0.3245 - accuracy: 0.8667 - val_loss: 0.8090 - val_accuracy: 0.7583 - lr: 0.0010\n",
      "Epoch 15/25\n",
      "210/210 [==============================] - ETA: 0s - loss: 0.3620 - accuracy: 0.8649\n",
      "Epoch 15: val_loss did not improve from 0.34851\n",
      "210/210 [==============================] - 37s 176ms/step - loss: 0.3620 - accuracy: 0.8649 - val_loss: 0.6410 - val_accuracy: 0.7417 - lr: 0.0010\n",
      "Epoch 16/25\n",
      "210/210 [==============================] - ETA: 0s - loss: 0.3285 - accuracy: 0.8756\n",
      "Epoch 16: val_loss did not improve from 0.34851\n",
      "210/210 [==============================] - 39s 185ms/step - loss: 0.3285 - accuracy: 0.8756 - val_loss: 1.0874 - val_accuracy: 0.6792 - lr: 0.0010\n",
      "Epoch 17/25\n",
      "210/210 [==============================] - ETA: 0s - loss: 0.3455 - accuracy: 0.8679\n",
      "Epoch 17: val_loss did not improve from 0.34851\n",
      "210/210 [==============================] - 37s 175ms/step - loss: 0.3455 - accuracy: 0.8679 - val_loss: 0.8377 - val_accuracy: 0.7000 - lr: 0.0010\n",
      "Epoch 18/25\n",
      "210/210 [==============================] - ETA: 0s - loss: 0.3216 - accuracy: 0.8762\n",
      "Epoch 18: ReduceLROnPlateau reducing learning rate to 0.0006000000284984708.\n",
      "\n",
      "Epoch 18: val_loss did not improve from 0.34851\n",
      "210/210 [==============================] - 37s 174ms/step - loss: 0.3216 - accuracy: 0.8762 - val_loss: 0.6157 - val_accuracy: 0.7875 - lr: 0.0010\n",
      "Epoch 19/25\n",
      "210/210 [==============================] - ETA: 0s - loss: 0.2635 - accuracy: 0.9006\n",
      "Epoch 19: val_loss did not improve from 0.34851\n",
      "210/210 [==============================] - 36s 170ms/step - loss: 0.2635 - accuracy: 0.9006 - val_loss: 0.3812 - val_accuracy: 0.8375 - lr: 6.0000e-04\n",
      "Epoch 20/25\n",
      "210/210 [==============================] - ETA: 0s - loss: 0.2435 - accuracy: 0.8994\n",
      "Epoch 20: val_loss did not improve from 0.34851\n",
      "210/210 [==============================] - 35s 168ms/step - loss: 0.2435 - accuracy: 0.8994 - val_loss: 0.5148 - val_accuracy: 0.8375 - lr: 6.0000e-04\n",
      "Epoch 21/25\n",
      "210/210 [==============================] - ETA: 0s - loss: 0.2441 - accuracy: 0.9101\n",
      "Epoch 21: val_loss did not improve from 0.34851\n",
      "210/210 [==============================] - 39s 185ms/step - loss: 0.2441 - accuracy: 0.9101 - val_loss: 0.3679 - val_accuracy: 0.8542 - lr: 6.0000e-04\n",
      "Epoch 22/25\n",
      "210/210 [==============================] - ETA: 0s - loss: 0.2413 - accuracy: 0.9131\n",
      "Epoch 22: val_loss did not improve from 0.34851\n",
      "210/210 [==============================] - 36s 173ms/step - loss: 0.2413 - accuracy: 0.9131 - val_loss: 0.5622 - val_accuracy: 0.7917 - lr: 6.0000e-04\n",
      "Epoch 23/25\n",
      "210/210 [==============================] - ETA: 0s - loss: 0.2300 - accuracy: 0.9173\n",
      "Epoch 23: ReduceLROnPlateau reducing learning rate to 0.0003600000170990825.\n",
      "\n",
      "Epoch 23: val_loss did not improve from 0.34851\n",
      "210/210 [==============================] - 38s 183ms/step - loss: 0.2300 - accuracy: 0.9173 - val_loss: 0.4871 - val_accuracy: 0.8208 - lr: 6.0000e-04\n",
      "Epoch 24/25\n",
      "210/210 [==============================] - ETA: 0s - loss: 0.1882 - accuracy: 0.9298\n",
      "Epoch 24: val_loss did not improve from 0.34851\n",
      "210/210 [==============================] - 40s 191ms/step - loss: 0.1882 - accuracy: 0.9298 - val_loss: 0.5170 - val_accuracy: 0.7833 - lr: 3.6000e-04\n",
      "Epoch 25/25\n",
      "210/210 [==============================] - ETA: 0s - loss: 0.1968 - accuracy: 0.9274\n",
      "Epoch 25: val_loss did not improve from 0.34851\n",
      "210/210 [==============================] - 42s 202ms/step - loss: 0.1968 - accuracy: 0.9274 - val_loss: 0.5882 - val_accuracy: 0.7833 - lr: 3.6000e-04\n"
     ]
    },
    {
     "data": {
      "image/png": "[encoded data removed]",
      "text/plain": [
       "<Figure size 300x200 with 1 Axes>"
      ]
     },
     "metadata": {},
     "output_type": "display_data"
    },
    {
     "data": {
      "image/png": "[encoded data removed]",
      "text/plain": [
       "<Figure size 300x200 with 1 Axes>"
      ]
     },
     "metadata": {},
     "output_type": "display_data"
    },
    {
     "name": "stdout",
     "output_type": "stream",
     "text": [
      "Fold Training Time: 0 hour(s) and 16 mins\n",
      "Precision: 87.76371479034424  -  Recall: 86.66666746139526\n",
      "Accuracy: 87.08333373069763\n",
      "F1Score: Building 80.67227172851562 | Plant 91.47286224365234 | Road 92.98246002197266 | Vehicle 83.05084991455078\n",
      "[neptune] [info   ] Shutting down background jobs, please wait a moment...\n",
      "[neptune] [info   ] Done!\n",
      "[neptune] [info   ] Neptune initialized. Open in the app: offline/a860dde7-6a16-428b-b187-da337190394c\n",
      "Epoch 1/25\n",
      "210/210 [==============================] - ETA: 0s - loss: 2.0803 - accuracy: 0.5946\n",
      "Epoch 1: val_loss improved from inf to 2.76596, saving model to ./checkpoints/V4.0.1\\FOLD-4\n",
      "INFO:tensorflow:Assets written to: ./checkpoints/V4.0.1\\FOLD-4\\assets\n"
     ]
    },
    {
     "name": "stderr",
     "output_type": "stream",
     "text": [
      "INFO:tensorflow:Assets written to: ./checkpoints/V4.0.1\\FOLD-4\\assets\n"
     ]
    },
    {
     "name": "stdout",
     "output_type": "stream",
     "text": [
      "210/210 [==============================] - 50s 218ms/step - loss: 2.0803 - accuracy: 0.5946 - val_loss: 2.7660 - val_accuracy: 0.2792 - lr: 0.0010\n",
      "Epoch 2/25\n",
      "210/210 [==============================] - ETA: 0s - loss: 0.7480 - accuracy: 0.7226\n",
      "Epoch 2: val_loss improved from 2.76596 to 1.65915, saving model to ./checkpoints/V4.0.1\\FOLD-4\n",
      "INFO:tensorflow:Assets written to: ./checkpoints/V4.0.1\\FOLD-4\\assets\n"
     ]
    },
    {
     "name": "stderr",
     "output_type": "stream",
     "text": [
      "INFO:tensorflow:Assets written to: ./checkpoints/V4.0.1\\FOLD-4\\assets\n"
     ]
    },
    {
     "name": "stdout",
     "output_type": "stream",
     "text": [
      "210/210 [==============================] - 42s 200ms/step - loss: 0.7480 - accuracy: 0.7226 - val_loss: 1.6592 - val_accuracy: 0.3875 - lr: 0.0010\n",
      "Epoch 3/25\n",
      "210/210 [==============================] - ETA: 0s - loss: 0.6242 - accuracy: 0.7571\n",
      "Epoch 3: val_loss improved from 1.65915 to 0.77363, saving model to ./checkpoints/V4.0.1\\FOLD-4\n",
      "INFO:tensorflow:Assets written to: ./checkpoints/V4.0.1\\FOLD-4\\assets\n"
     ]
    },
    {
     "name": "stderr",
     "output_type": "stream",
     "text": [
      "INFO:tensorflow:Assets written to: ./checkpoints/V4.0.1\\FOLD-4\\assets\n"
     ]
    },
    {
     "name": "stdout",
     "output_type": "stream",
     "text": [
      "210/210 [==============================] - 41s 196ms/step - loss: 0.6242 - accuracy: 0.7571 - val_loss: 0.7736 - val_accuracy: 0.7000 - lr: 0.0010\n",
      "Epoch 4/25\n",
      "210/210 [==============================] - ETA: 0s - loss: 0.5518 - accuracy: 0.7887\n",
      "Epoch 4: val_loss did not improve from 0.77363\n",
      "210/210 [==============================] - 36s 170ms/step - loss: 0.5518 - accuracy: 0.7887 - val_loss: 0.8930 - val_accuracy: 0.6292 - lr: 0.0010\n",
      "Epoch 5/25\n",
      "210/210 [==============================] - ETA: 0s - loss: 0.5369 - accuracy: 0.7845\n",
      "Epoch 5: val_loss improved from 0.77363 to 0.69136, saving model to ./checkpoints/V4.0.1\\FOLD-4\n",
      "INFO:tensorflow:Assets written to: ./checkpoints/V4.0.1\\FOLD-4\\assets\n"
     ]
    },
    {
     "name": "stderr",
     "output_type": "stream",
     "text": [
      "INFO:tensorflow:Assets written to: ./checkpoints/V4.0.1\\FOLD-4\\assets\n"
     ]
    },
    {
     "name": "stdout",
     "output_type": "stream",
     "text": [
      "210/210 [==============================] - 43s 205ms/step - loss: 0.5369 - accuracy: 0.7845 - val_loss: 0.6914 - val_accuracy: 0.7292 - lr: 0.0010\n",
      "Epoch 6/25\n",
      "210/210 [==============================] - ETA: 0s - loss: 0.5237 - accuracy: 0.8000\n",
      "Epoch 6: val_loss did not improve from 0.69136\n",
      "210/210 [==============================] - 41s 195ms/step - loss: 0.5237 - accuracy: 0.8000 - val_loss: 1.5688 - val_accuracy: 0.4958 - lr: 0.0010\n",
      "Epoch 7/25\n",
      "210/210 [==============================] - ETA: 0s - loss: 0.4910 - accuracy: 0.8125\n",
      "Epoch 7: val_loss improved from 0.69136 to 0.54926, saving model to ./checkpoints/V4.0.1\\FOLD-4\n",
      "INFO:tensorflow:Assets written to: ./checkpoints/V4.0.1\\FOLD-4\\assets\n"
     ]
    },
    {
     "name": "stderr",
     "output_type": "stream",
     "text": [
      "INFO:tensorflow:Assets written to: ./checkpoints/V4.0.1\\FOLD-4\\assets\n"
     ]
    },
    {
     "name": "stdout",
     "output_type": "stream",
     "text": [
      "210/210 [==============================] - 50s 235ms/step - loss: 0.4910 - accuracy: 0.8125 - val_loss: 0.5493 - val_accuracy: 0.8083 - lr: 0.0010\n",
      "Epoch 8/25\n",
      "210/210 [==============================] - ETA: 0s - loss: 0.4758 - accuracy: 0.8155\n",
      "Epoch 8: val_loss did not improve from 0.54926\n",
      "210/210 [==============================] - 38s 182ms/step - loss: 0.4758 - accuracy: 0.8155 - val_loss: 1.0060 - val_accuracy: 0.6333 - lr: 0.0010\n",
      "Epoch 9/25\n",
      "210/210 [==============================] - ETA: 0s - loss: 0.4995 - accuracy: 0.8107\n",
      "Epoch 9: val_loss did not improve from 0.54926\n",
      "210/210 [==============================] - 38s 180ms/step - loss: 0.4995 - accuracy: 0.8107 - val_loss: 1.0601 - val_accuracy: 0.6792 - lr: 0.0010\n",
      "Epoch 10/25\n",
      "210/210 [==============================] - ETA: 0s - loss: 0.4486 - accuracy: 0.8280\n",
      "Epoch 10: val_loss did not improve from 0.54926\n",
      "210/210 [==============================] - 41s 194ms/step - loss: 0.4486 - accuracy: 0.8280 - val_loss: 0.7756 - val_accuracy: 0.7958 - lr: 0.0010\n",
      "Epoch 11/25\n",
      "210/210 [==============================] - ETA: 0s - loss: 0.4359 - accuracy: 0.8399\n",
      "Epoch 11: val_loss improved from 0.54926 to 0.41330, saving model to ./checkpoints/V4.0.1\\FOLD-4\n",
      "INFO:tensorflow:Assets written to: ./checkpoints/V4.0.1\\FOLD-4\\assets\n"
     ]
    },
    {
     "name": "stderr",
     "output_type": "stream",
     "text": [
      "INFO:tensorflow:Assets written to: ./checkpoints/V4.0.1\\FOLD-4\\assets\n"
     ]
    },
    {
     "name": "stdout",
     "output_type": "stream",
     "text": [
      "210/210 [==============================] - 45s 213ms/step - loss: 0.4359 - accuracy: 0.8399 - val_loss: 0.4133 - val_accuracy: 0.8917 - lr: 0.0010\n",
      "Epoch 12/25\n",
      "210/210 [==============================] - ETA: 0s - loss: 0.4121 - accuracy: 0.8464\n",
      "Epoch 12: val_loss improved from 0.41330 to 0.38945, saving model to ./checkpoints/V4.0.1\\FOLD-4\n",
      "INFO:tensorflow:Assets written to: ./checkpoints/V4.0.1\\FOLD-4\\assets\n"
     ]
    },
    {
     "name": "stderr",
     "output_type": "stream",
     "text": [
      "INFO:tensorflow:Assets written to: ./checkpoints/V4.0.1\\FOLD-4\\assets\n"
     ]
    },
    {
     "name": "stdout",
     "output_type": "stream",
     "text": [
      "210/210 [==============================] - 44s 209ms/step - loss: 0.4121 - accuracy: 0.8464 - val_loss: 0.3895 - val_accuracy: 0.8625 - lr: 0.0010\n",
      "Epoch 13/25\n",
      "210/210 [==============================] - ETA: 0s - loss: 0.4168 - accuracy: 0.8458\n",
      "Epoch 13: val_loss did not improve from 0.38945\n",
      "210/210 [==============================] - 39s 184ms/step - loss: 0.4168 - accuracy: 0.8458 - val_loss: 1.2309 - val_accuracy: 0.5958 - lr: 0.0010\n",
      "Epoch 14/25\n",
      "210/210 [==============================] - ETA: 0s - loss: 0.3650 - accuracy: 0.8619\n",
      "Epoch 14: val_loss did not improve from 0.38945\n",
      "210/210 [==============================] - 39s 185ms/step - loss: 0.3650 - accuracy: 0.8619 - val_loss: 0.6253 - val_accuracy: 0.7667 - lr: 0.0010\n",
      "Epoch 15/25\n",
      "210/210 [==============================] - ETA: 0s - loss: 0.4179 - accuracy: 0.8524\n",
      "Epoch 15: val_loss did not improve from 0.38945\n",
      "210/210 [==============================] - 39s 188ms/step - loss: 0.4179 - accuracy: 0.8524 - val_loss: 0.8365 - val_accuracy: 0.8083 - lr: 0.0010\n",
      "Epoch 16/25\n",
      "210/210 [==============================] - ETA: 0s - loss: 0.3544 - accuracy: 0.8720\n",
      "Epoch 16: val_loss did not improve from 0.38945\n",
      "210/210 [==============================] - 37s 178ms/step - loss: 0.3544 - accuracy: 0.8720 - val_loss: 1.5345 - val_accuracy: 0.6333 - lr: 0.0010\n",
      "Epoch 17/25\n",
      "210/210 [==============================] - ETA: 0s - loss: 0.3509 - accuracy: 0.8679\n",
      "Epoch 17: ReduceLROnPlateau reducing learning rate to 0.0006000000284984708.\n",
      "\n",
      "Epoch 17: val_loss did not improve from 0.38945\n",
      "210/210 [==============================] - 38s 183ms/step - loss: 0.3509 - accuracy: 0.8679 - val_loss: 0.7000 - val_accuracy: 0.8000 - lr: 0.0010\n",
      "Epoch 18/25\n",
      "210/210 [==============================] - ETA: 0s - loss: 0.3091 - accuracy: 0.8863\n",
      "Epoch 18: val_loss did not improve from 0.38945\n",
      "210/210 [==============================] - 37s 174ms/step - loss: 0.3091 - accuracy: 0.8863 - val_loss: 0.4369 - val_accuracy: 0.8708 - lr: 6.0000e-04\n",
      "Epoch 19/25\n",
      "210/210 [==============================] - ETA: 0s - loss: 0.3110 - accuracy: 0.8798\n",
      "Epoch 19: val_loss did not improve from 0.38945\n",
      "210/210 [==============================] - 37s 175ms/step - loss: 0.3110 - accuracy: 0.8798 - val_loss: 0.4649 - val_accuracy: 0.8292 - lr: 6.0000e-04\n",
      "Epoch 20/25\n",
      "210/210 [==============================] - ETA: 0s - loss: 0.2802 - accuracy: 0.8917\n",
      "Epoch 20: val_loss did not improve from 0.38945\n",
      "210/210 [==============================] - 39s 186ms/step - loss: 0.2802 - accuracy: 0.8917 - val_loss: 0.3925 - val_accuracy: 0.8750 - lr: 6.0000e-04\n",
      "Epoch 21/25\n",
      "210/210 [==============================] - ETA: 0s - loss: 0.2934 - accuracy: 0.8911\n",
      "Epoch 21: val_loss did not improve from 0.38945\n",
      "210/210 [==============================] - 39s 188ms/step - loss: 0.2934 - accuracy: 0.8911 - val_loss: 0.6408 - val_accuracy: 0.7958 - lr: 6.0000e-04\n",
      "Epoch 22/25\n",
      "210/210 [==============================] - ETA: 0s - loss: 0.2769 - accuracy: 0.8970\n",
      "Epoch 22: ReduceLROnPlateau reducing learning rate to 0.0003600000170990825.\n",
      "\n",
      "Epoch 22: val_loss did not improve from 0.38945\n",
      "210/210 [==============================] - 39s 185ms/step - loss: 0.2769 - accuracy: 0.8970 - val_loss: 0.5767 - val_accuracy: 0.8167 - lr: 6.0000e-04\n",
      "Epoch 23/25\n",
      "210/210 [==============================] - ETA: 0s - loss: 0.2297 - accuracy: 0.9077\n",
      "Epoch 23: val_loss did not improve from 0.38945\n",
      "210/210 [==============================] - 38s 181ms/step - loss: 0.2297 - accuracy: 0.9077 - val_loss: 1.0329 - val_accuracy: 0.6542 - lr: 3.6000e-04\n",
      "Epoch 24/25\n",
      "210/210 [==============================] - ETA: 0s - loss: 0.2331 - accuracy: 0.9083\n",
      "Epoch 24: val_loss did not improve from 0.38945\n",
      "210/210 [==============================] - 38s 183ms/step - loss: 0.2331 - accuracy: 0.9083 - val_loss: 0.6903 - val_accuracy: 0.8250 - lr: 3.6000e-04\n",
      "Epoch 25/25\n",
      "210/210 [==============================] - ETA: 0s - loss: 0.2449 - accuracy: 0.9030\n",
      "Epoch 25: val_loss did not improve from 0.38945\n",
      "210/210 [==============================] - 37s 175ms/step - loss: 0.2449 - accuracy: 0.9030 - val_loss: 0.7637 - val_accuracy: 0.8042 - lr: 3.6000e-04\n"
     ]
    },
    {
     "data": {
      "image/png": "[encoded data removed]",
      "text/plain": [
       "<Figure size 300x200 with 1 Axes>"
      ]
     },
     "metadata": {},
     "output_type": "display_data"
    },
    {
     "data": {
      "image/png": "[encoded data removed]",
      "text/plain": [
       "<Figure size 300x200 with 1 Axes>"
      ]
     },
     "metadata": {},
     "output_type": "display_data"
    },
    {
     "name": "stdout",
     "output_type": "stream",
     "text": [
      "Fold Training Time: 0 hour(s) and 16 mins\n",
      "Precision: 87.06896305084229  -  Recall: 84.16666388511658\n",
      "Accuracy: 86.2500011920929\n",
      "F1Score: Building 77.04918670654297 | Plant 89.6551742553711 | Road 95.23809814453125 | Vehicle 82.75862121582031\n",
      "[neptune] [info   ] Shutting down background jobs, please wait a moment...\n",
      "[neptune] [info   ] Done!\n",
      "[neptune] [info   ] Neptune initialized. Open in the app: offline/8c0da323-127e-475d-809d-86cb0def1c11\n",
      "Epoch 1/25\n",
      "210/210 [==============================] - ETA: 0s - loss: 2.7241 - accuracy: 0.5875\n",
      "Epoch 1: val_loss improved from inf to 2.93816, saving model to ./checkpoints/V4.0.1\\FOLD-5\n",
      "INFO:tensorflow:Assets written to: ./checkpoints/V4.0.1\\FOLD-5\\assets\n"
     ]
    },
    {
     "name": "stderr",
     "output_type": "stream",
     "text": [
      "INFO:tensorflow:Assets written to: ./checkpoints/V4.0.1\\FOLD-5\\assets\n"
     ]
    },
    {
     "name": "stdout",
     "output_type": "stream",
     "text": [
      "210/210 [==============================] - 46s 199ms/step - loss: 2.7241 - accuracy: 0.5875 - val_loss: 2.9382 - val_accuracy: 0.4417 - lr: 0.0010\n",
      "Epoch 2/25\n",
      "210/210 [==============================] - ETA: 0s - loss: 0.9392 - accuracy: 0.7042\n",
      "Epoch 2: val_loss improved from 2.93816 to 0.59593, saving model to ./checkpoints/V4.0.1\\FOLD-5\n",
      "INFO:tensorflow:Assets written to: ./checkpoints/V4.0.1\\FOLD-5\\assets\n"
     ]
    },
    {
     "name": "stderr",
     "output_type": "stream",
     "text": [
      "INFO:tensorflow:Assets written to: ./checkpoints/V4.0.1\\FOLD-5\\assets\n"
     ]
    },
    {
     "name": "stdout",
     "output_type": "stream",
     "text": [
      "210/210 [==============================] - 41s 194ms/step - loss: 0.9392 - accuracy: 0.7042 - val_loss: 0.5959 - val_accuracy: 0.7542 - lr: 0.0010\n",
      "Epoch 3/25\n",
      "210/210 [==============================] - ETA: 0s - loss: 0.7531 - accuracy: 0.7399\n",
      "Epoch 3: val_loss improved from 0.59593 to 0.48217, saving model to ./checkpoints/V4.0.1\\FOLD-5\n",
      "INFO:tensorflow:Assets written to: ./checkpoints/V4.0.1\\FOLD-5\\assets\n"
     ]
    },
    {
     "name": "stderr",
     "output_type": "stream",
     "text": [
      "INFO:tensorflow:Assets written to: ./checkpoints/V4.0.1\\FOLD-5\\assets\n"
     ]
    },
    {
     "name": "stdout",
     "output_type": "stream",
     "text": [
      "210/210 [==============================] - 41s 197ms/step - loss: 0.7531 - accuracy: 0.7399 - val_loss: 0.4822 - val_accuracy: 0.8167 - lr: 0.0010\n",
      "Epoch 4/25\n",
      "210/210 [==============================] - ETA: 0s - loss: 0.6338 - accuracy: 0.7619\n",
      "Epoch 4: val_loss did not improve from 0.48217\n",
      "210/210 [==============================] - 37s 176ms/step - loss: 0.6338 - accuracy: 0.7619 - val_loss: 0.9137 - val_accuracy: 0.7042 - lr: 0.0010\n",
      "Epoch 5/25\n",
      "210/210 [==============================] - ETA: 0s - loss: 0.5558 - accuracy: 0.7875\n",
      "Epoch 5: val_loss did not improve from 0.48217\n",
      "210/210 [==============================] - 37s 175ms/step - loss: 0.5558 - accuracy: 0.7875 - val_loss: 2.7597 - val_accuracy: 0.4625 - lr: 0.0010\n",
      "Epoch 6/25\n",
      "210/210 [==============================] - ETA: 0s - loss: 0.5637 - accuracy: 0.7827\n",
      "Epoch 6: val_loss did not improve from 0.48217\n",
      "210/210 [==============================] - 37s 176ms/step - loss: 0.5637 - accuracy: 0.7827 - val_loss: 1.0936 - val_accuracy: 0.5917 - lr: 0.0010\n",
      "Epoch 7/25\n",
      "210/210 [==============================] - ETA: 0s - loss: 0.5304 - accuracy: 0.7869\n",
      "Epoch 7: val_loss did not improve from 0.48217\n",
      "210/210 [==============================] - 38s 179ms/step - loss: 0.5304 - accuracy: 0.7869 - val_loss: 0.7570 - val_accuracy: 0.7375 - lr: 0.0010\n",
      "Epoch 8/25\n",
      "210/210 [==============================] - ETA: 0s - loss: 0.5708 - accuracy: 0.7810\n",
      "Epoch 8: ReduceLROnPlateau reducing learning rate to 0.0006000000284984708.\n",
      "\n",
      "Epoch 8: val_loss did not improve from 0.48217\n",
      "210/210 [==============================] - 37s 178ms/step - loss: 0.5708 - accuracy: 0.7810 - val_loss: 1.8833 - val_accuracy: 0.4958 - lr: 0.0010\n",
      "Epoch 9/25\n",
      "210/210 [==============================] - ETA: 0s - loss: 0.4305 - accuracy: 0.8232\n",
      "Epoch 9: val_loss improved from 0.48217 to 0.37571, saving model to ./checkpoints/V4.0.1\\FOLD-5\n",
      "INFO:tensorflow:Assets written to: ./checkpoints/V4.0.1\\FOLD-5\\assets\n"
     ]
    },
    {
     "name": "stderr",
     "output_type": "stream",
     "text": [
      "INFO:tensorflow:Assets written to: ./checkpoints/V4.0.1\\FOLD-5\\assets\n"
     ]
    },
    {
     "name": "stdout",
     "output_type": "stream",
     "text": [
      "210/210 [==============================] - 44s 211ms/step - loss: 0.4305 - accuracy: 0.8232 - val_loss: 0.3757 - val_accuracy: 0.8667 - lr: 6.0000e-04\n",
      "Epoch 10/25\n",
      "210/210 [==============================] - ETA: 0s - loss: 0.3824 - accuracy: 0.8399\n",
      "Epoch 10: val_loss improved from 0.37571 to 0.33605, saving model to ./checkpoints/V4.0.1\\FOLD-5\n",
      "INFO:tensorflow:Assets written to: ./checkpoints/V4.0.1\\FOLD-5\\assets\n"
     ]
    },
    {
     "name": "stderr",
     "output_type": "stream",
     "text": [
      "INFO:tensorflow:Assets written to: ./checkpoints/V4.0.1\\FOLD-5\\assets\n"
     ]
    },
    {
     "name": "stdout",
     "output_type": "stream",
     "text": [
      "210/210 [==============================] - 44s 209ms/step - loss: 0.3824 - accuracy: 0.8399 - val_loss: 0.3360 - val_accuracy: 0.8875 - lr: 6.0000e-04\n",
      "Epoch 11/25\n",
      "210/210 [==============================] - ETA: 0s - loss: 0.3869 - accuracy: 0.8405\n",
      "Epoch 11: val_loss did not improve from 0.33605\n",
      "210/210 [==============================] - 37s 176ms/step - loss: 0.3869 - accuracy: 0.8405 - val_loss: 0.4127 - val_accuracy: 0.8542 - lr: 6.0000e-04\n",
      "Epoch 12/25\n",
      "210/210 [==============================] - ETA: 0s - loss: 0.3525 - accuracy: 0.8655\n",
      "Epoch 12: val_loss did not improve from 0.33605\n",
      "210/210 [==============================] - 37s 175ms/step - loss: 0.3525 - accuracy: 0.8655 - val_loss: 0.5222 - val_accuracy: 0.8125 - lr: 6.0000e-04\n",
      "Epoch 13/25\n",
      "210/210 [==============================] - ETA: 0s - loss: 0.4060 - accuracy: 0.8464\n",
      "Epoch 13: val_loss did not improve from 0.33605\n",
      "210/210 [==============================] - 38s 181ms/step - loss: 0.4060 - accuracy: 0.8464 - val_loss: 0.4011 - val_accuracy: 0.8500 - lr: 6.0000e-04\n",
      "Epoch 14/25\n",
      "210/210 [==============================] - ETA: 0s - loss: 0.3088 - accuracy: 0.8768\n",
      "Epoch 14: val_loss did not improve from 0.33605\n",
      "210/210 [==============================] - 37s 178ms/step - loss: 0.3088 - accuracy: 0.8768 - val_loss: 1.2391 - val_accuracy: 0.6417 - lr: 6.0000e-04\n",
      "Epoch 15/25\n",
      "210/210 [==============================] - ETA: 0s - loss: 0.3705 - accuracy: 0.8643\n",
      "Epoch 15: ReduceLROnPlateau reducing learning rate to 0.0003600000170990825.\n",
      "\n",
      "Epoch 15: val_loss did not improve from 0.33605\n",
      "210/210 [==============================] - 37s 176ms/step - loss: 0.3705 - accuracy: 0.8643 - val_loss: 0.4753 - val_accuracy: 0.8333 - lr: 6.0000e-04\n",
      "Epoch 16/25\n",
      "210/210 [==============================] - ETA: 0s - loss: 0.3076 - accuracy: 0.8815\n",
      "Epoch 16: val_loss improved from 0.33605 to 0.30968, saving model to ./checkpoints/V4.0.1\\FOLD-5\n",
      "INFO:tensorflow:Assets written to: ./checkpoints/V4.0.1\\FOLD-5\\assets\n"
     ]
    },
    {
     "name": "stderr",
     "output_type": "stream",
     "text": [
      "INFO:tensorflow:Assets written to: ./checkpoints/V4.0.1\\FOLD-5\\assets\n"
     ]
    },
    {
     "name": "stdout",
     "output_type": "stream",
     "text": [
      "210/210 [==============================] - 42s 200ms/step - loss: 0.3076 - accuracy: 0.8815 - val_loss: 0.3097 - val_accuracy: 0.8833 - lr: 3.6000e-04\n",
      "Epoch 17/25\n",
      "210/210 [==============================] - ETA: 0s - loss: 0.3046 - accuracy: 0.8899\n",
      "Epoch 17: val_loss did not improve from 0.30968\n",
      "210/210 [==============================] - 36s 173ms/step - loss: 0.3046 - accuracy: 0.8899 - val_loss: 0.6737 - val_accuracy: 0.7792 - lr: 3.6000e-04\n",
      "Epoch 18/25\n",
      "210/210 [==============================] - ETA: 0s - loss: 0.2719 - accuracy: 0.8970\n",
      "Epoch 18: val_loss did not improve from 0.30968\n",
      "210/210 [==============================] - 36s 173ms/step - loss: 0.2719 - accuracy: 0.8970 - val_loss: 0.4320 - val_accuracy: 0.8708 - lr: 3.6000e-04\n",
      "Epoch 19/25\n",
      "210/210 [==============================] - ETA: 0s - loss: 0.2903 - accuracy: 0.8792\n",
      "Epoch 19: val_loss did not improve from 0.30968\n",
      "210/210 [==============================] - 38s 182ms/step - loss: 0.2903 - accuracy: 0.8792 - val_loss: 0.7148 - val_accuracy: 0.7875 - lr: 3.6000e-04\n",
      "Epoch 20/25\n",
      "210/210 [==============================] - ETA: 0s - loss: 0.2725 - accuracy: 0.8935\n",
      "Epoch 20: val_loss did not improve from 0.30968\n",
      "210/210 [==============================] - 38s 183ms/step - loss: 0.2725 - accuracy: 0.8935 - val_loss: 0.4638 - val_accuracy: 0.8458 - lr: 3.6000e-04\n",
      "Epoch 21/25\n",
      "210/210 [==============================] - ETA: 0s - loss: 0.2970 - accuracy: 0.8917\n",
      "Epoch 21: ReduceLROnPlateau reducing learning rate to 0.00021600000327453016.\n",
      "\n",
      "Epoch 21: val_loss did not improve from 0.30968\n",
      "210/210 [==============================] - 38s 181ms/step - loss: 0.2970 - accuracy: 0.8917 - val_loss: 0.4334 - val_accuracy: 0.8250 - lr: 3.6000e-04\n",
      "Epoch 22/25\n",
      "210/210 [==============================] - ETA: 0s - loss: 0.2415 - accuracy: 0.9173\n",
      "Epoch 22: val_loss improved from 0.30968 to 0.27955, saving model to ./checkpoints/V4.0.1\\FOLD-5\n",
      "INFO:tensorflow:Assets written to: ./checkpoints/V4.0.1\\FOLD-5\\assets\n"
     ]
    },
    {
     "name": "stderr",
     "output_type": "stream",
     "text": [
      "INFO:tensorflow:Assets written to: ./checkpoints/V4.0.1\\FOLD-5\\assets\n"
     ]
    },
    {
     "name": "stdout",
     "output_type": "stream",
     "text": [
      "210/210 [==============================] - 42s 198ms/step - loss: 0.2415 - accuracy: 0.9173 - val_loss: 0.2795 - val_accuracy: 0.8958 - lr: 2.1600e-04\n",
      "Epoch 23/25\n",
      "210/210 [==============================] - ETA: 0s - loss: 0.2412 - accuracy: 0.9054\n",
      "Epoch 23: val_loss did not improve from 0.27955\n",
      "210/210 [==============================] - 37s 177ms/step - loss: 0.2412 - accuracy: 0.9054 - val_loss: 0.2870 - val_accuracy: 0.8917 - lr: 2.1600e-04\n",
      "Epoch 24/25\n",
      "210/210 [==============================] - ETA: 0s - loss: 0.2493 - accuracy: 0.9042\n",
      "Epoch 24: val_loss did not improve from 0.27955\n",
      "210/210 [==============================] - 39s 187ms/step - loss: 0.2493 - accuracy: 0.9042 - val_loss: 0.3340 - val_accuracy: 0.8750 - lr: 2.1600e-04\n",
      "Epoch 25/25\n",
      "210/210 [==============================] - ETA: 0s - loss: 0.2630 - accuracy: 0.9000\n",
      "Epoch 25: val_loss did not improve from 0.27955\n",
      "210/210 [==============================] - 37s 177ms/step - loss: 0.2630 - accuracy: 0.9000 - val_loss: 0.4071 - val_accuracy: 0.8375 - lr: 2.1600e-04\n"
     ]
    },
    {
     "data": {
      "image/png": "[encoded data removed]",
      "text/plain": [
       "<Figure size 300x200 with 1 Axes>"
      ]
     },
     "metadata": {},
     "output_type": "display_data"
    },
    {
     "data": {
      "image/png": "[encoded data removed]",
      "text/plain": [
       "<Figure size 300x200 with 1 Axes>"
      ]
     },
     "metadata": {},
     "output_type": "display_data"
    },
    {
     "name": "stdout",
     "output_type": "stream",
     "text": [
      "Fold Training Time: 0 hour(s) and 16 mins\n",
      "Precision: 91.02563858032227  -  Recall: 88.7499988079071\n",
      "Accuracy: 89.58333134651184\n",
      "F1Score: Building 83.60655212402344 | Plant 91.93547821044922 | Road 94.21487426757812 | Vehicle 88.49556732177734\n",
      "[neptune] [info   ] Shutting down background jobs, please wait a moment...\n",
      "[neptune] [info   ] Done!\n",
      "[neptune] [info   ] Neptune initialized. Open in the app: offline/5db6e564-3f67-414f-a90d-2ee59bedc3f7\n",
      "Epoch 1/25\n",
      "210/210 [==============================] - ETA: 0s - loss: 1.7623 - accuracy: 0.6042\n",
      "Epoch 1: val_loss improved from inf to 2.85527, saving model to ./checkpoints/V4.0.1\\FOLD-6\n",
      "INFO:tensorflow:Assets written to: ./checkpoints/V4.0.1\\FOLD-6\\assets\n"
     ]
    },
    {
     "name": "stderr",
     "output_type": "stream",
     "text": [
      "INFO:tensorflow:Assets written to: ./checkpoints/V4.0.1\\FOLD-6\\assets\n"
     ]
    },
    {
     "name": "stdout",
     "output_type": "stream",
     "text": [
      "210/210 [==============================] - 55s 243ms/step - loss: 1.7623 - accuracy: 0.6042 - val_loss: 2.8553 - val_accuracy: 0.4125 - lr: 0.0010\n",
      "Epoch 2/25\n",
      "210/210 [==============================] - ETA: 0s - loss: 0.7628 - accuracy: 0.6982\n",
      "Epoch 2: val_loss improved from 2.85527 to 0.78671, saving model to ./checkpoints/V4.0.1\\FOLD-6\n",
      "INFO:tensorflow:Assets written to: ./checkpoints/V4.0.1\\FOLD-6\\assets\n"
     ]
    },
    {
     "name": "stderr",
     "output_type": "stream",
     "text": [
      "INFO:tensorflow:Assets written to: ./checkpoints/V4.0.1\\FOLD-6\\assets\n"
     ]
    },
    {
     "name": "stdout",
     "output_type": "stream",
     "text": [
      "210/210 [==============================] - 45s 216ms/step - loss: 0.7628 - accuracy: 0.6982 - val_loss: 0.7867 - val_accuracy: 0.7333 - lr: 0.0010\n",
      "Epoch 3/25\n",
      "210/210 [==============================] - ETA: 0s - loss: 0.6623 - accuracy: 0.7381\n",
      "Epoch 3: val_loss did not improve from 0.78671\n",
      "210/210 [==============================] - 42s 201ms/step - loss: 0.6623 - accuracy: 0.7381 - val_loss: 1.2875 - val_accuracy: 0.5625 - lr: 0.0010\n",
      "Epoch 4/25\n",
      "210/210 [==============================] - ETA: 0s - loss: 0.6209 - accuracy: 0.7607\n",
      "Epoch 4: val_loss improved from 0.78671 to 0.74097, saving model to ./checkpoints/V4.0.1\\FOLD-6\n",
      "INFO:tensorflow:Assets written to: ./checkpoints/V4.0.1\\FOLD-6\\assets\n"
     ]
    },
    {
     "name": "stderr",
     "output_type": "stream",
     "text": [
      "INFO:tensorflow:Assets written to: ./checkpoints/V4.0.1\\FOLD-6\\assets\n"
     ]
    },
    {
     "name": "stdout",
     "output_type": "stream",
     "text": [
      "210/210 [==============================] - 46s 221ms/step - loss: 0.6209 - accuracy: 0.7607 - val_loss: 0.7410 - val_accuracy: 0.7500 - lr: 0.0010\n",
      "Epoch 5/25\n",
      "210/210 [==============================] - ETA: 0s - loss: 0.5740 - accuracy: 0.7768\n",
      "Epoch 5: val_loss improved from 0.74097 to 0.58954, saving model to ./checkpoints/V4.0.1\\FOLD-6\n",
      "INFO:tensorflow:Assets written to: ./checkpoints/V4.0.1\\FOLD-6\\assets\n"
     ]
    },
    {
     "name": "stderr",
     "output_type": "stream",
     "text": [
      "INFO:tensorflow:Assets written to: ./checkpoints/V4.0.1\\FOLD-6\\assets\n"
     ]
    },
    {
     "name": "stdout",
     "output_type": "stream",
     "text": [
      "210/210 [==============================] - 48s 231ms/step - loss: 0.5740 - accuracy: 0.7768 - val_loss: 0.5895 - val_accuracy: 0.7500 - lr: 0.0010\n",
      "Epoch 6/25\n",
      "210/210 [==============================] - ETA: 0s - loss: 0.5502 - accuracy: 0.7911\n",
      "Epoch 6: val_loss did not improve from 0.58954\n",
      "210/210 [==============================] - 42s 200ms/step - loss: 0.5502 - accuracy: 0.7911 - val_loss: 2.2550 - val_accuracy: 0.4625 - lr: 0.0010\n",
      "Epoch 7/25\n",
      "210/210 [==============================] - ETA: 0s - loss: 0.4745 - accuracy: 0.8107\n",
      "Epoch 7: val_loss did not improve from 0.58954\n",
      "210/210 [==============================] - 41s 197ms/step - loss: 0.4745 - accuracy: 0.8107 - val_loss: 0.6224 - val_accuracy: 0.8167 - lr: 0.0010\n",
      "Epoch 8/25\n",
      "210/210 [==============================] - ETA: 0s - loss: 0.4925 - accuracy: 0.8036\n",
      "Epoch 8: val_loss did not improve from 0.58954\n",
      "210/210 [==============================] - 40s 190ms/step - loss: 0.4925 - accuracy: 0.8036 - val_loss: 1.1679 - val_accuracy: 0.6292 - lr: 0.0010\n",
      "Epoch 9/25\n",
      "210/210 [==============================] - ETA: 0s - loss: 0.4469 - accuracy: 0.8333\n",
      "Epoch 9: val_loss did not improve from 0.58954\n",
      "210/210 [==============================] - 40s 190ms/step - loss: 0.4469 - accuracy: 0.8333 - val_loss: 1.2955 - val_accuracy: 0.6958 - lr: 0.0010\n",
      "Epoch 10/25\n",
      "210/210 [==============================] - ETA: 0s - loss: 0.5030 - accuracy: 0.8095\n",
      "Epoch 10: ReduceLROnPlateau reducing learning rate to 0.0006000000284984708.\n",
      "\n",
      "Epoch 10: val_loss did not improve from 0.58954\n",
      "210/210 [==============================] - 44s 207ms/step - loss: 0.5030 - accuracy: 0.8095 - val_loss: 1.1633 - val_accuracy: 0.5583 - lr: 0.0010\n",
      "Epoch 11/25\n",
      "210/210 [==============================] - ETA: 0s - loss: 0.3932 - accuracy: 0.8476\n",
      "Epoch 11: val_loss did not improve from 0.58954\n",
      "210/210 [==============================] - 44s 210ms/step - loss: 0.3932 - accuracy: 0.8476 - val_loss: 0.6328 - val_accuracy: 0.7500 - lr: 6.0000e-04\n",
      "Epoch 12/25\n",
      "210/210 [==============================] - ETA: 0s - loss: 0.3483 - accuracy: 0.8577\n",
      "Epoch 12: val_loss did not improve from 0.58954\n",
      "210/210 [==============================] - 44s 210ms/step - loss: 0.3483 - accuracy: 0.8577 - val_loss: 0.6917 - val_accuracy: 0.8000 - lr: 6.0000e-04\n",
      "Epoch 13/25\n",
      "210/210 [==============================] - ETA: 0s - loss: 0.3665 - accuracy: 0.8494\n",
      "Epoch 13: val_loss improved from 0.58954 to 0.49944, saving model to ./checkpoints/V4.0.1\\FOLD-6\n",
      "INFO:tensorflow:Assets written to: ./checkpoints/V4.0.1\\FOLD-6\\assets\n"
     ]
    },
    {
     "name": "stderr",
     "output_type": "stream",
     "text": [
      "INFO:tensorflow:Assets written to: ./checkpoints/V4.0.1\\FOLD-6\\assets\n"
     ]
    },
    {
     "name": "stdout",
     "output_type": "stream",
     "text": [
      "210/210 [==============================] - 47s 223ms/step - loss: 0.3665 - accuracy: 0.8494 - val_loss: 0.4994 - val_accuracy: 0.8750 - lr: 6.0000e-04\n",
      "Epoch 14/25\n",
      "210/210 [==============================] - ETA: 0s - loss: 0.3223 - accuracy: 0.8762\n",
      "Epoch 14: val_loss did not improve from 0.49944\n",
      "210/210 [==============================] - 36s 173ms/step - loss: 0.3223 - accuracy: 0.8762 - val_loss: 0.6070 - val_accuracy: 0.8083 - lr: 6.0000e-04\n",
      "Epoch 15/25\n",
      "210/210 [==============================] - ETA: 0s - loss: 0.3584 - accuracy: 0.8601\n",
      "Epoch 15: val_loss improved from 0.49944 to 0.46661, saving model to ./checkpoints/V4.0.1\\FOLD-6\n",
      "INFO:tensorflow:Assets written to: ./checkpoints/V4.0.1\\FOLD-6\\assets\n"
     ]
    },
    {
     "name": "stderr",
     "output_type": "stream",
     "text": [
      "INFO:tensorflow:Assets written to: ./checkpoints/V4.0.1\\FOLD-6\\assets\n"
     ]
    },
    {
     "name": "stdout",
     "output_type": "stream",
     "text": [
      "210/210 [==============================] - 51s 245ms/step - loss: 0.3584 - accuracy: 0.8601 - val_loss: 0.4666 - val_accuracy: 0.8417 - lr: 6.0000e-04\n",
      "Epoch 16/25\n",
      "210/210 [==============================] - ETA: 0s - loss: 0.3126 - accuracy: 0.8726\n",
      "Epoch 16: val_loss did not improve from 0.46661\n",
      "210/210 [==============================] - 43s 207ms/step - loss: 0.3126 - accuracy: 0.8726 - val_loss: 1.0677 - val_accuracy: 0.6417 - lr: 6.0000e-04\n",
      "Epoch 17/25\n",
      "210/210 [==============================] - ETA: 0s - loss: 0.3065 - accuracy: 0.8750\n",
      "Epoch 17: val_loss did not improve from 0.46661\n",
      "210/210 [==============================] - 45s 215ms/step - loss: 0.3065 - accuracy: 0.8750 - val_loss: 1.1049 - val_accuracy: 0.6500 - lr: 6.0000e-04\n",
      "Epoch 18/25\n",
      "210/210 [==============================] - ETA: 0s - loss: 0.3148 - accuracy: 0.8708\n",
      "Epoch 18: val_loss did not improve from 0.46661\n",
      "210/210 [==============================] - 46s 218ms/step - loss: 0.3148 - accuracy: 0.8708 - val_loss: 1.3337 - val_accuracy: 0.6583 - lr: 6.0000e-04\n",
      "Epoch 19/25\n",
      "210/210 [==============================] - ETA: 0s - loss: 0.3086 - accuracy: 0.8893\n",
      "Epoch 19: val_loss did not improve from 0.46661\n",
      "210/210 [==============================] - 46s 217ms/step - loss: 0.3086 - accuracy: 0.8893 - val_loss: 0.5855 - val_accuracy: 0.8625 - lr: 6.0000e-04\n",
      "Epoch 20/25\n",
      "210/210 [==============================] - ETA: 0s - loss: 0.3057 - accuracy: 0.8893\n",
      "Epoch 20: ReduceLROnPlateau reducing learning rate to 0.0003600000170990825.\n",
      "\n",
      "Epoch 20: val_loss did not improve from 0.46661\n",
      "210/210 [==============================] - 45s 213ms/step - loss: 0.3057 - accuracy: 0.8893 - val_loss: 1.1897 - val_accuracy: 0.6208 - lr: 6.0000e-04\n",
      "Epoch 21/25\n",
      "210/210 [==============================] - ETA: 0s - loss: 0.2848 - accuracy: 0.9006\n",
      "Epoch 21: val_loss did not improve from 0.46661\n",
      "210/210 [==============================] - 43s 206ms/step - loss: 0.2848 - accuracy: 0.9006 - val_loss: 0.5040 - val_accuracy: 0.8583 - lr: 3.6000e-04\n",
      "Epoch 22/25\n",
      "210/210 [==============================] - ETA: 0s - loss: 0.2591 - accuracy: 0.8982\n",
      "Epoch 22: val_loss did not improve from 0.46661\n",
      "210/210 [==============================] - 41s 196ms/step - loss: 0.2591 - accuracy: 0.8982 - val_loss: 0.6863 - val_accuracy: 0.8208 - lr: 3.6000e-04\n",
      "Epoch 23/25\n",
      "210/210 [==============================] - ETA: 0s - loss: 0.2480 - accuracy: 0.8970\n",
      "Epoch 23: val_loss did not improve from 0.46661\n",
      "210/210 [==============================] - 45s 215ms/step - loss: 0.2480 - accuracy: 0.8970 - val_loss: 0.5850 - val_accuracy: 0.8250 - lr: 3.6000e-04\n",
      "Epoch 24/25\n",
      "210/210 [==============================] - ETA: 0s - loss: 0.2394 - accuracy: 0.9107\n",
      "Epoch 24: val_loss improved from 0.46661 to 0.45659, saving model to ./checkpoints/V4.0.1\\FOLD-6\n",
      "INFO:tensorflow:Assets written to: ./checkpoints/V4.0.1\\FOLD-6\\assets\n"
     ]
    },
    {
     "name": "stderr",
     "output_type": "stream",
     "text": [
      "INFO:tensorflow:Assets written to: ./checkpoints/V4.0.1\\FOLD-6\\assets\n"
     ]
    },
    {
     "name": "stdout",
     "output_type": "stream",
     "text": [
      "210/210 [==============================] - 51s 242ms/step - loss: 0.2394 - accuracy: 0.9107 - val_loss: 0.4566 - val_accuracy: 0.8750 - lr: 3.6000e-04\n",
      "Epoch 25/25\n",
      "210/210 [==============================] - ETA: 0s - loss: 0.2640 - accuracy: 0.8970\n",
      "Epoch 25: val_loss did not improve from 0.45659\n",
      "210/210 [==============================] - 44s 208ms/step - loss: 0.2640 - accuracy: 0.8970 - val_loss: 0.7592 - val_accuracy: 0.7875 - lr: 3.6000e-04\n"
     ]
    },
    {
     "data": {
      "image/png": "[encoded data removed]",
      "text/plain": [
       "<Figure size 300x200 with 1 Axes>"
      ]
     },
     "metadata": {},
     "output_type": "display_data"
    },
    {
     "data": {
      "image/png": "[encoded data removed]",
      "text/plain": [
       "<Figure size 300x200 with 1 Axes>"
      ]
     },
     "metadata": {},
     "output_type": "display_data"
    },
    {
     "name": "stdout",
     "output_type": "stream",
     "text": [
      "Fold Training Time: 0 hour(s) and 18 mins\n",
      "Precision: 88.55932354927063  -  Recall: 87.08333373069763\n",
      "Accuracy: 87.5\n",
      "F1Score: Building 83.05084991455078 | Plant 89.07563018798828 | Road 91.80328369140625 | Vehicle 85.9504165649414\n",
      "[neptune] [info   ] Shutting down background jobs, please wait a moment...\n",
      "[neptune] [info   ] Done!\n",
      "[neptune] [info   ] Neptune initialized. Open in the app: offline/280675e4-6219-48c4-820a-27cd8ca60468\n",
      "Epoch 1/25\n",
      "210/210 [==============================] - ETA: 0s - loss: 2.6065 - accuracy: 0.5917\n",
      "Epoch 1: val_loss improved from inf to 3.24507, saving model to ./checkpoints/V4.0.1\\FOLD-7\n",
      "INFO:tensorflow:Assets written to: ./checkpoints/V4.0.1\\FOLD-7\\assets\n"
     ]
    },
    {
     "name": "stderr",
     "output_type": "stream",
     "text": [
      "INFO:tensorflow:Assets written to: ./checkpoints/V4.0.1\\FOLD-7\\assets\n"
     ]
    },
    {
     "name": "stdout",
     "output_type": "stream",
     "text": [
      "210/210 [==============================] - 56s 235ms/step - loss: 2.6065 - accuracy: 0.5917 - val_loss: 3.2451 - val_accuracy: 0.2542 - lr: 0.0010\n",
      "Epoch 2/25\n",
      "210/210 [==============================] - ETA: 0s - loss: 0.8975 - accuracy: 0.7131\n",
      "Epoch 2: val_loss improved from 3.24507 to 1.23182, saving model to ./checkpoints/V4.0.1\\FOLD-7\n",
      "INFO:tensorflow:Assets written to: ./checkpoints/V4.0.1\\FOLD-7\\assets\n"
     ]
    },
    {
     "name": "stderr",
     "output_type": "stream",
     "text": [
      "INFO:tensorflow:Assets written to: ./checkpoints/V4.0.1\\FOLD-7\\assets\n"
     ]
    },
    {
     "name": "stdout",
     "output_type": "stream",
     "text": [
      "210/210 [==============================] - 51s 242ms/step - loss: 0.8975 - accuracy: 0.7131 - val_loss: 1.2318 - val_accuracy: 0.5500 - lr: 0.0010\n",
      "Epoch 3/25\n",
      "210/210 [==============================] - ETA: 0s - loss: 0.6396 - accuracy: 0.7524\n",
      "Epoch 3: val_loss improved from 1.23182 to 0.48504, saving model to ./checkpoints/V4.0.1\\FOLD-7\n",
      "INFO:tensorflow:Assets written to: ./checkpoints/V4.0.1\\FOLD-7\\assets\n"
     ]
    },
    {
     "name": "stderr",
     "output_type": "stream",
     "text": [
      "INFO:tensorflow:Assets written to: ./checkpoints/V4.0.1\\FOLD-7\\assets\n"
     ]
    },
    {
     "name": "stdout",
     "output_type": "stream",
     "text": [
      "210/210 [==============================] - 50s 238ms/step - loss: 0.6396 - accuracy: 0.7524 - val_loss: 0.4850 - val_accuracy: 0.8042 - lr: 0.0010\n",
      "Epoch 4/25\n",
      "210/210 [==============================] - ETA: 0s - loss: 0.5828 - accuracy: 0.7720\n",
      "Epoch 4: val_loss did not improve from 0.48504\n",
      "210/210 [==============================] - 45s 217ms/step - loss: 0.5828 - accuracy: 0.7720 - val_loss: 0.6006 - val_accuracy: 0.7625 - lr: 0.0010\n",
      "Epoch 5/25\n",
      "210/210 [==============================] - ETA: 0s - loss: 0.4775 - accuracy: 0.8125\n",
      "Epoch 5: val_loss did not improve from 0.48504\n",
      "210/210 [==============================] - 43s 202ms/step - loss: 0.4775 - accuracy: 0.8125 - val_loss: 3.4474 - val_accuracy: 0.4000 - lr: 0.0010\n",
      "Epoch 6/25\n",
      "210/210 [==============================] - ETA: 0s - loss: 0.4940 - accuracy: 0.7982\n",
      "Epoch 6: val_loss did not improve from 0.48504\n",
      "210/210 [==============================] - 45s 213ms/step - loss: 0.4940 - accuracy: 0.7982 - val_loss: 5.1170 - val_accuracy: 0.3542 - lr: 0.0010\n",
      "Epoch 7/25\n",
      "210/210 [==============================] - ETA: 0s - loss: 0.4512 - accuracy: 0.8202\n",
      "Epoch 7: val_loss did not improve from 0.48504\n",
      "210/210 [==============================] - 44s 211ms/step - loss: 0.4512 - accuracy: 0.8202 - val_loss: 0.5177 - val_accuracy: 0.7750 - lr: 0.0010\n",
      "Epoch 8/25\n",
      "210/210 [==============================] - ETA: 0s - loss: 0.4665 - accuracy: 0.8333\n",
      "Epoch 8: val_loss improved from 0.48504 to 0.45745, saving model to ./checkpoints/V4.0.1\\FOLD-7\n",
      "INFO:tensorflow:Assets written to: ./checkpoints/V4.0.1\\FOLD-7\\assets\n"
     ]
    },
    {
     "name": "stderr",
     "output_type": "stream",
     "text": [
      "INFO:tensorflow:Assets written to: ./checkpoints/V4.0.1\\FOLD-7\\assets\n"
     ]
    },
    {
     "name": "stdout",
     "output_type": "stream",
     "text": [
      "210/210 [==============================] - 44s 212ms/step - loss: 0.4665 - accuracy: 0.8333 - val_loss: 0.4575 - val_accuracy: 0.8333 - lr: 0.0010\n",
      "Epoch 9/25\n",
      "210/210 [==============================] - ETA: 0s - loss: 0.4363 - accuracy: 0.8238\n",
      "Epoch 9: val_loss did not improve from 0.45745\n",
      "210/210 [==============================] - 37s 175ms/step - loss: 0.4363 - accuracy: 0.8238 - val_loss: 1.3017 - val_accuracy: 0.6292 - lr: 0.0010\n",
      "Epoch 10/25\n",
      "210/210 [==============================] - ETA: 0s - loss: 0.4025 - accuracy: 0.8393\n",
      "Epoch 10: val_loss did not improve from 0.45745\n",
      "210/210 [==============================] - 37s 174ms/step - loss: 0.4025 - accuracy: 0.8393 - val_loss: 3.2516 - val_accuracy: 0.4167 - lr: 0.0010\n",
      "Epoch 11/25\n",
      "210/210 [==============================] - ETA: 0s - loss: 0.3889 - accuracy: 0.8524\n",
      "Epoch 11: val_loss did not improve from 0.45745\n",
      "210/210 [==============================] - 40s 191ms/step - loss: 0.3889 - accuracy: 0.8524 - val_loss: 0.4871 - val_accuracy: 0.8083 - lr: 0.0010\n",
      "Epoch 12/25\n",
      "210/210 [==============================] - ETA: 0s - loss: 0.3417 - accuracy: 0.8696\n",
      "Epoch 12: val_loss did not improve from 0.45745\n",
      "210/210 [==============================] - 43s 206ms/step - loss: 0.3417 - accuracy: 0.8696 - val_loss: 1.9297 - val_accuracy: 0.6042 - lr: 0.0010\n",
      "Epoch 13/25\n",
      "210/210 [==============================] - ETA: 0s - loss: 0.3913 - accuracy: 0.8482\n",
      "Epoch 13: ReduceLROnPlateau reducing learning rate to 0.0006000000284984708.\n",
      "\n",
      "Epoch 13: val_loss did not improve from 0.45745\n",
      "210/210 [==============================] - 44s 208ms/step - loss: 0.3913 - accuracy: 0.8482 - val_loss: 2.8719 - val_accuracy: 0.5750 - lr: 0.0010\n",
      "Epoch 14/25\n",
      "210/210 [==============================] - ETA: 0s - loss: 0.3060 - accuracy: 0.8804\n",
      "Epoch 14: val_loss improved from 0.45745 to 0.42584, saving model to ./checkpoints/V4.0.1\\FOLD-7\n",
      "INFO:tensorflow:Assets written to: ./checkpoints/V4.0.1\\FOLD-7\\assets\n"
     ]
    },
    {
     "name": "stderr",
     "output_type": "stream",
     "text": [
      "INFO:tensorflow:Assets written to: ./checkpoints/V4.0.1\\FOLD-7\\assets\n"
     ]
    },
    {
     "name": "stdout",
     "output_type": "stream",
     "text": [
      "210/210 [==============================] - 51s 245ms/step - loss: 0.3060 - accuracy: 0.8804 - val_loss: 0.4258 - val_accuracy: 0.8417 - lr: 6.0000e-04\n",
      "Epoch 15/25\n",
      "210/210 [==============================] - ETA: 0s - loss: 0.3246 - accuracy: 0.8690\n",
      "Epoch 15: val_loss did not improve from 0.42584\n",
      "210/210 [==============================] - 43s 207ms/step - loss: 0.3246 - accuracy: 0.8690 - val_loss: 0.8222 - val_accuracy: 0.7292 - lr: 6.0000e-04\n",
      "Epoch 16/25\n",
      "210/210 [==============================] - ETA: 0s - loss: 0.2838 - accuracy: 0.8821\n",
      "Epoch 16: val_loss did not improve from 0.42584\n",
      "210/210 [==============================] - 43s 206ms/step - loss: 0.2838 - accuracy: 0.8821 - val_loss: 0.5873 - val_accuracy: 0.8375 - lr: 6.0000e-04\n",
      "Epoch 17/25\n",
      "210/210 [==============================] - ETA: 0s - loss: 0.2427 - accuracy: 0.9083\n",
      "Epoch 17: val_loss did not improve from 0.42584\n",
      "210/210 [==============================] - 35s 167ms/step - loss: 0.2427 - accuracy: 0.9083 - val_loss: 0.5472 - val_accuracy: 0.8125 - lr: 6.0000e-04\n",
      "Epoch 18/25\n",
      "210/210 [==============================] - ETA: 0s - loss: 0.2656 - accuracy: 0.8988\n",
      "Epoch 18: val_loss did not improve from 0.42584\n",
      "210/210 [==============================] - 37s 175ms/step - loss: 0.2656 - accuracy: 0.8988 - val_loss: 0.7203 - val_accuracy: 0.8208 - lr: 6.0000e-04\n",
      "Epoch 19/25\n",
      "210/210 [==============================] - ETA: 0s - loss: 0.2805 - accuracy: 0.8976\n",
      "Epoch 19: ReduceLROnPlateau reducing learning rate to 0.0003600000170990825.\n",
      "\n",
      "Epoch 19: val_loss did not improve from 0.42584\n",
      "210/210 [==============================] - 38s 183ms/step - loss: 0.2805 - accuracy: 0.8976 - val_loss: 0.4726 - val_accuracy: 0.8375 - lr: 6.0000e-04\n",
      "Epoch 20/25\n",
      "210/210 [==============================] - ETA: 0s - loss: 0.2401 - accuracy: 0.9054\n",
      "Epoch 20: val_loss did not improve from 0.42584\n",
      "210/210 [==============================] - 40s 192ms/step - loss: 0.2401 - accuracy: 0.9054 - val_loss: 0.5566 - val_accuracy: 0.8417 - lr: 3.6000e-04\n",
      "Epoch 21/25\n",
      "210/210 [==============================] - ETA: 0s - loss: 0.2302 - accuracy: 0.9137\n",
      "Epoch 21: val_loss did not improve from 0.42584\n",
      "210/210 [==============================] - 42s 198ms/step - loss: 0.2302 - accuracy: 0.9137 - val_loss: 0.7488 - val_accuracy: 0.7750 - lr: 3.6000e-04\n",
      "Epoch 22/25\n",
      "210/210 [==============================] - ETA: 0s - loss: 0.1967 - accuracy: 0.9226\n",
      "Epoch 22: val_loss did not improve from 0.42584\n",
      "210/210 [==============================] - 41s 193ms/step - loss: 0.1967 - accuracy: 0.9226 - val_loss: 0.7352 - val_accuracy: 0.7958 - lr: 3.6000e-04\n",
      "Epoch 23/25\n",
      "210/210 [==============================] - ETA: 0s - loss: 0.2088 - accuracy: 0.9202\n",
      "Epoch 23: val_loss did not improve from 0.42584\n",
      "210/210 [==============================] - 38s 180ms/step - loss: 0.2088 - accuracy: 0.9202 - val_loss: 0.7899 - val_accuracy: 0.7833 - lr: 3.6000e-04\n",
      "Epoch 24/25\n",
      "210/210 [==============================] - ETA: 0s - loss: 0.1970 - accuracy: 0.9238\n",
      "Epoch 24: ReduceLROnPlateau reducing learning rate to 0.00021600000327453016.\n",
      "\n",
      "Epoch 24: val_loss did not improve from 0.42584\n",
      "210/210 [==============================] - 37s 174ms/step - loss: 0.1970 - accuracy: 0.9238 - val_loss: 0.4618 - val_accuracy: 0.8333 - lr: 3.6000e-04\n",
      "Epoch 25/25\n",
      "210/210 [==============================] - ETA: 0s - loss: 0.1821 - accuracy: 0.9357\n",
      "Epoch 25: val_loss did not improve from 0.42584\n",
      "210/210 [==============================] - 38s 179ms/step - loss: 0.1821 - accuracy: 0.9357 - val_loss: 0.7109 - val_accuracy: 0.8000 - lr: 2.1600e-04\n"
     ]
    },
    {
     "data": {
      "image/png": "[encoded data removed]",
      "text/plain": [
       "<Figure size 300x200 with 1 Axes>"
      ]
     },
     "metadata": {},
     "output_type": "display_data"
    },
    {
     "data": {
      "image/png": "[encoded data removed]",
      "text/plain": [
       "<Figure size 300x200 with 1 Axes>"
      ]
     },
     "metadata": {},
     "output_type": "display_data"
    },
    {
     "name": "stdout",
     "output_type": "stream",
     "text": [
      "Fold Training Time: 0 hour(s) and 17 mins\n",
      "Precision: 85.83691120147705  -  Recall: 83.33333134651184\n",
      "Accuracy: 84.16666388511658\n",
      "F1Score: Building 75.9259262084961 | Plant 84.05797576904297 | Road 93.80530548095703 | Vehicle 82.64462280273438\n",
      "[neptune] [info   ] Shutting down background jobs, please wait a moment...\n",
      "[neptune] [info   ] Done!\n",
      "Total Training Time: 2 hour(s) and 21 mins\n"
     ]
    }
   ],
   "source": [
    "# ============================\n",
    "# Log performance of each fold\n",
    "# ============================\n",
    "\n",
    "precisions = []\n",
    "recalls = []\n",
    "accuracies = []\n",
    "f1_blds = []\n",
    "f1_plants = []\n",
    "f1_roads = []\n",
    "f1_vhcls = []\n",
    "\n",
    "counter = 0\n",
    "start = perf_counter()\n",
    "for train, test in kfold.split(train_x, train_y):\n",
    "    start_fold = perf_counter()\n",
    "\n",
    "    run = neptune.init_run(\n",
    "        name= f\"{model_name}-FOLD_{counter}\",\n",
    "        project=project_name,\n",
    "        mode=\"offline\"     # To prevent issue when internet sucks. Just manually sync it\n",
    "    )  # your credentials\n",
    "\n",
    "    run[\"parameters\"] = params\n",
    "    model = make_model(params)\n",
    "    cat_y = tf.keras.utils.to_categorical(train_y)\n",
    "    train_dataset = tf.data.Dataset.from_tensor_slices((train_x[train], cat_y[train]))\n",
    "    train_fold = train_dataset.shuffle(buffer_size=train_dataset.cardinality(), seed=1).batch(params['batch_size'])\n",
    "    \n",
    "    test_dataset = tf.data.Dataset.from_tensor_slices((train_x[test], cat_y[test]))\n",
    "    test_fold = test_dataset.shuffle(buffer_size=test_dataset.cardinality(), seed=1).batch(params['batch_size'])\n",
    "    \n",
    "    hist = model.fit(train_fold, \n",
    "                     validation_data=test_fold,\n",
    "                     batch_size=params['batch_size'],\n",
    "                     epochs=params['epochs'],\n",
    "                     verbose=1,\n",
    "                     callbacks=create_callbacks(counter))\n",
    "    end_fold = perf_counter()\n",
    "\n",
    "    # PLOTTING ==================================================\n",
    "    run[\"fig-train_loss\"].upload(plot_loss(hist))\n",
    "    run[\"fig-train_acc\"].upload(plot_acc(hist))\n",
    "    \n",
    "    # EVALUATING ==================================================\n",
    "    model = tf.keras.models.load_model(checkpoint_path + str(counter))\n",
    "    \n",
    "    pre = Precision()\n",
    "    rec = Recall()\n",
    "    c_acc = CategoricalAccuracy()\n",
    "    f1_score = F1Score()\n",
    "    for batch in test_fold.as_numpy_iterator():\n",
    "        X, y = batch\n",
    "        yhat = model.predict(X, verbose=0)\n",
    "        f1_score.update_state(y, yhat)\n",
    "        pre.update_state(y, yhat)\n",
    "        rec.update_state(y, yhat)\n",
    "        c_acc.update_state(y, yhat)\n",
    "        \n",
    "    precisions.append(pre.result().numpy() * 100)\n",
    "    recalls.append(rec.result().numpy() * 100)\n",
    "    accuracies.append(c_acc.result().numpy() * 100)\n",
    "    f1_s = f1_score.result().numpy() * 100\n",
    "    \n",
    "    f1_blds.append(f1_s[0])\n",
    "    f1_plants.append(f1_s[1])\n",
    "    f1_roads.append(f1_s[2])\n",
    "    f1_vhcls.append(f1_s[3])\n",
    "    \n",
    "    run[\"eval/ACC/\"] = accuracies[counter]\n",
    "    run[\"eval/REC/\"] = recalls[counter]\n",
    "    run[\"eval/PRE/\"] = precisions[counter]\n",
    "    run[\"eval/F1-Bld\"] = f1_blds[counter]\n",
    "    run[\"eval/F1-Plant\"] = f1_plants[counter]\n",
    "    run[\"eval/F1-Road\"] = f1_roads[counter]\n",
    "    run[\"eval/F1-Vhcl\"] = f1_vhcls[counter]\n",
    "    \n",
    "    # PRINTING RESULTS ===========================================\n",
    "    print(f'Fold Training Time: {math.floor((end_fold-start_fold)/3600) } hour(s) and {math.floor((end_fold-start_fold)/60)%60} mins')\n",
    "    print(f'Precision: {precisions[counter]}  -  Recall: {recalls[counter]}')\n",
    "    print(f'Accuracy: {accuracies[counter]}')\n",
    "    print(f'F1Score: Building {f1_blds[counter]} | Plant {f1_plants[counter]} | Road {f1_roads[counter]} | Vehicle {f1_vhcls[counter]}')\n",
    "    \n",
    "    run.stop()\n",
    "    \n",
    "    counter += 1\n",
    "\n",
    "end = perf_counter()\n",
    "\n",
    "print(f'Total Training Time: {math.floor((end-start)/3600) } hour(s) and {math.floor((end-start)/60)%60} mins')"
   ]
  },
  {
   "cell_type": "markdown",
   "id": "0cdcaea3-c498-44dd-be65-c899e9ba695c",
   "metadata": {},
   "source": [
    "# Get Average Performance of Model"
   ]
  },
  {
   "cell_type": "markdown",
   "id": "0e6a42b9-a558-4ea3-a099-c111c57b7ccf",
   "metadata": {
    "jp-MarkdownHeadingCollapsed": true
   },
   "source": [
    "## Save to Neptune AI"
   ]
  },
  {
   "cell_type": "code",
   "execution_count": 23,
   "id": "d13e1214-9537-4e9a-9e85-9b2f481506c3",
   "metadata": {},
   "outputs": [
    {
     "name": "stdout",
     "output_type": "stream",
     "text": [
      "[neptune] [info   ] Neptune initialized. Open in the app: offline/95e0cb19-52fb-4fbd-bab0-a0b5d4828bd9\n",
      "[neptune] [info   ] Shutting down background jobs, please wait a moment...\n",
      "[neptune] [info   ] Done!\n"
     ]
    }
   ],
   "source": [
    "run = neptune.init_run(\n",
    "        name= f\"{model_name}-AVG\",\n",
    "        project=project_name,\n",
    "        mode='offline',\n",
    "        # api_token=api_token, # Api token is saved in user's environemnt variables\n",
    "    )  # your credentials\n",
    "\n",
    "run[\"eval/PRE/\"] = avg_rate(precisions)\n",
    "run[\"eval/REC/\"] = avg_rate(recalls)\n",
    "run[\"eval/ACC/\"] = avg_rate(accuracies)\n",
    "run[\"eval/F1-Bld\"] = avg_rate(f1_blds)\n",
    "run[\"eval/F1-Plant\"] = avg_rate(f1_plants)\n",
    "run[\"eval/F1-Road\"] = avg_rate(f1_roads)\n",
    "run[\"eval/F1-Vhcl\"] = avg_rate(f1_vhcls)\n",
    "\n",
    "run.stop()"
   ]
  },
  {
   "cell_type": "markdown",
   "id": "e69c613b-b1b9-4a1b-9ecf-969e62123fc9",
   "metadata": {},
   "source": [
    "## Save to Tensorboard"
   ]
  },
  {
   "cell_type": "code",
   "execution_count": 24,
   "id": "31ea4d93-bce3-4a78-a309-280b83d61676",
   "metadata": {},
   "outputs": [],
   "source": [
    "# Command to access TensorBoard HParams:\n",
    "\n",
    "# tensorboard --logdir PATH/logs/hparam_tuning\n",
    "with tf.summary.create_file_writer(f'./logs/hparam_tuning/{model_name}').as_default():\n",
    "    hparams = {\n",
    "        'CONV_F1': 16,\n",
    "        'CONV_F2': 16,\n",
    "        'CONV_F3': 32,\n",
    "        'DROPOUT': 0.2,\n",
    "        'D_UNITS_1': 128,\n",
    "        'D_UNITS_2': 64,\n",
    "    }\n",
    "    hp.hparams(hparams)\n",
    "    tf.summary.scalar('PRE', avg_rate(precisions), step=1)\n",
    "    tf.summary.scalar('REC', avg_rate(recalls), step=1)\n",
    "    tf.summary.scalar('ACC', avg_rate(accuracies), step=1)\n",
    "    tf.summary.scalar('F1 - Building', avg_rate(f1_blds), step=1)\n",
    "    tf.summary.scalar('F1 - Plant', avg_rate(f1_plants), step=1)\n",
    "    tf.summary.scalar('F1 - Road', avg_rate(f1_roads), step=1)\n",
    "    tf.summary.scalar('F1 - Vehicle', avg_rate(f1_vhcls), step=1)"
   ]
  },
  {
   "cell_type": "code",
   "execution_count": null,
   "id": "53362329-adc7-4db5-a223-a27367cbb06a",
   "metadata": {},
   "outputs": [],
   "source": []
  },
  {
   "cell_type": "markdown",
   "id": "3a48f537-6a6e-4696-afc1-c608ffc793f3",
   "metadata": {},
   "source": [
    "# Asd"
   ]
  },
  {
   "cell_type": "markdown",
   "id": "98e06983-0acb-4201-bb07-4c6579d25cbd",
   "metadata": {
    "jp-MarkdownHeadingCollapsed": true
   },
   "source": [
    "# Others"
   ]
  },
  {
   "cell_type": "code",
   "execution_count": null,
   "id": "6590ec4c-5fc3-470e-bc7c-26503425ab8c",
   "metadata": {
    "scrolled": true
   },
   "outputs": [],
   "source": [
    "model= make_model()\n",
    "model.fit(\n",
    "    x_train,\n",
    "    y_train,\n",
    "    validation_data=(x_test,y_test),\n",
    "    epochs=params[\"epochs\"],\n",
    "    batch_size=params[\"batch_size\"],\n",
    "    callbacks=create_callbacks(0),\n",
    ")"
   ]
  },
  {
   "cell_type": "code",
   "execution_count": null,
   "id": "64460324-7348-47a8-bfed-b23556965940",
   "metadata": {
    "scrolled": true
   },
   "outputs": [],
   "source": [
    "true_test_dataset = tf.data.Dataset.from_tensor_slices((x_test, y_test))\n",
    "true_test_set = true_test_dataset.shuffle(buffer_size=true_test_dataset.cardinality(), seed=1).batch(64)\n",
    "\n",
    "f1 = F1Score()\n",
    "pre = Precision()\n",
    "rec = Recall()\n",
    "c_acc = CategoricalAccuracy()\n",
    "for batch in true_test_set.as_numpy_iterator():\n",
    "    X, y = batch\n",
    "    yhat = model.predict(X)\n",
    "    yhat_max = []\n",
    "    for i in yhat:\n",
    "        maxed = np.argmax(i)\n",
    "        yhat_max.append(maxed)\n",
    "    yhat = np.array(yhat_max)\n",
    "    f1.update_state(y, yhat)\n",
    "    pre.update_state(y, yhat)\n",
    "    rec.update_state(y, yhat)\n",
    "    c_acc.update_state(y, yhat)\n"
   ]
  },
  {
   "cell_type": "code",
   "execution_count": null,
   "id": "9e4864d2-4fb0-4526-95d3-9421c7bfa082",
   "metadata": {},
   "outputs": [],
   "source": [
    "run[\"eval/ACC/\"] = float(c_acc.result().numpy() * 100)\n",
    "run[\"eval/REC/\"] = float(rec.result().numpy() * 100)\n",
    "run[\"eval/PRE/\"] = float(pre.result().numpy() * 100)\n"
   ]
  },
  {
   "cell_type": "code",
   "execution_count": null,
   "id": "3a9f5d4a-c095-4788-8b9c-0f67f2631f42",
   "metadata": {},
   "outputs": [],
   "source": [
    "run.stop()"
   ]
  },
  {
   "cell_type": "code",
   "execution_count": null,
   "id": "153bb951-edfb-42a4-93ae-30f5d37fcbab",
   "metadata": {},
   "outputs": [],
   "source": []
  },
  {
   "cell_type": "code",
   "execution_count": null,
   "id": "1becccd6-290d-486c-9f34-f5b4b025b4f4",
   "metadata": {},
   "outputs": [],
   "source": []
  },
  {
   "cell_type": "code",
   "execution_count": null,
   "id": "bf6ba075-09fd-4fc7-8886-c600b17d2938",
   "metadata": {},
   "outputs": [],
   "source": [
    "eval_metrics = model.evaluate(x_test, y_test, verbose=0)\n",
    "for j, metric in enumerate(eval_metrics):\n",
    "    run[\"eval/AVG-ACC/{}\".format(model.metrics_names[j])] = metric\n",
    "\n",
    "run.stop()"
   ]
  },
  {
   "cell_type": "code",
   "execution_count": null,
   "id": "09100e0c-0d94-4e3d-8202-ec6e2872234d",
   "metadata": {},
   "outputs": [],
   "source": [
    "for j, metric in enumerate(eval_metrics):\n",
    "    print(model.metrics_names[j])"
   ]
  },
  {
   "cell_type": "markdown",
   "id": "91f20526-bb52-4153-a291-c18829f55825",
   "metadata": {},
   "source": [
    "## Neptune AI Notes"
   ]
  },
  {
   "cell_type": "raw",
   "id": "59ff9add-a7ad-4ccf-b4f4-e3b9dd83564d",
   "metadata": {},
   "source": [
    "1. neptune callback keeps track of learning rate - can use ReduceLROnPlateau\n",
    "2. neptune seems better used with one run each, but we can just create 1 more RUN before tuning the hyperparameters, name it with \"AVG\", have an \"AVG\" tag, and then save the average result\n",
    "3. The code below creates column in Neptune AI's website\n",
    "\n",
    "  for j, metric in enumerate(eval_metrics):\n",
    "    run[\"eval/AVG-ACC/{}\".format(model.metrics_names[j])] = metric\n",
    "    "
   ]
  },
  {
   "cell_type": "code",
   "execution_count": null,
   "id": "2603ac1c-fe1d-4a21-b8f0-9d8a32e67462",
   "metadata": {},
   "outputs": [],
   "source": []
  }
 ],
 "metadata": {
  "kernelspec": {
   "display_name": "neptune",
   "language": "python",
   "name": "neptune"
  },
  "language_info": {
   "codemirror_mode": {
    "name": "ipython",
    "version": 3
   },
   "file_extension": ".py",
   "mimetype": "text/x-python",
   "name": "python",
   "nbconvert_exporter": "python",
   "pygments_lexer": "ipython3",
   "version": "3.10.9"
  }
 },
 "nbformat": 4,
 "nbformat_minor": 5
}
