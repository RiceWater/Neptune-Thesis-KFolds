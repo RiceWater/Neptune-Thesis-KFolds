{
 "cells": [
  {
   "cell_type": "markdown",
   "id": "654fdf86-1ac7-4eb0-8153-7e9a1a61fa78",
   "metadata": {
    "jp-MarkdownHeadingCollapsed": true
   },
   "source": [
    "# READ"
   ]
  },
  {
   "cell_type": "markdown",
   "id": "30e7deed-4595-4611-9254-ad26a45facd3",
   "metadata": {},
   "source": [
    "1. API is in User Variables for User in Environemtn Variables named \"NEPTUNE_API_TOKEN\"\n",
    "2. If internet sucks, set mode to offline\n",
    "4. When offline runs are saved locally, sync it with | neptune sync -p \"New-Thesis/KFold-Test\" --offline-only |\n",
    "- make sure it is in venv mode | (venv) PS C:\\Users\\user\\Documents\\Machine-Learning-Hub-1\\ImageClassification\\Neptune-Thesis> |\n",
    "5. Delete the offline folder or use | neptune clear |"
   ]
  },
  {
   "cell_type": "markdown",
   "id": "348ca800-674e-4b34-9d14-551b8c226b08",
   "metadata": {},
   "source": [
    "# Load Libraries"
   ]
  },
  {
   "cell_type": "code",
   "execution_count": 1,
   "id": "79947b1a-22c4-4658-9375-a7bcbc52590e",
   "metadata": {},
   "outputs": [
    {
     "name": "stdout",
     "output_type": "stream",
     "text": [
      "WARNING:tensorflow:From C:\\Users\\user\\Documents\\Machine-Learning-Hub-1\\ImageClassification\\Neptune-Thesis\\venv\\lib\\site-packages\\keras\\src\\losses.py:2976: The name tf.losses.sparse_softmax_cross_entropy is deprecated. Please use tf.compat.v1.losses.sparse_softmax_cross_entropy instead.\n",
      "\n"
     ]
    }
   ],
   "source": [
    "import tqdm\n",
    "import os\n",
    "import cv2\n",
    "import imghdr\n",
    "import image_to_numpy\n",
    "import numpy as np\n",
    "import seaborn as sns\n",
    "from matplotlib import pyplot as plt\n",
    "from datetime import datetime\n",
    "import itertools\n",
    "from numpy.random import default_rng\n",
    "\n",
    "import tensorflow as tf\n",
    "from tensorflow.keras.models import Sequential\n",
    "from tensorflow.keras.layers import RandomFlip, RandomRotation, RandomContrast, RandomBrightness, Rescaling, Resizing\n",
    "from tensorflow.keras.layers import Conv2D, MaxPooling2D, Flatten, Dense, Dropout, BatchNormalization, ReLU\n",
    "from tensorflow.keras.metrics import F1Score, Precision, Recall, CategoricalAccuracy\n",
    "from tensorboard.plugins.hparams import api as hp\n",
    "import sklearn\n",
    "from sklearn.metrics import classification_report,confusion_matrix\n",
    "from sklearn.model_selection import StratifiedKFold\n",
    "\n",
    "from time import perf_counter\n",
    "import math\n",
    "\n",
    "import neptune\n",
    "from neptune.integrations.tensorflow_keras import NeptuneCallback"
   ]
  },
  {
   "cell_type": "markdown",
   "id": "0eb1457f-83b0-4eb9-8a55-57299e4e4aac",
   "metadata": {},
   "source": [
    "# Initialize Functions"
   ]
  },
  {
   "cell_type": "code",
   "execution_count": 13,
   "id": "27cee80d-5b28-441a-8ec0-67da468c4966",
   "metadata": {},
   "outputs": [],
   "source": [
    "def make_model(params):\n",
    "    model = Sequential()\n",
    "    model.add(RandomFlip(mode='horizontal', seed=1, input_shape=(256,256,3)))\n",
    "    model.add(RandomRotation(factor=0.2, seed=1))\n",
    "\n",
    "    model.add(Conv2D(input_shape=(256,256,3), filters=16, kernel_size=(3,3), padding=\"same\"))\n",
    "    model.add(BatchNormalization())\n",
    "    model.add(ReLU())\n",
    "    model.add(MaxPooling2D())\n",
    "\n",
    "    model.add(Conv2D(filters=16, kernel_size=(3,3), padding=\"same\"))\n",
    "    model.add(BatchNormalization())\n",
    "    model.add(ReLU())\n",
    "    model.add(MaxPooling2D())\n",
    "\n",
    "    model.add(Conv2D(filters=32, kernel_size=(3,3), padding=\"same\"))\n",
    "    model.add(BatchNormalization())\n",
    "    model.add(ReLU())\n",
    "    model.add(MaxPooling2D())\n",
    "\n",
    "    model.add(Flatten())\n",
    "    model.add(Dropout(0.2, seed=1))\n",
    "    model.add(Dense(units=128,activation=\"relu\"))\n",
    "    model.add(Dense(units=64,activation=\"relu\"))\n",
    "    \n",
    "    model.add(Dense(units=4, activation=\"softmax\"))\n",
    "\n",
    "\n",
    "    optimizer = tf.keras.optimizers.Adam(\n",
    "        learning_rate=params[\"lr\"],\n",
    "    )\n",
    "    \n",
    "    model.compile(optimizer, loss='categorical_crossentropy', metrics=['accuracy'])\n",
    "    return model"
   ]
  },
  {
   "cell_type": "code",
   "execution_count": 14,
   "id": "022580a2-bbb0-46de-80d2-b93e647275c4",
   "metadata": {},
   "outputs": [],
   "source": [
    "def create_callbacks():\n",
    "    neptune_cbk = NeptuneCallback(run=run, base_namespace=\"training\")\n",
    "\n",
    "    cp_callback = tf.keras.callbacks.ModelCheckpoint(filepath=checkpoint_path, \n",
    "                                                                 monitor='val_loss', \n",
    "                                                                 mode='auto', \n",
    "                                                                 save_best_only=True, \n",
    "                                                                 verbose=1)\n",
    "    es_callback = tf.keras.callbacks.EarlyStopping(monitor='val_loss', \n",
    "                                                   patience=20,\n",
    "                                                  )\n",
    "    reduce_lr = tf.keras.callbacks.ReduceLROnPlateau(monitor='val_loss', \n",
    "                                                         factor=0.6, \n",
    "                                                         patience=10, \n",
    "                                                         min_delta=0.001, \n",
    "                                                         mode='auto', \n",
    "                                                         verbose=1)\n",
    "    return [neptune_cbk, reduce_lr, cp_callback, es_callback]"
   ]
  },
  {
   "cell_type": "code",
   "execution_count": 15,
   "id": "98d16a35-875d-4cff-abd0-6f554224f314",
   "metadata": {},
   "outputs": [],
   "source": [
    "def plot_loss(hist):\n",
    "    fig = plt.figure(figsize=(3,2))\n",
    "    plt.plot(hist.history['loss'], color='teal', label='loss')\n",
    "    plt.plot(hist.history['val_loss'], color='orange', label='val_loss')\n",
    "    plt.suptitle('Loss')\n",
    "    plt.legend(loc='upper right')\n",
    "    plt.show()\n",
    "    return fig"
   ]
  },
  {
   "cell_type": "code",
   "execution_count": 16,
   "id": "3ba83bd7-0b4b-43fc-8484-9f695a1f0039",
   "metadata": {},
   "outputs": [],
   "source": [
    "def plot_acc(hist):\n",
    "    fig = plt.figure(figsize=(3,2))\n",
    "    plt.plot(hist.history['accuracy'], color='teal', label='acc')\n",
    "    plt.plot(hist.history['val_accuracy'], color='orange', label='val_acc')\n",
    "    plt.suptitle('Accuracy')\n",
    "    plt.legend(loc='upper left')\n",
    "    plt.show()\n",
    "    return fig"
   ]
  },
  {
   "cell_type": "code",
   "execution_count": 17,
   "id": "8b527cae-cd2f-4cf0-8ad8-03355050b95c",
   "metadata": {},
   "outputs": [],
   "source": [
    "def avg_rate(metric_list):\n",
    "    return sum(metric_list) / len(metric_list)"
   ]
  },
  {
   "cell_type": "markdown",
   "id": "e27ee883-af64-4f8a-980d-d7936a9d6c9b",
   "metadata": {},
   "source": [
    "# Prepare Dataset"
   ]
  },
  {
   "cell_type": "code",
   "execution_count": 8,
   "id": "77bf8dc5-2d83-4b0a-ab84-007f05ccaa5a",
   "metadata": {},
   "outputs": [],
   "source": [
    "labels = ['Building', 'Plant', 'Road', 'Vehicle']\n",
    "X_train = []\n",
    "y_train = []\n",
    "y_label_idx = []\n",
    "image_size = 256\n",
    "for i in labels:\n",
    "    folderPath = os.path.join('D:\\DATASETS\\For-Thesis\\Labels', i)\n",
    "    for j in os.listdir(folderPath):\n",
    "        img = image_to_numpy.load_image_file(os.path.join(folderPath,j))\n",
    "        img = cv2.resize(img,(image_size, image_size))\n",
    "        X_train.append(img)\n",
    "        y_label_idx.append(labels.index(i))"
   ]
  },
  {
   "cell_type": "code",
   "execution_count": 9,
   "id": "86dd841d-f1af-4c0a-9557-55d800db547b",
   "metadata": {},
   "outputs": [],
   "source": [
    "X_train = np.array(X_train)\n",
    "y_label_idx = np.array(y_label_idx)\n",
    "\n",
    "X_train_scaled = X_train.astype(np.float32) / 255.0"
   ]
  },
  {
   "cell_type": "code",
   "execution_count": 10,
   "id": "569494d1-0259-4eaa-bcbe-89a567ac7203",
   "metadata": {},
   "outputs": [],
   "source": [
    "rng = default_rng(seed=1)\n",
    "\n",
    "buildings_test_idx = rng.choice(np.arange(0,600), size=120, replace=False)\n",
    "plants_test_idx = rng.choice(np.arange(600,1200), size=120, replace=False)\n",
    "roads_test_idx = rng.choice(np.arange(1200,1800), size=120, replace=False)\n",
    "vehicles_test_idx = rng.choice(np.arange(1800,2400), size=120, replace=False)\n",
    "total_test_idx = np.concatenate((buildings_test_idx, plants_test_idx, roads_test_idx, vehicles_test_idx), axis=None)"
   ]
  },
  {
   "cell_type": "code",
   "execution_count": 11,
   "id": "1b38d76e-94d9-442c-8025-11352e7a091d",
   "metadata": {},
   "outputs": [],
   "source": [
    "def train_test_X(X_train_scaled):    \n",
    "    test_x = X_train_scaled[total_test_idx]\n",
    "    train_x = np.delete(X_train_scaled, total_test_idx, axis=0)\n",
    "    return train_x, test_x\n",
    "\n",
    "def train_test_y(y_label_idx):\n",
    "    test_y = y_label_idx[total_test_idx]\n",
    "    train_y = np.delete(y_label_idx, total_test_idx, axis=0)\n",
    "    return train_y, test_y"
   ]
  },
  {
   "cell_type": "code",
   "execution_count": 12,
   "id": "cb0d422e-be3d-4544-84f8-1b5f39fd52af",
   "metadata": {},
   "outputs": [],
   "source": [
    "train_x, holdout_x = train_test_X(X_train_scaled)\n",
    "train_y, holdout_y = train_test_y(y_label_idx)"
   ]
  },
  {
   "cell_type": "markdown",
   "id": "d640292a-e07b-4569-9f10-f6c5be7c2438",
   "metadata": {},
   "source": [
    "# Train Final Model"
   ]
  },
  {
   "cell_type": "code",
   "execution_count": 18,
   "id": "a9ea8ce7-97d9-4a55-9a28-f823085bda38",
   "metadata": {},
   "outputs": [],
   "source": [
    "model_name = \"Final-Model\"\n",
    "checkpoint_path = f'./checkpoints/{model_name}/'"
   ]
  },
  {
   "cell_type": "code",
   "execution_count": 20,
   "id": "1fe56a1d-5107-46b2-b96a-8001a8762119",
   "metadata": {},
   "outputs": [],
   "source": [
    "project_name = \"New-Thesis/KFold-Test\"\n",
    "# api_token = <It is already initialized in environemnt variables>\n",
    "params = {\n",
    "    \"lr\": 0.001, \n",
    "    \"epochs\": 55, \n",
    "    \"batch_size\": 8}"
   ]
  },
  {
   "cell_type": "code",
   "execution_count": 21,
   "id": "b59b61dd-005c-41bf-a776-b9d3548472ef",
   "metadata": {},
   "outputs": [],
   "source": [
    "y_train = tf.keras.utils.to_categorical(train_y)\n",
    "train_dataset = tf.data.Dataset.from_tensor_slices((train_x, y_train))\n",
    "compiled_train_dataset = train_dataset.shuffle(buffer_size=train_dataset.cardinality(), seed=1).batch(params['batch_size'])\n",
    "\n",
    "y_test = tf.keras.utils.to_categorical(holdout_y)\n",
    "test_dataset = tf.data.Dataset.from_tensor_slices((holdout_x, y_test))\n",
    "holdout_test_dataset = test_dataset.shuffle(buffer_size=test_dataset.cardinality(), seed=1).batch(params['batch_size'])\n"
   ]
  },
  {
   "cell_type": "code",
   "execution_count": 22,
   "id": "a654fc8d-a767-4eb5-96c5-4869e742516b",
   "metadata": {},
   "outputs": [
    {
     "name": "stderr",
     "output_type": "stream",
     "text": [
      "[neptune] [warning] NeptuneWarning: The following monitoring options are disabled by default in interactive sessions: 'capture_stdout', 'capture_stderr', 'capture_traceback', and 'capture_hardware_metrics'. To enable them, set each parameter to 'True' when initializing the run. The monitoring will continue until you call run.stop() or the kernel stops. Also note: Your source files can only be tracked if you pass the path(s) to the 'source_code' argument. For help, see the Neptune docs: https://docs.neptune.ai/logging/source_code/\n"
     ]
    },
    {
     "name": "stdout",
     "output_type": "stream",
     "text": [
      "[neptune] [info   ] Neptune initialized. Open in the app: offline/dc27d898-d372-4c07-9667-3a142fcb68b5\n",
      "WARNING:tensorflow:From C:\\Users\\user\\Documents\\Machine-Learning-Hub-1\\ImageClassification\\Neptune-Thesis\\venv\\lib\\site-packages\\keras\\src\\backend.py:873: The name tf.get_default_graph is deprecated. Please use tf.compat.v1.get_default_graph instead.\n",
      "\n",
      "WARNING:tensorflow:From C:\\Users\\user\\Documents\\Machine-Learning-Hub-1\\ImageClassification\\Neptune-Thesis\\venv\\lib\\site-packages\\keras\\src\\layers\\normalization\\batch_normalization.py:979: The name tf.nn.fused_batch_norm is deprecated. Please use tf.compat.v1.nn.fused_batch_norm instead.\n",
      "\n"
     ]
    }
   ],
   "source": [
    "run = neptune.init_run(\n",
    "        name= f\"{model_name}-V4.0.1\",\n",
    "        project=project_name,\n",
    "        mode=\"offline\"     # To prevent issue when internet sucks. Just manually sync it\n",
    "    )  # your credentials\n",
    "\n",
    "run[\"parameters\"] = params\n",
    "model = make_model(params)"
   ]
  },
  {
   "cell_type": "code",
   "execution_count": 23,
   "id": "f9ffc54e-6d23-4bb8-9c99-3803964cab3c",
   "metadata": {},
   "outputs": [
    {
     "name": "stdout",
     "output_type": "stream",
     "text": [
      "Epoch 1/55\n",
      "WARNING:tensorflow:From C:\\Users\\user\\Documents\\Machine-Learning-Hub-1\\ImageClassification\\Neptune-Thesis\\venv\\lib\\site-packages\\keras\\src\\utils\\tf_utils.py:492: The name tf.ragged.RaggedTensorValue is deprecated. Please use tf.compat.v1.ragged.RaggedTensorValue instead.\n",
      "\n",
      "WARNING:tensorflow:From C:\\Users\\user\\Documents\\Machine-Learning-Hub-1\\ImageClassification\\Neptune-Thesis\\venv\\lib\\site-packages\\keras\\src\\engine\\base_layer_utils.py:384: The name tf.executing_eagerly_outside_functions is deprecated. Please use tf.compat.v1.executing_eagerly_outside_functions instead.\n",
      "\n",
      "240/240 [==============================] - ETA: 0s - loss: 2.3667 - accuracy: 0.6214\n",
      "Epoch 1: val_loss improved from inf to 3.12473, saving model to ./checkpoints/Final-Model\\\n",
      "INFO:tensorflow:Assets written to: ./checkpoints/Final-Model\\assets\n"
     ]
    },
    {
     "name": "stderr",
     "output_type": "stream",
     "text": [
      "INFO:tensorflow:Assets written to: ./checkpoints/Final-Model\\assets\n"
     ]
    },
    {
     "name": "stdout",
     "output_type": "stream",
     "text": [
      "240/240 [==============================] - 62s 220ms/step - loss: 2.3667 - accuracy: 0.6214 - val_loss: 3.1247 - val_accuracy: 0.3208 - lr: 0.0010\n",
      "Epoch 2/55\n",
      "240/240 [==============================] - ETA: 0s - loss: 0.8482 - accuracy: 0.7115\n",
      "Epoch 2: val_loss improved from 3.12473 to 0.72837, saving model to ./checkpoints/Final-Model\\\n",
      "INFO:tensorflow:Assets written to: ./checkpoints/Final-Model\\assets\n"
     ]
    },
    {
     "name": "stderr",
     "output_type": "stream",
     "text": [
      "INFO:tensorflow:Assets written to: ./checkpoints/Final-Model\\assets\n"
     ]
    },
    {
     "name": "stdout",
     "output_type": "stream",
     "text": [
      "240/240 [==============================] - 51s 211ms/step - loss: 0.8482 - accuracy: 0.7115 - val_loss: 0.7284 - val_accuracy: 0.7271 - lr: 0.0010\n",
      "Epoch 3/55\n",
      "240/240 [==============================] - ETA: 0s - loss: 0.6306 - accuracy: 0.7536\n",
      "Epoch 3: val_loss did not improve from 0.72837\n",
      "240/240 [==============================] - 45s 185ms/step - loss: 0.6306 - accuracy: 0.7536 - val_loss: 1.7725 - val_accuracy: 0.4958 - lr: 0.0010\n",
      "Epoch 4/55\n",
      "240/240 [==============================] - ETA: 0s - loss: 0.5727 - accuracy: 0.7833\n",
      "Epoch 4: val_loss improved from 0.72837 to 0.68446, saving model to ./checkpoints/Final-Model\\\n",
      "INFO:tensorflow:Assets written to: ./checkpoints/Final-Model\\assets\n"
     ]
    },
    {
     "name": "stderr",
     "output_type": "stream",
     "text": [
      "INFO:tensorflow:Assets written to: ./checkpoints/Final-Model\\assets\n"
     ]
    },
    {
     "name": "stdout",
     "output_type": "stream",
     "text": [
      "240/240 [==============================] - 55s 230ms/step - loss: 0.5727 - accuracy: 0.7833 - val_loss: 0.6845 - val_accuracy: 0.7500 - lr: 0.0010\n",
      "Epoch 5/55\n",
      "240/240 [==============================] - ETA: 0s - loss: 0.5782 - accuracy: 0.7833\n",
      "Epoch 5: val_loss did not improve from 0.68446\n",
      "240/240 [==============================] - 50s 207ms/step - loss: 0.5782 - accuracy: 0.7833 - val_loss: 0.8541 - val_accuracy: 0.6521 - lr: 0.0010\n",
      "Epoch 6/55\n",
      "240/240 [==============================] - ETA: 0s - loss: 0.4721 - accuracy: 0.8188\n",
      "Epoch 6: val_loss improved from 0.68446 to 0.65763, saving model to ./checkpoints/Final-Model\\\n",
      "INFO:tensorflow:Assets written to: ./checkpoints/Final-Model\\assets\n"
     ]
    },
    {
     "name": "stderr",
     "output_type": "stream",
     "text": [
      "INFO:tensorflow:Assets written to: ./checkpoints/Final-Model\\assets\n"
     ]
    },
    {
     "name": "stdout",
     "output_type": "stream",
     "text": [
      "240/240 [==============================] - 50s 207ms/step - loss: 0.4721 - accuracy: 0.8188 - val_loss: 0.6576 - val_accuracy: 0.7208 - lr: 0.0010\n",
      "Epoch 7/55\n",
      "240/240 [==============================] - ETA: 0s - loss: 0.4991 - accuracy: 0.8115\n",
      "Epoch 7: val_loss did not improve from 0.65763\n",
      "240/240 [==============================] - 48s 199ms/step - loss: 0.4991 - accuracy: 0.8115 - val_loss: 1.4126 - val_accuracy: 0.5458 - lr: 0.0010\n",
      "Epoch 8/55\n",
      "240/240 [==============================] - ETA: 0s - loss: 0.4640 - accuracy: 0.8208\n",
      "Epoch 8: val_loss improved from 0.65763 to 0.58701, saving model to ./checkpoints/Final-Model\\\n",
      "INFO:tensorflow:Assets written to: ./checkpoints/Final-Model\\assets\n"
     ]
    },
    {
     "name": "stderr",
     "output_type": "stream",
     "text": [
      "INFO:tensorflow:Assets written to: ./checkpoints/Final-Model\\assets\n"
     ]
    },
    {
     "name": "stdout",
     "output_type": "stream",
     "text": [
      "240/240 [==============================] - 56s 232ms/step - loss: 0.4640 - accuracy: 0.8208 - val_loss: 0.5870 - val_accuracy: 0.7688 - lr: 0.0010\n",
      "Epoch 9/55\n",
      "240/240 [==============================] - ETA: 0s - loss: 0.4697 - accuracy: 0.8224\n",
      "Epoch 9: val_loss did not improve from 0.58701\n",
      "240/240 [==============================] - 50s 208ms/step - loss: 0.4697 - accuracy: 0.8224 - val_loss: 2.4575 - val_accuracy: 0.5063 - lr: 0.0010\n",
      "Epoch 10/55\n",
      "240/240 [==============================] - ETA: 0s - loss: 0.4282 - accuracy: 0.8359\n",
      "Epoch 10: val_loss did not improve from 0.58701\n",
      "240/240 [==============================] - 49s 204ms/step - loss: 0.4282 - accuracy: 0.8359 - val_loss: 0.6017 - val_accuracy: 0.7667 - lr: 0.0010\n",
      "Epoch 11/55\n",
      "240/240 [==============================] - ETA: 0s - loss: 0.4360 - accuracy: 0.8443\n",
      "Epoch 11: val_loss improved from 0.58701 to 0.46785, saving model to ./checkpoints/Final-Model\\\n",
      "INFO:tensorflow:Assets written to: ./checkpoints/Final-Model\\assets\n"
     ]
    },
    {
     "name": "stderr",
     "output_type": "stream",
     "text": [
      "INFO:tensorflow:Assets written to: ./checkpoints/Final-Model\\assets\n"
     ]
    },
    {
     "name": "stdout",
     "output_type": "stream",
     "text": [
      "240/240 [==============================] - 54s 223ms/step - loss: 0.4360 - accuracy: 0.8443 - val_loss: 0.4678 - val_accuracy: 0.8354 - lr: 0.0010\n",
      "Epoch 12/55\n",
      "240/240 [==============================] - ETA: 0s - loss: 0.3851 - accuracy: 0.8542\n",
      "Epoch 12: val_loss did not improve from 0.46785\n",
      "240/240 [==============================] - 45s 188ms/step - loss: 0.3851 - accuracy: 0.8542 - val_loss: 0.9587 - val_accuracy: 0.7021 - lr: 0.0010\n",
      "Epoch 13/55\n",
      "240/240 [==============================] - ETA: 0s - loss: 0.3702 - accuracy: 0.8641\n",
      "Epoch 13: val_loss did not improve from 0.46785\n",
      "240/240 [==============================] - 49s 205ms/step - loss: 0.3702 - accuracy: 0.8641 - val_loss: 0.7014 - val_accuracy: 0.7604 - lr: 0.0010\n",
      "Epoch 14/55\n",
      "240/240 [==============================] - ETA: 0s - loss: 0.3739 - accuracy: 0.8536\n",
      "Epoch 14: val_loss did not improve from 0.46785\n",
      "240/240 [==============================] - 52s 215ms/step - loss: 0.3739 - accuracy: 0.8536 - val_loss: 0.8236 - val_accuracy: 0.7292 - lr: 0.0010\n",
      "Epoch 15/55\n",
      "240/240 [==============================] - ETA: 0s - loss: 0.3488 - accuracy: 0.8740\n",
      "Epoch 15: val_loss did not improve from 0.46785\n",
      "240/240 [==============================] - 53s 221ms/step - loss: 0.3488 - accuracy: 0.8740 - val_loss: 0.5524 - val_accuracy: 0.8083 - lr: 0.0010\n",
      "Epoch 16/55\n",
      "240/240 [==============================] - ETA: 0s - loss: 0.3630 - accuracy: 0.8635\n",
      "Epoch 16: val_loss did not improve from 0.46785\n",
      "240/240 [==============================] - 46s 193ms/step - loss: 0.3630 - accuracy: 0.8635 - val_loss: 1.9925 - val_accuracy: 0.4396 - lr: 0.0010\n",
      "Epoch 17/55\n",
      "240/240 [==============================] - ETA: 0s - loss: 0.3502 - accuracy: 0.8682\n",
      "Epoch 17: val_loss did not improve from 0.46785\n",
      "240/240 [==============================] - 45s 189ms/step - loss: 0.3502 - accuracy: 0.8682 - val_loss: 1.2301 - val_accuracy: 0.6604 - lr: 0.0010\n",
      "Epoch 18/55\n",
      "240/240 [==============================] - ETA: 0s - loss: 0.3447 - accuracy: 0.8776\n",
      "Epoch 18: val_loss did not improve from 0.46785\n",
      "240/240 [==============================] - 50s 209ms/step - loss: 0.3447 - accuracy: 0.8776 - val_loss: 1.0313 - val_accuracy: 0.6708 - lr: 0.0010\n",
      "Epoch 19/55\n",
      "240/240 [==============================] - ETA: 0s - loss: 0.3239 - accuracy: 0.8813\n",
      "Epoch 19: val_loss did not improve from 0.46785\n",
      "240/240 [==============================] - 49s 205ms/step - loss: 0.3239 - accuracy: 0.8813 - val_loss: 1.7105 - val_accuracy: 0.5750 - lr: 0.0010\n",
      "Epoch 20/55\n",
      "240/240 [==============================] - ETA: 0s - loss: 0.3083 - accuracy: 0.8854\n",
      "Epoch 20: val_loss improved from 0.46785 to 0.44739, saving model to ./checkpoints/Final-Model\\\n",
      "INFO:tensorflow:Assets written to: ./checkpoints/Final-Model\\assets\n"
     ]
    },
    {
     "name": "stderr",
     "output_type": "stream",
     "text": [
      "INFO:tensorflow:Assets written to: ./checkpoints/Final-Model\\assets\n"
     ]
    },
    {
     "name": "stdout",
     "output_type": "stream",
     "text": [
      "240/240 [==============================] - 53s 220ms/step - loss: 0.3083 - accuracy: 0.8854 - val_loss: 0.4474 - val_accuracy: 0.8458 - lr: 0.0010\n",
      "Epoch 21/55\n",
      "240/240 [==============================] - ETA: 0s - loss: 0.3435 - accuracy: 0.8729\n",
      "Epoch 21: val_loss did not improve from 0.44739\n",
      "240/240 [==============================] - 48s 202ms/step - loss: 0.3435 - accuracy: 0.8729 - val_loss: 0.4947 - val_accuracy: 0.8188 - lr: 0.0010\n",
      "Epoch 22/55\n",
      "240/240 [==============================] - ETA: 0s - loss: 0.3100 - accuracy: 0.8750\n",
      "Epoch 22: val_loss did not improve from 0.44739\n",
      "240/240 [==============================] - 48s 198ms/step - loss: 0.3100 - accuracy: 0.8750 - val_loss: 1.4244 - val_accuracy: 0.6313 - lr: 0.0010\n",
      "Epoch 23/55\n",
      "240/240 [==============================] - ETA: 0s - loss: 0.2923 - accuracy: 0.8927\n",
      "Epoch 23: val_loss did not improve from 0.44739\n",
      "240/240 [==============================] - 47s 197ms/step - loss: 0.2923 - accuracy: 0.8927 - val_loss: 0.4689 - val_accuracy: 0.8438 - lr: 0.0010\n",
      "Epoch 24/55\n",
      "240/240 [==============================] - ETA: 0s - loss: 0.2849 - accuracy: 0.8896\n",
      "Epoch 24: val_loss did not improve from 0.44739\n",
      "240/240 [==============================] - 49s 204ms/step - loss: 0.2849 - accuracy: 0.8896 - val_loss: 0.9899 - val_accuracy: 0.6854 - lr: 0.0010\n",
      "Epoch 25/55\n",
      "240/240 [==============================] - ETA: 0s - loss: 0.2748 - accuracy: 0.9057\n",
      "Epoch 25: val_loss did not improve from 0.44739\n",
      "240/240 [==============================] - 48s 198ms/step - loss: 0.2748 - accuracy: 0.9057 - val_loss: 0.6555 - val_accuracy: 0.7896 - lr: 0.0010\n",
      "Epoch 26/55\n",
      "240/240 [==============================] - ETA: 0s - loss: 0.2366 - accuracy: 0.9115\n",
      "Epoch 26: val_loss did not improve from 0.44739\n",
      "240/240 [==============================] - 45s 187ms/step - loss: 0.2366 - accuracy: 0.9115 - val_loss: 0.8694 - val_accuracy: 0.7458 - lr: 0.0010\n",
      "Epoch 27/55\n",
      "240/240 [==============================] - ETA: 0s - loss: 0.2717 - accuracy: 0.8974\n",
      "Epoch 27: val_loss did not improve from 0.44739\n",
      "240/240 [==============================] - 47s 197ms/step - loss: 0.2717 - accuracy: 0.8974 - val_loss: 0.5530 - val_accuracy: 0.8354 - lr: 0.0010\n",
      "Epoch 28/55\n",
      "240/240 [==============================] - ETA: 0s - loss: 0.2798 - accuracy: 0.8901\n",
      "Epoch 28: val_loss did not improve from 0.44739\n",
      "240/240 [==============================] - 47s 197ms/step - loss: 0.2798 - accuracy: 0.8901 - val_loss: 1.0115 - val_accuracy: 0.7333 - lr: 0.0010\n",
      "Epoch 29/55\n",
      "240/240 [==============================] - ETA: 0s - loss: 0.2807 - accuracy: 0.9000\n",
      "Epoch 29: val_loss did not improve from 0.44739\n",
      "240/240 [==============================] - 49s 206ms/step - loss: 0.2807 - accuracy: 0.9000 - val_loss: 0.5750 - val_accuracy: 0.8167 - lr: 0.0010\n",
      "Epoch 30/55\n",
      "240/240 [==============================] - ETA: 0s - loss: 0.2669 - accuracy: 0.8984\n",
      "Epoch 30: ReduceLROnPlateau reducing learning rate to 0.0006000000284984708.\n",
      "\n",
      "Epoch 30: val_loss did not improve from 0.44739\n",
      "240/240 [==============================] - 49s 202ms/step - loss: 0.2669 - accuracy: 0.8984 - val_loss: 1.2233 - val_accuracy: 0.6729 - lr: 0.0010\n",
      "Epoch 31/55\n",
      "240/240 [==============================] - ETA: 0s - loss: 0.2159 - accuracy: 0.9172\n",
      "Epoch 31: val_loss improved from 0.44739 to 0.42064, saving model to ./checkpoints/Final-Model\\\n",
      "INFO:tensorflow:Assets written to: ./checkpoints/Final-Model\\assets\n"
     ]
    },
    {
     "name": "stderr",
     "output_type": "stream",
     "text": [
      "INFO:tensorflow:Assets written to: ./checkpoints/Final-Model\\assets\n"
     ]
    },
    {
     "name": "stdout",
     "output_type": "stream",
     "text": [
      "240/240 [==============================] - 56s 234ms/step - loss: 0.2159 - accuracy: 0.9172 - val_loss: 0.4206 - val_accuracy: 0.8583 - lr: 6.0000e-04\n",
      "Epoch 32/55\n",
      "240/240 [==============================] - ETA: 0s - loss: 0.2003 - accuracy: 0.9214\n",
      "Epoch 32: val_loss did not improve from 0.42064\n",
      "240/240 [==============================] - 50s 210ms/step - loss: 0.2003 - accuracy: 0.9214 - val_loss: 0.6435 - val_accuracy: 0.8104 - lr: 6.0000e-04\n",
      "Epoch 33/55\n",
      "240/240 [==============================] - ETA: 0s - loss: 0.2043 - accuracy: 0.9250\n",
      "Epoch 33: val_loss did not improve from 0.42064\n",
      "240/240 [==============================] - 47s 195ms/step - loss: 0.2043 - accuracy: 0.9250 - val_loss: 0.8976 - val_accuracy: 0.7229 - lr: 6.0000e-04\n",
      "Epoch 34/55\n",
      "240/240 [==============================] - ETA: 0s - loss: 0.1797 - accuracy: 0.9333\n",
      "Epoch 34: val_loss did not improve from 0.42064\n",
      "240/240 [==============================] - 48s 198ms/step - loss: 0.1797 - accuracy: 0.9333 - val_loss: 0.5524 - val_accuracy: 0.8354 - lr: 6.0000e-04\n",
      "Epoch 35/55\n",
      "240/240 [==============================] - ETA: 0s - loss: 0.1997 - accuracy: 0.9203\n",
      "Epoch 35: val_loss improved from 0.42064 to 0.34680, saving model to ./checkpoints/Final-Model\\\n",
      "INFO:tensorflow:Assets written to: ./checkpoints/Final-Model\\assets\n"
     ]
    },
    {
     "name": "stderr",
     "output_type": "stream",
     "text": [
      "INFO:tensorflow:Assets written to: ./checkpoints/Final-Model\\assets\n"
     ]
    },
    {
     "name": "stdout",
     "output_type": "stream",
     "text": [
      "240/240 [==============================] - 53s 223ms/step - loss: 0.1997 - accuracy: 0.9203 - val_loss: 0.3468 - val_accuracy: 0.9000 - lr: 6.0000e-04\n",
      "Epoch 36/55\n",
      "240/240 [==============================] - ETA: 0s - loss: 0.2188 - accuracy: 0.9240\n",
      "Epoch 36: val_loss did not improve from 0.34680\n",
      "240/240 [==============================] - 45s 188ms/step - loss: 0.2188 - accuracy: 0.9240 - val_loss: 0.5225 - val_accuracy: 0.8271 - lr: 6.0000e-04\n",
      "Epoch 37/55\n",
      "240/240 [==============================] - ETA: 0s - loss: 0.1929 - accuracy: 0.9339\n",
      "Epoch 37: val_loss did not improve from 0.34680\n",
      "240/240 [==============================] - 46s 193ms/step - loss: 0.1929 - accuracy: 0.9339 - val_loss: 0.5557 - val_accuracy: 0.8479 - lr: 6.0000e-04\n",
      "Epoch 38/55\n",
      "240/240 [==============================] - ETA: 0s - loss: 0.1758 - accuracy: 0.9339\n",
      "Epoch 38: val_loss did not improve from 0.34680\n",
      "240/240 [==============================] - 50s 209ms/step - loss: 0.1758 - accuracy: 0.9339 - val_loss: 1.0158 - val_accuracy: 0.6750 - lr: 6.0000e-04\n",
      "Epoch 39/55\n",
      "240/240 [==============================] - ETA: 0s - loss: 0.1798 - accuracy: 0.9297\n",
      "Epoch 39: val_loss did not improve from 0.34680\n",
      "240/240 [==============================] - 47s 197ms/step - loss: 0.1798 - accuracy: 0.9297 - val_loss: 0.7243 - val_accuracy: 0.7583 - lr: 6.0000e-04\n",
      "Epoch 40/55\n",
      "240/240 [==============================] - ETA: 0s - loss: 0.1724 - accuracy: 0.9344\n",
      "Epoch 40: val_loss did not improve from 0.34680\n",
      "240/240 [==============================] - 46s 192ms/step - loss: 0.1724 - accuracy: 0.9344 - val_loss: 0.8595 - val_accuracy: 0.7750 - lr: 6.0000e-04\n",
      "Epoch 41/55\n",
      "240/240 [==============================] - ETA: 0s - loss: 0.1617 - accuracy: 0.9385\n",
      "Epoch 41: val_loss did not improve from 0.34680\n",
      "240/240 [==============================] - 46s 192ms/step - loss: 0.1617 - accuracy: 0.9385 - val_loss: 0.5377 - val_accuracy: 0.8354 - lr: 6.0000e-04\n",
      "Epoch 42/55\n",
      "240/240 [==============================] - ETA: 0s - loss: 0.1587 - accuracy: 0.9380\n",
      "Epoch 42: val_loss did not improve from 0.34680\n",
      "240/240 [==============================] - 44s 184ms/step - loss: 0.1587 - accuracy: 0.9380 - val_loss: 0.6542 - val_accuracy: 0.8125 - lr: 6.0000e-04\n",
      "Epoch 43/55\n",
      "240/240 [==============================] - ETA: 0s - loss: 0.1629 - accuracy: 0.9427\n",
      "Epoch 43: val_loss did not improve from 0.34680\n",
      "240/240 [==============================] - 48s 199ms/step - loss: 0.1629 - accuracy: 0.9427 - val_loss: 0.5767 - val_accuracy: 0.8208 - lr: 6.0000e-04\n",
      "Epoch 44/55\n",
      "240/240 [==============================] - ETA: 0s - loss: 0.1572 - accuracy: 0.9359\n",
      "Epoch 44: val_loss did not improve from 0.34680\n",
      "240/240 [==============================] - 49s 203ms/step - loss: 0.1572 - accuracy: 0.9359 - val_loss: 0.5373 - val_accuracy: 0.8438 - lr: 6.0000e-04\n",
      "Epoch 45/55\n",
      "240/240 [==============================] - ETA: 0s - loss: 0.1577 - accuracy: 0.9422\n",
      "Epoch 45: ReduceLROnPlateau reducing learning rate to 0.0003600000170990825.\n",
      "\n",
      "Epoch 45: val_loss did not improve from 0.34680\n",
      "240/240 [==============================] - 50s 208ms/step - loss: 0.1577 - accuracy: 0.9422 - val_loss: 1.5217 - val_accuracy: 0.6417 - lr: 6.0000e-04\n",
      "Epoch 46/55\n",
      "240/240 [==============================] - ETA: 0s - loss: 0.1274 - accuracy: 0.9479\n",
      "Epoch 46: val_loss improved from 0.34680 to 0.31087, saving model to ./checkpoints/Final-Model\\\n",
      "INFO:tensorflow:Assets written to: ./checkpoints/Final-Model\\assets\n"
     ]
    },
    {
     "name": "stderr",
     "output_type": "stream",
     "text": [
      "INFO:tensorflow:Assets written to: ./checkpoints/Final-Model\\assets\n"
     ]
    },
    {
     "name": "stdout",
     "output_type": "stream",
     "text": [
      "240/240 [==============================] - 55s 230ms/step - loss: 0.1274 - accuracy: 0.9479 - val_loss: 0.3109 - val_accuracy: 0.8938 - lr: 3.6000e-04\n",
      "Epoch 47/55\n",
      "240/240 [==============================] - ETA: 0s - loss: 0.1451 - accuracy: 0.9432\n",
      "Epoch 47: val_loss did not improve from 0.31087\n",
      "240/240 [==============================] - 46s 191ms/step - loss: 0.1451 - accuracy: 0.9432 - val_loss: 0.4001 - val_accuracy: 0.8875 - lr: 3.6000e-04\n",
      "Epoch 48/55\n",
      "240/240 [==============================] - ETA: 0s - loss: 0.1152 - accuracy: 0.9609\n",
      "Epoch 48: val_loss did not improve from 0.31087\n",
      "240/240 [==============================] - 46s 192ms/step - loss: 0.1152 - accuracy: 0.9609 - val_loss: 0.5502 - val_accuracy: 0.8500 - lr: 3.6000e-04\n",
      "Epoch 49/55\n",
      "240/240 [==============================] - ETA: 0s - loss: 0.1442 - accuracy: 0.9490\n",
      "Epoch 49: val_loss did not improve from 0.31087\n",
      "240/240 [==============================] - 51s 213ms/step - loss: 0.1442 - accuracy: 0.9490 - val_loss: 0.4829 - val_accuracy: 0.8458 - lr: 3.6000e-04\n",
      "Epoch 50/55\n",
      "240/240 [==============================] - ETA: 0s - loss: 0.1241 - accuracy: 0.9542\n",
      "Epoch 50: val_loss did not improve from 0.31087\n",
      "240/240 [==============================] - 45s 186ms/step - loss: 0.1241 - accuracy: 0.9542 - val_loss: 0.3551 - val_accuracy: 0.8813 - lr: 3.6000e-04\n",
      "Epoch 51/55\n",
      "240/240 [==============================] - ETA: 0s - loss: 0.1078 - accuracy: 0.9630\n",
      "Epoch 51: val_loss did not improve from 0.31087\n",
      "240/240 [==============================] - 48s 199ms/step - loss: 0.1078 - accuracy: 0.9630 - val_loss: 0.3912 - val_accuracy: 0.8750 - lr: 3.6000e-04\n",
      "Epoch 52/55\n",
      "240/240 [==============================] - ETA: 0s - loss: 0.1234 - accuracy: 0.9536\n",
      "Epoch 52: val_loss did not improve from 0.31087\n",
      "240/240 [==============================] - 49s 203ms/step - loss: 0.1234 - accuracy: 0.9536 - val_loss: 0.3595 - val_accuracy: 0.8917 - lr: 3.6000e-04\n",
      "Epoch 53/55\n",
      "240/240 [==============================] - ETA: 0s - loss: 0.1179 - accuracy: 0.9531\n",
      "Epoch 53: val_loss did not improve from 0.31087\n",
      "240/240 [==============================] - 51s 211ms/step - loss: 0.1179 - accuracy: 0.9531 - val_loss: 0.4650 - val_accuracy: 0.8875 - lr: 3.6000e-04\n",
      "Epoch 54/55\n",
      "240/240 [==============================] - ETA: 0s - loss: 0.1151 - accuracy: 0.9583\n",
      "Epoch 54: val_loss did not improve from 0.31087\n",
      "240/240 [==============================] - 50s 209ms/step - loss: 0.1151 - accuracy: 0.9583 - val_loss: 0.6561 - val_accuracy: 0.8333 - lr: 3.6000e-04\n",
      "Epoch 55/55\n",
      "240/240 [==============================] - ETA: 0s - loss: 0.1075 - accuracy: 0.9630\n",
      "Epoch 55: val_loss did not improve from 0.31087\n",
      "240/240 [==============================] - 47s 196ms/step - loss: 0.1075 - accuracy: 0.9630 - val_loss: 0.4197 - val_accuracy: 0.8771 - lr: 3.6000e-04\n"
     ]
    }
   ],
   "source": [
    "start = perf_counter()\n",
    "hist = model.fit(compiled_train_dataset, \n",
    "                 validation_data=holdout_test_dataset,\n",
    "                 batch_size=params['batch_size'],\n",
    "                 epochs=params['epochs'],\n",
    "                 verbose=1,\n",
    "                 callbacks=create_callbacks())\n",
    "end = perf_counter()"
   ]
  },
  {
   "cell_type": "code",
   "execution_count": 24,
   "id": "4bf16cca-9db6-443c-9eaf-cecd75eb70d3",
   "metadata": {
    "jupyter": {
     "source_hidden": true
    }
   },
   "outputs": [
    {
     "data": {
      "image/png": "[encoded data removed]",
      "text/plain": [
       "<Figure size 300x200 with 1 Axes>"
      ]
     },
     "metadata": {},
     "output_type": "display_data"
    },
    {
     "data": {
      "image/png": "[encoded data removed]",
      "text/plain": [
       "<Figure size 300x200 with 1 Axes>"
      ]
     },
     "metadata": {},
     "output_type": "display_data"
    }
   ],
   "source": [
    "# PLOTTING ==================================================\n",
    "run[\"fig-train_loss\"].upload(plot_loss(hist))\n",
    "run[\"fig-train_acc\"].upload(plot_acc(hist))"
   ]
  },
  {
   "cell_type": "code",
   "execution_count": 25,
   "id": "c7107ae0-28de-4fa1-92f7-c956825ecf9a",
   "metadata": {},
   "outputs": [
    {
     "name": "stdout",
     "output_type": "stream",
     "text": [
      "WARNING:tensorflow:From C:\\Users\\user\\Documents\\Machine-Learning-Hub-1\\ImageClassification\\Neptune-Thesis\\venv\\lib\\site-packages\\keras\\src\\saving\\legacy\\saved_model\\load.py:107: The name tf.gfile.Exists is deprecated. Please use tf.io.gfile.exists instead.\n",
      "\n"
     ]
    },
    {
     "name": "stderr",
     "output_type": "stream",
     "text": [
      "WARNING:tensorflow:From C:\\Users\\user\\Documents\\Machine-Learning-Hub-1\\ImageClassification\\Neptune-Thesis\\venv\\lib\\site-packages\\keras\\src\\saving\\legacy\\saved_model\\load.py:107: The name tf.gfile.Exists is deprecated. Please use tf.io.gfile.exists instead.\n",
      "\n"
     ]
    }
   ],
   "source": [
    "# EVALUATING ==================================================\n",
    "model = tf.keras.models.load_model(checkpoint_path)\n",
    "\n",
    "pre = Precision()\n",
    "rec = Recall()\n",
    "c_acc = CategoricalAccuracy()\n",
    "f1_score = F1Score()\n",
    "for batch in holdout_test_dataset.as_numpy_iterator():\n",
    "    X, y = batch\n",
    "    yhat = model.predict(X, verbose=0)\n",
    "    f1_score.update_state(y, yhat)\n",
    "    pre.update_state(y, yhat)\n",
    "    rec.update_state(y, yhat)\n",
    "    c_acc.update_state(y, yhat)\n",
    "\n",
    "precision = pre.result().numpy() * 100\n",
    "recall = rec.result().numpy() * 100\n",
    "accuracy = c_acc.result().numpy() * 100\n",
    "f1_s = f1_score.result().numpy() * 100\n",
    "\n",
    "f1_building = f1_s[0]\n",
    "f1_plant = f1_s[1]\n",
    "f1_road = f1_s[2]\n",
    "f1_vehicle = f1_s[3]\n",
    "\n",
    "run[\"eval/ACC/\"] = accuracy\n",
    "run[\"eval/REC/\"] = recall\n",
    "run[\"eval/PRE/\"] = precision\n",
    "run[\"eval/F1-Bld\"] = f1_building\n",
    "run[\"eval/F1-Plant\"] = f1_plant\n",
    "run[\"eval/F1-Road\"] = f1_road\n",
    "run[\"eval/F1-Vhcl\"] = f1_vehicle\n"
   ]
  },
  {
   "cell_type": "code",
   "execution_count": 26,
   "id": "9d01c40b-6e12-4436-ba03-e3750ca3166b",
   "metadata": {},
   "outputs": [
    {
     "name": "stdout",
     "output_type": "stream",
     "text": [
      "Fold Training Time: 0 hour(s) and 45 mins\n",
      "Precision: 89.72746133804321  -  Recall: 89.16666507720947\n",
      "Accuracy: 89.3750011920929\n",
      "F1Score: Building 83.26530456542969 | Plant 93.9271240234375 | Road 95.72649383544922 | Vehicle 84.6153793334961\n"
     ]
    }
   ],
   "source": [
    "# PRINTING RESULTS ===========================================\n",
    "print(f'Fold Training Time: {math.floor((end-start)/3600) } hour(s) and {math.floor((end-start)/60)%60} mins')\n",
    "print(f'Precision: {precision}  -  Recall: {recall}')\n",
    "print(f'Accuracy: {accuracy}')\n",
    "print(f'F1Score: Building {f1_building} | Plant {f1_plant} | Road {f1_road} | Vehicle {f1_vehicle}')"
   ]
  },
  {
   "cell_type": "code",
   "execution_count": 27,
   "id": "a6a32bf5-37fd-43fe-af41-130a705b128f",
   "metadata": {},
   "outputs": [
    {
     "name": "stdout",
     "output_type": "stream",
     "text": [
      "[neptune] [info   ] Shutting down background jobs, please wait a moment...\n",
      "[neptune] [info   ] Done!\n"
     ]
    }
   ],
   "source": [
    "# SAVE MODEL TO NEPTUNE AI =======================================\n",
    "model_save_path = f\"./models/Final-Model_4-0-1.keras\"\n",
    "model.save(model_save_path)\n",
    "run['/checkpoint/model'].upload(model_save_path)\n",
    "run.stop()"
   ]
  },
  {
   "cell_type": "code",
   "execution_count": null,
   "id": "e13eae77-d4a9-4c8a-8571-b1249e13a124",
   "metadata": {},
   "outputs": [],
   "source": [
    "# CHECK MODEL VERION IN THE FOR LOOP OF KFOLDS WHEN SAVING\n",
    "# CHECK MODEL VERION IN THE FOR LOOP OF KFOLDS WHEN SAVING\n",
    "# CHECK MODEL VERION IN THE FOR LOOP OF KFOLDS WHEN SAVING\n",
    "# CHECK MODEL VERION IN THE FOR LOOP OF KFOLDS WHEN SAVING\n",
    "# CHECK MODEL VERION IN THE FOR LOOP OF KFOLDS WHEN SAVING\n",
    "# CHECK MODEL VERION IN THE FOR LOOP OF KFOLDS WHEN SAVING\n",
    "# CHECK MODEL VERION IN THE FOR LOOP OF KFOLDS WHEN SAVING\n",
    "# CHECK MODEL VERION IN THE FOR LOOP OF KFOLDS WHEN SAVING\n",
    "# CHECK MODEL VERION IN THE FOR LOOP OF KFOLDS WHEN SAVING\n",
    "# CHECK MODEL VERION IN THE FOR LOOP OF KFOLDS WHEN SAVING\n",
    "# CHECK MODEL VERION IN THE FOR LOOP OF KFOLDS WHEN SAVING\n",
    "# CHECK MODEL VERION IN THE FOR LOOP OF KFOLDS WHEN SAVING"
   ]
  },
  {
   "cell_type": "code",
   "execution_count": null,
   "id": "2061b0ab-2132-4f3b-94cc-d5584da402ad",
   "metadata": {},
   "outputs": [],
   "source": [
    "# ============================\n",
    "# Log performance of each fold\n",
    "# ============================\n",
    "\n",
    "precisions = []\n",
    "recalls = []\n",
    "accuracies = []\n",
    "f1_blds = []\n",
    "f1_plants = []\n",
    "f1_roads = []\n",
    "f1_vhcls = []\n",
    "\n",
    "counter = 0\n",
    "start = perf_counter()\n",
    "for train, test in kfold.split(train_x, train_y):\n",
    "    start_fold = perf_counter()\n",
    "\n",
    "    run = neptune.init_run(\n",
    "        name= f\"{model_name}-FOLD_{counter}\",\n",
    "        project=project_name,\n",
    "        mode=\"offline\"     # To prevent issue when internet sucks. Just manually sync it\n",
    "    )  # your credentials\n",
    "\n",
    "    run[\"parameters\"] = params\n",
    "    model = make_model(params)\n",
    "    cat_y = tf.keras.utils.to_categorical(train_y)\n",
    "    train_dataset = tf.data.Dataset.from_tensor_slices((train_x[train], cat_y[train]))\n",
    "    train_fold = train_dataset.shuffle(buffer_size=train_dataset.cardinality(), seed=1).batch(params['batch_size'])\n",
    "    \n",
    "    test_dataset = tf.data.Dataset.from_tensor_slices((train_x[test], cat_y[test]))\n",
    "    test_fold = test_dataset.shuffle(buffer_size=test_dataset.cardinality(), seed=1).batch(params['batch_size'])\n",
    "    \n",
    "    hist = model.fit(train_fold, \n",
    "                     validation_data=test_fold,\n",
    "                     batch_size=params['batch_size'],\n",
    "                     epochs=params['epochs'],\n",
    "                     verbose=1,\n",
    "                     callbacks=create_callbacks(counter))\n",
    "    end_fold = perf_counter()\n",
    "\n",
    "    # PLOTTING ==================================================\n",
    "    run[\"fig-train_loss\"].upload(plot_loss(hist))\n",
    "    run[\"fig-train_acc\"].upload(plot_acc(hist))\n",
    "    \n",
    "    # EVALUATING ==================================================\n",
    "    model = tf.keras.models.load_model(checkpoint_path + str(counter))\n",
    "    \n",
    "    pre = Precision()\n",
    "    rec = Recall()\n",
    "    c_acc = CategoricalAccuracy()\n",
    "    f1_score = F1Score()\n",
    "    for batch in test_fold.as_numpy_iterator():\n",
    "        X, y = batch\n",
    "        yhat = model.predict(X, verbose=0)\n",
    "        f1_score.update_state(y, yhat)\n",
    "        pre.update_state(y, yhat)\n",
    "        rec.update_state(y, yhat)\n",
    "        c_acc.update_state(y, yhat)\n",
    "        \n",
    "    precisions.append(pre.result().numpy() * 100)\n",
    "    recalls.append(rec.result().numpy() * 100)\n",
    "    accuracies.append(c_acc.result().numpy() * 100)\n",
    "    f1_s = f1_score.result().numpy() * 100\n",
    "    \n",
    "    f1_blds.append(f1_s[0])\n",
    "    f1_plants.append(f1_s[1])\n",
    "    f1_roads.append(f1_s[2])\n",
    "    f1_vhcls.append(f1_s[3])\n",
    "    \n",
    "    run[\"eval/ACC/\"] = accuracies[counter]\n",
    "    run[\"eval/REC/\"] = recalls[counter]\n",
    "    run[\"eval/PRE/\"] = precisions[counter]\n",
    "    run[\"eval/F1-Bld\"] = f1_blds[counter]\n",
    "    run[\"eval/F1-Plant\"] = f1_plants[counter]\n",
    "    run[\"eval/F1-Road\"] = f1_roads[counter]\n",
    "    run[\"eval/F1-Vhcl\"] = f1_vhcls[counter]\n",
    "\n",
    "    # SAVE MODEL TO NEPTUNE AI =======================================\n",
    "    model_save_path = f\"./models/V4-1-3_Fold-{counter}.keras\"\n",
    "    model.save(model_save_path)\n",
    "    run['/checkpoint/model'].upload(model_save_path)\n",
    "    \n",
    "    # PRINTING RESULTS ===========================================\n",
    "    print(f'Fold Training Time: {math.floor((end_fold-start_fold)/3600) } hour(s) and {math.floor((end_fold-start_fold)/60)%60} mins')\n",
    "    print(f'Precision: {precisions[counter]}  -  Recall: {recalls[counter]}')\n",
    "    print(f'Accuracy: {accuracies[counter]}')\n",
    "    print(f'F1Score: Building {f1_blds[counter]} | Plant {f1_plants[counter]} | Road {f1_roads[counter]} | Vehicle {f1_vhcls[counter]}')\n",
    "    \n",
    "    run.stop()\n",
    "    \n",
    "    counter += 1\n",
    "\n",
    "end = perf_counter()\n",
    "\n",
    "print(f'Total Training Time: {math.floor((end-start)/3600) } hour(s) and {math.floor((end-start)/60)%60} mins')"
   ]
  },
  {
   "cell_type": "code",
   "execution_count": null,
   "id": "53362329-adc7-4db5-a223-a27367cbb06a",
   "metadata": {},
   "outputs": [],
   "source": []
  },
  {
   "cell_type": "markdown",
   "id": "98e06983-0acb-4201-bb07-4c6579d25cbd",
   "metadata": {
    "jp-MarkdownHeadingCollapsed": true
   },
   "source": [
    "# Others"
   ]
  },
  {
   "cell_type": "code",
   "execution_count": null,
   "id": "6590ec4c-5fc3-470e-bc7c-26503425ab8c",
   "metadata": {
    "scrolled": true
   },
   "outputs": [],
   "source": [
    "model= make_model()\n",
    "model.fit(\n",
    "    x_train,\n",
    "    y_train,\n",
    "    validation_data=(x_test,y_test),\n",
    "    epochs=params[\"epochs\"],\n",
    "    batch_size=params[\"batch_size\"],\n",
    "    callbacks=create_callbacks(0),\n",
    ")"
   ]
  },
  {
   "cell_type": "code",
   "execution_count": null,
   "id": "64460324-7348-47a8-bfed-b23556965940",
   "metadata": {
    "scrolled": true
   },
   "outputs": [],
   "source": [
    "true_test_dataset = tf.data.Dataset.from_tensor_slices((x_test, y_test))\n",
    "true_test_set = true_test_dataset.shuffle(buffer_size=true_test_dataset.cardinality(), seed=1).batch(64)\n",
    "\n",
    "f1 = F1Score()\n",
    "pre = Precision()\n",
    "rec = Recall()\n",
    "c_acc = CategoricalAccuracy()\n",
    "for batch in true_test_set.as_numpy_iterator():\n",
    "    X, y = batch\n",
    "    yhat = model.predict(X)\n",
    "    yhat_max = []\n",
    "    for i in yhat:\n",
    "        maxed = np.argmax(i)\n",
    "        yhat_max.append(maxed)\n",
    "    yhat = np.array(yhat_max)\n",
    "    f1.update_state(y, yhat)\n",
    "    pre.update_state(y, yhat)\n",
    "    rec.update_state(y, yhat)\n",
    "    c_acc.update_state(y, yhat)\n"
   ]
  },
  {
   "cell_type": "code",
   "execution_count": null,
   "id": "9e4864d2-4fb0-4526-95d3-9421c7bfa082",
   "metadata": {},
   "outputs": [],
   "source": [
    "run[\"eval/ACC/\"] = float(c_acc.result().numpy() * 100)\n",
    "run[\"eval/REC/\"] = float(rec.result().numpy() * 100)\n",
    "run[\"eval/PRE/\"] = float(pre.result().numpy() * 100)\n"
   ]
  },
  {
   "cell_type": "code",
   "execution_count": null,
   "id": "3a9f5d4a-c095-4788-8b9c-0f67f2631f42",
   "metadata": {},
   "outputs": [],
   "source": [
    "run.stop()"
   ]
  },
  {
   "cell_type": "code",
   "execution_count": null,
   "id": "153bb951-edfb-42a4-93ae-30f5d37fcbab",
   "metadata": {},
   "outputs": [],
   "source": []
  },
  {
   "cell_type": "code",
   "execution_count": null,
   "id": "1becccd6-290d-486c-9f34-f5b4b025b4f4",
   "metadata": {},
   "outputs": [],
   "source": []
  },
  {
   "cell_type": "code",
   "execution_count": null,
   "id": "bf6ba075-09fd-4fc7-8886-c600b17d2938",
   "metadata": {},
   "outputs": [],
   "source": [
    "eval_metrics = model.evaluate(x_test, y_test, verbose=0)\n",
    "for j, metric in enumerate(eval_metrics):\n",
    "    run[\"eval/AVG-ACC/{}\".format(model.metrics_names[j])] = metric\n",
    "\n",
    "run.stop()"
   ]
  },
  {
   "cell_type": "code",
   "execution_count": null,
   "id": "09100e0c-0d94-4e3d-8202-ec6e2872234d",
   "metadata": {},
   "outputs": [],
   "source": [
    "for j, metric in enumerate(eval_metrics):\n",
    "    print(model.metrics_names[j])"
   ]
  },
  {
   "cell_type": "markdown",
   "id": "91f20526-bb52-4153-a291-c18829f55825",
   "metadata": {},
   "source": [
    "## Neptune AI Notes"
   ]
  },
  {
   "cell_type": "raw",
   "id": "59ff9add-a7ad-4ccf-b4f4-e3b9dd83564d",
   "metadata": {},
   "source": [
    "1. neptune callback keeps track of learning rate - can use ReduceLROnPlateau\n",
    "2. neptune seems better used with one run each, but we can just create 1 more RUN before tuning the hyperparameters, name it with \"AVG\", have an \"AVG\" tag, and then save the average result\n",
    "3. The code below creates column in Neptune AI's website\n",
    "\n",
    "  for j, metric in enumerate(eval_metrics):\n",
    "    run[\"eval/AVG-ACC/{}\".format(model.metrics_names[j])] = metric\n",
    "    "
   ]
  },
  {
   "cell_type": "code",
   "execution_count": null,
   "id": "2603ac1c-fe1d-4a21-b8f0-9d8a32e67462",
   "metadata": {},
   "outputs": [],
   "source": []
  }
 ],
 "metadata": {
  "kernelspec": {
   "display_name": "neptune",
   "language": "python",
   "name": "neptune"
  },
  "language_info": {
   "codemirror_mode": {
    "name": "ipython",
    "version": 3
   },
   "file_extension": ".py",
   "mimetype": "text/x-python",
   "name": "python",
   "nbconvert_exporter": "python",
   "pygments_lexer": "ipython3",
   "version": "3.10.9"
  }
 },
 "nbformat": 4,
 "nbformat_minor": 5
}
