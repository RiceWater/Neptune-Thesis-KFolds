{
 "cells": [
  {
   "cell_type": "markdown",
   "id": "5cea849d-f226-4bca-8a6e-05a0ff187b8a",
   "metadata": {},
   "source": [
    "## Load Libraries"
   ]
  },
  {
   "cell_type": "code",
   "execution_count": 1,
   "id": "2017626b-6732-4e8b-b744-5b89b8845f31",
   "metadata": {},
   "outputs": [
    {
     "name": "stdout",
     "output_type": "stream",
     "text": [
      "WARNING:tensorflow:From C:\\Users\\user\\Documents\\Machine-Learning-Hub-1\\ImageClassification\\Neptune-Thesis\\venv\\lib\\site-packages\\keras\\src\\losses.py:2976: The name tf.losses.sparse_softmax_cross_entropy is deprecated. Please use tf.compat.v1.losses.sparse_softmax_cross_entropy instead.\n",
      "\n"
     ]
    }
   ],
   "source": [
    "import tqdm\n",
    "import os\n",
    "import cv2\n",
    "import imghdr\n",
    "import image_to_numpy\n",
    "import numpy as np\n",
    "import seaborn as sns\n",
    "from matplotlib import pyplot as plt\n",
    "from datetime import datetime\n",
    "import itertools\n",
    "from numpy.random import default_rng\n",
    "\n",
    "import tensorflow as tf\n",
    "from tensorflow.keras.models import Sequential\n",
    "from tensorflow.keras.layers import RandomFlip, RandomRotation, RandomContrast, RandomBrightness, Rescaling, Resizing\n",
    "from tensorflow.keras.layers import Conv2D, MaxPooling2D, Flatten, Dense, Dropout, BatchNormalization, ReLU\n",
    "from tensorflow.keras.metrics import F1Score, Precision, Recall, CategoricalAccuracy, BinaryAccuracy\n",
    "from tensorboard.plugins.hparams import api as hp\n",
    "import sklearn\n",
    "from sklearn.metrics import classification_report,confusion_matrix\n",
    "from sklearn.model_selection import StratifiedKFold\n",
    "\n",
    "from time import perf_counter\n",
    "import math\n",
    "\n",
    "import neptune\n",
    "from neptune.integrations.tensorflow_keras import NeptuneCallback"
   ]
  },
  {
   "cell_type": "markdown",
   "id": "c48db11d-e2b8-4615-b57e-4e6f458bb3d4",
   "metadata": {},
   "source": [
    "# Adr-INI-KFold"
   ]
  },
  {
   "cell_type": "markdown",
   "id": "a7afa2a1-9cf3-4410-86b1-b17fbc655bb2",
   "metadata": {},
   "source": [
    "## Get Dataset"
   ]
  },
  {
   "cell_type": "code",
   "execution_count": 2,
   "id": "b2dae2b3-116c-41c8-921a-ae324ff90f61",
   "metadata": {},
   "outputs": [],
   "source": [
    "labels = ['Not Issue', 'Issue']\n",
    "X_train = []\n",
    "y_train = []\n",
    "y_label_idx = []\n",
    "image_size = 256\n",
    "for i in labels:\n",
    "    folderPath = os.path.join('D:\\\\DATASETS\\\\INI-Real_World_Data_Test', i)\n",
    "    for j in os.listdir(folderPath):\n",
    "        img = image_to_numpy.load_image_file(os.path.join(folderPath,j))\n",
    "        img = cv2.resize(img,(image_size, image_size))\n",
    "        X_train.append(img)\n",
    "        y_label_idx.append(labels.index(i))"
   ]
  },
  {
   "cell_type": "code",
   "execution_count": 3,
   "id": "b965228b-7366-4724-ba62-d184772c89f5",
   "metadata": {},
   "outputs": [],
   "source": [
    "X_train = np.array(X_train)\n",
    "y_label_idx = np.array(y_label_idx)\n",
    "\n",
    "X_train_scaled = X_train.astype(np.float32) / 255.0"
   ]
  },
  {
   "cell_type": "markdown",
   "id": "5d165fcd-5a93-418f-b18e-e5b92f69b5fe",
   "metadata": {},
   "source": [
    "## Evaluate Final-B4_0_1-converted  "
   ]
  },
  {
   "cell_type": "code",
   "execution_count": 4,
   "id": "cf30d8ea-d116-4311-818c-c496074714a0",
   "metadata": {},
   "outputs": [
    {
     "name": "stdout",
     "output_type": "stream",
     "text": [
      "WARNING:tensorflow:From C:\\Users\\user\\Documents\\Machine-Learning-Hub-1\\ImageClassification\\Neptune-Thesis\\venv\\lib\\site-packages\\keras\\src\\backend.py:1398: The name tf.executing_eagerly_outside_functions is deprecated. Please use tf.compat.v1.executing_eagerly_outside_functions instead.\n",
      "\n",
      "WARNING:tensorflow:From C:\\Users\\user\\Documents\\Machine-Learning-Hub-1\\ImageClassification\\Neptune-Thesis\\venv\\lib\\site-packages\\keras\\src\\layers\\normalization\\batch_normalization.py:979: The name tf.nn.fused_batch_norm is deprecated. Please use tf.compat.v1.nn.fused_batch_norm instead.\n",
      "\n"
     ]
    },
    {
     "name": "stderr",
     "output_type": "stream",
     "text": [
      "WARNING:absl:Skipping variable loading for optimizer 'Adam', because it has 37 variables whereas the saved optimizer has 1 variables. \n"
     ]
    }
   ],
   "source": [
    "model_path = \"C:\\\\Users\\\\user\\\\Documents\\\\Machine-Learning-Hub-1\\\\Exp-Flask-New-Thesis\\\\model\\\\INI\\\\Final-Adr-INI-5_1_1-converted.keras\"\n",
    "sm = tf.keras.models.load_model(model_path)"
   ]
  },
  {
   "cell_type": "code",
   "execution_count": 6,
   "id": "7dd14629-37f1-4217-afce-2aea4068a709",
   "metadata": {},
   "outputs": [
    {
     "name": "stdout",
     "output_type": "stream",
     "text": [
      "KFold CV INI Binary Model Result\n",
      "Precision: 0.75  -  Recall: 0.75\n",
      "Accuracy: 0.75\n",
      "F1Score: Not Issue 0.7272727489471436 | Issue 0.7692307829856873\n"
     ]
    }
   ],
   "source": [
    "pre = Precision()\n",
    "rec = Recall()\n",
    "c_acc = BinaryAccuracy()\n",
    "f1_score = F1Score()\n",
    "\n",
    "test_labels = []\n",
    "test_preds = []\n",
    "\n",
    "y = tf.keras.utils.to_categorical(y_label_idx)\n",
    "for i in range(len(X_train_scaled)):\n",
    "    ready_image = np.expand_dims(X_train_scaled[i], 0)\n",
    "    yhat = sm.predict(ready_image, verbose=0)\n",
    "    \n",
    "    ytrue = np.expand_dims(y[i], 0)\n",
    "    f1_score.update_state(ytrue, yhat)\n",
    "    pre.update_state(ytrue, yhat)\n",
    "    rec.update_state(ytrue, yhat)\n",
    "    c_acc.update_state(ytrue, yhat)\n",
    "    \n",
    "    test_labels.append(y[i])\n",
    "    test_preds.append(yhat[0])\n",
    "\n",
    "\n",
    "# PRINTING RESULTS ===========================================\n",
    "print(\"KFold  INI Binary Model Result\")\n",
    "print(f'Precision: {pre.result().numpy()}  -  Recall: {rec.result().numpy()}')\n",
    "print(f'Accuracy: {c_acc.result().numpy()}')\n",
    "print(f'F1Score: Not Issue {f1_score.result().numpy()[0]} | Issue {f1_score.result().numpy()[1]}')\n",
    "    "
   ]
  },
  {
   "cell_type": "markdown",
   "id": "1b1b9e04-4a0b-4d71-97bc-2917f72609b5",
   "metadata": {},
   "source": [
    "## Plot Confusion Matrix"
   ]
  },
  {
   "cell_type": "code",
   "execution_count": 7,
   "id": "15db19c8-d6bc-4ca8-8fec-b83e03d0449a",
   "metadata": {},
   "outputs": [],
   "source": [
    "test_labels = np.array(test_labels)\n",
    "test_preds = np.array(test_preds)"
   ]
  },
  {
   "cell_type": "code",
   "execution_count": 8,
   "id": "84bc87ec-17ec-4882-8d07-74662cd4cae2",
   "metadata": {},
   "outputs": [],
   "source": [
    "test_labels_c = [np.argmax(x) for x in test_labels]\n",
    "test_labels_c = np.array(test_labels_c)\n",
    "\n",
    "test_preds_c = [np.argmax(x) for x in test_preds]\n",
    "test_preds_c = np.array(test_preds_c)\n"
   ]
  },
  {
   "cell_type": "code",
   "execution_count": 9,
   "id": "ae5c6f69-7e72-4bf4-bfda-9dff1bfa1c67",
   "metadata": {},
   "outputs": [],
   "source": [
    "cm = sklearn.metrics.confusion_matrix(test_labels_c, test_preds_c)"
   ]
  },
  {
   "cell_type": "code",
   "execution_count": 11,
   "id": "755931c6-f44e-4d33-a177-20f7a9f8cd96",
   "metadata": {},
   "outputs": [
    {
     "data": {
      "text/plain": [
       "Text(0.5, 1.0, 'Confusion Matrix')"
      ]
     },
     "execution_count": 11,
     "metadata": {},
     "output_type": "execute_result"
    },
    {
     "data": {
      "image/png": "[encoded data removed]",
      "text/plain": [
       "<Figure size 400x300 with 2 Axes>"
      ]
     },
     "metadata": {},
     "output_type": "display_data"
    }
   ],
   "source": [
    "fig, ax = plt.subplots(figsize=(4,3))\n",
    "sns.heatmap(cm, annot=True, cmap=\"Blues\", cbar=True,\n",
    "            xticklabels=['Not Issue', 'Issue'],\n",
    "            yticklabels=['Not Issue', 'Issue'],\n",
    "            fmt='g'\n",
    "           )\n",
    "plt.xlabel('Predicted', fontsize=14)\n",
    "plt.ylabel('Actual', fontsize=14)\n",
    "plt.title('Confusion Matrix', fontsize=16)"
   ]
  },
  {
   "cell_type": "code",
   "execution_count": 12,
   "id": "81985ce3-c9b4-458b-8505-7bc35b546cc8",
   "metadata": {},
   "outputs": [
    {
     "name": "stdout",
     "output_type": "stream",
     "text": [
      "Accuracy (Issue): 0.625\n",
      "Precision (Issue): 0.625\n",
      "Recall (Issue): 1.0\n",
      "F1-Score (Issue): 0.7692307692307693\n"
     ]
    }
   ],
   "source": [
    "acc_road = (10 + 0) / (10 + 0 + 6 + 0)     # (True Positives + True Negatives) / (True Positives + True Negatives + False Positives + False Negatives)\n",
    "precision_road = 10 / (10 + 6)   # True positives/ (True positives + False positives)\n",
    "recall_road = 10 / (10 + 0)  # True Positive (TP) / True Positive (TP) + False Negative (FN) \n",
    "f1_road = 2 * (precision_road * recall_road) / (precision_road + recall_road)\n",
    "\n",
    "print(f'Accuracy (Issue): {acc_road}')\n",
    "print(f'Precision (Issue): {precision_road}')\n",
    "print(f'Recall (Issue): {recall_road}')\n",
    "print(f'F1-Score (Issue): {f1_road}')"
   ]
  },
  {
   "cell_type": "code",
   "execution_count": null,
   "id": "d2cf4eb0-ac28-4253-a115-2f5a9d5b381e",
   "metadata": {},
   "outputs": [],
   "source": []
  },
  {
   "cell_type": "markdown",
   "id": "cd4eb59b-dbff-4ebf-976c-9bdb5ca370ef",
   "metadata": {},
   "source": [
    "# Final-B4_0_1-converted  "
   ]
  },
  {
   "cell_type": "markdown",
   "id": "52dfeb05-c30b-454c-8518-b6d4fb99c07b",
   "metadata": {},
   "source": [
    "## Get Dataset"
   ]
  },
  {
   "cell_type": "code",
   "execution_count": 2,
   "id": "c99dbb05-2eef-4c0d-987f-9d5dbaa396b3",
   "metadata": {},
   "outputs": [],
   "source": [
    "labels = ['Not Road', 'Road']\n",
    "X_train = []\n",
    "y_train = []\n",
    "y_label_idx = []\n",
    "image_size = 256\n",
    "for i in labels:\n",
    "    folderPath = os.path.join('D:\\\\DATASETS\\\\FireBase-Data\\\\Unseen-Testing-Data-For-Binary', i)\n",
    "    for j in os.listdir(folderPath):\n",
    "        img = image_to_numpy.load_image_file(os.path.join(folderPath,j))\n",
    "        img = cv2.resize(img,(image_size, image_size))\n",
    "        X_train.append(img)\n",
    "        y_label_idx.append(labels.index(i))"
   ]
  },
  {
   "cell_type": "code",
   "execution_count": 3,
   "id": "537d626e-9077-4c9d-8354-52de8c5db261",
   "metadata": {},
   "outputs": [],
   "source": [
    "X_train = np.array(X_train)\n",
    "y_label_idx = np.array(y_label_idx)\n",
    "\n",
    "X_train_scaled = X_train.astype(np.float32) / 255.0"
   ]
  },
  {
   "cell_type": "markdown",
   "id": "2bf49996-23d8-4367-8167-1e6ebc6014ae",
   "metadata": {},
   "source": [
    "## Evaluate Final-B4_0_1-converted  "
   ]
  },
  {
   "cell_type": "code",
   "execution_count": 4,
   "id": "1b486314-0819-4d3a-9a01-64e9d74b1158",
   "metadata": {},
   "outputs": [
    {
     "name": "stdout",
     "output_type": "stream",
     "text": [
      "WARNING:tensorflow:From C:\\Users\\user\\Documents\\Machine-Learning-Hub-1\\ImageClassification\\Neptune-Thesis\\venv\\lib\\site-packages\\keras\\src\\backend.py:1398: The name tf.executing_eagerly_outside_functions is deprecated. Please use tf.compat.v1.executing_eagerly_outside_functions instead.\n",
      "\n",
      "WARNING:tensorflow:From C:\\Users\\user\\Documents\\Machine-Learning-Hub-1\\ImageClassification\\Neptune-Thesis\\venv\\lib\\site-packages\\keras\\src\\layers\\normalization\\batch_normalization.py:979: The name tf.nn.fused_batch_norm is deprecated. Please use tf.compat.v1.nn.fused_batch_norm instead.\n",
      "\n"
     ]
    },
    {
     "name": "stderr",
     "output_type": "stream",
     "text": [
      "WARNING:absl:Skipping variable loading for optimizer 'Adam', because it has 37 variables whereas the saved optimizer has 1 variables. \n"
     ]
    }
   ],
   "source": [
    "model_path = \"C:\\\\Users\\\\user\\\\Documents\\\\Machine-Learning-Hub-1\\\\Tensorflow\\\\kaggle_converted\\\\Final-B4_0_1-converted.keras\"\n",
    "sm = tf.keras.models.load_model(model_path)"
   ]
  },
  {
   "cell_type": "code",
   "execution_count": 5,
   "id": "6cccfe13-5a38-4079-82e5-d77a1d2a111d",
   "metadata": {},
   "outputs": [
    {
     "name": "stdout",
     "output_type": "stream",
     "text": [
      "KFold CV Binary Model Result\n",
      "Precision: 0.753731369972229  -  Recall: 0.753731369972229\n",
      "Accuracy: 0.753731369972229\n",
      "F1Score: Not Road 0.6206896901130676 | Road 0.8176795244216919\n"
     ]
    }
   ],
   "source": [
    "pre = Precision()\n",
    "rec = Recall()\n",
    "c_acc = BinaryAccuracy()\n",
    "f1_score = F1Score()\n",
    "\n",
    "test_labels = []\n",
    "test_preds = []\n",
    "\n",
    "y = tf.keras.utils.to_categorical(y_label_idx)\n",
    "for i in range(len(X_train_scaled)):\n",
    "    ready_image = np.expand_dims(X_train_scaled[i], 0)\n",
    "    yhat = sm.predict(ready_image, verbose=0)\n",
    "    \n",
    "    ytrue = np.expand_dims(y[i], 0)\n",
    "    f1_score.update_state(ytrue, yhat)\n",
    "    pre.update_state(ytrue, yhat)\n",
    "    rec.update_state(ytrue, yhat)\n",
    "    c_acc.update_state(ytrue, yhat)\n",
    "    \n",
    "    test_labels.append(y[i])\n",
    "    test_preds.append(yhat[0])\n",
    "\n",
    "\n",
    "# PRINTING RESULTS ===========================================\n",
    "print(\"KFold CV Binary Model Result\")\n",
    "print(f'Precision: {pre.result().numpy()}  -  Recall: {rec.result().numpy()}')\n",
    "print(f'Accuracy: {c_acc.result().numpy()}')\n",
    "print(f'F1Score: Not Road {f1_score.result().numpy()[0]} | Road {f1_score.result().numpy()[1]}')\n",
    "    "
   ]
  },
  {
   "cell_type": "markdown",
   "id": "acb3d3bb-f283-4ebd-87c6-035729fff270",
   "metadata": {},
   "source": [
    "## Plot Confusion Matrix"
   ]
  },
  {
   "cell_type": "code",
   "execution_count": 6,
   "id": "5b0c8900-86a7-4791-bfb6-a7b9e6d03e36",
   "metadata": {},
   "outputs": [],
   "source": [
    "test_labels = np.array(test_labels)\n",
    "test_preds = np.array(test_preds)"
   ]
  },
  {
   "cell_type": "code",
   "execution_count": 7,
   "id": "1cda6ab8-d2fa-4012-abe6-0ba4fd024966",
   "metadata": {},
   "outputs": [],
   "source": [
    "test_labels_c = [np.argmax(x) for x in test_labels]\n",
    "test_labels_c = np.array(test_labels_c)\n",
    "\n",
    "test_preds_c = [np.argmax(x) for x in test_preds]\n",
    "test_preds_c = np.array(test_preds_c)\n"
   ]
  },
  {
   "cell_type": "code",
   "execution_count": 10,
   "id": "8b18f712-8a7e-464c-9883-4f6d983cfd6c",
   "metadata": {},
   "outputs": [],
   "source": [
    "cm = sklearn.metrics.confusion_matrix(test_labels_c, test_preds_c)"
   ]
  },
  {
   "cell_type": "code",
   "execution_count": 11,
   "id": "ea30954b-8df2-4b83-9103-c3068c50838f",
   "metadata": {},
   "outputs": [
    {
     "data": {
      "text/plain": [
       "Text(0.5, 1.0, 'Confusion Matrix')"
      ]
     },
     "execution_count": 11,
     "metadata": {},
     "output_type": "execute_result"
    },
    {
     "data": {
      "image/png": "[encoded data removed]",
      "text/plain": [
       "<Figure size 400x300 with 2 Axes>"
      ]
     },
     "metadata": {},
     "output_type": "display_data"
    }
   ],
   "source": [
    "fig, ax = plt.subplots(figsize=(4,3))\n",
    "sns.heatmap(cm, annot=True, cmap=\"Blues\", cbar=True,\n",
    "            xticklabels=['Not Road', 'Road'],\n",
    "            yticklabels=['Not Road', 'Road'],\n",
    "            fmt='g'\n",
    "           )\n",
    "plt.xlabel('Predicted', fontsize=14)\n",
    "plt.ylabel('Actual', fontsize=14)\n",
    "plt.title('Confusion Matrix', fontsize=16)"
   ]
  },
  {
   "cell_type": "code",
   "execution_count": 22,
   "id": "32f48e4e-9f9c-4e34-bfff-f2ef67319f39",
   "metadata": {},
   "outputs": [
    {
     "name": "stdout",
     "output_type": "stream",
     "text": [
      "Accuracy (Road): 0.6915887850467289\n",
      "Precision (Road): 0.891566265060241\n",
      "Recall (Road): 0.7551020408163265\n",
      "F1-Score (Road): 0.8176795580110497\n"
     ]
    }
   ],
   "source": [
    "acc_road = (74 + 0) / (74 + 0 + 9 + 24)     # (True Positives + True Negatives) / (True Positives + True Negatives + False Positives + False Negatives)\n",
    "precision_road = 74 / (74 + 9)   # True positives/ (True positives + False positives)\n",
    "recall_road = 74 / (74 + 24)  # True Positive (TP) / True Positive (TP) + False Negative (FN) \n",
    "f1_road = 2 * (precision_road * recall_road) / (precision_road + recall_road)\n",
    "\n",
    "print(f'Accuracy (Road): {acc_road}')\n",
    "print(f'Precision (Road): {precision_road}')\n",
    "print(f'Recall (Road): {recall_road}')\n",
    "print(f'F1-Score (Road): {f1_road}')"
   ]
  },
  {
   "cell_type": "code",
   "execution_count": null,
   "id": "074e73fb-3b20-41ec-bb77-d668abfcc556",
   "metadata": {},
   "outputs": [],
   "source": []
  },
  {
   "cell_type": "markdown",
   "id": "3db4eb81-4621-4254-8ad2-95306c7b5106",
   "metadata": {
    "jp-MarkdownHeadingCollapsed": true
   },
   "source": [
    "# Model V4.0.1 (Deployed Model)"
   ]
  },
  {
   "cell_type": "markdown",
   "id": "14853324-1288-42e6-9a72-aa25e672bc0c",
   "metadata": {},
   "source": [
    "## Get Dataset"
   ]
  },
  {
   "cell_type": "code",
   "execution_count": 13,
   "id": "d65f9922",
   "metadata": {},
   "outputs": [],
   "source": [
    "labels = ['Building','Plant', 'Road', 'Not Road']\n",
    "X_train = []\n",
    "y_train = []\n",
    "y_label_idx = []\n",
    "image_size = 256\n",
    "for i in labels:\n",
    "    \n",
    "    folderPath = os.path.join(\"D:\\\\DATASETS\\\\FireBase-Data\\\\Unseen-Testing-Data-For-4_Class\", i)\n",
    "    if not os.path.exists(folderPath):\n",
    "        continue\n",
    "    for j in os.listdir(folderPath):\n",
    "        img = image_to_numpy.load_image_file(os.path.join(folderPath,j))\n",
    "        img = cv2.resize(img,(image_size, image_size))\n",
    "        X_train.append(img)\n",
    "        y_label_idx.append(labels.index(i))"
   ]
  },
  {
   "cell_type": "code",
   "execution_count": 14,
   "id": "b5c61c02",
   "metadata": {},
   "outputs": [],
   "source": [
    "X_train = np.array(X_train)\n",
    "y_label_idx = np.array(y_label_idx)\n",
    "\n",
    "X_train_scaled = X_train.astype(np.float32) / 255.0"
   ]
  },
  {
   "cell_type": "markdown",
   "id": "74d32fc7-b748-4dbf-ad1a-5546370139f8",
   "metadata": {},
   "source": [
    "## Evaluate Model V4.0.1 (Deployed Model)"
   ]
  },
  {
   "cell_type": "code",
   "execution_count": 15,
   "id": "00cffe18-76dd-4e23-b7a5-91e598cfb760",
   "metadata": {},
   "outputs": [
    {
     "name": "stderr",
     "output_type": "stream",
     "text": [
      "WARNING:absl:Skipping variable loading for optimizer 'Adam', because it has 37 variables whereas the saved optimizer has 1 variables. \n"
     ]
    }
   ],
   "source": [
    "model_path = \"C:\\\\Users\\\\user\\\\Documents\\\\Machine-Learning-Hub-1\\\\Exp-Flask-New-Thesis\\\\model\\\\RNR\\\\Old\\\\Model_V4-0-1.keras\"\n",
    "sm = tf.keras.models.load_model(model_path)"
   ]
  },
  {
   "cell_type": "code",
   "execution_count": 16,
   "id": "b62655a0-2a80-4dd4-9e98-982ca32b538c",
   "metadata": {},
   "outputs": [
    {
     "name": "stdout",
     "output_type": "stream",
     "text": [
      "Holdout 4-Class Model Result\n",
      "Precision: 0.6880000233650208  -  Recall: 0.641791045665741\n",
      "Accuracy: 0.8376865386962891\n",
      "F1Score: Road 0.813559353351593\n"
     ]
    }
   ],
   "source": [
    "pre = Precision()\n",
    "rec = Recall()\n",
    "c_acc = BinaryAccuracy()\n",
    "f1_score = F1Score()\n",
    "\n",
    "test_labels = []\n",
    "test_preds = []\n",
    "\n",
    "y = tf.keras.utils.to_categorical(y_label_idx, 4)\n",
    "for i in range(len(X_train_scaled)):\n",
    "    ready_image = np.expand_dims(X_train_scaled[i], 0)\n",
    "    yhat = sm.predict(ready_image, verbose=0)\n",
    "    ytrue = np.expand_dims(y[i], 0)\n",
    "    f1_score.update_state(ytrue, yhat)\n",
    "    pre.update_state(ytrue, yhat)\n",
    "    rec.update_state(ytrue, yhat)\n",
    "    c_acc.update_state(ytrue, yhat)\n",
    "\n",
    "    test_labels.append(y[i])\n",
    "    test_preds.append(yhat[0])\n",
    "\n",
    "# PRINTING RESULTS ===========================================\n",
    "print(\"Holdout 4-Class Model Result\")\n",
    "print(f'Precision: {pre.result().numpy()}  -  Recall: {rec.result().numpy()}')\n",
    "print(f'Accuracy: {c_acc.result().numpy()}')\n",
    "# print(f'F1Score: Building {f1_score.result().numpy()[0]} | Plant {f1_score.result().numpy()[1]}')\n",
    "# print(f'F1Score: Road {f1_score.result().numpy()[2]} | Vehicle {f1_score.result().numpy()[3]}')\n",
    "print(f'F1Score: Road {f1_score.result().numpy()[2]}')"
   ]
  },
  {
   "cell_type": "code",
   "execution_count": null,
   "id": "02534b53-ddc7-4edd-9968-a997e641bbcd",
   "metadata": {},
   "outputs": [],
   "source": []
  },
  {
   "cell_type": "markdown",
   "id": "64a54510-b27b-4263-8650-5db7b0a1f43e",
   "metadata": {},
   "source": [
    "## Plot Confusion Matrix"
   ]
  },
  {
   "cell_type": "code",
   "execution_count": 17,
   "id": "ae1f1a17",
   "metadata": {},
   "outputs": [],
   "source": [
    "test_labels = np.array(test_labels)\n",
    "test_preds = np.array(test_preds)"
   ]
  },
  {
   "cell_type": "code",
   "execution_count": 18,
   "id": "da340ab6",
   "metadata": {},
   "outputs": [],
   "source": [
    "test_labels_c = [np.argmax(x) for x in test_labels]\n",
    "test_labels_c = np.array(test_labels_c)\n",
    "\n",
    "test_preds_c = [np.argmax(x) for x in test_preds]\n",
    "test_preds_c = np.array(test_preds_c)\n"
   ]
  },
  {
   "cell_type": "code",
   "execution_count": 19,
   "id": "7dbc7a20",
   "metadata": {},
   "outputs": [],
   "source": [
    "cm = sklearn.metrics.confusion_matrix(test_labels_c, test_preds_c)"
   ]
  },
  {
   "cell_type": "code",
   "execution_count": 20,
   "id": "7bac729b",
   "metadata": {},
   "outputs": [
    {
     "data": {
      "text/plain": [
       "Text(0.5, 1.0, 'Confusion Matrix')"
      ]
     },
     "execution_count": 20,
     "metadata": {},
     "output_type": "execute_result"
    },
    {
     "data": {
      "image/png": "[encoded data removed]",
      "text/plain": [
       "<Figure size 400x300 with 2 Axes>"
      ]
     },
     "metadata": {},
     "output_type": "display_data"
    }
   ],
   "source": [
    "fig, ax = plt.subplots(figsize=(4,3))\n",
    "sns.heatmap(cm, annot=True, cmap=\"Blues\", cbar=True,\n",
    "            xticklabels=['Building','Plant', 'Road', 'Vehicle (Not Road)'],\n",
    "            yticklabels=['Building','Plant', 'Road', 'Vehicle (Not Road)'],\n",
    "            fmt='g'\n",
    "           )\n",
    "plt.xlabel('Predicted', fontsize=14)\n",
    "plt.ylabel('Actual', fontsize=14)\n",
    "plt.title('Confusion Matrix', fontsize=16)"
   ]
  },
  {
   "cell_type": "code",
   "execution_count": 21,
   "id": "9e6bb781",
   "metadata": {},
   "outputs": [
    {
     "name": "stdout",
     "output_type": "stream",
     "text": [
      "Accuracy (Road): 0.7346938775510204\n",
      "Precision (Road): 0.9113924050632911\n",
      "Recall (Road): 0.7346938775510204\n",
      "F1-Score (Road): 0.8135593220338984\n"
     ]
    }
   ],
   "source": [
    "acc_road = 72 / 98\n",
    "precision_road = 72 / (72 + 7)   # True positives/ (True positives + False positives)\n",
    "recall_road = 72 / (72 + 26)  # True Positive (TP) / True Positive (TP) + False Negative (FN) \n",
    "f1_road = 2 * (precision_road * recall_road) / (precision_road + recall_road)\n",
    "\n",
    "print(f'Accuracy (Road): {acc_road}')\n",
    "print(f'Precision (Road): {precision_road}')\n",
    "print(f'Recall (Road): {recall_road}')\n",
    "print(f'F1-Score (Road): {f1_road}')"
   ]
  },
  {
   "cell_type": "markdown",
   "id": "6f5571ec-0fc6-462f-9d6a-7fab9d537b50",
   "metadata": {
    "jp-MarkdownHeadingCollapsed": true
   },
   "source": [
    "# AdrKFold-Final-4_0_1-converted"
   ]
  },
  {
   "cell_type": "markdown",
   "id": "b5ed2dd2-047e-46f3-be8c-d6d2bfc296ae",
   "metadata": {
    "jp-MarkdownHeadingCollapsed": true
   },
   "source": [
    "## Get Dataset"
   ]
  },
  {
   "cell_type": "code",
   "execution_count": null,
   "id": "1bc4d2a7",
   "metadata": {},
   "outputs": [],
   "source": [
    "labels = ['Building','Plant', 'Road', 'Not Road']\n",
    "X_train = []\n",
    "y_train = []\n",
    "y_label_idx = []\n",
    "image_size = 256\n",
    "for i in labels:\n",
    "    \n",
    "    folderPath = os.path.join('D:\\\\DATASETS\\\\FireBase-Data\\\\Unseen-Testing-Data-For-4_Class', i)\n",
    "    if not os.path.exists(folderPath):\n",
    "        continue\n",
    "    for j in os.listdir(folderPath):\n",
    "        img = image_to_numpy.load_image_file(os.path.join(folderPath,j))\n",
    "        img = cv2.resize(img,(image_size, image_size))\n",
    "        X_train.append(img)\n",
    "        y_label_idx.append(labels.index(i))"
   ]
  },
  {
   "cell_type": "code",
   "execution_count": null,
   "id": "218a38b2",
   "metadata": {},
   "outputs": [],
   "source": [
    "X_train = np.array(X_train)\n",
    "y_label_idx = np.array(y_label_idx)\n",
    "\n",
    "X_train_scaled = X_train.astype(np.float32) / 255.0"
   ]
  },
  {
   "cell_type": "markdown",
   "id": "05834749-627e-410e-a2f3-84384d547718",
   "metadata": {},
   "source": [
    "## Evaluate AdrKFold-Final-4_0_1-converted"
   ]
  },
  {
   "cell_type": "code",
   "execution_count": null,
   "id": "faae0fac",
   "metadata": {},
   "outputs": [],
   "source": [
    "model_path = \"C:\\\\Users\\\\user\\\\Documents\\\\Machine-Learning-Hub-1\\\\Tensorflow\\\\kaggle_converted\\\\AdrKFold-Final-4_0_1-converted.keras\"\n",
    "sm = tf.keras.models.load_model(model_path)"
   ]
  },
  {
   "cell_type": "code",
   "execution_count": null,
   "id": "aaa2932c",
   "metadata": {},
   "outputs": [],
   "source": [
    "pre = Precision()\n",
    "rec = Recall()\n",
    "c_acc = BinaryAccuracy()\n",
    "f1_score = F1Score()\n",
    "\n",
    "\n",
    "y = tf.keras.utils.to_categorical(y_label_idx, 4)\n",
    "for i in range(len(X_train_scaled)):\n",
    "    ready_image = np.expand_dims(X_train_scaled[i], 0)\n",
    "    yhat = sm.predict(ready_image, verbose=0)\n",
    "    ytrue = np.expand_dims(y[i], 0)\n",
    "    f1_score.update_state(ytrue, yhat)\n",
    "    pre.update_state(ytrue, yhat)\n",
    "    rec.update_state(ytrue, yhat)\n",
    "    c_acc.update_state(ytrue, yhat)\n",
    "\n",
    "# PRINTING RESULTS ===========================================\n",
    "print(\"4-Class Deployed Model Result\")\n",
    "print(f'Precision: {pre.result().numpy()}  -  Recall: {rec.result().numpy()}')\n",
    "print(f'Accuracy: {c_acc.result().numpy()}')\n",
    "print(f'F1Score: Building {f1_score.result().numpy()[0]} | Plant {f1_score.result().numpy()[1]}')\n",
    "print(f'F1Score: Road {f1_score.result().numpy()[2]} | Vehicle {f1_score.result().numpy()[3]}')\n",
    "    "
   ]
  },
  {
   "cell_type": "code",
   "execution_count": null,
   "id": "1bab8be3",
   "metadata": {},
   "outputs": [],
   "source": []
  },
  {
   "cell_type": "markdown",
   "id": "6468455e-ba07-4e6c-910d-3603bee0de74",
   "metadata": {},
   "source": [
    "# PCNN0206_01B"
   ]
  },
  {
   "cell_type": "markdown",
   "id": "47c1336b-8374-463f-bd79-896b410a6744",
   "metadata": {},
   "source": [
    "## Get Dataset"
   ]
  },
  {
   "cell_type": "code",
   "execution_count": 2,
   "id": "83e8c8ab",
   "metadata": {},
   "outputs": [],
   "source": [
    "labels = ['Building','Plant', 'Road', 'Not Road']\n",
    "X_train = []\n",
    "y_train = []\n",
    "y_label_idx = []\n",
    "image_size = 256\n",
    "for i in labels:\n",
    "    \n",
    "    folderPath = os.path.join('D:\\\\DATASETS\\\\FireBase-Data\\\\Unseen-Testing-Data-For-4_Class', i)\n",
    "    if not os.path.exists(folderPath):\n",
    "        continue\n",
    "    for j in os.listdir(folderPath):\n",
    "        img = image_to_numpy.load_image_file(os.path.join(folderPath,j))\n",
    "        img = cv2.resize(img,(image_size, image_size))\n",
    "        X_train.append(img)\n",
    "        y_label_idx.append(labels.index(i))"
   ]
  },
  {
   "cell_type": "code",
   "execution_count": 3,
   "id": "66631b1f",
   "metadata": {},
   "outputs": [],
   "source": [
    "X_train = np.array(X_train)\n",
    "y_label_idx = np.array(y_label_idx)\n",
    "\n",
    "X_train_scaled = X_train.astype(np.float32) / 255.0"
   ]
  },
  {
   "cell_type": "markdown",
   "id": "422919df-6ecd-4e06-af68-a4076a6704de",
   "metadata": {},
   "source": [
    "## Evaluate PCNN0206_01B"
   ]
  },
  {
   "cell_type": "code",
   "execution_count": 4,
   "id": "aab4696b",
   "metadata": {},
   "outputs": [
    {
     "name": "stdout",
     "output_type": "stream",
     "text": [
      "WARNING:tensorflow:From C:\\Users\\user\\Documents\\Machine-Learning-Hub-1\\ImageClassification\\Neptune-Thesis\\venv\\lib\\site-packages\\keras\\src\\backend.py:1398: The name tf.executing_eagerly_outside_functions is deprecated. Please use tf.compat.v1.executing_eagerly_outside_functions instead.\n",
      "\n",
      "WARNING:tensorflow:From C:\\Users\\user\\Documents\\Machine-Learning-Hub-1\\ImageClassification\\Neptune-Thesis\\venv\\lib\\site-packages\\keras\\src\\layers\\normalization\\batch_normalization.py:979: The name tf.nn.fused_batch_norm is deprecated. Please use tf.compat.v1.nn.fused_batch_norm instead.\n",
      "\n"
     ]
    },
    {
     "name": "stderr",
     "output_type": "stream",
     "text": [
      "WARNING:absl:Skipping variable loading for optimizer 'Adam', because it has 37 variables whereas the saved optimizer has 1 variables. \n"
     ]
    }
   ],
   "source": [
    "model_path = \"C:\\\\Users\\\\user\\\\Documents\\\\Machine-Learning-Hub-1\\\\Exp-Flask-New-Thesis\\\\model\\\\RNR\\\\PCNN0206_01B.keras\"\n",
    "sm = tf.keras.models.load_model(model_path)"
   ]
  },
  {
   "cell_type": "code",
   "execution_count": 5,
   "id": "df599b4e",
   "metadata": {},
   "outputs": [
    {
     "name": "stdout",
     "output_type": "stream",
     "text": [
      "KFold CV 4-Class Model Result\n",
      "Precision: 0.5440000295639038  -  Recall: 0.5074626803398132\n",
      "Accuracy: 0.77052241563797\n",
      "F1Score: Road 0.6967741847038269\n"
     ]
    }
   ],
   "source": [
    "pre = Precision()\n",
    "rec = Recall()\n",
    "c_acc = BinaryAccuracy()\n",
    "f1_score = F1Score()\n",
    "\n",
    "test_labels = []\n",
    "test_preds = []\n",
    "\n",
    "y = tf.keras.utils.to_categorical(y_label_idx, 4)\n",
    "for i in range(len(X_train_scaled)):\n",
    "    ready_image = np.expand_dims(X_train_scaled[i], 0)\n",
    "    yhat = sm.predict(ready_image, verbose=0)\n",
    "    ytrue = np.expand_dims(y[i], 0)\n",
    "    f1_score.update_state(ytrue, yhat)\n",
    "    pre.update_state(ytrue, yhat)\n",
    "    rec.update_state(ytrue, yhat)\n",
    "    c_acc.update_state(ytrue, yhat)\n",
    "\n",
    "    test_labels.append(y[i])\n",
    "    test_preds.append(yhat[0])\n",
    "\n",
    "# PRINTING RESULTS ===========================================\n",
    "print(\"KFold CV 4-Class Model Result\")\n",
    "print(f'Precision: {pre.result().numpy()}  -  Recall: {rec.result().numpy()}')\n",
    "print(f'Accuracy: {c_acc.result().numpy()}')\n",
    "# print(f'F1Score: Building {f1_score.result().numpy()[0]} | Plant {f1_score.result().numpy()[1]}')\n",
    "# print(f'F1Score: Road {f1_score.result().numpy()[2]} | Vehicle {f1_score.result().numpy()[3]}')\n",
    "print(f'F1Score: Road {f1_score.result().numpy()[2]}')"
   ]
  },
  {
   "cell_type": "markdown",
   "id": "0a6fa9c9-b0ba-421d-896f-1ceb50dd17d7",
   "metadata": {},
   "source": [
    "## Plot Confusion Matrix"
   ]
  },
  {
   "cell_type": "code",
   "execution_count": 6,
   "id": "87ef5513",
   "metadata": {},
   "outputs": [],
   "source": [
    "test_labels = np.array(test_labels)\n",
    "test_preds = np.array(test_preds)"
   ]
  },
  {
   "cell_type": "code",
   "execution_count": 7,
   "id": "a14836de",
   "metadata": {},
   "outputs": [],
   "source": [
    "test_labels_c = [np.argmax(x) for x in test_labels]\n",
    "test_labels_c = np.array(test_labels_c)\n",
    "\n",
    "test_preds_c = [np.argmax(x) for x in test_preds]\n",
    "test_preds_c = np.array(test_preds_c)\n"
   ]
  },
  {
   "cell_type": "code",
   "execution_count": 8,
   "id": "a5842400",
   "metadata": {},
   "outputs": [],
   "source": [
    "cm = sklearn.metrics.confusion_matrix(test_labels_c, test_preds_c)"
   ]
  },
  {
   "cell_type": "code",
   "execution_count": 9,
   "id": "caf52b66",
   "metadata": {},
   "outputs": [
    {
     "data": {
      "text/plain": [
       "Text(0.5, 1.0, 'Confusion Matrix')"
      ]
     },
     "execution_count": 9,
     "metadata": {},
     "output_type": "execute_result"
    },
    {
     "data": {
      "image/png": "[encoded data removed]",
      "text/plain": [
       "<Figure size 400x300 with 2 Axes>"
      ]
     },
     "metadata": {},
     "output_type": "display_data"
    }
   ],
   "source": [
    "fig, ax = plt.subplots(figsize=(4,3))\n",
    "sns.heatmap(cm, annot=True, cmap=\"Blues\", cbar=True,\n",
    "            xticklabels=['Building','Plant', 'Road', 'Vehicle (Not Road)'],\n",
    "            yticklabels=['Building','Plant', 'Road', 'Vehicle (Not Road)'],\n",
    "            fmt='g'\n",
    "           )\n",
    "plt.xlabel('Predicted', fontsize=14)\n",
    "plt.ylabel('Actual', fontsize=14)\n",
    "plt.title('Confusion Matrix', fontsize=16)"
   ]
  },
  {
   "cell_type": "code",
   "execution_count": 10,
   "id": "361e1002",
   "metadata": {},
   "outputs": [
    {
     "name": "stdout",
     "output_type": "stream",
     "text": [
      "Precision (Road): 0.9473684210526315\n",
      "Recall (Road): 0.5510204081632653\n",
      "F1-Score (Road): 0.6967741935483871\n"
     ]
    }
   ],
   "source": [
    "precision_road = 54 / (54 + 3)   # True positives/ (True positives + False positives)\n",
    "recall_road = 54 / (54 + 44)  # True Positive (TP) / (True Positive + False Negative) \n",
    "f1_road = 2 * (precision_road * recall_road) / (precision_road + recall_road)\n",
    "\n",
    "print(f'Precision (Road): {precision_road}')\n",
    "print(f'Recall (Road): {recall_road}')\n",
    "print(f'F1-Score (Road): {f1_road}')"
   ]
  },
  {
   "cell_type": "markdown",
   "id": "9f226c9e-de9b-4a0f-a4bd-3744459ddcd0",
   "metadata": {},
   "source": [
    "# Final-3CLS-NB-4_0_1-converted"
   ]
  },
  {
   "cell_type": "markdown",
   "id": "9b5a4b89-5a30-494d-82ba-d56d924820c6",
   "metadata": {},
   "source": [
    "## Get Dataset"
   ]
  },
  {
   "cell_type": "code",
   "execution_count": 31,
   "id": "137f2f84-1d48-4c0e-8259-3bc8de5d91b0",
   "metadata": {},
   "outputs": [],
   "source": [
    "labels = ['Plant','Vehicle (Not Road)', 'Road']\n",
    "X_train = []\n",
    "y_train = []\n",
    "y_label_idx = []\n",
    "image_size = 256\n",
    "for i in labels:\n",
    "    \n",
    "    folderPath = os.path.join('D:\\\\DATASETS\\\\FireBase-Data\\\\Unseen-Testing-Data-For-3_Class', i)\n",
    "    if not os.path.exists(folderPath):\n",
    "        continue\n",
    "    for j in os.listdir(folderPath):\n",
    "        img = image_to_numpy.load_image_file(os.path.join(folderPath,j))\n",
    "        img = cv2.resize(img,(image_size, image_size))\n",
    "        X_train.append(img)\n",
    "        y_label_idx.append(labels.index(i))"
   ]
  },
  {
   "cell_type": "code",
   "execution_count": 32,
   "id": "e7b926ed-5115-474d-bddc-7c9a02acfb4e",
   "metadata": {},
   "outputs": [],
   "source": [
    "X_train = np.array(X_train)\n",
    "y_label_idx = np.array(y_label_idx)\n",
    "\n",
    "X_train_scaled = X_train.astype(np.float32) / 255.0"
   ]
  },
  {
   "cell_type": "markdown",
   "id": "971dff0e-2b46-4bca-ac1a-5b4116118888",
   "metadata": {},
   "source": [
    "## Evaluate Final-3CLS-NB-4_0_1-converted"
   ]
  },
  {
   "cell_type": "code",
   "execution_count": 33,
   "id": "75c9622f-edac-43e6-ae4f-8aab0abe1ba3",
   "metadata": {},
   "outputs": [
    {
     "name": "stderr",
     "output_type": "stream",
     "text": [
      "WARNING:absl:Skipping variable loading for optimizer 'Adam', because it has 37 variables whereas the saved optimizer has 1 variables. \n"
     ]
    }
   ],
   "source": [
    "model_path = \"C:\\\\Users\\\\user\\\\Documents\\\\Machine-Learning-Hub-1\\\\Tensorflow\\\\colab_converted\\\\Final-3CLS-NB-4_0_1-converted.keras\"\n",
    "sm = tf.keras.models.load_model(model_path)"
   ]
  },
  {
   "cell_type": "code",
   "execution_count": 34,
   "id": "94389bfa-c87a-4557-9c91-9039ba457ab3",
   "metadata": {},
   "outputs": [
    {
     "name": "stdout",
     "output_type": "stream",
     "text": [
      "KFold CV 3-Class Model (NB) Result\n",
      "Precision: 0.7384615540504456  -  Recall: 0.7164179086685181\n",
      "Accuracy: 0.8208954930305481\n",
      "F1Score: Road 0.8156424760818481\n"
     ]
    }
   ],
   "source": [
    "pre = Precision()\n",
    "rec = Recall()\n",
    "c_acc = BinaryAccuracy()\n",
    "f1_score = F1Score()\n",
    "\n",
    "test_labels = []\n",
    "test_preds = []\n",
    "\n",
    "y = tf.keras.utils.to_categorical(y_label_idx, 3)\n",
    "for i in range(len(X_train_scaled)):\n",
    "    ready_image = np.expand_dims(X_train_scaled[i], 0)\n",
    "    yhat = sm.predict(ready_image, verbose=0)\n",
    "    ytrue = np.expand_dims(y[i], 0)\n",
    "    f1_score.update_state(ytrue, yhat)\n",
    "    pre.update_state(ytrue, yhat)\n",
    "    rec.update_state(ytrue, yhat)\n",
    "    c_acc.update_state(ytrue, yhat)\n",
    "\n",
    "    test_labels.append(y[i])\n",
    "    test_preds.append(yhat[0])\n",
    "\n",
    "# PRINTING RESULTS ===========================================\n",
    "print(\"KFold CV 3-Class Model (NB) Result\")\n",
    "print(f'Precision: {pre.result().numpy()}  -  Recall: {rec.result().numpy()}')\n",
    "print(f'Accuracy: {c_acc.result().numpy()}')\n",
    "# print(f'F1Score: Plant {f1_score.result().numpy()[0]} | Vehicle (NR) {f1_score.result().numpy()[1]}')\n",
    "# print(f'F1Score: Road {f1_score.result().numpy()[2]} | Vehicle {f1_score.result().numpy()[3]}')\n",
    "print(f'F1Score: Road {f1_score.result().numpy()[2]}')"
   ]
  },
  {
   "cell_type": "markdown",
   "id": "6549ca34-a95d-491f-8b67-e4cccc155ae1",
   "metadata": {},
   "source": [
    "## Plot Confusion Matrix"
   ]
  },
  {
   "cell_type": "code",
   "execution_count": 35,
   "id": "a7e441be",
   "metadata": {},
   "outputs": [],
   "source": [
    "test_labels = np.array(test_labels)\n",
    "test_preds = np.array(test_preds)"
   ]
  },
  {
   "cell_type": "code",
   "execution_count": 36,
   "id": "9fdea39b",
   "metadata": {},
   "outputs": [],
   "source": [
    "test_labels_c = [np.argmax(x) for x in test_labels]\n",
    "test_labels_c = np.array(test_labels_c)\n",
    "\n",
    "test_preds_c = [np.argmax(x) for x in test_preds]\n",
    "test_preds_c = np.array(test_preds_c)\n"
   ]
  },
  {
   "cell_type": "code",
   "execution_count": 37,
   "id": "49a1a8e7",
   "metadata": {},
   "outputs": [],
   "source": [
    "cm = sklearn.metrics.confusion_matrix(test_labels_c, test_preds_c)"
   ]
  },
  {
   "cell_type": "code",
   "execution_count": 38,
   "id": "b9b78424",
   "metadata": {},
   "outputs": [
    {
     "data": {
      "text/plain": [
       "Text(0.5, 1.0, 'Confusion Matrix')"
      ]
     },
     "execution_count": 38,
     "metadata": {},
     "output_type": "execute_result"
    },
    {
     "data": {
      "image/png": "[encoded data removed]",
      "text/plain": [
       "<Figure size 400x300 with 2 Axes>"
      ]
     },
     "metadata": {},
     "output_type": "display_data"
    }
   ],
   "source": [
    "fig, ax = plt.subplots(figsize=(4,3))\n",
    "sns.heatmap(cm, annot=True, cmap=\"Blues\", cbar=True,\n",
    "            xticklabels=['Plant','Vehicle (Not Road)', 'Road'],\n",
    "            yticklabels=['Plant','Vehicle (Not Road)', 'Road'],\n",
    "            fmt='g'\n",
    "           )\n",
    "plt.xlabel('Predicted', fontsize=14)\n",
    "plt.ylabel('Actual', fontsize=14)\n",
    "plt.title('Confusion Matrix', fontsize=16)"
   ]
  },
  {
   "cell_type": "code",
   "execution_count": null,
   "id": "d7f140ac",
   "metadata": {},
   "outputs": [],
   "source": [
    "precision_road = 73 / (73 + 8)   # True positives/ (True positives + False positives)\n",
    "recall_road = 73 / (73 + 25)  # True Positive (TP) / (True Positive + False Negative) \n",
    "f1_road = 2 * (precision_road * recall_road) / (precision_road + recall_road)\n",
    "\n",
    "print(f'Precision (Road): {precision_road}')\n",
    "print(f'Recall (Road): {recall_road}')\n",
    "print(f'F1-Score (Road): {f1_road}')"
   ]
  },
  {
   "cell_type": "markdown",
   "id": "8b0eba3c-6fc2-4c22-82c3-8e73cae19eca",
   "metadata": {},
   "source": [
    "# Final-3CLS-NP-4_0_1-converted"
   ]
  },
  {
   "cell_type": "markdown",
   "id": "44742f21-d011-4943-8518-fd5a2586a784",
   "metadata": {},
   "source": [
    "## Get Dataset"
   ]
  },
  {
   "cell_type": "code",
   "execution_count": 39,
   "id": "c91fcc76-fede-4ca2-a84f-51eac481717c",
   "metadata": {},
   "outputs": [],
   "source": [
    "labels = ['Building','Vehicle (Not Road)', 'Road']\n",
    "X_train = []\n",
    "y_train = []\n",
    "y_label_idx = []\n",
    "image_size = 256\n",
    "for i in labels:\n",
    "    \n",
    "    folderPath = os.path.join('D:\\\\DATASETS\\\\FireBase-Data\\\\Unseen-Testing-Data-For-3_Class_NP', i)\n",
    "    if not os.path.exists(folderPath):\n",
    "        continue\n",
    "    for j in os.listdir(folderPath):\n",
    "        img = image_to_numpy.load_image_file(os.path.join(folderPath,j))\n",
    "        img = cv2.resize(img,(image_size, image_size))\n",
    "        X_train.append(img)\n",
    "        y_label_idx.append(labels.index(i))"
   ]
  },
  {
   "cell_type": "code",
   "execution_count": 40,
   "id": "49c9b58d-1a60-46cb-8cdb-0709143c9468",
   "metadata": {},
   "outputs": [],
   "source": [
    "X_train = np.array(X_train)\n",
    "y_label_idx = np.array(y_label_idx)\n",
    "\n",
    "X_train_scaled = X_train.astype(np.float32) / 255.0"
   ]
  },
  {
   "cell_type": "markdown",
   "id": "754393c3-4d7e-4be6-bedc-e1c6650c8cf6",
   "metadata": {},
   "source": [
    "## Evaluate Final-3CLS-NP-4_0_1-converted"
   ]
  },
  {
   "cell_type": "code",
   "execution_count": 41,
   "id": "55ca737d-6e1c-48c0-bda9-c5bf1fb0c5ec",
   "metadata": {},
   "outputs": [
    {
     "name": "stderr",
     "output_type": "stream",
     "text": [
      "WARNING:absl:Skipping variable loading for optimizer 'Adam', because it has 37 variables whereas the saved optimizer has 1 variables. \n"
     ]
    }
   ],
   "source": [
    "model_path = \"C:\\\\Users\\\\user\\\\Documents\\\\Machine-Learning-Hub-1\\\\Tensorflow\\\\kaggle_converted\\\\Final-3CLS-NP-4_0_1-converted.keras\"\n",
    "sm = tf.keras.models.load_model(model_path)"
   ]
  },
  {
   "cell_type": "code",
   "execution_count": 42,
   "id": "e59767c9-145e-4a63-9229-7570c2a007f9",
   "metadata": {},
   "outputs": [
    {
     "name": "stdout",
     "output_type": "stream",
     "text": [
      "KFold CV 3-Class Model Result\n",
      "Precision: 0.5519999861717224  -  Recall: 0.5149253606796265\n",
      "Accuracy: 0.6990049481391907\n",
      "F1Score: Road 0.7228915095329285\n"
     ]
    }
   ],
   "source": [
    "pre = Precision()\n",
    "rec = Recall()\n",
    "c_acc = BinaryAccuracy()\n",
    "f1_score = F1Score()\n",
    "\n",
    "test_labels = []\n",
    "test_preds = []\n",
    "\n",
    "y = tf.keras.utils.to_categorical(y_label_idx, 3)\n",
    "for i in range(len(X_train_scaled)):\n",
    "    ready_image = np.expand_dims(X_train_scaled[i], 0)\n",
    "    yhat = sm.predict(ready_image, verbose=0)\n",
    "    ytrue = np.expand_dims(y[i], 0)\n",
    "    f1_score.update_state(ytrue, yhat)\n",
    "    pre.update_state(ytrue, yhat)\n",
    "    rec.update_state(ytrue, yhat)\n",
    "    c_acc.update_state(ytrue, yhat)\n",
    "\n",
    "    test_labels.append(y[i])\n",
    "    test_preds.append(yhat[0])\n",
    "\n",
    "# PRINTING RESULTS ===========================================\n",
    "print(\"KFold CV 3-Class Model Result\")\n",
    "print(f'Precision: {pre.result().numpy()}  -  Recall: {rec.result().numpy()}')\n",
    "print(f'Accuracy: {c_acc.result().numpy()}')\n",
    "# print(f'F1Score: Plant {f1_score.result().numpy()[0]} | Vehicle (NR) {f1_score.result().numpy()[1]}')\n",
    "# print(f'F1Score: Road {f1_score.result().numpy()[2]} | Vehicle {f1_score.result().numpy()[3]}')\n",
    "\n",
    "print(f'F1Score: Road {f1_score.result().numpy()[2]}')"
   ]
  },
  {
   "cell_type": "markdown",
   "id": "bb591547-43f8-4377-8028-84e94af2b612",
   "metadata": {},
   "source": [
    "## Plot Confusion Matrix"
   ]
  },
  {
   "cell_type": "code",
   "execution_count": 43,
   "id": "66a3ecfe-c064-43f7-b740-2fd6cf1f9636",
   "metadata": {},
   "outputs": [],
   "source": [
    "test_labels = np.array(test_labels)\n",
    "test_preds = np.array(test_preds)"
   ]
  },
  {
   "cell_type": "code",
   "execution_count": 44,
   "id": "4bd9d102-53be-444e-8fd7-095f2e206645",
   "metadata": {},
   "outputs": [],
   "source": [
    "test_labels_c = [np.argmax(x) for x in test_labels]\n",
    "test_labels_c = np.array(test_labels_c)\n",
    "\n",
    "test_preds_c = [np.argmax(x) for x in test_preds]\n",
    "test_preds_c = np.array(test_preds_c)\n"
   ]
  },
  {
   "cell_type": "code",
   "execution_count": 45,
   "id": "cad3ae6c-4389-49d7-9a17-471e6000217d",
   "metadata": {},
   "outputs": [],
   "source": [
    "cm = sklearn.metrics.confusion_matrix(test_labels_c, test_preds_c)"
   ]
  },
  {
   "cell_type": "code",
   "execution_count": 46,
   "id": "a7fafcc9-7d3c-4a13-93c3-53860f9460ed",
   "metadata": {},
   "outputs": [
    {
     "data": {
      "text/plain": [
       "Text(0.5, 1.0, 'Confusion Matrix')"
      ]
     },
     "execution_count": 46,
     "metadata": {},
     "output_type": "execute_result"
    },
    {
     "data": {
      "image/png": "[encoded data removed]",
      "text/plain": [
       "<Figure size 400x300 with 2 Axes>"
      ]
     },
     "metadata": {},
     "output_type": "display_data"
    }
   ],
   "source": [
    "fig, ax = plt.subplots(figsize=(4,3))\n",
    "sns.heatmap(cm, annot=True, cmap=\"Blues\", cbar=True,\n",
    "            xticklabels=['Building','Vehicle (Not Road)', 'Road'],\n",
    "            yticklabels=['Building','Vehicle (Not Road)', 'Road'],\n",
    "            fmt='g'\n",
    "           )\n",
    "plt.xlabel('Predicted', fontsize=14)\n",
    "plt.ylabel('Actual', fontsize=14)\n",
    "plt.title('Confusion Matrix', fontsize=16)"
   ]
  },
  {
   "cell_type": "code",
   "execution_count": null,
   "id": "bff6981d-ac28-4432-9dc9-5d513655206f",
   "metadata": {},
   "outputs": [],
   "source": [
    "precision_road = 60 / (60 + 8)   # True positives/ (True positives + False positives)\n",
    "recall_road = 60 / (60 + 38)  # True Positive (TP) / (True Positive + False Negative) \n",
    "f1_road = 2 * (precision_road * recall_road) / (precision_road + recall_road)\n",
    "\n",
    "print(f'Precision (Road): {precision_road}')\n",
    "print(f'Recall (Road): {recall_road}')\n",
    "print(f'F1-Score (Road): {f1_road}')"
   ]
  },
  {
   "cell_type": "markdown",
   "id": "a159c0a4-e139-46ad-8f24-39ae81570273",
   "metadata": {
    "jp-MarkdownHeadingCollapsed": true
   },
   "source": [
    "# Final-2CLS-OV-4_0_1-converted"
   ]
  },
  {
   "cell_type": "markdown",
   "id": "3e49404e-6035-4c1f-a0c8-101f0c38f98a",
   "metadata": {},
   "source": [
    "## Get Dataset"
   ]
  },
  {
   "cell_type": "code",
   "execution_count": null,
   "id": "10cba04b-66b0-4ef5-950f-f1a21da50607",
   "metadata": {},
   "outputs": [],
   "source": [
    "labels = ['Vehicle (Not Road)', 'Road']\n",
    "X_train = []\n",
    "y_train = []\n",
    "y_label_idx = []\n",
    "image_size = 256\n",
    "for i in labels:\n",
    "    \n",
    "    folderPath = os.path.join('D:\\\\DATASETS\\\\FireBase-Data\\\\Unseen-Testing-Data-For-2_Class_OV', i)\n",
    "    if not os.path.exists(folderPath):\n",
    "        continue\n",
    "    for j in os.listdir(folderPath):\n",
    "        img = image_to_numpy.load_image_file(os.path.join(folderPath,j))\n",
    "        img = cv2.resize(img,(image_size, image_size))\n",
    "        X_train.append(img)\n",
    "        y_label_idx.append(labels.index(i))"
   ]
  },
  {
   "cell_type": "code",
   "execution_count": null,
   "id": "d850816d-879b-4dfb-bdbe-b0aca380f518",
   "metadata": {},
   "outputs": [],
   "source": [
    "X_train = np.array(X_train)\n",
    "y_label_idx = np.array(y_label_idx)\n",
    "\n",
    "X_train_scaled = X_train.astype(np.float32) / 255.0"
   ]
  },
  {
   "cell_type": "markdown",
   "id": "b54f0d27-5f2b-4e0e-94d7-490b827bd43d",
   "metadata": {},
   "source": [
    "## Evaluate Final-2CLS-OV-4_0_1-converted"
   ]
  },
  {
   "cell_type": "code",
   "execution_count": null,
   "id": "2d4be78e-faf7-45df-9876-9d03be7bdf63",
   "metadata": {},
   "outputs": [],
   "source": [
    "model_path = \"C:\\\\Users\\\\user\\\\Documents\\\\Machine-Learning-Hub-1\\\\Tensorflow\\\\colab_converted\\\\Final-2CLS-OV-4_0_1-converted.keras\"\n",
    "sm = tf.keras.models.load_model(model_path)"
   ]
  },
  {
   "cell_type": "code",
   "execution_count": null,
   "id": "f9708509-96bc-4c75-bdc4-1958a3faeda3",
   "metadata": {},
   "outputs": [],
   "source": [
    "pre = Precision()\n",
    "rec = Recall()\n",
    "c_acc = BinaryAccuracy()\n",
    "f1_score = F1Score()\n",
    "\n",
    "\n",
    "y = tf.keras.utils.to_categorical(y_label_idx, 2)\n",
    "for i in range(len(X_train_scaled)):\n",
    "    ready_image = np.expand_dims(X_train_scaled[i], 0)\n",
    "    yhat = sm.predict(ready_image, verbose=0)\n",
    "    ytrue = np.expand_dims(y[i], 0)\n",
    "    f1_score.update_state(ytrue, yhat)\n",
    "    pre.update_state(ytrue, yhat)\n",
    "    rec.update_state(ytrue, yhat)\n",
    "    c_acc.update_state(ytrue, yhat)\n",
    "\n",
    "# PRINTING RESULTS ===========================================\n",
    "print(\"KFold CV 2-Class (OV) Model Result\")\n",
    "print(f'Precision: {pre.result().numpy()}  -  Recall: {rec.result().numpy()}')\n",
    "print(f'Accuracy: {c_acc.result().numpy()}')\n",
    "print(f'F1Score: Road {f1_score.result().numpy()[1]}')"
   ]
  },
  {
   "cell_type": "markdown",
   "id": "814eebbf-6e92-4a4f-9251-b799851265c2",
   "metadata": {},
   "source": [
    "# Print Result of Specific Images"
   ]
  },
  {
   "cell_type": "code",
   "execution_count": null,
   "id": "871fae0e-0494-4dd0-ab2d-cc30461b6a5d",
   "metadata": {},
   "outputs": [],
   "source": [
    "model_path = \"C:\\\\Users\\\\user\\\\Documents\\\\Machine-Learning-Hub-1\\\\Tensorflow\\\\kaggle_converted\\\\Final-B4_0_1-converted.keras\"\n",
    "sm = tf.keras.models.load_model(model_path)"
   ]
  },
  {
   "cell_type": "code",
   "execution_count": null,
   "id": "2a668593-3312-48f5-b0af-d65db2bc5f1d",
   "metadata": {},
   "outputs": [],
   "source": [
    "def predict_plot(img_path, class_count=4, model_type=\"R\"):\n",
    "    # img = Image.open(img_path)\n",
    "    img = image_to_numpy.load_image_file(img_path)\n",
    "    resize = tf.image.resize(img, (256,256))\n",
    "    ready_image = np.expand_dims(resize/255, 0)\n",
    "    yhat = sm.predict(ready_image)\n",
    "    \n",
    "    if class_count == 4:\n",
    "        print(f\"Raw: {yhat}\")\n",
    "        print(\"Labels:   0-Building   1-Plant   2-Road   3-Vehicle\")\n",
    "        print(f\"Prediction: {np.argmax(yhat)}\")\n",
    "    elif class_count == 2 and model_type == \"R\":\n",
    "        print(f\"Raw: {yhat}\")\n",
    "        print(\"Labels:   0-Not Road   1-Road\")\n",
    "        print(f\"Prediction: {np.argmax(yhat)}\")\n",
    "    elif class_count == 2 and model_type == \"I\":\n",
    "        print(f\"Raw: {yhat}\")\n",
    "        print(\"Labels:   0-Not Issue   1-Issue\")\n",
    "        print(f\"Prediction: {np.argmax(yhat)}\")\n",
    "    elif class_count == 3:\n",
    "        print(f\"Raw: {yhat}\")\n",
    "        print(\"Labels:   0-Plant   1-Vehicle   2-Road\")\n",
    "        print(f\"Prediction: {np.argmax(yhat)}\")         \n",
    "    \n",
    "    plt.figure(figsize=(3,3))\n",
    "    plt.imshow(ready_image[0].astype(float))"
   ]
  },
  {
   "cell_type": "code",
   "execution_count": null,
   "id": "ce1447dc-217f-4298-8bde-c3d4542836f1",
   "metadata": {},
   "outputs": [],
   "source": [
    "predict_plot(\"D:\\\\DATASETS\\\\FireBase-Data\\\\Unseen-Testing-Data-For-Binary\\\\Not Road\\\\2024-04-10 12_09_41.png\", 2)"
   ]
  },
  {
   "cell_type": "code",
   "execution_count": null,
   "id": "1c159797-c0ff-49f7-bbd5-49b6a4ea1851",
   "metadata": {},
   "outputs": [],
   "source": [
    "predict_plot(\"D:\\\\DATASETS\\\\FireBase-Data\\\\Unseen-Testing-Data-For-Binary\\\\Not Road\\\\2024-04-22 08_54_58.png\", 2)"
   ]
  },
  {
   "cell_type": "code",
   "execution_count": null,
   "id": "e4bb1743-ca80-4a56-a839-3949309a11ad",
   "metadata": {},
   "outputs": [],
   "source": [
    "predict_plot(\"D:\\\\DATASETS\\\\FireBase-Data\\\\Unseen-Testing-Data-For-Binary\\\\Not Road\\\\2024-04-06 15_35_37.png\", 2)"
   ]
  },
  {
   "cell_type": "code",
   "execution_count": null,
   "id": "a8dd9c4b-e209-4710-946d-3a9b65f3f642",
   "metadata": {},
   "outputs": [],
   "source": [
    "predict_plot(\"D:\\\\DATASETS\\\\FireBase-Data\\\\Unseen-Testing-Data-For-Binary\\\\Not Road\\\\2024-04-12 09_38_07.png\", 2)"
   ]
  },
  {
   "cell_type": "code",
   "execution_count": null,
   "id": "df6df2f8-8991-408e-95f6-57eed29a4ac4",
   "metadata": {},
   "outputs": [],
   "source": [
    "predict_plot(\"D:\\\\DATASETS\\\\FireBase-Data\\\\Unseen-Testing-Data-For-Binary\\\\Not Road\\\\2024-04-09 17_37_31.png\", 2)"
   ]
  },
  {
   "cell_type": "code",
   "execution_count": null,
   "id": "abff61f1-a1c2-41a0-aeab-489b1b941c98",
   "metadata": {},
   "outputs": [],
   "source": []
  }
 ],
 "metadata": {
  "kernelspec": {
   "display_name": "neptune",
   "language": "python",
   "name": "neptune"
  },
  "language_info": {
   "codemirror_mode": {
    "name": "ipython",
    "version": 3
   },
   "file_extension": ".py",
   "mimetype": "text/x-python",
   "name": "python",
   "nbconvert_exporter": "python",
   "pygments_lexer": "ipython3",
   "version": "3.10.9"
  }
 },
 "nbformat": 4,
 "nbformat_minor": 5
}
