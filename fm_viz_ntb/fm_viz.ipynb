{
 "cells": [
  {
   "cell_type": "markdown",
   "id": "53864e74-5c41-4bc5-b11f-84e070a0929b",
   "metadata": {},
   "source": [
    "## Load Libraries"
   ]
  },
  {
   "cell_type": "code",
   "execution_count": 1,
   "id": "6909d22e-d6e1-4f55-baa7-f8568185bf3a",
   "metadata": {},
   "outputs": [
    {
     "name": "stdout",
     "output_type": "stream",
     "text": [
      "WARNING:tensorflow:From C:\\Users\\user\\Documents\\Machine-Learning-Hub-1\\ImageClassification\\Neptune-Thesis\\venv\\lib\\site-packages\\keras\\src\\losses.py:2976: The name tf.losses.sparse_softmax_cross_entropy is deprecated. Please use tf.compat.v1.losses.sparse_softmax_cross_entropy instead.\n",
      "\n"
     ]
    }
   ],
   "source": [
    "import tqdm\n",
    "import os\n",
    "import cv2\n",
    "import imghdr\n",
    "import image_to_numpy\n",
    "import numpy as np\n",
    "import seaborn as sns\n",
    "from matplotlib import pyplot as plt\n",
    "from datetime import datetime\n",
    "import itertools\n",
    "from numpy.random import default_rng\n",
    "\n",
    "import tensorflow as tf\n",
    "from tensorflow.keras.models import Sequential\n",
    "from tensorflow.keras.layers import RandomFlip, RandomRotation, RandomContrast, RandomBrightness, Rescaling, Resizing\n",
    "from tensorflow.keras.layers import Conv2D, MaxPooling2D, Flatten, Dense, Dropout, BatchNormalization, ReLU\n",
    "from tensorflow.keras.metrics import F1Score, Precision, Recall, CategoricalAccuracy\n",
    "from tensorboard.plugins.hparams import api as hp\n",
    "import sklearn\n",
    "from sklearn.metrics import classification_report,confusion_matrix\n",
    "from sklearn.model_selection import StratifiedKFold\n",
    "\n",
    "from time import perf_counter\n",
    "import math\n",
    "\n",
    "import neptune\n",
    "from neptune.integrations.tensorflow_keras import NeptuneCallback"
   ]
  },
  {
   "cell_type": "markdown",
   "id": "dc7dd9ea-9f4e-40ce-8948-de0abc7adb38",
   "metadata": {
    "jp-MarkdownHeadingCollapsed": true
   },
   "source": [
    "## Rough Code"
   ]
  },
  {
   "cell_type": "code",
   "execution_count": null,
   "id": "5bc1d3cd-5dfe-4a66-85dc-371d0365f476",
   "metadata": {},
   "outputs": [],
   "source": [
    "def viz_grid(output, ncols=4, nrows=4):\n",
    "    fig, ax = plt.subplots(ncols=ncols, nrows=nrows, figsize=(10,10))\n",
    "    # itertools.product creates a permutation \n",
    "    for idx, ax_idx in enumerate(list(itertools.product(range(ncols), range(nrows)))):\n",
    "        ax[ax_idx[1], ax_idx[0]].imshow(output[0,:,:,idx])"
   ]
  },
  {
   "cell_type": "code",
   "execution_count": null,
   "id": "57019970-c8ac-4fb4-8eb0-c71b738cf6f3",
   "metadata": {},
   "outputs": [],
   "source": [
    "sm = tf.keras.models.load_model(\"C:\\\\Users\\\\user\\\\Documents\\\\Machine-Learning-Hub-1\\\\Tensorflow\\\\kaggle_converted\\\\Final-B4_0_1-converted.keras\")"
   ]
  },
  {
   "cell_type": "code",
   "execution_count": null,
   "id": "5b731941-58e7-4894-a458-5e5713777a69",
   "metadata": {},
   "outputs": [],
   "source": [
    "layers_c1 = sm.layers[:6]\n",
    "model_c1 = Sequential(layers_c1)"
   ]
  },
  {
   "cell_type": "code",
   "execution_count": null,
   "id": "a7f15c71-e196-410b-97c4-4546b8ff2138",
   "metadata": {},
   "outputs": [],
   "source": [
    "img_sample_dir = \"D:\\DATASETS\\Tricycle.JPG\"\n",
    "image_size = 256\n",
    "img_sample = image_to_numpy.load_image_file(os.path.join(img_sample_dir))\n",
    "img_sample = cv2.resize(img_sample, (image_size, image_size))\n",
    "img_sample = img_sample.astype(np.float32) / 255.0\n",
    "fig, ax = plt.subplots(figsize=(3,3))\n",
    "ax.imshow(img_sample.astype(float))"
   ]
  },
  {
   "cell_type": "code",
   "execution_count": null,
   "id": "a2b083c4-f193-4e5c-9aa8-bcb86877a95a",
   "metadata": {},
   "outputs": [],
   "source": [
    "output_c1 = model_c1.predict(np.expand_dims(img_sample, 0))"
   ]
  },
  {
   "cell_type": "code",
   "execution_count": null,
   "id": "2f6995b2-a6b9-4c8f-9a5a-fd4501f38de3",
   "metadata": {},
   "outputs": [],
   "source": [
    "viz_grid(output_c1, 4, 4)"
   ]
  },
  {
   "cell_type": "code",
   "execution_count": null,
   "id": "ce02d755-0dd8-4afc-869d-c86f5a42ba2a",
   "metadata": {},
   "outputs": [],
   "source": [
    "layers_c2 = sm.layers[:10]\n",
    "model_c2 = Sequential(layers_c2)"
   ]
  },
  {
   "cell_type": "code",
   "execution_count": null,
   "id": "dec3a0b3-d1fe-4d80-b495-1e34a397e409",
   "metadata": {},
   "outputs": [],
   "source": [
    "output_c2 = model_c2.predict(np.expand_dims(img_sample, 0))\n",
    "viz_grid(output_c2, 4, 4)"
   ]
  },
  {
   "cell_type": "code",
   "execution_count": null,
   "id": "b2b95fb6-d93f-485f-a4d4-b6b45d84e047",
   "metadata": {},
   "outputs": [],
   "source": [
    "layers_c3 = sm.layers[:14]\n",
    "model_c3 = Sequential(layers_c3)"
   ]
  },
  {
   "cell_type": "code",
   "execution_count": null,
   "id": "270fb8d1-eaa7-40c1-ae5d-227778c543b0",
   "metadata": {},
   "outputs": [],
   "source": [
    "output_c3 = model_c3.predict(np.expand_dims(img_sample, 0))\n",
    "fig, ax = plt.subplots(ncols=4, nrows=8, figsize=(15,15))\n",
    "# itertools.product creates a permutation \n",
    "for idx, ax_idx in enumerate(list(itertools.product(range(4), range(8)))):\n",
    "    ax[ax_idx[1], ax_idx[0]].imshow(output_c3[0,:,:,idx])\n",
    "    \n",
    "fig.tight_layout()\n"
   ]
  },
  {
   "cell_type": "markdown",
   "id": "9cde7731-8670-4e74-bd33-3755cc1da536",
   "metadata": {},
   "source": [
    "## Function for Feature Map Overlay to Image Input"
   ]
  },
  {
   "cell_type": "markdown",
   "id": "0980c6e5-c013-4c4b-99c8-ea8fc5f3cdc4",
   "metadata": {},
   "source": [
    "Feature maps used before were numbers 9, 11, and 14!"
   ]
  },
  {
   "cell_type": "code",
   "execution_count": 2,
   "id": "d48fb160-58fd-4683-ad55-8ae253aef8f4",
   "metadata": {},
   "outputs": [],
   "source": [
    "def fm_to_image_overlay(feature_map, num=\"0\"):\n",
    "    # Show initial feature map\n",
    "    plt.figure(figsize=(2,2))\n",
    "    plt.title(f\"Original Feature Map {num}\")\n",
    "    plt.imshow(feature_map)\n",
    "    fm_to_scale = feature_map\n",
    "    \n",
    "    # Set size of feature map to be like input\n",
    "    orig_img_size = (256,256)\n",
    "    enlarged = cv2.resize(fm_to_scale, orig_img_size, interpolation=cv2.INTER_LINEAR)\n",
    "    plt.figure(figsize=(3,3))\n",
    "    plt.title(f\"Enalrged Feature Map {num}\")\n",
    "    plt.imshow(enlarged)\n",
    "    \n",
    "    # Set filtering of mask to top 10% of activations\n",
    "    percentile_90 = np.percentile(enlarged, 90)\n",
    "    \n",
    "    # Apply masking\n",
    "    mask_filter = enlarged >= percentile_90\n",
    "    output = enlarged.copy()\n",
    "    output[mask_filter] = 1\n",
    "    output[~mask_filter] = 0\n",
    "    plt.figure(figsize=(3,3))\n",
    "    plt.title(f\"Masked Feature Map {num}\")\n",
    "    plt.imshow(output)\n",
    "    \n",
    "    # Perform Overlay\n",
    "    plt.figure(figsize=(3,3))\n",
    "    plt.title(f\"Masked Overlay {num} to Input Image\")\n",
    "    plt.imshow(img_sample)\n",
    "    plt.imshow(output, alpha=0.25, cmap='cool') \n",
    "    # plt.show()"
   ]
  },
  {
   "cell_type": "markdown",
   "id": "0e4ffdc0-d3aa-4c06-90db-2e948af73062",
   "metadata": {},
   "source": [
    "## Convert Rough Code to Functions"
   ]
  },
  {
   "cell_type": "code",
   "execution_count": 3,
   "id": "96867954-44f6-48b8-a9e7-24e5d0f7c6b2",
   "metadata": {},
   "outputs": [],
   "source": [
    "def plot_input(img_path, title=\"\"):\n",
    "    img_sample_dir = img_path\n",
    "    image_size = 256\n",
    "    img_sample = image_to_numpy.load_image_file(os.path.join(img_sample_dir))\n",
    "    img_sample = cv2.resize(img_sample, (image_size, image_size))\n",
    "    img_sample = img_sample.astype(np.float32) / 255.0\n",
    "    fig, ax = plt.subplots(figsize=(3,3))\n",
    "    ax.imshow(img_sample.astype(float))\n",
    "    ax.axis(\"off\")\n",
    "    fig.suptitle(title)\n",
    "\n",
    "def new_viz_grid(output, ncols=4, nrows=4, fig_size=(10,10), title=\"\"):\n",
    "    fig, ax = plt.subplots(ncols=ncols, nrows=nrows, figsize=fig_size)\n",
    "    fig.suptitle(title)\n",
    "    # itertools.product creates a permutation \n",
    "    for idx, ax_idx in enumerate(list(itertools.product(range(ncols), range(nrows)))):\n",
    "        ax[ax_idx[1], ax_idx[0]].imshow(output[0,:,:,idx])\n",
    "        ax[ax_idx[1], ax_idx[0]].axis(\"off\")\n",
    "    fig.subplots_adjust(top=0.95, wspace=0)\n",
    "    \n",
    "    "
   ]
  },
  {
   "cell_type": "code",
   "execution_count": 4,
   "id": "0a29ddea-e3d1-4fe5-8948-b2ee7dce95ee",
   "metadata": {},
   "outputs": [],
   "source": [
    "def fm_viz(\n",
    "    sm,\n",
    "    img_path=\"D:\\DATASETS\\Tricycle.JPG\",\n",
    "):\n",
    "    \n",
    "    plot_input(img_path, \"Input Image\")\n",
    "    \n",
    "    \n",
    "    layers_c1 = sm.layers[:6]\n",
    "    model_c1 = Sequential(layers_c1)\n",
    "    \n",
    "    output_c1 = model_c1.predict(np.expand_dims(img_sample, 0))\n",
    "    new_viz_grid(output_c1, 4, 4, (10,10), \"Conv_Set_1's Feature Maps\")\n",
    "\n",
    "    layers_c2 = sm.layers[:10]\n",
    "    model_c2 = Sequential(layers_c2)\n",
    "    output_c2 = model_c2.predict(np.expand_dims(img_sample, 0))\n",
    "    new_viz_grid(output_c2, 4, 4, (10,10), \"Conv_Set_2's Feature Maps\")\n",
    "\n",
    "    layers_c3 = sm.layers[:14]\n",
    "    model_c3 = Sequential(layers_c3)\n",
    "    output_c3 = model_c3.predict(np.expand_dims(img_sample, 0))\n",
    "    new_viz_grid(output_c3, 4, 8, (15,15), \"Conv_Set_3's Feature Maps\")\n",
    "\n",
    "    fm_to_image_overlay(output_c3[0,:,:,9], \"9\")\n",
    "    fm_to_image_overlay(output_c3[0,:,:,11], \"11\")\n",
    "    fm_to_image_overlay(output_c3[0,:,:,14], \"14\")\n"
   ]
  },
  {
   "cell_type": "markdown",
   "id": "8f148101-e41a-4cca-8f39-a8986e9459cf",
   "metadata": {},
   "source": [
    "# Final-B4_0_1-converted "
   ]
  },
  {
   "cell_type": "code",
   "execution_count": null,
   "id": "4a95ee58-03ca-43ea-8bee-37fb309dcc2b",
   "metadata": {},
   "outputs": [],
   "source": [
    "model_path = \"C:\\\\Users\\\\user\\\\Documents\\\\Machine-Learning-Hub-1\\\\Tensorflow\\\\kaggle_converted\\\\Final-B4_0_1-converted.keras\""
   ]
  },
  {
   "cell_type": "code",
   "execution_count": null,
   "id": "798164f1-67c8-4fb3-97ea-34029ec558a0",
   "metadata": {},
   "outputs": [],
   "source": [
    "sm = tf.keras.models.load_model(model_path)"
   ]
  },
  {
   "cell_type": "markdown",
   "id": "0f16f35b-d3fa-467b-9a54-e4667d9bfe15",
   "metadata": {},
   "source": [
    "## Vehicle (Tricycle)"
   ]
  },
  {
   "cell_type": "code",
   "execution_count": null,
   "id": "3f7b25c7-4b1f-4fe3-8546-8dbaa3f0c608",
   "metadata": {},
   "outputs": [],
   "source": [
    "img_path = \"D:\\DATASETS\\Tricycle.JPG\""
   ]
  },
  {
   "cell_type": "markdown",
   "id": "39104bb0-c0b5-4fb4-93bb-288f8d09ca0c",
   "metadata": {},
   "source": [
    "### Classify Vehicle (Tricycle)"
   ]
  },
  {
   "cell_type": "code",
   "execution_count": null,
   "id": "bee229cd-4ff3-4dff-b586-7b942abb549b",
   "metadata": {},
   "outputs": [],
   "source": [
    "img_sample = image_to_numpy.load_image_file(os.path.join(img_path))\n",
    "img_sample = cv2.resize(img_sample, (256, 256))\n",
    "img_sample = img_sample.astype(np.float32) / 255.0"
   ]
  },
  {
   "cell_type": "code",
   "execution_count": null,
   "id": "a1f18534-5452-4990-b8c6-ca16227e541a",
   "metadata": {},
   "outputs": [],
   "source": [
    "yhat = sm.predict(np.expand_dims(img_sample, 0))\n",
    "print(f\"Raw: {yhat}\")\n",
    "print(\"Labels:   0-Not Road   1-Road\")\n",
    "print(f\"Prediction: {np.argmax(yhat)}\")"
   ]
  },
  {
   "cell_type": "code",
   "execution_count": null,
   "id": "adcd372f-34ea-4130-929e-a717c145b299",
   "metadata": {},
   "outputs": [],
   "source": []
  },
  {
   "cell_type": "markdown",
   "id": "fc1d4ea4-57d9-417f-9ba7-a6d6001cdf12",
   "metadata": {},
   "source": [
    "### Plot Vehicle (Tricycle)"
   ]
  },
  {
   "cell_type": "code",
   "execution_count": null,
   "id": "7f7e8667-7c50-46a4-952c-c57f5667f8c8",
   "metadata": {},
   "outputs": [],
   "source": [
    "fm_viz(sm, img_path)"
   ]
  },
  {
   "cell_type": "code",
   "execution_count": null,
   "id": "4403ca0d-08bb-49a7-aa8a-f510bce9fd3d",
   "metadata": {},
   "outputs": [],
   "source": []
  },
  {
   "cell_type": "markdown",
   "id": "9df5dd5e-2c55-4d33-a686-489c618a1b69",
   "metadata": {},
   "source": [
    "## Road (Puddle)"
   ]
  },
  {
   "cell_type": "code",
   "execution_count": null,
   "id": "ba4831ac",
   "metadata": {},
   "outputs": [],
   "source": [
    "img_path = \"D:\\\\DATASETS\\\\For-Thesis\\\\Excess\\\\Road\\\\IMG_20240221_144854.jpg\""
   ]
  },
  {
   "cell_type": "markdown",
   "id": "4cc20be2-77bc-43f6-b2d7-bc5650d38bbd",
   "metadata": {},
   "source": [
    "### Classify Vehicle (Tricycle)"
   ]
  },
  {
   "cell_type": "code",
   "execution_count": null,
   "id": "78047990",
   "metadata": {},
   "outputs": [],
   "source": [
    "img_sample = image_to_numpy.load_image_file(os.path.join(img_path))\n",
    "img_sample = cv2.resize(img_sample, (256, 256))\n",
    "img_sample = img_sample.astype(np.float32) / 255.0"
   ]
  },
  {
   "cell_type": "code",
   "execution_count": null,
   "id": "66c0e090",
   "metadata": {},
   "outputs": [],
   "source": [
    "yhat = sm.predict(np.expand_dims(img_sample, 0))\n",
    "print(f\"Raw: {yhat}\")\n",
    "print(\"Labels:   0-Not Road   1-Road\")\n",
    "print(f\"Prediction: {np.argmax(yhat)}\")"
   ]
  },
  {
   "cell_type": "code",
   "execution_count": null,
   "id": "cf2a88f7",
   "metadata": {},
   "outputs": [],
   "source": []
  },
  {
   "cell_type": "markdown",
   "id": "75a9c34c-8330-4094-998f-5c469fe18774",
   "metadata": {},
   "source": [
    "### Plot Vehicle (Tricycle)"
   ]
  },
  {
   "cell_type": "code",
   "execution_count": null,
   "id": "c5d02692",
   "metadata": {},
   "outputs": [],
   "source": [
    "fm_viz(sm, img_path)"
   ]
  },
  {
   "cell_type": "code",
   "execution_count": null,
   "id": "9bcf5c29",
   "metadata": {},
   "outputs": [],
   "source": []
  },
  {
   "cell_type": "code",
   "execution_count": null,
   "id": "6db278cc-5374-42dc-b903-9d0f731909aa",
   "metadata": {},
   "outputs": [],
   "source": []
  },
  {
   "cell_type": "markdown",
   "id": "7669debc-9b14-4299-b198-1c209e10ac01",
   "metadata": {},
   "source": [
    "## Road (Pedestrian Lane)"
   ]
  },
  {
   "cell_type": "code",
   "execution_count": null,
   "id": "1602c5f0-05c1-4948-bc65-c739272af72d",
   "metadata": {},
   "outputs": [],
   "source": [
    "img_path = \"D:\\\\DATASETS\\\\For-Issue-Classifier\\\\Final Classes\\\\Issue\\\\IMG_20240223_151958.jpg\""
   ]
  },
  {
   "cell_type": "markdown",
   "id": "24e5555d-597f-4788-b127-974818a09761",
   "metadata": {},
   "source": [
    "### Classify Vehicle (Tricycle)"
   ]
  },
  {
   "cell_type": "code",
   "execution_count": null,
   "id": "10697fa0-4e49-4203-9bc1-82f68d5db23e",
   "metadata": {},
   "outputs": [],
   "source": [
    "img_sample = image_to_numpy.load_image_file(os.path.join(img_path))\n",
    "img_sample = cv2.resize(img_sample, (256, 256))\n",
    "img_sample = img_sample.astype(np.float32) / 255.0"
   ]
  },
  {
   "cell_type": "code",
   "execution_count": null,
   "id": "a3e0ee4a-8635-4421-b45d-4e6c0ced3092",
   "metadata": {},
   "outputs": [],
   "source": [
    "yhat = sm.predict(np.expand_dims(img_sample, 0))\n",
    "print(f\"Raw: {yhat}\")\n",
    "print(\"Labels:   0-Not Road   1-Road\")\n",
    "print(f\"Prediction: {np.argmax(yhat)}\")"
   ]
  },
  {
   "cell_type": "code",
   "execution_count": null,
   "id": "478d0491-a070-42f1-b9c3-f985207bbb92",
   "metadata": {},
   "outputs": [],
   "source": []
  },
  {
   "cell_type": "markdown",
   "id": "cedd68f0-2263-4080-8e78-8353086cbd41",
   "metadata": {},
   "source": [
    "### Plot Vehicle (Tricycle)"
   ]
  },
  {
   "cell_type": "code",
   "execution_count": null,
   "id": "17863b73-f9a1-4c48-b000-fb71178160eb",
   "metadata": {},
   "outputs": [],
   "source": [
    "fm_viz(sm, img_path)"
   ]
  },
  {
   "cell_type": "code",
   "execution_count": null,
   "id": "0300d400-2d70-4eef-a782-d6338222bd53",
   "metadata": {},
   "outputs": [],
   "source": []
  },
  {
   "cell_type": "code",
   "execution_count": null,
   "id": "93922a00-9c79-4596-9dc9-94b38fab40d8",
   "metadata": {},
   "outputs": [],
   "source": []
  },
  {
   "cell_type": "markdown",
   "id": "73f5f49e-f996-4028-a917-3d7f3d644602",
   "metadata": {},
   "source": [
    "## Road (Issue Near ADNU)"
   ]
  },
  {
   "cell_type": "code",
   "execution_count": null,
   "id": "26e24c16-3dc8-4cac-83fd-9c8fa7606483",
   "metadata": {},
   "outputs": [],
   "source": [
    "img_path = \"D:\\\\DATASETS\\\\For-Issue-Classifier\\\\Original Dataset\\\\Issues\\\\IMG_7938.jpg\""
   ]
  },
  {
   "cell_type": "markdown",
   "id": "5c1b1c42-bb7c-455b-bd63-052b9baf72f3",
   "metadata": {},
   "source": [
    "### Classify Vehicle (Tricycle)"
   ]
  },
  {
   "cell_type": "code",
   "execution_count": null,
   "id": "be6e4289-c7f0-49d9-bc95-390696f01cd5",
   "metadata": {},
   "outputs": [],
   "source": [
    "img_sample = image_to_numpy.load_image_file(os.path.join(img_path))\n",
    "img_sample = cv2.resize(img_sample, (256, 256))\n",
    "img_sample = img_sample.astype(np.float32) / 255.0"
   ]
  },
  {
   "cell_type": "code",
   "execution_count": null,
   "id": "92b711dc-281e-41c6-81da-2906be458a23",
   "metadata": {},
   "outputs": [],
   "source": [
    "yhat = sm.predict(np.expand_dims(img_sample, 0))\n",
    "print(f\"Raw: {yhat}\")\n",
    "print(\"Labels:   0-Not Road   1-Road\")\n",
    "print(f\"Prediction: {np.argmax(yhat)}\")"
   ]
  },
  {
   "cell_type": "code",
   "execution_count": null,
   "id": "b6911c1b-d6c6-4ae4-8d45-7b089c727c3b",
   "metadata": {},
   "outputs": [],
   "source": []
  },
  {
   "cell_type": "markdown",
   "id": "17b37abd-926e-475d-a2b2-a05cf0be8004",
   "metadata": {},
   "source": [
    "### Plot Vehicle (Tricycle)"
   ]
  },
  {
   "cell_type": "code",
   "execution_count": null,
   "id": "28203ad7-aa79-4f7c-af93-3de58be29697",
   "metadata": {},
   "outputs": [],
   "source": [
    "fm_viz(sm, img_path)"
   ]
  },
  {
   "cell_type": "code",
   "execution_count": null,
   "id": "30c2c75b-111d-43b3-8aca-5eaf6626486e",
   "metadata": {},
   "outputs": [],
   "source": []
  },
  {
   "cell_type": "code",
   "execution_count": null,
   "id": "287499d8-c2a4-4a5c-82b7-9dd8394905ef",
   "metadata": {},
   "outputs": [],
   "source": []
  },
  {
   "cell_type": "markdown",
   "id": "ecbad083-7b02-432a-90c2-d8e81e616735",
   "metadata": {},
   "source": [
    "## Building (Some Building I Saw)"
   ]
  },
  {
   "cell_type": "code",
   "execution_count": null,
   "id": "d46fd576-17ae-4970-893b-2a582f7a28ea",
   "metadata": {},
   "outputs": [],
   "source": [
    "img_path = \"D:\\\\DATASETS\\\\For-Thesis\\\\Excess\\\\Building\\\\IMG_20240226_134825.jpg\""
   ]
  },
  {
   "cell_type": "markdown",
   "id": "26c50775-8628-4cc6-8dc6-c0924e24dde5",
   "metadata": {},
   "source": [
    "### Classify Vehicle (Tricycle)"
   ]
  },
  {
   "cell_type": "code",
   "execution_count": null,
   "id": "a163e4ee-f784-49b3-a4a0-51b2cdafef3d",
   "metadata": {},
   "outputs": [],
   "source": [
    "img_sample = image_to_numpy.load_image_file(os.path.join(img_path))\n",
    "img_sample = cv2.resize(img_sample, (256, 256))\n",
    "img_sample = img_sample.astype(np.float32) / 255.0"
   ]
  },
  {
   "cell_type": "code",
   "execution_count": null,
   "id": "6a251e55-0c4b-4055-acc8-be579ce1ce90",
   "metadata": {},
   "outputs": [],
   "source": [
    "yhat = sm.predict(np.expand_dims(img_sample, 0))\n",
    "print(f\"Raw: {yhat}\")\n",
    "print(\"Labels:   0-Not Road   1-Road\")\n",
    "print(f\"Prediction: {np.argmax(yhat)}\")"
   ]
  },
  {
   "cell_type": "code",
   "execution_count": null,
   "id": "28a074d5-d302-4c8c-83d1-ae7ab686aa83",
   "metadata": {},
   "outputs": [],
   "source": []
  },
  {
   "cell_type": "markdown",
   "id": "b3fd9dbd-65b4-444f-8006-54f6fa605bfd",
   "metadata": {},
   "source": [
    "### Plot Vehicle (Tricycle)"
   ]
  },
  {
   "cell_type": "code",
   "execution_count": null,
   "id": "5086e2fc-de58-435c-9528-464a91755b53",
   "metadata": {},
   "outputs": [],
   "source": [
    "fm_viz(sm, img_path)"
   ]
  },
  {
   "cell_type": "code",
   "execution_count": null,
   "id": "adfe949d-efe0-49c0-807f-d7d309204114",
   "metadata": {},
   "outputs": [],
   "source": []
  },
  {
   "cell_type": "code",
   "execution_count": null,
   "id": "b90f7d8a-1467-4a63-a915-cdc80993d98c",
   "metadata": {},
   "outputs": [],
   "source": []
  },
  {
   "cell_type": "markdown",
   "id": "6070c9b8-1d2b-4b25-81d6-7e0a36091639",
   "metadata": {},
   "source": [
    "## Plant ()"
   ]
  },
  {
   "cell_type": "code",
   "execution_count": null,
   "id": "0dade2cd-1f49-479c-b923-f379dc68c354",
   "metadata": {},
   "outputs": [],
   "source": [
    "img_path = \"D:\\\\DATASETS\\\\For-Thesis\\\\Excess\\\\Plant\\\\IMG_20240222_144659.jpg\""
   ]
  },
  {
   "cell_type": "markdown",
   "id": "53d55d43-3493-46f9-9dbf-f8a8150e02c0",
   "metadata": {},
   "source": [
    "### Classify Vehicle (Tricycle)"
   ]
  },
  {
   "cell_type": "code",
   "execution_count": null,
   "id": "2a449530-2de8-41a1-a56b-810e3b5d2ee6",
   "metadata": {},
   "outputs": [],
   "source": [
    "img_sample = image_to_numpy.load_image_file(os.path.join(img_path))\n",
    "img_sample = cv2.resize(img_sample, (256, 256))\n",
    "img_sample = img_sample.astype(np.float32) / 255.0"
   ]
  },
  {
   "cell_type": "code",
   "execution_count": null,
   "id": "fa62fbdc-5e6d-4228-8d42-6fefd69cc0c1",
   "metadata": {},
   "outputs": [],
   "source": [
    "yhat = sm.predict(np.expand_dims(img_sample, 0))\n",
    "print(f\"Raw: {yhat}\")\n",
    "print(\"Labels:   0-Not Road   1-Road\")\n",
    "print(f\"Prediction: {np.argmax(yhat)}\")"
   ]
  },
  {
   "cell_type": "code",
   "execution_count": null,
   "id": "b6c25c4c-a7a6-4907-a5c3-0a403a5f90b6",
   "metadata": {},
   "outputs": [],
   "source": []
  },
  {
   "cell_type": "markdown",
   "id": "6ad026c1-0852-49b7-bfc8-b66db924b517",
   "metadata": {},
   "source": [
    "### Plot Vehicle (Tricycle)"
   ]
  },
  {
   "cell_type": "code",
   "execution_count": null,
   "id": "42f7d75d-5de8-4544-85b9-2f244ec127e2",
   "metadata": {},
   "outputs": [],
   "source": [
    "fm_viz(sm, img_path)"
   ]
  },
  {
   "cell_type": "code",
   "execution_count": null,
   "id": "2865e948-8c9a-44fb-a01f-8471efb5f9ca",
   "metadata": {},
   "outputs": [],
   "source": []
  },
  {
   "cell_type": "code",
   "execution_count": null,
   "id": "250731f9-3c81-4db8-980e-18ff0b597433",
   "metadata": {},
   "outputs": [],
   "source": []
  },
  {
   "cell_type": "markdown",
   "id": "f70ee93d-2395-4383-b395-c616b25fc1f2",
   "metadata": {},
   "source": [
    "## Vehicle (Zeke's Car)"
   ]
  },
  {
   "cell_type": "code",
   "execution_count": null,
   "id": "084b95e4-37ff-41d9-ac95-0f27f5dd7561",
   "metadata": {},
   "outputs": [],
   "source": [
    "img_path = \"D:\\\\DATASETS\\\\Zeke_Car.jpg\""
   ]
  },
  {
   "cell_type": "markdown",
   "id": "27f8678c-5d2d-4c04-aff8-2fbe2dc2ccf2",
   "metadata": {},
   "source": [
    "### Classify Vehicle (Tricycle)"
   ]
  },
  {
   "cell_type": "code",
   "execution_count": null,
   "id": "3a7b1e67-92b0-4ddc-b2e0-442d6750191a",
   "metadata": {},
   "outputs": [],
   "source": [
    "img_sample = image_to_numpy.load_image_file(os.path.join(img_path))\n",
    "img_sample = cv2.resize(img_sample, (256, 256))\n",
    "img_sample = img_sample.astype(np.float32) / 255.0"
   ]
  },
  {
   "cell_type": "code",
   "execution_count": null,
   "id": "50231650-43b1-4d0c-bcd7-90ab2e575da7",
   "metadata": {},
   "outputs": [],
   "source": [
    "yhat = sm.predict(np.expand_dims(img_sample, 0))\n",
    "print(f\"Raw: {yhat}\")\n",
    "print(\"Labels:   0-Not Road   1-Road\")\n",
    "print(f\"Prediction: {np.argmax(yhat)}\")"
   ]
  },
  {
   "cell_type": "code",
   "execution_count": null,
   "id": "9ef1c6e5-aa74-4a2e-8d3e-0d511c13adc6",
   "metadata": {},
   "outputs": [],
   "source": []
  },
  {
   "cell_type": "markdown",
   "id": "237aa9ee-8313-4a99-b69d-bbf778502138",
   "metadata": {},
   "source": [
    "### Plot Vehicle (Tricycle)"
   ]
  },
  {
   "cell_type": "code",
   "execution_count": null,
   "id": "f4ac08fd-db44-4abe-8eee-e87f2f14625f",
   "metadata": {},
   "outputs": [],
   "source": [
    "fm_viz(sm, img_path)"
   ]
  },
  {
   "cell_type": "code",
   "execution_count": null,
   "id": "235ac18c-2b16-44c8-8ff2-85c5b4cd64a0",
   "metadata": {},
   "outputs": [],
   "source": []
  },
  {
   "cell_type": "code",
   "execution_count": null,
   "id": "5a05aa3e-ce62-483a-9538-6a8814486842",
   "metadata": {},
   "outputs": [],
   "source": []
  },
  {
   "cell_type": "markdown",
   "id": "5dd5ef8a-04a7-4c8c-85d6-f7870d171de8",
   "metadata": {},
   "source": [
    "## Vehicle (Viola's Motorcycle)"
   ]
  },
  {
   "cell_type": "code",
   "execution_count": null,
   "id": "4743e76e-12ca-4905-9986-deb468cf3609",
   "metadata": {},
   "outputs": [],
   "source": [
    "img_path = \"D:\\\\DATASETS\\\\Viola_Motor_Zoom.jpg\""
   ]
  },
  {
   "cell_type": "markdown",
   "id": "886df7d4-9676-4b37-b0d1-3caa6a7d2f31",
   "metadata": {},
   "source": [
    "### Classify Vehicle (Tricycle)"
   ]
  },
  {
   "cell_type": "code",
   "execution_count": null,
   "id": "4135a6ac-addb-4af7-815c-8475ea94ad89",
   "metadata": {},
   "outputs": [],
   "source": [
    "img_sample = image_to_numpy.load_image_file(os.path.join(img_path))\n",
    "img_sample = cv2.resize(img_sample, (256, 256))\n",
    "img_sample = img_sample.astype(np.float32) / 255.0"
   ]
  },
  {
   "cell_type": "code",
   "execution_count": null,
   "id": "0b391127-5ad0-4a48-a336-d574ed36fd6e",
   "metadata": {},
   "outputs": [],
   "source": [
    "yhat = sm.predict(np.expand_dims(img_sample, 0))\n",
    "print(f\"Raw: {yhat}\")\n",
    "print(\"Labels:   0-Not Road   1-Road\")\n",
    "print(f\"Prediction: {np.argmax(yhat)}\")"
   ]
  },
  {
   "cell_type": "code",
   "execution_count": null,
   "id": "ac64828a-5f59-4188-a487-cfe9ec6a712d",
   "metadata": {},
   "outputs": [],
   "source": []
  },
  {
   "cell_type": "markdown",
   "id": "263ae5c0-900c-4373-85e4-197e434b8f5b",
   "metadata": {},
   "source": [
    "### Plot Vehicle (Tricycle)"
   ]
  },
  {
   "cell_type": "code",
   "execution_count": null,
   "id": "f6776f48-f4af-4f03-bb9d-e22b9770fd50",
   "metadata": {},
   "outputs": [],
   "source": [
    "fm_viz(sm, img_path)"
   ]
  },
  {
   "cell_type": "code",
   "execution_count": null,
   "id": "fdf249c9-a0b3-4052-9666-ccd13bb3c2fc",
   "metadata": {},
   "outputs": [],
   "source": []
  },
  {
   "cell_type": "code",
   "execution_count": null,
   "id": "eb17edb5-6563-4e79-859d-3cbfd881250c",
   "metadata": {},
   "outputs": [],
   "source": []
  },
  {
   "cell_type": "markdown",
   "id": "50b4e588-a2fc-47fa-9599-6d2cfa8a06d0",
   "metadata": {},
   "source": [
    "## Vehicle (Zeke Car On Park)"
   ]
  },
  {
   "cell_type": "code",
   "execution_count": null,
   "id": "07c2053e-3887-4cb9-a28d-4846bd4a6892",
   "metadata": {},
   "outputs": [],
   "source": [
    "img_path = \"D:\\\\DATASETS\\\\Zeke_Car_Park.jpg\""
   ]
  },
  {
   "cell_type": "markdown",
   "id": "db886c12-9cfa-4073-8139-cc1da052aae0",
   "metadata": {},
   "source": [
    "### Classify Vehicle (Tricycle)"
   ]
  },
  {
   "cell_type": "code",
   "execution_count": null,
   "id": "809e9e15-14b5-4987-87f6-f0912bd0e7a9",
   "metadata": {},
   "outputs": [],
   "source": [
    "img_sample = image_to_numpy.load_image_file(os.path.join(img_path))\n",
    "img_sample = cv2.resize(img_sample, (256, 256))\n",
    "img_sample = img_sample.astype(np.float32) / 255.0"
   ]
  },
  {
   "cell_type": "code",
   "execution_count": null,
   "id": "9d084702-aa91-4acb-b9d1-0ba8a8dae60e",
   "metadata": {},
   "outputs": [],
   "source": [
    "yhat = sm.predict(np.expand_dims(img_sample, 0))\n",
    "print(f\"Raw: {yhat}\")\n",
    "print(\"Labels:   0-Not Road   1-Road\")\n",
    "print(f\"Prediction: {np.argmax(yhat)}\")"
   ]
  },
  {
   "cell_type": "code",
   "execution_count": null,
   "id": "6f357707-f14f-4e45-8712-5c5cb7eb5835",
   "metadata": {},
   "outputs": [],
   "source": []
  },
  {
   "cell_type": "markdown",
   "id": "6cc83244-fcf0-4f3b-95a9-8e3a50c85794",
   "metadata": {},
   "source": [
    "### Plot Vehicle (Tricycle)"
   ]
  },
  {
   "cell_type": "code",
   "execution_count": null,
   "id": "7659410e-7f32-43c3-829b-3a2258e0b36a",
   "metadata": {},
   "outputs": [],
   "source": [
    "fm_viz(sm, img_path)"
   ]
  },
  {
   "cell_type": "code",
   "execution_count": null,
   "id": "d07fe3ff-84f7-4e88-8dc7-38ef0d485e68",
   "metadata": {},
   "outputs": [],
   "source": []
  },
  {
   "cell_type": "code",
   "execution_count": null,
   "id": "bcc6d8bd-bbac-4937-bbfa-4154ad6fc827",
   "metadata": {},
   "outputs": [],
   "source": []
  }
 ],
 "metadata": {
  "kernelspec": {
   "display_name": "neptune",
   "language": "python",
   "name": "neptune"
  },
  "language_info": {
   "codemirror_mode": {
    "name": "ipython",
    "version": 3
   },
   "file_extension": ".py",
   "mimetype": "text/x-python",
   "name": "python",
   "nbconvert_exporter": "python",
   "pygments_lexer": "ipython3",
   "version": "3.10.9"
  }
 },
 "nbformat": 4,
 "nbformat_minor": 5
}
