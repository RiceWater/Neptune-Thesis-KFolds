{
 "cells": [
  {
   "cell_type": "markdown",
   "id": "654fdf86-1ac7-4eb0-8153-7e9a1a61fa78",
   "metadata": {
    "jp-MarkdownHeadingCollapsed": true
   },
   "source": [
    "# READ"
   ]
  },
  {
   "cell_type": "markdown",
   "id": "30e7deed-4595-4611-9254-ad26a45facd3",
   "metadata": {},
   "source": [
    "1. API is in User Variables for User in Environemtn Variables named \"NEPTUNE_API_TOKEN\"\n",
    "2. If internet sucks, set mode to offline\n",
    "4. When offline runs are saved locally, sync it with | neptune sync -p \"New-Thesis/KFold-Test\" --offline-only |\n",
    "- make sure it is in venv mode | (venv) PS C:\\Users\\user\\Documents\\Machine-Learning-Hub-1\\ImageClassification\\Neptune-Thesis> |\n",
    "5. Delete the offline folder or use | neptune clear |"
   ]
  },
  {
   "cell_type": "markdown",
   "id": "348ca800-674e-4b34-9d14-551b8c226b08",
   "metadata": {},
   "source": [
    "# Load Libraries"
   ]
  },
  {
   "cell_type": "code",
   "execution_count": 1,
   "id": "79947b1a-22c4-4658-9375-a7bcbc52590e",
   "metadata": {},
   "outputs": [
    {
     "name": "stdout",
     "output_type": "stream",
     "text": [
      "WARNING:tensorflow:From C:\\Users\\user\\Documents\\Machine-Learning-Hub-1\\ImageClassification\\Neptune-Thesis\\venv\\lib\\site-packages\\keras\\src\\losses.py:2976: The name tf.losses.sparse_softmax_cross_entropy is deprecated. Please use tf.compat.v1.losses.sparse_softmax_cross_entropy instead.\n",
      "\n"
     ]
    }
   ],
   "source": [
    "import tqdm\n",
    "import os\n",
    "import cv2\n",
    "import imghdr\n",
    "import image_to_numpy\n",
    "import numpy as np\n",
    "import seaborn as sns\n",
    "from matplotlib import pyplot as plt\n",
    "from datetime import datetime\n",
    "import itertools\n",
    "from numpy.random import default_rng\n",
    "\n",
    "import tensorflow as tf\n",
    "from tensorflow.keras.models import Sequential\n",
    "from tensorflow.keras.layers import RandomFlip, RandomRotation, RandomContrast, RandomBrightness, Rescaling, Resizing\n",
    "from tensorflow.keras.layers import Conv2D, MaxPooling2D, Flatten, Dense, Dropout, BatchNormalization, ReLU\n",
    "from tensorflow.keras.metrics import F1Score, Precision, Recall, CategoricalAccuracy\n",
    "from tensorboard.plugins.hparams import api as hp\n",
    "import sklearn\n",
    "from sklearn.metrics import classification_report,confusion_matrix\n",
    "from sklearn.model_selection import StratifiedKFold\n",
    "\n",
    "from time import perf_counter\n",
    "import math\n",
    "\n",
    "import neptune\n",
    "from neptune.integrations.tensorflow_keras import NeptuneCallback"
   ]
  },
  {
   "cell_type": "markdown",
   "id": "ecc1d62c-a48a-45e9-8436-1c92be28aa9c",
   "metadata": {
    "jp-MarkdownHeadingCollapsed": true
   },
   "source": [
    "# Show Model Summary if Needed"
   ]
  },
  {
   "cell_type": "code",
   "execution_count": null,
   "id": "d28c7903-7fe9-4be9-840a-89ad4bf5049e",
   "metadata": {},
   "outputs": [],
   "source": [
    "model = tf.keras.models.load_model(\"./model.keras\")\n",
    "model.summary()"
   ]
  },
  {
   "cell_type": "markdown",
   "id": "0eb1457f-83b0-4eb9-8a55-57299e4e4aac",
   "metadata": {},
   "source": [
    "# Initialize Functions"
   ]
  },
  {
   "cell_type": "code",
   "execution_count": 50,
   "id": "28c9f594-9465-4546-8a43-7f7ddefbce80",
   "metadata": {},
   "outputs": [],
   "source": [
    "model_name = \"INI-V0-1\"\n",
    "checkpoint_path = f'./checkpoints/{model_name}/FOLD-'"
   ]
  },
  {
   "cell_type": "code",
   "execution_count": 98,
   "id": "27cee80d-5b28-441a-8ec0-67da468c4966",
   "metadata": {},
   "outputs": [],
   "source": [
    "def make_model(params):\n",
    "    model = Sequential()\n",
    "    model.add(RandomFlip(mode='horizontal', seed=1, input_shape=(256,256,3)))\n",
    "    model.add(RandomRotation(factor=0.2, seed=1))\n",
    "    \n",
    "    model.add(Conv2D(input_shape=(256,256,3), filters=16, kernel_size=(3,3), padding=\"same\"))\n",
    "    model.add(BatchNormalization(epsilon=0.0001))\n",
    "    model.add(ReLU())\n",
    "    model.add(MaxPooling2D())\n",
    "    \n",
    "    model.add(Conv2D(filters=16, kernel_size=(3,3), padding=\"same\"))\n",
    "    model.add(BatchNormalization(epsilon=0.0001))\n",
    "    model.add(ReLU())\n",
    "    model.add(MaxPooling2D())\n",
    "    \n",
    "    model.add(Conv2D(filters=32, kernel_size=(3,3), padding=\"same\"))\n",
    "    model.add(BatchNormalization(epsilon=0.0001))\n",
    "    model.add(ReLU())\n",
    "    model.add(MaxPooling2D())\n",
    "    \n",
    "    model.add(Flatten())\n",
    "    model.add(Dropout(0.2, seed=1))\n",
    "    model.add(Dense(units=128,activation=\"relu\"))\n",
    "    model.add(Dense(units=64,activation=\"relu\"))\n",
    "    \n",
    "    model.add(Dense(units=1, activation=\"sigmoid\"))\n",
    "\n",
    "\n",
    "    optimizer = tf.keras.optimizers.Adam(\n",
    "        learning_rate=params[\"lr\"],\n",
    "    )\n",
    "    \n",
    "    model.compile(optimizer, loss='binary_crossentropy', metrics=['accuracy'])\n",
    "    return model"
   ]
  },
  {
   "cell_type": "code",
   "execution_count": 99,
   "id": "022580a2-bbb0-46de-80d2-b93e647275c4",
   "metadata": {},
   "outputs": [],
   "source": [
    "def create_callbacks(counter):\n",
    "    neptune_cbk = NeptuneCallback(run=run, base_namespace=\"training\")\n",
    "\n",
    "    cp_callback = tf.keras.callbacks.ModelCheckpoint(filepath=checkpoint_path + str(counter), \n",
    "                                                                 monitor='val_loss', \n",
    "                                                                 mode='auto', \n",
    "                                                                 save_best_only=True, \n",
    "                                                                 verbose=1)\n",
    "    es_callback = tf.keras.callbacks.EarlyStopping(monitor='val_loss', \n",
    "                                                   patience=15,\n",
    "                                                  )\n",
    "    reduce_lr = tf.keras.callbacks.ReduceLROnPlateau(monitor='val_loss', \n",
    "                                                         factor=0.6, \n",
    "                                                         patience=10, \n",
    "                                                         min_delta=0.001, \n",
    "                                                         mode='auto', \n",
    "                                                         verbose=1)\n",
    "    # return [reduce_lr, cp_callback]\n",
    "    return [neptune_cbk, reduce_lr, cp_callback]"
   ]
  },
  {
   "cell_type": "code",
   "execution_count": 12,
   "id": "98d16a35-875d-4cff-abd0-6f554224f314",
   "metadata": {
    "jupyter": {
     "source_hidden": true
    }
   },
   "outputs": [],
   "source": [
    "def plot_loss(hist):\n",
    "    fig = plt.figure(figsize=(3,2))\n",
    "    plt.plot(hist.history['loss'], color='teal', label='loss')\n",
    "    plt.plot(hist.history['val_loss'], color='orange', label='val_loss')\n",
    "    plt.suptitle('Loss')\n",
    "    plt.legend(loc='upper right')\n",
    "    plt.show()\n",
    "    return fig"
   ]
  },
  {
   "cell_type": "code",
   "execution_count": 13,
   "id": "3ba83bd7-0b4b-43fc-8484-9f695a1f0039",
   "metadata": {
    "jupyter": {
     "source_hidden": true
    }
   },
   "outputs": [],
   "source": [
    "def plot_acc(hist):\n",
    "    fig = plt.figure(figsize=(3,2))\n",
    "    plt.plot(hist.history['accuracy'], color='teal', label='acc')\n",
    "    plt.plot(hist.history['val_accuracy'], color='orange', label='val_acc')\n",
    "    plt.suptitle('Accuracy')\n",
    "    plt.legend(loc='upper left')\n",
    "    plt.show()\n",
    "    return fig"
   ]
  },
  {
   "cell_type": "code",
   "execution_count": 14,
   "id": "8b527cae-cd2f-4cf0-8ad8-03355050b95c",
   "metadata": {
    "jupyter": {
     "source_hidden": true
    }
   },
   "outputs": [],
   "source": [
    "def avg_rate(metric_list):\n",
    "    return sum(metric_list) / len(metric_list)"
   ]
  },
  {
   "cell_type": "markdown",
   "id": "e27ee883-af64-4f8a-980d-d7936a9d6c9b",
   "metadata": {
    "jp-MarkdownHeadingCollapsed": true
   },
   "source": [
    "# Prepare Dataset"
   ]
  },
  {
   "cell_type": "code",
   "execution_count": 16,
   "id": "097a39c9-2cb8-4ef8-9827-977b33aa65da",
   "metadata": {},
   "outputs": [],
   "source": [
    "data_dir = \"D:\\DATASETS\\For-Issue-Classifier\\Dataset-To-Use\""
   ]
  },
  {
   "cell_type": "code",
   "execution_count": 31,
   "id": "93b2f692-1861-4021-b122-50d66f8a5922",
   "metadata": {},
   "outputs": [],
   "source": [
    "labels = ['Issue', 'No Issue']\n",
    "X_train = []\n",
    "y_label_idx = []\n",
    "image_size = 256\n",
    "for i in labels:\n",
    "    folderPath = os.path.join(data_dir, i)\n",
    "    for j in os.listdir(folderPath):\n",
    "        img = image_to_numpy.load_image_file(os.path.join(folderPath,j))\n",
    "        img = cv2.resize(img,(image_size, image_size))\n",
    "        X_train.append(img)\n",
    "        y_label_idx.append(labels.index(i))"
   ]
  },
  {
   "cell_type": "code",
   "execution_count": 34,
   "id": "9aee220c-a44b-415a-b305-59365c7654d3",
   "metadata": {},
   "outputs": [],
   "source": [
    "X_train = np.array(X_train)\n",
    "y_label_idx = np.array(y_label_idx)\n",
    "\n",
    "X_train_scaled = X_train.astype(np.float32) / 255.0"
   ]
  },
  {
   "cell_type": "code",
   "execution_count": 40,
   "id": "5bf56c06-97c2-4a61-b1e7-264662350691",
   "metadata": {},
   "outputs": [
    {
     "data": {
      "text/plain": [
       "162"
      ]
     },
     "execution_count": 40,
     "metadata": {},
     "output_type": "execute_result"
    }
   ],
   "source": [
    "len(X_train) - 652"
   ]
  },
  {
   "cell_type": "code",
   "execution_count": 35,
   "id": "e894622c-7325-4baf-9c87-9e1a593c9b8e",
   "metadata": {},
   "outputs": [],
   "source": [
    "rng = default_rng(seed=1)\n",
    "\n",
    "issue_idx = rng.choice(np.arange(0,407), size=81, replace=False)\n",
    "no_issue_idx = rng.choice(np.arange(407,814), size=81, replace=False)\n",
    "total_test_idx = np.concatenate((issue_idx, no_issue_idx), axis=None)"
   ]
  },
  {
   "cell_type": "code",
   "execution_count": 36,
   "id": "7c068ed1-ee89-4c18-9c16-884c787e8a7f",
   "metadata": {},
   "outputs": [],
   "source": [
    "def train_test_X(X_train_scaled):    \n",
    "    test_x = X_train_scaled[total_test_idx]\n",
    "    train_x = np.delete(X_train_scaled, total_test_idx, axis=0)\n",
    "    return train_x, test_x\n",
    "\n",
    "def train_test_y(y_label_idx):\n",
    "    test_y = y_label_idx[total_test_idx]\n",
    "    train_y = np.delete(y_label_idx, total_test_idx, axis=0)\n",
    "    return train_y, test_y"
   ]
  },
  {
   "cell_type": "code",
   "execution_count": 37,
   "id": "68921e3e-f2c0-41df-9e0e-7f72a9471b8f",
   "metadata": {},
   "outputs": [],
   "source": [
    "train_x, holdout_x = train_test_X(X_train_scaled)\n",
    "train_y, holdout_y = train_test_y(y_label_idx)"
   ]
  },
  {
   "cell_type": "code",
   "execution_count": 38,
   "id": "703be7b9-d533-4c90-9757-565829381c8b",
   "metadata": {},
   "outputs": [
    {
     "name": "stdout",
     "output_type": "stream",
     "text": [
      "652 162\n"
     ]
    }
   ],
   "source": [
    "print(len(train_x), len(holdout_x))"
   ]
  },
  {
   "cell_type": "code",
   "execution_count": 46,
   "id": "b9fc1855-1bd6-49b3-9b61-0bd6f9f940f1",
   "metadata": {},
   "outputs": [
    {
     "name": "stdout",
     "output_type": "stream",
     "text": [
      "[0 0 0 0 0 0 0 0 0 0]\n"
     ]
    }
   ],
   "source": [
    "print(holdout_y[:10])"
   ]
  },
  {
   "cell_type": "markdown",
   "id": "a10b3d75-dfe3-4d66-a5c7-b46073861043",
   "metadata": {},
   "source": [
    "# Run KFOLD"
   ]
  },
  {
   "cell_type": "code",
   "execution_count": null,
   "id": "4faeb36c-47a7-4024-b736-854431d9012a",
   "metadata": {},
   "outputs": [],
   "source": [
    "# model_name = \"INI-V0-1\""
   ]
  },
  {
   "cell_type": "code",
   "execution_count": 47,
   "id": "97c647dc-35a6-4391-80b6-1db5643a1820",
   "metadata": {
    "jupyter": {
     "source_hidden": true
    }
   },
   "outputs": [],
   "source": [
    "kfold = StratifiedKFold(n_splits=8, shuffle=True, random_state=1)"
   ]
  },
  {
   "cell_type": "code",
   "execution_count": 100,
   "id": "f4679eae-6da1-4f77-8dd2-bf6b2a248908",
   "metadata": {},
   "outputs": [],
   "source": [
    "project_name = \"New-Thesis/KFOLD-INI\"\n",
    "# api_token = <It is already initialized in environemnt variables>\n",
    "params = {\n",
    "    \"lr\": 0.001, \n",
    "    \"epochs\": 40, \n",
    "    \"batch_size\": 8}"
   ]
  },
  {
   "cell_type": "code",
   "execution_count": null,
   "id": "e13eae77-d4a9-4c8a-8571-b1249e13a124",
   "metadata": {
    "jupyter": {
     "source_hidden": true
    }
   },
   "outputs": [],
   "source": [
    "# CHECK MODEL VERION IN THE FOR LOOP OF KFOLDS WHEN SAVING\n",
    "# CHECK MODEL VERION IN THE FOR LOOP OF KFOLDS WHEN SAVING\n",
    "# CHECK MODEL VERION IN THE FOR LOOP OF KFOLDS WHEN SAVING\n",
    "# CHECK MODEL VERION IN THE FOR LOOP OF KFOLDS WHEN SAVING\n",
    "# CHECK MODEL VERION IN THE FOR LOOP OF KFOLDS WHEN SAVING\n",
    "# CHECK MODEL VERION IN THE FOR LOOP OF KFOLDS WHEN SAVING\n",
    "# CHECK MODEL VERION IN THE FOR LOOP OF KFOLDS WHEN SAVING\n",
    "# CHECK MODEL VERION IN THE FOR LOOP OF KFOLDS WHEN SAVING\n",
    "# CHECK MODEL VERION IN THE FOR LOOP OF KFOLDS WHEN SAVING\n",
    "# CHECK MODEL VERION IN THE FOR LOOP OF KFOLDS WHEN SAVING\n",
    "# CHECK MODEL VERION IN THE FOR LOOP OF KFOLDS WHEN SAVING\n",
    "# CHECK MODEL VERION IN THE FOR LOOP OF KFOLDS WHEN SAVING"
   ]
  },
  {
   "cell_type": "code",
   "execution_count": null,
   "id": "3a20b648-d079-4bc2-8301-80debddd7a39",
   "metadata": {},
   "outputs": [],
   "source": [
    "counter = 0\n",
    "start = perf_counter()\n",
    "for train, test in kfold.split(train_x, train_y):\n",
    "    start_fold = perf_counter()\n",
    "\n",
    "    model = make_model(params)\n",
    "    train_dataset = tf.data.Dataset.from_tensor_slices((train_x[train], train_y[train]))\n",
    "    train_fold = train_dataset.shuffle(buffer_size=train_dataset.cardinality(), seed=1).batch(params['batch_size'])\n",
    "    \n",
    "    test_dataset = tf.data.Dataset.from_tensor_slices((train_x[test], train_y[test]))\n",
    "    test_fold = test_dataset.shuffle(buffer_size=test_dataset.cardinality(), seed=1).batch(params['batch_size'])\n",
    "    \n",
    "    hist = model.fit(train_fold, \n",
    "                     validation_data=test_fold,\n",
    "                     batch_size=params['batch_size'],\n",
    "                     epochs=params['epochs'],\n",
    "                     verbose=1,\n",
    "                     callbacks=create_callbacks(counter))\n",
    "    end_fold = perf_counter()\n",
    "\n",
    "    plot_loss(hist)\n",
    "    plot_acc(hist)\n",
    "\n",
    "    break\n",
    "    \n",
    "    counter += 1\n",
    "\n",
    "end = perf_counter()\n",
    "\n",
    "print(f'Total Training Time: {math.floor((end-start)/3600) } hour(s) and {math.floor((end-start)/60)%60} mins')"
   ]
  },
  {
   "cell_type": "code",
   "execution_count": 96,
   "id": "930a0bac-5a11-43f0-b3b6-4bd6b13d3efb",
   "metadata": {},
   "outputs": [
    {
     "name": "stdout",
     "output_type": "stream",
     "text": [
      "Fold Training Time: 0 hour(s) and 7 mins\n",
      "Precision: 69.9999988079071  -  Recall: 68.29268336296082\n",
      "Accuracy: 69.51219439506531\n",
      "F1Score: 0.6913580156456033\n"
     ]
    }
   ],
   "source": [
    "# EVALUATING ==================================================\n",
    "model = tf.keras.models.load_model(checkpoint_path + str(counter))\n",
    "\n",
    "pre = Precision()\n",
    "rec = Recall()\n",
    "b_acc = tf.keras.metrics.BinaryAccuracy()\n",
    "for batch in test_fold.as_numpy_iterator():\n",
    "    X, y = batch\n",
    "    yhat = model.predict(X, verbose=0)\n",
    "    pre.update_state(y, yhat)\n",
    "    rec.update_state(y, yhat)\n",
    "    b_acc.update_state(y, yhat)\n",
    "    \n",
    "\n",
    "# PRINTING RESULTS ===========================================\n",
    "print(f'Fold Training Time: {math.floor((end_fold-start_fold)/3600) } hour(s) and {math.floor((end_fold-start_fold)/60)%60} mins')\n",
    "print(f'Precision: {pre.result().numpy() * 100}  -  Recall: {rec.result().numpy() * 100}')\n",
    "print(f'Accuracy: {b_acc.result().numpy() * 100}')\n",
    "print(f'F1Score: {2 * (pre.result().numpy() * rec.result().numpy()) / (pre.result().numpy() + rec.result().numpy())}')"
   ]
  },
  {
   "cell_type": "code",
   "execution_count": 103,
   "id": "2061b0ab-2132-4f3b-94cc-d5584da402ad",
   "metadata": {},
   "outputs": [
    {
     "name": "stdout",
     "output_type": "stream",
     "text": [
      "[neptune] [info   ] Neptune initialized. Open in the app: offline/4d9caa28-1f98-4c57-82ef-45e5bb2e395a\n",
      "Epoch 1/40\n",
      "72/72 [==============================] - ETA: 0s - loss: 2.2986 - accuracy: 0.5211\n",
      "Epoch 1: val_loss improved from inf to 1.58249, saving model to ./checkpoints/INI-V0-1\\FOLD-0\n",
      "INFO:tensorflow:Assets written to: ./checkpoints/INI-V0-1\\FOLD-0\\assets\n"
     ]
    },
    {
     "name": "stderr",
     "output_type": "stream",
     "text": [
      "INFO:tensorflow:Assets written to: ./checkpoints/INI-V0-1\\FOLD-0\\assets\n"
     ]
    },
    {
     "name": "stdout",
     "output_type": "stream",
     "text": [
      "72/72 [==============================] - 26s 288ms/step - loss: 2.2986 - accuracy: 0.5211 - val_loss: 1.5825 - val_accuracy: 0.5000 - lr: 0.0010\n",
      "Epoch 2/40\n",
      "72/72 [==============================] - ETA: 0s - loss: 1.0678 - accuracy: 0.6088\n",
      "Epoch 2: val_loss improved from 1.58249 to 0.72864, saving model to ./checkpoints/INI-V0-1\\FOLD-0\n",
      "INFO:tensorflow:Assets written to: ./checkpoints/INI-V0-1\\FOLD-0\\assets\n"
     ]
    },
    {
     "name": "stderr",
     "output_type": "stream",
     "text": [
      "INFO:tensorflow:Assets written to: ./checkpoints/INI-V0-1\\FOLD-0\\assets\n"
     ]
    },
    {
     "name": "stdout",
     "output_type": "stream",
     "text": [
      "72/72 [==============================] - 20s 283ms/step - loss: 1.0678 - accuracy: 0.6088 - val_loss: 0.7286 - val_accuracy: 0.5244 - lr: 0.0010\n",
      "Epoch 3/40\n",
      "72/72 [==============================] - ETA: 0s - loss: 0.8915 - accuracy: 0.6088\n",
      "Epoch 3: val_loss did not improve from 0.72864\n",
      "72/72 [==============================] - 14s 189ms/step - loss: 0.8915 - accuracy: 0.6088 - val_loss: 1.9135 - val_accuracy: 0.5000 - lr: 0.0010\n",
      "Epoch 4/40\n",
      "72/72 [==============================] - ETA: 0s - loss: 0.9006 - accuracy: 0.6088\n",
      "Epoch 4: val_loss did not improve from 0.72864\n",
      "72/72 [==============================] - 14s 192ms/step - loss: 0.9006 - accuracy: 0.6088 - val_loss: 2.3340 - val_accuracy: 0.5000 - lr: 0.0010\n",
      "Epoch 5/40\n",
      "72/72 [==============================] - ETA: 0s - loss: 0.6849 - accuracy: 0.6491\n",
      "Epoch 5: val_loss did not improve from 0.72864\n",
      "72/72 [==============================] - 14s 192ms/step - loss: 0.6849 - accuracy: 0.6491 - val_loss: 1.1712 - val_accuracy: 0.5244 - lr: 0.0010\n",
      "Epoch 6/40\n",
      "72/72 [==============================] - ETA: 0s - loss: 0.6272 - accuracy: 0.6667\n",
      "Epoch 6: val_loss did not improve from 0.72864\n",
      "72/72 [==============================] - 14s 188ms/step - loss: 0.6272 - accuracy: 0.6667 - val_loss: 1.0262 - val_accuracy: 0.5244 - lr: 0.0010\n",
      "Epoch 7/40\n",
      "72/72 [==============================] - ETA: 0s - loss: 0.6255 - accuracy: 0.6754\n",
      "Epoch 7: val_loss did not improve from 0.72864\n",
      "72/72 [==============================] - 14s 188ms/step - loss: 0.6255 - accuracy: 0.6754 - val_loss: 0.9187 - val_accuracy: 0.5610 - lr: 0.0010\n",
      "Epoch 8/40\n",
      "72/72 [==============================] - ETA: 0s - loss: 0.5816 - accuracy: 0.6842\n",
      "Epoch 8: val_loss did not improve from 0.72864\n",
      "72/72 [==============================] - 14s 190ms/step - loss: 0.5816 - accuracy: 0.6842 - val_loss: 0.8645 - val_accuracy: 0.5244 - lr: 0.0010\n",
      "Epoch 9/40\n",
      "72/72 [==============================] - ETA: 0s - loss: 0.5846 - accuracy: 0.7193\n",
      "Epoch 9: val_loss did not improve from 0.72864\n",
      "72/72 [==============================] - 14s 193ms/step - loss: 0.5846 - accuracy: 0.7193 - val_loss: 0.9217 - val_accuracy: 0.5366 - lr: 0.0010\n",
      "Epoch 10/40\n",
      "72/72 [==============================] - ETA: 0s - loss: 0.6358 - accuracy: 0.6702\n",
      "Epoch 10: val_loss improved from 0.72864 to 0.62153, saving model to ./checkpoints/INI-V0-1\\FOLD-0\n",
      "INFO:tensorflow:Assets written to: ./checkpoints/INI-V0-1\\FOLD-0\\assets\n"
     ]
    },
    {
     "name": "stderr",
     "output_type": "stream",
     "text": [
      "INFO:tensorflow:Assets written to: ./checkpoints/INI-V0-1\\FOLD-0\\assets\n"
     ]
    },
    {
     "name": "stdout",
     "output_type": "stream",
     "text": [
      "72/72 [==============================] - 19s 258ms/step - loss: 0.6358 - accuracy: 0.6702 - val_loss: 0.6215 - val_accuracy: 0.6463 - lr: 0.0010\n",
      "Epoch 11/40\n",
      "72/72 [==============================] - ETA: 0s - loss: 0.6034 - accuracy: 0.6877\n",
      "Epoch 11: val_loss did not improve from 0.62153\n",
      "72/72 [==============================] - 14s 189ms/step - loss: 0.6034 - accuracy: 0.6877 - val_loss: 0.7864 - val_accuracy: 0.5854 - lr: 0.0010\n",
      "Epoch 12/40\n",
      "72/72 [==============================] - ETA: 0s - loss: 0.6171 - accuracy: 0.6807\n",
      "Epoch 12: val_loss did not improve from 0.62153\n",
      "72/72 [==============================] - 14s 189ms/step - loss: 0.6171 - accuracy: 0.6807 - val_loss: 1.0692 - val_accuracy: 0.5610 - lr: 0.0010\n",
      "Epoch 13/40\n",
      "72/72 [==============================] - ETA: 0s - loss: 0.5920 - accuracy: 0.6877\n",
      "Epoch 13: val_loss did not improve from 0.62153\n",
      "72/72 [==============================] - 13s 188ms/step - loss: 0.5920 - accuracy: 0.6877 - val_loss: 0.7032 - val_accuracy: 0.5854 - lr: 0.0010\n",
      "Epoch 14/40\n",
      "72/72 [==============================] - ETA: 0s - loss: 0.6068 - accuracy: 0.7018\n",
      "Epoch 14: val_loss did not improve from 0.62153\n",
      "72/72 [==============================] - 14s 190ms/step - loss: 0.6068 - accuracy: 0.7018 - val_loss: 0.7042 - val_accuracy: 0.5732 - lr: 0.0010\n",
      "Epoch 15/40\n",
      "72/72 [==============================] - ETA: 0s - loss: 0.5947 - accuracy: 0.6877\n",
      "Epoch 15: val_loss did not improve from 0.62153\n",
      "72/72 [==============================] - 14s 191ms/step - loss: 0.5947 - accuracy: 0.6877 - val_loss: 0.7101 - val_accuracy: 0.5488 - lr: 0.0010\n",
      "Epoch 16/40\n",
      "72/72 [==============================] - ETA: 0s - loss: 0.5649 - accuracy: 0.6982\n",
      "Epoch 16: val_loss did not improve from 0.62153\n",
      "72/72 [==============================] - 14s 188ms/step - loss: 0.5649 - accuracy: 0.6982 - val_loss: 0.8186 - val_accuracy: 0.5610 - lr: 0.0010\n",
      "Epoch 17/40\n",
      "72/72 [==============================] - ETA: 0s - loss: 0.5777 - accuracy: 0.7246\n",
      "Epoch 17: val_loss did not improve from 0.62153\n",
      "72/72 [==============================] - 14s 191ms/step - loss: 0.5777 - accuracy: 0.7246 - val_loss: 0.8217 - val_accuracy: 0.5000 - lr: 0.0010\n",
      "Epoch 18/40\n",
      "72/72 [==============================] - ETA: 0s - loss: 0.5942 - accuracy: 0.6860\n",
      "Epoch 18: val_loss did not improve from 0.62153\n",
      "72/72 [==============================] - 14s 189ms/step - loss: 0.5942 - accuracy: 0.6860 - val_loss: 0.6820 - val_accuracy: 0.6341 - lr: 0.0010\n",
      "Epoch 19/40\n",
      "72/72 [==============================] - ETA: 0s - loss: 0.5893 - accuracy: 0.7070\n",
      "Epoch 19: val_loss did not improve from 0.62153\n",
      "72/72 [==============================] - 14s 192ms/step - loss: 0.5893 - accuracy: 0.7070 - val_loss: 0.6989 - val_accuracy: 0.6220 - lr: 0.0010\n",
      "Epoch 20/40\n",
      "72/72 [==============================] - ETA: 0s - loss: 0.5487 - accuracy: 0.7404\n",
      "Epoch 20: ReduceLROnPlateau reducing learning rate to 0.0006000000284984708.\n",
      "\n",
      "Epoch 20: val_loss did not improve from 0.62153\n",
      "72/72 [==============================] - 14s 196ms/step - loss: 0.5487 - accuracy: 0.7404 - val_loss: 1.3429 - val_accuracy: 0.5000 - lr: 0.0010\n",
      "Epoch 21/40\n",
      "72/72 [==============================] - ETA: 0s - loss: 0.5301 - accuracy: 0.7316\n",
      "Epoch 21: val_loss did not improve from 0.62153\n",
      "72/72 [==============================] - 13s 187ms/step - loss: 0.5301 - accuracy: 0.7316 - val_loss: 0.8006 - val_accuracy: 0.5854 - lr: 6.0000e-04\n",
      "Epoch 22/40\n",
      "72/72 [==============================] - ETA: 0s - loss: 0.5335 - accuracy: 0.7175\n",
      "Epoch 22: val_loss improved from 0.62153 to 0.59909, saving model to ./checkpoints/INI-V0-1\\FOLD-0\n",
      "INFO:tensorflow:Assets written to: ./checkpoints/INI-V0-1\\FOLD-0\\assets\n"
     ]
    },
    {
     "name": "stderr",
     "output_type": "stream",
     "text": [
      "INFO:tensorflow:Assets written to: ./checkpoints/INI-V0-1\\FOLD-0\\assets\n"
     ]
    },
    {
     "name": "stdout",
     "output_type": "stream",
     "text": [
      "72/72 [==============================] - 20s 284ms/step - loss: 0.5335 - accuracy: 0.7175 - val_loss: 0.5991 - val_accuracy: 0.6829 - lr: 6.0000e-04\n",
      "Epoch 23/40\n",
      "72/72 [==============================] - ETA: 0s - loss: 0.5071 - accuracy: 0.7632\n",
      "Epoch 23: val_loss did not improve from 0.59909\n",
      "72/72 [==============================] - 14s 190ms/step - loss: 0.5071 - accuracy: 0.7632 - val_loss: 0.6974 - val_accuracy: 0.6829 - lr: 6.0000e-04\n",
      "Epoch 24/40\n",
      "72/72 [==============================] - ETA: 0s - loss: 0.5205 - accuracy: 0.7246\n",
      "Epoch 24: val_loss did not improve from 0.59909\n",
      "72/72 [==============================] - 14s 190ms/step - loss: 0.5205 - accuracy: 0.7246 - val_loss: 2.3495 - val_accuracy: 0.5000 - lr: 6.0000e-04\n",
      "Epoch 25/40\n",
      "72/72 [==============================] - ETA: 0s - loss: 0.5223 - accuracy: 0.7404\n",
      "Epoch 25: val_loss did not improve from 0.59909\n",
      "72/72 [==============================] - 14s 192ms/step - loss: 0.5223 - accuracy: 0.7404 - val_loss: 0.7938 - val_accuracy: 0.5732 - lr: 6.0000e-04\n",
      "Epoch 26/40\n",
      "72/72 [==============================] - ETA: 0s - loss: 0.5278 - accuracy: 0.7333\n",
      "Epoch 26: val_loss did not improve from 0.59909\n",
      "72/72 [==============================] - 14s 188ms/step - loss: 0.5278 - accuracy: 0.7333 - val_loss: 0.6588 - val_accuracy: 0.6585 - lr: 6.0000e-04\n",
      "Epoch 27/40\n",
      "72/72 [==============================] - ETA: 0s - loss: 0.5312 - accuracy: 0.7509\n",
      "Epoch 27: val_loss did not improve from 0.59909\n",
      "72/72 [==============================] - 14s 188ms/step - loss: 0.5312 - accuracy: 0.7509 - val_loss: 1.5500 - val_accuracy: 0.5244 - lr: 6.0000e-04\n",
      "Epoch 28/40\n",
      "72/72 [==============================] - ETA: 0s - loss: 0.5116 - accuracy: 0.7544\n",
      "Epoch 28: val_loss did not improve from 0.59909\n",
      "72/72 [==============================] - 14s 189ms/step - loss: 0.5116 - accuracy: 0.7544 - val_loss: 1.1457 - val_accuracy: 0.5244 - lr: 6.0000e-04\n",
      "Epoch 29/40\n",
      "72/72 [==============================] - ETA: 0s - loss: 0.5059 - accuracy: 0.7632\n",
      "Epoch 29: val_loss did not improve from 0.59909\n",
      "72/72 [==============================] - 14s 191ms/step - loss: 0.5059 - accuracy: 0.7632 - val_loss: 0.9419 - val_accuracy: 0.6220 - lr: 6.0000e-04\n",
      "Epoch 30/40\n",
      "72/72 [==============================] - ETA: 0s - loss: 0.4996 - accuracy: 0.7754\n",
      "Epoch 30: val_loss did not improve from 0.59909\n",
      "72/72 [==============================] - 14s 188ms/step - loss: 0.4996 - accuracy: 0.7754 - val_loss: 1.1727 - val_accuracy: 0.5732 - lr: 6.0000e-04\n",
      "Epoch 31/40\n",
      "72/72 [==============================] - ETA: 0s - loss: 0.4712 - accuracy: 0.7877\n",
      "Epoch 31: val_loss did not improve from 0.59909\n",
      "72/72 [==============================] - 14s 188ms/step - loss: 0.4712 - accuracy: 0.7877 - val_loss: 0.7185 - val_accuracy: 0.6829 - lr: 6.0000e-04\n",
      "Epoch 32/40\n",
      "72/72 [==============================] - ETA: 0s - loss: 0.4931 - accuracy: 0.7667\n",
      "Epoch 32: ReduceLROnPlateau reducing learning rate to 0.0003600000170990825.\n",
      "\n",
      "Epoch 32: val_loss did not improve from 0.59909\n",
      "72/72 [==============================] - 14s 192ms/step - loss: 0.4931 - accuracy: 0.7667 - val_loss: 0.7878 - val_accuracy: 0.6220 - lr: 6.0000e-04\n",
      "Epoch 33/40\n",
      "72/72 [==============================] - ETA: 0s - loss: 0.4575 - accuracy: 0.7737\n",
      "Epoch 33: val_loss improved from 0.59909 to 0.58451, saving model to ./checkpoints/INI-V0-1\\FOLD-0\n",
      "INFO:tensorflow:Assets written to: ./checkpoints/INI-V0-1\\FOLD-0\\assets\n"
     ]
    },
    {
     "name": "stderr",
     "output_type": "stream",
     "text": [
      "INFO:tensorflow:Assets written to: ./checkpoints/INI-V0-1\\FOLD-0\\assets\n"
     ]
    },
    {
     "name": "stdout",
     "output_type": "stream",
     "text": [
      "72/72 [==============================] - 19s 262ms/step - loss: 0.4575 - accuracy: 0.7737 - val_loss: 0.5845 - val_accuracy: 0.6951 - lr: 3.6000e-04\n",
      "Epoch 34/40\n",
      "72/72 [==============================] - ETA: 0s - loss: 0.4440 - accuracy: 0.8053\n",
      "Epoch 34: val_loss did not improve from 0.58451\n",
      "72/72 [==============================] - 14s 189ms/step - loss: 0.4440 - accuracy: 0.8053 - val_loss: 0.8060 - val_accuracy: 0.6341 - lr: 3.6000e-04\n",
      "Epoch 35/40\n",
      "72/72 [==============================] - ETA: 0s - loss: 0.4296 - accuracy: 0.8053\n",
      "Epoch 35: val_loss did not improve from 0.58451\n",
      "72/72 [==============================] - 14s 188ms/step - loss: 0.4296 - accuracy: 0.8053 - val_loss: 0.6294 - val_accuracy: 0.7073 - lr: 3.6000e-04\n",
      "Epoch 36/40\n",
      "72/72 [==============================] - ETA: 0s - loss: 0.4305 - accuracy: 0.8018\n",
      "Epoch 36: val_loss did not improve from 0.58451\n",
      "72/72 [==============================] - 14s 192ms/step - loss: 0.4305 - accuracy: 0.8018 - val_loss: 0.6398 - val_accuracy: 0.7195 - lr: 3.6000e-04\n",
      "Epoch 37/40\n",
      "72/72 [==============================] - ETA: 0s - loss: 0.4432 - accuracy: 0.7947\n",
      "Epoch 37: val_loss did not improve from 0.58451\n",
      "72/72 [==============================] - 14s 191ms/step - loss: 0.4432 - accuracy: 0.7947 - val_loss: 1.0352 - val_accuracy: 0.6220 - lr: 3.6000e-04\n",
      "Epoch 38/40\n",
      "72/72 [==============================] - ETA: 0s - loss: 0.4541 - accuracy: 0.7702\n",
      "Epoch 38: val_loss did not improve from 0.58451\n",
      "72/72 [==============================] - 14s 188ms/step - loss: 0.4541 - accuracy: 0.7702 - val_loss: 0.8744 - val_accuracy: 0.6463 - lr: 3.6000e-04\n",
      "Epoch 39/40\n",
      "72/72 [==============================] - ETA: 0s - loss: 0.4493 - accuracy: 0.8000\n",
      "Epoch 39: val_loss did not improve from 0.58451\n",
      "72/72 [==============================] - 14s 188ms/step - loss: 0.4493 - accuracy: 0.8000 - val_loss: 1.0667 - val_accuracy: 0.6098 - lr: 3.6000e-04\n",
      "Epoch 40/40\n",
      "72/72 [==============================] - ETA: 0s - loss: 0.4354 - accuracy: 0.8018\n",
      "Epoch 40: val_loss did not improve from 0.58451\n",
      "72/72 [==============================] - 14s 189ms/step - loss: 0.4354 - accuracy: 0.8018 - val_loss: 2.4285 - val_accuracy: 0.5122 - lr: 3.6000e-04\n"
     ]
    },
    {
     "data": {
      "image/png": "[encoded data removed]",
      "text/plain": [
       "<Figure size 300x200 with 1 Axes>"
      ]
     },
     "metadata": {},
     "output_type": "display_data"
    },
    {
     "data": {
      "image/png": "[encoded data removed]",
      "text/plain": [
       "<Figure size 300x200 with 1 Axes>"
      ]
     },
     "metadata": {},
     "output_type": "display_data"
    },
    {
     "name": "stdout",
     "output_type": "stream",
     "text": [
      "Fold Training Time: 0 hour(s) and 9 mins\n",
      "Precision: 71.05262875556946  -  Recall: 65.85366129875183\n",
      "Accuracy: 69.51219439506531\n",
      "F1Score: 68.35443098595572\n",
      "[neptune] [info   ] Shutting down background jobs, please wait a moment...\n",
      "[neptune] [info   ] Done!\n",
      "[neptune] [info   ] Neptune initialized. Open in the app: offline/a4cc76d8-e0b7-4277-9645-4979695ac434\n",
      "Epoch 1/40\n",
      "72/72 [==============================] - ETA: 0s - loss: 3.1894 - accuracy: 0.5351\n",
      "Epoch 1: val_loss improved from inf to 1.41090, saving model to ./checkpoints/INI-V0-1\\FOLD-1\n",
      "INFO:tensorflow:Assets written to: ./checkpoints/INI-V0-1\\FOLD-1\\assets\n"
     ]
    },
    {
     "name": "stderr",
     "output_type": "stream",
     "text": [
      "INFO:tensorflow:Assets written to: ./checkpoints/INI-V0-1\\FOLD-1\\assets\n"
     ]
    },
    {
     "name": "stdout",
     "output_type": "stream",
     "text": [
      "72/72 [==============================] - 24s 265ms/step - loss: 3.1894 - accuracy: 0.5351 - val_loss: 1.4109 - val_accuracy: 0.5122 - lr: 0.0010\n",
      "Epoch 2/40\n",
      "72/72 [==============================] - ETA: 0s - loss: 1.3534 - accuracy: 0.5754\n",
      "Epoch 2: val_loss improved from 1.41090 to 0.84023, saving model to ./checkpoints/INI-V0-1\\FOLD-1\n",
      "INFO:tensorflow:Assets written to: ./checkpoints/INI-V0-1\\FOLD-1\\assets\n"
     ]
    },
    {
     "name": "stderr",
     "output_type": "stream",
     "text": [
      "INFO:tensorflow:Assets written to: ./checkpoints/INI-V0-1\\FOLD-1\\assets\n"
     ]
    },
    {
     "name": "stdout",
     "output_type": "stream",
     "text": [
      "72/72 [==============================] - 18s 246ms/step - loss: 1.3534 - accuracy: 0.5754 - val_loss: 0.8402 - val_accuracy: 0.5366 - lr: 0.0010\n",
      "Epoch 3/40\n",
      "72/72 [==============================] - ETA: 0s - loss: 1.1865 - accuracy: 0.5702\n",
      "Epoch 3: val_loss did not improve from 0.84023\n",
      "72/72 [==============================] - 13s 178ms/step - loss: 1.1865 - accuracy: 0.5702 - val_loss: 1.1052 - val_accuracy: 0.5000 - lr: 0.0010\n",
      "Epoch 4/40\n",
      "72/72 [==============================] - ETA: 0s - loss: 0.9687 - accuracy: 0.5807\n",
      "Epoch 4: val_loss did not improve from 0.84023\n",
      "72/72 [==============================] - 13s 174ms/step - loss: 0.9687 - accuracy: 0.5807 - val_loss: 1.0499 - val_accuracy: 0.6341 - lr: 0.0010\n",
      "Epoch 5/40\n",
      "72/72 [==============================] - ETA: 0s - loss: 0.7119 - accuracy: 0.6491\n",
      "Epoch 5: val_loss improved from 0.84023 to 0.59940, saving model to ./checkpoints/INI-V0-1\\FOLD-1\n",
      "INFO:tensorflow:Assets written to: ./checkpoints/INI-V0-1\\FOLD-1\\assets\n"
     ]
    },
    {
     "name": "stderr",
     "output_type": "stream",
     "text": [
      "INFO:tensorflow:Assets written to: ./checkpoints/INI-V0-1\\FOLD-1\\assets\n"
     ]
    },
    {
     "name": "stdout",
     "output_type": "stream",
     "text": [
      "72/72 [==============================] - 18s 254ms/step - loss: 0.7119 - accuracy: 0.6491 - val_loss: 0.5994 - val_accuracy: 0.6585 - lr: 0.0010\n",
      "Epoch 6/40\n",
      "72/72 [==============================] - ETA: 0s - loss: 0.7011 - accuracy: 0.6368\n",
      "Epoch 6: val_loss did not improve from 0.59940\n",
      "72/72 [==============================] - 13s 175ms/step - loss: 0.7011 - accuracy: 0.6368 - val_loss: 0.6512 - val_accuracy: 0.6341 - lr: 0.0010\n",
      "Epoch 7/40\n",
      "72/72 [==============================] - ETA: 0s - loss: 0.6445 - accuracy: 0.6702\n",
      "Epoch 7: val_loss improved from 0.59940 to 0.56235, saving model to ./checkpoints/INI-V0-1\\FOLD-1\n",
      "INFO:tensorflow:Assets written to: ./checkpoints/INI-V0-1\\FOLD-1\\assets\n"
     ]
    },
    {
     "name": "stderr",
     "output_type": "stream",
     "text": [
      "INFO:tensorflow:Assets written to: ./checkpoints/INI-V0-1\\FOLD-1\\assets\n"
     ]
    },
    {
     "name": "stdout",
     "output_type": "stream",
     "text": [
      "72/72 [==============================] - 17s 242ms/step - loss: 0.6445 - accuracy: 0.6702 - val_loss: 0.5623 - val_accuracy: 0.6585 - lr: 0.0010\n",
      "Epoch 8/40\n",
      "72/72 [==============================] - ETA: 0s - loss: 0.6326 - accuracy: 0.6596\n",
      "Epoch 8: val_loss did not improve from 0.56235\n",
      "72/72 [==============================] - 13s 176ms/step - loss: 0.6326 - accuracy: 0.6596 - val_loss: 0.5772 - val_accuracy: 0.6829 - lr: 0.0010\n",
      "Epoch 9/40\n",
      "72/72 [==============================] - ETA: 0s - loss: 0.6059 - accuracy: 0.6965\n",
      "Epoch 9: val_loss did not improve from 0.56235\n",
      "72/72 [==============================] - 13s 176ms/step - loss: 0.6059 - accuracy: 0.6965 - val_loss: 0.6781 - val_accuracy: 0.6341 - lr: 0.0010\n",
      "Epoch 10/40\n",
      "72/72 [==============================] - ETA: 0s - loss: 0.6271 - accuracy: 0.6544\n",
      "Epoch 10: val_loss did not improve from 0.56235\n",
      "72/72 [==============================] - 13s 175ms/step - loss: 0.6271 - accuracy: 0.6544 - val_loss: 0.6616 - val_accuracy: 0.6585 - lr: 0.0010\n",
      "Epoch 11/40\n",
      "72/72 [==============================] - ETA: 0s - loss: 0.6489 - accuracy: 0.6947\n",
      "Epoch 11: val_loss did not improve from 0.56235\n",
      "72/72 [==============================] - 13s 174ms/step - loss: 0.6489 - accuracy: 0.6947 - val_loss: 0.8836 - val_accuracy: 0.6098 - lr: 0.0010\n",
      "Epoch 12/40\n",
      "72/72 [==============================] - ETA: 0s - loss: 0.7507 - accuracy: 0.6456\n",
      "Epoch 12: val_loss did not improve from 0.56235\n",
      "72/72 [==============================] - 13s 177ms/step - loss: 0.7507 - accuracy: 0.6456 - val_loss: 0.9727 - val_accuracy: 0.5366 - lr: 0.0010\n",
      "Epoch 13/40\n",
      "72/72 [==============================] - ETA: 0s - loss: 0.6565 - accuracy: 0.6667\n",
      "Epoch 13: val_loss did not improve from 0.56235\n",
      "72/72 [==============================] - 13s 176ms/step - loss: 0.6565 - accuracy: 0.6667 - val_loss: 0.6606 - val_accuracy: 0.6220 - lr: 0.0010\n",
      "Epoch 14/40\n",
      "72/72 [==============================] - ETA: 0s - loss: 0.6678 - accuracy: 0.6526\n",
      "Epoch 14: val_loss did not improve from 0.56235\n",
      "72/72 [==============================] - 13s 179ms/step - loss: 0.6678 - accuracy: 0.6526 - val_loss: 0.6098 - val_accuracy: 0.6585 - lr: 0.0010\n",
      "Epoch 15/40\n",
      "72/72 [==============================] - ETA: 0s - loss: 0.6328 - accuracy: 0.6491\n",
      "Epoch 15: val_loss did not improve from 0.56235\n",
      "72/72 [==============================] - 13s 176ms/step - loss: 0.6328 - accuracy: 0.6491 - val_loss: 0.6675 - val_accuracy: 0.5854 - lr: 0.0010\n",
      "Epoch 16/40\n",
      "72/72 [==============================] - ETA: 0s - loss: 0.6038 - accuracy: 0.6596\n",
      "Epoch 16: val_loss improved from 0.56235 to 0.54721, saving model to ./checkpoints/INI-V0-1\\FOLD-1\n",
      "INFO:tensorflow:Assets written to: ./checkpoints/INI-V0-1\\FOLD-1\\assets\n"
     ]
    },
    {
     "name": "stderr",
     "output_type": "stream",
     "text": [
      "INFO:tensorflow:Assets written to: ./checkpoints/INI-V0-1\\FOLD-1\\assets\n"
     ]
    },
    {
     "name": "stdout",
     "output_type": "stream",
     "text": [
      "72/72 [==============================] - 18s 245ms/step - loss: 0.6038 - accuracy: 0.6596 - val_loss: 0.5472 - val_accuracy: 0.7073 - lr: 0.0010\n",
      "Epoch 17/40\n",
      "72/72 [==============================] - ETA: 0s - loss: 0.5822 - accuracy: 0.6965\n",
      "Epoch 17: val_loss did not improve from 0.54721\n",
      "72/72 [==============================] - 13s 174ms/step - loss: 0.5822 - accuracy: 0.6965 - val_loss: 0.7970 - val_accuracy: 0.5854 - lr: 0.0010\n",
      "Epoch 18/40\n",
      "72/72 [==============================] - ETA: 0s - loss: 0.5913 - accuracy: 0.6684\n",
      "Epoch 18: val_loss improved from 0.54721 to 0.49548, saving model to ./checkpoints/INI-V0-1\\FOLD-1\n",
      "INFO:tensorflow:Assets written to: ./checkpoints/INI-V0-1\\FOLD-1\\assets\n"
     ]
    },
    {
     "name": "stderr",
     "output_type": "stream",
     "text": [
      "INFO:tensorflow:Assets written to: ./checkpoints/INI-V0-1\\FOLD-1\\assets\n"
     ]
    },
    {
     "name": "stdout",
     "output_type": "stream",
     "text": [
      "72/72 [==============================] - 17s 242ms/step - loss: 0.5913 - accuracy: 0.6684 - val_loss: 0.4955 - val_accuracy: 0.7805 - lr: 0.0010\n",
      "Epoch 19/40\n",
      "72/72 [==============================] - ETA: 0s - loss: 0.6525 - accuracy: 0.6404\n",
      "Epoch 19: val_loss did not improve from 0.49548\n",
      "72/72 [==============================] - 13s 175ms/step - loss: 0.6525 - accuracy: 0.6404 - val_loss: 0.5668 - val_accuracy: 0.7561 - lr: 0.0010\n",
      "Epoch 20/40\n",
      "72/72 [==============================] - ETA: 0s - loss: 0.5701 - accuracy: 0.6965\n",
      "Epoch 20: val_loss did not improve from 0.49548\n",
      "72/72 [==============================] - 13s 176ms/step - loss: 0.5701 - accuracy: 0.6965 - val_loss: 0.5977 - val_accuracy: 0.6341 - lr: 0.0010\n",
      "Epoch 21/40\n",
      "72/72 [==============================] - ETA: 0s - loss: 0.5669 - accuracy: 0.6930\n",
      "Epoch 21: val_loss improved from 0.49548 to 0.47454, saving model to ./checkpoints/INI-V0-1\\FOLD-1\n",
      "INFO:tensorflow:Assets written to: ./checkpoints/INI-V0-1\\FOLD-1\\assets\n"
     ]
    },
    {
     "name": "stderr",
     "output_type": "stream",
     "text": [
      "INFO:tensorflow:Assets written to: ./checkpoints/INI-V0-1\\FOLD-1\\assets\n"
     ]
    },
    {
     "name": "stdout",
     "output_type": "stream",
     "text": [
      "72/72 [==============================] - 17s 243ms/step - loss: 0.5669 - accuracy: 0.6930 - val_loss: 0.4745 - val_accuracy: 0.7561 - lr: 0.0010\n",
      "Epoch 22/40\n",
      "72/72 [==============================] - ETA: 0s - loss: 0.5713 - accuracy: 0.7070\n",
      "Epoch 22: val_loss did not improve from 0.47454\n",
      "72/72 [==============================] - 13s 175ms/step - loss: 0.5713 - accuracy: 0.7070 - val_loss: 0.6015 - val_accuracy: 0.7195 - lr: 0.0010\n",
      "Epoch 23/40\n",
      "72/72 [==============================] - ETA: 0s - loss: 0.5908 - accuracy: 0.6912\n",
      "Epoch 23: val_loss did not improve from 0.47454\n",
      "72/72 [==============================] - 13s 176ms/step - loss: 0.5908 - accuracy: 0.6912 - val_loss: 0.4902 - val_accuracy: 0.8293 - lr: 0.0010\n",
      "Epoch 24/40\n",
      "72/72 [==============================] - ETA: 0s - loss: 0.5603 - accuracy: 0.7246\n",
      "Epoch 24: val_loss did not improve from 0.47454\n",
      "72/72 [==============================] - 13s 176ms/step - loss: 0.5603 - accuracy: 0.7246 - val_loss: 0.6403 - val_accuracy: 0.6707 - lr: 0.0010\n",
      "Epoch 25/40\n",
      "72/72 [==============================] - ETA: 0s - loss: 0.5961 - accuracy: 0.7070\n",
      "Epoch 25: val_loss did not improve from 0.47454\n",
      "72/72 [==============================] - 13s 176ms/step - loss: 0.5961 - accuracy: 0.7070 - val_loss: 0.9141 - val_accuracy: 0.5976 - lr: 0.0010\n",
      "Epoch 26/40\n",
      "72/72 [==============================] - ETA: 0s - loss: 0.6125 - accuracy: 0.6632\n",
      "Epoch 26: val_loss did not improve from 0.47454\n",
      "72/72 [==============================] - 13s 174ms/step - loss: 0.6125 - accuracy: 0.6632 - val_loss: 0.5693 - val_accuracy: 0.7195 - lr: 0.0010\n",
      "Epoch 27/40\n",
      "72/72 [==============================] - ETA: 0s - loss: 0.5812 - accuracy: 0.7088\n",
      "Epoch 27: val_loss did not improve from 0.47454\n",
      "72/72 [==============================] - 13s 178ms/step - loss: 0.5812 - accuracy: 0.7088 - val_loss: 0.9483 - val_accuracy: 0.5854 - lr: 0.0010\n",
      "Epoch 28/40\n",
      "72/72 [==============================] - ETA: 0s - loss: 0.5493 - accuracy: 0.7123\n",
      "Epoch 28: val_loss did not improve from 0.47454\n",
      "72/72 [==============================] - 13s 176ms/step - loss: 0.5493 - accuracy: 0.7123 - val_loss: 0.5029 - val_accuracy: 0.7927 - lr: 0.0010\n",
      "Epoch 29/40\n",
      "72/72 [==============================] - ETA: 0s - loss: 0.5479 - accuracy: 0.7211\n",
      "Epoch 29: val_loss did not improve from 0.47454\n",
      "72/72 [==============================] - 13s 174ms/step - loss: 0.5479 - accuracy: 0.7211 - val_loss: 0.5911 - val_accuracy: 0.6829 - lr: 0.0010\n",
      "Epoch 30/40\n",
      "72/72 [==============================] - ETA: 0s - loss: 0.5657 - accuracy: 0.6982\n",
      "Epoch 30: val_loss improved from 0.47454 to 0.46265, saving model to ./checkpoints/INI-V0-1\\FOLD-1\n",
      "INFO:tensorflow:Assets written to: ./checkpoints/INI-V0-1\\FOLD-1\\assets\n"
     ]
    },
    {
     "name": "stderr",
     "output_type": "stream",
     "text": [
      "INFO:tensorflow:Assets written to: ./checkpoints/INI-V0-1\\FOLD-1\\assets\n"
     ]
    },
    {
     "name": "stdout",
     "output_type": "stream",
     "text": [
      "72/72 [==============================] - 18s 246ms/step - loss: 0.5657 - accuracy: 0.6982 - val_loss: 0.4627 - val_accuracy: 0.7805 - lr: 0.0010\n",
      "Epoch 31/40\n",
      "72/72 [==============================] - ETA: 0s - loss: 0.5421 - accuracy: 0.7246\n",
      "Epoch 31: val_loss did not improve from 0.46265\n",
      "72/72 [==============================] - 13s 175ms/step - loss: 0.5421 - accuracy: 0.7246 - val_loss: 0.6470 - val_accuracy: 0.6341 - lr: 0.0010\n",
      "Epoch 32/40\n",
      "72/72 [==============================] - ETA: 0s - loss: 0.5516 - accuracy: 0.7316\n",
      "Epoch 32: val_loss did not improve from 0.46265\n",
      "72/72 [==============================] - 13s 174ms/step - loss: 0.5516 - accuracy: 0.7316 - val_loss: 0.5988 - val_accuracy: 0.6585 - lr: 0.0010\n",
      "Epoch 33/40\n",
      "72/72 [==============================] - ETA: 0s - loss: 0.5260 - accuracy: 0.7246\n",
      "Epoch 33: val_loss did not improve from 0.46265\n",
      "72/72 [==============================] - 13s 174ms/step - loss: 0.5260 - accuracy: 0.7246 - val_loss: 0.7074 - val_accuracy: 0.6951 - lr: 0.0010\n",
      "Epoch 34/40\n",
      "72/72 [==============================] - ETA: 0s - loss: 0.5403 - accuracy: 0.7491\n",
      "Epoch 34: val_loss did not improve from 0.46265\n",
      "72/72 [==============================] - 13s 177ms/step - loss: 0.5403 - accuracy: 0.7491 - val_loss: 0.5984 - val_accuracy: 0.7561 - lr: 0.0010\n",
      "Epoch 35/40\n",
      "72/72 [==============================] - ETA: 0s - loss: 0.5577 - accuracy: 0.7211\n",
      "Epoch 35: val_loss did not improve from 0.46265\n",
      "72/72 [==============================] - 13s 174ms/step - loss: 0.5577 - accuracy: 0.7211 - val_loss: 0.6573 - val_accuracy: 0.6951 - lr: 0.0010\n",
      "Epoch 36/40\n",
      "72/72 [==============================] - ETA: 0s - loss: 0.5401 - accuracy: 0.7211\n",
      "Epoch 36: val_loss did not improve from 0.46265\n",
      "72/72 [==============================] - 13s 175ms/step - loss: 0.5401 - accuracy: 0.7211 - val_loss: 0.5284 - val_accuracy: 0.7195 - lr: 0.0010\n",
      "Epoch 37/40\n",
      "72/72 [==============================] - ETA: 0s - loss: 0.5095 - accuracy: 0.7386\n",
      "Epoch 37: val_loss did not improve from 0.46265\n",
      "72/72 [==============================] - 13s 176ms/step - loss: 0.5095 - accuracy: 0.7386 - val_loss: 0.5395 - val_accuracy: 0.7317 - lr: 0.0010\n",
      "Epoch 38/40\n",
      "72/72 [==============================] - ETA: 0s - loss: 0.5258 - accuracy: 0.7386\n",
      "Epoch 38: val_loss did not improve from 0.46265\n",
      "72/72 [==============================] - 13s 178ms/step - loss: 0.5258 - accuracy: 0.7386 - val_loss: 0.6418 - val_accuracy: 0.7561 - lr: 0.0010\n",
      "Epoch 39/40\n",
      "72/72 [==============================] - ETA: 0s - loss: 0.4969 - accuracy: 0.7632\n",
      "Epoch 39: val_loss did not improve from 0.46265\n",
      "72/72 [==============================] - 13s 175ms/step - loss: 0.4969 - accuracy: 0.7632 - val_loss: 0.4651 - val_accuracy: 0.8537 - lr: 0.0010\n",
      "Epoch 40/40\n",
      "72/72 [==============================] - ETA: 0s - loss: 0.5222 - accuracy: 0.7614\n",
      "Epoch 40: ReduceLROnPlateau reducing learning rate to 0.0006000000284984708.\n",
      "\n",
      "Epoch 40: val_loss did not improve from 0.46265\n",
      "72/72 [==============================] - 12s 173ms/step - loss: 0.5222 - accuracy: 0.7614 - val_loss: 1.1064 - val_accuracy: 0.5610 - lr: 0.0010\n"
     ]
    },
    {
     "data": {
      "image/png": "[encoded data removed]",
      "text/plain": [
       "<Figure size 300x200 with 1 Axes>"
      ]
     },
     "metadata": {},
     "output_type": "display_data"
    },
    {
     "data": {
      "image/png": "[encoded data removed]",
      "text/plain": [
       "<Figure size 300x200 with 1 Axes>"
      ]
     },
     "metadata": {},
     "output_type": "display_data"
    },
    {
     "name": "stdout",
     "output_type": "stream",
     "text": [
      "Fold Training Time: 0 hour(s) and 9 mins\n",
      "Precision: 78.04877758026123  -  Recall: 78.04877758026123\n",
      "Accuracy: 78.04877758026123\n",
      "F1Score: 78.04877378228208\n",
      "[neptune] [info   ] Shutting down background jobs, please wait a moment...\n",
      "[neptune] [info   ] Done!\n",
      "[neptune] [info   ] Neptune initialized. Open in the app: offline/6925e11d-882a-4388-81a3-3df40ac97773\n",
      "Epoch 1/40\n",
      "72/72 [==============================] - ETA: 0s - loss: 2.1377 - accuracy: 0.5439\n",
      "Epoch 1: val_loss improved from inf to 0.83032, saving model to ./checkpoints/INI-V0-1\\FOLD-2\n",
      "INFO:tensorflow:Assets written to: ./checkpoints/INI-V0-1\\FOLD-2\\assets\n"
     ]
    },
    {
     "name": "stderr",
     "output_type": "stream",
     "text": [
      "INFO:tensorflow:Assets written to: ./checkpoints/INI-V0-1\\FOLD-2\\assets\n"
     ]
    },
    {
     "name": "stdout",
     "output_type": "stream",
     "text": [
      "72/72 [==============================] - 22s 250ms/step - loss: 2.1377 - accuracy: 0.5439 - val_loss: 0.8303 - val_accuracy: 0.5000 - lr: 0.0010\n",
      "Epoch 2/40\n",
      "72/72 [==============================] - ETA: 0s - loss: 0.8732 - accuracy: 0.6070\n",
      "Epoch 2: val_loss improved from 0.83032 to 0.68355, saving model to ./checkpoints/INI-V0-1\\FOLD-2\n",
      "INFO:tensorflow:Assets written to: ./checkpoints/INI-V0-1\\FOLD-2\\assets\n"
     ]
    },
    {
     "name": "stderr",
     "output_type": "stream",
     "text": [
      "INFO:tensorflow:Assets written to: ./checkpoints/INI-V0-1\\FOLD-2\\assets\n"
     ]
    },
    {
     "name": "stdout",
     "output_type": "stream",
     "text": [
      "72/72 [==============================] - 18s 250ms/step - loss: 0.8732 - accuracy: 0.6070 - val_loss: 0.6835 - val_accuracy: 0.6341 - lr: 0.0010\n",
      "Epoch 3/40\n",
      "72/72 [==============================] - ETA: 0s - loss: 0.7558 - accuracy: 0.6316\n",
      "Epoch 3: val_loss did not improve from 0.68355\n",
      "72/72 [==============================] - 13s 176ms/step - loss: 0.7558 - accuracy: 0.6316 - val_loss: 0.8252 - val_accuracy: 0.5000 - lr: 0.0010\n",
      "Epoch 4/40\n",
      "72/72 [==============================] - ETA: 0s - loss: 0.7280 - accuracy: 0.5982\n",
      "Epoch 4: val_loss did not improve from 0.68355\n",
      "72/72 [==============================] - 13s 176ms/step - loss: 0.7280 - accuracy: 0.5982 - val_loss: 1.1647 - val_accuracy: 0.5366 - lr: 0.0010\n",
      "Epoch 5/40\n",
      "72/72 [==============================] - ETA: 0s - loss: 0.6906 - accuracy: 0.6474\n",
      "Epoch 5: val_loss improved from 0.68355 to 0.67624, saving model to ./checkpoints/INI-V0-1\\FOLD-2\n",
      "INFO:tensorflow:Assets written to: ./checkpoints/INI-V0-1\\FOLD-2\\assets\n"
     ]
    },
    {
     "name": "stderr",
     "output_type": "stream",
     "text": [
      "INFO:tensorflow:Assets written to: ./checkpoints/INI-V0-1\\FOLD-2\\assets\n"
     ]
    },
    {
     "name": "stdout",
     "output_type": "stream",
     "text": [
      "72/72 [==============================] - 18s 252ms/step - loss: 0.6906 - accuracy: 0.6474 - val_loss: 0.6762 - val_accuracy: 0.5122 - lr: 0.0010\n",
      "Epoch 6/40\n",
      "72/72 [==============================] - ETA: 0s - loss: 0.6436 - accuracy: 0.6316\n",
      "Epoch 6: val_loss improved from 0.67624 to 0.65775, saving model to ./checkpoints/INI-V0-1\\FOLD-2\n",
      "INFO:tensorflow:Assets written to: ./checkpoints/INI-V0-1\\FOLD-2\\assets\n"
     ]
    },
    {
     "name": "stderr",
     "output_type": "stream",
     "text": [
      "INFO:tensorflow:Assets written to: ./checkpoints/INI-V0-1\\FOLD-2\\assets\n"
     ]
    },
    {
     "name": "stdout",
     "output_type": "stream",
     "text": [
      "72/72 [==============================] - 18s 247ms/step - loss: 0.6436 - accuracy: 0.6316 - val_loss: 0.6577 - val_accuracy: 0.6829 - lr: 0.0010\n",
      "Epoch 7/40\n",
      "72/72 [==============================] - ETA: 0s - loss: 0.6420 - accuracy: 0.6789\n",
      "Epoch 7: val_loss improved from 0.65775 to 0.64284, saving model to ./checkpoints/INI-V0-1\\FOLD-2\n",
      "INFO:tensorflow:Assets written to: ./checkpoints/INI-V0-1\\FOLD-2\\assets\n"
     ]
    },
    {
     "name": "stderr",
     "output_type": "stream",
     "text": [
      "INFO:tensorflow:Assets written to: ./checkpoints/INI-V0-1\\FOLD-2\\assets\n"
     ]
    },
    {
     "name": "stdout",
     "output_type": "stream",
     "text": [
      "72/72 [==============================] - 17s 243ms/step - loss: 0.6420 - accuracy: 0.6789 - val_loss: 0.6428 - val_accuracy: 0.7073 - lr: 0.0010\n",
      "Epoch 8/40\n",
      "72/72 [==============================] - ETA: 0s - loss: 0.6145 - accuracy: 0.6877\n",
      "Epoch 8: val_loss improved from 0.64284 to 0.55827, saving model to ./checkpoints/INI-V0-1\\FOLD-2\n",
      "INFO:tensorflow:Assets written to: ./checkpoints/INI-V0-1\\FOLD-2\\assets\n"
     ]
    },
    {
     "name": "stderr",
     "output_type": "stream",
     "text": [
      "INFO:tensorflow:Assets written to: ./checkpoints/INI-V0-1\\FOLD-2\\assets\n"
     ]
    },
    {
     "name": "stdout",
     "output_type": "stream",
     "text": [
      "72/72 [==============================] - 19s 253ms/step - loss: 0.6145 - accuracy: 0.6877 - val_loss: 0.5583 - val_accuracy: 0.7439 - lr: 0.0010\n",
      "Epoch 9/40\n",
      "72/72 [==============================] - ETA: 0s - loss: 0.6100 - accuracy: 0.6982\n",
      "Epoch 9: val_loss improved from 0.55827 to 0.51966, saving model to ./checkpoints/INI-V0-1\\FOLD-2\n",
      "INFO:tensorflow:Assets written to: ./checkpoints/INI-V0-1\\FOLD-2\\assets\n"
     ]
    },
    {
     "name": "stderr",
     "output_type": "stream",
     "text": [
      "INFO:tensorflow:Assets written to: ./checkpoints/INI-V0-1\\FOLD-2\\assets\n"
     ]
    },
    {
     "name": "stdout",
     "output_type": "stream",
     "text": [
      "72/72 [==============================] - 17s 242ms/step - loss: 0.6100 - accuracy: 0.6982 - val_loss: 0.5197 - val_accuracy: 0.7195 - lr: 0.0010\n",
      "Epoch 10/40\n",
      "72/72 [==============================] - ETA: 0s - loss: 0.6173 - accuracy: 0.6632\n",
      "Epoch 10: val_loss did not improve from 0.51966\n",
      "72/72 [==============================] - 13s 177ms/step - loss: 0.6173 - accuracy: 0.6632 - val_loss: 0.5511 - val_accuracy: 0.7805 - lr: 0.0010\n",
      "Epoch 11/40\n",
      "72/72 [==============================] - ETA: 0s - loss: 0.6096 - accuracy: 0.6772\n",
      "Epoch 11: val_loss did not improve from 0.51966\n",
      "72/72 [==============================] - 13s 175ms/step - loss: 0.6096 - accuracy: 0.6772 - val_loss: 0.5671 - val_accuracy: 0.7317 - lr: 0.0010\n",
      "Epoch 12/40\n",
      "72/72 [==============================] - ETA: 0s - loss: 0.6557 - accuracy: 0.6439\n",
      "Epoch 12: val_loss did not improve from 0.51966\n",
      "72/72 [==============================] - 13s 175ms/step - loss: 0.6557 - accuracy: 0.6439 - val_loss: 0.5524 - val_accuracy: 0.7439 - lr: 0.0010\n",
      "Epoch 13/40\n",
      "72/72 [==============================] - ETA: 0s - loss: 0.6224 - accuracy: 0.6491\n",
      "Epoch 13: val_loss did not improve from 0.51966\n",
      "72/72 [==============================] - 13s 175ms/step - loss: 0.6224 - accuracy: 0.6491 - val_loss: 0.6253 - val_accuracy: 0.7439 - lr: 0.0010\n",
      "Epoch 14/40\n",
      "72/72 [==============================] - ETA: 0s - loss: 0.6066 - accuracy: 0.6947\n",
      "Epoch 14: val_loss improved from 0.51966 to 0.51469, saving model to ./checkpoints/INI-V0-1\\FOLD-2\n",
      "INFO:tensorflow:Assets written to: ./checkpoints/INI-V0-1\\FOLD-2\\assets\n"
     ]
    },
    {
     "name": "stderr",
     "output_type": "stream",
     "text": [
      "INFO:tensorflow:Assets written to: ./checkpoints/INI-V0-1\\FOLD-2\\assets\n"
     ]
    },
    {
     "name": "stdout",
     "output_type": "stream",
     "text": [
      "72/72 [==============================] - 18s 246ms/step - loss: 0.6066 - accuracy: 0.6947 - val_loss: 0.5147 - val_accuracy: 0.7439 - lr: 0.0010\n",
      "Epoch 15/40\n",
      "72/72 [==============================] - ETA: 0s - loss: 0.5947 - accuracy: 0.6895\n",
      "Epoch 15: val_loss did not improve from 0.51469\n",
      "72/72 [==============================] - 13s 177ms/step - loss: 0.5947 - accuracy: 0.6895 - val_loss: 0.6239 - val_accuracy: 0.5610 - lr: 0.0010\n",
      "Epoch 16/40\n",
      "72/72 [==============================] - ETA: 0s - loss: 0.6500 - accuracy: 0.6526\n",
      "Epoch 16: val_loss did not improve from 0.51469\n",
      "72/72 [==============================] - 13s 175ms/step - loss: 0.6500 - accuracy: 0.6526 - val_loss: 0.6197 - val_accuracy: 0.6707 - lr: 0.0010\n",
      "Epoch 17/40\n",
      "72/72 [==============================] - ETA: 0s - loss: 0.5742 - accuracy: 0.7088\n",
      "Epoch 17: val_loss did not improve from 0.51469\n",
      "72/72 [==============================] - 13s 175ms/step - loss: 0.5742 - accuracy: 0.7088 - val_loss: 0.5484 - val_accuracy: 0.6707 - lr: 0.0010\n",
      "Epoch 18/40\n",
      "72/72 [==============================] - ETA: 0s - loss: 0.5857 - accuracy: 0.6982\n",
      "Epoch 18: val_loss improved from 0.51469 to 0.48332, saving model to ./checkpoints/INI-V0-1\\FOLD-2\n",
      "INFO:tensorflow:Assets written to: ./checkpoints/INI-V0-1\\FOLD-2\\assets\n"
     ]
    },
    {
     "name": "stderr",
     "output_type": "stream",
     "text": [
      "INFO:tensorflow:Assets written to: ./checkpoints/INI-V0-1\\FOLD-2\\assets\n"
     ]
    },
    {
     "name": "stdout",
     "output_type": "stream",
     "text": [
      "72/72 [==============================] - 18s 249ms/step - loss: 0.5857 - accuracy: 0.6982 - val_loss: 0.4833 - val_accuracy: 0.8049 - lr: 0.0010\n",
      "Epoch 19/40\n",
      "72/72 [==============================] - ETA: 0s - loss: 0.5879 - accuracy: 0.7140\n",
      "Epoch 19: val_loss did not improve from 0.48332\n",
      "72/72 [==============================] - 13s 176ms/step - loss: 0.5879 - accuracy: 0.7140 - val_loss: 0.5718 - val_accuracy: 0.6951 - lr: 0.0010\n",
      "Epoch 20/40\n",
      "72/72 [==============================] - ETA: 0s - loss: 0.5724 - accuracy: 0.7000\n",
      "Epoch 20: val_loss did not improve from 0.48332\n",
      "72/72 [==============================] - 13s 175ms/step - loss: 0.5724 - accuracy: 0.7000 - val_loss: 0.5289 - val_accuracy: 0.6951 - lr: 0.0010\n",
      "Epoch 21/40\n",
      "72/72 [==============================] - ETA: 0s - loss: 0.5517 - accuracy: 0.7105\n",
      "Epoch 21: val_loss did not improve from 0.48332\n",
      "72/72 [==============================] - 13s 177ms/step - loss: 0.5517 - accuracy: 0.7105 - val_loss: 1.2211 - val_accuracy: 0.5122 - lr: 0.0010\n",
      "Epoch 22/40\n",
      "72/72 [==============================] - ETA: 0s - loss: 0.5621 - accuracy: 0.7175\n",
      "Epoch 22: val_loss did not improve from 0.48332\n",
      "72/72 [==============================] - 13s 177ms/step - loss: 0.5621 - accuracy: 0.7175 - val_loss: 0.5681 - val_accuracy: 0.7317 - lr: 0.0010\n",
      "Epoch 23/40\n",
      "72/72 [==============================] - ETA: 0s - loss: 0.5334 - accuracy: 0.7421\n",
      "Epoch 23: val_loss did not improve from 0.48332\n",
      "72/72 [==============================] - 13s 176ms/step - loss: 0.5334 - accuracy: 0.7421 - val_loss: 0.5314 - val_accuracy: 0.6707 - lr: 0.0010\n",
      "Epoch 24/40\n",
      "72/72 [==============================] - ETA: 0s - loss: 0.5435 - accuracy: 0.7228\n",
      "Epoch 24: val_loss did not improve from 0.48332\n",
      "72/72 [==============================] - 13s 175ms/step - loss: 0.5435 - accuracy: 0.7228 - val_loss: 0.6156 - val_accuracy: 0.7195 - lr: 0.0010\n",
      "Epoch 25/40\n",
      "72/72 [==============================] - ETA: 0s - loss: 0.5275 - accuracy: 0.7544\n",
      "Epoch 25: val_loss did not improve from 0.48332\n",
      "72/72 [==============================] - 13s 175ms/step - loss: 0.5275 - accuracy: 0.7544 - val_loss: 0.5133 - val_accuracy: 0.7439 - lr: 0.0010\n",
      "Epoch 26/40\n",
      "72/72 [==============================] - ETA: 0s - loss: 0.5724 - accuracy: 0.7193\n",
      "Epoch 26: val_loss did not improve from 0.48332\n",
      "72/72 [==============================] - 13s 175ms/step - loss: 0.5724 - accuracy: 0.7193 - val_loss: 0.4973 - val_accuracy: 0.7805 - lr: 0.0010\n",
      "Epoch 27/40\n",
      "72/72 [==============================] - ETA: 0s - loss: 0.5735 - accuracy: 0.6965\n",
      "Epoch 27: val_loss did not improve from 0.48332\n",
      "72/72 [==============================] - 13s 177ms/step - loss: 0.5735 - accuracy: 0.6965 - val_loss: 1.8453 - val_accuracy: 0.5366 - lr: 0.0010\n",
      "Epoch 28/40\n",
      "72/72 [==============================] - ETA: 0s - loss: 0.5561 - accuracy: 0.7123\n",
      "Epoch 28: ReduceLROnPlateau reducing learning rate to 0.0006000000284984708.\n",
      "\n",
      "Epoch 28: val_loss did not improve from 0.48332\n",
      "72/72 [==============================] - 13s 175ms/step - loss: 0.5561 - accuracy: 0.7123 - val_loss: 0.5125 - val_accuracy: 0.7317 - lr: 0.0010\n",
      "Epoch 29/40\n",
      "72/72 [==============================] - ETA: 0s - loss: 0.5251 - accuracy: 0.7316\n",
      "Epoch 29: val_loss did not improve from 0.48332\n",
      "72/72 [==============================] - 13s 175ms/step - loss: 0.5251 - accuracy: 0.7316 - val_loss: 0.5609 - val_accuracy: 0.6951 - lr: 6.0000e-04\n",
      "Epoch 30/40\n",
      "72/72 [==============================] - ETA: 0s - loss: 0.5181 - accuracy: 0.7456\n",
      "Epoch 30: val_loss did not improve from 0.48332\n",
      "72/72 [==============================] - 13s 177ms/step - loss: 0.5181 - accuracy: 0.7456 - val_loss: 0.4956 - val_accuracy: 0.7683 - lr: 6.0000e-04\n",
      "Epoch 31/40\n",
      "72/72 [==============================] - ETA: 0s - loss: 0.4872 - accuracy: 0.7561\n",
      "Epoch 31: val_loss improved from 0.48332 to 0.46861, saving model to ./checkpoints/INI-V0-1\\FOLD-2\n",
      "INFO:tensorflow:Assets written to: ./checkpoints/INI-V0-1\\FOLD-2\\assets\n"
     ]
    },
    {
     "name": "stderr",
     "output_type": "stream",
     "text": [
      "INFO:tensorflow:Assets written to: ./checkpoints/INI-V0-1\\FOLD-2\\assets\n"
     ]
    },
    {
     "name": "stdout",
     "output_type": "stream",
     "text": [
      "72/72 [==============================] - 17s 241ms/step - loss: 0.4872 - accuracy: 0.7561 - val_loss: 0.4686 - val_accuracy: 0.7561 - lr: 6.0000e-04\n",
      "Epoch 32/40\n",
      "72/72 [==============================] - ETA: 0s - loss: 0.4794 - accuracy: 0.7982\n",
      "Epoch 32: val_loss improved from 0.46861 to 0.45627, saving model to ./checkpoints/INI-V0-1\\FOLD-2\n",
      "INFO:tensorflow:Assets written to: ./checkpoints/INI-V0-1\\FOLD-2\\assets\n"
     ]
    },
    {
     "name": "stderr",
     "output_type": "stream",
     "text": [
      "INFO:tensorflow:Assets written to: ./checkpoints/INI-V0-1\\FOLD-2\\assets\n"
     ]
    },
    {
     "name": "stdout",
     "output_type": "stream",
     "text": [
      "72/72 [==============================] - 18s 244ms/step - loss: 0.4794 - accuracy: 0.7982 - val_loss: 0.4563 - val_accuracy: 0.7805 - lr: 6.0000e-04\n",
      "Epoch 33/40\n",
      "72/72 [==============================] - ETA: 0s - loss: 0.4727 - accuracy: 0.7912\n",
      "Epoch 33: val_loss did not improve from 0.45627\n",
      "72/72 [==============================] - 13s 176ms/step - loss: 0.4727 - accuracy: 0.7912 - val_loss: 0.5356 - val_accuracy: 0.6951 - lr: 6.0000e-04\n",
      "Epoch 34/40\n",
      "72/72 [==============================] - ETA: 0s - loss: 0.5031 - accuracy: 0.7368\n",
      "Epoch 34: val_loss did not improve from 0.45627\n",
      "72/72 [==============================] - 13s 175ms/step - loss: 0.5031 - accuracy: 0.7368 - val_loss: 0.5496 - val_accuracy: 0.7439 - lr: 6.0000e-04\n",
      "Epoch 35/40\n",
      "72/72 [==============================] - ETA: 0s - loss: 0.4871 - accuracy: 0.7684\n",
      "Epoch 35: val_loss did not improve from 0.45627\n",
      "72/72 [==============================] - 13s 175ms/step - loss: 0.4871 - accuracy: 0.7684 - val_loss: 0.5392 - val_accuracy: 0.7561 - lr: 6.0000e-04\n",
      "Epoch 36/40\n",
      "72/72 [==============================] - ETA: 0s - loss: 0.4622 - accuracy: 0.7912\n",
      "Epoch 36: val_loss did not improve from 0.45627\n",
      "72/72 [==============================] - 13s 177ms/step - loss: 0.4622 - accuracy: 0.7912 - val_loss: 0.6293 - val_accuracy: 0.7073 - lr: 6.0000e-04\n",
      "Epoch 37/40\n",
      "72/72 [==============================] - ETA: 0s - loss: 0.4642 - accuracy: 0.7825\n",
      "Epoch 37: val_loss did not improve from 0.45627\n",
      "72/72 [==============================] - 13s 176ms/step - loss: 0.4642 - accuracy: 0.7825 - val_loss: 0.5057 - val_accuracy: 0.7439 - lr: 6.0000e-04\n",
      "Epoch 38/40\n",
      "72/72 [==============================] - ETA: 0s - loss: 0.4601 - accuracy: 0.7860\n",
      "Epoch 38: val_loss did not improve from 0.45627\n",
      "72/72 [==============================] - 13s 175ms/step - loss: 0.4601 - accuracy: 0.7860 - val_loss: 0.5264 - val_accuracy: 0.7683 - lr: 6.0000e-04\n",
      "Epoch 39/40\n",
      "72/72 [==============================] - ETA: 0s - loss: 0.4774 - accuracy: 0.7702\n",
      "Epoch 39: val_loss did not improve from 0.45627\n",
      "72/72 [==============================] - 13s 175ms/step - loss: 0.4774 - accuracy: 0.7702 - val_loss: 0.4999 - val_accuracy: 0.7195 - lr: 6.0000e-04\n",
      "Epoch 40/40\n",
      "72/72 [==============================] - ETA: 0s - loss: 0.4776 - accuracy: 0.7912\n",
      "Epoch 40: val_loss did not improve from 0.45627\n",
      "72/72 [==============================] - 13s 174ms/step - loss: 0.4776 - accuracy: 0.7912 - val_loss: 0.5933 - val_accuracy: 0.6585 - lr: 6.0000e-04\n"
     ]
    },
    {
     "data": {
      "image/png": "[encoded data removed]",
      "text/plain": [
       "<Figure size 300x200 with 1 Axes>"
      ]
     },
     "metadata": {},
     "output_type": "display_data"
    },
    {
     "data": {
      "image/png": "[encoded data removed]",
      "text/plain": [
       "<Figure size 300x200 with 1 Axes>"
      ]
     },
     "metadata": {},
     "output_type": "display_data"
    },
    {
     "name": "stdout",
     "output_type": "stream",
     "text": [
      "Fold Training Time: 0 hour(s) and 9 mins\n",
      "Precision: 84.84848737716675  -  Recall: 68.29268336296082\n",
      "Accuracy: 78.04877758026123\n",
      "F1Score: 75.67568282879297\n",
      "[neptune] [info   ] Shutting down background jobs, please wait a moment...\n",
      "[neptune] [info   ] Done!\n",
      "[neptune] [info   ] Neptune initialized. Open in the app: offline/1cc35690-e3dd-43d6-b569-5d38b40eca5b\n",
      "Epoch 1/40\n",
      "72/72 [==============================] - ETA: 0s - loss: 2.7462 - accuracy: 0.5930\n",
      "Epoch 1: val_loss improved from inf to 0.75893, saving model to ./checkpoints/INI-V0-1\\FOLD-3\n",
      "INFO:tensorflow:Assets written to: ./checkpoints/INI-V0-1\\FOLD-3\\assets\n"
     ]
    },
    {
     "name": "stderr",
     "output_type": "stream",
     "text": [
      "INFO:tensorflow:Assets written to: ./checkpoints/INI-V0-1\\FOLD-3\\assets\n"
     ]
    },
    {
     "name": "stdout",
     "output_type": "stream",
     "text": [
      "72/72 [==============================] - 22s 252ms/step - loss: 2.7462 - accuracy: 0.5930 - val_loss: 0.7589 - val_accuracy: 0.4268 - lr: 0.0010\n",
      "Epoch 2/40\n",
      "72/72 [==============================] - ETA: 0s - loss: 1.1245 - accuracy: 0.5789\n",
      "Epoch 2: val_loss improved from 0.75893 to 0.73950, saving model to ./checkpoints/INI-V0-1\\FOLD-3\n",
      "INFO:tensorflow:Assets written to: ./checkpoints/INI-V0-1\\FOLD-3\\assets\n"
     ]
    },
    {
     "name": "stderr",
     "output_type": "stream",
     "text": [
      "INFO:tensorflow:Assets written to: ./checkpoints/INI-V0-1\\FOLD-3\\assets\n"
     ]
    },
    {
     "name": "stdout",
     "output_type": "stream",
     "text": [
      "72/72 [==============================] - 17s 244ms/step - loss: 1.1245 - accuracy: 0.5789 - val_loss: 0.7395 - val_accuracy: 0.4146 - lr: 0.0010\n",
      "Epoch 3/40\n",
      "72/72 [==============================] - ETA: 0s - loss: 0.9242 - accuracy: 0.5842\n",
      "Epoch 3: val_loss did not improve from 0.73950\n",
      "72/72 [==============================] - 13s 182ms/step - loss: 0.9242 - accuracy: 0.5842 - val_loss: 0.8542 - val_accuracy: 0.5000 - lr: 0.0010\n",
      "Epoch 4/40\n",
      "72/72 [==============================] - ETA: 0s - loss: 0.9061 - accuracy: 0.5649\n",
      "Epoch 4: val_loss did not improve from 0.73950\n",
      "72/72 [==============================] - 13s 178ms/step - loss: 0.9061 - accuracy: 0.5649 - val_loss: 0.8129 - val_accuracy: 0.5122 - lr: 0.0010\n",
      "Epoch 5/40\n",
      "72/72 [==============================] - ETA: 0s - loss: 0.7419 - accuracy: 0.5895\n",
      "Epoch 5: val_loss improved from 0.73950 to 0.69568, saving model to ./checkpoints/INI-V0-1\\FOLD-3\n",
      "INFO:tensorflow:Assets written to: ./checkpoints/INI-V0-1\\FOLD-3\\assets\n"
     ]
    },
    {
     "name": "stderr",
     "output_type": "stream",
     "text": [
      "INFO:tensorflow:Assets written to: ./checkpoints/INI-V0-1\\FOLD-3\\assets\n"
     ]
    },
    {
     "name": "stdout",
     "output_type": "stream",
     "text": [
      "72/72 [==============================] - 18s 250ms/step - loss: 0.7419 - accuracy: 0.5895 - val_loss: 0.6957 - val_accuracy: 0.5366 - lr: 0.0010\n",
      "Epoch 6/40\n",
      "72/72 [==============================] - ETA: 0s - loss: 0.6805 - accuracy: 0.6351\n",
      "Epoch 6: val_loss improved from 0.69568 to 0.69311, saving model to ./checkpoints/INI-V0-1\\FOLD-3\n",
      "INFO:tensorflow:Assets written to: ./checkpoints/INI-V0-1\\FOLD-3\\assets\n"
     ]
    },
    {
     "name": "stderr",
     "output_type": "stream",
     "text": [
      "INFO:tensorflow:Assets written to: ./checkpoints/INI-V0-1\\FOLD-3\\assets\n"
     ]
    },
    {
     "name": "stdout",
     "output_type": "stream",
     "text": [
      "72/72 [==============================] - 18s 250ms/step - loss: 0.6805 - accuracy: 0.6351 - val_loss: 0.6931 - val_accuracy: 0.5854 - lr: 0.0010\n",
      "Epoch 7/40\n",
      "72/72 [==============================] - ETA: 0s - loss: 0.6441 - accuracy: 0.6316\n",
      "Epoch 7: val_loss did not improve from 0.69311\n",
      "72/72 [==============================] - 13s 179ms/step - loss: 0.6441 - accuracy: 0.6316 - val_loss: 0.9040 - val_accuracy: 0.5244 - lr: 0.0010\n",
      "Epoch 8/40\n",
      "72/72 [==============================] - ETA: 0s - loss: 0.6092 - accuracy: 0.6719\n",
      "Epoch 8: val_loss did not improve from 0.69311\n",
      "72/72 [==============================] - 13s 178ms/step - loss: 0.6092 - accuracy: 0.6719 - val_loss: 0.7082 - val_accuracy: 0.6220 - lr: 0.0010\n",
      "Epoch 9/40\n",
      "72/72 [==============================] - ETA: 0s - loss: 0.6439 - accuracy: 0.6684\n",
      "Epoch 9: val_loss did not improve from 0.69311\n",
      "72/72 [==============================] - 13s 178ms/step - loss: 0.6439 - accuracy: 0.6684 - val_loss: 1.3498 - val_accuracy: 0.4268 - lr: 0.0010\n",
      "Epoch 10/40\n",
      "72/72 [==============================] - ETA: 0s - loss: 0.6366 - accuracy: 0.6596\n",
      "Epoch 10: val_loss did not improve from 0.69311\n",
      "72/72 [==============================] - 13s 178ms/step - loss: 0.6366 - accuracy: 0.6596 - val_loss: 0.7704 - val_accuracy: 0.6220 - lr: 0.0010\n",
      "Epoch 11/40\n",
      "72/72 [==============================] - ETA: 0s - loss: 0.6432 - accuracy: 0.6684\n",
      "Epoch 11: val_loss did not improve from 0.69311\n",
      "72/72 [==============================] - 13s 177ms/step - loss: 0.6432 - accuracy: 0.6684 - val_loss: 0.8053 - val_accuracy: 0.6341 - lr: 0.0010\n",
      "Epoch 12/40\n",
      "72/72 [==============================] - ETA: 0s - loss: 0.6112 - accuracy: 0.6719\n",
      "Epoch 12: val_loss did not improve from 0.69311\n",
      "72/72 [==============================] - 13s 176ms/step - loss: 0.6112 - accuracy: 0.6719 - val_loss: 1.1327 - val_accuracy: 0.6463 - lr: 0.0010\n",
      "Epoch 13/40\n",
      "72/72 [==============================] - ETA: 0s - loss: 0.6044 - accuracy: 0.6719\n",
      "Epoch 13: val_loss did not improve from 0.69311\n",
      "72/72 [==============================] - 13s 177ms/step - loss: 0.6044 - accuracy: 0.6719 - val_loss: 0.9355 - val_accuracy: 0.5976 - lr: 0.0010\n",
      "Epoch 14/40\n",
      "72/72 [==============================] - ETA: 0s - loss: 0.6147 - accuracy: 0.7000\n",
      "Epoch 14: val_loss improved from 0.69311 to 0.61476, saving model to ./checkpoints/INI-V0-1\\FOLD-3\n",
      "INFO:tensorflow:Assets written to: ./checkpoints/INI-V0-1\\FOLD-3\\assets\n"
     ]
    },
    {
     "name": "stderr",
     "output_type": "stream",
     "text": [
      "INFO:tensorflow:Assets written to: ./checkpoints/INI-V0-1\\FOLD-3\\assets\n"
     ]
    },
    {
     "name": "stdout",
     "output_type": "stream",
     "text": [
      "72/72 [==============================] - 18s 250ms/step - loss: 0.6147 - accuracy: 0.7000 - val_loss: 0.6148 - val_accuracy: 0.6707 - lr: 0.0010\n",
      "Epoch 15/40\n",
      "72/72 [==============================] - ETA: 0s - loss: 0.6132 - accuracy: 0.6912\n",
      "Epoch 15: val_loss did not improve from 0.61476\n",
      "72/72 [==============================] - 13s 180ms/step - loss: 0.6132 - accuracy: 0.6912 - val_loss: 0.7381 - val_accuracy: 0.6707 - lr: 0.0010\n",
      "Epoch 16/40\n",
      "72/72 [==============================] - ETA: 0s - loss: 0.6126 - accuracy: 0.6702\n",
      "Epoch 16: val_loss did not improve from 0.61476\n",
      "72/72 [==============================] - 13s 181ms/step - loss: 0.6126 - accuracy: 0.6702 - val_loss: 0.6574 - val_accuracy: 0.6463 - lr: 0.0010\n",
      "Epoch 17/40\n",
      "72/72 [==============================] - ETA: 0s - loss: 0.5670 - accuracy: 0.7211\n",
      "Epoch 17: val_loss did not improve from 0.61476\n",
      "72/72 [==============================] - 13s 181ms/step - loss: 0.5670 - accuracy: 0.7211 - val_loss: 0.8533 - val_accuracy: 0.5854 - lr: 0.0010\n",
      "Epoch 18/40\n",
      "72/72 [==============================] - ETA: 0s - loss: 0.5721 - accuracy: 0.7053\n",
      "Epoch 18: val_loss did not improve from 0.61476\n",
      "72/72 [==============================] - 13s 178ms/step - loss: 0.5721 - accuracy: 0.7053 - val_loss: 0.9178 - val_accuracy: 0.5732 - lr: 0.0010\n",
      "Epoch 19/40\n",
      "72/72 [==============================] - ETA: 0s - loss: 0.6151 - accuracy: 0.6912\n",
      "Epoch 19: val_loss did not improve from 0.61476\n",
      "72/72 [==============================] - 13s 176ms/step - loss: 0.6151 - accuracy: 0.6912 - val_loss: 0.7670 - val_accuracy: 0.6707 - lr: 0.0010\n",
      "Epoch 20/40\n",
      "72/72 [==============================] - ETA: 0s - loss: 0.5784 - accuracy: 0.7263\n",
      "Epoch 20: val_loss did not improve from 0.61476\n",
      "72/72 [==============================] - 13s 175ms/step - loss: 0.5784 - accuracy: 0.7263 - val_loss: 0.9436 - val_accuracy: 0.5244 - lr: 0.0010\n",
      "Epoch 21/40\n",
      "72/72 [==============================] - ETA: 0s - loss: 0.5837 - accuracy: 0.6860\n",
      "Epoch 21: val_loss improved from 0.61476 to 0.59637, saving model to ./checkpoints/INI-V0-1\\FOLD-3\n",
      "INFO:tensorflow:Assets written to: ./checkpoints/INI-V0-1\\FOLD-3\\assets\n"
     ]
    },
    {
     "name": "stderr",
     "output_type": "stream",
     "text": [
      "INFO:tensorflow:Assets written to: ./checkpoints/INI-V0-1\\FOLD-3\\assets\n"
     ]
    },
    {
     "name": "stdout",
     "output_type": "stream",
     "text": [
      "72/72 [==============================] - 18s 254ms/step - loss: 0.5837 - accuracy: 0.6860 - val_loss: 0.5964 - val_accuracy: 0.7439 - lr: 0.0010\n",
      "Epoch 22/40\n",
      "72/72 [==============================] - ETA: 0s - loss: 0.5890 - accuracy: 0.6772\n",
      "Epoch 22: val_loss did not improve from 0.59637\n",
      "72/72 [==============================] - 13s 177ms/step - loss: 0.5890 - accuracy: 0.6772 - val_loss: 0.6457 - val_accuracy: 0.6707 - lr: 0.0010\n",
      "Epoch 23/40\n",
      "72/72 [==============================] - ETA: 0s - loss: 0.5631 - accuracy: 0.7228\n",
      "Epoch 23: val_loss did not improve from 0.59637\n",
      "72/72 [==============================] - 13s 177ms/step - loss: 0.5631 - accuracy: 0.7228 - val_loss: 0.7249 - val_accuracy: 0.5610 - lr: 0.0010\n",
      "Epoch 24/40\n",
      "72/72 [==============================] - ETA: 0s - loss: 0.5410 - accuracy: 0.7491\n",
      "Epoch 24: val_loss improved from 0.59637 to 0.56533, saving model to ./checkpoints/INI-V0-1\\FOLD-3\n",
      "INFO:tensorflow:Assets written to: ./checkpoints/INI-V0-1\\FOLD-3\\assets\n"
     ]
    },
    {
     "name": "stderr",
     "output_type": "stream",
     "text": [
      "INFO:tensorflow:Assets written to: ./checkpoints/INI-V0-1\\FOLD-3\\assets\n"
     ]
    },
    {
     "name": "stdout",
     "output_type": "stream",
     "text": [
      "72/72 [==============================] - 18s 244ms/step - loss: 0.5410 - accuracy: 0.7491 - val_loss: 0.5653 - val_accuracy: 0.7073 - lr: 0.0010\n",
      "Epoch 25/40\n",
      "72/72 [==============================] - ETA: 0s - loss: 0.5459 - accuracy: 0.7070\n",
      "Epoch 25: val_loss did not improve from 0.56533\n",
      "72/72 [==============================] - 13s 179ms/step - loss: 0.5459 - accuracy: 0.7070 - val_loss: 0.7713 - val_accuracy: 0.6585 - lr: 0.0010\n",
      "Epoch 26/40\n",
      "72/72 [==============================] - ETA: 0s - loss: 0.5941 - accuracy: 0.7000\n",
      "Epoch 26: val_loss did not improve from 0.56533\n",
      "72/72 [==============================] - 13s 178ms/step - loss: 0.5941 - accuracy: 0.7000 - val_loss: 1.0140 - val_accuracy: 0.6341 - lr: 0.0010\n",
      "Epoch 27/40\n",
      "72/72 [==============================] - ETA: 0s - loss: 0.5504 - accuracy: 0.7211\n",
      "Epoch 27: val_loss did not improve from 0.56533\n",
      "72/72 [==============================] - 13s 176ms/step - loss: 0.5504 - accuracy: 0.7211 - val_loss: 0.7668 - val_accuracy: 0.5732 - lr: 0.0010\n",
      "Epoch 28/40\n",
      "72/72 [==============================] - ETA: 0s - loss: 0.5373 - accuracy: 0.7298\n",
      "Epoch 28: val_loss did not improve from 0.56533\n",
      "72/72 [==============================] - 13s 177ms/step - loss: 0.5373 - accuracy: 0.7298 - val_loss: 0.6193 - val_accuracy: 0.7439 - lr: 0.0010\n",
      "Epoch 29/40\n",
      "72/72 [==============================] - ETA: 0s - loss: 0.5401 - accuracy: 0.7211\n",
      "Epoch 29: val_loss did not improve from 0.56533\n",
      "72/72 [==============================] - 13s 182ms/step - loss: 0.5401 - accuracy: 0.7211 - val_loss: 0.8119 - val_accuracy: 0.5610 - lr: 0.0010\n",
      "Epoch 30/40\n",
      "72/72 [==============================] - ETA: 0s - loss: 0.5597 - accuracy: 0.7053\n",
      "Epoch 30: val_loss did not improve from 0.56533\n",
      "72/72 [==============================] - 13s 181ms/step - loss: 0.5597 - accuracy: 0.7053 - val_loss: 0.6209 - val_accuracy: 0.6098 - lr: 0.0010\n",
      "Epoch 31/40\n",
      "72/72 [==============================] - ETA: 0s - loss: 0.5476 - accuracy: 0.7298\n",
      "Epoch 31: val_loss did not improve from 0.56533\n",
      "72/72 [==============================] - 13s 177ms/step - loss: 0.5476 - accuracy: 0.7298 - val_loss: 0.6640 - val_accuracy: 0.6829 - lr: 0.0010\n",
      "Epoch 32/40\n",
      "72/72 [==============================] - ETA: 0s - loss: 0.5113 - accuracy: 0.7421\n",
      "Epoch 32: val_loss did not improve from 0.56533\n",
      "72/72 [==============================] - 13s 176ms/step - loss: 0.5113 - accuracy: 0.7421 - val_loss: 0.6003 - val_accuracy: 0.6707 - lr: 0.0010\n",
      "Epoch 33/40\n",
      "72/72 [==============================] - ETA: 0s - loss: 0.5258 - accuracy: 0.7491\n",
      "Epoch 33: val_loss did not improve from 0.56533\n",
      "72/72 [==============================] - 13s 177ms/step - loss: 0.5258 - accuracy: 0.7491 - val_loss: 0.7045 - val_accuracy: 0.6098 - lr: 0.0010\n",
      "Epoch 34/40\n",
      "72/72 [==============================] - ETA: 0s - loss: 0.5149 - accuracy: 0.7667\n",
      "Epoch 34: ReduceLROnPlateau reducing learning rate to 0.0006000000284984708.\n",
      "\n",
      "Epoch 34: val_loss did not improve from 0.56533\n",
      "72/72 [==============================] - 13s 176ms/step - loss: 0.5149 - accuracy: 0.7667 - val_loss: 0.7125 - val_accuracy: 0.6585 - lr: 0.0010\n",
      "Epoch 35/40\n",
      "72/72 [==============================] - ETA: 0s - loss: 0.4672 - accuracy: 0.7737\n",
      "Epoch 35: val_loss improved from 0.56533 to 0.54857, saving model to ./checkpoints/INI-V0-1\\FOLD-3\n",
      "INFO:tensorflow:Assets written to: ./checkpoints/INI-V0-1\\FOLD-3\\assets\n"
     ]
    },
    {
     "name": "stderr",
     "output_type": "stream",
     "text": [
      "INFO:tensorflow:Assets written to: ./checkpoints/INI-V0-1\\FOLD-3\\assets\n"
     ]
    },
    {
     "name": "stdout",
     "output_type": "stream",
     "text": [
      "72/72 [==============================] - 17s 243ms/step - loss: 0.4672 - accuracy: 0.7737 - val_loss: 0.5486 - val_accuracy: 0.7439 - lr: 6.0000e-04\n",
      "Epoch 36/40\n",
      "72/72 [==============================] - ETA: 0s - loss: 0.4759 - accuracy: 0.7632\n",
      "Epoch 36: val_loss did not improve from 0.54857\n",
      "72/72 [==============================] - 13s 177ms/step - loss: 0.4759 - accuracy: 0.7632 - val_loss: 0.9631 - val_accuracy: 0.6341 - lr: 6.0000e-04\n",
      "Epoch 37/40\n",
      "72/72 [==============================] - ETA: 0s - loss: 0.5028 - accuracy: 0.7404\n",
      "Epoch 37: val_loss did not improve from 0.54857\n",
      "72/72 [==============================] - 13s 175ms/step - loss: 0.5028 - accuracy: 0.7404 - val_loss: 0.5744 - val_accuracy: 0.7073 - lr: 6.0000e-04\n",
      "Epoch 38/40\n",
      "72/72 [==============================] - ETA: 0s - loss: 0.4628 - accuracy: 0.7772\n",
      "Epoch 38: val_loss did not improve from 0.54857\n",
      "72/72 [==============================] - 13s 177ms/step - loss: 0.4628 - accuracy: 0.7772 - val_loss: 0.9457 - val_accuracy: 0.5732 - lr: 6.0000e-04\n",
      "Epoch 39/40\n",
      "72/72 [==============================] - ETA: 0s - loss: 0.4647 - accuracy: 0.7684\n",
      "Epoch 39: val_loss did not improve from 0.54857\n",
      "72/72 [==============================] - 13s 178ms/step - loss: 0.4647 - accuracy: 0.7684 - val_loss: 0.5866 - val_accuracy: 0.7317 - lr: 6.0000e-04\n",
      "Epoch 40/40\n",
      "72/72 [==============================] - ETA: 0s - loss: 0.4919 - accuracy: 0.7684\n",
      "Epoch 40: val_loss did not improve from 0.54857\n",
      "72/72 [==============================] - 13s 176ms/step - loss: 0.4919 - accuracy: 0.7684 - val_loss: 0.5723 - val_accuracy: 0.6707 - lr: 6.0000e-04\n"
     ]
    },
    {
     "data": {
      "image/png": "[encoded data removed]",
      "text/plain": [
       "<Figure size 300x200 with 1 Axes>"
      ]
     },
     "metadata": {},
     "output_type": "display_data"
    },
    {
     "data": {
      "image/png": "[encoded data removed]",
      "text/plain": [
       "<Figure size 300x200 with 1 Axes>"
      ]
     },
     "metadata": {},
     "output_type": "display_data"
    },
    {
     "name": "stdout",
     "output_type": "stream",
     "text": [
      "Fold Training Time: 0 hour(s) and 9 mins\n",
      "Precision: 75.0  -  Recall: 73.17073345184326\n",
      "Accuracy: 74.39024448394775\n",
      "F1Score: 74.07407496800747\n",
      "[neptune] [info   ] Shutting down background jobs, please wait a moment...\n",
      "[neptune] [info   ] Done!\n",
      "[neptune] [info   ] Neptune initialized. Open in the app: offline/594438e2-e8b9-4ab0-a231-c7b61c01ca52\n",
      "Epoch 1/40\n",
      "72/72 [==============================] - ETA: 0s - loss: 2.5900 - accuracy: 0.5814\n",
      "Epoch 1: val_loss improved from inf to 0.72083, saving model to ./checkpoints/INI-V0-1\\FOLD-4\n",
      "INFO:tensorflow:Assets written to: ./checkpoints/INI-V0-1\\FOLD-4\\assets\n"
     ]
    },
    {
     "name": "stderr",
     "output_type": "stream",
     "text": [
      "INFO:tensorflow:Assets written to: ./checkpoints/INI-V0-1\\FOLD-4\\assets\n"
     ]
    },
    {
     "name": "stdout",
     "output_type": "stream",
     "text": [
      "72/72 [==============================] - 23s 258ms/step - loss: 2.5900 - accuracy: 0.5814 - val_loss: 0.7208 - val_accuracy: 0.4691 - lr: 0.0010\n",
      "Epoch 2/40\n",
      "72/72 [==============================] - ETA: 0s - loss: 1.0039 - accuracy: 0.5814\n",
      "Epoch 2: val_loss improved from 0.72083 to 0.71129, saving model to ./checkpoints/INI-V0-1\\FOLD-4\n",
      "INFO:tensorflow:Assets written to: ./checkpoints/INI-V0-1\\FOLD-4\\assets\n"
     ]
    },
    {
     "name": "stderr",
     "output_type": "stream",
     "text": [
      "INFO:tensorflow:Assets written to: ./checkpoints/INI-V0-1\\FOLD-4\\assets\n"
     ]
    },
    {
     "name": "stdout",
     "output_type": "stream",
     "text": [
      "72/72 [==============================] - 18s 245ms/step - loss: 1.0039 - accuracy: 0.5814 - val_loss: 0.7113 - val_accuracy: 0.4938 - lr: 0.0010\n",
      "Epoch 3/40\n",
      "72/72 [==============================] - ETA: 0s - loss: 0.7932 - accuracy: 0.6042\n",
      "Epoch 3: val_loss did not improve from 0.71129\n",
      "72/72 [==============================] - 13s 178ms/step - loss: 0.7932 - accuracy: 0.6042 - val_loss: 0.7335 - val_accuracy: 0.4815 - lr: 0.0010\n",
      "Epoch 4/40\n",
      "72/72 [==============================] - ETA: 0s - loss: 0.6714 - accuracy: 0.6567\n",
      "Epoch 4: val_loss did not improve from 0.71129\n",
      "72/72 [==============================] - 13s 180ms/step - loss: 0.6714 - accuracy: 0.6567 - val_loss: 1.0267 - val_accuracy: 0.4691 - lr: 0.0010\n",
      "Epoch 5/40\n",
      "72/72 [==============================] - ETA: 0s - loss: 0.7303 - accuracy: 0.6200\n",
      "Epoch 5: val_loss improved from 0.71129 to 0.68957, saving model to ./checkpoints/INI-V0-1\\FOLD-4\n",
      "INFO:tensorflow:Assets written to: ./checkpoints/INI-V0-1\\FOLD-4\\assets\n"
     ]
    },
    {
     "name": "stderr",
     "output_type": "stream",
     "text": [
      "INFO:tensorflow:Assets written to: ./checkpoints/INI-V0-1\\FOLD-4\\assets\n"
     ]
    },
    {
     "name": "stdout",
     "output_type": "stream",
     "text": [
      "72/72 [==============================] - 19s 262ms/step - loss: 0.7303 - accuracy: 0.6200 - val_loss: 0.6896 - val_accuracy: 0.5802 - lr: 0.0010\n",
      "Epoch 6/40\n",
      "72/72 [==============================] - ETA: 0s - loss: 0.6392 - accuracy: 0.6585\n",
      "Epoch 6: val_loss did not improve from 0.68957\n",
      "72/72 [==============================] - 13s 179ms/step - loss: 0.6392 - accuracy: 0.6585 - val_loss: 1.1044 - val_accuracy: 0.5432 - lr: 0.0010\n",
      "Epoch 7/40\n",
      "72/72 [==============================] - ETA: 0s - loss: 0.6778 - accuracy: 0.6602\n",
      "Epoch 7: val_loss did not improve from 0.68957\n",
      "72/72 [==============================] - 13s 177ms/step - loss: 0.6778 - accuracy: 0.6602 - val_loss: 0.7369 - val_accuracy: 0.5432 - lr: 0.0010\n",
      "Epoch 8/40\n",
      "72/72 [==============================] - ETA: 0s - loss: 0.6130 - accuracy: 0.6637\n",
      "Epoch 8: val_loss improved from 0.68957 to 0.59109, saving model to ./checkpoints/INI-V0-1\\FOLD-4\n",
      "INFO:tensorflow:Assets written to: ./checkpoints/INI-V0-1\\FOLD-4\\assets\n"
     ]
    },
    {
     "name": "stderr",
     "output_type": "stream",
     "text": [
      "INFO:tensorflow:Assets written to: ./checkpoints/INI-V0-1\\FOLD-4\\assets\n"
     ]
    },
    {
     "name": "stdout",
     "output_type": "stream",
     "text": [
      "72/72 [==============================] - 18s 246ms/step - loss: 0.6130 - accuracy: 0.6637 - val_loss: 0.5911 - val_accuracy: 0.6543 - lr: 0.0010\n",
      "Epoch 9/40\n",
      "72/72 [==============================] - ETA: 0s - loss: 0.5846 - accuracy: 0.6900\n",
      "Epoch 9: val_loss did not improve from 0.59109\n",
      "72/72 [==============================] - 13s 181ms/step - loss: 0.5846 - accuracy: 0.6900 - val_loss: 0.6590 - val_accuracy: 0.6049 - lr: 0.0010\n",
      "Epoch 10/40\n",
      "72/72 [==============================] - ETA: 0s - loss: 0.5906 - accuracy: 0.6918\n",
      "Epoch 10: val_loss improved from 0.59109 to 0.58495, saving model to ./checkpoints/INI-V0-1\\FOLD-4\n",
      "INFO:tensorflow:Assets written to: ./checkpoints/INI-V0-1\\FOLD-4\\assets\n"
     ]
    },
    {
     "name": "stderr",
     "output_type": "stream",
     "text": [
      "INFO:tensorflow:Assets written to: ./checkpoints/INI-V0-1\\FOLD-4\\assets\n"
     ]
    },
    {
     "name": "stdout",
     "output_type": "stream",
     "text": [
      "72/72 [==============================] - 18s 246ms/step - loss: 0.5906 - accuracy: 0.6918 - val_loss: 0.5850 - val_accuracy: 0.6790 - lr: 0.0010\n",
      "Epoch 11/40\n",
      "72/72 [==============================] - ETA: 0s - loss: 0.5830 - accuracy: 0.6900\n",
      "Epoch 11: val_loss did not improve from 0.58495\n",
      "72/72 [==============================] - 13s 178ms/step - loss: 0.5830 - accuracy: 0.6900 - val_loss: 0.6646 - val_accuracy: 0.6420 - lr: 0.0010\n",
      "Epoch 12/40\n",
      "72/72 [==============================] - ETA: 0s - loss: 0.5870 - accuracy: 0.6988\n",
      "Epoch 12: val_loss did not improve from 0.58495\n",
      "72/72 [==============================] - 13s 178ms/step - loss: 0.5870 - accuracy: 0.6988 - val_loss: 0.7313 - val_accuracy: 0.6173 - lr: 0.0010\n",
      "Epoch 13/40\n",
      "72/72 [==============================] - ETA: 0s - loss: 0.5848 - accuracy: 0.7023\n",
      "Epoch 13: val_loss did not improve from 0.58495\n",
      "72/72 [==============================] - 13s 178ms/step - loss: 0.5848 - accuracy: 0.7023 - val_loss: 0.9158 - val_accuracy: 0.5185 - lr: 0.0010\n",
      "Epoch 14/40\n",
      "72/72 [==============================] - ETA: 0s - loss: 0.5725 - accuracy: 0.7145\n",
      "Epoch 14: val_loss did not improve from 0.58495\n",
      "72/72 [==============================] - 13s 183ms/step - loss: 0.5725 - accuracy: 0.7145 - val_loss: 0.6373 - val_accuracy: 0.6420 - lr: 0.0010\n",
      "Epoch 15/40\n",
      "72/72 [==============================] - ETA: 0s - loss: 0.5865 - accuracy: 0.6813\n",
      "Epoch 15: val_loss did not improve from 0.58495\n",
      "72/72 [==============================] - 13s 179ms/step - loss: 0.5865 - accuracy: 0.6813 - val_loss: 0.7365 - val_accuracy: 0.6420 - lr: 0.0010\n",
      "Epoch 16/40\n",
      "72/72 [==============================] - ETA: 0s - loss: 0.5682 - accuracy: 0.7040\n",
      "Epoch 16: val_loss did not improve from 0.58495\n",
      "72/72 [==============================] - 13s 178ms/step - loss: 0.5682 - accuracy: 0.7040 - val_loss: 0.7569 - val_accuracy: 0.6049 - lr: 0.0010\n",
      "Epoch 17/40\n",
      "72/72 [==============================] - ETA: 0s - loss: 0.5673 - accuracy: 0.7040\n",
      "Epoch 17: val_loss did not improve from 0.58495\n",
      "72/72 [==============================] - 13s 179ms/step - loss: 0.5673 - accuracy: 0.7040 - val_loss: 0.9439 - val_accuracy: 0.5679 - lr: 0.0010\n",
      "Epoch 18/40\n",
      "72/72 [==============================] - ETA: 0s - loss: 0.5416 - accuracy: 0.7373\n",
      "Epoch 18: val_loss did not improve from 0.58495\n",
      "72/72 [==============================] - 13s 177ms/step - loss: 0.5416 - accuracy: 0.7373 - val_loss: 0.6729 - val_accuracy: 0.6173 - lr: 0.0010\n",
      "Epoch 19/40\n",
      "72/72 [==============================] - ETA: 0s - loss: 0.5485 - accuracy: 0.7338\n",
      "Epoch 19: val_loss did not improve from 0.58495\n",
      "72/72 [==============================] - 13s 181ms/step - loss: 0.5485 - accuracy: 0.7338 - val_loss: 0.6203 - val_accuracy: 0.6420 - lr: 0.0010\n",
      "Epoch 20/40\n",
      "72/72 [==============================] - ETA: 0s - loss: 0.5511 - accuracy: 0.7198\n",
      "Epoch 20: ReduceLROnPlateau reducing learning rate to 0.0006000000284984708.\n",
      "\n",
      "Epoch 20: val_loss did not improve from 0.58495\n",
      "72/72 [==============================] - 13s 179ms/step - loss: 0.5511 - accuracy: 0.7198 - val_loss: 0.8019 - val_accuracy: 0.5926 - lr: 0.0010\n",
      "Epoch 21/40\n",
      "72/72 [==============================] - ETA: 0s - loss: 0.5259 - accuracy: 0.7426\n",
      "Epoch 21: val_loss did not improve from 0.58495\n",
      "72/72 [==============================] - 13s 180ms/step - loss: 0.5259 - accuracy: 0.7426 - val_loss: 0.5967 - val_accuracy: 0.7160 - lr: 6.0000e-04\n",
      "Epoch 22/40\n",
      "72/72 [==============================] - ETA: 0s - loss: 0.5307 - accuracy: 0.7408\n",
      "Epoch 22: val_loss did not improve from 0.58495\n",
      "72/72 [==============================] - 13s 179ms/step - loss: 0.5307 - accuracy: 0.7408 - val_loss: 0.7056 - val_accuracy: 0.6173 - lr: 6.0000e-04\n",
      "Epoch 23/40\n",
      "72/72 [==============================] - ETA: 0s - loss: 0.4861 - accuracy: 0.7723\n",
      "Epoch 23: val_loss did not improve from 0.58495\n",
      "72/72 [==============================] - 13s 177ms/step - loss: 0.4861 - accuracy: 0.7723 - val_loss: 2.1277 - val_accuracy: 0.5556 - lr: 6.0000e-04\n",
      "Epoch 24/40\n",
      "72/72 [==============================] - ETA: 0s - loss: 0.5255 - accuracy: 0.7618\n",
      "Epoch 24: val_loss did not improve from 0.58495\n",
      "72/72 [==============================] - 13s 178ms/step - loss: 0.5255 - accuracy: 0.7618 - val_loss: 0.6829 - val_accuracy: 0.6049 - lr: 6.0000e-04\n",
      "Epoch 25/40\n",
      "72/72 [==============================] - ETA: 0s - loss: 0.5164 - accuracy: 0.7461\n",
      "Epoch 25: val_loss did not improve from 0.58495\n",
      "72/72 [==============================] - 13s 178ms/step - loss: 0.5164 - accuracy: 0.7461 - val_loss: 1.1518 - val_accuracy: 0.5309 - lr: 6.0000e-04\n",
      "Epoch 26/40\n",
      "72/72 [==============================] - ETA: 0s - loss: 0.5039 - accuracy: 0.7408\n",
      "Epoch 26: val_loss did not improve from 0.58495\n",
      "72/72 [==============================] - 13s 178ms/step - loss: 0.5039 - accuracy: 0.7408 - val_loss: 0.6577 - val_accuracy: 0.6296 - lr: 6.0000e-04\n",
      "Epoch 27/40\n",
      "72/72 [==============================] - ETA: 0s - loss: 0.5052 - accuracy: 0.7478\n",
      "Epoch 27: val_loss did not improve from 0.58495\n",
      "72/72 [==============================] - 13s 178ms/step - loss: 0.5052 - accuracy: 0.7478 - val_loss: 0.8272 - val_accuracy: 0.5926 - lr: 6.0000e-04\n",
      "Epoch 28/40\n",
      "72/72 [==============================] - ETA: 0s - loss: 0.4823 - accuracy: 0.7531\n",
      "Epoch 28: val_loss did not improve from 0.58495\n",
      "72/72 [==============================] - 13s 181ms/step - loss: 0.4823 - accuracy: 0.7531 - val_loss: 1.0865 - val_accuracy: 0.5926 - lr: 6.0000e-04\n",
      "Epoch 29/40\n",
      "72/72 [==============================] - ETA: 0s - loss: 0.4972 - accuracy: 0.7723\n",
      "Epoch 29: val_loss did not improve from 0.58495\n",
      "72/72 [==============================] - 13s 179ms/step - loss: 0.4972 - accuracy: 0.7723 - val_loss: 0.8585 - val_accuracy: 0.5926 - lr: 6.0000e-04\n",
      "Epoch 30/40\n",
      "72/72 [==============================] - ETA: 0s - loss: 0.4868 - accuracy: 0.7601\n",
      "Epoch 30: ReduceLROnPlateau reducing learning rate to 0.0003600000170990825.\n",
      "\n",
      "Epoch 30: val_loss did not improve from 0.58495\n",
      "72/72 [==============================] - 13s 178ms/step - loss: 0.4868 - accuracy: 0.7601 - val_loss: 0.9838 - val_accuracy: 0.4938 - lr: 6.0000e-04\n",
      "Epoch 31/40\n",
      "72/72 [==============================] - ETA: 0s - loss: 0.4613 - accuracy: 0.7776\n",
      "Epoch 31: val_loss did not improve from 0.58495\n",
      "72/72 [==============================] - 13s 178ms/step - loss: 0.4613 - accuracy: 0.7776 - val_loss: 0.9836 - val_accuracy: 0.6173 - lr: 3.6000e-04\n",
      "Epoch 32/40\n",
      "72/72 [==============================] - ETA: 0s - loss: 0.4788 - accuracy: 0.7758\n",
      "Epoch 32: val_loss did not improve from 0.58495\n",
      "72/72 [==============================] - 13s 181ms/step - loss: 0.4788 - accuracy: 0.7758 - val_loss: 0.6976 - val_accuracy: 0.6667 - lr: 3.6000e-04\n",
      "Epoch 33/40\n",
      "72/72 [==============================] - ETA: 0s - loss: 0.4886 - accuracy: 0.7653\n",
      "Epoch 33: val_loss did not improve from 0.58495\n",
      "72/72 [==============================] - 13s 179ms/step - loss: 0.4886 - accuracy: 0.7653 - val_loss: 1.1359 - val_accuracy: 0.5309 - lr: 3.6000e-04\n",
      "Epoch 34/40\n",
      "72/72 [==============================] - ETA: 0s - loss: 0.4334 - accuracy: 0.8039\n",
      "Epoch 34: val_loss did not improve from 0.58495\n",
      "72/72 [==============================] - 13s 178ms/step - loss: 0.4334 - accuracy: 0.8039 - val_loss: 0.7100 - val_accuracy: 0.6420 - lr: 3.6000e-04\n",
      "Epoch 35/40\n",
      "72/72 [==============================] - ETA: 0s - loss: 0.4531 - accuracy: 0.7793\n",
      "Epoch 35: val_loss did not improve from 0.58495\n",
      "72/72 [==============================] - 13s 178ms/step - loss: 0.4531 - accuracy: 0.7793 - val_loss: 1.6223 - val_accuracy: 0.4321 - lr: 3.6000e-04\n",
      "Epoch 36/40\n",
      "72/72 [==============================] - ETA: 0s - loss: 0.4600 - accuracy: 0.7881\n",
      "Epoch 36: val_loss did not improve from 0.58495\n",
      "72/72 [==============================] - 13s 179ms/step - loss: 0.4600 - accuracy: 0.7881 - val_loss: 1.7303 - val_accuracy: 0.5062 - lr: 3.6000e-04\n",
      "Epoch 37/40\n",
      "72/72 [==============================] - ETA: 0s - loss: 0.4582 - accuracy: 0.8056\n",
      "Epoch 37: val_loss did not improve from 0.58495\n",
      "72/72 [==============================] - 13s 178ms/step - loss: 0.4582 - accuracy: 0.8056 - val_loss: 1.0696 - val_accuracy: 0.5556 - lr: 3.6000e-04\n",
      "Epoch 38/40\n",
      "72/72 [==============================] - ETA: 0s - loss: 0.4253 - accuracy: 0.8004\n",
      "Epoch 38: val_loss did not improve from 0.58495\n",
      "72/72 [==============================] - 13s 180ms/step - loss: 0.4253 - accuracy: 0.8004 - val_loss: 2.4337 - val_accuracy: 0.4815 - lr: 3.6000e-04\n",
      "Epoch 39/40\n",
      "72/72 [==============================] - ETA: 0s - loss: 0.4795 - accuracy: 0.7776\n",
      "Epoch 39: val_loss did not improve from 0.58495\n",
      "72/72 [==============================] - 13s 179ms/step - loss: 0.4795 - accuracy: 0.7776 - val_loss: 0.8818 - val_accuracy: 0.5926 - lr: 3.6000e-04\n",
      "Epoch 40/40\n",
      "72/72 [==============================] - ETA: 0s - loss: 0.4371 - accuracy: 0.8039\n",
      "Epoch 40: ReduceLROnPlateau reducing learning rate to 0.00021600000327453016.\n",
      "\n",
      "Epoch 40: val_loss did not improve from 0.58495\n",
      "72/72 [==============================] - 13s 179ms/step - loss: 0.4371 - accuracy: 0.8039 - val_loss: 1.5954 - val_accuracy: 0.4815 - lr: 3.6000e-04\n"
     ]
    },
    {
     "data": {
      "image/png": "[encoded data removed]",
      "text/plain": [
       "<Figure size 300x200 with 1 Axes>"
      ]
     },
     "metadata": {},
     "output_type": "display_data"
    },
    {
     "data": {
      "image/png": "[encoded data removed]",
      "text/plain": [
       "<Figure size 300x200 with 1 Axes>"
      ]
     },
     "metadata": {},
     "output_type": "display_data"
    },
    {
     "name": "stdout",
     "output_type": "stream",
     "text": [
      "Fold Training Time: 0 hour(s) and 9 mins\n",
      "Precision: 71.875  -  Recall: 57.499998807907104\n",
      "Accuracy: 67.90123581886292\n",
      "F1Score: 63.8888837698643\n",
      "[neptune] [info   ] Shutting down background jobs, please wait a moment...\n",
      "[neptune] [info   ] Done!\n",
      "[neptune] [info   ] Neptune initialized. Open in the app: offline/da2f362e-04ae-422b-bafc-ffad50805037\n",
      "Epoch 1/40\n",
      "72/72 [==============================] - ETA: 0s - loss: 2.0292 - accuracy: 0.5587\n",
      "Epoch 1: val_loss improved from inf to 0.73172, saving model to ./checkpoints/INI-V0-1\\FOLD-5\n",
      "INFO:tensorflow:Assets written to: ./checkpoints/INI-V0-1\\FOLD-5\\assets\n"
     ]
    },
    {
     "name": "stderr",
     "output_type": "stream",
     "text": [
      "INFO:tensorflow:Assets written to: ./checkpoints/INI-V0-1\\FOLD-5\\assets\n"
     ]
    },
    {
     "name": "stdout",
     "output_type": "stream",
     "text": [
      "72/72 [==============================] - 22s 252ms/step - loss: 2.0292 - accuracy: 0.5587 - val_loss: 0.7317 - val_accuracy: 0.4938 - lr: 0.0010\n",
      "Epoch 2/40\n",
      "72/72 [==============================] - ETA: 0s - loss: 0.9192 - accuracy: 0.5849\n",
      "Epoch 2: val_loss did not improve from 0.73172\n",
      "72/72 [==============================] - 13s 178ms/step - loss: 0.9192 - accuracy: 0.5849 - val_loss: 1.1459 - val_accuracy: 0.4938 - lr: 0.0010\n",
      "Epoch 3/40\n",
      "72/72 [==============================] - ETA: 0s - loss: 0.7647 - accuracy: 0.6042\n",
      "Epoch 3: val_loss did not improve from 0.73172\n",
      "72/72 [==============================] - 13s 179ms/step - loss: 0.7647 - accuracy: 0.6042 - val_loss: 1.3912 - val_accuracy: 0.5062 - lr: 0.0010\n",
      "Epoch 4/40\n",
      "72/72 [==============================] - ETA: 0s - loss: 0.6634 - accuracy: 0.6497\n",
      "Epoch 4: val_loss did not improve from 0.73172\n",
      "72/72 [==============================] - 13s 182ms/step - loss: 0.6634 - accuracy: 0.6497 - val_loss: 1.6319 - val_accuracy: 0.4938 - lr: 0.0010\n",
      "Epoch 5/40\n",
      "72/72 [==============================] - ETA: 0s - loss: 0.6821 - accuracy: 0.6130\n",
      "Epoch 5: val_loss did not improve from 0.73172\n",
      "72/72 [==============================] - 13s 178ms/step - loss: 0.6821 - accuracy: 0.6130 - val_loss: 2.1457 - val_accuracy: 0.5062 - lr: 0.0010\n",
      "Epoch 6/40\n",
      "72/72 [==============================] - ETA: 0s - loss: 0.6957 - accuracy: 0.5989\n",
      "Epoch 6: val_loss did not improve from 0.73172\n",
      "72/72 [==============================] - 13s 179ms/step - loss: 0.6957 - accuracy: 0.5989 - val_loss: 1.3176 - val_accuracy: 0.5185 - lr: 0.0010\n",
      "Epoch 7/40\n",
      "72/72 [==============================] - ETA: 0s - loss: 0.6263 - accuracy: 0.6813\n",
      "Epoch 7: val_loss did not improve from 0.73172\n",
      "72/72 [==============================] - 13s 179ms/step - loss: 0.6263 - accuracy: 0.6813 - val_loss: 1.0528 - val_accuracy: 0.5432 - lr: 0.0010\n",
      "Epoch 8/40\n",
      "72/72 [==============================] - ETA: 0s - loss: 0.6172 - accuracy: 0.6690\n",
      "Epoch 8: val_loss improved from 0.73172 to 0.63889, saving model to ./checkpoints/INI-V0-1\\FOLD-5\n",
      "INFO:tensorflow:Assets written to: ./checkpoints/INI-V0-1\\FOLD-5\\assets\n"
     ]
    },
    {
     "name": "stderr",
     "output_type": "stream",
     "text": [
      "INFO:tensorflow:Assets written to: ./checkpoints/INI-V0-1\\FOLD-5\\assets\n"
     ]
    },
    {
     "name": "stdout",
     "output_type": "stream",
     "text": [
      "72/72 [==============================] - 18s 252ms/step - loss: 0.6172 - accuracy: 0.6690 - val_loss: 0.6389 - val_accuracy: 0.6049 - lr: 0.0010\n",
      "Epoch 9/40\n",
      "72/72 [==============================] - ETA: 0s - loss: 0.6190 - accuracy: 0.6690\n",
      "Epoch 9: val_loss did not improve from 0.63889\n",
      "72/72 [==============================] - 13s 181ms/step - loss: 0.6190 - accuracy: 0.6690 - val_loss: 0.6945 - val_accuracy: 0.5802 - lr: 0.0010\n",
      "Epoch 10/40\n",
      "72/72 [==============================] - ETA: 0s - loss: 0.5724 - accuracy: 0.7023\n",
      "Epoch 10: val_loss did not improve from 0.63889\n",
      "72/72 [==============================] - 13s 178ms/step - loss: 0.5724 - accuracy: 0.7023 - val_loss: 0.8709 - val_accuracy: 0.5556 - lr: 0.0010\n",
      "Epoch 11/40\n",
      "72/72 [==============================] - ETA: 0s - loss: 0.5919 - accuracy: 0.6795\n",
      "Epoch 11: val_loss did not improve from 0.63889\n",
      "72/72 [==============================] - 13s 178ms/step - loss: 0.5919 - accuracy: 0.6795 - val_loss: 0.8104 - val_accuracy: 0.6049 - lr: 0.0010\n",
      "Epoch 12/40\n",
      "72/72 [==============================] - ETA: 0s - loss: 0.5795 - accuracy: 0.7145\n",
      "Epoch 12: val_loss did not improve from 0.63889\n",
      "72/72 [==============================] - 13s 179ms/step - loss: 0.5795 - accuracy: 0.7145 - val_loss: 0.8631 - val_accuracy: 0.5802 - lr: 0.0010\n",
      "Epoch 13/40\n",
      "72/72 [==============================] - ETA: 0s - loss: 0.5720 - accuracy: 0.7075\n",
      "Epoch 13: val_loss did not improve from 0.63889\n",
      "72/72 [==============================] - 13s 181ms/step - loss: 0.5720 - accuracy: 0.7075 - val_loss: 1.1782 - val_accuracy: 0.5679 - lr: 0.0010\n",
      "Epoch 14/40\n",
      "72/72 [==============================] - ETA: 0s - loss: 0.5742 - accuracy: 0.7058\n",
      "Epoch 14: val_loss improved from 0.63889 to 0.61987, saving model to ./checkpoints/INI-V0-1\\FOLD-5\n",
      "INFO:tensorflow:Assets written to: ./checkpoints/INI-V0-1\\FOLD-5\\assets\n"
     ]
    },
    {
     "name": "stderr",
     "output_type": "stream",
     "text": [
      "INFO:tensorflow:Assets written to: ./checkpoints/INI-V0-1\\FOLD-5\\assets\n"
     ]
    },
    {
     "name": "stdout",
     "output_type": "stream",
     "text": [
      "72/72 [==============================] - 20s 280ms/step - loss: 0.5742 - accuracy: 0.7058 - val_loss: 0.6199 - val_accuracy: 0.6173 - lr: 0.0010\n",
      "Epoch 15/40\n",
      "72/72 [==============================] - ETA: 0s - loss: 0.5946 - accuracy: 0.6795\n",
      "Epoch 15: val_loss did not improve from 0.61987\n",
      "72/72 [==============================] - 13s 179ms/step - loss: 0.5946 - accuracy: 0.6795 - val_loss: 0.6640 - val_accuracy: 0.6173 - lr: 0.0010\n",
      "Epoch 16/40\n",
      "72/72 [==============================] - ETA: 0s - loss: 0.5594 - accuracy: 0.7075\n",
      "Epoch 16: val_loss did not improve from 0.61987\n",
      "72/72 [==============================] - 13s 180ms/step - loss: 0.5594 - accuracy: 0.7075 - val_loss: 0.7870 - val_accuracy: 0.5556 - lr: 0.0010\n",
      "Epoch 17/40\n",
      "72/72 [==============================] - ETA: 0s - loss: 0.5654 - accuracy: 0.7005\n",
      "Epoch 17: val_loss did not improve from 0.61987\n",
      "72/72 [==============================] - 13s 181ms/step - loss: 0.5654 - accuracy: 0.7005 - val_loss: 0.8903 - val_accuracy: 0.5802 - lr: 0.0010\n",
      "Epoch 18/40\n",
      "72/72 [==============================] - ETA: 0s - loss: 0.5625 - accuracy: 0.7040\n",
      "Epoch 18: val_loss did not improve from 0.61987\n",
      "72/72 [==============================] - 13s 179ms/step - loss: 0.5625 - accuracy: 0.7040 - val_loss: 0.7968 - val_accuracy: 0.5679 - lr: 0.0010\n",
      "Epoch 19/40\n",
      "72/72 [==============================] - ETA: 0s - loss: 0.5670 - accuracy: 0.7058\n",
      "Epoch 19: val_loss did not improve from 0.61987\n",
      "72/72 [==============================] - 13s 179ms/step - loss: 0.5670 - accuracy: 0.7058 - val_loss: 0.8320 - val_accuracy: 0.6049 - lr: 0.0010\n",
      "Epoch 20/40\n",
      "72/72 [==============================] - ETA: 0s - loss: 0.6007 - accuracy: 0.6830\n",
      "Epoch 20: val_loss did not improve from 0.61987\n",
      "72/72 [==============================] - 13s 179ms/step - loss: 0.6007 - accuracy: 0.6830 - val_loss: 1.0173 - val_accuracy: 0.6173 - lr: 0.0010\n",
      "Epoch 21/40\n",
      "72/72 [==============================] - ETA: 0s - loss: 0.5444 - accuracy: 0.7250\n",
      "Epoch 21: val_loss did not improve from 0.61987\n",
      "72/72 [==============================] - 13s 179ms/step - loss: 0.5444 - accuracy: 0.7250 - val_loss: 0.7539 - val_accuracy: 0.6543 - lr: 0.0010\n",
      "Epoch 22/40\n",
      "72/72 [==============================] - ETA: 0s - loss: 0.5990 - accuracy: 0.7058\n",
      "Epoch 22: val_loss did not improve from 0.61987\n",
      "72/72 [==============================] - 13s 179ms/step - loss: 0.5990 - accuracy: 0.7058 - val_loss: 1.2801 - val_accuracy: 0.5556 - lr: 0.0010\n",
      "Epoch 23/40\n",
      "72/72 [==============================] - ETA: 0s - loss: 0.5694 - accuracy: 0.7093\n",
      "Epoch 23: val_loss improved from 0.61987 to 0.61137, saving model to ./checkpoints/INI-V0-1\\FOLD-5\n",
      "INFO:tensorflow:Assets written to: ./checkpoints/INI-V0-1\\FOLD-5\\assets\n"
     ]
    },
    {
     "name": "stderr",
     "output_type": "stream",
     "text": [
      "INFO:tensorflow:Assets written to: ./checkpoints/INI-V0-1\\FOLD-5\\assets\n"
     ]
    },
    {
     "name": "stdout",
     "output_type": "stream",
     "text": [
      "72/72 [==============================] - 18s 249ms/step - loss: 0.5694 - accuracy: 0.7093 - val_loss: 0.6114 - val_accuracy: 0.6667 - lr: 0.0010\n",
      "Epoch 24/40\n",
      "72/72 [==============================] - ETA: 0s - loss: 0.5538 - accuracy: 0.7285\n",
      "Epoch 24: val_loss did not improve from 0.61137\n",
      "72/72 [==============================] - 13s 181ms/step - loss: 0.5538 - accuracy: 0.7285 - val_loss: 0.7286 - val_accuracy: 0.6173 - lr: 0.0010\n",
      "Epoch 25/40\n",
      "72/72 [==============================] - ETA: 0s - loss: 0.5556 - accuracy: 0.7093\n",
      "Epoch 25: val_loss did not improve from 0.61137\n",
      "72/72 [==============================] - 13s 179ms/step - loss: 0.5556 - accuracy: 0.7093 - val_loss: 0.6578 - val_accuracy: 0.6420 - lr: 0.0010\n",
      "Epoch 26/40\n",
      "72/72 [==============================] - ETA: 0s - loss: 0.5390 - accuracy: 0.7198\n",
      "Epoch 26: val_loss did not improve from 0.61137\n",
      "72/72 [==============================] - 13s 178ms/step - loss: 0.5390 - accuracy: 0.7198 - val_loss: 0.6864 - val_accuracy: 0.6420 - lr: 0.0010\n",
      "Epoch 27/40\n",
      "72/72 [==============================] - ETA: 0s - loss: 0.5173 - accuracy: 0.7548\n",
      "Epoch 27: val_loss did not improve from 0.61137\n",
      "72/72 [==============================] - 13s 180ms/step - loss: 0.5173 - accuracy: 0.7548 - val_loss: 0.6739 - val_accuracy: 0.6173 - lr: 0.0010\n",
      "Epoch 28/40\n",
      "72/72 [==============================] - ETA: 0s - loss: 0.5521 - accuracy: 0.7461\n",
      "Epoch 28: val_loss did not improve from 0.61137\n",
      "72/72 [==============================] - 13s 182ms/step - loss: 0.5521 - accuracy: 0.7461 - val_loss: 0.6391 - val_accuracy: 0.5679 - lr: 0.0010\n",
      "Epoch 29/40\n",
      "72/72 [==============================] - ETA: 0s - loss: 0.5339 - accuracy: 0.7426\n",
      "Epoch 29: val_loss did not improve from 0.61137\n",
      "72/72 [==============================] - 13s 180ms/step - loss: 0.5339 - accuracy: 0.7426 - val_loss: 1.1588 - val_accuracy: 0.5432 - lr: 0.0010\n",
      "Epoch 30/40\n",
      "72/72 [==============================] - ETA: 0s - loss: 0.5224 - accuracy: 0.7356\n",
      "Epoch 30: val_loss did not improve from 0.61137\n",
      "72/72 [==============================] - 13s 185ms/step - loss: 0.5224 - accuracy: 0.7356 - val_loss: 1.1338 - val_accuracy: 0.5926 - lr: 0.0010\n",
      "Epoch 31/40\n",
      "72/72 [==============================] - ETA: 0s - loss: 0.5233 - accuracy: 0.7548\n",
      "Epoch 31: val_loss did not improve from 0.61137\n",
      "72/72 [==============================] - 13s 183ms/step - loss: 0.5233 - accuracy: 0.7548 - val_loss: 0.6167 - val_accuracy: 0.6173 - lr: 0.0010\n",
      "Epoch 32/40\n",
      "72/72 [==============================] - ETA: 0s - loss: 0.4959 - accuracy: 0.7478\n",
      "Epoch 32: val_loss improved from 0.61137 to 0.59755, saving model to ./checkpoints/INI-V0-1\\FOLD-5\n",
      "INFO:tensorflow:Assets written to: ./checkpoints/INI-V0-1\\FOLD-5\\assets\n"
     ]
    },
    {
     "name": "stderr",
     "output_type": "stream",
     "text": [
      "INFO:tensorflow:Assets written to: ./checkpoints/INI-V0-1\\FOLD-5\\assets\n"
     ]
    },
    {
     "name": "stdout",
     "output_type": "stream",
     "text": [
      "72/72 [==============================] - 18s 247ms/step - loss: 0.4959 - accuracy: 0.7478 - val_loss: 0.5975 - val_accuracy: 0.6667 - lr: 0.0010\n",
      "Epoch 33/40\n",
      "72/72 [==============================] - ETA: 0s - loss: 0.5210 - accuracy: 0.7426\n",
      "Epoch 33: val_loss did not improve from 0.59755\n",
      "72/72 [==============================] - 13s 181ms/step - loss: 0.5210 - accuracy: 0.7426 - val_loss: 0.7411 - val_accuracy: 0.6420 - lr: 0.0010\n",
      "Epoch 34/40\n",
      "72/72 [==============================] - ETA: 0s - loss: 0.5131 - accuracy: 0.7601\n",
      "Epoch 34: val_loss did not improve from 0.59755\n",
      "72/72 [==============================] - 13s 179ms/step - loss: 0.5131 - accuracy: 0.7601 - val_loss: 1.1263 - val_accuracy: 0.5556 - lr: 0.0010\n",
      "Epoch 35/40\n",
      "72/72 [==============================] - ETA: 0s - loss: 0.4898 - accuracy: 0.7723\n",
      "Epoch 35: val_loss did not improve from 0.59755\n",
      "72/72 [==============================] - 13s 180ms/step - loss: 0.4898 - accuracy: 0.7723 - val_loss: 0.6864 - val_accuracy: 0.6543 - lr: 0.0010\n",
      "Epoch 36/40\n",
      "72/72 [==============================] - ETA: 0s - loss: 0.4966 - accuracy: 0.7653\n",
      "Epoch 36: val_loss did not improve from 0.59755\n",
      "72/72 [==============================] - 13s 181ms/step - loss: 0.4966 - accuracy: 0.7653 - val_loss: 0.9778 - val_accuracy: 0.5926 - lr: 0.0010\n",
      "Epoch 37/40\n",
      "72/72 [==============================] - ETA: 0s - loss: 0.4853 - accuracy: 0.7723\n",
      "Epoch 37: val_loss did not improve from 0.59755\n",
      "72/72 [==============================] - 13s 180ms/step - loss: 0.4853 - accuracy: 0.7723 - val_loss: 0.6268 - val_accuracy: 0.6420 - lr: 0.0010\n",
      "Epoch 38/40\n",
      "72/72 [==============================] - ETA: 0s - loss: 0.4971 - accuracy: 0.7688\n",
      "Epoch 38: val_loss did not improve from 0.59755\n",
      "72/72 [==============================] - 13s 183ms/step - loss: 0.4971 - accuracy: 0.7688 - val_loss: 1.7486 - val_accuracy: 0.6420 - lr: 0.0010\n",
      "Epoch 39/40\n",
      "72/72 [==============================] - ETA: 0s - loss: 0.4867 - accuracy: 0.7811\n",
      "Epoch 39: val_loss did not improve from 0.59755\n",
      "72/72 [==============================] - 13s 180ms/step - loss: 0.4867 - accuracy: 0.7811 - val_loss: 0.6925 - val_accuracy: 0.6543 - lr: 0.0010\n",
      "Epoch 40/40\n",
      "72/72 [==============================] - ETA: 0s - loss: 0.4444 - accuracy: 0.7898\n",
      "Epoch 40: val_loss did not improve from 0.59755\n",
      "72/72 [==============================] - 13s 183ms/step - loss: 0.4444 - accuracy: 0.7898 - val_loss: 0.8243 - val_accuracy: 0.6790 - lr: 0.0010\n"
     ]
    },
    {
     "data": {
      "image/png": "[encoded data removed]",
      "text/plain": [
       "<Figure size 300x200 with 1 Axes>"
      ]
     },
     "metadata": {},
     "output_type": "display_data"
    },
    {
     "data": {
      "image/png": "[encoded data removed]",
      "text/plain": [
       "<Figure size 300x200 with 1 Axes>"
      ]
     },
     "metadata": {},
     "output_type": "display_data"
    },
    {
     "name": "stdout",
     "output_type": "stream",
     "text": [
      "Fold Training Time: 0 hour(s) and 9 mins\n",
      "Precision: 62.745100259780884  -  Recall: 80.0000011920929\n",
      "Accuracy: 66.66666865348816\n",
      "F1Score: 70.32967280749891\n",
      "[neptune] [info   ] Shutting down background jobs, please wait a moment...\n",
      "[neptune] [info   ] Done!\n",
      "[neptune] [info   ] Neptune initialized. Open in the app: offline/184ecaf7-f0fc-4fb5-92bb-34d610072fd2\n",
      "Epoch 1/40\n",
      "72/72 [==============================] - ETA: 0s - loss: 2.9660 - accuracy: 0.5429\n",
      "Epoch 1: val_loss improved from inf to 0.73905, saving model to ./checkpoints/INI-V0-1\\FOLD-6\n",
      "INFO:tensorflow:Assets written to: ./checkpoints/INI-V0-1\\FOLD-6\\assets\n"
     ]
    },
    {
     "name": "stderr",
     "output_type": "stream",
     "text": [
      "INFO:tensorflow:Assets written to: ./checkpoints/INI-V0-1\\FOLD-6\\assets\n"
     ]
    },
    {
     "name": "stdout",
     "output_type": "stream",
     "text": [
      "72/72 [==============================] - 22s 254ms/step - loss: 2.9660 - accuracy: 0.5429 - val_loss: 0.7390 - val_accuracy: 0.5062 - lr: 0.0010\n",
      "Epoch 2/40\n",
      "72/72 [==============================] - ETA: 0s - loss: 0.9904 - accuracy: 0.5692\n",
      "Epoch 2: val_loss did not improve from 0.73905\n",
      "72/72 [==============================] - 13s 180ms/step - loss: 0.9904 - accuracy: 0.5692 - val_loss: 1.1128 - val_accuracy: 0.5062 - lr: 0.0010\n",
      "Epoch 3/40\n",
      "72/72 [==============================] - ETA: 0s - loss: 0.8819 - accuracy: 0.5832\n",
      "Epoch 3: val_loss did not improve from 0.73905\n",
      "72/72 [==============================] - 13s 180ms/step - loss: 0.8819 - accuracy: 0.5832 - val_loss: 0.8430 - val_accuracy: 0.5926 - lr: 0.0010\n",
      "Epoch 4/40\n",
      "72/72 [==============================] - ETA: 0s - loss: 0.7523 - accuracy: 0.5954\n",
      "Epoch 4: val_loss improved from 0.73905 to 0.68005, saving model to ./checkpoints/INI-V0-1\\FOLD-6\n",
      "INFO:tensorflow:Assets written to: ./checkpoints/INI-V0-1\\FOLD-6\\assets\n"
     ]
    },
    {
     "name": "stderr",
     "output_type": "stream",
     "text": [
      "INFO:tensorflow:Assets written to: ./checkpoints/INI-V0-1\\FOLD-6\\assets\n"
     ]
    },
    {
     "name": "stdout",
     "output_type": "stream",
     "text": [
      "72/72 [==============================] - 18s 254ms/step - loss: 0.7523 - accuracy: 0.5954 - val_loss: 0.6800 - val_accuracy: 0.5802 - lr: 0.0010\n",
      "Epoch 5/40\n",
      "72/72 [==============================] - ETA: 0s - loss: 0.8379 - accuracy: 0.6060\n",
      "Epoch 5: val_loss did not improve from 0.68005\n",
      "72/72 [==============================] - 15s 209ms/step - loss: 0.8379 - accuracy: 0.6060 - val_loss: 0.7403 - val_accuracy: 0.6049 - lr: 0.0010\n",
      "Epoch 6/40\n",
      "72/72 [==============================] - ETA: 0s - loss: 0.6833 - accuracy: 0.6060\n",
      "Epoch 6: val_loss did not improve from 0.68005\n",
      "72/72 [==============================] - 16s 228ms/step - loss: 0.6833 - accuracy: 0.6060 - val_loss: 0.7824 - val_accuracy: 0.5802 - lr: 0.0010\n",
      "Epoch 7/40\n",
      "72/72 [==============================] - ETA: 0s - loss: 0.6603 - accuracy: 0.6165\n",
      "Epoch 7: val_loss improved from 0.68005 to 0.59129, saving model to ./checkpoints/INI-V0-1\\FOLD-6\n",
      "INFO:tensorflow:Assets written to: ./checkpoints/INI-V0-1\\FOLD-6\\assets\n"
     ]
    },
    {
     "name": "stderr",
     "output_type": "stream",
     "text": [
      "INFO:tensorflow:Assets written to: ./checkpoints/INI-V0-1\\FOLD-6\\assets\n"
     ]
    },
    {
     "name": "stdout",
     "output_type": "stream",
     "text": [
      "72/72 [==============================] - 25s 354ms/step - loss: 0.6603 - accuracy: 0.6165 - val_loss: 0.5913 - val_accuracy: 0.7407 - lr: 0.0010\n",
      "Epoch 8/40\n",
      "72/72 [==============================] - ETA: 0s - loss: 0.5991 - accuracy: 0.6760\n",
      "Epoch 8: val_loss did not improve from 0.59129\n",
      "72/72 [==============================] - 15s 204ms/step - loss: 0.5991 - accuracy: 0.6760 - val_loss: 0.6349 - val_accuracy: 0.6543 - lr: 0.0010\n",
      "Epoch 9/40\n",
      "72/72 [==============================] - ETA: 0s - loss: 0.6365 - accuracy: 0.6760\n",
      "Epoch 9: val_loss did not improve from 0.59129\n",
      "72/72 [==============================] - 18s 247ms/step - loss: 0.6365 - accuracy: 0.6760 - val_loss: 0.6070 - val_accuracy: 0.6914 - lr: 0.0010\n",
      "Epoch 10/40\n",
      "72/72 [==============================] - ETA: 0s - loss: 0.6290 - accuracy: 0.6515\n",
      "Epoch 10: val_loss improved from 0.59129 to 0.58877, saving model to ./checkpoints/INI-V0-1\\FOLD-6\n",
      "INFO:tensorflow:Assets written to: ./checkpoints/INI-V0-1\\FOLD-6\\assets\n"
     ]
    },
    {
     "name": "stderr",
     "output_type": "stream",
     "text": [
      "INFO:tensorflow:Assets written to: ./checkpoints/INI-V0-1\\FOLD-6\\assets\n"
     ]
    },
    {
     "name": "stdout",
     "output_type": "stream",
     "text": [
      "72/72 [==============================] - 23s 327ms/step - loss: 0.6290 - accuracy: 0.6515 - val_loss: 0.5888 - val_accuracy: 0.6914 - lr: 0.0010\n",
      "Epoch 11/40\n",
      "72/72 [==============================] - ETA: 0s - loss: 0.6019 - accuracy: 0.6585\n",
      "Epoch 11: val_loss did not improve from 0.58877\n",
      "72/72 [==============================] - 14s 196ms/step - loss: 0.6019 - accuracy: 0.6585 - val_loss: 0.7640 - val_accuracy: 0.5679 - lr: 0.0010\n",
      "Epoch 12/40\n",
      "72/72 [==============================] - ETA: 0s - loss: 0.6465 - accuracy: 0.6427\n",
      "Epoch 12: val_loss did not improve from 0.58877\n",
      "72/72 [==============================] - 14s 195ms/step - loss: 0.6465 - accuracy: 0.6427 - val_loss: 0.6627 - val_accuracy: 0.6296 - lr: 0.0010\n",
      "Epoch 13/40\n",
      "72/72 [==============================] - ETA: 0s - loss: 0.6134 - accuracy: 0.6567\n",
      "Epoch 13: val_loss did not improve from 0.58877\n",
      "72/72 [==============================] - 15s 208ms/step - loss: 0.6134 - accuracy: 0.6567 - val_loss: 0.6977 - val_accuracy: 0.6667 - lr: 0.0010\n",
      "Epoch 14/40\n",
      "72/72 [==============================] - ETA: 0s - loss: 0.6333 - accuracy: 0.6270\n",
      "Epoch 14: val_loss did not improve from 0.58877\n",
      "72/72 [==============================] - 17s 233ms/step - loss: 0.6333 - accuracy: 0.6270 - val_loss: 0.6297 - val_accuracy: 0.6296 - lr: 0.0010\n",
      "Epoch 15/40\n",
      "72/72 [==============================] - ETA: 0s - loss: 0.6412 - accuracy: 0.6375\n",
      "Epoch 15: val_loss improved from 0.58877 to 0.55942, saving model to ./checkpoints/INI-V0-1\\FOLD-6\n",
      "INFO:tensorflow:Assets written to: ./checkpoints/INI-V0-1\\FOLD-6\\assets\n"
     ]
    },
    {
     "name": "stderr",
     "output_type": "stream",
     "text": [
      "INFO:tensorflow:Assets written to: ./checkpoints/INI-V0-1\\FOLD-6\\assets\n"
     ]
    },
    {
     "name": "stdout",
     "output_type": "stream",
     "text": [
      "72/72 [==============================] - 20s 278ms/step - loss: 0.6412 - accuracy: 0.6375 - val_loss: 0.5594 - val_accuracy: 0.7284 - lr: 0.0010\n",
      "Epoch 16/40\n",
      "72/72 [==============================] - ETA: 0s - loss: 0.5903 - accuracy: 0.6830\n",
      "Epoch 16: val_loss did not improve from 0.55942\n",
      "72/72 [==============================] - 14s 196ms/step - loss: 0.5903 - accuracy: 0.6830 - val_loss: 0.6222 - val_accuracy: 0.6914 - lr: 0.0010\n",
      "Epoch 17/40\n",
      "72/72 [==============================] - ETA: 0s - loss: 0.5976 - accuracy: 0.6708\n",
      "Epoch 17: val_loss did not improve from 0.55942\n",
      "72/72 [==============================] - 14s 196ms/step - loss: 0.5976 - accuracy: 0.6708 - val_loss: 0.6811 - val_accuracy: 0.5432 - lr: 0.0010\n",
      "Epoch 18/40\n",
      "72/72 [==============================] - ETA: 0s - loss: 0.5922 - accuracy: 0.6725\n",
      "Epoch 18: val_loss did not improve from 0.55942\n",
      "72/72 [==============================] - 14s 198ms/step - loss: 0.5922 - accuracy: 0.6725 - val_loss: 0.5774 - val_accuracy: 0.7531 - lr: 0.0010\n",
      "Epoch 19/40\n",
      "72/72 [==============================] - ETA: 0s - loss: 0.5806 - accuracy: 0.7005\n",
      "Epoch 19: val_loss did not improve from 0.55942\n",
      "72/72 [==============================] - 14s 197ms/step - loss: 0.5806 - accuracy: 0.7005 - val_loss: 0.7663 - val_accuracy: 0.7037 - lr: 0.0010\n",
      "Epoch 20/40\n",
      "72/72 [==============================] - ETA: 0s - loss: 0.5785 - accuracy: 0.6900\n",
      "Epoch 20: val_loss did not improve from 0.55942\n",
      "72/72 [==============================] - 14s 198ms/step - loss: 0.5785 - accuracy: 0.6900 - val_loss: 0.8750 - val_accuracy: 0.6173 - lr: 0.0010\n",
      "Epoch 21/40\n",
      "72/72 [==============================] - ETA: 0s - loss: 0.5978 - accuracy: 0.6743\n",
      "Epoch 21: val_loss did not improve from 0.55942\n",
      "72/72 [==============================] - 14s 195ms/step - loss: 0.5978 - accuracy: 0.6743 - val_loss: 0.6047 - val_accuracy: 0.7160 - lr: 0.0010\n",
      "Epoch 22/40\n",
      "72/72 [==============================] - ETA: 0s - loss: 0.5870 - accuracy: 0.6935\n",
      "Epoch 22: val_loss did not improve from 0.55942\n",
      "72/72 [==============================] - 15s 209ms/step - loss: 0.5870 - accuracy: 0.6935 - val_loss: 0.8739 - val_accuracy: 0.5679 - lr: 0.0010\n",
      "Epoch 23/40\n",
      "72/72 [==============================] - ETA: 0s - loss: 0.5673 - accuracy: 0.7110\n",
      "Epoch 23: val_loss did not improve from 0.55942\n",
      "72/72 [==============================] - 14s 199ms/step - loss: 0.5673 - accuracy: 0.7110 - val_loss: 0.7048 - val_accuracy: 0.7284 - lr: 0.0010\n",
      "Epoch 24/40\n",
      "72/72 [==============================] - ETA: 0s - loss: 0.5598 - accuracy: 0.7215\n",
      "Epoch 24: val_loss did not improve from 0.55942\n",
      "72/72 [==============================] - 14s 194ms/step - loss: 0.5598 - accuracy: 0.7215 - val_loss: 0.6353 - val_accuracy: 0.7284 - lr: 0.0010\n",
      "Epoch 25/40\n",
      "72/72 [==============================] - ETA: 0s - loss: 0.5834 - accuracy: 0.7058\n",
      "Epoch 25: ReduceLROnPlateau reducing learning rate to 0.0006000000284984708.\n",
      "\n",
      "Epoch 25: val_loss did not improve from 0.55942\n",
      "72/72 [==============================] - 14s 194ms/step - loss: 0.5834 - accuracy: 0.7058 - val_loss: 0.7069 - val_accuracy: 0.6420 - lr: 0.0010\n",
      "Epoch 26/40\n",
      "72/72 [==============================] - ETA: 0s - loss: 0.5501 - accuracy: 0.7145\n",
      "Epoch 26: val_loss did not improve from 0.55942\n",
      "72/72 [==============================] - 14s 195ms/step - loss: 0.5501 - accuracy: 0.7145 - val_loss: 0.8658 - val_accuracy: 0.6296 - lr: 6.0000e-04\n",
      "Epoch 27/40\n",
      "72/72 [==============================] - ETA: 0s - loss: 0.5511 - accuracy: 0.7093\n",
      "Epoch 27: val_loss did not improve from 0.55942\n",
      "72/72 [==============================] - 14s 195ms/step - loss: 0.5511 - accuracy: 0.7093 - val_loss: 0.7263 - val_accuracy: 0.7284 - lr: 6.0000e-04\n",
      "Epoch 28/40\n",
      "72/72 [==============================] - ETA: 0s - loss: 0.5556 - accuracy: 0.7145\n",
      "Epoch 28: val_loss did not improve from 0.55942\n",
      "72/72 [==============================] - 14s 196ms/step - loss: 0.5556 - accuracy: 0.7145 - val_loss: 0.6671 - val_accuracy: 0.7284 - lr: 6.0000e-04\n",
      "Epoch 29/40\n",
      "72/72 [==============================] - ETA: 0s - loss: 0.5410 - accuracy: 0.7320\n",
      "Epoch 29: val_loss did not improve from 0.55942\n",
      "72/72 [==============================] - 14s 196ms/step - loss: 0.5410 - accuracy: 0.7320 - val_loss: 0.5887 - val_accuracy: 0.6914 - lr: 6.0000e-04\n",
      "Epoch 30/40\n",
      "72/72 [==============================] - ETA: 0s - loss: 0.5345 - accuracy: 0.7320\n",
      "Epoch 30: val_loss did not improve from 0.55942\n",
      "72/72 [==============================] - 16s 229ms/step - loss: 0.5345 - accuracy: 0.7320 - val_loss: 0.6487 - val_accuracy: 0.7284 - lr: 6.0000e-04\n",
      "Epoch 31/40\n",
      "72/72 [==============================] - ETA: 0s - loss: 0.5240 - accuracy: 0.7461\n",
      "Epoch 31: val_loss did not improve from 0.55942\n",
      "72/72 [==============================] - 14s 197ms/step - loss: 0.5240 - accuracy: 0.7461 - val_loss: 0.7269 - val_accuracy: 0.6790 - lr: 6.0000e-04\n",
      "Epoch 32/40\n",
      "72/72 [==============================] - ETA: 0s - loss: 0.5329 - accuracy: 0.7338\n",
      "Epoch 32: val_loss improved from 0.55942 to 0.55306, saving model to ./checkpoints/INI-V0-1\\FOLD-6\n",
      "INFO:tensorflow:Assets written to: ./checkpoints/INI-V0-1\\FOLD-6\\assets\n"
     ]
    },
    {
     "name": "stderr",
     "output_type": "stream",
     "text": [
      "INFO:tensorflow:Assets written to: ./checkpoints/INI-V0-1\\FOLD-6\\assets\n"
     ]
    },
    {
     "name": "stdout",
     "output_type": "stream",
     "text": [
      "72/72 [==============================] - 20s 274ms/step - loss: 0.5329 - accuracy: 0.7338 - val_loss: 0.5531 - val_accuracy: 0.7531 - lr: 6.0000e-04\n",
      "Epoch 33/40\n",
      "72/72 [==============================] - ETA: 0s - loss: 0.5672 - accuracy: 0.7163\n",
      "Epoch 33: val_loss did not improve from 0.55306\n",
      "72/72 [==============================] - 14s 195ms/step - loss: 0.5672 - accuracy: 0.7163 - val_loss: 0.5928 - val_accuracy: 0.7284 - lr: 6.0000e-04\n",
      "Epoch 34/40\n",
      "72/72 [==============================] - ETA: 0s - loss: 0.5249 - accuracy: 0.7303\n",
      "Epoch 34: val_loss did not improve from 0.55306\n",
      "72/72 [==============================] - 14s 196ms/step - loss: 0.5249 - accuracy: 0.7303 - val_loss: 0.5807 - val_accuracy: 0.7284 - lr: 6.0000e-04\n",
      "Epoch 35/40\n",
      "72/72 [==============================] - ETA: 0s - loss: 0.5258 - accuracy: 0.7356\n",
      "Epoch 35: val_loss did not improve from 0.55306\n",
      "72/72 [==============================] - 14s 198ms/step - loss: 0.5258 - accuracy: 0.7356 - val_loss: 0.6439 - val_accuracy: 0.7407 - lr: 6.0000e-04\n",
      "Epoch 36/40\n",
      "72/72 [==============================] - ETA: 0s - loss: 0.5325 - accuracy: 0.7320\n",
      "Epoch 36: val_loss did not improve from 0.55306\n",
      "72/72 [==============================] - 14s 195ms/step - loss: 0.5325 - accuracy: 0.7320 - val_loss: 0.5784 - val_accuracy: 0.7407 - lr: 6.0000e-04\n",
      "Epoch 37/40\n",
      "72/72 [==============================] - ETA: 0s - loss: 0.5054 - accuracy: 0.7706\n",
      "Epoch 37: val_loss did not improve from 0.55306\n",
      "72/72 [==============================] - 14s 193ms/step - loss: 0.5054 - accuracy: 0.7706 - val_loss: 0.6733 - val_accuracy: 0.7037 - lr: 6.0000e-04\n",
      "Epoch 38/40\n",
      "72/72 [==============================] - ETA: 0s - loss: 0.5092 - accuracy: 0.7408\n",
      "Epoch 38: val_loss did not improve from 0.55306\n",
      "72/72 [==============================] - 14s 194ms/step - loss: 0.5092 - accuracy: 0.7408 - val_loss: 0.5978 - val_accuracy: 0.7284 - lr: 6.0000e-04\n",
      "Epoch 39/40\n",
      "72/72 [==============================] - ETA: 0s - loss: 0.5186 - accuracy: 0.7496\n",
      "Epoch 39: val_loss did not improve from 0.55306\n",
      "72/72 [==============================] - 14s 196ms/step - loss: 0.5186 - accuracy: 0.7496 - val_loss: 0.6145 - val_accuracy: 0.7160 - lr: 6.0000e-04\n",
      "Epoch 40/40\n",
      "72/72 [==============================] - ETA: 0s - loss: 0.5169 - accuracy: 0.7356\n",
      "Epoch 40: val_loss did not improve from 0.55306\n",
      "72/72 [==============================] - 16s 224ms/step - loss: 0.5169 - accuracy: 0.7356 - val_loss: 0.6819 - val_accuracy: 0.7407 - lr: 6.0000e-04\n"
     ]
    },
    {
     "data": {
      "image/png": "[encoded data removed]",
      "text/plain": [
       "<Figure size 300x200 with 1 Axes>"
      ]
     },
     "metadata": {},
     "output_type": "display_data"
    },
    {
     "data": {
      "image/png": "[encoded data removed]",
      "text/plain": [
       "<Figure size 300x200 with 1 Axes>"
      ]
     },
     "metadata": {},
     "output_type": "display_data"
    },
    {
     "name": "stdout",
     "output_type": "stream",
     "text": [
      "Fold Training Time: 0 hour(s) and 10 mins\n",
      "Precision: 75.60975551605225  -  Recall: 75.60975551605225\n",
      "Accuracy: 75.30864477157593\n",
      "F1Score: 75.60975725119927\n",
      "[neptune] [info   ] Shutting down background jobs, please wait a moment...\n",
      "[neptune] [info   ] Done!\n",
      "[neptune] [info   ] Neptune initialized. Open in the app: offline/9428eb3c-c41d-4682-8e5a-a4ffcdcff0c6\n",
      "Epoch 1/40\n",
      "72/72 [==============================] - ETA: 0s - loss: 2.3495 - accuracy: 0.5657\n",
      "Epoch 1: val_loss improved from inf to 0.76394, saving model to ./checkpoints/INI-V0-1\\FOLD-7\n",
      "INFO:tensorflow:Assets written to: ./checkpoints/INI-V0-1\\FOLD-7\\assets\n"
     ]
    },
    {
     "name": "stderr",
     "output_type": "stream",
     "text": [
      "INFO:tensorflow:Assets written to: ./checkpoints/INI-V0-1\\FOLD-7\\assets\n"
     ]
    },
    {
     "name": "stdout",
     "output_type": "stream",
     "text": [
      "72/72 [==============================] - 26s 296ms/step - loss: 2.3495 - accuracy: 0.5657 - val_loss: 0.7639 - val_accuracy: 0.4198 - lr: 0.0010\n",
      "Epoch 2/40\n",
      "72/72 [==============================] - ETA: 0s - loss: 1.1422 - accuracy: 0.5709\n",
      "Epoch 2: val_loss improved from 0.76394 to 0.71395, saving model to ./checkpoints/INI-V0-1\\FOLD-7\n",
      "INFO:tensorflow:Assets written to: ./checkpoints/INI-V0-1\\FOLD-7\\assets\n"
     ]
    },
    {
     "name": "stderr",
     "output_type": "stream",
     "text": [
      "INFO:tensorflow:Assets written to: ./checkpoints/INI-V0-1\\FOLD-7\\assets\n"
     ]
    },
    {
     "name": "stdout",
     "output_type": "stream",
     "text": [
      "72/72 [==============================] - 23s 316ms/step - loss: 1.1422 - accuracy: 0.5709 - val_loss: 0.7140 - val_accuracy: 0.5556 - lr: 0.0010\n",
      "Epoch 3/40\n",
      "72/72 [==============================] - ETA: 0s - loss: 0.9273 - accuracy: 0.5762\n",
      "Epoch 3: val_loss improved from 0.71395 to 0.65432, saving model to ./checkpoints/INI-V0-1\\FOLD-7\n",
      "INFO:tensorflow:Assets written to: ./checkpoints/INI-V0-1\\FOLD-7\\assets\n"
     ]
    },
    {
     "name": "stderr",
     "output_type": "stream",
     "text": [
      "INFO:tensorflow:Assets written to: ./checkpoints/INI-V0-1\\FOLD-7\\assets\n"
     ]
    },
    {
     "name": "stdout",
     "output_type": "stream",
     "text": [
      "72/72 [==============================] - 19s 261ms/step - loss: 0.9273 - accuracy: 0.5762 - val_loss: 0.6543 - val_accuracy: 0.5802 - lr: 0.0010\n",
      "Epoch 4/40\n",
      "72/72 [==============================] - ETA: 0s - loss: 0.7857 - accuracy: 0.5814\n",
      "Epoch 4: val_loss did not improve from 0.65432\n",
      "72/72 [==============================] - 13s 183ms/step - loss: 0.7857 - accuracy: 0.5814 - val_loss: 0.7581 - val_accuracy: 0.5062 - lr: 0.0010\n",
      "Epoch 5/40\n",
      "72/72 [==============================] - ETA: 0s - loss: 0.7521 - accuracy: 0.6095\n",
      "Epoch 5: val_loss did not improve from 0.65432\n",
      "72/72 [==============================] - 13s 182ms/step - loss: 0.7521 - accuracy: 0.6095 - val_loss: 0.6754 - val_accuracy: 0.6049 - lr: 0.0010\n",
      "Epoch 6/40\n",
      "72/72 [==============================] - ETA: 0s - loss: 0.6838 - accuracy: 0.6235\n",
      "Epoch 6: val_loss did not improve from 0.65432\n",
      "72/72 [==============================] - 14s 193ms/step - loss: 0.6838 - accuracy: 0.6235 - val_loss: 1.0204 - val_accuracy: 0.5432 - lr: 0.0010\n",
      "Epoch 7/40\n",
      "72/72 [==============================] - ETA: 0s - loss: 0.6786 - accuracy: 0.6235\n",
      "Epoch 7: val_loss did not improve from 0.65432\n",
      "72/72 [==============================] - 14s 200ms/step - loss: 0.6786 - accuracy: 0.6235 - val_loss: 0.7178 - val_accuracy: 0.5556 - lr: 0.0010\n",
      "Epoch 8/40\n",
      "72/72 [==============================] - ETA: 0s - loss: 0.6057 - accuracy: 0.6743\n",
      "Epoch 8: val_loss did not improve from 0.65432\n",
      "72/72 [==============================] - 14s 201ms/step - loss: 0.6057 - accuracy: 0.6743 - val_loss: 0.7013 - val_accuracy: 0.5802 - lr: 0.0010\n",
      "Epoch 9/40\n",
      "72/72 [==============================] - ETA: 0s - loss: 0.6420 - accuracy: 0.6620\n",
      "Epoch 9: val_loss did not improve from 0.65432\n",
      "72/72 [==============================] - 14s 198ms/step - loss: 0.6420 - accuracy: 0.6620 - val_loss: 0.8565 - val_accuracy: 0.5185 - lr: 0.0010\n",
      "Epoch 10/40\n",
      "72/72 [==============================] - ETA: 0s - loss: 0.6113 - accuracy: 0.6848\n",
      "Epoch 10: val_loss did not improve from 0.65432\n",
      "72/72 [==============================] - 14s 194ms/step - loss: 0.6113 - accuracy: 0.6848 - val_loss: 0.7899 - val_accuracy: 0.5185 - lr: 0.0010\n",
      "Epoch 11/40\n",
      "72/72 [==============================] - ETA: 0s - loss: 0.6142 - accuracy: 0.6462\n",
      "Epoch 11: val_loss did not improve from 0.65432\n",
      "72/72 [==============================] - 13s 182ms/step - loss: 0.6142 - accuracy: 0.6462 - val_loss: 0.9439 - val_accuracy: 0.4938 - lr: 0.0010\n",
      "Epoch 12/40\n",
      "72/72 [==============================] - ETA: 0s - loss: 0.5945 - accuracy: 0.6883\n",
      "Epoch 12: val_loss did not improve from 0.65432\n",
      "72/72 [==============================] - 13s 183ms/step - loss: 0.5945 - accuracy: 0.6883 - val_loss: 0.8212 - val_accuracy: 0.7160 - lr: 0.0010\n",
      "Epoch 13/40\n",
      "72/72 [==============================] - ETA: 0s - loss: 0.6428 - accuracy: 0.6497\n",
      "Epoch 13: ReduceLROnPlateau reducing learning rate to 0.0006000000284984708.\n",
      "\n",
      "Epoch 13: val_loss did not improve from 0.65432\n",
      "72/72 [==============================] - 16s 230ms/step - loss: 0.6428 - accuracy: 0.6497 - val_loss: 0.7883 - val_accuracy: 0.5062 - lr: 0.0010\n",
      "Epoch 14/40\n",
      "72/72 [==============================] - ETA: 0s - loss: 0.5973 - accuracy: 0.6795\n",
      "Epoch 14: val_loss did not improve from 0.65432\n",
      "72/72 [==============================] - 17s 230ms/step - loss: 0.5973 - accuracy: 0.6795 - val_loss: 0.7140 - val_accuracy: 0.6420 - lr: 6.0000e-04\n",
      "Epoch 15/40\n",
      "72/72 [==============================] - ETA: 0s - loss: 0.5912 - accuracy: 0.6988\n",
      "Epoch 15: val_loss did not improve from 0.65432\n",
      "72/72 [==============================] - 15s 212ms/step - loss: 0.5912 - accuracy: 0.6988 - val_loss: 0.6544 - val_accuracy: 0.5926 - lr: 6.0000e-04\n",
      "Epoch 16/40\n",
      "72/72 [==============================] - ETA: 0s - loss: 0.5749 - accuracy: 0.6865\n",
      "Epoch 16: val_loss improved from 0.65432 to 0.56685, saving model to ./checkpoints/INI-V0-1\\FOLD-7\n",
      "INFO:tensorflow:Assets written to: ./checkpoints/INI-V0-1\\FOLD-7\\assets\n"
     ]
    },
    {
     "name": "stderr",
     "output_type": "stream",
     "text": [
      "INFO:tensorflow:Assets written to: ./checkpoints/INI-V0-1\\FOLD-7\\assets\n"
     ]
    },
    {
     "name": "stdout",
     "output_type": "stream",
     "text": [
      "72/72 [==============================] - 23s 319ms/step - loss: 0.5749 - accuracy: 0.6865 - val_loss: 0.5668 - val_accuracy: 0.7284 - lr: 6.0000e-04\n",
      "Epoch 17/40\n",
      "72/72 [==============================] - ETA: 0s - loss: 0.5603 - accuracy: 0.6900\n",
      "Epoch 17: val_loss did not improve from 0.56685\n",
      "72/72 [==============================] - 14s 194ms/step - loss: 0.5603 - accuracy: 0.6900 - val_loss: 0.7214 - val_accuracy: 0.5432 - lr: 6.0000e-04\n",
      "Epoch 18/40\n",
      "72/72 [==============================] - ETA: 0s - loss: 0.5550 - accuracy: 0.7128\n",
      "Epoch 18: val_loss did not improve from 0.56685\n",
      "72/72 [==============================] - 15s 206ms/step - loss: 0.5550 - accuracy: 0.7128 - val_loss: 0.7201 - val_accuracy: 0.6420 - lr: 6.0000e-04\n",
      "Epoch 19/40\n",
      "72/72 [==============================] - ETA: 0s - loss: 0.5451 - accuracy: 0.7128\n",
      "Epoch 19: val_loss did not improve from 0.56685\n",
      "72/72 [==============================] - 14s 200ms/step - loss: 0.5451 - accuracy: 0.7128 - val_loss: 0.7000 - val_accuracy: 0.5556 - lr: 6.0000e-04\n",
      "Epoch 20/40\n",
      "72/72 [==============================] - ETA: 0s - loss: 0.5328 - accuracy: 0.7215\n",
      "Epoch 20: val_loss did not improve from 0.56685\n",
      "72/72 [==============================] - 17s 238ms/step - loss: 0.5328 - accuracy: 0.7215 - val_loss: 0.6561 - val_accuracy: 0.7284 - lr: 6.0000e-04\n",
      "Epoch 21/40\n",
      "72/72 [==============================] - ETA: 0s - loss: 0.5472 - accuracy: 0.7250\n",
      "Epoch 21: val_loss did not improve from 0.56685\n",
      "72/72 [==============================] - 15s 209ms/step - loss: 0.5472 - accuracy: 0.7250 - val_loss: 0.6317 - val_accuracy: 0.7407 - lr: 6.0000e-04\n",
      "Epoch 22/40\n",
      "72/72 [==============================] - ETA: 0s - loss: 0.5605 - accuracy: 0.6970\n",
      "Epoch 22: val_loss did not improve from 0.56685\n",
      "72/72 [==============================] - 13s 187ms/step - loss: 0.5605 - accuracy: 0.6970 - val_loss: 0.8865 - val_accuracy: 0.7160 - lr: 6.0000e-04\n",
      "Epoch 23/40\n",
      "72/72 [==============================] - ETA: 0s - loss: 0.5390 - accuracy: 0.6918\n",
      "Epoch 23: val_loss improved from 0.56685 to 0.55522, saving model to ./checkpoints/INI-V0-1\\FOLD-7\n",
      "INFO:tensorflow:Assets written to: ./checkpoints/INI-V0-1\\FOLD-7\\assets\n"
     ]
    },
    {
     "name": "stderr",
     "output_type": "stream",
     "text": [
      "INFO:tensorflow:Assets written to: ./checkpoints/INI-V0-1\\FOLD-7\\assets\n"
     ]
    },
    {
     "name": "stdout",
     "output_type": "stream",
     "text": [
      "72/72 [==============================] - 19s 271ms/step - loss: 0.5390 - accuracy: 0.6918 - val_loss: 0.5552 - val_accuracy: 0.7284 - lr: 6.0000e-04\n",
      "Epoch 24/40\n",
      "72/72 [==============================] - ETA: 0s - loss: 0.5505 - accuracy: 0.7145\n",
      "Epoch 24: val_loss did not improve from 0.55522\n",
      "72/72 [==============================] - 17s 230ms/step - loss: 0.5505 - accuracy: 0.7145 - val_loss: 1.0194 - val_accuracy: 0.5432 - lr: 6.0000e-04\n",
      "Epoch 25/40\n",
      "72/72 [==============================] - ETA: 0s - loss: 0.5258 - accuracy: 0.7285\n",
      "Epoch 25: val_loss improved from 0.55522 to 0.52993, saving model to ./checkpoints/INI-V0-1\\FOLD-7\n",
      "INFO:tensorflow:Assets written to: ./checkpoints/INI-V0-1\\FOLD-7\\assets\n"
     ]
    },
    {
     "name": "stderr",
     "output_type": "stream",
     "text": [
      "INFO:tensorflow:Assets written to: ./checkpoints/INI-V0-1\\FOLD-7\\assets\n"
     ]
    },
    {
     "name": "stdout",
     "output_type": "stream",
     "text": [
      "72/72 [==============================] - 21s 295ms/step - loss: 0.5258 - accuracy: 0.7285 - val_loss: 0.5299 - val_accuracy: 0.7037 - lr: 6.0000e-04\n",
      "Epoch 26/40\n",
      "72/72 [==============================] - ETA: 0s - loss: 0.5658 - accuracy: 0.6883\n",
      "Epoch 26: val_loss did not improve from 0.52993\n",
      "72/72 [==============================] - 14s 190ms/step - loss: 0.5658 - accuracy: 0.6883 - val_loss: 0.8159 - val_accuracy: 0.5432 - lr: 6.0000e-04\n",
      "Epoch 27/40\n",
      "72/72 [==============================] - ETA: 0s - loss: 0.5496 - accuracy: 0.7040\n",
      "Epoch 27: val_loss improved from 0.52993 to 0.47941, saving model to ./checkpoints/INI-V0-1\\FOLD-7\n",
      "INFO:tensorflow:Assets written to: ./checkpoints/INI-V0-1\\FOLD-7\\assets\n"
     ]
    },
    {
     "name": "stderr",
     "output_type": "stream",
     "text": [
      "INFO:tensorflow:Assets written to: ./checkpoints/INI-V0-1\\FOLD-7\\assets\n"
     ]
    },
    {
     "name": "stdout",
     "output_type": "stream",
     "text": [
      "72/72 [==============================] - 18s 252ms/step - loss: 0.5496 - accuracy: 0.7040 - val_loss: 0.4794 - val_accuracy: 0.8025 - lr: 6.0000e-04\n",
      "Epoch 28/40\n",
      "72/72 [==============================] - ETA: 0s - loss: 0.5459 - accuracy: 0.7215\n",
      "Epoch 28: val_loss did not improve from 0.47941\n",
      "72/72 [==============================] - 13s 180ms/step - loss: 0.5459 - accuracy: 0.7215 - val_loss: 0.6684 - val_accuracy: 0.6543 - lr: 6.0000e-04\n",
      "Epoch 29/40\n",
      "72/72 [==============================] - ETA: 0s - loss: 0.5806 - accuracy: 0.7180\n",
      "Epoch 29: val_loss did not improve from 0.47941\n",
      "72/72 [==============================] - 13s 178ms/step - loss: 0.5806 - accuracy: 0.7180 - val_loss: 1.5846 - val_accuracy: 0.5309 - lr: 6.0000e-04\n",
      "Epoch 30/40\n",
      "72/72 [==============================] - ETA: 0s - loss: 0.5162 - accuracy: 0.7461\n",
      "Epoch 30: val_loss did not improve from 0.47941\n",
      "72/72 [==============================] - 13s 179ms/step - loss: 0.5162 - accuracy: 0.7461 - val_loss: 0.7349 - val_accuracy: 0.6667 - lr: 6.0000e-04\n",
      "Epoch 31/40\n",
      "72/72 [==============================] - ETA: 0s - loss: 0.4958 - accuracy: 0.7706\n",
      "Epoch 31: val_loss did not improve from 0.47941\n",
      "72/72 [==============================] - 13s 184ms/step - loss: 0.4958 - accuracy: 0.7706 - val_loss: 0.8648 - val_accuracy: 0.6049 - lr: 6.0000e-04\n",
      "Epoch 32/40\n",
      "72/72 [==============================] - ETA: 0s - loss: 0.5165 - accuracy: 0.7180\n",
      "Epoch 32: val_loss did not improve from 0.47941\n",
      "72/72 [==============================] - 14s 189ms/step - loss: 0.5165 - accuracy: 0.7180 - val_loss: 0.5150 - val_accuracy: 0.7284 - lr: 6.0000e-04\n",
      "Epoch 33/40\n",
      "72/72 [==============================] - ETA: 0s - loss: 0.5427 - accuracy: 0.7320\n",
      "Epoch 33: val_loss did not improve from 0.47941\n",
      "72/72 [==============================] - 15s 205ms/step - loss: 0.5427 - accuracy: 0.7320 - val_loss: 0.5626 - val_accuracy: 0.7160 - lr: 6.0000e-04\n",
      "Epoch 34/40\n",
      "72/72 [==============================] - ETA: 0s - loss: 0.4902 - accuracy: 0.7636\n",
      "Epoch 34: val_loss did not improve from 0.47941\n",
      "72/72 [==============================] - 15s 205ms/step - loss: 0.4902 - accuracy: 0.7636 - val_loss: 1.2940 - val_accuracy: 0.5556 - lr: 6.0000e-04\n",
      "Epoch 35/40\n",
      "72/72 [==============================] - ETA: 0s - loss: 0.5235 - accuracy: 0.7653\n",
      "Epoch 35: val_loss did not improve from 0.47941\n",
      "72/72 [==============================] - 14s 195ms/step - loss: 0.5235 - accuracy: 0.7653 - val_loss: 0.5560 - val_accuracy: 0.6543 - lr: 6.0000e-04\n",
      "Epoch 36/40\n",
      "72/72 [==============================] - ETA: 0s - loss: 0.4886 - accuracy: 0.7653\n",
      "Epoch 36: val_loss did not improve from 0.47941\n",
      "72/72 [==============================] - 13s 182ms/step - loss: 0.4886 - accuracy: 0.7653 - val_loss: 0.6504 - val_accuracy: 0.6790 - lr: 6.0000e-04\n",
      "Epoch 37/40\n",
      "72/72 [==============================] - ETA: 0s - loss: 0.4842 - accuracy: 0.7618\n",
      "Epoch 37: ReduceLROnPlateau reducing learning rate to 0.0003600000170990825.\n",
      "\n",
      "Epoch 37: val_loss did not improve from 0.47941\n",
      "72/72 [==============================] - 13s 183ms/step - loss: 0.4842 - accuracy: 0.7618 - val_loss: 0.7793 - val_accuracy: 0.5679 - lr: 6.0000e-04\n",
      "Epoch 38/40\n",
      "72/72 [==============================] - ETA: 0s - loss: 0.4832 - accuracy: 0.7758\n",
      "Epoch 38: val_loss did not improve from 0.47941\n",
      "72/72 [==============================] - 13s 179ms/step - loss: 0.4832 - accuracy: 0.7758 - val_loss: 0.4809 - val_accuracy: 0.7531 - lr: 3.6000e-04\n",
      "Epoch 39/40\n",
      "72/72 [==============================] - ETA: 0s - loss: 0.4520 - accuracy: 0.7968\n",
      "Epoch 39: val_loss did not improve from 0.47941\n",
      "72/72 [==============================] - 13s 179ms/step - loss: 0.4520 - accuracy: 0.7968 - val_loss: 0.5942 - val_accuracy: 0.6667 - lr: 3.6000e-04\n",
      "Epoch 40/40\n",
      "72/72 [==============================] - ETA: 0s - loss: 0.4405 - accuracy: 0.8091\n",
      "Epoch 40: val_loss did not improve from 0.47941\n",
      "72/72 [==============================] - 13s 181ms/step - loss: 0.4405 - accuracy: 0.8091 - val_loss: 0.6819 - val_accuracy: 0.6790 - lr: 3.6000e-04\n"
     ]
    },
    {
     "data": {
      "image/png": "[encoded data removed]",
      "text/plain": [
       "<Figure size 300x200 with 1 Axes>"
      ]
     },
     "metadata": {},
     "output_type": "display_data"
    },
    {
     "data": {
      "image/png": "[encoded data removed]",
      "text/plain": [
       "<Figure size 300x200 with 1 Axes>"
      ]
     },
     "metadata": {},
     "output_type": "display_data"
    },
    {
     "name": "stdout",
     "output_type": "stream",
     "text": [
      "Fold Training Time: 0 hour(s) and 10 mins\n",
      "Precision: 79.0697693824768  -  Recall: 82.92682766914368\n",
      "Accuracy: 80.24691343307495\n",
      "F1Score: 80.95237709779634\n",
      "[neptune] [info   ] Shutting down background jobs, please wait a moment...\n",
      "[neptune] [info   ] Done!\n",
      "Total Training Time: 1 hour(s) and 17 mins\n"
     ]
    }
   ],
   "source": [
    "# ============================\n",
    "# Log performance of each fold\n",
    "# ============================\n",
    "\n",
    "precisions = []\n",
    "recalls = []\n",
    "accuracies = []\n",
    "f1_scores = []\n",
    "\n",
    "counter = 0\n",
    "start = perf_counter()\n",
    "for train, test in kfold.split(train_x, train_y):\n",
    "    start_fold = perf_counter()\n",
    "\n",
    "    run = neptune.init_run(\n",
    "        name= f\"{model_name}-FOLD_{counter}\",\n",
    "        project=project_name,\n",
    "        mode=\"offline\"     # To prevent issue when internet sucks. Just manually sync it\n",
    "    )  # your credentials\n",
    "\n",
    "    run[\"parameters\"] = params\n",
    "    model = make_model(params)\n",
    "    train_dataset = tf.data.Dataset.from_tensor_slices((train_x[train], train_y[train]))\n",
    "    train_fold = train_dataset.shuffle(buffer_size=train_dataset.cardinality(), seed=1).batch(params['batch_size'])\n",
    "    \n",
    "    test_dataset = tf.data.Dataset.from_tensor_slices((train_x[test], train_y[test]))\n",
    "    test_fold = test_dataset.shuffle(buffer_size=test_dataset.cardinality(), seed=1).batch(params['batch_size'])\n",
    "    \n",
    "    hist = model.fit(train_fold, \n",
    "                     validation_data=test_fold,\n",
    "                     batch_size=params['batch_size'],\n",
    "                     epochs=params['epochs'],\n",
    "                     verbose=1,\n",
    "                     callbacks=create_callbacks(counter))\n",
    "    end_fold = perf_counter()\n",
    "\n",
    "    # PLOTTING ==================================================\n",
    "    run[\"fig-train_loss\"].upload(plot_loss(hist))\n",
    "    run[\"fig-train_acc\"].upload(plot_acc(hist))\n",
    "    \n",
    "    # EVALUATING ==================================================\n",
    "    model = tf.keras.models.load_model(checkpoint_path + str(counter))\n",
    "    \n",
    "    pre = Precision()\n",
    "    rec = Recall()\n",
    "    b_acc = tf.keras.metrics.BinaryAccuracy()\n",
    "    for batch in test_fold.as_numpy_iterator():\n",
    "        X, y = batch\n",
    "        yhat = model.predict(X, verbose=0)\n",
    "        pre.update_state(y, yhat)\n",
    "        rec.update_state(y, yhat)\n",
    "        b_acc.update_state(y, yhat)\n",
    "        \n",
    "    precisions.append(pre.result().numpy() * 100)\n",
    "    recalls.append(rec.result().numpy() * 100)\n",
    "    accuracies.append(b_acc.result().numpy() * 100)\n",
    "    f1 = (2 * (pre.result().numpy() * rec.result().numpy()) / (pre.result().numpy() + rec.result().numpy())) * 100 \n",
    "    \n",
    "    f1_scores.append(f1)\n",
    "    \n",
    "    run[\"eval/ACC/\"] = accuracies[counter]\n",
    "    run[\"eval/REC/\"] = recalls[counter]\n",
    "    run[\"eval/PRE/\"] = precisions[counter]\n",
    "    run[\"eval/F1\"] = f1_scores[counter]\n",
    "\n",
    "    # SAVE MODEL TO NEPTUNE AI =======================================\n",
    "    model_save_path = f\"./models/V0-1_Fold-{counter}.keras\"\n",
    "    model.save(model_save_path)\n",
    "    run['/checkpoint/model'].upload(model_save_path)\n",
    "    \n",
    "    # PRINTING RESULTS ===========================================\n",
    "    print(f'Fold Training Time: {math.floor((end_fold-start_fold)/3600) } hour(s) and {math.floor((end_fold-start_fold)/60)%60} mins')\n",
    "    print(f'Precision: {precisions[counter]}  -  Recall: {recalls[counter]}')\n",
    "    print(f'Accuracy: {accuracies[counter]}')\n",
    "    print(f'F1Score: {f1_scores[counter]}')\n",
    "    \n",
    "    run.stop()\n",
    "    \n",
    "    counter += 1\n",
    "\n",
    "end = perf_counter()\n",
    "\n",
    "print(f'Total Training Time: {math.floor((end-start)/3600) } hour(s) and {math.floor((end-start)/60)%60} mins')\n",
    "# Valid ones are 6:44pm and beyond"
   ]
  },
  {
   "cell_type": "markdown",
   "id": "0cdcaea3-c498-44dd-be65-c899e9ba695c",
   "metadata": {},
   "source": [
    "# Get Average Performance of Model"
   ]
  },
  {
   "cell_type": "markdown",
   "id": "0e6a42b9-a558-4ea3-a099-c111c57b7ccf",
   "metadata": {},
   "source": [
    "## Save to Neptune AI"
   ]
  },
  {
   "cell_type": "code",
   "execution_count": 104,
   "id": "d13e1214-9537-4e9a-9e85-9b2f481506c3",
   "metadata": {},
   "outputs": [
    {
     "name": "stdout",
     "output_type": "stream",
     "text": [
      "[neptune] [info   ] Neptune initialized. Open in the app: offline/99983889-c115-42a9-bd66-9b80b00978ed\n",
      "[neptune] [info   ] Shutting down background jobs, please wait a moment...\n",
      "[neptune] [info   ] Done!\n"
     ]
    }
   ],
   "source": [
    "run = neptune.init_run(\n",
    "        name= f\"{model_name}-AVG\",\n",
    "        project=project_name,\n",
    "        mode='offline',\n",
    "        # api_token=api_token, # Api token is saved in user's environemnt variables\n",
    "    )  # your credentials\n",
    "\n",
    "run[\"eval/PRE/\"] = avg_rate(precisions)\n",
    "run[\"eval/REC/\"] = avg_rate(recalls)\n",
    "run[\"eval/ACC/\"] = avg_rate(accuracies)\n",
    "run[\"eval/F1\"] = avg_rate(f1_scores)\n",
    "\n",
    "run.stop()"
   ]
  },
  {
   "cell_type": "markdown",
   "id": "e69c613b-b1b9-4a1b-9ecf-969e62123fc9",
   "metadata": {},
   "source": [
    "## Save to Tensorboard"
   ]
  },
  {
   "cell_type": "code",
   "execution_count": 105,
   "id": "31ea4d93-bce3-4a78-a309-280b83d61676",
   "metadata": {},
   "outputs": [],
   "source": [
    "# Command to access TensorBoard HParams:\n",
    "\n",
    "# tensorboard --logdir PATH/logs/hparam_tuning\n",
    "with tf.summary.create_file_writer(f'./for_INI_model/logs/hparam_tuning/{model_name}').as_default():\n",
    "    hparams = {\n",
    "        'CONV_F1': 16,\n",
    "        'CONV_F2': 16,\n",
    "        'CONV_F3': 64,\n",
    "        'DROPOUT': 0.2,\n",
    "        'D_UNITS_1': 128,\n",
    "        'D_UNITS_2': 64,\n",
    "    }\n",
    "    hp.hparams(hparams)\n",
    "    tf.summary.scalar('PRE', avg_rate(precisions), step=1)\n",
    "    tf.summary.scalar('REC', avg_rate(recalls), step=1)\n",
    "    tf.summary.scalar('ACC', avg_rate(accuracies), step=1)\n",
    "    tf.summary.scalar('F1', avg_rate(f1_scores), step=1)"
   ]
  },
  {
   "cell_type": "code",
   "execution_count": null,
   "id": "53362329-adc7-4db5-a223-a27367cbb06a",
   "metadata": {},
   "outputs": [],
   "source": []
  },
  {
   "cell_type": "markdown",
   "id": "3a48f537-6a6e-4696-afc1-c608ffc793f3",
   "metadata": {},
   "source": [
    "# Asd"
   ]
  },
  {
   "cell_type": "markdown",
   "id": "98e06983-0acb-4201-bb07-4c6579d25cbd",
   "metadata": {
    "jp-MarkdownHeadingCollapsed": true
   },
   "source": [
    "# Others"
   ]
  },
  {
   "cell_type": "code",
   "execution_count": null,
   "id": "6590ec4c-5fc3-470e-bc7c-26503425ab8c",
   "metadata": {
    "scrolled": true
   },
   "outputs": [],
   "source": [
    "model= make_model()\n",
    "model.fit(\n",
    "    x_train,\n",
    "    y_train,\n",
    "    validation_data=(x_test,y_test),\n",
    "    epochs=params[\"epochs\"],\n",
    "    batch_size=params[\"batch_size\"],\n",
    "    callbacks=create_callbacks(0),\n",
    ")"
   ]
  },
  {
   "cell_type": "code",
   "execution_count": null,
   "id": "64460324-7348-47a8-bfed-b23556965940",
   "metadata": {
    "scrolled": true
   },
   "outputs": [],
   "source": [
    "true_test_dataset = tf.data.Dataset.from_tensor_slices((x_test, y_test))\n",
    "true_test_set = true_test_dataset.shuffle(buffer_size=true_test_dataset.cardinality(), seed=1).batch(64)\n",
    "\n",
    "f1 = F1Score()\n",
    "pre = Precision()\n",
    "rec = Recall()\n",
    "c_acc = CategoricalAccuracy()\n",
    "for batch in true_test_set.as_numpy_iterator():\n",
    "    X, y = batch\n",
    "    yhat = model.predict(X)\n",
    "    yhat_max = []\n",
    "    for i in yhat:\n",
    "        maxed = np.argmax(i)\n",
    "        yhat_max.append(maxed)\n",
    "    yhat = np.array(yhat_max)\n",
    "    f1.update_state(y, yhat)\n",
    "    pre.update_state(y, yhat)\n",
    "    rec.update_state(y, yhat)\n",
    "    c_acc.update_state(y, yhat)\n"
   ]
  },
  {
   "cell_type": "code",
   "execution_count": null,
   "id": "9e4864d2-4fb0-4526-95d3-9421c7bfa082",
   "metadata": {},
   "outputs": [],
   "source": [
    "run[\"eval/ACC/\"] = float(c_acc.result().numpy() * 100)\n",
    "run[\"eval/REC/\"] = float(rec.result().numpy() * 100)\n",
    "run[\"eval/PRE/\"] = float(pre.result().numpy() * 100)\n"
   ]
  },
  {
   "cell_type": "code",
   "execution_count": null,
   "id": "3a9f5d4a-c095-4788-8b9c-0f67f2631f42",
   "metadata": {},
   "outputs": [],
   "source": [
    "run.stop()"
   ]
  },
  {
   "cell_type": "code",
   "execution_count": null,
   "id": "153bb951-edfb-42a4-93ae-30f5d37fcbab",
   "metadata": {},
   "outputs": [],
   "source": []
  },
  {
   "cell_type": "code",
   "execution_count": null,
   "id": "1becccd6-290d-486c-9f34-f5b4b025b4f4",
   "metadata": {},
   "outputs": [],
   "source": []
  },
  {
   "cell_type": "code",
   "execution_count": null,
   "id": "bf6ba075-09fd-4fc7-8886-c600b17d2938",
   "metadata": {},
   "outputs": [],
   "source": [
    "eval_metrics = model.evaluate(x_test, y_test, verbose=0)\n",
    "for j, metric in enumerate(eval_metrics):\n",
    "    run[\"eval/AVG-ACC/{}\".format(model.metrics_names[j])] = metric\n",
    "\n",
    "run.stop()"
   ]
  },
  {
   "cell_type": "code",
   "execution_count": null,
   "id": "09100e0c-0d94-4e3d-8202-ec6e2872234d",
   "metadata": {},
   "outputs": [],
   "source": [
    "for j, metric in enumerate(eval_metrics):\n",
    "    print(model.metrics_names[j])"
   ]
  },
  {
   "cell_type": "markdown",
   "id": "91f20526-bb52-4153-a291-c18829f55825",
   "metadata": {},
   "source": [
    "## Neptune AI Notes"
   ]
  },
  {
   "cell_type": "raw",
   "id": "59ff9add-a7ad-4ccf-b4f4-e3b9dd83564d",
   "metadata": {},
   "source": [
    "1. neptune callback keeps track of learning rate - can use ReduceLROnPlateau\n",
    "2. neptune seems better used with one run each, but we can just create 1 more RUN before tuning the hyperparameters, name it with \"AVG\", have an \"AVG\" tag, and then save the average result\n",
    "3. The code below creates column in Neptune AI's website\n",
    "\n",
    "  for j, metric in enumerate(eval_metrics):\n",
    "    run[\"eval/AVG-ACC/{}\".format(model.metrics_names[j])] = metric\n",
    "    "
   ]
  },
  {
   "cell_type": "code",
   "execution_count": null,
   "id": "2603ac1c-fe1d-4a21-b8f0-9d8a32e67462",
   "metadata": {},
   "outputs": [],
   "source": []
  }
 ],
 "metadata": {
  "kernelspec": {
   "display_name": "neptune",
   "language": "python",
   "name": "neptune"
  },
  "language_info": {
   "codemirror_mode": {
    "name": "ipython",
    "version": 3
   },
   "file_extension": ".py",
   "mimetype": "text/x-python",
   "name": "python",
   "nbconvert_exporter": "python",
   "pygments_lexer": "ipython3",
   "version": "3.10.9"
  }
 },
 "nbformat": 4,
 "nbformat_minor": 5
}
