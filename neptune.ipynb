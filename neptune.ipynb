{
 "cells": [
  {
   "cell_type": "markdown",
   "id": "654fdf86-1ac7-4eb0-8153-7e9a1a61fa78",
   "metadata": {
    "jp-MarkdownHeadingCollapsed": true
   },
   "source": [
    "# READ"
   ]
  },
  {
   "cell_type": "markdown",
   "id": "30e7deed-4595-4611-9254-ad26a45facd3",
   "metadata": {},
   "source": [
    "1. API is in User Variables for User in Environemtn Variables named \"NEPTUNE_API_TOKEN\"\n",
    "2. If internet sucks, set mode to offline\n",
    "4. When offline runs are saved locally, sync it with | neptune sync -p \"New-Thesis/KFold-Test\" --offline-only |\n",
    "- make sure it is in venv mode | (venv) PS C:\\Users\\user\\Documents\\Machine-Learning-Hub-1\\ImageClassification\\Neptune-Thesis> |\n",
    "5. Delete the offline folder or use | neptune clear |"
   ]
  },
  {
   "cell_type": "markdown",
   "id": "348ca800-674e-4b34-9d14-551b8c226b08",
   "metadata": {},
   "source": [
    "# Load Libraries"
   ]
  },
  {
   "cell_type": "code",
   "execution_count": 1,
   "id": "79947b1a-22c4-4658-9375-a7bcbc52590e",
   "metadata": {},
   "outputs": [
    {
     "name": "stdout",
     "output_type": "stream",
     "text": [
      "WARNING:tensorflow:From C:\\Users\\user\\Documents\\Machine-Learning-Hub-1\\ImageClassification\\Neptune-Thesis\\venv\\lib\\site-packages\\keras\\src\\losses.py:2976: The name tf.losses.sparse_softmax_cross_entropy is deprecated. Please use tf.compat.v1.losses.sparse_softmax_cross_entropy instead.\n",
      "\n"
     ]
    }
   ],
   "source": [
    "import tqdm\n",
    "import os\n",
    "import cv2\n",
    "import imghdr\n",
    "import image_to_numpy\n",
    "import numpy as np\n",
    "import seaborn as sns\n",
    "from matplotlib import pyplot as plt\n",
    "from datetime import datetime\n",
    "import itertools\n",
    "from numpy.random import default_rng\n",
    "\n",
    "import tensorflow as tf\n",
    "from tensorflow.keras.models import Sequential\n",
    "from tensorflow.keras.layers import RandomFlip, RandomRotation, RandomContrast, RandomBrightness, Rescaling, Resizing\n",
    "from tensorflow.keras.layers import Conv2D, MaxPooling2D, Flatten, Dense, Dropout, BatchNormalization, ReLU\n",
    "from tensorflow.keras.metrics import F1Score, Precision, Recall, CategoricalAccuracy\n",
    "from tensorboard.plugins.hparams import api as hp\n",
    "import sklearn\n",
    "from sklearn.metrics import classification_report,confusion_matrix\n",
    "from sklearn.model_selection import StratifiedKFold\n",
    "\n",
    "from time import perf_counter\n",
    "import math\n",
    "\n",
    "import neptune\n",
    "from neptune.integrations.tensorflow_keras import NeptuneCallback"
   ]
  },
  {
   "cell_type": "markdown",
   "id": "0eb1457f-83b0-4eb9-8a55-57299e4e4aac",
   "metadata": {},
   "source": [
    "# Initialize Functions"
   ]
  },
  {
   "cell_type": "code",
   "execution_count": 2,
   "id": "28c9f594-9465-4546-8a43-7f7ddefbce80",
   "metadata": {},
   "outputs": [],
   "source": [
    "model_name = \"V4.1.3\"\n",
    "checkpoint_path = f'./checkpoints/{model_name}/FOLD-'"
   ]
  },
  {
   "cell_type": "code",
   "execution_count": 4,
   "id": "27cee80d-5b28-441a-8ec0-67da468c4966",
   "metadata": {},
   "outputs": [],
   "source": [
    "def make_model(params):\n",
    "    model = Sequential()\n",
    "    model.add(RandomFlip(mode='horizontal', seed=1, input_shape=(256,256,3)))\n",
    "    model.add(RandomRotation(factor=0.2, seed=1))\n",
    "    \n",
    "    model.add(Conv2D(input_shape=(256,256,3), filters=16, kernel_size=(3,3), padding=\"same\"))\n",
    "    model.add(BatchNormalization(epsilon=0.0001))\n",
    "    model.add(ReLU())\n",
    "    model.add(MaxPooling2D())\n",
    "    \n",
    "    model.add(Conv2D(filters=32, kernel_size=(3,3), padding=\"same\"))\n",
    "    model.add(BatchNormalization(epsilon=0.0001))\n",
    "    model.add(ReLU())\n",
    "    model.add(MaxPooling2D())\n",
    "    \n",
    "    model.add(Conv2D(filters=64, kernel_size=(3,3), padding=\"same\"))\n",
    "    model.add(BatchNormalization(epsilon=0.0001))\n",
    "    model.add(ReLU())\n",
    "    model.add(MaxPooling2D())\n",
    "    \n",
    "    model.add(Flatten())\n",
    "    model.add(Dropout(0.2, seed=1))\n",
    "    model.add(Dense(units=384,activation=\"relu\"))\n",
    "    model.add(Dropout(0.2, seed=1))\n",
    "    model.add(Dense(units=256,activation=\"relu\"))\n",
    "    \n",
    "    model.add(Dense(units=4, activation=\"softmax\"))\n",
    "\n",
    "\n",
    "    optimizer = tf.keras.optimizers.Adam(\n",
    "        learning_rate=params[\"lr\"],\n",
    "    )\n",
    "    \n",
    "    model.compile(optimizer, loss='categorical_crossentropy', metrics=['accuracy'])\n",
    "    return model"
   ]
  },
  {
   "cell_type": "code",
   "execution_count": 5,
   "id": "022580a2-bbb0-46de-80d2-b93e647275c4",
   "metadata": {},
   "outputs": [],
   "source": [
    "def create_callbacks(counter):\n",
    "    neptune_cbk = NeptuneCallback(run=run, base_namespace=\"training\")\n",
    "\n",
    "    cp_callback = tf.keras.callbacks.ModelCheckpoint(filepath=checkpoint_path + str(counter), \n",
    "                                                                 monitor='val_loss', \n",
    "                                                                 mode='auto', \n",
    "                                                                 save_best_only=True, \n",
    "                                                                 verbose=1)\n",
    "    es_callback = tf.keras.callbacks.EarlyStopping(monitor='val_loss', \n",
    "                                                   patience=23,\n",
    "                                                  )\n",
    "    reduce_lr = tf.keras.callbacks.ReduceLROnPlateau(monitor='val_loss', \n",
    "                                                         factor=0.6, \n",
    "                                                         patience=15, \n",
    "                                                         min_delta=0.001, \n",
    "                                                         mode='auto', \n",
    "                                                         verbose=1)\n",
    "    return [neptune_cbk, reduce_lr, cp_callback, es_callback]"
   ]
  },
  {
   "cell_type": "code",
   "execution_count": 6,
   "id": "98d16a35-875d-4cff-abd0-6f554224f314",
   "metadata": {},
   "outputs": [],
   "source": [
    "def plot_loss(hist):\n",
    "    fig = plt.figure(figsize=(3,2))\n",
    "    plt.plot(hist.history['loss'], color='teal', label='loss')\n",
    "    plt.plot(hist.history['val_loss'], color='orange', label='val_loss')\n",
    "    plt.suptitle('Loss')\n",
    "    plt.legend(loc='upper right')\n",
    "    plt.show()\n",
    "    return fig"
   ]
  },
  {
   "cell_type": "code",
   "execution_count": 7,
   "id": "3ba83bd7-0b4b-43fc-8484-9f695a1f0039",
   "metadata": {},
   "outputs": [],
   "source": [
    "def plot_acc(hist):\n",
    "    fig = plt.figure(figsize=(3,2))\n",
    "    plt.plot(hist.history['accuracy'], color='teal', label='acc')\n",
    "    plt.plot(hist.history['val_accuracy'], color='orange', label='val_acc')\n",
    "    plt.suptitle('Accuracy')\n",
    "    plt.legend(loc='upper left')\n",
    "    plt.show()\n",
    "    return fig"
   ]
  },
  {
   "cell_type": "code",
   "execution_count": 8,
   "id": "8b527cae-cd2f-4cf0-8ad8-03355050b95c",
   "metadata": {},
   "outputs": [],
   "source": [
    "def avg_rate(metric_list):\n",
    "    return sum(metric_list) / len(metric_list)"
   ]
  },
  {
   "cell_type": "markdown",
   "id": "e27ee883-af64-4f8a-980d-d7936a9d6c9b",
   "metadata": {},
   "source": [
    "# Prepare Dataset"
   ]
  },
  {
   "cell_type": "code",
   "execution_count": 9,
   "id": "77bf8dc5-2d83-4b0a-ab84-007f05ccaa5a",
   "metadata": {},
   "outputs": [],
   "source": [
    "labels = ['Building', 'Plant', 'Road', 'Vehicle']\n",
    "X_train = []\n",
    "y_train = []\n",
    "y_label_idx = []\n",
    "image_size = 256\n",
    "for i in labels:\n",
    "    folderPath = os.path.join('D:\\DATASETS\\For-Thesis\\Labels', i)\n",
    "    for j in os.listdir(folderPath):\n",
    "        img = image_to_numpy.load_image_file(os.path.join(folderPath,j))\n",
    "        img = cv2.resize(img,(image_size, image_size))\n",
    "        X_train.append(img)\n",
    "        y_label_idx.append(labels.index(i))"
   ]
  },
  {
   "cell_type": "code",
   "execution_count": 10,
   "id": "86dd841d-f1af-4c0a-9557-55d800db547b",
   "metadata": {},
   "outputs": [],
   "source": [
    "X_train = np.array(X_train)\n",
    "y_label_idx = np.array(y_label_idx)\n",
    "\n",
    "X_train_scaled = X_train.astype(np.float32) / 255.0"
   ]
  },
  {
   "cell_type": "code",
   "execution_count": 11,
   "id": "569494d1-0259-4eaa-bcbe-89a567ac7203",
   "metadata": {},
   "outputs": [],
   "source": [
    "rng = default_rng(seed=1)\n",
    "\n",
    "buildings_test_idx = rng.choice(np.arange(0,600), size=120, replace=False)\n",
    "plants_test_idx = rng.choice(np.arange(600,1200), size=120, replace=False)\n",
    "roads_test_idx = rng.choice(np.arange(1200,1800), size=120, replace=False)\n",
    "vehicles_test_idx = rng.choice(np.arange(1800,2400), size=120, replace=False)\n",
    "total_test_idx = np.concatenate((buildings_test_idx, plants_test_idx, roads_test_idx, vehicles_test_idx), axis=None)"
   ]
  },
  {
   "cell_type": "code",
   "execution_count": 12,
   "id": "1b38d76e-94d9-442c-8025-11352e7a091d",
   "metadata": {},
   "outputs": [],
   "source": [
    "def train_test_X(X_train_scaled):    \n",
    "    test_x = X_train_scaled[total_test_idx]\n",
    "    train_x = np.delete(X_train_scaled, total_test_idx, axis=0)\n",
    "    return train_x, test_x\n",
    "\n",
    "def train_test_y(y_label_idx):\n",
    "    test_y = y_label_idx[total_test_idx]\n",
    "    train_y = np.delete(y_label_idx, total_test_idx, axis=0)\n",
    "    return train_y, test_y"
   ]
  },
  {
   "cell_type": "code",
   "execution_count": 13,
   "id": "cb0d422e-be3d-4544-84f8-1b5f39fd52af",
   "metadata": {},
   "outputs": [],
   "source": [
    "train_x, holdout_x = train_test_X(X_train_scaled)\n",
    "train_y, holdout_y = train_test_y(y_label_idx)"
   ]
  },
  {
   "cell_type": "code",
   "execution_count": 14,
   "id": "746890dd-29f8-433f-8a17-1b8e9444ce77",
   "metadata": {},
   "outputs": [
    {
     "name": "stdout",
     "output_type": "stream",
     "text": [
      "1920 480\n"
     ]
    }
   ],
   "source": [
    "print(len(train_x), len(holdout_x))"
   ]
  },
  {
   "cell_type": "code",
   "execution_count": 15,
   "id": "c4b2ae4a-5a0e-439d-9ece-c5a8a3d2fecd",
   "metadata": {},
   "outputs": [
    {
     "name": "stdout",
     "output_type": "stream",
     "text": [
      "[0 0 0 0 0]\n"
     ]
    }
   ],
   "source": [
    "print(train_y[:5])"
   ]
  },
  {
   "cell_type": "code",
   "execution_count": 16,
   "id": "7c75f07f-09ee-4037-83fb-d2bea64c4b02",
   "metadata": {},
   "outputs": [],
   "source": [
    "# Inidices remain the same thanks to the seed (set to 1)\n",
    "# with open('total_test_idx.txt', 'w+') as f:\n",
    "     \n",
    "#     # write elements of list\n",
    "#     for items in total_test_idx:\n",
    "#         f.write('%s ' %items)\n",
    "     \n",
    "#     print(\"File written successfully\")\n",
    " \n",
    " \n",
    "# # close the file\n",
    "# f.close()"
   ]
  },
  {
   "cell_type": "markdown",
   "id": "a10b3d75-dfe3-4d66-a5c7-b46073861043",
   "metadata": {},
   "source": [
    "# Run KFOLD"
   ]
  },
  {
   "cell_type": "code",
   "execution_count": 17,
   "id": "97c647dc-35a6-4391-80b6-1db5643a1820",
   "metadata": {},
   "outputs": [],
   "source": [
    "kfold = StratifiedKFold(n_splits=8, shuffle=True, random_state=1)"
   ]
  },
  {
   "cell_type": "code",
   "execution_count": 18,
   "id": "f4679eae-6da1-4f77-8dd2-bf6b2a248908",
   "metadata": {},
   "outputs": [],
   "source": [
    "project_name = \"New-Thesis/KFold-Test\"\n",
    "# api_token = <It is already initialized in environemnt variables>\n",
    "params = {\n",
    "    \"lr\": 0.001, \n",
    "    \"epochs\": 55, \n",
    "    \"batch_size\": 8}"
   ]
  },
  {
   "cell_type": "code",
   "execution_count": 19,
   "id": "e13eae77-d4a9-4c8a-8571-b1249e13a124",
   "metadata": {},
   "outputs": [],
   "source": [
    "# CHECK MODEL VERION IN THE FOR LOOP OF KFOLDS WHEN SAVING\n",
    "# CHECK MODEL VERION IN THE FOR LOOP OF KFOLDS WHEN SAVING\n",
    "# CHECK MODEL VERION IN THE FOR LOOP OF KFOLDS WHEN SAVING\n",
    "# CHECK MODEL VERION IN THE FOR LOOP OF KFOLDS WHEN SAVING\n",
    "# CHECK MODEL VERION IN THE FOR LOOP OF KFOLDS WHEN SAVING\n",
    "# CHECK MODEL VERION IN THE FOR LOOP OF KFOLDS WHEN SAVING\n",
    "# CHECK MODEL VERION IN THE FOR LOOP OF KFOLDS WHEN SAVING\n",
    "# CHECK MODEL VERION IN THE FOR LOOP OF KFOLDS WHEN SAVING\n",
    "# CHECK MODEL VERION IN THE FOR LOOP OF KFOLDS WHEN SAVING\n",
    "# CHECK MODEL VERION IN THE FOR LOOP OF KFOLDS WHEN SAVING\n",
    "# CHECK MODEL VERION IN THE FOR LOOP OF KFOLDS WHEN SAVING\n",
    "# CHECK MODEL VERION IN THE FOR LOOP OF KFOLDS WHEN SAVING"
   ]
  },
  {
   "cell_type": "code",
   "execution_count": 20,
   "id": "2061b0ab-2132-4f3b-94cc-d5584da402ad",
   "metadata": {},
   "outputs": [
    {
     "name": "stderr",
     "output_type": "stream",
     "text": [
      "[neptune] [warning] NeptuneWarning: The following monitoring options are disabled by default in interactive sessions: 'capture_stdout', 'capture_stderr', 'capture_traceback', and 'capture_hardware_metrics'. To enable them, set each parameter to 'True' when initializing the run. The monitoring will continue until you call run.stop() or the kernel stops. Also note: Your source files can only be tracked if you pass the path(s) to the 'source_code' argument. For help, see the Neptune docs: https://docs.neptune.ai/logging/source_code/\n"
     ]
    },
    {
     "name": "stdout",
     "output_type": "stream",
     "text": [
      "[neptune] [info   ] Neptune initialized. Open in the app: offline/2dad8746-9cd5-41ce-a51f-469a98542573\n",
      "WARNING:tensorflow:From C:\\Users\\user\\Documents\\Machine-Learning-Hub-1\\ImageClassification\\Neptune-Thesis\\venv\\lib\\site-packages\\keras\\src\\backend.py:873: The name tf.get_default_graph is deprecated. Please use tf.compat.v1.get_default_graph instead.\n",
      "\n",
      "WARNING:tensorflow:From C:\\Users\\user\\Documents\\Machine-Learning-Hub-1\\ImageClassification\\Neptune-Thesis\\venv\\lib\\site-packages\\keras\\src\\layers\\normalization\\batch_normalization.py:979: The name tf.nn.fused_batch_norm is deprecated. Please use tf.compat.v1.nn.fused_batch_norm instead.\n",
      "\n",
      "Epoch 1/55\n",
      "WARNING:tensorflow:From C:\\Users\\user\\Documents\\Machine-Learning-Hub-1\\ImageClassification\\Neptune-Thesis\\venv\\lib\\site-packages\\keras\\src\\utils\\tf_utils.py:492: The name tf.ragged.RaggedTensorValue is deprecated. Please use tf.compat.v1.ragged.RaggedTensorValue instead.\n",
      "\n",
      "WARNING:tensorflow:From C:\\Users\\user\\Documents\\Machine-Learning-Hub-1\\ImageClassification\\Neptune-Thesis\\venv\\lib\\site-packages\\keras\\src\\engine\\base_layer_utils.py:384: The name tf.executing_eagerly_outside_functions is deprecated. Please use tf.compat.v1.executing_eagerly_outside_functions instead.\n",
      "\n",
      "210/210 [==============================] - ETA: 0s - loss: 6.4274 - accuracy: 0.5488\n",
      "Epoch 1: val_loss improved from inf to 4.40026, saving model to ./checkpoints/V4.1.3\\FOLD-0\n",
      "INFO:tensorflow:Assets written to: ./checkpoints/V4.1.3\\FOLD-0\\assets\n"
     ]
    },
    {
     "name": "stderr",
     "output_type": "stream",
     "text": [
      "INFO:tensorflow:Assets written to: ./checkpoints/V4.1.3\\FOLD-0\\assets\n"
     ]
    },
    {
     "name": "stdout",
     "output_type": "stream",
     "text": [
      "210/210 [==============================] - 137s 504ms/step - loss: 6.4274 - accuracy: 0.5488 - val_loss: 4.4003 - val_accuracy: 0.2958 - lr: 0.0010\n",
      "Epoch 2/55\n",
      "210/210 [==============================] - ETA: 0s - loss: 1.0232 - accuracy: 0.6060\n",
      "Epoch 2: val_loss improved from 4.40026 to 1.22267, saving model to ./checkpoints/V4.1.3\\FOLD-0\n",
      "INFO:tensorflow:Assets written to: ./checkpoints/V4.1.3\\FOLD-0\\assets\n"
     ]
    },
    {
     "name": "stderr",
     "output_type": "stream",
     "text": [
      "INFO:tensorflow:Assets written to: ./checkpoints/V4.1.3\\FOLD-0\\assets\n"
     ]
    },
    {
     "name": "stdout",
     "output_type": "stream",
     "text": [
      "210/210 [==============================] - 113s 540ms/step - loss: 1.0232 - accuracy: 0.6060 - val_loss: 1.2227 - val_accuracy: 0.4375 - lr: 0.0010\n",
      "Epoch 3/55\n",
      "210/210 [==============================] - ETA: 0s - loss: 0.8541 - accuracy: 0.6399\n",
      "Epoch 3: val_loss improved from 1.22267 to 0.58597, saving model to ./checkpoints/V4.1.3\\FOLD-0\n",
      "INFO:tensorflow:Assets written to: ./checkpoints/V4.1.3\\FOLD-0\\assets\n"
     ]
    },
    {
     "name": "stderr",
     "output_type": "stream",
     "text": [
      "INFO:tensorflow:Assets written to: ./checkpoints/V4.1.3\\FOLD-0\\assets\n"
     ]
    },
    {
     "name": "stdout",
     "output_type": "stream",
     "text": [
      "210/210 [==============================] - 89s 422ms/step - loss: 0.8541 - accuracy: 0.6399 - val_loss: 0.5860 - val_accuracy: 0.7583 - lr: 0.0010\n",
      "Epoch 4/55\n",
      "210/210 [==============================] - ETA: 0s - loss: 0.8923 - accuracy: 0.6286\n",
      "Epoch 4: val_loss did not improve from 0.58597\n",
      "210/210 [==============================] - 82s 392ms/step - loss: 0.8923 - accuracy: 0.6286 - val_loss: 1.1844 - val_accuracy: 0.4458 - lr: 0.0010\n",
      "Epoch 5/55\n",
      "210/210 [==============================] - ETA: 0s - loss: 0.8460 - accuracy: 0.6143\n",
      "Epoch 5: val_loss did not improve from 0.58597\n",
      "210/210 [==============================] - 83s 393ms/step - loss: 0.8460 - accuracy: 0.6143 - val_loss: 1.0662 - val_accuracy: 0.5958 - lr: 0.0010\n",
      "Epoch 6/55\n",
      "210/210 [==============================] - ETA: 0s - loss: 0.9359 - accuracy: 0.6179\n",
      "Epoch 6: val_loss did not improve from 0.58597\n",
      "210/210 [==============================] - 82s 392ms/step - loss: 0.9359 - accuracy: 0.6179 - val_loss: 1.1281 - val_accuracy: 0.4792 - lr: 0.0010\n",
      "Epoch 7/55\n",
      "210/210 [==============================] - ETA: 0s - loss: 0.8610 - accuracy: 0.6601\n",
      "Epoch 7: val_loss did not improve from 0.58597\n",
      "210/210 [==============================] - 82s 391ms/step - loss: 0.8610 - accuracy: 0.6601 - val_loss: 0.8084 - val_accuracy: 0.6000 - lr: 0.0010\n",
      "Epoch 8/55\n",
      "210/210 [==============================] - ETA: 0s - loss: 0.8625 - accuracy: 0.6417\n",
      "Epoch 8: val_loss did not improve from 0.58597\n",
      "210/210 [==============================] - 82s 391ms/step - loss: 0.8625 - accuracy: 0.6417 - val_loss: 0.7419 - val_accuracy: 0.7000 - lr: 0.0010\n",
      "Epoch 9/55\n",
      "210/210 [==============================] - ETA: 0s - loss: 0.9605 - accuracy: 0.6363\n",
      "Epoch 9: val_loss did not improve from 0.58597\n",
      "210/210 [==============================] - 83s 395ms/step - loss: 0.9605 - accuracy: 0.6363 - val_loss: 0.6857 - val_accuracy: 0.6958 - lr: 0.0010\n",
      "Epoch 10/55\n",
      "210/210 [==============================] - ETA: 0s - loss: 0.8198 - accuracy: 0.6601\n",
      "Epoch 10: val_loss did not improve from 0.58597\n",
      "210/210 [==============================] - 83s 393ms/step - loss: 0.8198 - accuracy: 0.6601 - val_loss: 2.9063 - val_accuracy: 0.2750 - lr: 0.0010\n",
      "Epoch 11/55\n",
      "210/210 [==============================] - ETA: 0s - loss: 0.7241 - accuracy: 0.7065\n",
      "Epoch 11: val_loss improved from 0.58597 to 0.56317, saving model to ./checkpoints/V4.1.3\\FOLD-0\n",
      "INFO:tensorflow:Assets written to: ./checkpoints/V4.1.3\\FOLD-0\\assets\n"
     ]
    },
    {
     "name": "stderr",
     "output_type": "stream",
     "text": [
      "INFO:tensorflow:Assets written to: ./checkpoints/V4.1.3\\FOLD-0\\assets\n"
     ]
    },
    {
     "name": "stdout",
     "output_type": "stream",
     "text": [
      "210/210 [==============================] - 89s 424ms/step - loss: 0.7241 - accuracy: 0.7065 - val_loss: 0.5632 - val_accuracy: 0.7792 - lr: 0.0010\n",
      "Epoch 12/55\n",
      "210/210 [==============================] - ETA: 0s - loss: 0.7967 - accuracy: 0.6911\n",
      "Epoch 12: val_loss did not improve from 0.56317\n",
      "210/210 [==============================] - 83s 393ms/step - loss: 0.7967 - accuracy: 0.6911 - val_loss: 1.4642 - val_accuracy: 0.6250 - lr: 0.0010\n",
      "Epoch 13/55\n",
      "210/210 [==============================] - ETA: 0s - loss: 0.7539 - accuracy: 0.7119\n",
      "Epoch 13: val_loss did not improve from 0.56317\n",
      "210/210 [==============================] - 83s 393ms/step - loss: 0.7539 - accuracy: 0.7119 - val_loss: 1.1864 - val_accuracy: 0.6750 - lr: 0.0010\n",
      "Epoch 14/55\n",
      "210/210 [==============================] - ETA: 0s - loss: 0.7850 - accuracy: 0.7125\n",
      "Epoch 14: val_loss did not improve from 0.56317\n",
      "210/210 [==============================] - 82s 393ms/step - loss: 0.7850 - accuracy: 0.7125 - val_loss: 1.5373 - val_accuracy: 0.3667 - lr: 0.0010\n",
      "Epoch 15/55\n",
      "210/210 [==============================] - ETA: 0s - loss: 0.7747 - accuracy: 0.6976\n",
      "Epoch 15: val_loss did not improve from 0.56317\n",
      "210/210 [==============================] - 82s 392ms/step - loss: 0.7747 - accuracy: 0.6976 - val_loss: 0.8274 - val_accuracy: 0.6458 - lr: 0.0010\n",
      "Epoch 16/55\n",
      "210/210 [==============================] - ETA: 0s - loss: 0.6769 - accuracy: 0.7405\n",
      "Epoch 16: val_loss did not improve from 0.56317\n",
      "210/210 [==============================] - 82s 392ms/step - loss: 0.6769 - accuracy: 0.7405 - val_loss: 1.0374 - val_accuracy: 0.6125 - lr: 0.0010\n",
      "Epoch 17/55\n",
      "210/210 [==============================] - ETA: 0s - loss: 0.7518 - accuracy: 0.7000\n",
      "Epoch 17: val_loss did not improve from 0.56317\n",
      "210/210 [==============================] - 82s 392ms/step - loss: 0.7518 - accuracy: 0.7000 - val_loss: 0.8078 - val_accuracy: 0.6792 - lr: 0.0010\n",
      "Epoch 18/55\n",
      "210/210 [==============================] - ETA: 0s - loss: 0.6653 - accuracy: 0.7554\n",
      "Epoch 18: val_loss did not improve from 0.56317\n",
      "210/210 [==============================] - 82s 392ms/step - loss: 0.6653 - accuracy: 0.7554 - val_loss: 0.9913 - val_accuracy: 0.7125 - lr: 0.0010\n",
      "Epoch 19/55\n",
      "210/210 [==============================] - ETA: 0s - loss: 0.6965 - accuracy: 0.7452\n",
      "Epoch 19: val_loss did not improve from 0.56317\n",
      "210/210 [==============================] - 83s 396ms/step - loss: 0.6965 - accuracy: 0.7452 - val_loss: 1.9406 - val_accuracy: 0.5333 - lr: 0.0010\n",
      "Epoch 20/55\n",
      "210/210 [==============================] - ETA: 0s - loss: 0.7893 - accuracy: 0.7018\n",
      "Epoch 20: val_loss did not improve from 0.56317\n",
      "210/210 [==============================] - 82s 392ms/step - loss: 0.7893 - accuracy: 0.7018 - val_loss: 1.0449 - val_accuracy: 0.5667 - lr: 0.0010\n",
      "Epoch 21/55\n",
      "210/210 [==============================] - ETA: 0s - loss: 0.7084 - accuracy: 0.7435\n",
      "Epoch 21: val_loss did not improve from 0.56317\n",
      "210/210 [==============================] - 82s 392ms/step - loss: 0.7084 - accuracy: 0.7435 - val_loss: 3.4416 - val_accuracy: 0.3292 - lr: 0.0010\n",
      "Epoch 22/55\n",
      "210/210 [==============================] - ETA: 0s - loss: 0.6679 - accuracy: 0.7601\n",
      "Epoch 22: val_loss did not improve from 0.56317\n",
      "210/210 [==============================] - 83s 393ms/step - loss: 0.6679 - accuracy: 0.7601 - val_loss: 0.8957 - val_accuracy: 0.6583 - lr: 0.0010\n",
      "Epoch 23/55\n",
      "210/210 [==============================] - ETA: 0s - loss: 0.6103 - accuracy: 0.7631\n",
      "Epoch 23: val_loss did not improve from 0.56317\n",
      "210/210 [==============================] - 83s 394ms/step - loss: 0.6103 - accuracy: 0.7631 - val_loss: 0.6349 - val_accuracy: 0.7750 - lr: 0.0010\n",
      "Epoch 24/55\n",
      "210/210 [==============================] - ETA: 0s - loss: 0.6423 - accuracy: 0.7565\n",
      "Epoch 24: val_loss did not improve from 0.56317\n",
      "210/210 [==============================] - 82s 393ms/step - loss: 0.6423 - accuracy: 0.7565 - val_loss: 0.6585 - val_accuracy: 0.7250 - lr: 0.0010\n",
      "Epoch 25/55\n",
      "210/210 [==============================] - ETA: 0s - loss: 0.6211 - accuracy: 0.7518\n",
      "Epoch 25: val_loss did not improve from 0.56317\n",
      "210/210 [==============================] - 82s 391ms/step - loss: 0.6211 - accuracy: 0.7518 - val_loss: 0.8366 - val_accuracy: 0.7375 - lr: 0.0010\n",
      "Epoch 26/55\n",
      "210/210 [==============================] - ETA: 0s - loss: 0.5906 - accuracy: 0.7887\n",
      "Epoch 26: val_loss improved from 0.56317 to 0.41231, saving model to ./checkpoints/V4.1.3\\FOLD-0\n",
      "INFO:tensorflow:Assets written to: ./checkpoints/V4.1.3\\FOLD-0\\assets\n"
     ]
    },
    {
     "name": "stderr",
     "output_type": "stream",
     "text": [
      "INFO:tensorflow:Assets written to: ./checkpoints/V4.1.3\\FOLD-0\\assets\n"
     ]
    },
    {
     "name": "stdout",
     "output_type": "stream",
     "text": [
      "210/210 [==============================] - 89s 423ms/step - loss: 0.5906 - accuracy: 0.7887 - val_loss: 0.4123 - val_accuracy: 0.8375 - lr: 0.0010\n",
      "Epoch 27/55\n",
      "210/210 [==============================] - ETA: 0s - loss: 0.5833 - accuracy: 0.7762\n",
      "Epoch 27: val_loss did not improve from 0.41231\n",
      "210/210 [==============================] - 83s 393ms/step - loss: 0.5833 - accuracy: 0.7762 - val_loss: 3.6773 - val_accuracy: 0.3417 - lr: 0.0010\n",
      "Epoch 28/55\n",
      "210/210 [==============================] - ETA: 0s - loss: 0.6012 - accuracy: 0.7714\n",
      "Epoch 28: val_loss did not improve from 0.41231\n",
      "210/210 [==============================] - 83s 393ms/step - loss: 0.6012 - accuracy: 0.7714 - val_loss: 0.6401 - val_accuracy: 0.7375 - lr: 0.0010\n",
      "Epoch 29/55\n",
      "210/210 [==============================] - ETA: 0s - loss: 0.6139 - accuracy: 0.7690\n",
      "Epoch 29: val_loss did not improve from 0.41231\n",
      "210/210 [==============================] - 82s 390ms/step - loss: 0.6139 - accuracy: 0.7690 - val_loss: 1.2384 - val_accuracy: 0.5708 - lr: 0.0010\n",
      "Epoch 30/55\n",
      "210/210 [==============================] - ETA: 0s - loss: 0.5836 - accuracy: 0.7613\n",
      "Epoch 30: val_loss did not improve from 0.41231\n",
      "210/210 [==============================] - 82s 392ms/step - loss: 0.5836 - accuracy: 0.7613 - val_loss: 0.8889 - val_accuracy: 0.7042 - lr: 0.0010\n",
      "Epoch 31/55\n",
      "210/210 [==============================] - ETA: 0s - loss: 0.5994 - accuracy: 0.7625\n",
      "Epoch 31: val_loss did not improve from 0.41231\n",
      "210/210 [==============================] - 82s 392ms/step - loss: 0.5994 - accuracy: 0.7625 - val_loss: 1.2888 - val_accuracy: 0.6750 - lr: 0.0010\n",
      "Epoch 32/55\n",
      "210/210 [==============================] - ETA: 0s - loss: 0.6080 - accuracy: 0.7756\n",
      "Epoch 32: val_loss did not improve from 0.41231\n",
      "210/210 [==============================] - 82s 391ms/step - loss: 0.6080 - accuracy: 0.7756 - val_loss: 0.7546 - val_accuracy: 0.7083 - lr: 0.0010\n",
      "Epoch 33/55\n",
      "210/210 [==============================] - ETA: 0s - loss: 0.5198 - accuracy: 0.8006\n",
      "Epoch 33: val_loss did not improve from 0.41231\n",
      "210/210 [==============================] - 82s 392ms/step - loss: 0.5198 - accuracy: 0.8006 - val_loss: 0.8484 - val_accuracy: 0.6458 - lr: 0.0010\n",
      "Epoch 34/55\n",
      "210/210 [==============================] - ETA: 0s - loss: 0.5211 - accuracy: 0.7970\n",
      "Epoch 34: val_loss did not improve from 0.41231\n",
      "210/210 [==============================] - 83s 396ms/step - loss: 0.5211 - accuracy: 0.7970 - val_loss: 0.9047 - val_accuracy: 0.6292 - lr: 0.0010\n",
      "Epoch 35/55\n",
      "210/210 [==============================] - ETA: 0s - loss: 0.5115 - accuracy: 0.8036\n",
      "Epoch 35: val_loss improved from 0.41231 to 0.37803, saving model to ./checkpoints/V4.1.3\\FOLD-0\n",
      "INFO:tensorflow:Assets written to: ./checkpoints/V4.1.3\\FOLD-0\\assets\n"
     ]
    },
    {
     "name": "stderr",
     "output_type": "stream",
     "text": [
      "INFO:tensorflow:Assets written to: ./checkpoints/V4.1.3\\FOLD-0\\assets\n"
     ]
    },
    {
     "name": "stdout",
     "output_type": "stream",
     "text": [
      "210/210 [==============================] - 88s 420ms/step - loss: 0.5115 - accuracy: 0.8036 - val_loss: 0.3780 - val_accuracy: 0.8708 - lr: 0.0010\n",
      "Epoch 36/55\n",
      "210/210 [==============================] - ETA: 0s - loss: 0.5046 - accuracy: 0.8024\n",
      "Epoch 36: val_loss did not improve from 0.37803\n",
      "210/210 [==============================] - 82s 393ms/step - loss: 0.5046 - accuracy: 0.8024 - val_loss: 0.5861 - val_accuracy: 0.7333 - lr: 0.0010\n",
      "Epoch 37/55\n",
      "210/210 [==============================] - ETA: 0s - loss: 0.4911 - accuracy: 0.8202\n",
      "Epoch 37: val_loss did not improve from 0.37803\n",
      "210/210 [==============================] - 82s 391ms/step - loss: 0.4911 - accuracy: 0.8202 - val_loss: 0.5547 - val_accuracy: 0.7875 - lr: 0.0010\n",
      "Epoch 38/55\n",
      "210/210 [==============================] - ETA: 0s - loss: 0.4901 - accuracy: 0.8089\n",
      "Epoch 38: val_loss did not improve from 0.37803\n",
      "210/210 [==============================] - 82s 393ms/step - loss: 0.4901 - accuracy: 0.8089 - val_loss: 1.7711 - val_accuracy: 0.4833 - lr: 0.0010\n",
      "Epoch 39/55\n",
      "210/210 [==============================] - ETA: 0s - loss: 0.5459 - accuracy: 0.8012\n",
      "Epoch 39: val_loss did not improve from 0.37803\n",
      "210/210 [==============================] - 82s 392ms/step - loss: 0.5459 - accuracy: 0.8012 - val_loss: 0.9727 - val_accuracy: 0.6208 - lr: 0.0010\n",
      "Epoch 40/55\n",
      "210/210 [==============================] - ETA: 0s - loss: 0.4645 - accuracy: 0.8333\n",
      "Epoch 40: val_loss did not improve from 0.37803\n",
      "210/210 [==============================] - 82s 391ms/step - loss: 0.4645 - accuracy: 0.8333 - val_loss: 0.6889 - val_accuracy: 0.7083 - lr: 0.0010\n",
      "Epoch 41/55\n",
      "210/210 [==============================] - ETA: 0s - loss: 0.4576 - accuracy: 0.8345\n",
      "Epoch 41: val_loss did not improve from 0.37803\n",
      "210/210 [==============================] - 82s 392ms/step - loss: 0.4576 - accuracy: 0.8345 - val_loss: 1.1808 - val_accuracy: 0.5542 - lr: 0.0010\n",
      "Epoch 42/55\n",
      "210/210 [==============================] - ETA: 0s - loss: 0.5051 - accuracy: 0.8179\n",
      "Epoch 42: val_loss did not improve from 0.37803\n",
      "210/210 [==============================] - 82s 392ms/step - loss: 0.5051 - accuracy: 0.8179 - val_loss: 0.6359 - val_accuracy: 0.7333 - lr: 0.0010\n",
      "Epoch 43/55\n",
      "210/210 [==============================] - ETA: 0s - loss: 0.5252 - accuracy: 0.7929\n",
      "Epoch 43: val_loss did not improve from 0.37803\n",
      "210/210 [==============================] - 82s 392ms/step - loss: 0.5252 - accuracy: 0.7929 - val_loss: 0.7649 - val_accuracy: 0.7208 - lr: 0.0010\n",
      "Epoch 44/55\n",
      "210/210 [==============================] - ETA: 0s - loss: 0.4937 - accuracy: 0.8202\n",
      "Epoch 44: val_loss did not improve from 0.37803\n",
      "210/210 [==============================] - 82s 391ms/step - loss: 0.4937 - accuracy: 0.8202 - val_loss: 1.0116 - val_accuracy: 0.5875 - lr: 0.0010\n",
      "Epoch 45/55\n",
      "210/210 [==============================] - ETA: 0s - loss: 0.4307 - accuracy: 0.8333\n",
      "Epoch 45: val_loss did not improve from 0.37803\n",
      "210/210 [==============================] - 83s 396ms/step - loss: 0.4307 - accuracy: 0.8333 - val_loss: 0.4682 - val_accuracy: 0.8500 - lr: 0.0010\n",
      "Epoch 46/55\n",
      "210/210 [==============================] - ETA: 0s - loss: 0.4424 - accuracy: 0.8321\n",
      "Epoch 46: val_loss did not improve from 0.37803\n",
      "210/210 [==============================] - 82s 392ms/step - loss: 0.4424 - accuracy: 0.8321 - val_loss: 0.5566 - val_accuracy: 0.8167 - lr: 0.0010\n",
      "Epoch 47/55\n",
      "210/210 [==============================] - ETA: 0s - loss: 0.4636 - accuracy: 0.8262\n",
      "Epoch 47: val_loss did not improve from 0.37803\n",
      "210/210 [==============================] - 83s 394ms/step - loss: 0.4636 - accuracy: 0.8262 - val_loss: 0.8878 - val_accuracy: 0.6625 - lr: 0.0010\n",
      "Epoch 48/55\n",
      "210/210 [==============================] - ETA: 0s - loss: 0.4024 - accuracy: 0.8542\n",
      "Epoch 48: val_loss did not improve from 0.37803\n",
      "210/210 [==============================] - 82s 393ms/step - loss: 0.4024 - accuracy: 0.8542 - val_loss: 0.7027 - val_accuracy: 0.7750 - lr: 0.0010\n",
      "Epoch 49/55\n",
      "210/210 [==============================] - ETA: 0s - loss: 0.4556 - accuracy: 0.8363\n",
      "Epoch 49: val_loss did not improve from 0.37803\n",
      "210/210 [==============================] - 83s 394ms/step - loss: 0.4556 - accuracy: 0.8363 - val_loss: 1.3284 - val_accuracy: 0.5417 - lr: 0.0010\n",
      "Epoch 50/55\n",
      "210/210 [==============================] - ETA: 0s - loss: 0.4635 - accuracy: 0.8357\n",
      "Epoch 50: ReduceLROnPlateau reducing learning rate to 0.0006000000284984708.\n",
      "\n",
      "Epoch 50: val_loss did not improve from 0.37803\n",
      "210/210 [==============================] - 82s 393ms/step - loss: 0.4635 - accuracy: 0.8357 - val_loss: 1.5093 - val_accuracy: 0.4958 - lr: 0.0010\n",
      "Epoch 51/55\n",
      "210/210 [==============================] - ETA: 0s - loss: 0.5128 - accuracy: 0.8113\n",
      "Epoch 51: val_loss did not improve from 0.37803\n",
      "210/210 [==============================] - 82s 391ms/step - loss: 0.5128 - accuracy: 0.8113 - val_loss: 1.1965 - val_accuracy: 0.5792 - lr: 6.0000e-04\n",
      "Epoch 52/55\n",
      "210/210 [==============================] - ETA: 0s - loss: 0.3734 - accuracy: 0.8768\n",
      "Epoch 52: val_loss did not improve from 0.37803\n",
      "210/210 [==============================] - 82s 393ms/step - loss: 0.3734 - accuracy: 0.8768 - val_loss: 0.4952 - val_accuracy: 0.7708 - lr: 6.0000e-04\n",
      "Epoch 53/55\n",
      "210/210 [==============================] - ETA: 0s - loss: 0.3870 - accuracy: 0.8583\n",
      "Epoch 53: val_loss did not improve from 0.37803\n",
      "210/210 [==============================] - 83s 394ms/step - loss: 0.3870 - accuracy: 0.8583 - val_loss: 1.0339 - val_accuracy: 0.7125 - lr: 6.0000e-04\n",
      "Epoch 54/55\n",
      "210/210 [==============================] - ETA: 0s - loss: 0.3555 - accuracy: 0.8702\n",
      "Epoch 54: val_loss did not improve from 0.37803\n",
      "210/210 [==============================] - 82s 392ms/step - loss: 0.3555 - accuracy: 0.8702 - val_loss: 0.5286 - val_accuracy: 0.7458 - lr: 6.0000e-04\n",
      "Epoch 55/55\n",
      "210/210 [==============================] - ETA: 0s - loss: 0.3844 - accuracy: 0.8506\n",
      "Epoch 55: val_loss did not improve from 0.37803\n",
      "210/210 [==============================] - 82s 392ms/step - loss: 0.3844 - accuracy: 0.8506 - val_loss: 1.7786 - val_accuracy: 0.4917 - lr: 6.0000e-04\n"
     ]
    },
    {
     "data": {
      "image/png": "[encoded data removed]",
      "text/plain": [
       "<Figure size 300x200 with 1 Axes>"
      ]
     },
     "metadata": {},
     "output_type": "display_data"
    },
    {
     "data": {
      "image/png": "[encoded data removed]",
      "text/plain": [
       "<Figure size 300x200 with 1 Axes>"
      ]
     },
     "metadata": {},
     "output_type": "display_data"
    },
    {
     "name": "stdout",
     "output_type": "stream",
     "text": [
      "WARNING:tensorflow:From C:\\Users\\user\\Documents\\Machine-Learning-Hub-1\\ImageClassification\\Neptune-Thesis\\venv\\lib\\site-packages\\keras\\src\\saving\\legacy\\saved_model\\load.py:107: The name tf.gfile.Exists is deprecated. Please use tf.io.gfile.exists instead.\n",
      "\n"
     ]
    },
    {
     "name": "stderr",
     "output_type": "stream",
     "text": [
      "WARNING:tensorflow:From C:\\Users\\user\\Documents\\Machine-Learning-Hub-1\\ImageClassification\\Neptune-Thesis\\venv\\lib\\site-packages\\keras\\src\\saving\\legacy\\saved_model\\load.py:107: The name tf.gfile.Exists is deprecated. Please use tf.io.gfile.exists instead.\n",
      "\n"
     ]
    },
    {
     "name": "stdout",
     "output_type": "stream",
     "text": [
      "Fold Training Time: 1 hour(s) and 17 mins\n",
      "Precision: 89.99999761581421  -  Recall: 82.4999988079071\n",
      "Accuracy: 87.08333373069763\n",
      "F1Score: Building 79.06977844238281 | Plant 92.43697357177734 | Road 97.4358901977539 | Vehicle 80.0\n",
      "[neptune] [info   ] Shutting down background jobs, please wait a moment...\n",
      "[neptune] [info   ] Done!\n",
      "[neptune] [info   ] Neptune initialized. Open in the app: offline/32683ae2-577c-4d78-82f3-ddb9e8129f05\n",
      "Epoch 1/55\n",
      "210/210 [==============================] - ETA: 0s - loss: 7.6314 - accuracy: 0.5393\n",
      "Epoch 1: val_loss improved from inf to 2.33086, saving model to ./checkpoints/V4.1.3\\FOLD-1\n",
      "INFO:tensorflow:Assets written to: ./checkpoints/V4.1.3\\FOLD-1\\assets\n"
     ]
    },
    {
     "name": "stderr",
     "output_type": "stream",
     "text": [
      "INFO:tensorflow:Assets written to: ./checkpoints/V4.1.3\\FOLD-1\\assets\n"
     ]
    },
    {
     "name": "stdout",
     "output_type": "stream",
     "text": [
      "210/210 [==============================] - 95s 432ms/step - loss: 7.6314 - accuracy: 0.5393 - val_loss: 2.3309 - val_accuracy: 0.3542 - lr: 0.0010\n",
      "Epoch 2/55\n",
      "210/210 [==============================] - ETA: 0s - loss: 0.8900 - accuracy: 0.6452\n",
      "Epoch 2: val_loss improved from 2.33086 to 1.13981, saving model to ./checkpoints/V4.1.3\\FOLD-1\n",
      "INFO:tensorflow:Assets written to: ./checkpoints/V4.1.3\\FOLD-1\\assets\n"
     ]
    },
    {
     "name": "stderr",
     "output_type": "stream",
     "text": [
      "INFO:tensorflow:Assets written to: ./checkpoints/V4.1.3\\FOLD-1\\assets\n"
     ]
    },
    {
     "name": "stdout",
     "output_type": "stream",
     "text": [
      "210/210 [==============================] - 88s 420ms/step - loss: 0.8900 - accuracy: 0.6452 - val_loss: 1.1398 - val_accuracy: 0.4500 - lr: 0.0010\n",
      "Epoch 3/55\n",
      "210/210 [==============================] - ETA: 0s - loss: 0.8336 - accuracy: 0.6560\n",
      "Epoch 3: val_loss did not improve from 1.13981\n",
      "210/210 [==============================] - 82s 392ms/step - loss: 0.8336 - accuracy: 0.6560 - val_loss: 1.2248 - val_accuracy: 0.5542 - lr: 0.0010\n",
      "Epoch 4/55\n",
      "210/210 [==============================] - ETA: 0s - loss: 0.8730 - accuracy: 0.6583\n",
      "Epoch 4: val_loss did not improve from 1.13981\n",
      "210/210 [==============================] - 82s 392ms/step - loss: 0.8730 - accuracy: 0.6583 - val_loss: 4.0689 - val_accuracy: 0.5042 - lr: 0.0010\n",
      "Epoch 5/55\n",
      "210/210 [==============================] - ETA: 0s - loss: 0.7915 - accuracy: 0.7000\n",
      "Epoch 5: val_loss did not improve from 1.13981\n",
      "210/210 [==============================] - 82s 391ms/step - loss: 0.7915 - accuracy: 0.7000 - val_loss: 1.4481 - val_accuracy: 0.5458 - lr: 0.0010\n",
      "Epoch 6/55\n",
      "210/210 [==============================] - ETA: 0s - loss: 0.8789 - accuracy: 0.6458\n",
      "Epoch 6: val_loss improved from 1.13981 to 0.62561, saving model to ./checkpoints/V4.1.3\\FOLD-1\n",
      "INFO:tensorflow:Assets written to: ./checkpoints/V4.1.3\\FOLD-1\\assets\n"
     ]
    },
    {
     "name": "stderr",
     "output_type": "stream",
     "text": [
      "INFO:tensorflow:Assets written to: ./checkpoints/V4.1.3\\FOLD-1\\assets\n"
     ]
    },
    {
     "name": "stdout",
     "output_type": "stream",
     "text": [
      "210/210 [==============================] - 88s 418ms/step - loss: 0.8789 - accuracy: 0.6458 - val_loss: 0.6256 - val_accuracy: 0.6667 - lr: 0.0010\n",
      "Epoch 7/55\n",
      "210/210 [==============================] - ETA: 0s - loss: 0.7428 - accuracy: 0.6845\n",
      "Epoch 7: val_loss did not improve from 0.62561\n",
      "210/210 [==============================] - 82s 390ms/step - loss: 0.7428 - accuracy: 0.6845 - val_loss: 2.7741 - val_accuracy: 0.3875 - lr: 0.0010\n",
      "Epoch 8/55\n",
      "210/210 [==============================] - ETA: 0s - loss: 0.8617 - accuracy: 0.6554\n",
      "Epoch 8: val_loss improved from 0.62561 to 0.60748, saving model to ./checkpoints/V4.1.3\\FOLD-1\n",
      "INFO:tensorflow:Assets written to: ./checkpoints/V4.1.3\\FOLD-1\\assets\n"
     ]
    },
    {
     "name": "stderr",
     "output_type": "stream",
     "text": [
      "INFO:tensorflow:Assets written to: ./checkpoints/V4.1.3\\FOLD-1\\assets\n"
     ]
    },
    {
     "name": "stdout",
     "output_type": "stream",
     "text": [
      "210/210 [==============================] - 89s 422ms/step - loss: 0.8617 - accuracy: 0.6554 - val_loss: 0.6075 - val_accuracy: 0.7750 - lr: 0.0010\n",
      "Epoch 9/55\n",
      "210/210 [==============================] - ETA: 0s - loss: 0.9187 - accuracy: 0.6577\n",
      "Epoch 9: val_loss did not improve from 0.60748\n",
      "210/210 [==============================] - 83s 393ms/step - loss: 0.9187 - accuracy: 0.6577 - val_loss: 1.3443 - val_accuracy: 0.3958 - lr: 0.0010\n",
      "Epoch 10/55\n",
      "210/210 [==============================] - ETA: 0s - loss: 0.8274 - accuracy: 0.6738\n",
      "Epoch 10: val_loss did not improve from 0.60748\n",
      "210/210 [==============================] - 82s 392ms/step - loss: 0.8274 - accuracy: 0.6738 - val_loss: 0.8783 - val_accuracy: 0.7167 - lr: 0.0010\n",
      "Epoch 11/55\n",
      "210/210 [==============================] - ETA: 0s - loss: 0.9127 - accuracy: 0.6357\n",
      "Epoch 11: val_loss did not improve from 0.60748\n",
      "210/210 [==============================] - 83s 393ms/step - loss: 0.9127 - accuracy: 0.6357 - val_loss: 1.0778 - val_accuracy: 0.5917 - lr: 0.0010\n",
      "Epoch 12/55\n",
      "210/210 [==============================] - ETA: 0s - loss: 0.8388 - accuracy: 0.6827\n",
      "Epoch 12: val_loss did not improve from 0.60748\n",
      "210/210 [==============================] - 84s 401ms/step - loss: 0.8388 - accuracy: 0.6827 - val_loss: 0.9620 - val_accuracy: 0.5958 - lr: 0.0010\n",
      "Epoch 13/55\n",
      "210/210 [==============================] - ETA: 0s - loss: 0.7994 - accuracy: 0.6679\n",
      "Epoch 13: val_loss did not improve from 0.60748\n",
      "210/210 [==============================] - 84s 399ms/step - loss: 0.7994 - accuracy: 0.6679 - val_loss: 1.5051 - val_accuracy: 0.6333 - lr: 0.0010\n",
      "Epoch 14/55\n",
      "210/210 [==============================] - ETA: 0s - loss: 0.8125 - accuracy: 0.6982\n",
      "Epoch 14: val_loss did not improve from 0.60748\n",
      "210/210 [==============================] - 83s 393ms/step - loss: 0.8125 - accuracy: 0.6982 - val_loss: 1.0889 - val_accuracy: 0.5917 - lr: 0.0010\n",
      "Epoch 15/55\n",
      "210/210 [==============================] - ETA: 0s - loss: 0.8168 - accuracy: 0.6851\n",
      "Epoch 15: val_loss did not improve from 0.60748\n",
      "210/210 [==============================] - 83s 394ms/step - loss: 0.8168 - accuracy: 0.6851 - val_loss: 0.7587 - val_accuracy: 0.6750 - lr: 0.0010\n",
      "Epoch 16/55\n",
      "210/210 [==============================] - ETA: 0s - loss: 0.7973 - accuracy: 0.7083\n",
      "Epoch 16: val_loss did not improve from 0.60748\n",
      "210/210 [==============================] - 83s 395ms/step - loss: 0.7973 - accuracy: 0.7083 - val_loss: 0.9334 - val_accuracy: 0.6375 - lr: 0.0010\n",
      "Epoch 17/55\n",
      "210/210 [==============================] - ETA: 0s - loss: 0.7068 - accuracy: 0.7238\n",
      "Epoch 17: val_loss did not improve from 0.60748\n",
      "210/210 [==============================] - 83s 393ms/step - loss: 0.7068 - accuracy: 0.7238 - val_loss: 1.3085 - val_accuracy: 0.4625 - lr: 0.0010\n",
      "Epoch 18/55\n",
      "210/210 [==============================] - ETA: 0s - loss: 0.7851 - accuracy: 0.7077\n",
      "Epoch 18: val_loss did not improve from 0.60748\n",
      "210/210 [==============================] - 83s 394ms/step - loss: 0.7851 - accuracy: 0.7077 - val_loss: 0.6534 - val_accuracy: 0.7083 - lr: 0.0010\n",
      "Epoch 19/55\n",
      "210/210 [==============================] - ETA: 0s - loss: 0.7475 - accuracy: 0.7137\n",
      "Epoch 19: val_loss did not improve from 0.60748\n",
      "210/210 [==============================] - 83s 393ms/step - loss: 0.7475 - accuracy: 0.7137 - val_loss: 3.5655 - val_accuracy: 0.3042 - lr: 0.0010\n",
      "Epoch 20/55\n",
      "210/210 [==============================] - ETA: 0s - loss: 0.6430 - accuracy: 0.7429\n",
      "Epoch 20: val_loss did not improve from 0.60748\n",
      "210/210 [==============================] - 83s 393ms/step - loss: 0.6430 - accuracy: 0.7429 - val_loss: 0.8576 - val_accuracy: 0.6500 - lr: 0.0010\n",
      "Epoch 21/55\n",
      "210/210 [==============================] - ETA: 0s - loss: 0.6585 - accuracy: 0.7470\n",
      "Epoch 21: val_loss did not improve from 0.60748\n",
      "210/210 [==============================] - 82s 393ms/step - loss: 0.6585 - accuracy: 0.7470 - val_loss: 2.1754 - val_accuracy: 0.3917 - lr: 0.0010\n",
      "Epoch 22/55\n",
      "210/210 [==============================] - ETA: 0s - loss: 0.6730 - accuracy: 0.7333\n",
      "Epoch 22: val_loss did not improve from 0.60748\n",
      "210/210 [==============================] - 83s 393ms/step - loss: 0.6730 - accuracy: 0.7333 - val_loss: 1.6609 - val_accuracy: 0.3750 - lr: 0.0010\n",
      "Epoch 23/55\n",
      "210/210 [==============================] - ETA: 0s - loss: 0.8134 - accuracy: 0.6827\n",
      "Epoch 23: ReduceLROnPlateau reducing learning rate to 0.0006000000284984708.\n",
      "\n",
      "Epoch 23: val_loss did not improve from 0.60748\n",
      "210/210 [==============================] - 84s 399ms/step - loss: 0.8134 - accuracy: 0.6827 - val_loss: 0.9968 - val_accuracy: 0.5625 - lr: 0.0010\n",
      "Epoch 24/55\n",
      "210/210 [==============================] - ETA: 0s - loss: 0.6655 - accuracy: 0.7625\n",
      "Epoch 24: val_loss improved from 0.60748 to 0.45915, saving model to ./checkpoints/V4.1.3\\FOLD-1\n",
      "INFO:tensorflow:Assets written to: ./checkpoints/V4.1.3\\FOLD-1\\assets\n"
     ]
    },
    {
     "name": "stderr",
     "output_type": "stream",
     "text": [
      "INFO:tensorflow:Assets written to: ./checkpoints/V4.1.3\\FOLD-1\\assets\n"
     ]
    },
    {
     "name": "stdout",
     "output_type": "stream",
     "text": [
      "210/210 [==============================] - 88s 421ms/step - loss: 0.6655 - accuracy: 0.7625 - val_loss: 0.4591 - val_accuracy: 0.8333 - lr: 6.0000e-04\n",
      "Epoch 25/55\n",
      "210/210 [==============================] - ETA: 0s - loss: 0.5978 - accuracy: 0.7774\n",
      "Epoch 25: val_loss did not improve from 0.45915\n",
      "210/210 [==============================] - 82s 393ms/step - loss: 0.5978 - accuracy: 0.7774 - val_loss: 0.5903 - val_accuracy: 0.7750 - lr: 6.0000e-04\n",
      "Epoch 26/55\n",
      "210/210 [==============================] - ETA: 0s - loss: 0.5643 - accuracy: 0.7863\n",
      "Epoch 26: val_loss did not improve from 0.45915\n",
      "210/210 [==============================] - 83s 394ms/step - loss: 0.5643 - accuracy: 0.7863 - val_loss: 0.8470 - val_accuracy: 0.7125 - lr: 6.0000e-04\n",
      "Epoch 27/55\n",
      "210/210 [==============================] - ETA: 0s - loss: 0.5478 - accuracy: 0.7911\n",
      "Epoch 27: val_loss did not improve from 0.45915\n",
      "210/210 [==============================] - 82s 393ms/step - loss: 0.5478 - accuracy: 0.7911 - val_loss: 0.4609 - val_accuracy: 0.8292 - lr: 6.0000e-04\n",
      "Epoch 28/55\n",
      "210/210 [==============================] - ETA: 0s - loss: 0.5629 - accuracy: 0.7827\n",
      "Epoch 28: val_loss did not improve from 0.45915\n",
      "210/210 [==============================] - 83s 393ms/step - loss: 0.5629 - accuracy: 0.7827 - val_loss: 0.6926 - val_accuracy: 0.7917 - lr: 6.0000e-04\n",
      "Epoch 29/55\n",
      "210/210 [==============================] - ETA: 0s - loss: 0.5481 - accuracy: 0.7875\n",
      "Epoch 29: val_loss did not improve from 0.45915\n",
      "210/210 [==============================] - 83s 394ms/step - loss: 0.5481 - accuracy: 0.7875 - val_loss: 0.4727 - val_accuracy: 0.8333 - lr: 6.0000e-04\n",
      "Epoch 30/55\n",
      "210/210 [==============================] - ETA: 0s - loss: 0.5009 - accuracy: 0.7958\n",
      "Epoch 30: val_loss did not improve from 0.45915\n",
      "210/210 [==============================] - 83s 394ms/step - loss: 0.5009 - accuracy: 0.7958 - val_loss: 0.8085 - val_accuracy: 0.7417 - lr: 6.0000e-04\n",
      "Epoch 31/55\n",
      "210/210 [==============================] - ETA: 0s - loss: 0.4954 - accuracy: 0.8137\n",
      "Epoch 31: val_loss did not improve from 0.45915\n",
      "210/210 [==============================] - 83s 395ms/step - loss: 0.4954 - accuracy: 0.8137 - val_loss: 0.7458 - val_accuracy: 0.7208 - lr: 6.0000e-04\n",
      "Epoch 32/55\n",
      "210/210 [==============================] - ETA: 0s - loss: 0.5078 - accuracy: 0.8083\n",
      "Epoch 32: val_loss did not improve from 0.45915\n",
      "210/210 [==============================] - 83s 393ms/step - loss: 0.5078 - accuracy: 0.8083 - val_loss: 0.5458 - val_accuracy: 0.8083 - lr: 6.0000e-04\n",
      "Epoch 33/55\n",
      "210/210 [==============================] - ETA: 0s - loss: 0.5789 - accuracy: 0.7833\n",
      "Epoch 33: val_loss did not improve from 0.45915\n",
      "210/210 [==============================] - 83s 394ms/step - loss: 0.5789 - accuracy: 0.7833 - val_loss: 0.5512 - val_accuracy: 0.7750 - lr: 6.0000e-04\n",
      "Epoch 34/55\n",
      "210/210 [==============================] - ETA: 0s - loss: 0.5289 - accuracy: 0.7940\n",
      "Epoch 34: val_loss did not improve from 0.45915\n",
      "210/210 [==============================] - 83s 398ms/step - loss: 0.5289 - accuracy: 0.7940 - val_loss: 0.5533 - val_accuracy: 0.7833 - lr: 6.0000e-04\n",
      "Epoch 35/55\n",
      "210/210 [==============================] - ETA: 0s - loss: 0.4888 - accuracy: 0.8137\n",
      "Epoch 35: val_loss did not improve from 0.45915\n",
      "210/210 [==============================] - 82s 392ms/step - loss: 0.4888 - accuracy: 0.8137 - val_loss: 0.6972 - val_accuracy: 0.7375 - lr: 6.0000e-04\n",
      "Epoch 36/55\n",
      "210/210 [==============================] - ETA: 0s - loss: 0.4689 - accuracy: 0.8268\n",
      "Epoch 36: val_loss did not improve from 0.45915\n",
      "210/210 [==============================] - 83s 394ms/step - loss: 0.4689 - accuracy: 0.8268 - val_loss: 0.6938 - val_accuracy: 0.7875 - lr: 6.0000e-04\n",
      "Epoch 37/55\n",
      "210/210 [==============================] - ETA: 0s - loss: 0.4973 - accuracy: 0.8077\n",
      "Epoch 37: val_loss improved from 0.45915 to 0.40605, saving model to ./checkpoints/V4.1.3\\FOLD-1\n",
      "INFO:tensorflow:Assets written to: ./checkpoints/V4.1.3\\FOLD-1\\assets\n"
     ]
    },
    {
     "name": "stderr",
     "output_type": "stream",
     "text": [
      "INFO:tensorflow:Assets written to: ./checkpoints/V4.1.3\\FOLD-1\\assets\n"
     ]
    },
    {
     "name": "stdout",
     "output_type": "stream",
     "text": [
      "210/210 [==============================] - 89s 423ms/step - loss: 0.4973 - accuracy: 0.8077 - val_loss: 0.4060 - val_accuracy: 0.8500 - lr: 6.0000e-04\n",
      "Epoch 38/55\n",
      "210/210 [==============================] - ETA: 0s - loss: 0.4775 - accuracy: 0.8077\n",
      "Epoch 38: val_loss did not improve from 0.40605\n",
      "210/210 [==============================] - 83s 394ms/step - loss: 0.4775 - accuracy: 0.8077 - val_loss: 0.7394 - val_accuracy: 0.6875 - lr: 6.0000e-04\n",
      "Epoch 39/55\n",
      "210/210 [==============================] - ETA: 0s - loss: 0.4670 - accuracy: 0.8256\n",
      "Epoch 39: val_loss did not improve from 0.40605\n",
      "210/210 [==============================] - 83s 393ms/step - loss: 0.4670 - accuracy: 0.8256 - val_loss: 0.8673 - val_accuracy: 0.6500 - lr: 6.0000e-04\n",
      "Epoch 40/55\n",
      "210/210 [==============================] - ETA: 0s - loss: 0.5503 - accuracy: 0.7875\n",
      "Epoch 40: val_loss did not improve from 0.40605\n",
      "210/210 [==============================] - 83s 394ms/step - loss: 0.5503 - accuracy: 0.7875 - val_loss: 2.5295 - val_accuracy: 0.3750 - lr: 6.0000e-04\n",
      "Epoch 41/55\n",
      "210/210 [==============================] - ETA: 0s - loss: 0.4863 - accuracy: 0.8101\n",
      "Epoch 41: val_loss improved from 0.40605 to 0.38285, saving model to ./checkpoints/V4.1.3\\FOLD-1\n",
      "INFO:tensorflow:Assets written to: ./checkpoints/V4.1.3\\FOLD-1\\assets\n"
     ]
    },
    {
     "name": "stderr",
     "output_type": "stream",
     "text": [
      "INFO:tensorflow:Assets written to: ./checkpoints/V4.1.3\\FOLD-1\\assets\n"
     ]
    },
    {
     "name": "stdout",
     "output_type": "stream",
     "text": [
      "210/210 [==============================] - 89s 422ms/step - loss: 0.4863 - accuracy: 0.8101 - val_loss: 0.3829 - val_accuracy: 0.8500 - lr: 6.0000e-04\n",
      "Epoch 42/55\n",
      "210/210 [==============================] - ETA: 0s - loss: 0.4512 - accuracy: 0.8196\n",
      "Epoch 42: val_loss did not improve from 0.38285\n",
      "210/210 [==============================] - 83s 395ms/step - loss: 0.4512 - accuracy: 0.8196 - val_loss: 0.5228 - val_accuracy: 0.8125 - lr: 6.0000e-04\n",
      "Epoch 43/55\n",
      "210/210 [==============================] - ETA: 0s - loss: 0.4519 - accuracy: 0.8137\n",
      "Epoch 43: val_loss did not improve from 0.38285\n",
      "210/210 [==============================] - 83s 393ms/step - loss: 0.4519 - accuracy: 0.8137 - val_loss: 0.4527 - val_accuracy: 0.8167 - lr: 6.0000e-04\n",
      "Epoch 44/55\n",
      "210/210 [==============================] - ETA: 0s - loss: 0.4224 - accuracy: 0.8327\n",
      "Epoch 44: val_loss did not improve from 0.38285\n",
      "210/210 [==============================] - 84s 399ms/step - loss: 0.4224 - accuracy: 0.8327 - val_loss: 0.4463 - val_accuracy: 0.8458 - lr: 6.0000e-04\n",
      "Epoch 45/55\n",
      "210/210 [==============================] - ETA: 0s - loss: 0.4484 - accuracy: 0.8244\n",
      "Epoch 45: val_loss did not improve from 0.38285\n",
      "210/210 [==============================] - 83s 397ms/step - loss: 0.4484 - accuracy: 0.8244 - val_loss: 0.5702 - val_accuracy: 0.7458 - lr: 6.0000e-04\n",
      "Epoch 46/55\n",
      "210/210 [==============================] - ETA: 0s - loss: 0.5384 - accuracy: 0.7988\n",
      "Epoch 46: val_loss did not improve from 0.38285\n",
      "210/210 [==============================] - 82s 392ms/step - loss: 0.5384 - accuracy: 0.7988 - val_loss: 0.6492 - val_accuracy: 0.7500 - lr: 6.0000e-04\n",
      "Epoch 47/55\n",
      "210/210 [==============================] - ETA: 0s - loss: 0.4562 - accuracy: 0.8202\n",
      "Epoch 47: val_loss did not improve from 0.38285\n",
      "210/210 [==============================] - 83s 396ms/step - loss: 0.4562 - accuracy: 0.8202 - val_loss: 0.5369 - val_accuracy: 0.7875 - lr: 6.0000e-04\n",
      "Epoch 48/55\n",
      "210/210 [==============================] - ETA: 0s - loss: 0.4228 - accuracy: 0.8375\n",
      "Epoch 48: val_loss improved from 0.38285 to 0.37153, saving model to ./checkpoints/V4.1.3\\FOLD-1\n",
      "INFO:tensorflow:Assets written to: ./checkpoints/V4.1.3\\FOLD-1\\assets\n"
     ]
    },
    {
     "name": "stderr",
     "output_type": "stream",
     "text": [
      "INFO:tensorflow:Assets written to: ./checkpoints/V4.1.3\\FOLD-1\\assets\n"
     ]
    },
    {
     "name": "stdout",
     "output_type": "stream",
     "text": [
      "210/210 [==============================] - 89s 422ms/step - loss: 0.4228 - accuracy: 0.8375 - val_loss: 0.3715 - val_accuracy: 0.8583 - lr: 6.0000e-04\n",
      "Epoch 49/55\n",
      "210/210 [==============================] - ETA: 0s - loss: 0.5195 - accuracy: 0.8006\n",
      "Epoch 49: val_loss did not improve from 0.37153\n",
      "210/210 [==============================] - 82s 392ms/step - loss: 0.5195 - accuracy: 0.8006 - val_loss: 0.4689 - val_accuracy: 0.8292 - lr: 6.0000e-04\n",
      "Epoch 50/55\n",
      "210/210 [==============================] - ETA: 0s - loss: 0.4468 - accuracy: 0.8202\n",
      "Epoch 50: val_loss did not improve from 0.37153\n",
      "210/210 [==============================] - 82s 392ms/step - loss: 0.4468 - accuracy: 0.8202 - val_loss: 0.4561 - val_accuracy: 0.8417 - lr: 6.0000e-04\n",
      "Epoch 51/55\n",
      "210/210 [==============================] - ETA: 0s - loss: 0.4341 - accuracy: 0.8268\n",
      "Epoch 51: val_loss did not improve from 0.37153\n",
      "210/210 [==============================] - 83s 393ms/step - loss: 0.4341 - accuracy: 0.8268 - val_loss: 0.6275 - val_accuracy: 0.7708 - lr: 6.0000e-04\n",
      "Epoch 52/55\n",
      "210/210 [==============================] - ETA: 0s - loss: 0.4148 - accuracy: 0.8393\n",
      "Epoch 52: val_loss did not improve from 0.37153\n",
      "210/210 [==============================] - 83s 393ms/step - loss: 0.4148 - accuracy: 0.8393 - val_loss: 0.3733 - val_accuracy: 0.8417 - lr: 6.0000e-04\n",
      "Epoch 53/55\n",
      "210/210 [==============================] - ETA: 0s - loss: 0.4798 - accuracy: 0.8143\n",
      "Epoch 53: val_loss did not improve from 0.37153\n",
      "210/210 [==============================] - 82s 392ms/step - loss: 0.4798 - accuracy: 0.8143 - val_loss: 1.3074 - val_accuracy: 0.5125 - lr: 6.0000e-04\n",
      "Epoch 54/55\n",
      "210/210 [==============================] - ETA: 0s - loss: 0.4364 - accuracy: 0.8244\n",
      "Epoch 54: val_loss did not improve from 0.37153\n",
      "210/210 [==============================] - 83s 393ms/step - loss: 0.4364 - accuracy: 0.8244 - val_loss: 2.2268 - val_accuracy: 0.4292 - lr: 6.0000e-04\n",
      "Epoch 55/55\n",
      "210/210 [==============================] - ETA: 0s - loss: 0.4771 - accuracy: 0.8179\n",
      "Epoch 55: val_loss did not improve from 0.37153\n",
      "210/210 [==============================] - 83s 394ms/step - loss: 0.4771 - accuracy: 0.8179 - val_loss: 0.7246 - val_accuracy: 0.7542 - lr: 6.0000e-04\n"
     ]
    },
    {
     "data": {
      "image/png": "[encoded data removed]",
      "text/plain": [
       "<Figure size 300x200 with 1 Axes>"
      ]
     },
     "metadata": {},
     "output_type": "display_data"
    },
    {
     "data": {
      "image/png": "[encoded data removed]",
      "text/plain": [
       "<Figure size 300x200 with 1 Axes>"
      ]
     },
     "metadata": {},
     "output_type": "display_data"
    },
    {
     "name": "stdout",
     "output_type": "stream",
     "text": [
      "Fold Training Time: 1 hour(s) and 16 mins\n",
      "Precision: 86.5217387676239  -  Recall: 82.91666507720947\n",
      "Accuracy: 85.83333492279053\n",
      "F1Score: Building 78.9916000366211 | Plant 90.76923370361328 | Road 92.85714721679688 | Vehicle 80.67227172851562\n",
      "[neptune] [info   ] Shutting down background jobs, please wait a moment...\n",
      "[neptune] [info   ] Done!\n",
      "[neptune] [info   ] Neptune initialized. Open in the app: offline/959e4742-f29e-4327-ad9a-4e8d8923c307\n",
      "Epoch 1/55\n",
      "210/210 [==============================] - ETA: 0s - loss: 6.3124 - accuracy: 0.5524\n",
      "Epoch 1: val_loss improved from inf to 1.78243, saving model to ./checkpoints/V4.1.3\\FOLD-2\n",
      "INFO:tensorflow:Assets written to: ./checkpoints/V4.1.3\\FOLD-2\\assets\n"
     ]
    },
    {
     "name": "stderr",
     "output_type": "stream",
     "text": [
      "INFO:tensorflow:Assets written to: ./checkpoints/V4.1.3\\FOLD-2\\assets\n"
     ]
    },
    {
     "name": "stdout",
     "output_type": "stream",
     "text": [
      "210/210 [==============================] - 95s 428ms/step - loss: 6.3124 - accuracy: 0.5524 - val_loss: 1.7824 - val_accuracy: 0.2625 - lr: 0.0010\n",
      "Epoch 2/55\n",
      "210/210 [==============================] - ETA: 0s - loss: 0.9557 - accuracy: 0.6060\n",
      "Epoch 2: val_loss improved from 1.78243 to 1.14141, saving model to ./checkpoints/V4.1.3\\FOLD-2\n",
      "INFO:tensorflow:Assets written to: ./checkpoints/V4.1.3\\FOLD-2\\assets\n"
     ]
    },
    {
     "name": "stderr",
     "output_type": "stream",
     "text": [
      "INFO:tensorflow:Assets written to: ./checkpoints/V4.1.3\\FOLD-2\\assets\n"
     ]
    },
    {
     "name": "stdout",
     "output_type": "stream",
     "text": [
      "210/210 [==============================] - 89s 423ms/step - loss: 0.9557 - accuracy: 0.6060 - val_loss: 1.1414 - val_accuracy: 0.4917 - lr: 0.0010\n",
      "Epoch 3/55\n",
      "210/210 [==============================] - ETA: 0s - loss: 0.8828 - accuracy: 0.6149\n",
      "Epoch 3: val_loss improved from 1.14141 to 1.04770, saving model to ./checkpoints/V4.1.3\\FOLD-2\n",
      "INFO:tensorflow:Assets written to: ./checkpoints/V4.1.3\\FOLD-2\\assets\n"
     ]
    },
    {
     "name": "stderr",
     "output_type": "stream",
     "text": [
      "INFO:tensorflow:Assets written to: ./checkpoints/V4.1.3\\FOLD-2\\assets\n"
     ]
    },
    {
     "name": "stdout",
     "output_type": "stream",
     "text": [
      "210/210 [==============================] - 93s 443ms/step - loss: 0.8828 - accuracy: 0.6149 - val_loss: 1.0477 - val_accuracy: 0.5250 - lr: 0.0010\n",
      "Epoch 4/55\n",
      "210/210 [==============================] - ETA: 0s - loss: 0.8567 - accuracy: 0.6304\n",
      "Epoch 4: val_loss did not improve from 1.04770\n",
      "210/210 [==============================] - 83s 394ms/step - loss: 0.8567 - accuracy: 0.6304 - val_loss: 2.6623 - val_accuracy: 0.3958 - lr: 0.0010\n",
      "Epoch 5/55\n",
      "210/210 [==============================] - ETA: 0s - loss: 0.7797 - accuracy: 0.6685\n",
      "Epoch 5: val_loss did not improve from 1.04770\n",
      "210/210 [==============================] - 82s 392ms/step - loss: 0.7797 - accuracy: 0.6685 - val_loss: 1.7198 - val_accuracy: 0.4542 - lr: 0.0010\n",
      "Epoch 6/55\n",
      "210/210 [==============================] - ETA: 0s - loss: 0.8680 - accuracy: 0.6595\n",
      "Epoch 6: val_loss improved from 1.04770 to 0.77601, saving model to ./checkpoints/V4.1.3\\FOLD-2\n",
      "INFO:tensorflow:Assets written to: ./checkpoints/V4.1.3\\FOLD-2\\assets\n"
     ]
    },
    {
     "name": "stderr",
     "output_type": "stream",
     "text": [
      "INFO:tensorflow:Assets written to: ./checkpoints/V4.1.3\\FOLD-2\\assets\n"
     ]
    },
    {
     "name": "stdout",
     "output_type": "stream",
     "text": [
      "210/210 [==============================] - 88s 420ms/step - loss: 0.8680 - accuracy: 0.6595 - val_loss: 0.7760 - val_accuracy: 0.6625 - lr: 0.0010\n",
      "Epoch 7/55\n",
      "210/210 [==============================] - ETA: 0s - loss: 0.9278 - accuracy: 0.6274\n",
      "Epoch 7: val_loss did not improve from 0.77601\n",
      "210/210 [==============================] - 83s 396ms/step - loss: 0.9278 - accuracy: 0.6274 - val_loss: 1.5166 - val_accuracy: 0.5667 - lr: 0.0010\n",
      "Epoch 8/55\n",
      "210/210 [==============================] - ETA: 0s - loss: 0.9668 - accuracy: 0.5845\n",
      "Epoch 8: val_loss did not improve from 0.77601\n",
      "210/210 [==============================] - 82s 392ms/step - loss: 0.9668 - accuracy: 0.5845 - val_loss: 3.5379 - val_accuracy: 0.3042 - lr: 0.0010\n",
      "Epoch 9/55\n",
      "210/210 [==============================] - ETA: 0s - loss: 0.9097 - accuracy: 0.6315\n",
      "Epoch 9: val_loss did not improve from 0.77601\n",
      "210/210 [==============================] - 82s 392ms/step - loss: 0.9097 - accuracy: 0.6315 - val_loss: 1.1187 - val_accuracy: 0.6042 - lr: 0.0010\n",
      "Epoch 10/55\n",
      "210/210 [==============================] - ETA: 0s - loss: 0.8975 - accuracy: 0.6315\n",
      "Epoch 10: val_loss did not improve from 0.77601\n",
      "210/210 [==============================] - 83s 394ms/step - loss: 0.8975 - accuracy: 0.6315 - val_loss: 1.7155 - val_accuracy: 0.4833 - lr: 0.0010\n",
      "Epoch 11/55\n",
      "210/210 [==============================] - ETA: 0s - loss: 0.8580 - accuracy: 0.6369\n",
      "Epoch 11: val_loss did not improve from 0.77601\n",
      "210/210 [==============================] - 83s 393ms/step - loss: 0.8580 - accuracy: 0.6369 - val_loss: 1.0662 - val_accuracy: 0.6000 - lr: 0.0010\n",
      "Epoch 12/55\n",
      "210/210 [==============================] - ETA: 0s - loss: 0.7980 - accuracy: 0.6875\n",
      "Epoch 12: val_loss did not improve from 0.77601\n",
      "210/210 [==============================] - 83s 395ms/step - loss: 0.7980 - accuracy: 0.6875 - val_loss: 4.5387 - val_accuracy: 0.3167 - lr: 0.0010\n",
      "Epoch 13/55\n",
      "210/210 [==============================] - ETA: 0s - loss: 0.7895 - accuracy: 0.6839\n",
      "Epoch 13: val_loss did not improve from 0.77601\n",
      "210/210 [==============================] - 83s 394ms/step - loss: 0.7895 - accuracy: 0.6839 - val_loss: 1.3282 - val_accuracy: 0.5625 - lr: 0.0010\n",
      "Epoch 14/55\n",
      "210/210 [==============================] - ETA: 0s - loss: 0.8813 - accuracy: 0.6494\n",
      "Epoch 14: val_loss did not improve from 0.77601\n",
      "210/210 [==============================] - 83s 393ms/step - loss: 0.8813 - accuracy: 0.6494 - val_loss: 1.2553 - val_accuracy: 0.4375 - lr: 0.0010\n",
      "Epoch 15/55\n",
      "210/210 [==============================] - ETA: 0s - loss: 0.8608 - accuracy: 0.6429\n",
      "Epoch 15: val_loss did not improve from 0.77601\n",
      "210/210 [==============================] - 82s 392ms/step - loss: 0.8608 - accuracy: 0.6429 - val_loss: 1.3256 - val_accuracy: 0.4042 - lr: 0.0010\n",
      "Epoch 16/55\n",
      "210/210 [==============================] - ETA: 0s - loss: 0.9860 - accuracy: 0.5625\n",
      "Epoch 16: val_loss did not improve from 0.77601\n",
      "210/210 [==============================] - 82s 392ms/step - loss: 0.9860 - accuracy: 0.5625 - val_loss: 1.1331 - val_accuracy: 0.4375 - lr: 0.0010\n",
      "Epoch 17/55\n",
      "210/210 [==============================] - ETA: 0s - loss: 0.9044 - accuracy: 0.6149\n",
      "Epoch 17: val_loss did not improve from 0.77601\n",
      "210/210 [==============================] - 83s 393ms/step - loss: 0.9044 - accuracy: 0.6149 - val_loss: 1.1782 - val_accuracy: 0.5000 - lr: 0.0010\n",
      "Epoch 18/55\n",
      "210/210 [==============================] - ETA: 0s - loss: 0.9924 - accuracy: 0.5881\n",
      "Epoch 18: val_loss did not improve from 0.77601\n",
      "210/210 [==============================] - 82s 392ms/step - loss: 0.9924 - accuracy: 0.5881 - val_loss: 1.1799 - val_accuracy: 0.7042 - lr: 0.0010\n",
      "Epoch 19/55\n",
      "210/210 [==============================] - ETA: 0s - loss: 0.8275 - accuracy: 0.6827\n",
      "Epoch 19: val_loss did not improve from 0.77601\n",
      "210/210 [==============================] - 82s 392ms/step - loss: 0.8275 - accuracy: 0.6827 - val_loss: 1.4996 - val_accuracy: 0.3125 - lr: 0.0010\n",
      "Epoch 20/55\n",
      "210/210 [==============================] - ETA: 0s - loss: 0.7594 - accuracy: 0.6952\n",
      "Epoch 20: val_loss did not improve from 0.77601\n",
      "210/210 [==============================] - 83s 393ms/step - loss: 0.7594 - accuracy: 0.6952 - val_loss: 0.9000 - val_accuracy: 0.6375 - lr: 0.0010\n",
      "Epoch 21/55\n",
      "210/210 [==============================] - ETA: 0s - loss: 0.7311 - accuracy: 0.6857\n",
      "Epoch 21: ReduceLROnPlateau reducing learning rate to 0.0006000000284984708.\n",
      "\n",
      "Epoch 21: val_loss did not improve from 0.77601\n",
      "210/210 [==============================] - 83s 393ms/step - loss: 0.7311 - accuracy: 0.6857 - val_loss: 3.0167 - val_accuracy: 0.5375 - lr: 0.0010\n",
      "Epoch 22/55\n",
      "210/210 [==============================] - ETA: 0s - loss: 0.7677 - accuracy: 0.6393\n",
      "Epoch 22: val_loss did not improve from 0.77601\n",
      "210/210 [==============================] - 83s 393ms/step - loss: 0.7677 - accuracy: 0.6393 - val_loss: 0.7852 - val_accuracy: 0.6333 - lr: 6.0000e-04\n",
      "Epoch 23/55\n",
      "210/210 [==============================] - ETA: 0s - loss: 0.6779 - accuracy: 0.6643\n",
      "Epoch 23: val_loss did not improve from 0.77601\n",
      "210/210 [==============================] - 83s 395ms/step - loss: 0.6779 - accuracy: 0.6643 - val_loss: 1.7236 - val_accuracy: 0.4500 - lr: 6.0000e-04\n",
      "Epoch 24/55\n",
      "210/210 [==============================] - ETA: 0s - loss: 0.6811 - accuracy: 0.6661\n",
      "Epoch 24: val_loss did not improve from 0.77601\n",
      "210/210 [==============================] - 83s 394ms/step - loss: 0.6811 - accuracy: 0.6661 - val_loss: 1.0197 - val_accuracy: 0.6208 - lr: 6.0000e-04\n",
      "Epoch 25/55\n",
      "210/210 [==============================] - ETA: 0s - loss: 0.6420 - accuracy: 0.6744\n",
      "Epoch 25: val_loss did not improve from 0.77601\n",
      "210/210 [==============================] - 82s 393ms/step - loss: 0.6420 - accuracy: 0.6744 - val_loss: 0.7811 - val_accuracy: 0.6500 - lr: 6.0000e-04\n",
      "Epoch 26/55\n",
      "210/210 [==============================] - ETA: 0s - loss: 0.6451 - accuracy: 0.6845\n",
      "Epoch 26: val_loss did not improve from 0.77601\n",
      "210/210 [==============================] - 82s 392ms/step - loss: 0.6451 - accuracy: 0.6845 - val_loss: 1.5418 - val_accuracy: 0.4833 - lr: 6.0000e-04\n",
      "Epoch 27/55\n",
      "210/210 [==============================] - ETA: 0s - loss: 0.6274 - accuracy: 0.6887\n",
      "Epoch 27: val_loss did not improve from 0.77601\n",
      "210/210 [==============================] - 82s 392ms/step - loss: 0.6274 - accuracy: 0.6887 - val_loss: 0.8318 - val_accuracy: 0.6500 - lr: 6.0000e-04\n",
      "Epoch 28/55\n",
      "210/210 [==============================] - ETA: 0s - loss: 0.6606 - accuracy: 0.6708\n",
      "Epoch 28: val_loss did not improve from 0.77601\n",
      "210/210 [==============================] - 82s 392ms/step - loss: 0.6606 - accuracy: 0.6708 - val_loss: 1.5283 - val_accuracy: 0.5958 - lr: 6.0000e-04\n",
      "Epoch 29/55\n",
      "210/210 [==============================] - ETA: 0s - loss: 0.6235 - accuracy: 0.6875\n",
      "Epoch 29: val_loss did not improve from 0.77601\n",
      "210/210 [==============================] - 83s 394ms/step - loss: 0.6235 - accuracy: 0.6875 - val_loss: 0.8464 - val_accuracy: 0.6875 - lr: 6.0000e-04\n"
     ]
    },
    {
     "data": {
      "image/png": "[encoded data removed]",
      "text/plain": [
       "<Figure size 300x200 with 1 Axes>"
      ]
     },
     "metadata": {},
     "output_type": "display_data"
    },
    {
     "data": {
      "image/png": "[encoded data removed]",
      "text/plain": [
       "<Figure size 300x200 with 1 Axes>"
      ]
     },
     "metadata": {},
     "output_type": "display_data"
    },
    {
     "name": "stdout",
     "output_type": "stream",
     "text": [
      "Fold Training Time: 0 hour(s) and 40 mins\n",
      "Precision: 85.49618124961853  -  Recall: 46.666666865348816\n",
      "Accuracy: 66.25000238418579\n",
      "F1Score: Building 46.25850296020508 | Plant 74.22679901123047 | Road 79.99999237060547 | Vehicle 71.75572967529297\n",
      "[neptune] [info   ] Shutting down background jobs, please wait a moment...\n",
      "[neptune] [info   ] Done!\n",
      "[neptune] [info   ] Neptune initialized. Open in the app: offline/81f266f4-d62f-49a2-bd5f-8fc79ae6d934\n",
      "Epoch 1/55\n",
      "210/210 [==============================] - ETA: 0s - loss: 7.2043 - accuracy: 0.5530\n",
      "Epoch 1: val_loss improved from inf to 2.70703, saving model to ./checkpoints/V4.1.3\\FOLD-3\n",
      "INFO:tensorflow:Assets written to: ./checkpoints/V4.1.3\\FOLD-3\\assets\n"
     ]
    },
    {
     "name": "stderr",
     "output_type": "stream",
     "text": [
      "INFO:tensorflow:Assets written to: ./checkpoints/V4.1.3\\FOLD-3\\assets\n"
     ]
    },
    {
     "name": "stdout",
     "output_type": "stream",
     "text": [
      "210/210 [==============================] - 92s 412ms/step - loss: 7.2043 - accuracy: 0.5530 - val_loss: 2.7070 - val_accuracy: 0.2917 - lr: 0.0010\n",
      "Epoch 2/55\n",
      "210/210 [==============================] - ETA: 0s - loss: 1.0430 - accuracy: 0.6107\n",
      "Epoch 2: val_loss improved from 2.70703 to 1.14218, saving model to ./checkpoints/V4.1.3\\FOLD-3\n",
      "INFO:tensorflow:Assets written to: ./checkpoints/V4.1.3\\FOLD-3\\assets\n"
     ]
    },
    {
     "name": "stderr",
     "output_type": "stream",
     "text": [
      "INFO:tensorflow:Assets written to: ./checkpoints/V4.1.3\\FOLD-3\\assets\n"
     ]
    },
    {
     "name": "stdout",
     "output_type": "stream",
     "text": [
      "210/210 [==============================] - 87s 412ms/step - loss: 1.0430 - accuracy: 0.6107 - val_loss: 1.1422 - val_accuracy: 0.5250 - lr: 0.0010\n",
      "Epoch 3/55\n",
      "210/210 [==============================] - ETA: 0s - loss: 0.8881 - accuracy: 0.6107\n",
      "Epoch 3: val_loss improved from 1.14218 to 0.64437, saving model to ./checkpoints/V4.1.3\\FOLD-3\n",
      "INFO:tensorflow:Assets written to: ./checkpoints/V4.1.3\\FOLD-3\\assets\n"
     ]
    },
    {
     "name": "stderr",
     "output_type": "stream",
     "text": [
      "INFO:tensorflow:Assets written to: ./checkpoints/V4.1.3\\FOLD-3\\assets\n"
     ]
    },
    {
     "name": "stdout",
     "output_type": "stream",
     "text": [
      "210/210 [==============================] - 87s 416ms/step - loss: 0.8881 - accuracy: 0.6107 - val_loss: 0.6444 - val_accuracy: 0.6875 - lr: 0.0010\n",
      "Epoch 4/55\n",
      "210/210 [==============================] - ETA: 0s - loss: 0.8045 - accuracy: 0.6690\n",
      "Epoch 4: val_loss did not improve from 0.64437\n",
      "210/210 [==============================] - 81s 384ms/step - loss: 0.8045 - accuracy: 0.6690 - val_loss: 0.8020 - val_accuracy: 0.7458 - lr: 0.0010\n",
      "Epoch 5/55\n",
      "210/210 [==============================] - ETA: 0s - loss: 0.7685 - accuracy: 0.6774\n",
      "Epoch 5: val_loss did not improve from 0.64437\n",
      "210/210 [==============================] - 82s 389ms/step - loss: 0.7685 - accuracy: 0.6774 - val_loss: 1.2539 - val_accuracy: 0.6250 - lr: 0.0010\n",
      "Epoch 6/55\n",
      "210/210 [==============================] - ETA: 0s - loss: 0.8490 - accuracy: 0.6345\n",
      "Epoch 6: val_loss did not improve from 0.64437\n",
      "210/210 [==============================] - 81s 385ms/step - loss: 0.8490 - accuracy: 0.6345 - val_loss: 0.7896 - val_accuracy: 0.6208 - lr: 0.0010\n",
      "Epoch 7/55\n",
      "210/210 [==============================] - ETA: 0s - loss: 0.8092 - accuracy: 0.6792\n",
      "Epoch 7: val_loss did not improve from 0.64437\n",
      "210/210 [==============================] - 81s 385ms/step - loss: 0.8092 - accuracy: 0.6792 - val_loss: 1.4607 - val_accuracy: 0.5958 - lr: 0.0010\n",
      "Epoch 8/55\n",
      "210/210 [==============================] - ETA: 0s - loss: 0.7633 - accuracy: 0.6702\n",
      "Epoch 8: val_loss did not improve from 0.64437\n",
      "210/210 [==============================] - 81s 384ms/step - loss: 0.7633 - accuracy: 0.6702 - val_loss: 0.6673 - val_accuracy: 0.6708 - lr: 0.0010\n",
      "Epoch 9/55\n",
      "210/210 [==============================] - ETA: 0s - loss: 0.7536 - accuracy: 0.7185\n",
      "Epoch 9: val_loss did not improve from 0.64437\n",
      "210/210 [==============================] - 81s 386ms/step - loss: 0.7536 - accuracy: 0.7185 - val_loss: 0.6704 - val_accuracy: 0.7667 - lr: 0.0010\n",
      "Epoch 10/55\n",
      "210/210 [==============================] - ETA: 0s - loss: 0.7615 - accuracy: 0.7024\n",
      "Epoch 10: val_loss did not improve from 0.64437\n",
      "210/210 [==============================] - 81s 385ms/step - loss: 0.7615 - accuracy: 0.7024 - val_loss: 1.2242 - val_accuracy: 0.5292 - lr: 0.0010\n",
      "Epoch 11/55\n",
      "210/210 [==============================] - ETA: 0s - loss: 0.7646 - accuracy: 0.7018\n",
      "Epoch 11: val_loss did not improve from 0.64437\n",
      "210/210 [==============================] - 81s 384ms/step - loss: 0.7646 - accuracy: 0.7018 - val_loss: 1.0610 - val_accuracy: 0.6000 - lr: 0.0010\n",
      "Epoch 12/55\n",
      "210/210 [==============================] - ETA: 0s - loss: 0.7189 - accuracy: 0.7280\n",
      "Epoch 12: val_loss did not improve from 0.64437\n",
      "210/210 [==============================] - 81s 384ms/step - loss: 0.7189 - accuracy: 0.7280 - val_loss: 4.2930 - val_accuracy: 0.4625 - lr: 0.0010\n",
      "Epoch 13/55\n",
      "210/210 [==============================] - ETA: 0s - loss: 0.7577 - accuracy: 0.7179\n",
      "Epoch 13: val_loss did not improve from 0.64437\n",
      "210/210 [==============================] - 81s 385ms/step - loss: 0.7577 - accuracy: 0.7179 - val_loss: 4.2288 - val_accuracy: 0.4333 - lr: 0.0010\n",
      "Epoch 14/55\n",
      "210/210 [==============================] - ETA: 0s - loss: 0.7819 - accuracy: 0.6845\n",
      "Epoch 14: val_loss did not improve from 0.64437\n",
      "210/210 [==============================] - 81s 385ms/step - loss: 0.7819 - accuracy: 0.6845 - val_loss: 1.4268 - val_accuracy: 0.4083 - lr: 0.0010\n",
      "Epoch 15/55\n",
      "210/210 [==============================] - ETA: 0s - loss: 0.7271 - accuracy: 0.7196\n",
      "Epoch 15: val_loss did not improve from 0.64437\n",
      "210/210 [==============================] - 81s 384ms/step - loss: 0.7271 - accuracy: 0.7196 - val_loss: 1.3420 - val_accuracy: 0.5625 - lr: 0.0010\n",
      "Epoch 16/55\n",
      "210/210 [==============================] - ETA: 0s - loss: 0.7391 - accuracy: 0.6994\n",
      "Epoch 16: val_loss did not improve from 0.64437\n",
      "210/210 [==============================] - 82s 388ms/step - loss: 0.7391 - accuracy: 0.6994 - val_loss: 1.4046 - val_accuracy: 0.4500 - lr: 0.0010\n",
      "Epoch 17/55\n",
      "210/210 [==============================] - ETA: 0s - loss: 0.7064 - accuracy: 0.7137\n",
      "Epoch 17: val_loss did not improve from 0.64437\n",
      "210/210 [==============================] - 82s 390ms/step - loss: 0.7064 - accuracy: 0.7137 - val_loss: 2.0037 - val_accuracy: 0.5250 - lr: 0.0010\n",
      "Epoch 18/55\n",
      "210/210 [==============================] - ETA: 0s - loss: 0.6530 - accuracy: 0.7405\n",
      "Epoch 18: ReduceLROnPlateau reducing learning rate to 0.0006000000284984708.\n",
      "\n",
      "Epoch 18: val_loss did not improve from 0.64437\n",
      "210/210 [==============================] - 82s 389ms/step - loss: 0.6530 - accuracy: 0.7405 - val_loss: 0.9878 - val_accuracy: 0.6000 - lr: 0.0010\n",
      "Epoch 19/55\n",
      "210/210 [==============================] - ETA: 0s - loss: 0.5913 - accuracy: 0.7667\n",
      "Epoch 19: val_loss improved from 0.64437 to 0.53704, saving model to ./checkpoints/V4.1.3\\FOLD-3\n",
      "INFO:tensorflow:Assets written to: ./checkpoints/V4.1.3\\FOLD-3\\assets\n"
     ]
    },
    {
     "name": "stderr",
     "output_type": "stream",
     "text": [
      "INFO:tensorflow:Assets written to: ./checkpoints/V4.1.3\\FOLD-3\\assets\n"
     ]
    },
    {
     "name": "stdout",
     "output_type": "stream",
     "text": [
      "210/210 [==============================] - 87s 413ms/step - loss: 0.5913 - accuracy: 0.7667 - val_loss: 0.5370 - val_accuracy: 0.7875 - lr: 6.0000e-04\n",
      "Epoch 20/55\n",
      "210/210 [==============================] - ETA: 0s - loss: 0.5237 - accuracy: 0.7970\n",
      "Epoch 20: val_loss did not improve from 0.53704\n",
      "210/210 [==============================] - 81s 385ms/step - loss: 0.5237 - accuracy: 0.7970 - val_loss: 0.6196 - val_accuracy: 0.7500 - lr: 6.0000e-04\n",
      "Epoch 21/55\n",
      "210/210 [==============================] - ETA: 0s - loss: 0.5741 - accuracy: 0.7798\n",
      "Epoch 21: val_loss did not improve from 0.53704\n",
      "210/210 [==============================] - 81s 384ms/step - loss: 0.5741 - accuracy: 0.7798 - val_loss: 0.5594 - val_accuracy: 0.7958 - lr: 6.0000e-04\n",
      "Epoch 22/55\n",
      "210/210 [==============================] - ETA: 0s - loss: 0.5484 - accuracy: 0.7756\n",
      "Epoch 22: val_loss did not improve from 0.53704\n",
      "210/210 [==============================] - 80s 383ms/step - loss: 0.5484 - accuracy: 0.7756 - val_loss: 1.3422 - val_accuracy: 0.5875 - lr: 6.0000e-04\n",
      "Epoch 23/55\n",
      "210/210 [==============================] - ETA: 0s - loss: 0.5533 - accuracy: 0.7702\n",
      "Epoch 23: val_loss improved from 0.53704 to 0.38928, saving model to ./checkpoints/V4.1.3\\FOLD-3\n",
      "INFO:tensorflow:Assets written to: ./checkpoints/V4.1.3\\FOLD-3\\assets\n"
     ]
    },
    {
     "name": "stderr",
     "output_type": "stream",
     "text": [
      "INFO:tensorflow:Assets written to: ./checkpoints/V4.1.3\\FOLD-3\\assets\n"
     ]
    },
    {
     "name": "stdout",
     "output_type": "stream",
     "text": [
      "210/210 [==============================] - 86s 410ms/step - loss: 0.5533 - accuracy: 0.7702 - val_loss: 0.3893 - val_accuracy: 0.8500 - lr: 6.0000e-04\n",
      "Epoch 24/55\n",
      "210/210 [==============================] - ETA: 0s - loss: 0.5394 - accuracy: 0.7857\n",
      "Epoch 24: val_loss did not improve from 0.38928\n",
      "210/210 [==============================] - 81s 383ms/step - loss: 0.5394 - accuracy: 0.7857 - val_loss: 0.8983 - val_accuracy: 0.6167 - lr: 6.0000e-04\n",
      "Epoch 25/55\n",
      "210/210 [==============================] - ETA: 0s - loss: 0.6276 - accuracy: 0.7512\n",
      "Epoch 25: val_loss did not improve from 0.38928\n",
      "210/210 [==============================] - 81s 384ms/step - loss: 0.6276 - accuracy: 0.7512 - val_loss: 0.5319 - val_accuracy: 0.8208 - lr: 6.0000e-04\n",
      "Epoch 26/55\n",
      "210/210 [==============================] - ETA: 0s - loss: 0.4773 - accuracy: 0.8167\n",
      "Epoch 26: val_loss did not improve from 0.38928\n",
      "210/210 [==============================] - 81s 384ms/step - loss: 0.4773 - accuracy: 0.8167 - val_loss: 0.5500 - val_accuracy: 0.7833 - lr: 6.0000e-04\n",
      "Epoch 27/55\n",
      "210/210 [==============================] - ETA: 0s - loss: 0.4815 - accuracy: 0.8143\n",
      "Epoch 27: val_loss did not improve from 0.38928\n",
      "210/210 [==============================] - 81s 383ms/step - loss: 0.4815 - accuracy: 0.8143 - val_loss: 0.4322 - val_accuracy: 0.8333 - lr: 6.0000e-04\n",
      "Epoch 28/55\n",
      "210/210 [==============================] - ETA: 0s - loss: 0.5262 - accuracy: 0.7905\n",
      "Epoch 28: val_loss did not improve from 0.38928\n",
      "210/210 [==============================] - 82s 389ms/step - loss: 0.5262 - accuracy: 0.7905 - val_loss: 0.6584 - val_accuracy: 0.7625 - lr: 6.0000e-04\n",
      "Epoch 29/55\n",
      "210/210 [==============================] - ETA: 0s - loss: 0.4969 - accuracy: 0.8095\n",
      "Epoch 29: val_loss did not improve from 0.38928\n",
      "210/210 [==============================] - 81s 384ms/step - loss: 0.4969 - accuracy: 0.8095 - val_loss: 0.4260 - val_accuracy: 0.8167 - lr: 6.0000e-04\n",
      "Epoch 30/55\n",
      "210/210 [==============================] - ETA: 0s - loss: 0.5025 - accuracy: 0.8143\n",
      "Epoch 30: val_loss did not improve from 0.38928\n",
      "210/210 [==============================] - 80s 383ms/step - loss: 0.5025 - accuracy: 0.8143 - val_loss: 0.5675 - val_accuracy: 0.7708 - lr: 6.0000e-04\n",
      "Epoch 31/55\n",
      "210/210 [==============================] - ETA: 0s - loss: 0.4925 - accuracy: 0.8161\n",
      "Epoch 31: val_loss did not improve from 0.38928\n",
      "210/210 [==============================] - 81s 384ms/step - loss: 0.4925 - accuracy: 0.8161 - val_loss: 1.3128 - val_accuracy: 0.5417 - lr: 6.0000e-04\n",
      "Epoch 32/55\n",
      "210/210 [==============================] - ETA: 0s - loss: 0.4666 - accuracy: 0.8161\n",
      "Epoch 32: val_loss did not improve from 0.38928\n",
      "210/210 [==============================] - 81s 384ms/step - loss: 0.4666 - accuracy: 0.8161 - val_loss: 0.5640 - val_accuracy: 0.7792 - lr: 6.0000e-04\n",
      "Epoch 33/55\n",
      "210/210 [==============================] - ETA: 0s - loss: 0.4907 - accuracy: 0.8060\n",
      "Epoch 33: val_loss did not improve from 0.38928\n",
      "210/210 [==============================] - 80s 383ms/step - loss: 0.4907 - accuracy: 0.8060 - val_loss: 0.9521 - val_accuracy: 0.6417 - lr: 6.0000e-04\n",
      "Epoch 34/55\n",
      "210/210 [==============================] - ETA: 0s - loss: 0.4936 - accuracy: 0.8101\n",
      "Epoch 34: val_loss did not improve from 0.38928\n",
      "210/210 [==============================] - 81s 383ms/step - loss: 0.4936 - accuracy: 0.8101 - val_loss: 0.7300 - val_accuracy: 0.7208 - lr: 6.0000e-04\n",
      "Epoch 35/55\n",
      "210/210 [==============================] - ETA: 0s - loss: 0.4728 - accuracy: 0.8137\n",
      "Epoch 35: val_loss did not improve from 0.38928\n",
      "210/210 [==============================] - 81s 384ms/step - loss: 0.4728 - accuracy: 0.8137 - val_loss: 0.4070 - val_accuracy: 0.8333 - lr: 6.0000e-04\n",
      "Epoch 36/55\n",
      "210/210 [==============================] - ETA: 0s - loss: 0.4554 - accuracy: 0.8161\n",
      "Epoch 36: val_loss did not improve from 0.38928\n",
      "210/210 [==============================] - 81s 385ms/step - loss: 0.4554 - accuracy: 0.8161 - val_loss: 1.5953 - val_accuracy: 0.5250 - lr: 6.0000e-04\n",
      "Epoch 37/55\n",
      "210/210 [==============================] - ETA: 0s - loss: 0.4628 - accuracy: 0.8286\n",
      "Epoch 37: val_loss did not improve from 0.38928\n",
      "210/210 [==============================] - 81s 384ms/step - loss: 0.4628 - accuracy: 0.8286 - val_loss: 0.6243 - val_accuracy: 0.7833 - lr: 6.0000e-04\n",
      "Epoch 38/55\n",
      "210/210 [==============================] - ETA: 0s - loss: 0.4755 - accuracy: 0.8167\n",
      "Epoch 38: ReduceLROnPlateau reducing learning rate to 0.0003600000170990825.\n",
      "\n",
      "Epoch 38: val_loss did not improve from 0.38928\n",
      "210/210 [==============================] - 80s 383ms/step - loss: 0.4755 - accuracy: 0.8167 - val_loss: 0.4627 - val_accuracy: 0.8167 - lr: 6.0000e-04\n",
      "Epoch 39/55\n",
      "210/210 [==============================] - ETA: 0s - loss: 0.4745 - accuracy: 0.8149\n",
      "Epoch 39: val_loss did not improve from 0.38928\n",
      "210/210 [==============================] - 82s 390ms/step - loss: 0.4745 - accuracy: 0.8149 - val_loss: 0.4322 - val_accuracy: 0.8417 - lr: 3.6000e-04\n",
      "Epoch 40/55\n",
      "210/210 [==============================] - ETA: 0s - loss: 0.4403 - accuracy: 0.8274\n",
      "Epoch 40: val_loss did not improve from 0.38928\n",
      "210/210 [==============================] - 81s 384ms/step - loss: 0.4403 - accuracy: 0.8274 - val_loss: 0.5018 - val_accuracy: 0.8208 - lr: 3.6000e-04\n",
      "Epoch 41/55\n",
      "210/210 [==============================] - ETA: 0s - loss: 0.4101 - accuracy: 0.8506\n",
      "Epoch 41: val_loss did not improve from 0.38928\n",
      "210/210 [==============================] - 80s 383ms/step - loss: 0.4101 - accuracy: 0.8506 - val_loss: 0.4264 - val_accuracy: 0.8417 - lr: 3.6000e-04\n",
      "Epoch 42/55\n",
      "210/210 [==============================] - ETA: 0s - loss: 0.4293 - accuracy: 0.8286\n",
      "Epoch 42: val_loss did not improve from 0.38928\n",
      "210/210 [==============================] - 81s 383ms/step - loss: 0.4293 - accuracy: 0.8286 - val_loss: 0.4036 - val_accuracy: 0.8625 - lr: 3.6000e-04\n",
      "Epoch 43/55\n",
      "210/210 [==============================] - ETA: 0s - loss: 0.4270 - accuracy: 0.8333\n",
      "Epoch 43: val_loss did not improve from 0.38928\n",
      "210/210 [==============================] - 80s 383ms/step - loss: 0.4270 - accuracy: 0.8333 - val_loss: 0.5376 - val_accuracy: 0.8042 - lr: 3.6000e-04\n",
      "Epoch 44/55\n",
      "210/210 [==============================] - ETA: 0s - loss: 0.3905 - accuracy: 0.8387\n",
      "Epoch 44: val_loss improved from 0.38928 to 0.35113, saving model to ./checkpoints/V4.1.3\\FOLD-3\n",
      "INFO:tensorflow:Assets written to: ./checkpoints/V4.1.3\\FOLD-3\\assets\n"
     ]
    },
    {
     "name": "stderr",
     "output_type": "stream",
     "text": [
      "INFO:tensorflow:Assets written to: ./checkpoints/V4.1.3\\FOLD-3\\assets\n"
     ]
    },
    {
     "name": "stdout",
     "output_type": "stream",
     "text": [
      "210/210 [==============================] - 86s 411ms/step - loss: 0.3905 - accuracy: 0.8387 - val_loss: 0.3511 - val_accuracy: 0.8667 - lr: 3.6000e-04\n",
      "Epoch 45/55\n",
      "210/210 [==============================] - ETA: 0s - loss: 0.3927 - accuracy: 0.8470\n",
      "Epoch 45: val_loss did not improve from 0.35113\n",
      "210/210 [==============================] - 81s 383ms/step - loss: 0.3927 - accuracy: 0.8470 - val_loss: 0.4135 - val_accuracy: 0.8250 - lr: 3.6000e-04\n",
      "Epoch 46/55\n",
      "210/210 [==============================] - ETA: 0s - loss: 0.4108 - accuracy: 0.8542\n",
      "Epoch 46: val_loss did not improve from 0.35113\n",
      "210/210 [==============================] - 81s 385ms/step - loss: 0.4108 - accuracy: 0.8542 - val_loss: 0.4443 - val_accuracy: 0.8250 - lr: 3.6000e-04\n",
      "Epoch 47/55\n",
      "210/210 [==============================] - ETA: 0s - loss: 0.4010 - accuracy: 0.8494\n",
      "Epoch 47: val_loss did not improve from 0.35113\n",
      "210/210 [==============================] - 81s 384ms/step - loss: 0.4010 - accuracy: 0.8494 - val_loss: 0.4302 - val_accuracy: 0.8500 - lr: 3.6000e-04\n",
      "Epoch 48/55\n",
      "210/210 [==============================] - ETA: 0s - loss: 0.3999 - accuracy: 0.8458\n",
      "Epoch 48: val_loss did not improve from 0.35113\n",
      "210/210 [==============================] - 81s 384ms/step - loss: 0.3999 - accuracy: 0.8458 - val_loss: 0.9046 - val_accuracy: 0.6500 - lr: 3.6000e-04\n",
      "Epoch 49/55\n",
      "210/210 [==============================] - ETA: 0s - loss: 0.4294 - accuracy: 0.8375\n",
      "Epoch 49: val_loss did not improve from 0.35113\n",
      "210/210 [==============================] - 81s 384ms/step - loss: 0.4294 - accuracy: 0.8375 - val_loss: 0.4503 - val_accuracy: 0.8208 - lr: 3.6000e-04\n",
      "Epoch 50/55\n",
      "210/210 [==============================] - ETA: 0s - loss: 0.3828 - accuracy: 0.8494\n",
      "Epoch 50: val_loss did not improve from 0.35113\n",
      "210/210 [==============================] - 81s 384ms/step - loss: 0.3828 - accuracy: 0.8494 - val_loss: 0.3714 - val_accuracy: 0.8708 - lr: 3.6000e-04\n",
      "Epoch 51/55\n",
      "210/210 [==============================] - ETA: 0s - loss: 0.3966 - accuracy: 0.8357\n",
      "Epoch 51: val_loss did not improve from 0.35113\n",
      "210/210 [==============================] - 82s 390ms/step - loss: 0.3966 - accuracy: 0.8357 - val_loss: 0.4211 - val_accuracy: 0.8458 - lr: 3.6000e-04\n",
      "Epoch 52/55\n",
      "210/210 [==============================] - ETA: 0s - loss: 0.3578 - accuracy: 0.8607\n",
      "Epoch 52: val_loss did not improve from 0.35113\n",
      "210/210 [==============================] - 81s 384ms/step - loss: 0.3578 - accuracy: 0.8607 - val_loss: 0.4962 - val_accuracy: 0.8083 - lr: 3.6000e-04\n",
      "Epoch 53/55\n",
      "210/210 [==============================] - ETA: 0s - loss: 0.3824 - accuracy: 0.8411\n",
      "Epoch 53: val_loss did not improve from 0.35113\n",
      "210/210 [==============================] - 81s 383ms/step - loss: 0.3824 - accuracy: 0.8411 - val_loss: 0.5231 - val_accuracy: 0.8125 - lr: 3.6000e-04\n",
      "Epoch 54/55\n",
      "210/210 [==============================] - ETA: 0s - loss: 0.3662 - accuracy: 0.8506\n",
      "Epoch 54: val_loss did not improve from 0.35113\n",
      "210/210 [==============================] - 81s 384ms/step - loss: 0.3662 - accuracy: 0.8506 - val_loss: 0.4869 - val_accuracy: 0.7958 - lr: 3.6000e-04\n",
      "Epoch 55/55\n",
      "210/210 [==============================] - ETA: 0s - loss: 0.3953 - accuracy: 0.8524\n",
      "Epoch 55: val_loss did not improve from 0.35113\n",
      "210/210 [==============================] - 81s 384ms/step - loss: 0.3953 - accuracy: 0.8524 - val_loss: 0.7221 - val_accuracy: 0.7042 - lr: 3.6000e-04\n"
     ]
    },
    {
     "data": {
      "image/png": "[encoded data removed]",
      "text/plain": [
       "<Figure size 300x200 with 1 Axes>"
      ]
     },
     "metadata": {},
     "output_type": "display_data"
    },
    {
     "data": {
      "image/png": "[encoded data removed]",
      "text/plain": [
       "<Figure size 300x200 with 1 Axes>"
      ]
     },
     "metadata": {},
     "output_type": "display_data"
    },
    {
     "name": "stdout",
     "output_type": "stream",
     "text": [
      "Fold Training Time: 1 hour(s) and 14 mins\n",
      "Precision: 89.49771523475647  -  Recall: 81.66666626930237\n",
      "Accuracy: 86.66666746139526\n",
      "F1Score: Building 76.5217514038086 | Plant 92.06349182128906 | Road 96.61016845703125 | Vehicle 80.99173736572266\n",
      "[neptune] [info   ] Shutting down background jobs, please wait a moment...\n",
      "[neptune] [info   ] Done!\n",
      "[neptune] [info   ] Neptune initialized. Open in the app: offline/11a1a9db-f8d4-4c7d-b40f-5f0381079c9a\n",
      "Epoch 1/55\n",
      "210/210 [==============================] - ETA: 0s - loss: 6.3835 - accuracy: 0.5452\n",
      "Epoch 1: val_loss improved from inf to 1.78308, saving model to ./checkpoints/V4.1.3\\FOLD-4\n",
      "INFO:tensorflow:Assets written to: ./checkpoints/V4.1.3\\FOLD-4\\assets\n"
     ]
    },
    {
     "name": "stderr",
     "output_type": "stream",
     "text": [
      "INFO:tensorflow:Assets written to: ./checkpoints/V4.1.3\\FOLD-4\\assets\n"
     ]
    },
    {
     "name": "stdout",
     "output_type": "stream",
     "text": [
      "210/210 [==============================] - 94s 420ms/step - loss: 6.3835 - accuracy: 0.5452 - val_loss: 1.7831 - val_accuracy: 0.4208 - lr: 0.0010\n",
      "Epoch 2/55\n",
      "210/210 [==============================] - ETA: 0s - loss: 0.9327 - accuracy: 0.6077\n",
      "Epoch 2: val_loss improved from 1.78308 to 0.76438, saving model to ./checkpoints/V4.1.3\\FOLD-4\n",
      "INFO:tensorflow:Assets written to: ./checkpoints/V4.1.3\\FOLD-4\\assets\n"
     ]
    },
    {
     "name": "stderr",
     "output_type": "stream",
     "text": [
      "INFO:tensorflow:Assets written to: ./checkpoints/V4.1.3\\FOLD-4\\assets\n"
     ]
    },
    {
     "name": "stdout",
     "output_type": "stream",
     "text": [
      "210/210 [==============================] - 86s 410ms/step - loss: 0.9327 - accuracy: 0.6077 - val_loss: 0.7644 - val_accuracy: 0.6500 - lr: 0.0010\n",
      "Epoch 3/55\n",
      "210/210 [==============================] - ETA: 0s - loss: 0.8368 - accuracy: 0.6250\n",
      "Epoch 3: val_loss did not improve from 0.76438\n",
      "210/210 [==============================] - 80s 383ms/step - loss: 0.8368 - accuracy: 0.6250 - val_loss: 0.8415 - val_accuracy: 0.7083 - lr: 0.0010\n",
      "Epoch 4/55\n",
      "210/210 [==============================] - ETA: 0s - loss: 0.8555 - accuracy: 0.6375\n",
      "Epoch 4: val_loss did not improve from 0.76438\n",
      "210/210 [==============================] - 80s 382ms/step - loss: 0.8555 - accuracy: 0.6375 - val_loss: 1.7510 - val_accuracy: 0.3583 - lr: 0.0010\n",
      "Epoch 5/55\n",
      "210/210 [==============================] - ETA: 0s - loss: 0.8114 - accuracy: 0.6345\n",
      "Epoch 5: val_loss did not improve from 0.76438\n",
      "210/210 [==============================] - 80s 382ms/step - loss: 0.8114 - accuracy: 0.6345 - val_loss: 2.1834 - val_accuracy: 0.4708 - lr: 0.0010\n",
      "Epoch 6/55\n",
      "210/210 [==============================] - ETA: 0s - loss: 0.8360 - accuracy: 0.6720\n",
      "Epoch 6: val_loss did not improve from 0.76438\n",
      "210/210 [==============================] - 83s 393ms/step - loss: 0.8360 - accuracy: 0.6720 - val_loss: 1.3186 - val_accuracy: 0.4125 - lr: 0.0010\n",
      "Epoch 7/55\n",
      "210/210 [==============================] - ETA: 0s - loss: 0.7538 - accuracy: 0.7036\n",
      "Epoch 7: val_loss did not improve from 0.76438\n",
      "210/210 [==============================] - 83s 394ms/step - loss: 0.7538 - accuracy: 0.7036 - val_loss: 1.5961 - val_accuracy: 0.4792 - lr: 0.0010\n",
      "Epoch 8/55\n",
      "210/210 [==============================] - ETA: 0s - loss: 0.7593 - accuracy: 0.6970\n",
      "Epoch 8: val_loss did not improve from 0.76438\n",
      "210/210 [==============================] - 82s 392ms/step - loss: 0.7593 - accuracy: 0.6970 - val_loss: 0.8851 - val_accuracy: 0.6000 - lr: 0.0010\n",
      "Epoch 9/55\n",
      "210/210 [==============================] - ETA: 0s - loss: 0.7839 - accuracy: 0.6363\n",
      "Epoch 9: val_loss did not improve from 0.76438\n",
      "210/210 [==============================] - 85s 406ms/step - loss: 0.7839 - accuracy: 0.6363 - val_loss: 1.0244 - val_accuracy: 0.6042 - lr: 0.0010\n",
      "Epoch 10/55\n",
      "210/210 [==============================] - ETA: 0s - loss: 0.8066 - accuracy: 0.6339\n",
      "Epoch 10: val_loss did not improve from 0.76438\n",
      "210/210 [==============================] - 82s 389ms/step - loss: 0.8066 - accuracy: 0.6339 - val_loss: 3.3474 - val_accuracy: 0.4917 - lr: 0.0010\n",
      "Epoch 11/55\n",
      "210/210 [==============================] - ETA: 0s - loss: 0.7886 - accuracy: 0.6482\n",
      "Epoch 11: val_loss did not improve from 0.76438\n",
      "210/210 [==============================] - 80s 380ms/step - loss: 0.7886 - accuracy: 0.6482 - val_loss: 0.9657 - val_accuracy: 0.5750 - lr: 0.0010\n",
      "Epoch 12/55\n",
      "210/210 [==============================] - ETA: 0s - loss: 0.7839 - accuracy: 0.6369\n",
      "Epoch 12: val_loss did not improve from 0.76438\n",
      "210/210 [==============================] - 80s 382ms/step - loss: 0.7839 - accuracy: 0.6369 - val_loss: 3.8354 - val_accuracy: 0.4958 - lr: 0.0010\n",
      "Epoch 13/55\n",
      "210/210 [==============================] - ETA: 0s - loss: 0.8433 - accuracy: 0.6167\n",
      "Epoch 13: val_loss did not improve from 0.76438\n",
      "210/210 [==============================] - 80s 383ms/step - loss: 0.8433 - accuracy: 0.6167 - val_loss: 1.3061 - val_accuracy: 0.5542 - lr: 0.0010\n",
      "Epoch 14/55\n",
      "210/210 [==============================] - ETA: 0s - loss: 0.7815 - accuracy: 0.6387\n",
      "Epoch 14: val_loss did not improve from 0.76438\n",
      "210/210 [==============================] - 80s 383ms/step - loss: 0.7815 - accuracy: 0.6387 - val_loss: 1.2672 - val_accuracy: 0.5375 - lr: 0.0010\n",
      "Epoch 15/55\n",
      "210/210 [==============================] - ETA: 0s - loss: 0.8736 - accuracy: 0.6048\n",
      "Epoch 15: val_loss did not improve from 0.76438\n",
      "210/210 [==============================] - 80s 381ms/step - loss: 0.8736 - accuracy: 0.6048 - val_loss: 3.6241 - val_accuracy: 0.5250 - lr: 0.0010\n",
      "Epoch 16/55\n",
      "210/210 [==============================] - ETA: 0s - loss: 0.8900 - accuracy: 0.5935\n",
      "Epoch 16: val_loss did not improve from 0.76438\n",
      "210/210 [==============================] - 80s 382ms/step - loss: 0.8900 - accuracy: 0.5935 - val_loss: 1.0734 - val_accuracy: 0.6083 - lr: 0.0010\n",
      "Epoch 17/55\n",
      "210/210 [==============================] - ETA: 0s - loss: 0.8059 - accuracy: 0.6280\n",
      "Epoch 17: ReduceLROnPlateau reducing learning rate to 0.0006000000284984708.\n",
      "\n",
      "Epoch 17: val_loss did not improve from 0.76438\n",
      "210/210 [==============================] - 80s 382ms/step - loss: 0.8059 - accuracy: 0.6280 - val_loss: 1.1732 - val_accuracy: 0.5375 - lr: 0.0010\n",
      "Epoch 18/55\n",
      "210/210 [==============================] - ETA: 0s - loss: 0.7784 - accuracy: 0.6345\n",
      "Epoch 18: val_loss did not improve from 0.76438\n",
      "210/210 [==============================] - 81s 387ms/step - loss: 0.7784 - accuracy: 0.6345 - val_loss: 1.1443 - val_accuracy: 0.6875 - lr: 6.0000e-04\n",
      "Epoch 19/55\n",
      "210/210 [==============================] - ETA: 0s - loss: 0.6972 - accuracy: 0.6780\n",
      "Epoch 19: val_loss improved from 0.76438 to 0.75970, saving model to ./checkpoints/V4.1.3\\FOLD-4\n",
      "INFO:tensorflow:Assets written to: ./checkpoints/V4.1.3\\FOLD-4\\assets\n"
     ]
    },
    {
     "name": "stderr",
     "output_type": "stream",
     "text": [
      "INFO:tensorflow:Assets written to: ./checkpoints/V4.1.3\\FOLD-4\\assets\n"
     ]
    },
    {
     "name": "stdout",
     "output_type": "stream",
     "text": [
      "210/210 [==============================] - 87s 415ms/step - loss: 0.6972 - accuracy: 0.6780 - val_loss: 0.7597 - val_accuracy: 0.7417 - lr: 6.0000e-04\n",
      "Epoch 20/55\n",
      "210/210 [==============================] - ETA: 0s - loss: 0.6159 - accuracy: 0.7667\n",
      "Epoch 20: val_loss did not improve from 0.75970\n",
      "210/210 [==============================] - 80s 382ms/step - loss: 0.6159 - accuracy: 0.7667 - val_loss: 0.7666 - val_accuracy: 0.8042 - lr: 6.0000e-04\n",
      "Epoch 21/55\n",
      "210/210 [==============================] - ETA: 0s - loss: 0.6268 - accuracy: 0.7554\n",
      "Epoch 21: val_loss did not improve from 0.75970\n",
      "210/210 [==============================] - 80s 382ms/step - loss: 0.6268 - accuracy: 0.7554 - val_loss: 1.2048 - val_accuracy: 0.7583 - lr: 6.0000e-04\n",
      "Epoch 22/55\n",
      "210/210 [==============================] - ETA: 0s - loss: 0.5626 - accuracy: 0.7738\n",
      "Epoch 22: val_loss did not improve from 0.75970\n",
      "210/210 [==============================] - 80s 380ms/step - loss: 0.5626 - accuracy: 0.7738 - val_loss: 3.3390 - val_accuracy: 0.4458 - lr: 6.0000e-04\n",
      "Epoch 23/55\n",
      "210/210 [==============================] - ETA: 0s - loss: 0.5794 - accuracy: 0.7625\n",
      "Epoch 23: val_loss improved from 0.75970 to 0.72390, saving model to ./checkpoints/V4.1.3\\FOLD-4\n",
      "INFO:tensorflow:Assets written to: ./checkpoints/V4.1.3\\FOLD-4\\assets\n"
     ]
    },
    {
     "name": "stderr",
     "output_type": "stream",
     "text": [
      "INFO:tensorflow:Assets written to: ./checkpoints/V4.1.3\\FOLD-4\\assets\n"
     ]
    },
    {
     "name": "stdout",
     "output_type": "stream",
     "text": [
      "210/210 [==============================] - 86s 409ms/step - loss: 0.5794 - accuracy: 0.7625 - val_loss: 0.7239 - val_accuracy: 0.7083 - lr: 6.0000e-04\n",
      "Epoch 24/55\n",
      "210/210 [==============================] - ETA: 0s - loss: 0.5918 - accuracy: 0.7530\n",
      "Epoch 24: val_loss did not improve from 0.72390\n",
      "210/210 [==============================] - 80s 381ms/step - loss: 0.5918 - accuracy: 0.7530 - val_loss: 5.6495 - val_accuracy: 0.5292 - lr: 6.0000e-04\n",
      "Epoch 25/55\n",
      "210/210 [==============================] - ETA: 0s - loss: 0.6884 - accuracy: 0.7250\n",
      "Epoch 25: val_loss did not improve from 0.72390\n",
      "210/210 [==============================] - 80s 381ms/step - loss: 0.6884 - accuracy: 0.7250 - val_loss: 0.8056 - val_accuracy: 0.7708 - lr: 6.0000e-04\n",
      "Epoch 26/55\n",
      "210/210 [==============================] - ETA: 0s - loss: 0.5756 - accuracy: 0.7726\n",
      "Epoch 26: val_loss improved from 0.72390 to 0.47861, saving model to ./checkpoints/V4.1.3\\FOLD-4\n",
      "INFO:tensorflow:Assets written to: ./checkpoints/V4.1.3\\FOLD-4\\assets\n"
     ]
    },
    {
     "name": "stderr",
     "output_type": "stream",
     "text": [
      "INFO:tensorflow:Assets written to: ./checkpoints/V4.1.3\\FOLD-4\\assets\n"
     ]
    },
    {
     "name": "stdout",
     "output_type": "stream",
     "text": [
      "210/210 [==============================] - 86s 409ms/step - loss: 0.5756 - accuracy: 0.7726 - val_loss: 0.4786 - val_accuracy: 0.8625 - lr: 6.0000e-04\n",
      "Epoch 27/55\n",
      "210/210 [==============================] - ETA: 0s - loss: 0.5373 - accuracy: 0.7845\n",
      "Epoch 27: val_loss did not improve from 0.47861\n",
      "210/210 [==============================] - 80s 380ms/step - loss: 0.5373 - accuracy: 0.7845 - val_loss: 0.8111 - val_accuracy: 0.7333 - lr: 6.0000e-04\n",
      "Epoch 28/55\n",
      "210/210 [==============================] - ETA: 0s - loss: 0.5512 - accuracy: 0.7869\n",
      "Epoch 28: val_loss did not improve from 0.47861\n",
      "210/210 [==============================] - 80s 382ms/step - loss: 0.5512 - accuracy: 0.7869 - val_loss: 1.0994 - val_accuracy: 0.6292 - lr: 6.0000e-04\n",
      "Epoch 29/55\n",
      "210/210 [==============================] - ETA: 0s - loss: 0.5825 - accuracy: 0.7815\n",
      "Epoch 29: val_loss did not improve from 0.47861\n",
      "210/210 [==============================] - 80s 380ms/step - loss: 0.5825 - accuracy: 0.7815 - val_loss: 0.8801 - val_accuracy: 0.7417 - lr: 6.0000e-04\n",
      "Epoch 30/55\n",
      "210/210 [==============================] - ETA: 0s - loss: 0.4981 - accuracy: 0.8048\n",
      "Epoch 30: val_loss did not improve from 0.47861\n",
      "210/210 [==============================] - 81s 384ms/step - loss: 0.4981 - accuracy: 0.8048 - val_loss: 1.7725 - val_accuracy: 0.4625 - lr: 6.0000e-04\n",
      "Epoch 31/55\n",
      "210/210 [==============================] - ETA: 0s - loss: 0.5152 - accuracy: 0.7923\n",
      "Epoch 31: val_loss did not improve from 0.47861\n",
      "210/210 [==============================] - 80s 381ms/step - loss: 0.5152 - accuracy: 0.7923 - val_loss: 0.5922 - val_accuracy: 0.8917 - lr: 6.0000e-04\n",
      "Epoch 32/55\n",
      "210/210 [==============================] - ETA: 0s - loss: 0.5030 - accuracy: 0.8000\n",
      "Epoch 32: val_loss did not improve from 0.47861\n",
      "210/210 [==============================] - 80s 381ms/step - loss: 0.5030 - accuracy: 0.8000 - val_loss: 1.0383 - val_accuracy: 0.6625 - lr: 6.0000e-04\n",
      "Epoch 33/55\n",
      "210/210 [==============================] - ETA: 0s - loss: 0.6019 - accuracy: 0.7708\n",
      "Epoch 33: val_loss did not improve from 0.47861\n",
      "210/210 [==============================] - 80s 380ms/step - loss: 0.6019 - accuracy: 0.7708 - val_loss: 2.1874 - val_accuracy: 0.4667 - lr: 6.0000e-04\n",
      "Epoch 34/55\n",
      "210/210 [==============================] - ETA: 0s - loss: 0.4865 - accuracy: 0.8119\n",
      "Epoch 34: val_loss did not improve from 0.47861\n",
      "210/210 [==============================] - 80s 380ms/step - loss: 0.4865 - accuracy: 0.8119 - val_loss: 0.5372 - val_accuracy: 0.8292 - lr: 6.0000e-04\n",
      "Epoch 35/55\n",
      "210/210 [==============================] - ETA: 0s - loss: 0.4905 - accuracy: 0.8071\n",
      "Epoch 35: val_loss did not improve from 0.47861\n",
      "210/210 [==============================] - 80s 380ms/step - loss: 0.4905 - accuracy: 0.8071 - val_loss: 0.7453 - val_accuracy: 0.8208 - lr: 6.0000e-04\n",
      "Epoch 36/55\n",
      "210/210 [==============================] - ETA: 0s - loss: 0.5225 - accuracy: 0.8024\n",
      "Epoch 36: val_loss did not improve from 0.47861\n",
      "210/210 [==============================] - 80s 382ms/step - loss: 0.5225 - accuracy: 0.8024 - val_loss: 0.5075 - val_accuracy: 0.8417 - lr: 6.0000e-04\n",
      "Epoch 37/55\n",
      "210/210 [==============================] - ETA: 0s - loss: 0.5031 - accuracy: 0.8065\n",
      "Epoch 37: val_loss improved from 0.47861 to 0.41358, saving model to ./checkpoints/V4.1.3\\FOLD-4\n",
      "INFO:tensorflow:Assets written to: ./checkpoints/V4.1.3\\FOLD-4\\assets\n"
     ]
    },
    {
     "name": "stderr",
     "output_type": "stream",
     "text": [
      "INFO:tensorflow:Assets written to: ./checkpoints/V4.1.3\\FOLD-4\\assets\n"
     ]
    },
    {
     "name": "stdout",
     "output_type": "stream",
     "text": [
      "210/210 [==============================] - 86s 410ms/step - loss: 0.5031 - accuracy: 0.8065 - val_loss: 0.4136 - val_accuracy: 0.8792 - lr: 6.0000e-04\n",
      "Epoch 38/55\n",
      "210/210 [==============================] - ETA: 0s - loss: 0.5083 - accuracy: 0.7994\n",
      "Epoch 38: val_loss improved from 0.41358 to 0.40737, saving model to ./checkpoints/V4.1.3\\FOLD-4\n",
      "INFO:tensorflow:Assets written to: ./checkpoints/V4.1.3\\FOLD-4\\assets\n"
     ]
    },
    {
     "name": "stderr",
     "output_type": "stream",
     "text": [
      "INFO:tensorflow:Assets written to: ./checkpoints/V4.1.3\\FOLD-4\\assets\n"
     ]
    },
    {
     "name": "stdout",
     "output_type": "stream",
     "text": [
      "210/210 [==============================] - 86s 408ms/step - loss: 0.5083 - accuracy: 0.7994 - val_loss: 0.4074 - val_accuracy: 0.8708 - lr: 6.0000e-04\n",
      "Epoch 39/55\n",
      "210/210 [==============================] - ETA: 0s - loss: 0.4751 - accuracy: 0.8054\n",
      "Epoch 39: val_loss did not improve from 0.40737\n",
      "210/210 [==============================] - 80s 380ms/step - loss: 0.4751 - accuracy: 0.8054 - val_loss: 1.1059 - val_accuracy: 0.5875 - lr: 6.0000e-04\n",
      "Epoch 40/55\n",
      "210/210 [==============================] - ETA: 0s - loss: 0.4892 - accuracy: 0.8065\n",
      "Epoch 40: val_loss did not improve from 0.40737\n",
      "210/210 [==============================] - 80s 380ms/step - loss: 0.4892 - accuracy: 0.8065 - val_loss: 2.8965 - val_accuracy: 0.5250 - lr: 6.0000e-04\n",
      "Epoch 41/55\n",
      "210/210 [==============================] - ETA: 0s - loss: 0.4540 - accuracy: 0.8107\n",
      "Epoch 41: val_loss did not improve from 0.40737\n",
      "210/210 [==============================] - 80s 383ms/step - loss: 0.4540 - accuracy: 0.8107 - val_loss: 0.8421 - val_accuracy: 0.7708 - lr: 6.0000e-04\n",
      "Epoch 42/55\n",
      "210/210 [==============================] - ETA: 0s - loss: 0.4565 - accuracy: 0.8274\n",
      "Epoch 42: val_loss did not improve from 0.40737\n",
      "210/210 [==============================] - 80s 380ms/step - loss: 0.4565 - accuracy: 0.8274 - val_loss: 0.6963 - val_accuracy: 0.7625 - lr: 6.0000e-04\n",
      "Epoch 43/55\n",
      "210/210 [==============================] - ETA: 0s - loss: 0.5379 - accuracy: 0.7952\n",
      "Epoch 43: val_loss did not improve from 0.40737\n",
      "210/210 [==============================] - 80s 381ms/step - loss: 0.5379 - accuracy: 0.7952 - val_loss: 1.4257 - val_accuracy: 0.6500 - lr: 6.0000e-04\n",
      "Epoch 44/55\n",
      "210/210 [==============================] - ETA: 0s - loss: 0.5284 - accuracy: 0.8024\n",
      "Epoch 44: val_loss did not improve from 0.40737\n",
      "210/210 [==============================] - 80s 380ms/step - loss: 0.5284 - accuracy: 0.8024 - val_loss: 1.6731 - val_accuracy: 0.5167 - lr: 6.0000e-04\n",
      "Epoch 45/55\n",
      "210/210 [==============================] - ETA: 0s - loss: 0.4604 - accuracy: 0.8214\n",
      "Epoch 45: val_loss did not improve from 0.40737\n",
      "210/210 [==============================] - 80s 379ms/step - loss: 0.4604 - accuracy: 0.8214 - val_loss: 1.4062 - val_accuracy: 0.6667 - lr: 6.0000e-04\n",
      "Epoch 46/55\n",
      "210/210 [==============================] - ETA: 0s - loss: 0.4542 - accuracy: 0.8155\n",
      "Epoch 46: val_loss did not improve from 0.40737\n",
      "210/210 [==============================] - 80s 381ms/step - loss: 0.4542 - accuracy: 0.8155 - val_loss: 2.6867 - val_accuracy: 0.4958 - lr: 6.0000e-04\n",
      "Epoch 47/55\n",
      "210/210 [==============================] - ETA: 0s - loss: 0.5078 - accuracy: 0.8060\n",
      "Epoch 47: val_loss did not improve from 0.40737\n",
      "210/210 [==============================] - 80s 381ms/step - loss: 0.5078 - accuracy: 0.8060 - val_loss: 0.4827 - val_accuracy: 0.9000 - lr: 6.0000e-04\n",
      "Epoch 48/55\n",
      "210/210 [==============================] - ETA: 0s - loss: 0.4657 - accuracy: 0.8000\n",
      "Epoch 48: val_loss did not improve from 0.40737\n",
      "210/210 [==============================] - 80s 380ms/step - loss: 0.4657 - accuracy: 0.8000 - val_loss: 1.8458 - val_accuracy: 0.5958 - lr: 6.0000e-04\n",
      "Epoch 49/55\n",
      "210/210 [==============================] - ETA: 0s - loss: 0.4487 - accuracy: 0.8262\n",
      "Epoch 49: val_loss did not improve from 0.40737\n",
      "210/210 [==============================] - 80s 381ms/step - loss: 0.4487 - accuracy: 0.8262 - val_loss: 2.4239 - val_accuracy: 0.6000 - lr: 6.0000e-04\n",
      "Epoch 50/55\n",
      "210/210 [==============================] - ETA: 0s - loss: 0.4323 - accuracy: 0.8286\n",
      "Epoch 50: val_loss did not improve from 0.40737\n",
      "210/210 [==============================] - 80s 381ms/step - loss: 0.4323 - accuracy: 0.8286 - val_loss: 0.5051 - val_accuracy: 0.8833 - lr: 6.0000e-04\n",
      "Epoch 51/55\n",
      "210/210 [==============================] - ETA: 0s - loss: 0.4570 - accuracy: 0.8185\n",
      "Epoch 51: val_loss did not improve from 0.40737\n",
      "210/210 [==============================] - 80s 381ms/step - loss: 0.4570 - accuracy: 0.8185 - val_loss: 0.4157 - val_accuracy: 0.9000 - lr: 6.0000e-04\n",
      "Epoch 52/55\n",
      "210/210 [==============================] - ETA: 0s - loss: 0.4128 - accuracy: 0.8345\n",
      "Epoch 52: val_loss did not improve from 0.40737\n",
      "210/210 [==============================] - 80s 381ms/step - loss: 0.4128 - accuracy: 0.8345 - val_loss: 0.7495 - val_accuracy: 0.7792 - lr: 6.0000e-04\n",
      "Epoch 53/55\n",
      "210/210 [==============================] - ETA: 0s - loss: 0.4261 - accuracy: 0.8274\n",
      "Epoch 53: ReduceLROnPlateau reducing learning rate to 0.0003600000170990825.\n",
      "\n",
      "Epoch 53: val_loss did not improve from 0.40737\n",
      "210/210 [==============================] - 80s 382ms/step - loss: 0.4261 - accuracy: 0.8274 - val_loss: 1.3198 - val_accuracy: 0.6125 - lr: 6.0000e-04\n",
      "Epoch 54/55\n",
      "210/210 [==============================] - ETA: 0s - loss: 0.4404 - accuracy: 0.8256\n",
      "Epoch 54: val_loss did not improve from 0.40737\n",
      "210/210 [==============================] - 80s 381ms/step - loss: 0.4404 - accuracy: 0.8256 - val_loss: 0.9677 - val_accuracy: 0.7083 - lr: 3.6000e-04\n",
      "Epoch 55/55\n",
      "210/210 [==============================] - ETA: 0s - loss: 0.4121 - accuracy: 0.8369\n",
      "Epoch 55: val_loss did not improve from 0.40737\n",
      "210/210 [==============================] - 80s 381ms/step - loss: 0.4121 - accuracy: 0.8369 - val_loss: 0.4081 - val_accuracy: 0.8875 - lr: 3.6000e-04\n"
     ]
    },
    {
     "data": {
      "image/png": "[encoded data removed]",
      "text/plain": [
       "<Figure size 300x200 with 1 Axes>"
      ]
     },
     "metadata": {},
     "output_type": "display_data"
    },
    {
     "data": {
      "image/png": "[encoded data removed]",
      "text/plain": [
       "<Figure size 300x200 with 1 Axes>"
      ]
     },
     "metadata": {},
     "output_type": "display_data"
    },
    {
     "name": "stdout",
     "output_type": "stream",
     "text": [
      "Fold Training Time: 1 hour(s) and 14 mins\n",
      "Precision: 89.0350878238678  -  Recall: 84.58333611488342\n",
      "Accuracy: 87.08333373069763\n",
      "F1Score: Building 80.3149642944336 | Plant 91.47286224365234 | Road 95.7983169555664 | Vehicle 79.99999237060547\n",
      "[neptune] [info   ] Shutting down background jobs, please wait a moment...\n",
      "[neptune] [info   ] Done!\n",
      "[neptune] [info   ] Neptune initialized. Open in the app: offline/47a79cc7-ca71-4260-ad55-e8f31fb436fe\n",
      "Epoch 1/55\n",
      "210/210 [==============================] - ETA: 0s - loss: 7.7355 - accuracy: 0.5536\n",
      "Epoch 1: val_loss improved from inf to 2.44871, saving model to ./checkpoints/V4.1.3\\FOLD-5\n",
      "INFO:tensorflow:Assets written to: ./checkpoints/V4.1.3\\FOLD-5\\assets\n"
     ]
    },
    {
     "name": "stderr",
     "output_type": "stream",
     "text": [
      "INFO:tensorflow:Assets written to: ./checkpoints/V4.1.3\\FOLD-5\\assets\n"
     ]
    },
    {
     "name": "stdout",
     "output_type": "stream",
     "text": [
      "210/210 [==============================] - 98s 449ms/step - loss: 7.7355 - accuracy: 0.5536 - val_loss: 2.4487 - val_accuracy: 0.2750 - lr: 0.0010\n",
      "Epoch 2/55\n",
      "210/210 [==============================] - ETA: 0s - loss: 1.1283 - accuracy: 0.5958\n",
      "Epoch 2: val_loss improved from 2.44871 to 0.84525, saving model to ./checkpoints/V4.1.3\\FOLD-5\n",
      "INFO:tensorflow:Assets written to: ./checkpoints/V4.1.3\\FOLD-5\\assets\n"
     ]
    },
    {
     "name": "stderr",
     "output_type": "stream",
     "text": [
      "INFO:tensorflow:Assets written to: ./checkpoints/V4.1.3\\FOLD-5\\assets\n"
     ]
    },
    {
     "name": "stdout",
     "output_type": "stream",
     "text": [
      "210/210 [==============================] - 96s 458ms/step - loss: 1.1283 - accuracy: 0.5958 - val_loss: 0.8452 - val_accuracy: 0.6333 - lr: 0.0010\n",
      "Epoch 3/55\n",
      "210/210 [==============================] - ETA: 0s - loss: 0.8735 - accuracy: 0.6190\n",
      "Epoch 3: val_loss did not improve from 0.84525\n",
      "210/210 [==============================] - 88s 417ms/step - loss: 0.8735 - accuracy: 0.6190 - val_loss: 1.5001 - val_accuracy: 0.5083 - lr: 0.0010\n",
      "Epoch 4/55\n",
      "210/210 [==============================] - ETA: 0s - loss: 0.8987 - accuracy: 0.6667\n",
      "Epoch 4: val_loss improved from 0.84525 to 0.72671, saving model to ./checkpoints/V4.1.3\\FOLD-5\n",
      "INFO:tensorflow:Assets written to: ./checkpoints/V4.1.3\\FOLD-5\\assets\n"
     ]
    },
    {
     "name": "stderr",
     "output_type": "stream",
     "text": [
      "INFO:tensorflow:Assets written to: ./checkpoints/V4.1.3\\FOLD-5\\assets\n"
     ]
    },
    {
     "name": "stdout",
     "output_type": "stream",
     "text": [
      "210/210 [==============================] - 91s 434ms/step - loss: 0.8987 - accuracy: 0.6667 - val_loss: 0.7267 - val_accuracy: 0.7042 - lr: 0.0010\n",
      "Epoch 5/55\n",
      "210/210 [==============================] - ETA: 0s - loss: 0.7759 - accuracy: 0.6821\n",
      "Epoch 5: val_loss did not improve from 0.72671\n",
      "210/210 [==============================] - 85s 407ms/step - loss: 0.7759 - accuracy: 0.6821 - val_loss: 0.9524 - val_accuracy: 0.7375 - lr: 0.0010\n",
      "Epoch 6/55\n",
      "210/210 [==============================] - ETA: 0s - loss: 0.7605 - accuracy: 0.6815\n",
      "Epoch 6: val_loss did not improve from 0.72671\n",
      "210/210 [==============================] - 85s 406ms/step - loss: 0.7605 - accuracy: 0.6815 - val_loss: 1.5489 - val_accuracy: 0.5250 - lr: 0.0010\n",
      "Epoch 7/55\n",
      "210/210 [==============================] - ETA: 0s - loss: 0.7587 - accuracy: 0.6899\n",
      "Epoch 7: val_loss did not improve from 0.72671\n",
      "210/210 [==============================] - 85s 405ms/step - loss: 0.7587 - accuracy: 0.6899 - val_loss: 1.0071 - val_accuracy: 0.6000 - lr: 0.0010\n",
      "Epoch 8/55\n",
      "210/210 [==============================] - ETA: 0s - loss: 0.8269 - accuracy: 0.6571\n",
      "Epoch 8: val_loss improved from 0.72671 to 0.53665, saving model to ./checkpoints/V4.1.3\\FOLD-5\n",
      "INFO:tensorflow:Assets written to: ./checkpoints/V4.1.3\\FOLD-5\\assets\n"
     ]
    },
    {
     "name": "stderr",
     "output_type": "stream",
     "text": [
      "INFO:tensorflow:Assets written to: ./checkpoints/V4.1.3\\FOLD-5\\assets\n"
     ]
    },
    {
     "name": "stdout",
     "output_type": "stream",
     "text": [
      "210/210 [==============================] - 92s 437ms/step - loss: 0.8269 - accuracy: 0.6571 - val_loss: 0.5366 - val_accuracy: 0.8083 - lr: 0.0010\n",
      "Epoch 9/55\n",
      "210/210 [==============================] - ETA: 0s - loss: 0.8515 - accuracy: 0.6339\n",
      "Epoch 9: val_loss did not improve from 0.53665\n",
      "210/210 [==============================] - 85s 406ms/step - loss: 0.8515 - accuracy: 0.6339 - val_loss: 1.1003 - val_accuracy: 0.5208 - lr: 0.0010\n",
      "Epoch 10/55\n",
      "210/210 [==============================] - ETA: 0s - loss: 0.8069 - accuracy: 0.6726\n",
      "Epoch 10: val_loss did not improve from 0.53665\n",
      "210/210 [==============================] - 85s 404ms/step - loss: 0.8069 - accuracy: 0.6726 - val_loss: 0.7631 - val_accuracy: 0.7125 - lr: 0.0010\n",
      "Epoch 11/55\n",
      "210/210 [==============================] - ETA: 0s - loss: 0.8078 - accuracy: 0.6571\n",
      "Epoch 11: val_loss did not improve from 0.53665\n",
      "210/210 [==============================] - 85s 405ms/step - loss: 0.8078 - accuracy: 0.6571 - val_loss: 0.6611 - val_accuracy: 0.7292 - lr: 0.0010\n",
      "Epoch 12/55\n",
      "210/210 [==============================] - ETA: 0s - loss: 0.7229 - accuracy: 0.6881\n",
      "Epoch 12: val_loss did not improve from 0.53665\n",
      "210/210 [==============================] - 85s 406ms/step - loss: 0.7229 - accuracy: 0.6881 - val_loss: 7.0359 - val_accuracy: 0.3833 - lr: 0.0010\n",
      "Epoch 13/55\n",
      "210/210 [==============================] - ETA: 0s - loss: 0.7048 - accuracy: 0.7030\n",
      "Epoch 13: val_loss did not improve from 0.53665\n",
      "210/210 [==============================] - 85s 406ms/step - loss: 0.7048 - accuracy: 0.7030 - val_loss: 0.7657 - val_accuracy: 0.7000 - lr: 0.0010\n",
      "Epoch 14/55\n",
      "210/210 [==============================] - ETA: 0s - loss: 0.6757 - accuracy: 0.7077\n",
      "Epoch 14: val_loss did not improve from 0.53665\n",
      "210/210 [==============================] - 86s 408ms/step - loss: 0.6757 - accuracy: 0.7077 - val_loss: 0.9382 - val_accuracy: 0.7208 - lr: 0.0010\n",
      "Epoch 15/55\n",
      "210/210 [==============================] - ETA: 0s - loss: 0.7815 - accuracy: 0.6738\n",
      "Epoch 15: val_loss did not improve from 0.53665\n",
      "210/210 [==============================] - 85s 405ms/step - loss: 0.7815 - accuracy: 0.6738 - val_loss: 0.5695 - val_accuracy: 0.7917 - lr: 0.0010\n",
      "Epoch 16/55\n",
      "210/210 [==============================] - ETA: 0s - loss: 0.7362 - accuracy: 0.6827\n",
      "Epoch 16: val_loss did not improve from 0.53665\n",
      "210/210 [==============================] - 85s 406ms/step - loss: 0.7362 - accuracy: 0.6827 - val_loss: 0.7919 - val_accuracy: 0.7583 - lr: 0.0010\n",
      "Epoch 17/55\n",
      "210/210 [==============================] - ETA: 0s - loss: 0.7027 - accuracy: 0.7048\n",
      "Epoch 17: val_loss did not improve from 0.53665\n",
      "210/210 [==============================] - 85s 404ms/step - loss: 0.7027 - accuracy: 0.7048 - val_loss: 0.6022 - val_accuracy: 0.8083 - lr: 0.0010\n",
      "Epoch 18/55\n",
      "210/210 [==============================] - ETA: 0s - loss: 0.7270 - accuracy: 0.7006\n",
      "Epoch 18: val_loss did not improve from 0.53665\n",
      "210/210 [==============================] - 86s 409ms/step - loss: 0.7270 - accuracy: 0.7006 - val_loss: 1.2607 - val_accuracy: 0.6958 - lr: 0.0010\n",
      "Epoch 19/55\n",
      "210/210 [==============================] - ETA: 0s - loss: 0.7448 - accuracy: 0.7089\n",
      "Epoch 19: val_loss did not improve from 0.53665\n",
      "210/210 [==============================] - 85s 405ms/step - loss: 0.7448 - accuracy: 0.7089 - val_loss: 0.5627 - val_accuracy: 0.8000 - lr: 0.0010\n",
      "Epoch 20/55\n",
      "210/210 [==============================] - ETA: 0s - loss: 0.6607 - accuracy: 0.7470\n",
      "Epoch 20: val_loss did not improve from 0.53665\n",
      "210/210 [==============================] - 85s 405ms/step - loss: 0.6607 - accuracy: 0.7470 - val_loss: 0.6294 - val_accuracy: 0.7708 - lr: 0.0010\n",
      "Epoch 21/55\n",
      "210/210 [==============================] - ETA: 0s - loss: 0.7032 - accuracy: 0.7083\n",
      "Epoch 21: val_loss did not improve from 0.53665\n",
      "210/210 [==============================] - 85s 404ms/step - loss: 0.7032 - accuracy: 0.7083 - val_loss: 2.1452 - val_accuracy: 0.4833 - lr: 0.0010\n",
      "Epoch 22/55\n",
      "210/210 [==============================] - ETA: 0s - loss: 0.6734 - accuracy: 0.7387\n",
      "Epoch 22: val_loss did not improve from 0.53665\n",
      "210/210 [==============================] - 85s 406ms/step - loss: 0.6734 - accuracy: 0.7387 - val_loss: 1.2753 - val_accuracy: 0.6083 - lr: 0.0010\n",
      "Epoch 23/55\n",
      "210/210 [==============================] - ETA: 0s - loss: 0.6652 - accuracy: 0.7173\n",
      "Epoch 23: val_loss improved from 0.53665 to 0.51778, saving model to ./checkpoints/V4.1.3\\FOLD-5\n",
      "INFO:tensorflow:Assets written to: ./checkpoints/V4.1.3\\FOLD-5\\assets\n"
     ]
    },
    {
     "name": "stderr",
     "output_type": "stream",
     "text": [
      "INFO:tensorflow:Assets written to: ./checkpoints/V4.1.3\\FOLD-5\\assets\n"
     ]
    },
    {
     "name": "stdout",
     "output_type": "stream",
     "text": [
      "210/210 [==============================] - 91s 434ms/step - loss: 0.6652 - accuracy: 0.7173 - val_loss: 0.5178 - val_accuracy: 0.8208 - lr: 0.0010\n",
      "Epoch 24/55\n",
      "210/210 [==============================] - ETA: 0s - loss: 0.6033 - accuracy: 0.7446\n",
      "Epoch 24: val_loss did not improve from 0.51778\n",
      "210/210 [==============================] - 85s 405ms/step - loss: 0.6033 - accuracy: 0.7446 - val_loss: 1.0167 - val_accuracy: 0.6625 - lr: 0.0010\n",
      "Epoch 25/55\n",
      "210/210 [==============================] - ETA: 0s - loss: 0.6293 - accuracy: 0.7464\n",
      "Epoch 25: val_loss improved from 0.51778 to 0.45542, saving model to ./checkpoints/V4.1.3\\FOLD-5\n",
      "INFO:tensorflow:Assets written to: ./checkpoints/V4.1.3\\FOLD-5\\assets\n"
     ]
    },
    {
     "name": "stderr",
     "output_type": "stream",
     "text": [
      "INFO:tensorflow:Assets written to: ./checkpoints/V4.1.3\\FOLD-5\\assets\n"
     ]
    },
    {
     "name": "stdout",
     "output_type": "stream",
     "text": [
      "210/210 [==============================] - 90s 431ms/step - loss: 0.6293 - accuracy: 0.7464 - val_loss: 0.4554 - val_accuracy: 0.8542 - lr: 0.0010\n",
      "Epoch 26/55\n",
      "210/210 [==============================] - ETA: 0s - loss: 0.5850 - accuracy: 0.7589\n",
      "Epoch 26: val_loss improved from 0.45542 to 0.44653, saving model to ./checkpoints/V4.1.3\\FOLD-5\n",
      "INFO:tensorflow:Assets written to: ./checkpoints/V4.1.3\\FOLD-5\\assets\n"
     ]
    },
    {
     "name": "stderr",
     "output_type": "stream",
     "text": [
      "INFO:tensorflow:Assets written to: ./checkpoints/V4.1.3\\FOLD-5\\assets\n"
     ]
    },
    {
     "name": "stdout",
     "output_type": "stream",
     "text": [
      "210/210 [==============================] - 91s 435ms/step - loss: 0.5850 - accuracy: 0.7589 - val_loss: 0.4465 - val_accuracy: 0.8375 - lr: 0.0010\n",
      "Epoch 27/55\n",
      "210/210 [==============================] - ETA: 0s - loss: 0.5881 - accuracy: 0.7321\n",
      "Epoch 27: val_loss did not improve from 0.44653\n",
      "210/210 [==============================] - 85s 405ms/step - loss: 0.5881 - accuracy: 0.7321 - val_loss: 0.8466 - val_accuracy: 0.7083 - lr: 0.0010\n",
      "Epoch 28/55\n",
      "210/210 [==============================] - ETA: 0s - loss: 0.5843 - accuracy: 0.7530\n",
      "Epoch 28: val_loss did not improve from 0.44653\n",
      "210/210 [==============================] - 85s 405ms/step - loss: 0.5843 - accuracy: 0.7530 - val_loss: 1.5666 - val_accuracy: 0.6042 - lr: 0.0010\n",
      "Epoch 29/55\n",
      "210/210 [==============================] - ETA: 0s - loss: 0.5959 - accuracy: 0.7619\n",
      "Epoch 29: val_loss did not improve from 0.44653\n",
      "210/210 [==============================] - 86s 411ms/step - loss: 0.5959 - accuracy: 0.7619 - val_loss: 0.6447 - val_accuracy: 0.8042 - lr: 0.0010\n",
      "Epoch 30/55\n",
      "210/210 [==============================] - ETA: 0s - loss: 0.6222 - accuracy: 0.7482\n",
      "Epoch 30: val_loss did not improve from 0.44653\n",
      "210/210 [==============================] - 85s 406ms/step - loss: 0.6222 - accuracy: 0.7482 - val_loss: 0.9586 - val_accuracy: 0.6958 - lr: 0.0010\n",
      "Epoch 31/55\n",
      "210/210 [==============================] - ETA: 0s - loss: 0.5165 - accuracy: 0.7869\n",
      "Epoch 31: val_loss did not improve from 0.44653\n",
      "210/210 [==============================] - 85s 405ms/step - loss: 0.5165 - accuracy: 0.7869 - val_loss: 0.5677 - val_accuracy: 0.8500 - lr: 0.0010\n",
      "Epoch 32/55\n",
      "210/210 [==============================] - ETA: 0s - loss: 0.5094 - accuracy: 0.7839\n",
      "Epoch 32: val_loss did not improve from 0.44653\n",
      "210/210 [==============================] - 85s 404ms/step - loss: 0.5094 - accuracy: 0.7839 - val_loss: 0.7702 - val_accuracy: 0.7458 - lr: 0.0010\n",
      "Epoch 33/55\n",
      "210/210 [==============================] - ETA: 0s - loss: 0.5210 - accuracy: 0.7851\n",
      "Epoch 33: val_loss did not improve from 0.44653\n",
      "210/210 [==============================] - 86s 407ms/step - loss: 0.5210 - accuracy: 0.7851 - val_loss: 0.6138 - val_accuracy: 0.7833 - lr: 0.0010\n",
      "Epoch 34/55\n",
      "210/210 [==============================] - ETA: 0s - loss: 0.5331 - accuracy: 0.7708\n",
      "Epoch 34: val_loss did not improve from 0.44653\n",
      "210/210 [==============================] - 85s 406ms/step - loss: 0.5331 - accuracy: 0.7708 - val_loss: 1.0111 - val_accuracy: 0.7000 - lr: 0.0010\n",
      "Epoch 35/55\n",
      "210/210 [==============================] - ETA: 0s - loss: 0.5059 - accuracy: 0.7899\n",
      "Epoch 35: val_loss did not improve from 0.44653\n",
      "210/210 [==============================] - 85s 406ms/step - loss: 0.5059 - accuracy: 0.7899 - val_loss: 1.1442 - val_accuracy: 0.7250 - lr: 0.0010\n",
      "Epoch 36/55\n",
      "210/210 [==============================] - ETA: 0s - loss: 0.5058 - accuracy: 0.7881\n",
      "Epoch 36: val_loss did not improve from 0.44653\n",
      "210/210 [==============================] - 86s 408ms/step - loss: 0.5058 - accuracy: 0.7881 - val_loss: 0.5953 - val_accuracy: 0.7500 - lr: 0.0010\n",
      "Epoch 37/55\n",
      "210/210 [==============================] - ETA: 0s - loss: 0.5025 - accuracy: 0.7845\n",
      "Epoch 37: val_loss did not improve from 0.44653\n",
      "210/210 [==============================] - 85s 407ms/step - loss: 0.5025 - accuracy: 0.7845 - val_loss: 0.4800 - val_accuracy: 0.8417 - lr: 0.0010\n",
      "Epoch 38/55\n",
      "210/210 [==============================] - ETA: 0s - loss: 0.5100 - accuracy: 0.7815\n",
      "Epoch 38: val_loss did not improve from 0.44653\n",
      "210/210 [==============================] - 85s 406ms/step - loss: 0.5100 - accuracy: 0.7815 - val_loss: 1.1217 - val_accuracy: 0.7125 - lr: 0.0010\n",
      "Epoch 39/55\n",
      "210/210 [==============================] - ETA: 0s - loss: 0.5130 - accuracy: 0.7988\n",
      "Epoch 39: val_loss improved from 0.44653 to 0.41395, saving model to ./checkpoints/V4.1.3\\FOLD-5\n",
      "INFO:tensorflow:Assets written to: ./checkpoints/V4.1.3\\FOLD-5\\assets\n"
     ]
    },
    {
     "name": "stderr",
     "output_type": "stream",
     "text": [
      "INFO:tensorflow:Assets written to: ./checkpoints/V4.1.3\\FOLD-5\\assets\n"
     ]
    },
    {
     "name": "stdout",
     "output_type": "stream",
     "text": [
      "210/210 [==============================] - 91s 432ms/step - loss: 0.5130 - accuracy: 0.7988 - val_loss: 0.4139 - val_accuracy: 0.8667 - lr: 0.0010\n",
      "Epoch 40/55\n",
      "210/210 [==============================] - ETA: 0s - loss: 0.4887 - accuracy: 0.7887\n",
      "Epoch 40: val_loss improved from 0.41395 to 0.33523, saving model to ./checkpoints/V4.1.3\\FOLD-5\n",
      "INFO:tensorflow:Assets written to: ./checkpoints/V4.1.3\\FOLD-5\\assets\n"
     ]
    },
    {
     "name": "stderr",
     "output_type": "stream",
     "text": [
      "INFO:tensorflow:Assets written to: ./checkpoints/V4.1.3\\FOLD-5\\assets\n"
     ]
    },
    {
     "name": "stdout",
     "output_type": "stream",
     "text": [
      "210/210 [==============================] - 92s 439ms/step - loss: 0.4887 - accuracy: 0.7887 - val_loss: 0.3352 - val_accuracy: 0.8958 - lr: 0.0010\n",
      "Epoch 41/55\n",
      "210/210 [==============================] - ETA: 0s - loss: 0.4759 - accuracy: 0.8101\n",
      "Epoch 41: val_loss did not improve from 0.33523\n",
      "210/210 [==============================] - 85s 405ms/step - loss: 0.4759 - accuracy: 0.8101 - val_loss: 0.8660 - val_accuracy: 0.6750 - lr: 0.0010\n",
      "Epoch 42/55\n",
      "210/210 [==============================] - ETA: 0s - loss: 0.5142 - accuracy: 0.8048\n",
      "Epoch 42: val_loss did not improve from 0.33523\n",
      "210/210 [==============================] - 85s 406ms/step - loss: 0.5142 - accuracy: 0.8048 - val_loss: 0.7251 - val_accuracy: 0.7000 - lr: 0.0010\n",
      "Epoch 43/55\n",
      "210/210 [==============================] - ETA: 0s - loss: 0.5393 - accuracy: 0.7756\n",
      "Epoch 43: val_loss did not improve from 0.33523\n",
      "210/210 [==============================] - 85s 406ms/step - loss: 0.5393 - accuracy: 0.7756 - val_loss: 0.9005 - val_accuracy: 0.6625 - lr: 0.0010\n",
      "Epoch 44/55\n",
      "210/210 [==============================] - ETA: 0s - loss: 0.4807 - accuracy: 0.8065\n",
      "Epoch 44: val_loss did not improve from 0.33523\n",
      "210/210 [==============================] - 85s 406ms/step - loss: 0.4807 - accuracy: 0.8065 - val_loss: 0.7812 - val_accuracy: 0.6958 - lr: 0.0010\n",
      "Epoch 45/55\n",
      "210/210 [==============================] - ETA: 0s - loss: 0.5061 - accuracy: 0.7798\n",
      "Epoch 45: val_loss did not improve from 0.33523\n",
      "210/210 [==============================] - 85s 406ms/step - loss: 0.5061 - accuracy: 0.7798 - val_loss: 0.7229 - val_accuracy: 0.7542 - lr: 0.0010\n",
      "Epoch 46/55\n",
      "210/210 [==============================] - ETA: 0s - loss: 0.4864 - accuracy: 0.8036\n",
      "Epoch 46: val_loss did not improve from 0.33523\n",
      "210/210 [==============================] - 85s 406ms/step - loss: 0.4864 - accuracy: 0.8036 - val_loss: 0.4758 - val_accuracy: 0.7875 - lr: 0.0010\n",
      "Epoch 47/55\n",
      "210/210 [==============================] - ETA: 0s - loss: 0.4978 - accuracy: 0.7899\n",
      "Epoch 47: val_loss did not improve from 0.33523\n",
      "210/210 [==============================] - 85s 407ms/step - loss: 0.4978 - accuracy: 0.7899 - val_loss: 0.4940 - val_accuracy: 0.7292 - lr: 0.0010\n",
      "Epoch 48/55\n",
      "210/210 [==============================] - ETA: 0s - loss: 0.4363 - accuracy: 0.8101\n",
      "Epoch 48: val_loss did not improve from 0.33523\n",
      "210/210 [==============================] - 85s 405ms/step - loss: 0.4363 - accuracy: 0.8101 - val_loss: 0.8988 - val_accuracy: 0.6583 - lr: 0.0010\n",
      "Epoch 49/55\n",
      "210/210 [==============================] - ETA: 0s - loss: 0.4544 - accuracy: 0.8131\n",
      "Epoch 49: val_loss did not improve from 0.33523\n",
      "210/210 [==============================] - 85s 405ms/step - loss: 0.4544 - accuracy: 0.8131 - val_loss: 0.4544 - val_accuracy: 0.8292 - lr: 0.0010\n",
      "Epoch 50/55\n",
      "210/210 [==============================] - ETA: 0s - loss: 0.4485 - accuracy: 0.8185\n",
      "Epoch 50: val_loss did not improve from 0.33523\n",
      "210/210 [==============================] - 86s 408ms/step - loss: 0.4485 - accuracy: 0.8185 - val_loss: 1.1039 - val_accuracy: 0.5833 - lr: 0.0010\n",
      "Epoch 51/55\n",
      "210/210 [==============================] - ETA: 0s - loss: 0.5314 - accuracy: 0.7958\n",
      "Epoch 51: val_loss did not improve from 0.33523\n",
      "210/210 [==============================] - 86s 410ms/step - loss: 0.5314 - accuracy: 0.7958 - val_loss: 0.4991 - val_accuracy: 0.8542 - lr: 0.0010\n",
      "Epoch 52/55\n",
      "210/210 [==============================] - ETA: 0s - loss: 0.4724 - accuracy: 0.8167\n",
      "Epoch 52: val_loss did not improve from 0.33523\n",
      "210/210 [==============================] - 85s 406ms/step - loss: 0.4724 - accuracy: 0.8167 - val_loss: 0.3683 - val_accuracy: 0.8708 - lr: 0.0010\n",
      "Epoch 53/55\n",
      "210/210 [==============================] - ETA: 0s - loss: 0.4533 - accuracy: 0.8220\n",
      "Epoch 53: val_loss did not improve from 0.33523\n",
      "210/210 [==============================] - 85s 407ms/step - loss: 0.4533 - accuracy: 0.8220 - val_loss: 0.4699 - val_accuracy: 0.8458 - lr: 0.0010\n",
      "Epoch 54/55\n",
      "210/210 [==============================] - ETA: 0s - loss: 0.4134 - accuracy: 0.8423\n",
      "Epoch 54: val_loss did not improve from 0.33523\n",
      "210/210 [==============================] - 85s 406ms/step - loss: 0.4134 - accuracy: 0.8423 - val_loss: 0.5961 - val_accuracy: 0.7833 - lr: 0.0010\n",
      "Epoch 55/55\n",
      "210/210 [==============================] - ETA: 0s - loss: 0.4056 - accuracy: 0.8500\n",
      "Epoch 55: ReduceLROnPlateau reducing learning rate to 0.0006000000284984708.\n",
      "\n",
      "Epoch 55: val_loss did not improve from 0.33523\n",
      "210/210 [==============================] - 85s 405ms/step - loss: 0.4056 - accuracy: 0.8500 - val_loss: 1.5115 - val_accuracy: 0.5458 - lr: 0.0010\n"
     ]
    },
    {
     "data": {
      "image/png": "[encoded data removed]",
      "text/plain": [
       "<Figure size 300x200 with 1 Axes>"
      ]
     },
     "metadata": {},
     "output_type": "display_data"
    },
    {
     "data": {
      "image/png": "[encoded data removed]",
      "text/plain": [
       "<Figure size 300x200 with 1 Axes>"
      ]
     },
     "metadata": {},
     "output_type": "display_data"
    },
    {
     "name": "stdout",
     "output_type": "stream",
     "text": [
      "Fold Training Time: 1 hour(s) and 20 mins\n",
      "Precision: 90.67796468734741  -  Recall: 89.16666507720947\n",
      "Accuracy: 89.58333134651184\n",
      "F1Score: Building 83.05084991455078 | Plant 95.0 | Road 91.89189147949219 | Vehicle 88.54961395263672\n",
      "[neptune] [info   ] Shutting down background jobs, please wait a moment...\n",
      "[neptune] [info   ] Done!\n",
      "[neptune] [info   ] Neptune initialized. Open in the app: offline/a9b03936-540b-4f6a-a58e-13e53c96aad6\n",
      "Epoch 1/55\n",
      "210/210 [==============================] - ETA: 0s - loss: 7.4632 - accuracy: 0.5333\n",
      "Epoch 1: val_loss improved from inf to 1.81253, saving model to ./checkpoints/V4.1.3\\FOLD-6\n",
      "INFO:tensorflow:Assets written to: ./checkpoints/V4.1.3\\FOLD-6\\assets\n"
     ]
    },
    {
     "name": "stderr",
     "output_type": "stream",
     "text": [
      "INFO:tensorflow:Assets written to: ./checkpoints/V4.1.3\\FOLD-6\\assets\n"
     ]
    },
    {
     "name": "stdout",
     "output_type": "stream",
     "text": [
      "210/210 [==============================] - 98s 444ms/step - loss: 7.4632 - accuracy: 0.5333 - val_loss: 1.8125 - val_accuracy: 0.4500 - lr: 0.0010\n",
      "Epoch 2/55\n",
      "210/210 [==============================] - ETA: 0s - loss: 0.9676 - accuracy: 0.6083\n",
      "Epoch 2: val_loss improved from 1.81253 to 0.99385, saving model to ./checkpoints/V4.1.3\\FOLD-6\n",
      "INFO:tensorflow:Assets written to: ./checkpoints/V4.1.3\\FOLD-6\\assets\n"
     ]
    },
    {
     "name": "stderr",
     "output_type": "stream",
     "text": [
      "INFO:tensorflow:Assets written to: ./checkpoints/V4.1.3\\FOLD-6\\assets\n"
     ]
    },
    {
     "name": "stdout",
     "output_type": "stream",
     "text": [
      "210/210 [==============================] - 91s 436ms/step - loss: 0.9676 - accuracy: 0.6083 - val_loss: 0.9938 - val_accuracy: 0.5250 - lr: 0.0010\n",
      "Epoch 3/55\n",
      "210/210 [==============================] - ETA: 0s - loss: 0.9016 - accuracy: 0.6500\n",
      "Epoch 3: val_loss did not improve from 0.99385\n",
      "210/210 [==============================] - 85s 407ms/step - loss: 0.9016 - accuracy: 0.6500 - val_loss: 1.3525 - val_accuracy: 0.4083 - lr: 0.0010\n",
      "Epoch 4/55\n",
      "210/210 [==============================] - ETA: 0s - loss: 0.9022 - accuracy: 0.6375\n",
      "Epoch 4: val_loss improved from 0.99385 to 0.63770, saving model to ./checkpoints/V4.1.3\\FOLD-6\n",
      "INFO:tensorflow:Assets written to: ./checkpoints/V4.1.3\\FOLD-6\\assets\n"
     ]
    },
    {
     "name": "stderr",
     "output_type": "stream",
     "text": [
      "INFO:tensorflow:Assets written to: ./checkpoints/V4.1.3\\FOLD-6\\assets\n"
     ]
    },
    {
     "name": "stdout",
     "output_type": "stream",
     "text": [
      "210/210 [==============================] - 93s 444ms/step - loss: 0.9022 - accuracy: 0.6375 - val_loss: 0.6377 - val_accuracy: 0.7708 - lr: 0.0010\n",
      "Epoch 5/55\n",
      "210/210 [==============================] - ETA: 0s - loss: 0.8318 - accuracy: 0.6637\n",
      "Epoch 5: val_loss did not improve from 0.63770\n",
      "210/210 [==============================] - 86s 407ms/step - loss: 0.8318 - accuracy: 0.6637 - val_loss: 2.1461 - val_accuracy: 0.5000 - lr: 0.0010\n",
      "Epoch 6/55\n",
      "210/210 [==============================] - ETA: 0s - loss: 0.8471 - accuracy: 0.6536\n",
      "Epoch 6: val_loss did not improve from 0.63770\n",
      "210/210 [==============================] - 86s 411ms/step - loss: 0.8471 - accuracy: 0.6536 - val_loss: 1.0060 - val_accuracy: 0.5083 - lr: 0.0010\n",
      "Epoch 7/55\n",
      "210/210 [==============================] - ETA: 0s - loss: 0.8746 - accuracy: 0.6423\n",
      "Epoch 7: val_loss did not improve from 0.63770\n",
      "210/210 [==============================] - 85s 405ms/step - loss: 0.8746 - accuracy: 0.6423 - val_loss: 0.9291 - val_accuracy: 0.6292 - lr: 0.0010\n",
      "Epoch 8/55\n",
      "210/210 [==============================] - ETA: 0s - loss: 0.8607 - accuracy: 0.6506\n",
      "Epoch 8: val_loss did not improve from 0.63770\n",
      "210/210 [==============================] - 86s 408ms/step - loss: 0.8607 - accuracy: 0.6506 - val_loss: 0.8293 - val_accuracy: 0.7333 - lr: 0.0010\n",
      "Epoch 9/55\n",
      "210/210 [==============================] - ETA: 0s - loss: 0.7830 - accuracy: 0.6899\n",
      "Epoch 9: val_loss did not improve from 0.63770\n",
      "210/210 [==============================] - 86s 407ms/step - loss: 0.7830 - accuracy: 0.6899 - val_loss: 2.1632 - val_accuracy: 0.5583 - lr: 0.0010\n",
      "Epoch 10/55\n",
      "210/210 [==============================] - ETA: 0s - loss: 0.8551 - accuracy: 0.6863\n",
      "Epoch 10: val_loss did not improve from 0.63770\n",
      "210/210 [==============================] - 85s 406ms/step - loss: 0.8551 - accuracy: 0.6863 - val_loss: 0.8821 - val_accuracy: 0.6375 - lr: 0.0010\n",
      "Epoch 11/55\n",
      "210/210 [==============================] - ETA: 0s - loss: 0.7783 - accuracy: 0.7036\n",
      "Epoch 11: val_loss did not improve from 0.63770\n",
      "210/210 [==============================] - 85s 407ms/step - loss: 0.7783 - accuracy: 0.7036 - val_loss: 0.9728 - val_accuracy: 0.7208 - lr: 0.0010\n",
      "Epoch 12/55\n",
      "210/210 [==============================] - ETA: 0s - loss: 0.9078 - accuracy: 0.6476\n",
      "Epoch 12: val_loss did not improve from 0.63770\n",
      "210/210 [==============================] - 85s 407ms/step - loss: 0.9078 - accuracy: 0.6476 - val_loss: 0.9284 - val_accuracy: 0.6750 - lr: 0.0010\n",
      "Epoch 13/55\n",
      "210/210 [==============================] - ETA: 0s - loss: 0.7867 - accuracy: 0.6976\n",
      "Epoch 13: val_loss did not improve from 0.63770\n",
      "210/210 [==============================] - 85s 407ms/step - loss: 0.7867 - accuracy: 0.6976 - val_loss: 0.9537 - val_accuracy: 0.6042 - lr: 0.0010\n",
      "Epoch 14/55\n",
      "210/210 [==============================] - ETA: 0s - loss: 0.7559 - accuracy: 0.7095\n",
      "Epoch 14: val_loss did not improve from 0.63770\n",
      "210/210 [==============================] - 85s 405ms/step - loss: 0.7559 - accuracy: 0.7095 - val_loss: 1.2232 - val_accuracy: 0.4417 - lr: 0.0010\n",
      "Epoch 15/55\n",
      "210/210 [==============================] - ETA: 0s - loss: 0.8480 - accuracy: 0.6696\n",
      "Epoch 15: val_loss did not improve from 0.63770\n",
      "210/210 [==============================] - 85s 407ms/step - loss: 0.8480 - accuracy: 0.6696 - val_loss: 1.1790 - val_accuracy: 0.4500 - lr: 0.0010\n",
      "Epoch 16/55\n",
      "210/210 [==============================] - ETA: 0s - loss: 0.8718 - accuracy: 0.6696\n",
      "Epoch 16: val_loss did not improve from 0.63770\n",
      "210/210 [==============================] - 85s 407ms/step - loss: 0.8718 - accuracy: 0.6696 - val_loss: 2.2042 - val_accuracy: 0.4125 - lr: 0.0010\n",
      "Epoch 17/55\n",
      "210/210 [==============================] - ETA: 0s - loss: 0.7412 - accuracy: 0.7107\n",
      "Epoch 17: val_loss did not improve from 0.63770\n",
      "210/210 [==============================] - 86s 412ms/step - loss: 0.7412 - accuracy: 0.7107 - val_loss: 0.7800 - val_accuracy: 0.7958 - lr: 0.0010\n",
      "Epoch 18/55\n",
      "210/210 [==============================] - ETA: 0s - loss: 0.7665 - accuracy: 0.7208\n",
      "Epoch 18: val_loss did not improve from 0.63770\n",
      "210/210 [==============================] - 85s 406ms/step - loss: 0.7665 - accuracy: 0.7208 - val_loss: 0.8273 - val_accuracy: 0.7000 - lr: 0.0010\n",
      "Epoch 19/55\n",
      "210/210 [==============================] - ETA: 0s - loss: 0.7210 - accuracy: 0.7262\n",
      "Epoch 19: ReduceLROnPlateau reducing learning rate to 0.0006000000284984708.\n",
      "\n",
      "Epoch 19: val_loss did not improve from 0.63770\n",
      "210/210 [==============================] - 86s 411ms/step - loss: 0.7210 - accuracy: 0.7262 - val_loss: 1.1243 - val_accuracy: 0.5625 - lr: 0.0010\n",
      "Epoch 20/55\n",
      "210/210 [==============================] - ETA: 0s - loss: 0.6222 - accuracy: 0.7589\n",
      "Epoch 20: val_loss did not improve from 0.63770\n",
      "210/210 [==============================] - 86s 412ms/step - loss: 0.6222 - accuracy: 0.7589 - val_loss: 0.6521 - val_accuracy: 0.7583 - lr: 6.0000e-04\n",
      "Epoch 21/55\n",
      "210/210 [==============================] - ETA: 0s - loss: 0.5971 - accuracy: 0.7756\n",
      "Epoch 21: val_loss improved from 0.63770 to 0.52956, saving model to ./checkpoints/V4.1.3\\FOLD-6\n",
      "INFO:tensorflow:Assets written to: ./checkpoints/V4.1.3\\FOLD-6\\assets\n"
     ]
    },
    {
     "name": "stderr",
     "output_type": "stream",
     "text": [
      "INFO:tensorflow:Assets written to: ./checkpoints/V4.1.3\\FOLD-6\\assets\n"
     ]
    },
    {
     "name": "stdout",
     "output_type": "stream",
     "text": [
      "210/210 [==============================] - 91s 435ms/step - loss: 0.5971 - accuracy: 0.7756 - val_loss: 0.5296 - val_accuracy: 0.8125 - lr: 6.0000e-04\n",
      "Epoch 22/55\n",
      "210/210 [==============================] - ETA: 0s - loss: 0.5361 - accuracy: 0.8024\n",
      "Epoch 22: val_loss did not improve from 0.52956\n",
      "210/210 [==============================] - 86s 409ms/step - loss: 0.5361 - accuracy: 0.8024 - val_loss: 0.8274 - val_accuracy: 0.7708 - lr: 6.0000e-04\n",
      "Epoch 23/55\n",
      "210/210 [==============================] - ETA: 0s - loss: 0.5625 - accuracy: 0.7905\n",
      "Epoch 23: val_loss did not improve from 0.52956\n",
      "210/210 [==============================] - 86s 407ms/step - loss: 0.5625 - accuracy: 0.7905 - val_loss: 0.5418 - val_accuracy: 0.8208 - lr: 6.0000e-04\n",
      "Epoch 24/55\n",
      "210/210 [==============================] - ETA: 0s - loss: 0.5679 - accuracy: 0.7792\n",
      "Epoch 24: val_loss did not improve from 0.52956\n",
      "210/210 [==============================] - 85s 407ms/step - loss: 0.5679 - accuracy: 0.7792 - val_loss: 1.8229 - val_accuracy: 0.6292 - lr: 6.0000e-04\n",
      "Epoch 25/55\n",
      "210/210 [==============================] - ETA: 0s - loss: 0.5628 - accuracy: 0.7887\n",
      "Epoch 25: val_loss did not improve from 0.52956\n",
      "210/210 [==============================] - 85s 406ms/step - loss: 0.5628 - accuracy: 0.7887 - val_loss: 0.6526 - val_accuracy: 0.8208 - lr: 6.0000e-04\n",
      "Epoch 26/55\n",
      "210/210 [==============================] - ETA: 0s - loss: 0.5507 - accuracy: 0.7964\n",
      "Epoch 26: val_loss improved from 0.52956 to 0.48772, saving model to ./checkpoints/V4.1.3\\FOLD-6\n",
      "INFO:tensorflow:Assets written to: ./checkpoints/V4.1.3\\FOLD-6\\assets\n"
     ]
    },
    {
     "name": "stderr",
     "output_type": "stream",
     "text": [
      "INFO:tensorflow:Assets written to: ./checkpoints/V4.1.3\\FOLD-6\\assets\n"
     ]
    },
    {
     "name": "stdout",
     "output_type": "stream",
     "text": [
      "210/210 [==============================] - 91s 434ms/step - loss: 0.5507 - accuracy: 0.7964 - val_loss: 0.4877 - val_accuracy: 0.8417 - lr: 6.0000e-04\n",
      "Epoch 27/55\n",
      "210/210 [==============================] - ETA: 0s - loss: 0.4901 - accuracy: 0.8083\n",
      "Epoch 27: val_loss did not improve from 0.48772\n",
      "210/210 [==============================] - 86s 409ms/step - loss: 0.4901 - accuracy: 0.8083 - val_loss: 0.6718 - val_accuracy: 0.7792 - lr: 6.0000e-04\n",
      "Epoch 28/55\n",
      "210/210 [==============================] - ETA: 0s - loss: 0.5331 - accuracy: 0.8054\n",
      "Epoch 28: val_loss did not improve from 0.48772\n",
      "210/210 [==============================] - 86s 408ms/step - loss: 0.5331 - accuracy: 0.8054 - val_loss: 0.6087 - val_accuracy: 0.7792 - lr: 6.0000e-04\n",
      "Epoch 29/55\n",
      "210/210 [==============================] - ETA: 0s - loss: 0.5208 - accuracy: 0.8077\n",
      "Epoch 29: val_loss did not improve from 0.48772\n",
      "210/210 [==============================] - 85s 407ms/step - loss: 0.5208 - accuracy: 0.8077 - val_loss: 1.1164 - val_accuracy: 0.6458 - lr: 6.0000e-04\n",
      "Epoch 30/55\n",
      "210/210 [==============================] - ETA: 0s - loss: 0.5086 - accuracy: 0.8018\n",
      "Epoch 30: val_loss did not improve from 0.48772\n",
      "210/210 [==============================] - 86s 410ms/step - loss: 0.5086 - accuracy: 0.8018 - val_loss: 0.8260 - val_accuracy: 0.7708 - lr: 6.0000e-04\n",
      "Epoch 31/55\n",
      "210/210 [==============================] - ETA: 0s - loss: 0.4653 - accuracy: 0.8315\n",
      "Epoch 31: val_loss did not improve from 0.48772\n",
      "210/210 [==============================] - 85s 407ms/step - loss: 0.4653 - accuracy: 0.8315 - val_loss: 2.0848 - val_accuracy: 0.6167 - lr: 6.0000e-04\n",
      "Epoch 32/55\n",
      "210/210 [==============================] - ETA: 0s - loss: 0.5018 - accuracy: 0.8179\n",
      "Epoch 32: val_loss did not improve from 0.48772\n",
      "210/210 [==============================] - 85s 406ms/step - loss: 0.5018 - accuracy: 0.8179 - val_loss: 1.0805 - val_accuracy: 0.6542 - lr: 6.0000e-04\n",
      "Epoch 33/55\n",
      "210/210 [==============================] - ETA: 0s - loss: 0.5803 - accuracy: 0.7881\n",
      "Epoch 33: val_loss did not improve from 0.48772\n",
      "210/210 [==============================] - 85s 406ms/step - loss: 0.5803 - accuracy: 0.7881 - val_loss: 4.6329 - val_accuracy: 0.2500 - lr: 6.0000e-04\n",
      "Epoch 34/55\n",
      "210/210 [==============================] - ETA: 0s - loss: 0.6193 - accuracy: 0.7708\n",
      "Epoch 34: val_loss did not improve from 0.48772\n",
      "210/210 [==============================] - 86s 407ms/step - loss: 0.6193 - accuracy: 0.7708 - val_loss: 0.6493 - val_accuracy: 0.8000 - lr: 6.0000e-04\n",
      "Epoch 35/55\n",
      "210/210 [==============================] - ETA: 0s - loss: 0.4851 - accuracy: 0.8137\n",
      "Epoch 35: val_loss did not improve from 0.48772\n",
      "210/210 [==============================] - 86s 408ms/step - loss: 0.4851 - accuracy: 0.8137 - val_loss: 0.5330 - val_accuracy: 0.8333 - lr: 6.0000e-04\n",
      "Epoch 36/55\n",
      "210/210 [==============================] - ETA: 0s - loss: 0.4588 - accuracy: 0.8268\n",
      "Epoch 36: val_loss did not improve from 0.48772\n",
      "210/210 [==============================] - 85s 407ms/step - loss: 0.4588 - accuracy: 0.8268 - val_loss: 0.5708 - val_accuracy: 0.8292 - lr: 6.0000e-04\n",
      "Epoch 37/55\n",
      "210/210 [==============================] - ETA: 0s - loss: 0.4474 - accuracy: 0.8232\n",
      "Epoch 37: val_loss did not improve from 0.48772\n",
      "210/210 [==============================] - 86s 409ms/step - loss: 0.4474 - accuracy: 0.8232 - val_loss: 0.5645 - val_accuracy: 0.8250 - lr: 6.0000e-04\n",
      "Epoch 38/55\n",
      "210/210 [==============================] - ETA: 0s - loss: 0.4501 - accuracy: 0.8232\n",
      "Epoch 38: val_loss did not improve from 0.48772\n",
      "210/210 [==============================] - 86s 411ms/step - loss: 0.4501 - accuracy: 0.8232 - val_loss: 0.5847 - val_accuracy: 0.8125 - lr: 6.0000e-04\n",
      "Epoch 39/55\n",
      "210/210 [==============================] - ETA: 0s - loss: 0.4669 - accuracy: 0.8256\n",
      "Epoch 39: val_loss did not improve from 0.48772\n",
      "210/210 [==============================] - 85s 406ms/step - loss: 0.4669 - accuracy: 0.8256 - val_loss: 0.6864 - val_accuracy: 0.7667 - lr: 6.0000e-04\n",
      "Epoch 40/55\n",
      "210/210 [==============================] - ETA: 0s - loss: 0.5197 - accuracy: 0.8083\n",
      "Epoch 40: val_loss did not improve from 0.48772\n",
      "210/210 [==============================] - 86s 408ms/step - loss: 0.5197 - accuracy: 0.8083 - val_loss: 0.6544 - val_accuracy: 0.8250 - lr: 6.0000e-04\n",
      "Epoch 41/55\n",
      "210/210 [==============================] - ETA: 0s - loss: 0.5081 - accuracy: 0.8060\n",
      "Epoch 41: val_loss improved from 0.48772 to 0.46827, saving model to ./checkpoints/V4.1.3\\FOLD-6\n",
      "INFO:tensorflow:Assets written to: ./checkpoints/V4.1.3\\FOLD-6\\assets\n"
     ]
    },
    {
     "name": "stderr",
     "output_type": "stream",
     "text": [
      "INFO:tensorflow:Assets written to: ./checkpoints/V4.1.3\\FOLD-6\\assets\n"
     ]
    },
    {
     "name": "stdout",
     "output_type": "stream",
     "text": [
      "210/210 [==============================] - 92s 437ms/step - loss: 0.5081 - accuracy: 0.8060 - val_loss: 0.4683 - val_accuracy: 0.8542 - lr: 6.0000e-04\n",
      "Epoch 42/55\n",
      "210/210 [==============================] - ETA: 0s - loss: 0.4410 - accuracy: 0.8286\n",
      "Epoch 42: val_loss did not improve from 0.46827\n",
      "210/210 [==============================] - 85s 406ms/step - loss: 0.4410 - accuracy: 0.8286 - val_loss: 1.4535 - val_accuracy: 0.6667 - lr: 6.0000e-04\n",
      "Epoch 43/55\n",
      "210/210 [==============================] - ETA: 0s - loss: 0.4627 - accuracy: 0.8399\n",
      "Epoch 43: val_loss improved from 0.46827 to 0.41562, saving model to ./checkpoints/V4.1.3\\FOLD-6\n",
      "INFO:tensorflow:Assets written to: ./checkpoints/V4.1.3\\FOLD-6\\assets\n"
     ]
    },
    {
     "name": "stderr",
     "output_type": "stream",
     "text": [
      "INFO:tensorflow:Assets written to: ./checkpoints/V4.1.3\\FOLD-6\\assets\n"
     ]
    },
    {
     "name": "stdout",
     "output_type": "stream",
     "text": [
      "210/210 [==============================] - 91s 436ms/step - loss: 0.4627 - accuracy: 0.8399 - val_loss: 0.4156 - val_accuracy: 0.8750 - lr: 6.0000e-04\n",
      "Epoch 44/55\n",
      "210/210 [==============================] - ETA: 0s - loss: 0.4337 - accuracy: 0.8423\n",
      "Epoch 44: val_loss did not improve from 0.41562\n",
      "210/210 [==============================] - 85s 407ms/step - loss: 0.4337 - accuracy: 0.8423 - val_loss: 1.2082 - val_accuracy: 0.5625 - lr: 6.0000e-04\n",
      "Epoch 45/55\n",
      "210/210 [==============================] - ETA: 0s - loss: 0.4102 - accuracy: 0.8429\n",
      "Epoch 45: val_loss did not improve from 0.41562\n",
      "210/210 [==============================] - 85s 406ms/step - loss: 0.4102 - accuracy: 0.8429 - val_loss: 0.4394 - val_accuracy: 0.8750 - lr: 6.0000e-04\n",
      "Epoch 46/55\n",
      "210/210 [==============================] - ETA: 0s - loss: 0.4274 - accuracy: 0.8375\n",
      "Epoch 46: val_loss did not improve from 0.41562\n",
      "210/210 [==============================] - 85s 406ms/step - loss: 0.4274 - accuracy: 0.8375 - val_loss: 0.6950 - val_accuracy: 0.7500 - lr: 6.0000e-04\n",
      "Epoch 47/55\n",
      "210/210 [==============================] - ETA: 0s - loss: 0.4328 - accuracy: 0.8321\n",
      "Epoch 47: val_loss did not improve from 0.41562\n",
      "210/210 [==============================] - 86s 407ms/step - loss: 0.4328 - accuracy: 0.8321 - val_loss: 1.1410 - val_accuracy: 0.7000 - lr: 6.0000e-04\n",
      "Epoch 48/55\n",
      "210/210 [==============================] - ETA: 0s - loss: 0.3946 - accuracy: 0.8435\n",
      "Epoch 48: val_loss did not improve from 0.41562\n",
      "210/210 [==============================] - 85s 406ms/step - loss: 0.3946 - accuracy: 0.8435 - val_loss: 0.4282 - val_accuracy: 0.8750 - lr: 6.0000e-04\n",
      "Epoch 49/55\n",
      "210/210 [==============================] - ETA: 0s - loss: 0.3919 - accuracy: 0.8565\n",
      "Epoch 49: val_loss did not improve from 0.41562\n",
      "210/210 [==============================] - 86s 410ms/step - loss: 0.3919 - accuracy: 0.8565 - val_loss: 0.4175 - val_accuracy: 0.8750 - lr: 6.0000e-04\n",
      "Epoch 50/55\n",
      "210/210 [==============================] - ETA: 0s - loss: 0.4564 - accuracy: 0.8298\n",
      "Epoch 50: val_loss did not improve from 0.41562\n",
      "210/210 [==============================] - 86s 408ms/step - loss: 0.4564 - accuracy: 0.8298 - val_loss: 2.2812 - val_accuracy: 0.3750 - lr: 6.0000e-04\n",
      "Epoch 51/55\n",
      "210/210 [==============================] - ETA: 0s - loss: 0.4165 - accuracy: 0.8357\n",
      "Epoch 51: val_loss did not improve from 0.41562\n",
      "210/210 [==============================] - 86s 409ms/step - loss: 0.4165 - accuracy: 0.8357 - val_loss: 1.3877 - val_accuracy: 0.5542 - lr: 6.0000e-04\n",
      "Epoch 52/55\n",
      "210/210 [==============================] - ETA: 0s - loss: 0.3984 - accuracy: 0.8565\n",
      "Epoch 52: val_loss did not improve from 0.41562\n",
      "210/210 [==============================] - 85s 407ms/step - loss: 0.3984 - accuracy: 0.8565 - val_loss: 0.5274 - val_accuracy: 0.8292 - lr: 6.0000e-04\n",
      "Epoch 53/55\n",
      "210/210 [==============================] - ETA: 0s - loss: 0.3697 - accuracy: 0.8607\n",
      "Epoch 53: val_loss did not improve from 0.41562\n",
      "210/210 [==============================] - 85s 405ms/step - loss: 0.3697 - accuracy: 0.8607 - val_loss: 0.4264 - val_accuracy: 0.8750 - lr: 6.0000e-04\n",
      "Epoch 54/55\n",
      "210/210 [==============================] - ETA: 0s - loss: 0.3971 - accuracy: 0.8530\n",
      "Epoch 54: val_loss improved from 0.41562 to 0.36903, saving model to ./checkpoints/V4.1.3\\FOLD-6\n",
      "INFO:tensorflow:Assets written to: ./checkpoints/V4.1.3\\FOLD-6\\assets\n"
     ]
    },
    {
     "name": "stderr",
     "output_type": "stream",
     "text": [
      "INFO:tensorflow:Assets written to: ./checkpoints/V4.1.3\\FOLD-6\\assets\n"
     ]
    },
    {
     "name": "stdout",
     "output_type": "stream",
     "text": [
      "210/210 [==============================] - 91s 434ms/step - loss: 0.3971 - accuracy: 0.8530 - val_loss: 0.3690 - val_accuracy: 0.8708 - lr: 6.0000e-04\n",
      "Epoch 55/55\n",
      "210/210 [==============================] - ETA: 0s - loss: 0.3800 - accuracy: 0.8595\n",
      "Epoch 55: val_loss improved from 0.36903 to 0.32517, saving model to ./checkpoints/V4.1.3\\FOLD-6\n",
      "INFO:tensorflow:Assets written to: ./checkpoints/V4.1.3\\FOLD-6\\assets\n"
     ]
    },
    {
     "name": "stderr",
     "output_type": "stream",
     "text": [
      "INFO:tensorflow:Assets written to: ./checkpoints/V4.1.3\\FOLD-6\\assets\n"
     ]
    },
    {
     "name": "stdout",
     "output_type": "stream",
     "text": [
      "210/210 [==============================] - 92s 438ms/step - loss: 0.3800 - accuracy: 0.8595 - val_loss: 0.3252 - val_accuracy: 0.8917 - lr: 6.0000e-04\n"
     ]
    },
    {
     "data": {
      "image/png": "[encoded data removed]",
      "text/plain": [
       "<Figure size 300x200 with 1 Axes>"
      ]
     },
     "metadata": {},
     "output_type": "display_data"
    },
    {
     "data": {
      "image/png": "[encoded data removed]",
      "text/plain": [
       "<Figure size 300x200 with 1 Axes>"
      ]
     },
     "metadata": {},
     "output_type": "display_data"
    },
    {
     "name": "stdout",
     "output_type": "stream",
     "text": [
      "Fold Training Time: 1 hour(s) and 19 mins\n",
      "Precision: 90.17093777656555  -  Recall: 87.91666626930237\n",
      "Accuracy: 89.16666507720947\n",
      "F1Score: Building 81.41593170166016 | Plant 95.7983169555664 | Road 95.0 | Vehicle 84.375\n",
      "[neptune] [info   ] Shutting down background jobs, please wait a moment...\n",
      "[neptune] [info   ] Done!\n",
      "[neptune] [info   ] Neptune initialized. Open in the app: offline/22da421b-915d-4ec3-9c42-42262a6d451d\n",
      "Epoch 1/55\n",
      "210/210 [==============================] - ETA: 0s - loss: 7.0633 - accuracy: 0.5601\n",
      "Epoch 1: val_loss improved from inf to 1.52860, saving model to ./checkpoints/V4.1.3\\FOLD-7\n",
      "INFO:tensorflow:Assets written to: ./checkpoints/V4.1.3\\FOLD-7\\assets\n"
     ]
    },
    {
     "name": "stderr",
     "output_type": "stream",
     "text": [
      "INFO:tensorflow:Assets written to: ./checkpoints/V4.1.3\\FOLD-7\\assets\n"
     ]
    },
    {
     "name": "stdout",
     "output_type": "stream",
     "text": [
      "210/210 [==============================] - 99s 453ms/step - loss: 7.0633 - accuracy: 0.5601 - val_loss: 1.5286 - val_accuracy: 0.3458 - lr: 0.0010\n",
      "Epoch 2/55\n",
      "210/210 [==============================] - ETA: 0s - loss: 0.9720 - accuracy: 0.6060\n",
      "Epoch 2: val_loss improved from 1.52860 to 0.85093, saving model to ./checkpoints/V4.1.3\\FOLD-7\n",
      "INFO:tensorflow:Assets written to: ./checkpoints/V4.1.3\\FOLD-7\\assets\n"
     ]
    },
    {
     "name": "stderr",
     "output_type": "stream",
     "text": [
      "INFO:tensorflow:Assets written to: ./checkpoints/V4.1.3\\FOLD-7\\assets\n"
     ]
    },
    {
     "name": "stdout",
     "output_type": "stream",
     "text": [
      "210/210 [==============================] - 105s 500ms/step - loss: 0.9720 - accuracy: 0.6060 - val_loss: 0.8509 - val_accuracy: 0.5917 - lr: 0.0010\n",
      "Epoch 3/55\n",
      "210/210 [==============================] - ETA: 0s - loss: 0.7861 - accuracy: 0.6750\n",
      "Epoch 3: val_loss improved from 0.85093 to 0.69846, saving model to ./checkpoints/V4.1.3\\FOLD-7\n",
      "INFO:tensorflow:Assets written to: ./checkpoints/V4.1.3\\FOLD-7\\assets\n"
     ]
    },
    {
     "name": "stderr",
     "output_type": "stream",
     "text": [
      "INFO:tensorflow:Assets written to: ./checkpoints/V4.1.3\\FOLD-7\\assets\n"
     ]
    },
    {
     "name": "stdout",
     "output_type": "stream",
     "text": [
      "210/210 [==============================] - 99s 472ms/step - loss: 0.7861 - accuracy: 0.6750 - val_loss: 0.6985 - val_accuracy: 0.7250 - lr: 0.0010\n",
      "Epoch 4/55\n",
      "210/210 [==============================] - ETA: 0s - loss: 0.7692 - accuracy: 0.6768\n",
      "Epoch 4: val_loss did not improve from 0.69846\n",
      "210/210 [==============================] - 87s 416ms/step - loss: 0.7692 - accuracy: 0.6768 - val_loss: 0.8273 - val_accuracy: 0.7083 - lr: 0.0010\n",
      "Epoch 5/55\n",
      "210/210 [==============================] - ETA: 0s - loss: 0.7542 - accuracy: 0.6887\n",
      "Epoch 5: val_loss did not improve from 0.69846\n",
      "210/210 [==============================] - 88s 417ms/step - loss: 0.7542 - accuracy: 0.6887 - val_loss: 1.3982 - val_accuracy: 0.5083 - lr: 0.0010\n",
      "Epoch 6/55\n",
      "210/210 [==============================] - ETA: 0s - loss: 0.8000 - accuracy: 0.6839\n",
      "Epoch 6: val_loss improved from 0.69846 to 0.68797, saving model to ./checkpoints/V4.1.3\\FOLD-7\n",
      "INFO:tensorflow:Assets written to: ./checkpoints/V4.1.3\\FOLD-7\\assets\n"
     ]
    },
    {
     "name": "stderr",
     "output_type": "stream",
     "text": [
      "INFO:tensorflow:Assets written to: ./checkpoints/V4.1.3\\FOLD-7\\assets\n"
     ]
    },
    {
     "name": "stdout",
     "output_type": "stream",
     "text": [
      "210/210 [==============================] - 94s 450ms/step - loss: 0.8000 - accuracy: 0.6839 - val_loss: 0.6880 - val_accuracy: 0.6375 - lr: 0.0010\n",
      "Epoch 7/55\n",
      "210/210 [==============================] - ETA: 0s - loss: 0.7491 - accuracy: 0.7071\n",
      "Epoch 7: val_loss did not improve from 0.68797\n",
      "210/210 [==============================] - 88s 420ms/step - loss: 0.7491 - accuracy: 0.7071 - val_loss: 0.9284 - val_accuracy: 0.6083 - lr: 0.0010\n",
      "Epoch 8/55\n",
      "210/210 [==============================] - ETA: 0s - loss: 0.8290 - accuracy: 0.6327\n",
      "Epoch 8: val_loss did not improve from 0.68797\n",
      "210/210 [==============================] - 88s 419ms/step - loss: 0.8290 - accuracy: 0.6327 - val_loss: 0.8375 - val_accuracy: 0.6250 - lr: 0.0010\n",
      "Epoch 9/55\n",
      "210/210 [==============================] - ETA: 0s - loss: 0.8689 - accuracy: 0.6125\n",
      "Epoch 9: val_loss did not improve from 0.68797\n",
      "210/210 [==============================] - 87s 417ms/step - loss: 0.8689 - accuracy: 0.6125 - val_loss: 2.6553 - val_accuracy: 0.4542 - lr: 0.0010\n",
      "Epoch 10/55\n",
      "210/210 [==============================] - ETA: 0s - loss: 0.8445 - accuracy: 0.6274\n",
      "Epoch 10: val_loss did not improve from 0.68797\n",
      "210/210 [==============================] - 88s 419ms/step - loss: 0.8445 - accuracy: 0.6274 - val_loss: 0.8939 - val_accuracy: 0.6583 - lr: 0.0010\n",
      "Epoch 11/55\n",
      "210/210 [==============================] - ETA: 0s - loss: 0.8261 - accuracy: 0.6518\n",
      "Epoch 11: val_loss did not improve from 0.68797\n",
      "210/210 [==============================] - 87s 416ms/step - loss: 0.8261 - accuracy: 0.6518 - val_loss: 4.5280 - val_accuracy: 0.4625 - lr: 0.0010\n",
      "Epoch 12/55\n",
      "210/210 [==============================] - ETA: 0s - loss: 0.7985 - accuracy: 0.6750\n",
      "Epoch 12: val_loss did not improve from 0.68797\n",
      "210/210 [==============================] - 88s 418ms/step - loss: 0.7985 - accuracy: 0.6750 - val_loss: 1.2406 - val_accuracy: 0.6125 - lr: 0.0010\n",
      "Epoch 13/55\n",
      "210/210 [==============================] - ETA: 0s - loss: 0.8091 - accuracy: 0.6905\n",
      "Epoch 13: val_loss did not improve from 0.68797\n",
      "210/210 [==============================] - 88s 417ms/step - loss: 0.8091 - accuracy: 0.6905 - val_loss: 1.4912 - val_accuracy: 0.6000 - lr: 0.0010\n",
      "Epoch 14/55\n",
      "210/210 [==============================] - ETA: 0s - loss: 0.7572 - accuracy: 0.7286\n",
      "Epoch 14: val_loss did not improve from 0.68797\n",
      "210/210 [==============================] - 87s 416ms/step - loss: 0.7572 - accuracy: 0.7286 - val_loss: 1.9286 - val_accuracy: 0.4583 - lr: 0.0010\n",
      "Epoch 15/55\n",
      "210/210 [==============================] - ETA: 0s - loss: 0.7860 - accuracy: 0.7155\n",
      "Epoch 15: val_loss did not improve from 0.68797\n",
      "210/210 [==============================] - 88s 417ms/step - loss: 0.7860 - accuracy: 0.7155 - val_loss: 1.1644 - val_accuracy: 0.5542 - lr: 0.0010\n",
      "Epoch 16/55\n",
      "210/210 [==============================] - ETA: 0s - loss: 0.7794 - accuracy: 0.7006\n",
      "Epoch 16: val_loss did not improve from 0.68797\n",
      "210/210 [==============================] - 88s 420ms/step - loss: 0.7794 - accuracy: 0.7006 - val_loss: 3.0271 - val_accuracy: 0.4833 - lr: 0.0010\n",
      "Epoch 17/55\n",
      "210/210 [==============================] - ETA: 0s - loss: 0.7024 - accuracy: 0.7524\n",
      "Epoch 17: val_loss did not improve from 0.68797\n",
      "210/210 [==============================] - 88s 417ms/step - loss: 0.7024 - accuracy: 0.7524 - val_loss: 1.2431 - val_accuracy: 0.3625 - lr: 0.0010\n",
      "Epoch 18/55\n",
      "210/210 [==============================] - ETA: 0s - loss: 0.7187 - accuracy: 0.7399\n",
      "Epoch 18: val_loss did not improve from 0.68797\n",
      "210/210 [==============================] - 88s 417ms/step - loss: 0.7187 - accuracy: 0.7399 - val_loss: 0.7386 - val_accuracy: 0.7833 - lr: 0.0010\n",
      "Epoch 19/55\n",
      "210/210 [==============================] - ETA: 0s - loss: 0.7032 - accuracy: 0.7619\n",
      "Epoch 19: val_loss did not improve from 0.68797\n",
      "210/210 [==============================] - 88s 417ms/step - loss: 0.7032 - accuracy: 0.7619 - val_loss: 1.0131 - val_accuracy: 0.7000 - lr: 0.0010\n",
      "Epoch 20/55\n",
      "210/210 [==============================] - ETA: 0s - loss: 0.7447 - accuracy: 0.7327\n",
      "Epoch 20: val_loss did not improve from 0.68797\n",
      "210/210 [==============================] - 88s 417ms/step - loss: 0.7447 - accuracy: 0.7327 - val_loss: 2.6741 - val_accuracy: 0.4208 - lr: 0.0010\n",
      "Epoch 21/55\n",
      "210/210 [==============================] - ETA: 0s - loss: 0.6695 - accuracy: 0.7560\n",
      "Epoch 21: ReduceLROnPlateau reducing learning rate to 0.0006000000284984708.\n",
      "\n",
      "Epoch 21: val_loss did not improve from 0.68797\n",
      "210/210 [==============================] - 87s 416ms/step - loss: 0.6695 - accuracy: 0.7560 - val_loss: 1.3677 - val_accuracy: 0.5917 - lr: 0.0010\n",
      "Epoch 22/55\n",
      "210/210 [==============================] - ETA: 0s - loss: 0.5860 - accuracy: 0.7821\n",
      "Epoch 22: val_loss did not improve from 0.68797\n",
      "210/210 [==============================] - 88s 417ms/step - loss: 0.5860 - accuracy: 0.7821 - val_loss: 1.1772 - val_accuracy: 0.6625 - lr: 6.0000e-04\n",
      "Epoch 23/55\n",
      "210/210 [==============================] - ETA: 0s - loss: 0.5827 - accuracy: 0.7881\n",
      "Epoch 23: val_loss did not improve from 0.68797\n",
      "210/210 [==============================] - 88s 417ms/step - loss: 0.5827 - accuracy: 0.7881 - val_loss: 1.2979 - val_accuracy: 0.6208 - lr: 6.0000e-04\n",
      "Epoch 24/55\n",
      "210/210 [==============================] - ETA: 0s - loss: 0.5176 - accuracy: 0.8149\n",
      "Epoch 24: val_loss improved from 0.68797 to 0.51303, saving model to ./checkpoints/V4.1.3\\FOLD-7\n",
      "INFO:tensorflow:Assets written to: ./checkpoints/V4.1.3\\FOLD-7\\assets\n"
     ]
    },
    {
     "name": "stderr",
     "output_type": "stream",
     "text": [
      "INFO:tensorflow:Assets written to: ./checkpoints/V4.1.3\\FOLD-7\\assets\n"
     ]
    },
    {
     "name": "stdout",
     "output_type": "stream",
     "text": [
      "210/210 [==============================] - 93s 445ms/step - loss: 0.5176 - accuracy: 0.8149 - val_loss: 0.5130 - val_accuracy: 0.8292 - lr: 6.0000e-04\n",
      "Epoch 25/55\n",
      "210/210 [==============================] - ETA: 0s - loss: 0.5747 - accuracy: 0.8036\n",
      "Epoch 25: val_loss did not improve from 0.51303\n",
      "210/210 [==============================] - 87s 416ms/step - loss: 0.5747 - accuracy: 0.8036 - val_loss: 3.3669 - val_accuracy: 0.4917 - lr: 6.0000e-04\n",
      "Epoch 26/55\n",
      "210/210 [==============================] - ETA: 0s - loss: 0.5862 - accuracy: 0.7923\n",
      "Epoch 26: val_loss improved from 0.51303 to 0.50947, saving model to ./checkpoints/V4.1.3\\FOLD-7\n",
      "INFO:tensorflow:Assets written to: ./checkpoints/V4.1.3\\FOLD-7\\assets\n"
     ]
    },
    {
     "name": "stderr",
     "output_type": "stream",
     "text": [
      "INFO:tensorflow:Assets written to: ./checkpoints/V4.1.3\\FOLD-7\\assets\n"
     ]
    },
    {
     "name": "stdout",
     "output_type": "stream",
     "text": [
      "210/210 [==============================] - 93s 445ms/step - loss: 0.5862 - accuracy: 0.7923 - val_loss: 0.5095 - val_accuracy: 0.7958 - lr: 6.0000e-04\n",
      "Epoch 27/55\n",
      "210/210 [==============================] - ETA: 0s - loss: 0.5960 - accuracy: 0.7893\n",
      "Epoch 27: val_loss did not improve from 0.50947\n",
      "210/210 [==============================] - 88s 420ms/step - loss: 0.5960 - accuracy: 0.7893 - val_loss: 1.3404 - val_accuracy: 0.5500 - lr: 6.0000e-04\n",
      "Epoch 28/55\n",
      "210/210 [==============================] - ETA: 0s - loss: 0.5709 - accuracy: 0.7881\n",
      "Epoch 28: val_loss did not improve from 0.50947\n",
      "210/210 [==============================] - 87s 416ms/step - loss: 0.5709 - accuracy: 0.7881 - val_loss: 1.2031 - val_accuracy: 0.7125 - lr: 6.0000e-04\n",
      "Epoch 29/55\n",
      "210/210 [==============================] - ETA: 0s - loss: 0.5299 - accuracy: 0.7952\n",
      "Epoch 29: val_loss did not improve from 0.50947\n",
      "210/210 [==============================] - 87s 416ms/step - loss: 0.5299 - accuracy: 0.7952 - val_loss: 3.3051 - val_accuracy: 0.4458 - lr: 6.0000e-04\n",
      "Epoch 30/55\n",
      "210/210 [==============================] - ETA: 0s - loss: 0.4829 - accuracy: 0.8131\n",
      "Epoch 30: val_loss did not improve from 0.50947\n",
      "210/210 [==============================] - 87s 415ms/step - loss: 0.4829 - accuracy: 0.8131 - val_loss: 1.5985 - val_accuracy: 0.5458 - lr: 6.0000e-04\n",
      "Epoch 31/55\n",
      "210/210 [==============================] - ETA: 0s - loss: 0.4854 - accuracy: 0.8232\n",
      "Epoch 31: val_loss did not improve from 0.50947\n",
      "210/210 [==============================] - 87s 414ms/step - loss: 0.4854 - accuracy: 0.8232 - val_loss: 1.0525 - val_accuracy: 0.7292 - lr: 6.0000e-04\n",
      "Epoch 32/55\n",
      "210/210 [==============================] - ETA: 0s - loss: 0.5006 - accuracy: 0.8185\n",
      "Epoch 32: val_loss did not improve from 0.50947\n",
      "210/210 [==============================] - 87s 415ms/step - loss: 0.5006 - accuracy: 0.8185 - val_loss: 0.8036 - val_accuracy: 0.7833 - lr: 6.0000e-04\n",
      "Epoch 33/55\n",
      "210/210 [==============================] - ETA: 0s - loss: 0.5053 - accuracy: 0.8190\n",
      "Epoch 33: val_loss did not improve from 0.50947\n",
      "210/210 [==============================] - 87s 415ms/step - loss: 0.5053 - accuracy: 0.8190 - val_loss: 0.5881 - val_accuracy: 0.8375 - lr: 6.0000e-04\n",
      "Epoch 34/55\n",
      "210/210 [==============================] - ETA: 0s - loss: 0.5165 - accuracy: 0.8232\n",
      "Epoch 34: val_loss did not improve from 0.50947\n",
      "210/210 [==============================] - 87s 415ms/step - loss: 0.5165 - accuracy: 0.8232 - val_loss: 0.5483 - val_accuracy: 0.8167 - lr: 6.0000e-04\n",
      "Epoch 35/55\n",
      "210/210 [==============================] - ETA: 0s - loss: 0.4679 - accuracy: 0.8256\n",
      "Epoch 35: val_loss did not improve from 0.50947\n",
      "210/210 [==============================] - 87s 416ms/step - loss: 0.4679 - accuracy: 0.8256 - val_loss: 0.8480 - val_accuracy: 0.7250 - lr: 6.0000e-04\n",
      "Epoch 36/55\n",
      "210/210 [==============================] - ETA: 0s - loss: 0.4675 - accuracy: 0.8250\n",
      "Epoch 36: val_loss did not improve from 0.50947\n",
      "210/210 [==============================] - 88s 418ms/step - loss: 0.4675 - accuracy: 0.8250 - val_loss: 0.6258 - val_accuracy: 0.8042 - lr: 6.0000e-04\n",
      "Epoch 37/55\n",
      "210/210 [==============================] - ETA: 0s - loss: 0.4764 - accuracy: 0.8250\n",
      "Epoch 37: val_loss did not improve from 0.50947\n",
      "210/210 [==============================] - 88s 417ms/step - loss: 0.4764 - accuracy: 0.8250 - val_loss: 0.6563 - val_accuracy: 0.7750 - lr: 6.0000e-04\n",
      "Epoch 38/55\n",
      "210/210 [==============================] - ETA: 0s - loss: 0.4304 - accuracy: 0.8482\n",
      "Epoch 38: val_loss did not improve from 0.50947\n",
      "210/210 [==============================] - 88s 417ms/step - loss: 0.4304 - accuracy: 0.8482 - val_loss: 0.6236 - val_accuracy: 0.7750 - lr: 6.0000e-04\n",
      "Epoch 39/55\n",
      "210/210 [==============================] - ETA: 0s - loss: 0.4569 - accuracy: 0.8482\n",
      "Epoch 39: val_loss did not improve from 0.50947\n",
      "210/210 [==============================] - 87s 416ms/step - loss: 0.4569 - accuracy: 0.8482 - val_loss: 0.7987 - val_accuracy: 0.7708 - lr: 6.0000e-04\n",
      "Epoch 40/55\n",
      "210/210 [==============================] - ETA: 0s - loss: 0.4650 - accuracy: 0.8315\n",
      "Epoch 40: val_loss did not improve from 0.50947\n",
      "210/210 [==============================] - 87s 416ms/step - loss: 0.4650 - accuracy: 0.8315 - val_loss: 1.5101 - val_accuracy: 0.6208 - lr: 6.0000e-04\n",
      "Epoch 41/55\n",
      "210/210 [==============================] - ETA: 0s - loss: 0.4675 - accuracy: 0.8315\n",
      "Epoch 41: ReduceLROnPlateau reducing learning rate to 0.0003600000170990825.\n",
      "\n",
      "Epoch 41: val_loss did not improve from 0.50947\n",
      "210/210 [==============================] - 87s 415ms/step - loss: 0.4675 - accuracy: 0.8315 - val_loss: 1.0447 - val_accuracy: 0.6750 - lr: 6.0000e-04\n",
      "Epoch 42/55\n",
      "210/210 [==============================] - ETA: 0s - loss: 0.4219 - accuracy: 0.8470\n",
      "Epoch 42: val_loss did not improve from 0.50947\n",
      "210/210 [==============================] - 88s 417ms/step - loss: 0.4219 - accuracy: 0.8470 - val_loss: 1.1112 - val_accuracy: 0.6833 - lr: 3.6000e-04\n",
      "Epoch 43/55\n",
      "210/210 [==============================] - ETA: 0s - loss: 0.4110 - accuracy: 0.8506\n",
      "Epoch 43: val_loss did not improve from 0.50947\n",
      "210/210 [==============================] - 87s 416ms/step - loss: 0.4110 - accuracy: 0.8506 - val_loss: 0.6191 - val_accuracy: 0.8125 - lr: 3.6000e-04\n",
      "Epoch 44/55\n",
      "210/210 [==============================] - ETA: 0s - loss: 0.3688 - accuracy: 0.8810\n",
      "Epoch 44: val_loss did not improve from 0.50947\n",
      "210/210 [==============================] - 87s 415ms/step - loss: 0.3688 - accuracy: 0.8810 - val_loss: 0.8836 - val_accuracy: 0.7042 - lr: 3.6000e-04\n",
      "Epoch 45/55\n",
      "210/210 [==============================] - ETA: 0s - loss: 0.4278 - accuracy: 0.8548\n",
      "Epoch 45: val_loss improved from 0.50947 to 0.50564, saving model to ./checkpoints/V4.1.3\\FOLD-7\n",
      "INFO:tensorflow:Assets written to: ./checkpoints/V4.1.3\\FOLD-7\\assets\n"
     ]
    },
    {
     "name": "stderr",
     "output_type": "stream",
     "text": [
      "INFO:tensorflow:Assets written to: ./checkpoints/V4.1.3\\FOLD-7\\assets\n"
     ]
    },
    {
     "name": "stdout",
     "output_type": "stream",
     "text": [
      "210/210 [==============================] - 94s 445ms/step - loss: 0.4278 - accuracy: 0.8548 - val_loss: 0.5056 - val_accuracy: 0.8167 - lr: 3.6000e-04\n",
      "Epoch 46/55\n",
      "210/210 [==============================] - ETA: 0s - loss: 0.3826 - accuracy: 0.8595\n",
      "Epoch 46: val_loss did not improve from 0.50564\n",
      "210/210 [==============================] - 88s 418ms/step - loss: 0.3826 - accuracy: 0.8595 - val_loss: 0.5367 - val_accuracy: 0.8333 - lr: 3.6000e-04\n",
      "Epoch 47/55\n",
      "210/210 [==============================] - ETA: 0s - loss: 0.3872 - accuracy: 0.8595\n",
      "Epoch 47: val_loss did not improve from 0.50564\n",
      "210/210 [==============================] - 88s 417ms/step - loss: 0.3872 - accuracy: 0.8595 - val_loss: 0.6928 - val_accuracy: 0.7375 - lr: 3.6000e-04\n",
      "Epoch 48/55\n",
      "210/210 [==============================] - ETA: 0s - loss: 0.4221 - accuracy: 0.8548\n",
      "Epoch 48: val_loss improved from 0.50564 to 0.42497, saving model to ./checkpoints/V4.1.3\\FOLD-7\n",
      "INFO:tensorflow:Assets written to: ./checkpoints/V4.1.3\\FOLD-7\\assets\n"
     ]
    },
    {
     "name": "stderr",
     "output_type": "stream",
     "text": [
      "INFO:tensorflow:Assets written to: ./checkpoints/V4.1.3\\FOLD-7\\assets\n"
     ]
    },
    {
     "name": "stdout",
     "output_type": "stream",
     "text": [
      "210/210 [==============================] - 94s 448ms/step - loss: 0.4221 - accuracy: 0.8548 - val_loss: 0.4250 - val_accuracy: 0.8542 - lr: 3.6000e-04\n",
      "Epoch 49/55\n",
      "210/210 [==============================] - ETA: 0s - loss: 0.4024 - accuracy: 0.8506\n",
      "Epoch 49: val_loss did not improve from 0.42497\n",
      "210/210 [==============================] - 88s 418ms/step - loss: 0.4024 - accuracy: 0.8506 - val_loss: 0.5486 - val_accuracy: 0.8042 - lr: 3.6000e-04\n",
      "Epoch 50/55\n",
      "210/210 [==============================] - ETA: 0s - loss: 0.3904 - accuracy: 0.8613\n",
      "Epoch 50: val_loss did not improve from 0.42497\n",
      "210/210 [==============================] - 88s 417ms/step - loss: 0.3904 - accuracy: 0.8613 - val_loss: 0.6952 - val_accuracy: 0.7458 - lr: 3.6000e-04\n",
      "Epoch 51/55\n",
      "210/210 [==============================] - ETA: 0s - loss: 0.3953 - accuracy: 0.8720\n",
      "Epoch 51: val_loss did not improve from 0.42497\n",
      "210/210 [==============================] - 88s 417ms/step - loss: 0.3953 - accuracy: 0.8720 - val_loss: 0.6775 - val_accuracy: 0.7750 - lr: 3.6000e-04\n",
      "Epoch 52/55\n",
      "210/210 [==============================] - ETA: 0s - loss: 0.3550 - accuracy: 0.8708\n",
      "Epoch 52: val_loss did not improve from 0.42497\n",
      "210/210 [==============================] - 88s 417ms/step - loss: 0.3550 - accuracy: 0.8708 - val_loss: 0.5010 - val_accuracy: 0.8292 - lr: 3.6000e-04\n",
      "Epoch 53/55\n",
      "210/210 [==============================] - ETA: 0s - loss: 0.3764 - accuracy: 0.8702\n",
      "Epoch 53: val_loss did not improve from 0.42497\n",
      "210/210 [==============================] - 88s 418ms/step - loss: 0.3764 - accuracy: 0.8702 - val_loss: 1.2437 - val_accuracy: 0.6542 - lr: 3.6000e-04\n",
      "Epoch 54/55\n",
      "210/210 [==============================] - ETA: 0s - loss: 0.3845 - accuracy: 0.8643\n",
      "Epoch 54: val_loss did not improve from 0.42497\n",
      "210/210 [==============================] - 87s 416ms/step - loss: 0.3845 - accuracy: 0.8643 - val_loss: 0.5395 - val_accuracy: 0.8042 - lr: 3.6000e-04\n",
      "Epoch 55/55\n",
      "210/210 [==============================] - ETA: 0s - loss: 0.3734 - accuracy: 0.8613\n",
      "Epoch 55: val_loss did not improve from 0.42497\n",
      "210/210 [==============================] - 87s 415ms/step - loss: 0.3734 - accuracy: 0.8613 - val_loss: 0.6311 - val_accuracy: 0.8000 - lr: 3.6000e-04\n"
     ]
    },
    {
     "data": {
      "image/png": "[encoded data removed]",
      "text/plain": [
       "<Figure size 300x200 with 1 Axes>"
      ]
     },
     "metadata": {},
     "output_type": "display_data"
    },
    {
     "data": {
      "image/png": "[encoded data removed]",
      "text/plain": [
       "<Figure size 300x200 with 1 Axes>"
      ]
     },
     "metadata": {},
     "output_type": "display_data"
    },
    {
     "name": "stdout",
     "output_type": "stream",
     "text": [
      "Fold Training Time: 1 hour(s) and 21 mins\n",
      "Precision: 87.33624219894409  -  Recall: 83.33333134651184\n",
      "Accuracy: 85.41666865348816\n",
      "F1Score: Building 79.3388442993164 | Plant 91.60305786132812 | Road 90.26548767089844 | Vehicle 80.0\n",
      "[neptune] [info   ] Shutting down background jobs, please wait a moment...\n",
      "[neptune] [info   ] Done!\n",
      "Total Training Time: 9 hour(s) and 47 mins\n"
     ]
    }
   ],
   "source": [
    "# ============================\n",
    "# Log performance of each fold\n",
    "# ============================\n",
    "\n",
    "precisions = []\n",
    "recalls = []\n",
    "accuracies = []\n",
    "f1_blds = []\n",
    "f1_plants = []\n",
    "f1_roads = []\n",
    "f1_vhcls = []\n",
    "\n",
    "counter = 0\n",
    "start = perf_counter()\n",
    "for train, test in kfold.split(train_x, train_y):\n",
    "    start_fold = perf_counter()\n",
    "\n",
    "    run = neptune.init_run(\n",
    "        name= f\"{model_name}-FOLD_{counter}\",\n",
    "        project=project_name,\n",
    "        mode=\"offline\"     # To prevent issue when internet sucks. Just manually sync it\n",
    "    )  # your credentials\n",
    "\n",
    "    run[\"parameters\"] = params\n",
    "    model = make_model(params)\n",
    "    cat_y = tf.keras.utils.to_categorical(train_y)\n",
    "    train_dataset = tf.data.Dataset.from_tensor_slices((train_x[train], cat_y[train]))\n",
    "    train_fold = train_dataset.shuffle(buffer_size=train_dataset.cardinality(), seed=1).batch(params['batch_size'])\n",
    "    \n",
    "    test_dataset = tf.data.Dataset.from_tensor_slices((train_x[test], cat_y[test]))\n",
    "    test_fold = test_dataset.shuffle(buffer_size=test_dataset.cardinality(), seed=1).batch(params['batch_size'])\n",
    "    \n",
    "    hist = model.fit(train_fold, \n",
    "                     validation_data=test_fold,\n",
    "                     batch_size=params['batch_size'],\n",
    "                     epochs=params['epochs'],\n",
    "                     verbose=1,\n",
    "                     callbacks=create_callbacks(counter))\n",
    "    end_fold = perf_counter()\n",
    "\n",
    "    # PLOTTING ==================================================\n",
    "    run[\"fig-train_loss\"].upload(plot_loss(hist))\n",
    "    run[\"fig-train_acc\"].upload(plot_acc(hist))\n",
    "    \n",
    "    # EVALUATING ==================================================\n",
    "    model = tf.keras.models.load_model(checkpoint_path + str(counter))\n",
    "    \n",
    "    pre = Precision()\n",
    "    rec = Recall()\n",
    "    c_acc = CategoricalAccuracy()\n",
    "    f1_score = F1Score()\n",
    "    for batch in test_fold.as_numpy_iterator():\n",
    "        X, y = batch\n",
    "        yhat = model.predict(X, verbose=0)\n",
    "        f1_score.update_state(y, yhat)\n",
    "        pre.update_state(y, yhat)\n",
    "        rec.update_state(y, yhat)\n",
    "        c_acc.update_state(y, yhat)\n",
    "        \n",
    "    precisions.append(pre.result().numpy() * 100)\n",
    "    recalls.append(rec.result().numpy() * 100)\n",
    "    accuracies.append(c_acc.result().numpy() * 100)\n",
    "    f1_s = f1_score.result().numpy() * 100\n",
    "    \n",
    "    f1_blds.append(f1_s[0])\n",
    "    f1_plants.append(f1_s[1])\n",
    "    f1_roads.append(f1_s[2])\n",
    "    f1_vhcls.append(f1_s[3])\n",
    "    \n",
    "    run[\"eval/ACC/\"] = accuracies[counter]\n",
    "    run[\"eval/REC/\"] = recalls[counter]\n",
    "    run[\"eval/PRE/\"] = precisions[counter]\n",
    "    run[\"eval/F1-Bld\"] = f1_blds[counter]\n",
    "    run[\"eval/F1-Plant\"] = f1_plants[counter]\n",
    "    run[\"eval/F1-Road\"] = f1_roads[counter]\n",
    "    run[\"eval/F1-Vhcl\"] = f1_vhcls[counter]\n",
    "\n",
    "    # SAVE MODEL TO NEPTUNE AI =======================================\n",
    "    model_save_path = f\"./models/V4-1-3_Fold-{counter}.keras\"\n",
    "    model.save(model_save_path)\n",
    "    run['/checkpoint/model'].upload(model_save_path)\n",
    "    \n",
    "    # PRINTING RESULTS ===========================================\n",
    "    print(f'Fold Training Time: {math.floor((end_fold-start_fold)/3600) } hour(s) and {math.floor((end_fold-start_fold)/60)%60} mins')\n",
    "    print(f'Precision: {precisions[counter]}  -  Recall: {recalls[counter]}')\n",
    "    print(f'Accuracy: {accuracies[counter]}')\n",
    "    print(f'F1Score: Building {f1_blds[counter]} | Plant {f1_plants[counter]} | Road {f1_roads[counter]} | Vehicle {f1_vhcls[counter]}')\n",
    "    \n",
    "    run.stop()\n",
    "    \n",
    "    counter += 1\n",
    "\n",
    "end = perf_counter()\n",
    "\n",
    "print(f'Total Training Time: {math.floor((end-start)/3600) } hour(s) and {math.floor((end-start)/60)%60} mins')"
   ]
  },
  {
   "cell_type": "markdown",
   "id": "0cdcaea3-c498-44dd-be65-c899e9ba695c",
   "metadata": {},
   "source": [
    "# Get Average Performance of Model"
   ]
  },
  {
   "cell_type": "markdown",
   "id": "0e6a42b9-a558-4ea3-a099-c111c57b7ccf",
   "metadata": {},
   "source": [
    "## Save to Neptune AI"
   ]
  },
  {
   "cell_type": "code",
   "execution_count": 21,
   "id": "d13e1214-9537-4e9a-9e85-9b2f481506c3",
   "metadata": {},
   "outputs": [
    {
     "name": "stdout",
     "output_type": "stream",
     "text": [
      "[neptune] [info   ] Neptune initialized. Open in the app: offline/74b73db5-451b-4e93-9ece-b4a7bdcad585\n",
      "[neptune] [info   ] Shutting down background jobs, please wait a moment...\n",
      "[neptune] [info   ] Done!\n"
     ]
    }
   ],
   "source": [
    "run = neptune.init_run(\n",
    "        name= f\"{model_name}-AVG\",\n",
    "        project=project_name,\n",
    "        mode='offline',\n",
    "        # api_token=api_token, # Api token is saved in user's environemnt variables\n",
    "    )  # your credentials\n",
    "\n",
    "run[\"eval/PRE/\"] = avg_rate(precisions)\n",
    "run[\"eval/REC/\"] = avg_rate(recalls)\n",
    "run[\"eval/ACC/\"] = avg_rate(accuracies)\n",
    "run[\"eval/F1-Bld\"] = avg_rate(f1_blds)\n",
    "run[\"eval/F1-Plant\"] = avg_rate(f1_plants)\n",
    "run[\"eval/F1-Road\"] = avg_rate(f1_roads)\n",
    "run[\"eval/F1-Vhcl\"] = avg_rate(f1_vhcls)\n",
    "\n",
    "run.stop()"
   ]
  },
  {
   "cell_type": "markdown",
   "id": "e69c613b-b1b9-4a1b-9ecf-969e62123fc9",
   "metadata": {},
   "source": [
    "## Save to Tensorboard"
   ]
  },
  {
   "cell_type": "code",
   "execution_count": 22,
   "id": "31ea4d93-bce3-4a78-a309-280b83d61676",
   "metadata": {},
   "outputs": [],
   "source": [
    "# Command to access TensorBoard HParams:\n",
    "\n",
    "# tensorboard --logdir PATH/logs/hparam_tuning\n",
    "with tf.summary.create_file_writer(f'./logs/hparam_tuning/{model_name}').as_default():\n",
    "    hparams = {\n",
    "        'CONV_F1': 16,\n",
    "        'CONV_F2': 32,\n",
    "        'CONV_F3': 64,\n",
    "        'DROPOUT': 0.2,\n",
    "        'D_UNITS_1': 384,\n",
    "        'DROPOUT': 0.2,\n",
    "        'D_UNITS_2': 256,\n",
    "    }\n",
    "    hp.hparams(hparams)\n",
    "    tf.summary.scalar('PRE', avg_rate(precisions), step=1)\n",
    "    tf.summary.scalar('REC', avg_rate(recalls), step=1)\n",
    "    tf.summary.scalar('ACC', avg_rate(accuracies), step=1)\n",
    "    tf.summary.scalar('F1 - Building', avg_rate(f1_blds), step=1)\n",
    "    tf.summary.scalar('F1 - Plant', avg_rate(f1_plants), step=1)\n",
    "    tf.summary.scalar('F1 - Road', avg_rate(f1_roads), step=1)\n",
    "    tf.summary.scalar('F1 - Vehicle', avg_rate(f1_vhcls), step=1)"
   ]
  },
  {
   "cell_type": "code",
   "execution_count": null,
   "id": "53362329-adc7-4db5-a223-a27367cbb06a",
   "metadata": {},
   "outputs": [],
   "source": []
  },
  {
   "cell_type": "markdown",
   "id": "3a48f537-6a6e-4696-afc1-c608ffc793f3",
   "metadata": {},
   "source": [
    "# Asd"
   ]
  },
  {
   "cell_type": "markdown",
   "id": "98e06983-0acb-4201-bb07-4c6579d25cbd",
   "metadata": {
    "jp-MarkdownHeadingCollapsed": true
   },
   "source": [
    "# Others"
   ]
  },
  {
   "cell_type": "code",
   "execution_count": null,
   "id": "6590ec4c-5fc3-470e-bc7c-26503425ab8c",
   "metadata": {
    "scrolled": true
   },
   "outputs": [],
   "source": [
    "model= make_model()\n",
    "model.fit(\n",
    "    x_train,\n",
    "    y_train,\n",
    "    validation_data=(x_test,y_test),\n",
    "    epochs=params[\"epochs\"],\n",
    "    batch_size=params[\"batch_size\"],\n",
    "    callbacks=create_callbacks(0),\n",
    ")"
   ]
  },
  {
   "cell_type": "code",
   "execution_count": null,
   "id": "64460324-7348-47a8-bfed-b23556965940",
   "metadata": {
    "scrolled": true
   },
   "outputs": [],
   "source": [
    "true_test_dataset = tf.data.Dataset.from_tensor_slices((x_test, y_test))\n",
    "true_test_set = true_test_dataset.shuffle(buffer_size=true_test_dataset.cardinality(), seed=1).batch(64)\n",
    "\n",
    "f1 = F1Score()\n",
    "pre = Precision()\n",
    "rec = Recall()\n",
    "c_acc = CategoricalAccuracy()\n",
    "for batch in true_test_set.as_numpy_iterator():\n",
    "    X, y = batch\n",
    "    yhat = model.predict(X)\n",
    "    yhat_max = []\n",
    "    for i in yhat:\n",
    "        maxed = np.argmax(i)\n",
    "        yhat_max.append(maxed)\n",
    "    yhat = np.array(yhat_max)\n",
    "    f1.update_state(y, yhat)\n",
    "    pre.update_state(y, yhat)\n",
    "    rec.update_state(y, yhat)\n",
    "    c_acc.update_state(y, yhat)\n"
   ]
  },
  {
   "cell_type": "code",
   "execution_count": null,
   "id": "9e4864d2-4fb0-4526-95d3-9421c7bfa082",
   "metadata": {},
   "outputs": [],
   "source": [
    "run[\"eval/ACC/\"] = float(c_acc.result().numpy() * 100)\n",
    "run[\"eval/REC/\"] = float(rec.result().numpy() * 100)\n",
    "run[\"eval/PRE/\"] = float(pre.result().numpy() * 100)\n"
   ]
  },
  {
   "cell_type": "code",
   "execution_count": null,
   "id": "3a9f5d4a-c095-4788-8b9c-0f67f2631f42",
   "metadata": {},
   "outputs": [],
   "source": [
    "run.stop()"
   ]
  },
  {
   "cell_type": "code",
   "execution_count": null,
   "id": "153bb951-edfb-42a4-93ae-30f5d37fcbab",
   "metadata": {},
   "outputs": [],
   "source": []
  },
  {
   "cell_type": "code",
   "execution_count": null,
   "id": "1becccd6-290d-486c-9f34-f5b4b025b4f4",
   "metadata": {},
   "outputs": [],
   "source": []
  },
  {
   "cell_type": "code",
   "execution_count": null,
   "id": "bf6ba075-09fd-4fc7-8886-c600b17d2938",
   "metadata": {},
   "outputs": [],
   "source": [
    "eval_metrics = model.evaluate(x_test, y_test, verbose=0)\n",
    "for j, metric in enumerate(eval_metrics):\n",
    "    run[\"eval/AVG-ACC/{}\".format(model.metrics_names[j])] = metric\n",
    "\n",
    "run.stop()"
   ]
  },
  {
   "cell_type": "code",
   "execution_count": null,
   "id": "09100e0c-0d94-4e3d-8202-ec6e2872234d",
   "metadata": {},
   "outputs": [],
   "source": [
    "for j, metric in enumerate(eval_metrics):\n",
    "    print(model.metrics_names[j])"
   ]
  },
  {
   "cell_type": "markdown",
   "id": "91f20526-bb52-4153-a291-c18829f55825",
   "metadata": {},
   "source": [
    "## Neptune AI Notes"
   ]
  },
  {
   "cell_type": "raw",
   "id": "59ff9add-a7ad-4ccf-b4f4-e3b9dd83564d",
   "metadata": {},
   "source": [
    "1. neptune callback keeps track of learning rate - can use ReduceLROnPlateau\n",
    "2. neptune seems better used with one run each, but we can just create 1 more RUN before tuning the hyperparameters, name it with \"AVG\", have an \"AVG\" tag, and then save the average result\n",
    "3. The code below creates column in Neptune AI's website\n",
    "\n",
    "  for j, metric in enumerate(eval_metrics):\n",
    "    run[\"eval/AVG-ACC/{}\".format(model.metrics_names[j])] = metric\n",
    "    "
   ]
  },
  {
   "cell_type": "code",
   "execution_count": null,
   "id": "2603ac1c-fe1d-4a21-b8f0-9d8a32e67462",
   "metadata": {},
   "outputs": [],
   "source": []
  }
 ],
 "metadata": {
  "kernelspec": {
   "display_name": "neptune",
   "language": "python",
   "name": "neptune"
  },
  "language_info": {
   "codemirror_mode": {
    "name": "ipython",
    "version": 3
   },
   "file_extension": ".py",
   "mimetype": "text/x-python",
   "name": "python",
   "nbconvert_exporter": "python",
   "pygments_lexer": "ipython3",
   "version": "3.10.9"
  }
 },
 "nbformat": 4,
 "nbformat_minor": 5
}
