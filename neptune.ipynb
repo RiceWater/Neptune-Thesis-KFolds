{
 "cells": [
  {
   "cell_type": "markdown",
   "id": "654fdf86-1ac7-4eb0-8153-7e9a1a61fa78",
   "metadata": {
    "jp-MarkdownHeadingCollapsed": true
   },
   "source": [
    "# READ"
   ]
  },
  {
   "cell_type": "markdown",
   "id": "30e7deed-4595-4611-9254-ad26a45facd3",
   "metadata": {},
   "source": [
    "1. API is in User Variables for User in Environemtn Variables named \"NEPTUNE_API_TOKEN\"\n",
    "2. If internet sucks, set mode to offline\n",
    "4. When offline runs are saved locally, sync it with | neptune sync -p \"New-Thesis/KFold-Test\" --offline-only |\n",
    "- make sure it is in venv mode | (venv) PS C:\\Users\\user\\Documents\\Machine-Learning-Hub-1\\ImageClassification\\Neptune-Thesis> |\n",
    "5. Delete the offline folder or use | neptune clear |"
   ]
  },
  {
   "cell_type": "markdown",
   "id": "348ca800-674e-4b34-9d14-551b8c226b08",
   "metadata": {},
   "source": [
    "# Load Libraries"
   ]
  },
  {
   "cell_type": "code",
   "execution_count": 1,
   "id": "79947b1a-22c4-4658-9375-a7bcbc52590e",
   "metadata": {},
   "outputs": [
    {
     "name": "stdout",
     "output_type": "stream",
     "text": [
      "WARNING:tensorflow:From C:\\Users\\user\\Documents\\Machine-Learning-Hub-1\\ImageClassification\\Neptune-Thesis\\venv\\lib\\site-packages\\keras\\src\\losses.py:2976: The name tf.losses.sparse_softmax_cross_entropy is deprecated. Please use tf.compat.v1.losses.sparse_softmax_cross_entropy instead.\n",
      "\n"
     ]
    }
   ],
   "source": [
    "import tqdm\n",
    "import os\n",
    "import cv2\n",
    "import imghdr\n",
    "import image_to_numpy\n",
    "import numpy as np\n",
    "import seaborn as sns\n",
    "from matplotlib import pyplot as plt\n",
    "from datetime import datetime\n",
    "import itertools\n",
    "from numpy.random import default_rng\n",
    "\n",
    "import tensorflow as tf\n",
    "from tensorflow.keras.models import Sequential\n",
    "from tensorflow.keras.layers import RandomFlip, RandomRotation, RandomContrast, RandomBrightness, Rescaling, Resizing\n",
    "from tensorflow.keras.layers import Conv2D, MaxPooling2D, Flatten, Dense, Dropout, BatchNormalization, ReLU\n",
    "from tensorflow.keras.metrics import F1Score, Precision, Recall, CategoricalAccuracy\n",
    "from tensorboard.plugins.hparams import api as hp\n",
    "import sklearn\n",
    "from sklearn.metrics import classification_report,confusion_matrix\n",
    "from sklearn.model_selection import StratifiedKFold\n",
    "\n",
    "from time import perf_counter\n",
    "import math\n",
    "\n",
    "import neptune\n",
    "from neptune.integrations.tensorflow_keras import NeptuneCallback"
   ]
  },
  {
   "cell_type": "markdown",
   "id": "0eb1457f-83b0-4eb9-8a55-57299e4e4aac",
   "metadata": {},
   "source": [
    "# Initialize Functions"
   ]
  },
  {
   "cell_type": "code",
   "execution_count": 38,
   "id": "28c9f594-9465-4546-8a43-7f7ddefbce80",
   "metadata": {},
   "outputs": [],
   "source": [
    "model_name = \"V4.1.2\"\n",
    "checkpoint_path = f'./checkpoints/{model_name}/FOLD-'"
   ]
  },
  {
   "cell_type": "code",
   "execution_count": 45,
   "id": "27cee80d-5b28-441a-8ec0-67da468c4966",
   "metadata": {},
   "outputs": [],
   "source": [
    "def make_model(params):\n",
    "    model = Sequential()\n",
    "    model.add(RandomFlip(mode='horizontal', seed=1, input_shape=(256,256,3)))\n",
    "    model.add(RandomRotation(factor=0.2, seed=1))\n",
    "    \n",
    "    model.add(Conv2D(input_shape=(256,256,3), filters=32, kernel_size=(3,3), padding=\"same\"))\n",
    "    model.add(Conv2D(filters=32, kernel_size=(3,3), padding=\"same\"))\n",
    "    model.add(BatchNormalization(epsilon=0.0001))\n",
    "    model.add(ReLU())\n",
    "    model.add(MaxPooling2D())\n",
    "    \n",
    "    model.add(Conv2D(filters=64, kernel_size=(3,3), padding=\"same\"))\n",
    "    model.add(Conv2D(filters=64, kernel_size=(3,3), padding=\"same\"))\n",
    "    model.add(BatchNormalization(epsilon=0.0001))\n",
    "    model.add(ReLU())\n",
    "    model.add(MaxPooling2D())\n",
    "    \n",
    "    model.add(Conv2D(filters=128, kernel_size=(3,3), padding=\"same\"))\n",
    "    model.add(Conv2D(filters=128, kernel_size=(3,3), padding=\"same\"))\n",
    "    model.add(BatchNormalization(epsilon=0.0001))\n",
    "    model.add(ReLU())\n",
    "    model.add(MaxPooling2D())\n",
    "    \n",
    "    model.add(Flatten())\n",
    "    model.add(Dropout(0.2, seed=1))\n",
    "    model.add(Dense(units=640,activation=\"relu\"))\n",
    "    model.add(Dropout(0.2, seed=1))\n",
    "    model.add(Dense(units=256,activation=\"relu\"))\n",
    "    \n",
    "    model.add(Dense(units=4, activation=\"softmax\"))\n",
    "\n",
    "\n",
    "    optimizer = tf.keras.optimizers.Adam(\n",
    "        learning_rate=params[\"lr\"],\n",
    "    )\n",
    "    \n",
    "    model.compile(optimizer, loss='categorical_crossentropy', metrics=['accuracy'])\n",
    "    return model"
   ]
  },
  {
   "cell_type": "code",
   "execution_count": 4,
   "id": "022580a2-bbb0-46de-80d2-b93e647275c4",
   "metadata": {},
   "outputs": [],
   "source": [
    "def create_callbacks(counter):\n",
    "    neptune_cbk = NeptuneCallback(run=run, base_namespace=\"training\")\n",
    "\n",
    "    cp_callback = tf.keras.callbacks.ModelCheckpoint(filepath=checkpoint_path + str(counter), \n",
    "                                                                 monitor='val_loss', \n",
    "                                                                 mode='auto', \n",
    "                                                                 save_best_only=True, \n",
    "                                                                 verbose=1)\n",
    "    es_callback = tf.keras.callbacks.EarlyStopping(monitor='val_loss', \n",
    "                                                   patience=23,\n",
    "                                                  )\n",
    "    reduce_lr = tf.keras.callbacks.ReduceLROnPlateau(monitor='val_loss', \n",
    "                                                         factor=0.6, \n",
    "                                                         patience=10, \n",
    "                                                         min_delta=0.001, \n",
    "                                                         mode='auto', \n",
    "                                                         verbose=1)\n",
    "    return [neptune_cbk, reduce_lr, cp_callback, es_callback]"
   ]
  },
  {
   "cell_type": "code",
   "execution_count": 5,
   "id": "98d16a35-875d-4cff-abd0-6f554224f314",
   "metadata": {},
   "outputs": [],
   "source": [
    "def plot_loss(hist):\n",
    "    fig = plt.figure(figsize=(3,2))\n",
    "    plt.plot(hist.history['loss'], color='teal', label='loss')\n",
    "    plt.plot(hist.history['val_loss'], color='orange', label='val_loss')\n",
    "    plt.suptitle('Loss')\n",
    "    plt.legend(loc='upper right')\n",
    "    plt.show()\n",
    "    return fig"
   ]
  },
  {
   "cell_type": "code",
   "execution_count": 6,
   "id": "3ba83bd7-0b4b-43fc-8484-9f695a1f0039",
   "metadata": {},
   "outputs": [],
   "source": [
    "def plot_acc(hist):\n",
    "    fig = plt.figure(figsize=(3,2))\n",
    "    plt.plot(hist.history['accuracy'], color='teal', label='acc')\n",
    "    plt.plot(hist.history['val_accuracy'], color='orange', label='val_acc')\n",
    "    plt.suptitle('Accuracy')\n",
    "    plt.legend(loc='upper left')\n",
    "    plt.show()\n",
    "    return fig"
   ]
  },
  {
   "cell_type": "code",
   "execution_count": 7,
   "id": "8b527cae-cd2f-4cf0-8ad8-03355050b95c",
   "metadata": {},
   "outputs": [],
   "source": [
    "def avg_rate(metric_list):\n",
    "    return sum(metric_list) / len(metric_list)"
   ]
  },
  {
   "cell_type": "markdown",
   "id": "e27ee883-af64-4f8a-980d-d7936a9d6c9b",
   "metadata": {},
   "source": [
    "# Prepare Dataset"
   ]
  },
  {
   "cell_type": "code",
   "execution_count": 8,
   "id": "77bf8dc5-2d83-4b0a-ab84-007f05ccaa5a",
   "metadata": {},
   "outputs": [],
   "source": [
    "labels = ['Building', 'Plant', 'Road', 'Vehicle']\n",
    "X_train = []\n",
    "y_train = []\n",
    "y_label_idx = []\n",
    "image_size = 256\n",
    "for i in labels:\n",
    "    folderPath = os.path.join('D:\\DATASETS\\For-Thesis\\Labels', i)\n",
    "    for j in os.listdir(folderPath):\n",
    "        img = image_to_numpy.load_image_file(os.path.join(folderPath,j))\n",
    "        img = cv2.resize(img,(image_size, image_size))\n",
    "        X_train.append(img)\n",
    "        y_label_idx.append(labels.index(i))"
   ]
  },
  {
   "cell_type": "code",
   "execution_count": 9,
   "id": "86dd841d-f1af-4c0a-9557-55d800db547b",
   "metadata": {},
   "outputs": [],
   "source": [
    "X_train = np.array(X_train)\n",
    "y_label_idx = np.array(y_label_idx)\n",
    "\n",
    "X_train_scaled = X_train.astype(np.float32) / 255.0"
   ]
  },
  {
   "cell_type": "code",
   "execution_count": 10,
   "id": "569494d1-0259-4eaa-bcbe-89a567ac7203",
   "metadata": {},
   "outputs": [],
   "source": [
    "rng = default_rng(seed=1)\n",
    "\n",
    "buildings_test_idx = rng.choice(np.arange(0,600), size=120, replace=False)\n",
    "plants_test_idx = rng.choice(np.arange(600,1200), size=120, replace=False)\n",
    "roads_test_idx = rng.choice(np.arange(1200,1800), size=120, replace=False)\n",
    "vehicles_test_idx = rng.choice(np.arange(1800,2400), size=120, replace=False)\n",
    "total_test_idx = np.concatenate((buildings_test_idx, plants_test_idx, roads_test_idx, vehicles_test_idx), axis=None)"
   ]
  },
  {
   "cell_type": "code",
   "execution_count": 11,
   "id": "1b38d76e-94d9-442c-8025-11352e7a091d",
   "metadata": {},
   "outputs": [],
   "source": [
    "def train_test_X(X_train_scaled):    \n",
    "    test_x = X_train_scaled[total_test_idx]\n",
    "    train_x = np.delete(X_train_scaled, total_test_idx, axis=0)\n",
    "    return train_x, test_x\n",
    "\n",
    "def train_test_y(y_label_idx):\n",
    "    test_y = y_label_idx[total_test_idx]\n",
    "    train_y = np.delete(y_label_idx, total_test_idx, axis=0)\n",
    "    return train_y, test_y"
   ]
  },
  {
   "cell_type": "code",
   "execution_count": 12,
   "id": "cb0d422e-be3d-4544-84f8-1b5f39fd52af",
   "metadata": {},
   "outputs": [],
   "source": [
    "train_x, holdout_x = train_test_X(X_train_scaled)\n",
    "train_y, holdout_y = train_test_y(y_label_idx)"
   ]
  },
  {
   "cell_type": "code",
   "execution_count": 13,
   "id": "746890dd-29f8-433f-8a17-1b8e9444ce77",
   "metadata": {},
   "outputs": [
    {
     "name": "stdout",
     "output_type": "stream",
     "text": [
      "1920 480\n"
     ]
    }
   ],
   "source": [
    "print(len(train_x), len(holdout_x))"
   ]
  },
  {
   "cell_type": "code",
   "execution_count": 23,
   "id": "c4b2ae4a-5a0e-439d-9ece-c5a8a3d2fecd",
   "metadata": {},
   "outputs": [
    {
     "name": "stdout",
     "output_type": "stream",
     "text": [
      "[0 0 0 0 0]\n"
     ]
    }
   ],
   "source": [
    "print(train_y[:5])"
   ]
  },
  {
   "cell_type": "code",
   "execution_count": 30,
   "id": "7c75f07f-09ee-4037-83fb-d2bea64c4b02",
   "metadata": {},
   "outputs": [],
   "source": [
    "# Inidices remain the same thanks to the seed (set to 1)\n",
    "# with open('total_test_idx.txt', 'w+') as f:\n",
    "     \n",
    "#     # write elements of list\n",
    "#     for items in total_test_idx:\n",
    "#         f.write('%s ' %items)\n",
    "     \n",
    "#     print(\"File written successfully\")\n",
    " \n",
    " \n",
    "# # close the file\n",
    "# f.close()"
   ]
  },
  {
   "cell_type": "markdown",
   "id": "a10b3d75-dfe3-4d66-a5c7-b46073861043",
   "metadata": {},
   "source": [
    "# Run KFOLD"
   ]
  },
  {
   "cell_type": "code",
   "execution_count": 46,
   "id": "97c647dc-35a6-4391-80b6-1db5643a1820",
   "metadata": {},
   "outputs": [],
   "source": [
    "kfold = StratifiedKFold(n_splits=8, shuffle=True, random_state=1)"
   ]
  },
  {
   "cell_type": "code",
   "execution_count": 47,
   "id": "f4679eae-6da1-4f77-8dd2-bf6b2a248908",
   "metadata": {},
   "outputs": [],
   "source": [
    "project_name = \"New-Thesis/KFold-Test\"\n",
    "# api_token = <It is already initialized in environemnt variables>\n",
    "params = {\n",
    "    \"lr\": 0.0015, \n",
    "    \"epochs\": 45, \n",
    "    \"batch_size\": 8}"
   ]
  },
  {
   "cell_type": "code",
   "execution_count": 42,
   "id": "e13eae77-d4a9-4c8a-8571-b1249e13a124",
   "metadata": {},
   "outputs": [],
   "source": [
    "# CHECK MODEL VERION IN THE FOR LOOP OF KFOLDS WHEN SAVING\n",
    "# CHECK MODEL VERION IN THE FOR LOOP OF KFOLDS WHEN SAVING\n",
    "# CHECK MODEL VERION IN THE FOR LOOP OF KFOLDS WHEN SAVING\n",
    "# CHECK MODEL VERION IN THE FOR LOOP OF KFOLDS WHEN SAVING\n",
    "# CHECK MODEL VERION IN THE FOR LOOP OF KFOLDS WHEN SAVING\n",
    "# CHECK MODEL VERION IN THE FOR LOOP OF KFOLDS WHEN SAVING\n",
    "# CHECK MODEL VERION IN THE FOR LOOP OF KFOLDS WHEN SAVING\n",
    "# CHECK MODEL VERION IN THE FOR LOOP OF KFOLDS WHEN SAVING\n",
    "# CHECK MODEL VERION IN THE FOR LOOP OF KFOLDS WHEN SAVING\n",
    "# CHECK MODEL VERION IN THE FOR LOOP OF KFOLDS WHEN SAVING\n",
    "# CHECK MODEL VERION IN THE FOR LOOP OF KFOLDS WHEN SAVING\n",
    "# CHECK MODEL VERION IN THE FOR LOOP OF KFOLDS WHEN SAVING"
   ]
  },
  {
   "cell_type": "code",
   "execution_count": 48,
   "id": "2061b0ab-2132-4f3b-94cc-d5584da402ad",
   "metadata": {},
   "outputs": [
    {
     "name": "stdout",
     "output_type": "stream",
     "text": [
      "[neptune] [info   ] Neptune initialized. Open in the app: offline/406072f7-0a80-45b0-91a3-4a11b2f6f44e\n",
      "Epoch 1/45\n",
      "210/210 [==============================] - ETA: 0s - loss: 18.9290 - accuracy: 0.4946\n",
      "Epoch 1: val_loss improved from inf to 3.64022, saving model to ./checkpoints/V4.1.2\\FOLD-0\n",
      "INFO:tensorflow:Assets written to: ./checkpoints/V4.1.2\\FOLD-0\\assets\n"
     ]
    },
    {
     "name": "stderr",
     "output_type": "stream",
     "text": [
      "INFO:tensorflow:Assets written to: ./checkpoints/V4.1.2\\FOLD-0\\assets\n"
     ]
    },
    {
     "name": "stdout",
     "output_type": "stream",
     "text": [
      "210/210 [==============================] - 524s 2s/step - loss: 18.9290 - accuracy: 0.4946 - val_loss: 3.6402 - val_accuracy: 0.3083 - lr: 0.0015\n",
      "Epoch 2/45\n",
      "210/210 [==============================] - ETA: 0s - loss: 1.8117 - accuracy: 0.4911\n",
      "Epoch 2: val_loss improved from 3.64022 to 1.06746, saving model to ./checkpoints/V4.1.2\\FOLD-0\n",
      "INFO:tensorflow:Assets written to: ./checkpoints/V4.1.2\\FOLD-0\\assets\n"
     ]
    },
    {
     "name": "stderr",
     "output_type": "stream",
     "text": [
      "INFO:tensorflow:Assets written to: ./checkpoints/V4.1.2\\FOLD-0\\assets\n"
     ]
    },
    {
     "name": "stdout",
     "output_type": "stream",
     "text": [
      "210/210 [==============================] - 483s 2s/step - loss: 1.8117 - accuracy: 0.4911 - val_loss: 1.0675 - val_accuracy: 0.5417 - lr: 0.0015\n",
      "Epoch 3/45\n",
      "210/210 [==============================] - ETA: 0s - loss: 1.1490 - accuracy: 0.4685\n",
      "Epoch 3: val_loss did not improve from 1.06746\n",
      "210/210 [==============================] - 434s 2s/step - loss: 1.1490 - accuracy: 0.4685 - val_loss: 1.2275 - val_accuracy: 0.5000 - lr: 0.0015\n",
      "Epoch 4/45\n",
      "210/210 [==============================] - ETA: 0s - loss: 1.0872 - accuracy: 0.5268\n",
      "Epoch 4: val_loss did not improve from 1.06746\n",
      "210/210 [==============================] - 436s 2s/step - loss: 1.0872 - accuracy: 0.5268 - val_loss: 2.5254 - val_accuracy: 0.3958 - lr: 0.0015\n",
      "Epoch 5/45\n",
      "210/210 [==============================] - ETA: 0s - loss: 1.1446 - accuracy: 0.5006\n",
      "Epoch 5: val_loss did not improve from 1.06746\n",
      "210/210 [==============================] - 448s 2s/step - loss: 1.1446 - accuracy: 0.5006 - val_loss: 1.7615 - val_accuracy: 0.5542 - lr: 0.0015\n",
      "Epoch 6/45\n",
      "210/210 [==============================] - ETA: 0s - loss: 1.1406 - accuracy: 0.4935\n",
      "Epoch 6: val_loss did not improve from 1.06746\n",
      "210/210 [==============================] - 428s 2s/step - loss: 1.1406 - accuracy: 0.4935 - val_loss: 1.2071 - val_accuracy: 0.4583 - lr: 0.0015\n",
      "Epoch 7/45\n",
      "210/210 [==============================] - ETA: 0s - loss: 1.1446 - accuracy: 0.5018\n",
      "Epoch 7: val_loss did not improve from 1.06746\n",
      "210/210 [==============================] - 429s 2s/step - loss: 1.1446 - accuracy: 0.5018 - val_loss: 2.7446 - val_accuracy: 0.4958 - lr: 0.0015\n",
      "Epoch 8/45\n",
      "210/210 [==============================] - ETA: 0s - loss: 1.1865 - accuracy: 0.4595\n",
      "Epoch 8: val_loss did not improve from 1.06746\n",
      "210/210 [==============================] - 428s 2s/step - loss: 1.1865 - accuracy: 0.4595 - val_loss: 2.6033 - val_accuracy: 0.3208 - lr: 0.0015\n",
      "Epoch 9/45\n",
      "210/210 [==============================] - ETA: 0s - loss: 1.2235 - accuracy: 0.4060\n",
      "Epoch 9: val_loss did not improve from 1.06746\n",
      "210/210 [==============================] - 426s 2s/step - loss: 1.2235 - accuracy: 0.4060 - val_loss: 1.3920 - val_accuracy: 0.2708 - lr: 0.0015\n",
      "Epoch 10/45\n",
      "210/210 [==============================] - ETA: 0s - loss: 1.2057 - accuracy: 0.3923\n",
      "Epoch 10: val_loss did not improve from 1.06746\n",
      "210/210 [==============================] - 426s 2s/step - loss: 1.2057 - accuracy: 0.3923 - val_loss: 8.0537 - val_accuracy: 0.2750 - lr: 0.0015\n",
      "Epoch 11/45\n",
      "210/210 [==============================] - ETA: 0s - loss: 1.1672 - accuracy: 0.4167\n",
      "Epoch 11: val_loss did not improve from 1.06746\n",
      "210/210 [==============================] - 425s 2s/step - loss: 1.1672 - accuracy: 0.4167 - val_loss: 1.8939 - val_accuracy: 0.3417 - lr: 0.0015\n",
      "Epoch 12/45\n",
      "210/210 [==============================] - ETA: 0s - loss: 1.2815 - accuracy: 0.3845\n",
      "Epoch 12: ReduceLROnPlateau reducing learning rate to 0.0009000000078231095.\n",
      "\n",
      "Epoch 12: val_loss did not improve from 1.06746\n",
      "210/210 [==============================] - 427s 2s/step - loss: 1.2815 - accuracy: 0.3845 - val_loss: 1.2116 - val_accuracy: 0.3625 - lr: 0.0015\n",
      "Epoch 13/45\n",
      "210/210 [==============================] - ETA: 0s - loss: 1.2041 - accuracy: 0.4101\n",
      "Epoch 13: val_loss did not improve from 1.06746\n",
      "210/210 [==============================] - 424s 2s/step - loss: 1.2041 - accuracy: 0.4101 - val_loss: 2.6090 - val_accuracy: 0.2542 - lr: 9.0000e-04\n",
      "Epoch 14/45\n",
      "210/210 [==============================] - ETA: 0s - loss: 1.1683 - accuracy: 0.4107\n",
      "Epoch 14: val_loss improved from 1.06746 to 1.03505, saving model to ./checkpoints/V4.1.2\\FOLD-0\n",
      "INFO:tensorflow:Assets written to: ./checkpoints/V4.1.2\\FOLD-0\\assets\n"
     ]
    },
    {
     "name": "stderr",
     "output_type": "stream",
     "text": [
      "INFO:tensorflow:Assets written to: ./checkpoints/V4.1.2\\FOLD-0\\assets\n"
     ]
    },
    {
     "name": "stdout",
     "output_type": "stream",
     "text": [
      "210/210 [==============================] - 435s 2s/step - loss: 1.1683 - accuracy: 0.4107 - val_loss: 1.0350 - val_accuracy: 0.4583 - lr: 9.0000e-04\n",
      "Epoch 15/45\n",
      "210/210 [==============================] - ETA: 0s - loss: 1.1083 - accuracy: 0.4333\n",
      "Epoch 15: val_loss did not improve from 1.03505\n",
      "210/210 [==============================] - 424s 2s/step - loss: 1.1083 - accuracy: 0.4333 - val_loss: 1.0837 - val_accuracy: 0.4500 - lr: 9.0000e-04\n",
      "Epoch 16/45\n",
      "210/210 [==============================] - ETA: 0s - loss: 1.1375 - accuracy: 0.4387\n",
      "Epoch 16: val_loss did not improve from 1.03505\n",
      "210/210 [==============================] - 423s 2s/step - loss: 1.1375 - accuracy: 0.4387 - val_loss: 3.6257 - val_accuracy: 0.2708 - lr: 9.0000e-04\n",
      "Epoch 17/45\n",
      "210/210 [==============================] - ETA: 0s - loss: 1.0985 - accuracy: 0.4327\n",
      "Epoch 17: val_loss did not improve from 1.03505\n",
      "210/210 [==============================] - 420s 2s/step - loss: 1.0985 - accuracy: 0.4327 - val_loss: 1.0960 - val_accuracy: 0.4333 - lr: 9.0000e-04\n",
      "Epoch 18/45\n",
      "210/210 [==============================] - ETA: 0s - loss: 1.0659 - accuracy: 0.4339\n",
      "Epoch 18: val_loss did not improve from 1.03505\n",
      "210/210 [==============================] - 426s 2s/step - loss: 1.0659 - accuracy: 0.4339 - val_loss: 1.0722 - val_accuracy: 0.4375 - lr: 9.0000e-04\n",
      "Epoch 19/45\n",
      "210/210 [==============================] - ETA: 0s - loss: 1.0407 - accuracy: 0.4315\n",
      "Epoch 19: val_loss did not improve from 1.03505\n",
      "210/210 [==============================] - 425s 2s/step - loss: 1.0407 - accuracy: 0.4315 - val_loss: 5.9518 - val_accuracy: 0.2958 - lr: 9.0000e-04\n",
      "Epoch 20/45\n",
      "210/210 [==============================] - ETA: 0s - loss: 1.0981 - accuracy: 0.4155\n",
      "Epoch 20: val_loss did not improve from 1.03505\n",
      "210/210 [==============================] - 427s 2s/step - loss: 1.0981 - accuracy: 0.4155 - val_loss: 16.7159 - val_accuracy: 0.2458 - lr: 9.0000e-04\n",
      "Epoch 21/45\n",
      "210/210 [==============================] - ETA: 0s - loss: 1.1362 - accuracy: 0.4202\n",
      "Epoch 21: val_loss did not improve from 1.03505\n",
      "210/210 [==============================] - 425s 2s/step - loss: 1.1362 - accuracy: 0.4202 - val_loss: 1.3088 - val_accuracy: 0.3208 - lr: 9.0000e-04\n",
      "Epoch 22/45\n",
      "210/210 [==============================] - ETA: 0s - loss: 1.0864 - accuracy: 0.4137\n",
      "Epoch 22: val_loss improved from 1.03505 to 0.97134, saving model to ./checkpoints/V4.1.2\\FOLD-0\n",
      "INFO:tensorflow:Assets written to: ./checkpoints/V4.1.2\\FOLD-0\\assets\n"
     ]
    },
    {
     "name": "stderr",
     "output_type": "stream",
     "text": [
      "INFO:tensorflow:Assets written to: ./checkpoints/V4.1.2\\FOLD-0\\assets\n"
     ]
    },
    {
     "name": "stdout",
     "output_type": "stream",
     "text": [
      "210/210 [==============================] - 434s 2s/step - loss: 1.0864 - accuracy: 0.4137 - val_loss: 0.9713 - val_accuracy: 0.4750 - lr: 9.0000e-04\n",
      "Epoch 23/45\n",
      "210/210 [==============================] - ETA: 0s - loss: 1.0696 - accuracy: 0.4458\n",
      "Epoch 23: val_loss did not improve from 0.97134\n",
      "210/210 [==============================] - 434s 2s/step - loss: 1.0696 - accuracy: 0.4458 - val_loss: 1.1081 - val_accuracy: 0.4208 - lr: 9.0000e-04\n",
      "Epoch 24/45\n",
      "210/210 [==============================] - ETA: 0s - loss: 1.1072 - accuracy: 0.4351\n",
      "Epoch 24: val_loss did not improve from 0.97134\n",
      "210/210 [==============================] - 431s 2s/step - loss: 1.1072 - accuracy: 0.4351 - val_loss: 1.5588 - val_accuracy: 0.3792 - lr: 9.0000e-04\n",
      "Epoch 25/45\n",
      "210/210 [==============================] - ETA: 0s - loss: 1.0988 - accuracy: 0.4536\n",
      "Epoch 25: val_loss did not improve from 0.97134\n",
      "210/210 [==============================] - 422s 2s/step - loss: 1.0988 - accuracy: 0.4536 - val_loss: 1.0251 - val_accuracy: 0.4708 - lr: 9.0000e-04\n",
      "Epoch 26/45\n",
      "210/210 [==============================] - ETA: 0s - loss: 1.0411 - accuracy: 0.4458\n",
      "Epoch 26: val_loss did not improve from 0.97134\n",
      "210/210 [==============================] - 420s 2s/step - loss: 1.0411 - accuracy: 0.4458 - val_loss: 1.0511 - val_accuracy: 0.4500 - lr: 9.0000e-04\n",
      "Epoch 27/45\n",
      "210/210 [==============================] - ETA: 0s - loss: 1.0346 - accuracy: 0.4452\n",
      "Epoch 27: val_loss did not improve from 0.97134\n",
      "210/210 [==============================] - 424s 2s/step - loss: 1.0346 - accuracy: 0.4452 - val_loss: 0.9900 - val_accuracy: 0.4833 - lr: 9.0000e-04\n",
      "Epoch 28/45\n",
      "210/210 [==============================] - ETA: 0s - loss: 1.0823 - accuracy: 0.4339\n",
      "Epoch 28: val_loss did not improve from 0.97134\n",
      "210/210 [==============================] - 424s 2s/step - loss: 1.0823 - accuracy: 0.4339 - val_loss: 4.5289 - val_accuracy: 0.4292 - lr: 9.0000e-04\n",
      "Epoch 29/45\n",
      "210/210 [==============================] - ETA: 0s - loss: 1.0477 - accuracy: 0.4548\n",
      "Epoch 29: val_loss did not improve from 0.97134\n",
      "210/210 [==============================] - 422s 2s/step - loss: 1.0477 - accuracy: 0.4548 - val_loss: 1.4573 - val_accuracy: 0.3417 - lr: 9.0000e-04\n",
      "Epoch 30/45\n",
      "210/210 [==============================] - ETA: 0s - loss: 1.0437 - accuracy: 0.4470\n",
      "Epoch 30: val_loss did not improve from 0.97134\n",
      "210/210 [==============================] - 424s 2s/step - loss: 1.0437 - accuracy: 0.4470 - val_loss: 2.6660 - val_accuracy: 0.3500 - lr: 9.0000e-04\n",
      "Epoch 31/45\n",
      "210/210 [==============================] - ETA: 0s - loss: 1.0617 - accuracy: 0.4387\n",
      "Epoch 31: val_loss did not improve from 0.97134\n",
      "210/210 [==============================] - 425s 2s/step - loss: 1.0617 - accuracy: 0.4387 - val_loss: 2.9651 - val_accuracy: 0.2667 - lr: 9.0000e-04\n",
      "Epoch 32/45\n",
      "210/210 [==============================] - ETA: 0s - loss: 1.0803 - accuracy: 0.4524\n",
      "Epoch 32: ReduceLROnPlateau reducing learning rate to 0.0005399999907240271.\n",
      "\n",
      "Epoch 32: val_loss did not improve from 0.97134\n",
      "210/210 [==============================] - 423s 2s/step - loss: 1.0803 - accuracy: 0.4524 - val_loss: 5.6706 - val_accuracy: 0.2667 - lr: 9.0000e-04\n",
      "Epoch 33/45\n",
      "210/210 [==============================] - ETA: 0s - loss: 1.0480 - accuracy: 0.5018\n",
      "Epoch 33: val_loss did not improve from 0.97134\n",
      "210/210 [==============================] - 423s 2s/step - loss: 1.0480 - accuracy: 0.5018 - val_loss: 1.2106 - val_accuracy: 0.4917 - lr: 5.4000e-04\n",
      "Epoch 34/45\n",
      "210/210 [==============================] - ETA: 0s - loss: 0.9727 - accuracy: 0.5452\n",
      "Epoch 34: val_loss did not improve from 0.97134\n",
      "210/210 [==============================] - 422s 2s/step - loss: 0.9727 - accuracy: 0.5452 - val_loss: 1.0529 - val_accuracy: 0.4708 - lr: 5.4000e-04\n",
      "Epoch 35/45\n",
      "210/210 [==============================] - ETA: 0s - loss: 0.9300 - accuracy: 0.5833\n",
      "Epoch 35: val_loss did not improve from 0.97134\n",
      "210/210 [==============================] - 426s 2s/step - loss: 0.9300 - accuracy: 0.5833 - val_loss: 2.4575 - val_accuracy: 0.2667 - lr: 5.4000e-04\n",
      "Epoch 36/45\n",
      "210/210 [==============================] - ETA: 0s - loss: 0.8783 - accuracy: 0.6083\n",
      "Epoch 36: val_loss improved from 0.97134 to 0.70690, saving model to ./checkpoints/V4.1.2\\FOLD-0\n",
      "INFO:tensorflow:Assets written to: ./checkpoints/V4.1.2\\FOLD-0\\assets\n"
     ]
    },
    {
     "name": "stderr",
     "output_type": "stream",
     "text": [
      "INFO:tensorflow:Assets written to: ./checkpoints/V4.1.2\\FOLD-0\\assets\n"
     ]
    },
    {
     "name": "stdout",
     "output_type": "stream",
     "text": [
      "210/210 [==============================] - 435s 2s/step - loss: 0.8783 - accuracy: 0.6083 - val_loss: 0.7069 - val_accuracy: 0.7042 - lr: 5.4000e-04\n",
      "Epoch 37/45\n",
      "210/210 [==============================] - ETA: 0s - loss: 0.8768 - accuracy: 0.6077\n",
      "Epoch 37: val_loss did not improve from 0.70690\n",
      "210/210 [==============================] - 422s 2s/step - loss: 0.8768 - accuracy: 0.6077 - val_loss: 0.7595 - val_accuracy: 0.6875 - lr: 5.4000e-04\n",
      "Epoch 38/45\n",
      "210/210 [==============================] - ETA: 0s - loss: 0.8461 - accuracy: 0.6381\n",
      "Epoch 38: val_loss did not improve from 0.70690\n",
      "210/210 [==============================] - 425s 2s/step - loss: 0.8461 - accuracy: 0.6381 - val_loss: 0.8398 - val_accuracy: 0.6083 - lr: 5.4000e-04\n",
      "Epoch 39/45\n",
      "210/210 [==============================] - ETA: 0s - loss: 0.8330 - accuracy: 0.6387\n",
      "Epoch 39: val_loss did not improve from 0.70690\n",
      "210/210 [==============================] - 424s 2s/step - loss: 0.8330 - accuracy: 0.6387 - val_loss: 5.1832 - val_accuracy: 0.3708 - lr: 5.4000e-04\n",
      "Epoch 40/45\n",
      "210/210 [==============================] - ETA: 0s - loss: 0.8204 - accuracy: 0.6571\n",
      "Epoch 40: val_loss did not improve from 0.70690\n",
      "210/210 [==============================] - 423s 2s/step - loss: 0.8204 - accuracy: 0.6571 - val_loss: 1.6256 - val_accuracy: 0.4500 - lr: 5.4000e-04\n",
      "Epoch 41/45\n",
      "210/210 [==============================] - ETA: 0s - loss: 0.7454 - accuracy: 0.6899\n",
      "Epoch 41: val_loss did not improve from 0.70690\n",
      "210/210 [==============================] - 422s 2s/step - loss: 0.7454 - accuracy: 0.6899 - val_loss: 0.9983 - val_accuracy: 0.5667 - lr: 5.4000e-04\n",
      "Epoch 42/45\n",
      "210/210 [==============================] - ETA: 0s - loss: 0.6994 - accuracy: 0.7304\n",
      "Epoch 42: val_loss improved from 0.70690 to 0.58163, saving model to ./checkpoints/V4.1.2\\FOLD-0\n",
      "INFO:tensorflow:Assets written to: ./checkpoints/V4.1.2\\FOLD-0\\assets\n"
     ]
    },
    {
     "name": "stderr",
     "output_type": "stream",
     "text": [
      "INFO:tensorflow:Assets written to: ./checkpoints/V4.1.2\\FOLD-0\\assets\n"
     ]
    },
    {
     "name": "stdout",
     "output_type": "stream",
     "text": [
      "210/210 [==============================] - 431s 2s/step - loss: 0.6994 - accuracy: 0.7304 - val_loss: 0.5816 - val_accuracy: 0.7750 - lr: 5.4000e-04\n",
      "Epoch 43/45\n",
      "210/210 [==============================] - ETA: 0s - loss: 0.7178 - accuracy: 0.7054\n",
      "Epoch 43: val_loss did not improve from 0.58163\n",
      "210/210 [==============================] - 422s 2s/step - loss: 0.7178 - accuracy: 0.7054 - val_loss: 1.5029 - val_accuracy: 0.3417 - lr: 5.4000e-04\n",
      "Epoch 44/45\n",
      "210/210 [==============================] - ETA: 0s - loss: 0.6562 - accuracy: 0.7363\n",
      "Epoch 44: val_loss did not improve from 0.58163\n",
      "210/210 [==============================] - 422s 2s/step - loss: 0.6562 - accuracy: 0.7363 - val_loss: 1.2072 - val_accuracy: 0.5792 - lr: 5.4000e-04\n",
      "Epoch 45/45\n",
      "210/210 [==============================] - ETA: 0s - loss: 0.6381 - accuracy: 0.7369\n",
      "Epoch 45: val_loss did not improve from 0.58163\n",
      "210/210 [==============================] - 423s 2s/step - loss: 0.6381 - accuracy: 0.7369 - val_loss: 0.9555 - val_accuracy: 0.5833 - lr: 5.4000e-04\n"
     ]
    },
    {
     "data": {
      "image/png": "[encoded data removed]",
      "text/plain": [
       "<Figure size 300x200 with 1 Axes>"
      ]
     },
     "metadata": {},
     "output_type": "display_data"
    },
    {
     "data": {
      "image/png": "[encoded data removed]",
      "text/plain": [
       "<Figure size 300x200 with 1 Axes>"
      ]
     },
     "metadata": {},
     "output_type": "display_data"
    },
    {
     "name": "stdout",
     "output_type": "stream",
     "text": [
      "Fold Training Time: 5 hour(s) and 23 mins\n",
      "Precision: 84.04255509376526  -  Recall: 65.83333611488342\n",
      "Accuracy: 77.49999761581421\n",
      "F1Score: Building 65.71427917480469 | Plant 89.25619506835938 | Road 93.442626953125 | Vehicle 59.7938117980957\n",
      "[neptune] [info   ] Shutting down background jobs, please wait a moment...\n",
      "[neptune] [info   ] Done!\n",
      "[neptune] [info   ] Neptune initialized. Open in the app: offline/1338ecdf-1735-49bd-9928-c87e7a1971f3\n",
      "Epoch 1/45\n",
      "210/210 [==============================] - ETA: 0s - loss: 16.8865 - accuracy: 0.5339\n",
      "Epoch 1: val_loss improved from inf to 5.13804, saving model to ./checkpoints/V4.1.2\\FOLD-1\n",
      "INFO:tensorflow:Assets written to: ./checkpoints/V4.1.2\\FOLD-1\\assets\n"
     ]
    },
    {
     "name": "stderr",
     "output_type": "stream",
     "text": [
      "INFO:tensorflow:Assets written to: ./checkpoints/V4.1.2\\FOLD-1\\assets\n"
     ]
    },
    {
     "name": "stdout",
     "output_type": "stream",
     "text": [
      "210/210 [==============================] - 481s 2s/step - loss: 16.8865 - accuracy: 0.5339 - val_loss: 5.1380 - val_accuracy: 0.2917 - lr: 0.0015\n",
      "Epoch 2/45\n",
      "210/210 [==============================] - ETA: 0s - loss: 1.3580 - accuracy: 0.6054\n",
      "Epoch 2: val_loss improved from 5.13804 to 0.96550, saving model to ./checkpoints/V4.1.2\\FOLD-1\n",
      "INFO:tensorflow:Assets written to: ./checkpoints/V4.1.2\\FOLD-1\\assets\n"
     ]
    },
    {
     "name": "stderr",
     "output_type": "stream",
     "text": [
      "INFO:tensorflow:Assets written to: ./checkpoints/V4.1.2\\FOLD-1\\assets\n"
     ]
    },
    {
     "name": "stdout",
     "output_type": "stream",
     "text": [
      "210/210 [==============================] - 468s 2s/step - loss: 1.3580 - accuracy: 0.6054 - val_loss: 0.9655 - val_accuracy: 0.6208 - lr: 0.0015\n",
      "Epoch 3/45\n",
      "210/210 [==============================] - ETA: 0s - loss: 0.9568 - accuracy: 0.6339\n",
      "Epoch 3: val_loss did not improve from 0.96550\n",
      "210/210 [==============================] - 461s 2s/step - loss: 0.9568 - accuracy: 0.6339 - val_loss: 1.2161 - val_accuracy: 0.5292 - lr: 0.0015\n",
      "Epoch 4/45\n",
      "210/210 [==============================] - ETA: 0s - loss: 0.9172 - accuracy: 0.6256\n",
      "Epoch 4: val_loss did not improve from 0.96550\n",
      "210/210 [==============================] - 461s 2s/step - loss: 0.9172 - accuracy: 0.6256 - val_loss: 10.5622 - val_accuracy: 0.2667 - lr: 0.0015\n",
      "Epoch 5/45\n",
      "210/210 [==============================] - ETA: 0s - loss: 0.8482 - accuracy: 0.6440\n",
      "Epoch 5: val_loss did not improve from 0.96550\n",
      "210/210 [==============================] - 461s 2s/step - loss: 0.8482 - accuracy: 0.6440 - val_loss: 1.0929 - val_accuracy: 0.6333 - lr: 0.0015\n",
      "Epoch 6/45\n",
      "210/210 [==============================] - ETA: 0s - loss: 0.8668 - accuracy: 0.6286\n",
      "Epoch 6: val_loss did not improve from 0.96550\n",
      "210/210 [==============================] - 460s 2s/step - loss: 0.8668 - accuracy: 0.6286 - val_loss: 1.8028 - val_accuracy: 0.4042 - lr: 0.0015\n",
      "Epoch 7/45\n",
      "210/210 [==============================] - ETA: 0s - loss: 0.8275 - accuracy: 0.6589\n",
      "Epoch 7: val_loss did not improve from 0.96550\n",
      "210/210 [==============================] - 459s 2s/step - loss: 0.8275 - accuracy: 0.6589 - val_loss: 1.4664 - val_accuracy: 0.5000 - lr: 0.0015\n",
      "Epoch 8/45\n",
      "210/210 [==============================] - ETA: 0s - loss: 0.8617 - accuracy: 0.6411\n",
      "Epoch 8: val_loss did not improve from 0.96550\n",
      "210/210 [==============================] - 461s 2s/step - loss: 0.8617 - accuracy: 0.6411 - val_loss: 2.8411 - val_accuracy: 0.5125 - lr: 0.0015\n",
      "Epoch 9/45\n",
      "210/210 [==============================] - ETA: 0s - loss: 0.8682 - accuracy: 0.6548\n",
      "Epoch 9: val_loss did not improve from 0.96550\n",
      "210/210 [==============================] - 461s 2s/step - loss: 0.8682 - accuracy: 0.6548 - val_loss: 0.9776 - val_accuracy: 0.6333 - lr: 0.0015\n",
      "Epoch 10/45\n",
      "210/210 [==============================] - ETA: 0s - loss: 0.7562 - accuracy: 0.7018\n",
      "Epoch 10: val_loss did not improve from 0.96550\n",
      "210/210 [==============================] - 460s 2s/step - loss: 0.7562 - accuracy: 0.7018 - val_loss: 1.0062 - val_accuracy: 0.6250 - lr: 0.0015\n",
      "Epoch 11/45\n",
      "210/210 [==============================] - ETA: 0s - loss: 0.7656 - accuracy: 0.6923\n",
      "Epoch 11: val_loss improved from 0.96550 to 0.77928, saving model to ./checkpoints/V4.1.2\\FOLD-1\n",
      "INFO:tensorflow:Assets written to: ./checkpoints/V4.1.2\\FOLD-1\\assets\n"
     ]
    },
    {
     "name": "stderr",
     "output_type": "stream",
     "text": [
      "INFO:tensorflow:Assets written to: ./checkpoints/V4.1.2\\FOLD-1\\assets\n"
     ]
    },
    {
     "name": "stdout",
     "output_type": "stream",
     "text": [
      "210/210 [==============================] - 476s 2s/step - loss: 0.7656 - accuracy: 0.6923 - val_loss: 0.7793 - val_accuracy: 0.6417 - lr: 0.0015\n",
      "Epoch 12/45\n",
      "210/210 [==============================] - ETA: 0s - loss: 0.7134 - accuracy: 0.7173\n",
      "Epoch 12: val_loss did not improve from 0.77928\n",
      "210/210 [==============================] - 446s 2s/step - loss: 0.7134 - accuracy: 0.7173 - val_loss: 2.0137 - val_accuracy: 0.4708 - lr: 0.0015\n",
      "Epoch 13/45\n",
      "210/210 [==============================] - ETA: 0s - loss: 0.6557 - accuracy: 0.7173\n",
      "Epoch 13: val_loss did not improve from 0.77928\n",
      "210/210 [==============================] - 447s 2s/step - loss: 0.6557 - accuracy: 0.7173 - val_loss: 1.0158 - val_accuracy: 0.5875 - lr: 0.0015\n",
      "Epoch 14/45\n",
      "210/210 [==============================] - ETA: 0s - loss: 0.7696 - accuracy: 0.7000\n",
      "Epoch 14: val_loss did not improve from 0.77928\n",
      "210/210 [==============================] - 446s 2s/step - loss: 0.7696 - accuracy: 0.7000 - val_loss: 1.6493 - val_accuracy: 0.4833 - lr: 0.0015\n",
      "Epoch 15/45\n",
      "210/210 [==============================] - ETA: 0s - loss: 0.6813 - accuracy: 0.7268\n",
      "Epoch 15: val_loss did not improve from 0.77928\n",
      "210/210 [==============================] - 447s 2s/step - loss: 0.6813 - accuracy: 0.7268 - val_loss: 1.3530 - val_accuracy: 0.5125 - lr: 0.0015\n",
      "Epoch 16/45\n",
      "210/210 [==============================] - ETA: 0s - loss: 0.6818 - accuracy: 0.7315\n",
      "Epoch 16: val_loss did not improve from 0.77928\n",
      "210/210 [==============================] - 445s 2s/step - loss: 0.6818 - accuracy: 0.7315 - val_loss: 4.9868 - val_accuracy: 0.2750 - lr: 0.0015\n",
      "Epoch 17/45\n",
      "210/210 [==============================] - ETA: 0s - loss: 0.6337 - accuracy: 0.7518\n",
      "Epoch 17: val_loss did not improve from 0.77928\n",
      "210/210 [==============================] - 450s 2s/step - loss: 0.6337 - accuracy: 0.7518 - val_loss: 1.0383 - val_accuracy: 0.5125 - lr: 0.0015\n",
      "Epoch 18/45\n",
      "210/210 [==============================] - ETA: 0s - loss: 0.6601 - accuracy: 0.7339\n",
      "Epoch 18: val_loss improved from 0.77928 to 0.72229, saving model to ./checkpoints/V4.1.2\\FOLD-1\n",
      "INFO:tensorflow:Assets written to: ./checkpoints/V4.1.2\\FOLD-1\\assets\n"
     ]
    },
    {
     "name": "stderr",
     "output_type": "stream",
     "text": [
      "INFO:tensorflow:Assets written to: ./checkpoints/V4.1.2\\FOLD-1\\assets\n"
     ]
    },
    {
     "name": "stdout",
     "output_type": "stream",
     "text": [
      "210/210 [==============================] - 455s 2s/step - loss: 0.6601 - accuracy: 0.7339 - val_loss: 0.7223 - val_accuracy: 0.7333 - lr: 0.0015\n",
      "Epoch 19/45\n",
      "210/210 [==============================] - ETA: 0s - loss: 0.6305 - accuracy: 0.7440\n",
      "Epoch 19: val_loss did not improve from 0.72229\n",
      "210/210 [==============================] - 450s 2s/step - loss: 0.6305 - accuracy: 0.7440 - val_loss: 3.7079 - val_accuracy: 0.3000 - lr: 0.0015\n",
      "Epoch 20/45\n",
      "210/210 [==============================] - ETA: 0s - loss: 0.5981 - accuracy: 0.7452\n",
      "Epoch 20: val_loss did not improve from 0.72229\n",
      "210/210 [==============================] - 449s 2s/step - loss: 0.5981 - accuracy: 0.7452 - val_loss: 1.6719 - val_accuracy: 0.5250 - lr: 0.0015\n",
      "Epoch 21/45\n",
      "210/210 [==============================] - ETA: 0s - loss: 0.5867 - accuracy: 0.7762\n",
      "Epoch 21: val_loss did not improve from 0.72229\n",
      "210/210 [==============================] - 449s 2s/step - loss: 0.5867 - accuracy: 0.7762 - val_loss: 1.1543 - val_accuracy: 0.5833 - lr: 0.0015\n",
      "Epoch 22/45\n",
      "210/210 [==============================] - ETA: 0s - loss: 0.6370 - accuracy: 0.7440\n",
      "Epoch 22: val_loss did not improve from 0.72229\n",
      "210/210 [==============================] - 449s 2s/step - loss: 0.6370 - accuracy: 0.7440 - val_loss: 1.9191 - val_accuracy: 0.4292 - lr: 0.0015\n",
      "Epoch 23/45\n",
      "210/210 [==============================] - ETA: 0s - loss: 0.5828 - accuracy: 0.7560\n",
      "Epoch 23: val_loss improved from 0.72229 to 0.55924, saving model to ./checkpoints/V4.1.2\\FOLD-1\n",
      "INFO:tensorflow:Assets written to: ./checkpoints/V4.1.2\\FOLD-1\\assets\n"
     ]
    },
    {
     "name": "stderr",
     "output_type": "stream",
     "text": [
      "INFO:tensorflow:Assets written to: ./checkpoints/V4.1.2\\FOLD-1\\assets\n"
     ]
    },
    {
     "name": "stdout",
     "output_type": "stream",
     "text": [
      "210/210 [==============================] - 458s 2s/step - loss: 0.5828 - accuracy: 0.7560 - val_loss: 0.5592 - val_accuracy: 0.7625 - lr: 0.0015\n",
      "Epoch 24/45\n",
      "210/210 [==============================] - ETA: 0s - loss: 0.5387 - accuracy: 0.7792\n",
      "Epoch 24: val_loss improved from 0.55924 to 0.44221, saving model to ./checkpoints/V4.1.2\\FOLD-1\n",
      "INFO:tensorflow:Assets written to: ./checkpoints/V4.1.2\\FOLD-1\\assets\n"
     ]
    },
    {
     "name": "stderr",
     "output_type": "stream",
     "text": [
      "INFO:tensorflow:Assets written to: ./checkpoints/V4.1.2\\FOLD-1\\assets\n"
     ]
    },
    {
     "name": "stdout",
     "output_type": "stream",
     "text": [
      "210/210 [==============================] - 466s 2s/step - loss: 0.5387 - accuracy: 0.7792 - val_loss: 0.4422 - val_accuracy: 0.8500 - lr: 0.0015\n",
      "Epoch 25/45\n",
      "210/210 [==============================] - ETA: 0s - loss: 0.5508 - accuracy: 0.7917\n",
      "Epoch 25: val_loss did not improve from 0.44221\n",
      "210/210 [==============================] - 467s 2s/step - loss: 0.5508 - accuracy: 0.7917 - val_loss: 1.8355 - val_accuracy: 0.3875 - lr: 0.0015\n",
      "Epoch 26/45\n",
      "210/210 [==============================] - ETA: 0s - loss: 0.5210 - accuracy: 0.7958\n",
      "Epoch 26: val_loss did not improve from 0.44221\n",
      "210/210 [==============================] - 455s 2s/step - loss: 0.5210 - accuracy: 0.7958 - val_loss: 1.1415 - val_accuracy: 0.4667 - lr: 0.0015\n",
      "Epoch 27/45\n",
      "210/210 [==============================] - ETA: 0s - loss: 0.5273 - accuracy: 0.7976\n",
      "Epoch 27: val_loss did not improve from 0.44221\n",
      "210/210 [==============================] - 450s 2s/step - loss: 0.5273 - accuracy: 0.7976 - val_loss: 1.3811 - val_accuracy: 0.4833 - lr: 0.0015\n",
      "Epoch 28/45\n",
      "210/210 [==============================] - ETA: 0s - loss: 0.5410 - accuracy: 0.7929\n",
      "Epoch 28: val_loss did not improve from 0.44221\n",
      "210/210 [==============================] - 445s 2s/step - loss: 0.5410 - accuracy: 0.7929 - val_loss: 1.0107 - val_accuracy: 0.5792 - lr: 0.0015\n",
      "Epoch 29/45\n",
      "210/210 [==============================] - ETA: 0s - loss: 0.4895 - accuracy: 0.8018\n",
      "Epoch 29: val_loss did not improve from 0.44221\n",
      "210/210 [==============================] - 447s 2s/step - loss: 0.4895 - accuracy: 0.8018 - val_loss: 1.1097 - val_accuracy: 0.4917 - lr: 0.0015\n",
      "Epoch 30/45\n",
      "210/210 [==============================] - ETA: 0s - loss: 0.5124 - accuracy: 0.7964\n",
      "Epoch 30: val_loss did not improve from 0.44221\n",
      "210/210 [==============================] - 446s 2s/step - loss: 0.5124 - accuracy: 0.7964 - val_loss: 1.5578 - val_accuracy: 0.3875 - lr: 0.0015\n",
      "Epoch 31/45\n",
      "210/210 [==============================] - ETA: 0s - loss: 0.4466 - accuracy: 0.8274\n",
      "Epoch 31: val_loss did not improve from 0.44221\n",
      "210/210 [==============================] - 449s 2s/step - loss: 0.4466 - accuracy: 0.8274 - val_loss: 0.8419 - val_accuracy: 0.7250 - lr: 0.0015\n",
      "Epoch 32/45\n",
      "210/210 [==============================] - ETA: 0s - loss: 0.4899 - accuracy: 0.8131\n",
      "Epoch 32: val_loss did not improve from 0.44221\n",
      "210/210 [==============================] - 446s 2s/step - loss: 0.4899 - accuracy: 0.8131 - val_loss: 6.0712 - val_accuracy: 0.2833 - lr: 0.0015\n",
      "Epoch 33/45\n",
      "210/210 [==============================] - ETA: 0s - loss: 0.5037 - accuracy: 0.8131\n",
      "Epoch 33: val_loss did not improve from 0.44221\n",
      "210/210 [==============================] - 445s 2s/step - loss: 0.5037 - accuracy: 0.8131 - val_loss: 3.4236 - val_accuracy: 0.4458 - lr: 0.0015\n",
      "Epoch 34/45\n",
      "210/210 [==============================] - ETA: 0s - loss: 0.5104 - accuracy: 0.8060\n",
      "Epoch 34: ReduceLROnPlateau reducing learning rate to 0.0009000000078231095.\n",
      "\n",
      "Epoch 34: val_loss did not improve from 0.44221\n",
      "210/210 [==============================] - 447s 2s/step - loss: 0.5104 - accuracy: 0.8060 - val_loss: 0.7859 - val_accuracy: 0.6750 - lr: 0.0015\n",
      "Epoch 35/45\n",
      "210/210 [==============================] - ETA: 0s - loss: 0.4254 - accuracy: 0.8351\n",
      "Epoch 35: val_loss did not improve from 0.44221\n",
      "210/210 [==============================] - 447s 2s/step - loss: 0.4254 - accuracy: 0.8351 - val_loss: 0.9380 - val_accuracy: 0.5583 - lr: 9.0000e-04\n",
      "Epoch 36/45\n",
      "210/210 [==============================] - ETA: 0s - loss: 0.3901 - accuracy: 0.8536\n",
      "Epoch 36: val_loss did not improve from 0.44221\n",
      "210/210 [==============================] - 448s 2s/step - loss: 0.3901 - accuracy: 0.8536 - val_loss: 1.0252 - val_accuracy: 0.6167 - lr: 9.0000e-04\n",
      "Epoch 37/45\n",
      "210/210 [==============================] - ETA: 0s - loss: 0.3641 - accuracy: 0.8554\n",
      "Epoch 37: val_loss did not improve from 0.44221\n",
      "210/210 [==============================] - 445s 2s/step - loss: 0.3641 - accuracy: 0.8554 - val_loss: 0.4541 - val_accuracy: 0.8500 - lr: 9.0000e-04\n",
      "Epoch 38/45\n",
      "210/210 [==============================] - ETA: 0s - loss: 0.4261 - accuracy: 0.8393\n",
      "Epoch 38: val_loss did not improve from 0.44221\n",
      "210/210 [==============================] - 447s 2s/step - loss: 0.4261 - accuracy: 0.8393 - val_loss: 0.7616 - val_accuracy: 0.7208 - lr: 9.0000e-04\n",
      "Epoch 39/45\n",
      "210/210 [==============================] - ETA: 0s - loss: 0.3921 - accuracy: 0.8429\n",
      "Epoch 39: val_loss did not improve from 0.44221\n",
      "210/210 [==============================] - 445s 2s/step - loss: 0.3921 - accuracy: 0.8429 - val_loss: 1.0105 - val_accuracy: 0.6667 - lr: 9.0000e-04\n",
      "Epoch 40/45\n",
      "210/210 [==============================] - ETA: 0s - loss: 0.3630 - accuracy: 0.8661\n",
      "Epoch 40: val_loss improved from 0.44221 to 0.43562, saving model to ./checkpoints/V4.1.2\\FOLD-1\n",
      "INFO:tensorflow:Assets written to: ./checkpoints/V4.1.2\\FOLD-1\\assets\n"
     ]
    },
    {
     "name": "stderr",
     "output_type": "stream",
     "text": [
      "INFO:tensorflow:Assets written to: ./checkpoints/V4.1.2\\FOLD-1\\assets\n"
     ]
    },
    {
     "name": "stdout",
     "output_type": "stream",
     "text": [
      "210/210 [==============================] - 457s 2s/step - loss: 0.3630 - accuracy: 0.8661 - val_loss: 0.4356 - val_accuracy: 0.8708 - lr: 9.0000e-04\n",
      "Epoch 41/45\n",
      "210/210 [==============================] - ETA: 0s - loss: 0.3623 - accuracy: 0.8631\n",
      "Epoch 41: val_loss improved from 0.43562 to 0.40775, saving model to ./checkpoints/V4.1.2\\FOLD-1\n",
      "INFO:tensorflow:Assets written to: ./checkpoints/V4.1.2\\FOLD-1\\assets\n"
     ]
    },
    {
     "name": "stderr",
     "output_type": "stream",
     "text": [
      "INFO:tensorflow:Assets written to: ./checkpoints/V4.1.2\\FOLD-1\\assets\n"
     ]
    },
    {
     "name": "stdout",
     "output_type": "stream",
     "text": [
      "210/210 [==============================] - 456s 2s/step - loss: 0.3623 - accuracy: 0.8631 - val_loss: 0.4078 - val_accuracy: 0.8583 - lr: 9.0000e-04\n",
      "Epoch 42/45\n",
      "210/210 [==============================] - ETA: 0s - loss: 0.3548 - accuracy: 0.8661\n",
      "Epoch 42: val_loss did not improve from 0.40775\n",
      "210/210 [==============================] - 447s 2s/step - loss: 0.3548 - accuracy: 0.8661 - val_loss: 0.9924 - val_accuracy: 0.6958 - lr: 9.0000e-04\n",
      "Epoch 43/45\n",
      "210/210 [==============================] - ETA: 0s - loss: 0.3910 - accuracy: 0.8500\n",
      "Epoch 43: val_loss did not improve from 0.40775\n",
      "210/210 [==============================] - 448s 2s/step - loss: 0.3910 - accuracy: 0.8500 - val_loss: 0.5751 - val_accuracy: 0.8167 - lr: 9.0000e-04\n",
      "Epoch 44/45\n",
      "210/210 [==============================] - ETA: 0s - loss: 0.3386 - accuracy: 0.8708\n",
      "Epoch 44: val_loss did not improve from 0.40775\n",
      "210/210 [==============================] - 448s 2s/step - loss: 0.3386 - accuracy: 0.8708 - val_loss: 3.8993 - val_accuracy: 0.3667 - lr: 9.0000e-04\n",
      "Epoch 45/45\n",
      "210/210 [==============================] - ETA: 0s - loss: 0.3649 - accuracy: 0.8649\n",
      "Epoch 45: val_loss did not improve from 0.40775\n",
      "210/210 [==============================] - 444s 2s/step - loss: 0.3649 - accuracy: 0.8649 - val_loss: 1.6761 - val_accuracy: 0.5625 - lr: 9.0000e-04\n"
     ]
    },
    {
     "data": {
      "image/png": "[encoded data removed]",
      "text/plain": [
       "<Figure size 300x200 with 1 Axes>"
      ]
     },
     "metadata": {},
     "output_type": "display_data"
    },
    {
     "data": {
      "image/png": "[encoded data removed]",
      "text/plain": [
       "<Figure size 300x200 with 1 Axes>"
      ]
     },
     "metadata": {},
     "output_type": "display_data"
    },
    {
     "name": "stdout",
     "output_type": "stream",
     "text": [
      "Fold Training Time: 5 hour(s) and 40 mins\n",
      "Precision: 86.7521345615387  -  Recall: 84.58333611488342\n",
      "Accuracy: 85.83333492279053\n",
      "F1Score: Building 77.69784545898438 | Plant 94.91525268554688 | Road 91.89189147949219 | Vehicle 80.35714721679688\n",
      "[neptune] [info   ] Shutting down background jobs, please wait a moment...\n",
      "[neptune] [info   ] Done!\n",
      "[neptune] [info   ] Neptune initialized. Open in the app: offline/cae9f2ab-9403-4d74-8cda-fb418acc3c50\n",
      "Epoch 1/45\n",
      "210/210 [==============================] - ETA: 0s - loss: 23.0431 - accuracy: 0.4804\n",
      "Epoch 1: val_loss improved from inf to 6.11522, saving model to ./checkpoints/V4.1.2\\FOLD-2\n",
      "INFO:tensorflow:Assets written to: ./checkpoints/V4.1.2\\FOLD-2\\assets\n"
     ]
    },
    {
     "name": "stderr",
     "output_type": "stream",
     "text": [
      "INFO:tensorflow:Assets written to: ./checkpoints/V4.1.2\\FOLD-2\\assets\n"
     ]
    },
    {
     "name": "stdout",
     "output_type": "stream",
     "text": [
      "210/210 [==============================] - 500s 2s/step - loss: 23.0431 - accuracy: 0.4804 - val_loss: 6.1152 - val_accuracy: 0.3750 - lr: 0.0015\n",
      "Epoch 2/45\n",
      "210/210 [==============================] - ETA: 0s - loss: 1.9954 - accuracy: 0.5720\n",
      "Epoch 2: val_loss improved from 6.11522 to 0.90423, saving model to ./checkpoints/V4.1.2\\FOLD-2\n",
      "INFO:tensorflow:Assets written to: ./checkpoints/V4.1.2\\FOLD-2\\assets\n"
     ]
    },
    {
     "name": "stderr",
     "output_type": "stream",
     "text": [
      "INFO:tensorflow:Assets written to: ./checkpoints/V4.1.2\\FOLD-2\\assets\n"
     ]
    },
    {
     "name": "stdout",
     "output_type": "stream",
     "text": [
      "210/210 [==============================] - 468s 2s/step - loss: 1.9954 - accuracy: 0.5720 - val_loss: 0.9042 - val_accuracy: 0.6000 - lr: 0.0015\n",
      "Epoch 3/45\n",
      "210/210 [==============================] - ETA: 0s - loss: 1.0791 - accuracy: 0.6012\n",
      "Epoch 3: val_loss did not improve from 0.90423\n",
      "210/210 [==============================] - 459s 2s/step - loss: 1.0791 - accuracy: 0.6012 - val_loss: 2.5662 - val_accuracy: 0.3750 - lr: 0.0015\n",
      "Epoch 4/45\n",
      "210/210 [==============================] - ETA: 0s - loss: 0.9965 - accuracy: 0.6071\n",
      "Epoch 4: val_loss did not improve from 0.90423\n",
      "210/210 [==============================] - 457s 2s/step - loss: 0.9965 - accuracy: 0.6071 - val_loss: 7.1472 - val_accuracy: 0.2667 - lr: 0.0015\n",
      "Epoch 5/45\n",
      "210/210 [==============================] - ETA: 0s - loss: 0.8959 - accuracy: 0.6494\n",
      "Epoch 5: val_loss did not improve from 0.90423\n",
      "210/210 [==============================] - 461s 2s/step - loss: 0.8959 - accuracy: 0.6494 - val_loss: 3.1633 - val_accuracy: 0.3625 - lr: 0.0015\n",
      "Epoch 6/45\n",
      "210/210 [==============================] - ETA: 0s - loss: 0.9320 - accuracy: 0.6280\n",
      "Epoch 6: val_loss did not improve from 0.90423\n",
      "210/210 [==============================] - 460s 2s/step - loss: 0.9320 - accuracy: 0.6280 - val_loss: 1.3447 - val_accuracy: 0.4708 - lr: 0.0015\n",
      "Epoch 7/45\n",
      "210/210 [==============================] - ETA: 0s - loss: 0.8909 - accuracy: 0.6095\n",
      "Epoch 7: val_loss improved from 0.90423 to 0.75488, saving model to ./checkpoints/V4.1.2\\FOLD-2\n",
      "INFO:tensorflow:Assets written to: ./checkpoints/V4.1.2\\FOLD-2\\assets\n"
     ]
    },
    {
     "name": "stderr",
     "output_type": "stream",
     "text": [
      "INFO:tensorflow:Assets written to: ./checkpoints/V4.1.2\\FOLD-2\\assets\n"
     ]
    },
    {
     "name": "stdout",
     "output_type": "stream",
     "text": [
      "210/210 [==============================] - 470s 2s/step - loss: 0.8909 - accuracy: 0.6095 - val_loss: 0.7549 - val_accuracy: 0.6333 - lr: 0.0015\n",
      "Epoch 8/45\n",
      "210/210 [==============================] - ETA: 0s - loss: 0.9016 - accuracy: 0.6458\n",
      "Epoch 8: val_loss did not improve from 0.75488\n",
      "210/210 [==============================] - 457s 2s/step - loss: 0.9016 - accuracy: 0.6458 - val_loss: 1.5012 - val_accuracy: 0.5833 - lr: 0.0015\n",
      "Epoch 9/45\n",
      "210/210 [==============================] - ETA: 0s - loss: 0.8779 - accuracy: 0.6506\n",
      "Epoch 9: val_loss did not improve from 0.75488\n",
      "210/210 [==============================] - 458s 2s/step - loss: 0.8779 - accuracy: 0.6506 - val_loss: 1.2152 - val_accuracy: 0.5750 - lr: 0.0015\n",
      "Epoch 10/45\n",
      "210/210 [==============================] - ETA: 0s - loss: 0.8302 - accuracy: 0.6571\n",
      "Epoch 10: val_loss did not improve from 0.75488\n",
      "210/210 [==============================] - 460s 2s/step - loss: 0.8302 - accuracy: 0.6571 - val_loss: 1.1135 - val_accuracy: 0.5500 - lr: 0.0015\n",
      "Epoch 11/45\n",
      "210/210 [==============================] - ETA: 0s - loss: 0.7862 - accuracy: 0.6798\n",
      "Epoch 11: val_loss did not improve from 0.75488\n",
      "210/210 [==============================] - 461s 2s/step - loss: 0.7862 - accuracy: 0.6798 - val_loss: 1.1518 - val_accuracy: 0.5375 - lr: 0.0015\n",
      "Epoch 12/45\n",
      "210/210 [==============================] - ETA: 0s - loss: 0.8344 - accuracy: 0.6601\n",
      "Epoch 12: val_loss did not improve from 0.75488\n",
      "210/210 [==============================] - 457s 2s/step - loss: 0.8344 - accuracy: 0.6601 - val_loss: 18.0745 - val_accuracy: 0.2500 - lr: 0.0015\n",
      "Epoch 13/45\n",
      "210/210 [==============================] - ETA: 0s - loss: 0.8430 - accuracy: 0.6631\n",
      "Epoch 13: val_loss did not improve from 0.75488\n",
      "210/210 [==============================] - 459s 2s/step - loss: 0.8430 - accuracy: 0.6631 - val_loss: 2.3437 - val_accuracy: 0.3958 - lr: 0.0015\n",
      "Epoch 14/45\n",
      "210/210 [==============================] - ETA: 0s - loss: 0.8676 - accuracy: 0.6530\n",
      "Epoch 14: val_loss did not improve from 0.75488\n",
      "210/210 [==============================] - 459s 2s/step - loss: 0.8676 - accuracy: 0.6530 - val_loss: 0.7986 - val_accuracy: 0.6333 - lr: 0.0015\n",
      "Epoch 15/45\n",
      "210/210 [==============================] - ETA: 0s - loss: 0.9520 - accuracy: 0.6232\n",
      "Epoch 15: val_loss did not improve from 0.75488\n",
      "210/210 [==============================] - 461s 2s/step - loss: 0.9520 - accuracy: 0.6232 - val_loss: 0.9500 - val_accuracy: 0.5958 - lr: 0.0015\n",
      "Epoch 16/45\n",
      "210/210 [==============================] - ETA: 0s - loss: 0.7478 - accuracy: 0.6940\n",
      "Epoch 16: val_loss did not improve from 0.75488\n",
      "210/210 [==============================] - 460s 2s/step - loss: 0.7478 - accuracy: 0.6940 - val_loss: 3.8083 - val_accuracy: 0.3250 - lr: 0.0015\n",
      "Epoch 17/45\n",
      "210/210 [==============================] - ETA: 0s - loss: 0.7677 - accuracy: 0.6792\n",
      "Epoch 17: ReduceLROnPlateau reducing learning rate to 0.0009000000078231095.\n",
      "\n",
      "Epoch 17: val_loss did not improve from 0.75488\n",
      "210/210 [==============================] - 461s 2s/step - loss: 0.7677 - accuracy: 0.6792 - val_loss: 2.5135 - val_accuracy: 0.4167 - lr: 0.0015\n",
      "Epoch 18/45\n",
      "210/210 [==============================] - ETA: 0s - loss: 0.7133 - accuracy: 0.7268\n",
      "Epoch 18: val_loss did not improve from 0.75488\n",
      "210/210 [==============================] - 462s 2s/step - loss: 0.7133 - accuracy: 0.7268 - val_loss: 2.7358 - val_accuracy: 0.3708 - lr: 9.0000e-04\n",
      "Epoch 19/45\n",
      "210/210 [==============================] - ETA: 0s - loss: 0.6592 - accuracy: 0.7357\n",
      "Epoch 19: val_loss did not improve from 0.75488\n",
      "210/210 [==============================] - 461s 2s/step - loss: 0.6592 - accuracy: 0.7357 - val_loss: 3.7041 - val_accuracy: 0.3250 - lr: 9.0000e-04\n",
      "Epoch 20/45\n",
      "210/210 [==============================] - ETA: 0s - loss: 0.6176 - accuracy: 0.7458\n",
      "Epoch 20: val_loss did not improve from 0.75488\n",
      "210/210 [==============================] - 461s 2s/step - loss: 0.6176 - accuracy: 0.7458 - val_loss: 1.3380 - val_accuracy: 0.5042 - lr: 9.0000e-04\n",
      "Epoch 21/45\n",
      "210/210 [==============================] - ETA: 0s - loss: 0.6018 - accuracy: 0.7583\n",
      "Epoch 21: val_loss did not improve from 0.75488\n",
      "210/210 [==============================] - 466s 2s/step - loss: 0.6018 - accuracy: 0.7583 - val_loss: 0.9321 - val_accuracy: 0.6417 - lr: 9.0000e-04\n",
      "Epoch 22/45\n",
      "210/210 [==============================] - ETA: 0s - loss: 0.5924 - accuracy: 0.7524\n",
      "Epoch 22: val_loss did not improve from 0.75488\n",
      "210/210 [==============================] - 459s 2s/step - loss: 0.5924 - accuracy: 0.7524 - val_loss: 1.1253 - val_accuracy: 0.5708 - lr: 9.0000e-04\n",
      "Epoch 23/45\n",
      "210/210 [==============================] - ETA: 0s - loss: 0.5646 - accuracy: 0.7768\n",
      "Epoch 23: val_loss did not improve from 0.75488\n",
      "210/210 [==============================] - 466s 2s/step - loss: 0.5646 - accuracy: 0.7768 - val_loss: 1.3624 - val_accuracy: 0.5208 - lr: 9.0000e-04\n",
      "Epoch 24/45\n",
      "210/210 [==============================] - ETA: 0s - loss: 0.6575 - accuracy: 0.7357\n",
      "Epoch 24: val_loss did not improve from 0.75488\n",
      "210/210 [==============================] - 460s 2s/step - loss: 0.6575 - accuracy: 0.7357 - val_loss: 1.0489 - val_accuracy: 0.5708 - lr: 9.0000e-04\n",
      "Epoch 25/45\n",
      "210/210 [==============================] - ETA: 0s - loss: 0.6116 - accuracy: 0.7458\n",
      "Epoch 25: val_loss improved from 0.75488 to 0.69903, saving model to ./checkpoints/V4.1.2\\FOLD-2\n",
      "INFO:tensorflow:Assets written to: ./checkpoints/V4.1.2\\FOLD-2\\assets\n"
     ]
    },
    {
     "name": "stderr",
     "output_type": "stream",
     "text": [
      "INFO:tensorflow:Assets written to: ./checkpoints/V4.1.2\\FOLD-2\\assets\n"
     ]
    },
    {
     "name": "stdout",
     "output_type": "stream",
     "text": [
      "210/210 [==============================] - 466s 2s/step - loss: 0.6116 - accuracy: 0.7458 - val_loss: 0.6990 - val_accuracy: 0.7542 - lr: 9.0000e-04\n",
      "Epoch 26/45\n",
      "210/210 [==============================] - ETA: 0s - loss: 0.6628 - accuracy: 0.7411\n",
      "Epoch 26: val_loss did not improve from 0.69903\n",
      "210/210 [==============================] - 458s 2s/step - loss: 0.6628 - accuracy: 0.7411 - val_loss: 1.5717 - val_accuracy: 0.5417 - lr: 9.0000e-04\n",
      "Epoch 27/45\n",
      "210/210 [==============================] - ETA: 0s - loss: 0.6059 - accuracy: 0.7649\n",
      "Epoch 27: val_loss improved from 0.69903 to 0.55414, saving model to ./checkpoints/V4.1.2\\FOLD-2\n",
      "INFO:tensorflow:Assets written to: ./checkpoints/V4.1.2\\FOLD-2\\assets\n"
     ]
    },
    {
     "name": "stderr",
     "output_type": "stream",
     "text": [
      "INFO:tensorflow:Assets written to: ./checkpoints/V4.1.2\\FOLD-2\\assets\n"
     ]
    },
    {
     "name": "stdout",
     "output_type": "stream",
     "text": [
      "210/210 [==============================] - 470s 2s/step - loss: 0.6059 - accuracy: 0.7649 - val_loss: 0.5541 - val_accuracy: 0.8083 - lr: 9.0000e-04\n",
      "Epoch 28/45\n",
      "210/210 [==============================] - ETA: 0s - loss: 0.5973 - accuracy: 0.7595\n",
      "Epoch 28: val_loss improved from 0.55414 to 0.53092, saving model to ./checkpoints/V4.1.2\\FOLD-2\n",
      "INFO:tensorflow:Assets written to: ./checkpoints/V4.1.2\\FOLD-2\\assets\n"
     ]
    },
    {
     "name": "stderr",
     "output_type": "stream",
     "text": [
      "INFO:tensorflow:Assets written to: ./checkpoints/V4.1.2\\FOLD-2\\assets\n"
     ]
    },
    {
     "name": "stdout",
     "output_type": "stream",
     "text": [
      "210/210 [==============================] - 471s 2s/step - loss: 0.5973 - accuracy: 0.7595 - val_loss: 0.5309 - val_accuracy: 0.8042 - lr: 9.0000e-04\n",
      "Epoch 29/45\n",
      "210/210 [==============================] - ETA: 0s - loss: 0.5280 - accuracy: 0.7911\n",
      "Epoch 29: val_loss improved from 0.53092 to 0.48139, saving model to ./checkpoints/V4.1.2\\FOLD-2\n",
      "INFO:tensorflow:Assets written to: ./checkpoints/V4.1.2\\FOLD-2\\assets\n"
     ]
    },
    {
     "name": "stderr",
     "output_type": "stream",
     "text": [
      "INFO:tensorflow:Assets written to: ./checkpoints/V4.1.2\\FOLD-2\\assets\n"
     ]
    },
    {
     "name": "stdout",
     "output_type": "stream",
     "text": [
      "210/210 [==============================] - 471s 2s/step - loss: 0.5280 - accuracy: 0.7911 - val_loss: 0.4814 - val_accuracy: 0.8000 - lr: 9.0000e-04\n",
      "Epoch 30/45\n",
      "210/210 [==============================] - ETA: 0s - loss: 0.5074 - accuracy: 0.8048\n",
      "Epoch 30: val_loss did not improve from 0.48139\n",
      "210/210 [==============================] - 466s 2s/step - loss: 0.5074 - accuracy: 0.8048 - val_loss: 1.1555 - val_accuracy: 0.6083 - lr: 9.0000e-04\n",
      "Epoch 31/45\n",
      "210/210 [==============================] - ETA: 0s - loss: 0.4834 - accuracy: 0.8060\n",
      "Epoch 31: val_loss did not improve from 0.48139\n",
      "210/210 [==============================] - 470s 2s/step - loss: 0.4834 - accuracy: 0.8060 - val_loss: 0.6417 - val_accuracy: 0.7792 - lr: 9.0000e-04\n",
      "Epoch 32/45\n",
      "210/210 [==============================] - ETA: 0s - loss: 0.6525 - accuracy: 0.7524\n",
      "Epoch 32: val_loss did not improve from 0.48139\n",
      "210/210 [==============================] - 462s 2s/step - loss: 0.6525 - accuracy: 0.7524 - val_loss: 1.7867 - val_accuracy: 0.4792 - lr: 9.0000e-04\n",
      "Epoch 33/45\n",
      "210/210 [==============================] - ETA: 0s - loss: 0.6443 - accuracy: 0.7613\n",
      "Epoch 33: val_loss did not improve from 0.48139\n",
      "210/210 [==============================] - 461s 2s/step - loss: 0.6443 - accuracy: 0.7613 - val_loss: 0.8889 - val_accuracy: 0.7625 - lr: 9.0000e-04\n",
      "Epoch 34/45\n",
      "210/210 [==============================] - ETA: 0s - loss: 0.6520 - accuracy: 0.7435\n",
      "Epoch 34: val_loss did not improve from 0.48139\n",
      "210/210 [==============================] - 460s 2s/step - loss: 0.6520 - accuracy: 0.7435 - val_loss: 0.9799 - val_accuracy: 0.5583 - lr: 9.0000e-04\n",
      "Epoch 35/45\n",
      "210/210 [==============================] - ETA: 0s - loss: 0.6433 - accuracy: 0.7470\n",
      "Epoch 35: val_loss did not improve from 0.48139\n",
      "210/210 [==============================] - 460s 2s/step - loss: 0.6433 - accuracy: 0.7470 - val_loss: 0.9463 - val_accuracy: 0.6583 - lr: 9.0000e-04\n",
      "Epoch 36/45\n",
      "210/210 [==============================] - ETA: 0s - loss: 0.4724 - accuracy: 0.7911\n",
      "Epoch 36: val_loss did not improve from 0.48139\n",
      "210/210 [==============================] - 460s 2s/step - loss: 0.4724 - accuracy: 0.7911 - val_loss: 0.5852 - val_accuracy: 0.7958 - lr: 9.0000e-04\n",
      "Epoch 37/45\n",
      "210/210 [==============================] - ETA: 0s - loss: 0.4723 - accuracy: 0.8143\n",
      "Epoch 37: val_loss did not improve from 0.48139\n",
      "210/210 [==============================] - 462s 2s/step - loss: 0.4723 - accuracy: 0.8143 - val_loss: 1.1448 - val_accuracy: 0.5000 - lr: 9.0000e-04\n",
      "Epoch 38/45\n",
      "210/210 [==============================] - ETA: 0s - loss: 0.4522 - accuracy: 0.8226\n",
      "Epoch 38: val_loss did not improve from 0.48139\n",
      "210/210 [==============================] - 458s 2s/step - loss: 0.4522 - accuracy: 0.8226 - val_loss: 1.2429 - val_accuracy: 0.5333 - lr: 9.0000e-04\n",
      "Epoch 39/45\n",
      "210/210 [==============================] - ETA: 0s - loss: 0.4473 - accuracy: 0.8190\n",
      "Epoch 39: ReduceLROnPlateau reducing learning rate to 0.0005399999907240271.\n",
      "\n",
      "Epoch 39: val_loss did not improve from 0.48139\n",
      "210/210 [==============================] - 459s 2s/step - loss: 0.4473 - accuracy: 0.8190 - val_loss: 0.6901 - val_accuracy: 0.8000 - lr: 9.0000e-04\n",
      "Epoch 40/45\n",
      "210/210 [==============================] - ETA: 0s - loss: 0.4026 - accuracy: 0.8339\n",
      "Epoch 40: val_loss did not improve from 0.48139\n",
      "210/210 [==============================] - 461s 2s/step - loss: 0.4026 - accuracy: 0.8339 - val_loss: 0.7507 - val_accuracy: 0.7625 - lr: 5.4000e-04\n",
      "Epoch 41/45\n",
      "210/210 [==============================] - ETA: 0s - loss: 0.4329 - accuracy: 0.8292\n",
      "Epoch 41: val_loss did not improve from 0.48139\n",
      "210/210 [==============================] - 458s 2s/step - loss: 0.4329 - accuracy: 0.8292 - val_loss: 0.4924 - val_accuracy: 0.8208 - lr: 5.4000e-04\n",
      "Epoch 42/45\n",
      "210/210 [==============================] - ETA: 0s - loss: 0.4022 - accuracy: 0.8369\n",
      "Epoch 42: val_loss improved from 0.48139 to 0.45536, saving model to ./checkpoints/V4.1.2\\FOLD-2\n",
      "INFO:tensorflow:Assets written to: ./checkpoints/V4.1.2\\FOLD-2\\assets\n"
     ]
    },
    {
     "name": "stderr",
     "output_type": "stream",
     "text": [
      "INFO:tensorflow:Assets written to: ./checkpoints/V4.1.2\\FOLD-2\\assets\n"
     ]
    },
    {
     "name": "stdout",
     "output_type": "stream",
     "text": [
      "210/210 [==============================] - 468s 2s/step - loss: 0.4022 - accuracy: 0.8369 - val_loss: 0.4554 - val_accuracy: 0.8333 - lr: 5.4000e-04\n",
      "Epoch 43/45\n",
      "210/210 [==============================] - ETA: 0s - loss: 0.3805 - accuracy: 0.8369\n",
      "Epoch 43: val_loss did not improve from 0.45536\n",
      "210/210 [==============================] - 460s 2s/step - loss: 0.3805 - accuracy: 0.8369 - val_loss: 0.7395 - val_accuracy: 0.7958 - lr: 5.4000e-04\n",
      "Epoch 44/45\n",
      "210/210 [==============================] - ETA: 0s - loss: 0.3762 - accuracy: 0.8482\n",
      "Epoch 44: val_loss did not improve from 0.45536\n",
      "210/210 [==============================] - 459s 2s/step - loss: 0.3762 - accuracy: 0.8482 - val_loss: 0.7929 - val_accuracy: 0.7458 - lr: 5.4000e-04\n",
      "Epoch 45/45\n",
      "210/210 [==============================] - ETA: 0s - loss: 0.3579 - accuracy: 0.8512\n",
      "Epoch 45: val_loss did not improve from 0.45536\n",
      "210/210 [==============================] - 460s 2s/step - loss: 0.3579 - accuracy: 0.8512 - val_loss: 0.8708 - val_accuracy: 0.6375 - lr: 5.4000e-04\n"
     ]
    },
    {
     "data": {
      "image/png": "[encoded data removed]",
      "text/plain": [
       "<Figure size 300x200 with 1 Axes>"
      ]
     },
     "metadata": {},
     "output_type": "display_data"
    },
    {
     "data": {
      "image/png": "[encoded data removed]",
      "text/plain": [
       "<Figure size 300x200 with 1 Axes>"
      ]
     },
     "metadata": {},
     "output_type": "display_data"
    },
    {
     "name": "stdout",
     "output_type": "stream",
     "text": [
      "Fold Training Time: 5 hour(s) and 47 mins\n",
      "Precision: 85.77777743339539  -  Recall: 80.41666746139526\n",
      "Accuracy: 83.33333134651184\n",
      "F1Score: Building 74.38015747070312 | Plant 91.60305786132812 | Road 93.10344696044922 | Vehicle 73.21428680419922\n",
      "[neptune] [info   ] Shutting down background jobs, please wait a moment...\n",
      "[neptune] [info   ] Done!\n",
      "[neptune] [info   ] Neptune initialized. Open in the app: offline/b2f39cb5-cbd8-4446-86f6-c414d8a458e9\n",
      "Epoch 1/45\n",
      "210/210 [==============================] - ETA: 0s - loss: 21.7044 - accuracy: 0.4637\n",
      "Epoch 1: val_loss improved from inf to 6.47562, saving model to ./checkpoints/V4.1.2\\FOLD-3\n",
      "INFO:tensorflow:Assets written to: ./checkpoints/V4.1.2\\FOLD-3\\assets\n"
     ]
    },
    {
     "name": "stderr",
     "output_type": "stream",
     "text": [
      "INFO:tensorflow:Assets written to: ./checkpoints/V4.1.2\\FOLD-3\\assets\n"
     ]
    },
    {
     "name": "stdout",
     "output_type": "stream",
     "text": [
      "210/210 [==============================] - 440s 2s/step - loss: 21.7044 - accuracy: 0.4637 - val_loss: 6.4756 - val_accuracy: 0.3792 - lr: 0.0015\n",
      "Epoch 2/45\n",
      "210/210 [==============================] - ETA: 0s - loss: 1.7693 - accuracy: 0.5720\n",
      "Epoch 2: val_loss improved from 6.47562 to 0.94820, saving model to ./checkpoints/V4.1.2\\FOLD-3\n",
      "INFO:tensorflow:Assets written to: ./checkpoints/V4.1.2\\FOLD-3\\assets\n"
     ]
    },
    {
     "name": "stderr",
     "output_type": "stream",
     "text": [
      "INFO:tensorflow:Assets written to: ./checkpoints/V4.1.2\\FOLD-3\\assets\n"
     ]
    },
    {
     "name": "stdout",
     "output_type": "stream",
     "text": [
      "210/210 [==============================] - 432s 2s/step - loss: 1.7693 - accuracy: 0.5720 - val_loss: 0.9482 - val_accuracy: 0.6000 - lr: 0.0015\n",
      "Epoch 3/45\n",
      "210/210 [==============================] - ETA: 0s - loss: 1.0784 - accuracy: 0.6220\n",
      "Epoch 3: val_loss did not improve from 0.94820\n",
      "210/210 [==============================] - 421s 2s/step - loss: 1.0784 - accuracy: 0.6220 - val_loss: 1.0500 - val_accuracy: 0.6458 - lr: 0.0015\n",
      "Epoch 4/45\n",
      "210/210 [==============================] - ETA: 0s - loss: 1.0374 - accuracy: 0.6137\n",
      "Epoch 4: val_loss improved from 0.94820 to 0.79690, saving model to ./checkpoints/V4.1.2\\FOLD-3\n",
      "INFO:tensorflow:Assets written to: ./checkpoints/V4.1.2\\FOLD-3\\assets\n"
     ]
    },
    {
     "name": "stderr",
     "output_type": "stream",
     "text": [
      "INFO:tensorflow:Assets written to: ./checkpoints/V4.1.2\\FOLD-3\\assets\n"
     ]
    },
    {
     "name": "stdout",
     "output_type": "stream",
     "text": [
      "210/210 [==============================] - 439s 2s/step - loss: 1.0374 - accuracy: 0.6137 - val_loss: 0.7969 - val_accuracy: 0.6375 - lr: 0.0015\n",
      "Epoch 5/45\n",
      "210/210 [==============================] - ETA: 0s - loss: 0.9192 - accuracy: 0.6357\n",
      "Epoch 5: val_loss did not improve from 0.79690\n",
      "210/210 [==============================] - 424s 2s/step - loss: 0.9192 - accuracy: 0.6357 - val_loss: 1.0527 - val_accuracy: 0.5875 - lr: 0.0015\n",
      "Epoch 6/45\n",
      "210/210 [==============================] - ETA: 0s - loss: 0.9035 - accuracy: 0.6208\n",
      "Epoch 6: val_loss did not improve from 0.79690\n",
      "210/210 [==============================] - 424s 2s/step - loss: 0.9035 - accuracy: 0.6208 - val_loss: 0.8039 - val_accuracy: 0.6375 - lr: 0.0015\n",
      "Epoch 7/45\n",
      "210/210 [==============================] - ETA: 0s - loss: 0.8882 - accuracy: 0.6423\n",
      "Epoch 7: val_loss did not improve from 0.79690\n",
      "210/210 [==============================] - 424s 2s/step - loss: 0.8882 - accuracy: 0.6423 - val_loss: 1.5190 - val_accuracy: 0.4708 - lr: 0.0015\n",
      "Epoch 8/45\n",
      "210/210 [==============================] - ETA: 0s - loss: 0.8558 - accuracy: 0.6649\n",
      "Epoch 8: val_loss improved from 0.79690 to 0.73853, saving model to ./checkpoints/V4.1.2\\FOLD-3\n",
      "INFO:tensorflow:Assets written to: ./checkpoints/V4.1.2\\FOLD-3\\assets\n"
     ]
    },
    {
     "name": "stderr",
     "output_type": "stream",
     "text": [
      "INFO:tensorflow:Assets written to: ./checkpoints/V4.1.2\\FOLD-3\\assets\n"
     ]
    },
    {
     "name": "stdout",
     "output_type": "stream",
     "text": [
      "210/210 [==============================] - 433s 2s/step - loss: 0.8558 - accuracy: 0.6649 - val_loss: 0.7385 - val_accuracy: 0.6542 - lr: 0.0015\n",
      "Epoch 9/45\n",
      "210/210 [==============================] - ETA: 0s - loss: 0.8767 - accuracy: 0.6310\n",
      "Epoch 9: val_loss did not improve from 0.73853\n",
      "210/210 [==============================] - 424s 2s/step - loss: 0.8767 - accuracy: 0.6310 - val_loss: 0.8357 - val_accuracy: 0.6083 - lr: 0.0015\n",
      "Epoch 10/45\n",
      "210/210 [==============================] - ETA: 0s - loss: 0.8688 - accuracy: 0.6530\n",
      "Epoch 10: val_loss did not improve from 0.73853\n",
      "210/210 [==============================] - 423s 2s/step - loss: 0.8688 - accuracy: 0.6530 - val_loss: 0.9892 - val_accuracy: 0.5458 - lr: 0.0015\n",
      "Epoch 11/45\n",
      "210/210 [==============================] - ETA: 0s - loss: 0.7831 - accuracy: 0.6470\n",
      "Epoch 11: val_loss improved from 0.73853 to 0.64870, saving model to ./checkpoints/V4.1.2\\FOLD-3\n",
      "INFO:tensorflow:Assets written to: ./checkpoints/V4.1.2\\FOLD-3\\assets\n"
     ]
    },
    {
     "name": "stderr",
     "output_type": "stream",
     "text": [
      "INFO:tensorflow:Assets written to: ./checkpoints/V4.1.2\\FOLD-3\\assets\n"
     ]
    },
    {
     "name": "stdout",
     "output_type": "stream",
     "text": [
      "210/210 [==============================] - 432s 2s/step - loss: 0.7831 - accuracy: 0.6470 - val_loss: 0.6487 - val_accuracy: 0.7625 - lr: 0.0015\n",
      "Epoch 12/45\n",
      "210/210 [==============================] - ETA: 0s - loss: 0.7735 - accuracy: 0.6655\n",
      "Epoch 12: val_loss did not improve from 0.64870\n",
      "210/210 [==============================] - 423s 2s/step - loss: 0.7735 - accuracy: 0.6655 - val_loss: 0.7710 - val_accuracy: 0.6792 - lr: 0.0015\n",
      "Epoch 13/45\n",
      "210/210 [==============================] - ETA: 0s - loss: 0.7946 - accuracy: 0.6679\n",
      "Epoch 13: val_loss did not improve from 0.64870\n",
      "210/210 [==============================] - 426s 2s/step - loss: 0.7946 - accuracy: 0.6679 - val_loss: 3.8099 - val_accuracy: 0.3500 - lr: 0.0015\n",
      "Epoch 14/45\n",
      "210/210 [==============================] - ETA: 0s - loss: 0.7560 - accuracy: 0.6673\n",
      "Epoch 14: val_loss did not improve from 0.64870\n",
      "210/210 [==============================] - 424s 2s/step - loss: 0.7560 - accuracy: 0.6673 - val_loss: 0.6692 - val_accuracy: 0.6917 - lr: 0.0015\n",
      "Epoch 15/45\n",
      "210/210 [==============================] - ETA: 0s - loss: 0.7013 - accuracy: 0.7018\n",
      "Epoch 15: val_loss did not improve from 0.64870\n",
      "210/210 [==============================] - 424s 2s/step - loss: 0.7013 - accuracy: 0.7018 - val_loss: 1.6962 - val_accuracy: 0.3875 - lr: 0.0015\n",
      "Epoch 16/45\n",
      "210/210 [==============================] - ETA: 0s - loss: 0.7291 - accuracy: 0.7060\n",
      "Epoch 16: val_loss did not improve from 0.64870\n",
      "210/210 [==============================] - 425s 2s/step - loss: 0.7291 - accuracy: 0.7060 - val_loss: 0.8216 - val_accuracy: 0.6750 - lr: 0.0015\n",
      "Epoch 17/45\n",
      "210/210 [==============================] - ETA: 0s - loss: 0.6855 - accuracy: 0.7089\n",
      "Epoch 17: val_loss improved from 0.64870 to 0.59188, saving model to ./checkpoints/V4.1.2\\FOLD-3\n",
      "INFO:tensorflow:Assets written to: ./checkpoints/V4.1.2\\FOLD-3\\assets\n"
     ]
    },
    {
     "name": "stderr",
     "output_type": "stream",
     "text": [
      "INFO:tensorflow:Assets written to: ./checkpoints/V4.1.2\\FOLD-3\\assets\n"
     ]
    },
    {
     "name": "stdout",
     "output_type": "stream",
     "text": [
      "210/210 [==============================] - 434s 2s/step - loss: 0.6855 - accuracy: 0.7089 - val_loss: 0.5919 - val_accuracy: 0.7875 - lr: 0.0015\n",
      "Epoch 18/45\n",
      "210/210 [==============================] - ETA: 0s - loss: 0.7310 - accuracy: 0.7185\n",
      "Epoch 18: val_loss did not improve from 0.59188\n",
      "210/210 [==============================] - 424s 2s/step - loss: 0.7310 - accuracy: 0.7185 - val_loss: 1.3380 - val_accuracy: 0.5375 - lr: 0.0015\n",
      "Epoch 19/45\n",
      "210/210 [==============================] - ETA: 0s - loss: 0.7553 - accuracy: 0.7161\n",
      "Epoch 19: val_loss did not improve from 0.59188\n",
      "210/210 [==============================] - 424s 2s/step - loss: 0.7553 - accuracy: 0.7161 - val_loss: 1.8001 - val_accuracy: 0.4000 - lr: 0.0015\n",
      "Epoch 20/45\n",
      "210/210 [==============================] - ETA: 0s - loss: 0.6910 - accuracy: 0.7292\n",
      "Epoch 20: val_loss improved from 0.59188 to 0.54315, saving model to ./checkpoints/V4.1.2\\FOLD-3\n",
      "INFO:tensorflow:Assets written to: ./checkpoints/V4.1.2\\FOLD-3\\assets\n"
     ]
    },
    {
     "name": "stderr",
     "output_type": "stream",
     "text": [
      "INFO:tensorflow:Assets written to: ./checkpoints/V4.1.2\\FOLD-3\\assets\n"
     ]
    },
    {
     "name": "stdout",
     "output_type": "stream",
     "text": [
      "210/210 [==============================] - 432s 2s/step - loss: 0.6910 - accuracy: 0.7292 - val_loss: 0.5432 - val_accuracy: 0.7917 - lr: 0.0015\n",
      "Epoch 21/45\n",
      "210/210 [==============================] - ETA: 0s - loss: 0.7367 - accuracy: 0.7107\n",
      "Epoch 21: val_loss did not improve from 0.54315\n",
      "210/210 [==============================] - 425s 2s/step - loss: 0.7367 - accuracy: 0.7107 - val_loss: 0.7367 - val_accuracy: 0.7542 - lr: 0.0015\n",
      "Epoch 22/45\n",
      "210/210 [==============================] - ETA: 0s - loss: 0.6654 - accuracy: 0.7286\n",
      "Epoch 22: val_loss did not improve from 0.54315\n",
      "210/210 [==============================] - 425s 2s/step - loss: 0.6654 - accuracy: 0.7286 - val_loss: 1.3059 - val_accuracy: 0.5250 - lr: 0.0015\n",
      "Epoch 23/45\n",
      "210/210 [==============================] - ETA: 0s - loss: 0.6483 - accuracy: 0.7399\n",
      "Epoch 23: val_loss did not improve from 0.54315\n",
      "210/210 [==============================] - 426s 2s/step - loss: 0.6483 - accuracy: 0.7399 - val_loss: 1.1196 - val_accuracy: 0.6208 - lr: 0.0015\n",
      "Epoch 24/45\n",
      "210/210 [==============================] - ETA: 0s - loss: 0.6106 - accuracy: 0.7589\n",
      "Epoch 24: val_loss did not improve from 0.54315\n",
      "210/210 [==============================] - 424s 2s/step - loss: 0.6106 - accuracy: 0.7589 - val_loss: 0.9170 - val_accuracy: 0.6375 - lr: 0.0015\n",
      "Epoch 25/45\n",
      "210/210 [==============================] - ETA: 0s - loss: 0.6052 - accuracy: 0.7625\n",
      "Epoch 25: val_loss did not improve from 0.54315\n",
      "210/210 [==============================] - 424s 2s/step - loss: 0.6052 - accuracy: 0.7625 - val_loss: 0.9143 - val_accuracy: 0.6417 - lr: 0.0015\n",
      "Epoch 26/45\n",
      "210/210 [==============================] - ETA: 0s - loss: 0.5501 - accuracy: 0.7899\n",
      "Epoch 26: val_loss did not improve from 0.54315\n",
      "210/210 [==============================] - 425s 2s/step - loss: 0.5501 - accuracy: 0.7899 - val_loss: 1.4989 - val_accuracy: 0.5750 - lr: 0.0015\n",
      "Epoch 27/45\n",
      "210/210 [==============================] - ETA: 0s - loss: 0.5677 - accuracy: 0.7839\n",
      "Epoch 27: val_loss did not improve from 0.54315\n",
      "210/210 [==============================] - 423s 2s/step - loss: 0.5677 - accuracy: 0.7839 - val_loss: 0.9056 - val_accuracy: 0.5917 - lr: 0.0015\n",
      "Epoch 28/45\n",
      "210/210 [==============================] - ETA: 0s - loss: 0.5641 - accuracy: 0.7827\n",
      "Epoch 28: val_loss did not improve from 0.54315\n",
      "210/210 [==============================] - 424s 2s/step - loss: 0.5641 - accuracy: 0.7827 - val_loss: 0.7892 - val_accuracy: 0.6625 - lr: 0.0015\n",
      "Epoch 29/45\n",
      "210/210 [==============================] - ETA: 0s - loss: 0.5179 - accuracy: 0.8000\n",
      "Epoch 29: val_loss did not improve from 0.54315\n",
      "210/210 [==============================] - 464s 2s/step - loss: 0.5179 - accuracy: 0.8000 - val_loss: 1.9721 - val_accuracy: 0.4083 - lr: 0.0015\n",
      "Epoch 30/45\n",
      "210/210 [==============================] - ETA: 0s - loss: 0.5873 - accuracy: 0.7732\n",
      "Epoch 30: ReduceLROnPlateau reducing learning rate to 0.0009000000078231095.\n",
      "\n",
      "Epoch 30: val_loss did not improve from 0.54315\n",
      "210/210 [==============================] - 487s 2s/step - loss: 0.5873 - accuracy: 0.7732 - val_loss: 0.6180 - val_accuracy: 0.7458 - lr: 0.0015\n",
      "Epoch 31/45\n",
      "210/210 [==============================] - ETA: 0s - loss: 0.4745 - accuracy: 0.8173\n",
      "Epoch 31: val_loss improved from 0.54315 to 0.51322, saving model to ./checkpoints/V4.1.2\\FOLD-3\n",
      "INFO:tensorflow:Assets written to: ./checkpoints/V4.1.2\\FOLD-3\\assets\n"
     ]
    },
    {
     "name": "stderr",
     "output_type": "stream",
     "text": [
      "INFO:tensorflow:Assets written to: ./checkpoints/V4.1.2\\FOLD-3\\assets\n"
     ]
    },
    {
     "name": "stdout",
     "output_type": "stream",
     "text": [
      "210/210 [==============================] - 487s 2s/step - loss: 0.4745 - accuracy: 0.8173 - val_loss: 0.5132 - val_accuracy: 0.8042 - lr: 9.0000e-04\n",
      "Epoch 32/45\n",
      "210/210 [==============================] - ETA: 0s - loss: 0.4500 - accuracy: 0.8375\n",
      "Epoch 32: val_loss improved from 0.51322 to 0.36918, saving model to ./checkpoints/V4.1.2\\FOLD-3\n",
      "INFO:tensorflow:Assets written to: ./checkpoints/V4.1.2\\FOLD-3\\assets\n"
     ]
    },
    {
     "name": "stderr",
     "output_type": "stream",
     "text": [
      "INFO:tensorflow:Assets written to: ./checkpoints/V4.1.2\\FOLD-3\\assets\n"
     ]
    },
    {
     "name": "stdout",
     "output_type": "stream",
     "text": [
      "210/210 [==============================] - 580s 3s/step - loss: 0.4500 - accuracy: 0.8375 - val_loss: 0.3692 - val_accuracy: 0.8667 - lr: 9.0000e-04\n",
      "Epoch 33/45\n",
      "210/210 [==============================] - ETA: 0s - loss: 0.4422 - accuracy: 0.8202\n",
      "Epoch 33: val_loss did not improve from 0.36918\n",
      "210/210 [==============================] - 600s 3s/step - loss: 0.4422 - accuracy: 0.8202 - val_loss: 0.5762 - val_accuracy: 0.8250 - lr: 9.0000e-04\n",
      "Epoch 34/45\n",
      "210/210 [==============================] - ETA: 0s - loss: 0.4661 - accuracy: 0.8232\n",
      "Epoch 34: val_loss did not improve from 0.36918\n",
      "210/210 [==============================] - 541s 3s/step - loss: 0.4661 - accuracy: 0.8232 - val_loss: 0.6175 - val_accuracy: 0.8083 - lr: 9.0000e-04\n",
      "Epoch 35/45\n",
      "210/210 [==============================] - ETA: 0s - loss: 0.4192 - accuracy: 0.8298\n",
      "Epoch 35: val_loss did not improve from 0.36918\n",
      "210/210 [==============================] - 568s 3s/step - loss: 0.4192 - accuracy: 0.8298 - val_loss: 0.3898 - val_accuracy: 0.8417 - lr: 9.0000e-04\n",
      "Epoch 36/45\n",
      "210/210 [==============================] - ETA: 0s - loss: 0.4882 - accuracy: 0.8161\n",
      "Epoch 36: val_loss did not improve from 0.36918\n",
      "210/210 [==============================] - 571s 3s/step - loss: 0.4882 - accuracy: 0.8161 - val_loss: 0.4155 - val_accuracy: 0.8542 - lr: 9.0000e-04\n",
      "Epoch 37/45\n",
      "210/210 [==============================] - ETA: 0s - loss: 0.4280 - accuracy: 0.8256\n",
      "Epoch 37: val_loss did not improve from 0.36918\n",
      "210/210 [==============================] - 505s 2s/step - loss: 0.4280 - accuracy: 0.8256 - val_loss: 0.9075 - val_accuracy: 0.6208 - lr: 9.0000e-04\n",
      "Epoch 38/45\n",
      "210/210 [==============================] - ETA: 0s - loss: 0.4264 - accuracy: 0.8262\n",
      "Epoch 38: val_loss did not improve from 0.36918\n",
      "210/210 [==============================] - 499s 2s/step - loss: 0.4264 - accuracy: 0.8262 - val_loss: 0.4094 - val_accuracy: 0.8125 - lr: 9.0000e-04\n",
      "Epoch 39/45\n",
      "210/210 [==============================] - ETA: 0s - loss: 0.4063 - accuracy: 0.8411\n",
      "Epoch 39: val_loss did not improve from 0.36918\n",
      "210/210 [==============================] - 540s 3s/step - loss: 0.4063 - accuracy: 0.8411 - val_loss: 0.6601 - val_accuracy: 0.7375 - lr: 9.0000e-04\n",
      "Epoch 40/45\n",
      "210/210 [==============================] - ETA: 0s - loss: 0.4100 - accuracy: 0.8423\n",
      "Epoch 40: val_loss did not improve from 0.36918\n",
      "210/210 [==============================] - 582s 3s/step - loss: 0.4100 - accuracy: 0.8423 - val_loss: 1.4229 - val_accuracy: 0.5083 - lr: 9.0000e-04\n",
      "Epoch 41/45\n",
      "210/210 [==============================] - ETA: 0s - loss: 0.4497 - accuracy: 0.8321\n",
      "Epoch 41: val_loss did not improve from 0.36918\n",
      "210/210 [==============================] - 584s 3s/step - loss: 0.4497 - accuracy: 0.8321 - val_loss: 1.0815 - val_accuracy: 0.5750 - lr: 9.0000e-04\n",
      "Epoch 42/45\n",
      "210/210 [==============================] - ETA: 0s - loss: 0.3863 - accuracy: 0.8560\n",
      "Epoch 42: ReduceLROnPlateau reducing learning rate to 0.0005399999907240271.\n",
      "\n",
      "Epoch 42: val_loss did not improve from 0.36918\n",
      "210/210 [==============================] - 571s 3s/step - loss: 0.3863 - accuracy: 0.8560 - val_loss: 0.4265 - val_accuracy: 0.8583 - lr: 9.0000e-04\n",
      "Epoch 43/45\n",
      "210/210 [==============================] - ETA: 0s - loss: 0.3556 - accuracy: 0.8631\n",
      "Epoch 43: val_loss did not improve from 0.36918\n",
      "210/210 [==============================] - 553s 3s/step - loss: 0.3556 - accuracy: 0.8631 - val_loss: 0.4583 - val_accuracy: 0.8000 - lr: 5.4000e-04\n",
      "Epoch 44/45\n",
      "210/210 [==============================] - ETA: 0s - loss: 0.3319 - accuracy: 0.8798\n",
      "Epoch 44: val_loss did not improve from 0.36918\n",
      "210/210 [==============================] - 452s 2s/step - loss: 0.3319 - accuracy: 0.8798 - val_loss: 0.5095 - val_accuracy: 0.8000 - lr: 5.4000e-04\n",
      "Epoch 45/45\n",
      "210/210 [==============================] - ETA: 0s - loss: 0.3517 - accuracy: 0.8726\n",
      "Epoch 45: val_loss did not improve from 0.36918\n",
      "210/210 [==============================] - 457s 2s/step - loss: 0.3517 - accuracy: 0.8726 - val_loss: 0.3744 - val_accuracy: 0.8625 - lr: 5.4000e-04\n"
     ]
    },
    {
     "data": {
      "image/png": "[encoded data removed]",
      "text/plain": [
       "<Figure size 300x200 with 1 Axes>"
      ]
     },
     "metadata": {},
     "output_type": "display_data"
    },
    {
     "data": {
      "image/png": "[encoded data removed]",
      "text/plain": [
       "<Figure size 300x200 with 1 Axes>"
      ]
     },
     "metadata": {},
     "output_type": "display_data"
    },
    {
     "name": "stdout",
     "output_type": "stream",
     "text": [
      "Fold Training Time: 5 hour(s) and 50 mins\n",
      "Precision: 90.32257795333862  -  Recall: 81.66666626930237\n",
      "Accuracy: 86.66666746139526\n",
      "F1Score: Building 77.19297790527344 | Plant 94.30894470214844 | Road 92.91338348388672 | Vehicle 81.03447723388672\n",
      "[neptune] [info   ] Shutting down background jobs, please wait a moment...\n",
      "[neptune] [info   ] Done!\n",
      "[neptune] [info   ] Neptune initialized. Open in the app: offline/77b94067-f441-4c4b-8258-df4cb97be6ed\n",
      "Epoch 1/45\n",
      "210/210 [==============================] - ETA: 0s - loss: 22.9895 - accuracy: 0.4690\n",
      "Epoch 1: val_loss improved from inf to 2.30331, saving model to ./checkpoints/V4.1.2\\FOLD-4\n",
      "INFO:tensorflow:Assets written to: ./checkpoints/V4.1.2\\FOLD-4\\assets\n"
     ]
    },
    {
     "name": "stderr",
     "output_type": "stream",
     "text": [
      "INFO:tensorflow:Assets written to: ./checkpoints/V4.1.2\\FOLD-4\\assets\n"
     ]
    },
    {
     "name": "stdout",
     "output_type": "stream",
     "text": [
      "210/210 [==============================] - 466s 2s/step - loss: 22.9895 - accuracy: 0.4690 - val_loss: 2.3033 - val_accuracy: 0.4292 - lr: 0.0015\n",
      "Epoch 2/45\n",
      "210/210 [==============================] - ETA: 0s - loss: 1.5265 - accuracy: 0.5792\n",
      "Epoch 2: val_loss improved from 2.30331 to 1.54033, saving model to ./checkpoints/V4.1.2\\FOLD-4\n",
      "INFO:tensorflow:Assets written to: ./checkpoints/V4.1.2\\FOLD-4\\assets\n"
     ]
    },
    {
     "name": "stderr",
     "output_type": "stream",
     "text": [
      "INFO:tensorflow:Assets written to: ./checkpoints/V4.1.2\\FOLD-4\\assets\n"
     ]
    },
    {
     "name": "stdout",
     "output_type": "stream",
     "text": [
      "210/210 [==============================] - 444s 2s/step - loss: 1.5265 - accuracy: 0.5792 - val_loss: 1.5403 - val_accuracy: 0.4167 - lr: 0.0015\n",
      "Epoch 3/45\n",
      "210/210 [==============================] - ETA: 0s - loss: 0.9689 - accuracy: 0.6298\n",
      "Epoch 3: val_loss improved from 1.54033 to 0.92536, saving model to ./checkpoints/V4.1.2\\FOLD-4\n",
      "INFO:tensorflow:Assets written to: ./checkpoints/V4.1.2\\FOLD-4\\assets\n"
     ]
    },
    {
     "name": "stderr",
     "output_type": "stream",
     "text": [
      "INFO:tensorflow:Assets written to: ./checkpoints/V4.1.2\\FOLD-4\\assets\n"
     ]
    },
    {
     "name": "stdout",
     "output_type": "stream",
     "text": [
      "210/210 [==============================] - 445s 2s/step - loss: 0.9689 - accuracy: 0.6298 - val_loss: 0.9254 - val_accuracy: 0.6542 - lr: 0.0015\n",
      "Epoch 4/45\n",
      "210/210 [==============================] - ETA: 0s - loss: 0.8933 - accuracy: 0.6226\n",
      "Epoch 4: val_loss did not improve from 0.92536\n",
      "210/210 [==============================] - 435s 2s/step - loss: 0.8933 - accuracy: 0.6226 - val_loss: 1.1184 - val_accuracy: 0.7000 - lr: 0.0015\n",
      "Epoch 5/45\n",
      "210/210 [==============================] - ETA: 0s - loss: 0.8752 - accuracy: 0.6345\n",
      "Epoch 5: val_loss did not improve from 0.92536\n",
      "210/210 [==============================] - 435s 2s/step - loss: 0.8752 - accuracy: 0.6345 - val_loss: 1.8058 - val_accuracy: 0.4667 - lr: 0.0015\n",
      "Epoch 6/45\n",
      "210/210 [==============================] - ETA: 0s - loss: 0.8225 - accuracy: 0.6619\n",
      "Epoch 6: val_loss did not improve from 0.92536\n",
      "210/210 [==============================] - 433s 2s/step - loss: 0.8225 - accuracy: 0.6619 - val_loss: 3.4989 - val_accuracy: 0.3833 - lr: 0.0015\n",
      "Epoch 7/45\n",
      "210/210 [==============================] - ETA: 0s - loss: 0.8582 - accuracy: 0.6595\n",
      "Epoch 7: val_loss did not improve from 0.92536\n",
      "210/210 [==============================] - 436s 2s/step - loss: 0.8582 - accuracy: 0.6595 - val_loss: 1.8747 - val_accuracy: 0.6333 - lr: 0.0015\n",
      "Epoch 8/45\n",
      "210/210 [==============================] - ETA: 0s - loss: 0.7895 - accuracy: 0.6726\n",
      "Epoch 8: val_loss did not improve from 0.92536\n",
      "210/210 [==============================] - 463s 2s/step - loss: 0.7895 - accuracy: 0.6726 - val_loss: 0.9943 - val_accuracy: 0.6792 - lr: 0.0015\n",
      "Epoch 9/45\n",
      "210/210 [==============================] - ETA: 0s - loss: 0.8052 - accuracy: 0.6899\n",
      "Epoch 9: val_loss improved from 0.92536 to 0.72975, saving model to ./checkpoints/V4.1.2\\FOLD-4\n",
      "INFO:tensorflow:Assets written to: ./checkpoints/V4.1.2\\FOLD-4\\assets\n"
     ]
    },
    {
     "name": "stderr",
     "output_type": "stream",
     "text": [
      "INFO:tensorflow:Assets written to: ./checkpoints/V4.1.2\\FOLD-4\\assets\n"
     ]
    },
    {
     "name": "stdout",
     "output_type": "stream",
     "text": [
      "210/210 [==============================] - 538s 3s/step - loss: 0.8052 - accuracy: 0.6899 - val_loss: 0.7297 - val_accuracy: 0.7583 - lr: 0.0015\n",
      "Epoch 10/45\n",
      "210/210 [==============================] - ETA: 0s - loss: 0.8101 - accuracy: 0.6649\n",
      "Epoch 10: val_loss did not improve from 0.72975\n",
      "210/210 [==============================] - 511s 2s/step - loss: 0.8101 - accuracy: 0.6649 - val_loss: 1.0996 - val_accuracy: 0.5750 - lr: 0.0015\n",
      "Epoch 11/45\n",
      "210/210 [==============================] - ETA: 0s - loss: 0.7567 - accuracy: 0.6935\n",
      "Epoch 11: val_loss did not improve from 0.72975\n",
      "210/210 [==============================] - 505s 2s/step - loss: 0.7567 - accuracy: 0.6935 - val_loss: 0.8235 - val_accuracy: 0.6792 - lr: 0.0015\n",
      "Epoch 12/45\n",
      "210/210 [==============================] - ETA: 0s - loss: 0.7481 - accuracy: 0.6970\n",
      "Epoch 12: val_loss did not improve from 0.72975\n",
      "210/210 [==============================] - 484s 2s/step - loss: 0.7481 - accuracy: 0.6970 - val_loss: 1.2366 - val_accuracy: 0.6250 - lr: 0.0015\n",
      "Epoch 13/45\n",
      "210/210 [==============================] - ETA: 0s - loss: 0.8067 - accuracy: 0.6613\n",
      "Epoch 13: val_loss did not improve from 0.72975\n",
      "210/210 [==============================] - 558s 3s/step - loss: 0.8067 - accuracy: 0.6613 - val_loss: 0.9140 - val_accuracy: 0.7792 - lr: 0.0015\n",
      "Epoch 14/45\n",
      "210/210 [==============================] - ETA: 0s - loss: 0.8326 - accuracy: 0.6946\n",
      "Epoch 14: val_loss did not improve from 0.72975\n",
      "210/210 [==============================] - 551s 3s/step - loss: 0.8326 - accuracy: 0.6946 - val_loss: 0.9368 - val_accuracy: 0.5833 - lr: 0.0015\n",
      "Epoch 15/45\n",
      "210/210 [==============================] - ETA: 0s - loss: 0.7509 - accuracy: 0.6940\n",
      "Epoch 15: val_loss did not improve from 0.72975\n",
      "210/210 [==============================] - 509s 2s/step - loss: 0.7509 - accuracy: 0.6940 - val_loss: 1.8693 - val_accuracy: 0.6042 - lr: 0.0015\n",
      "Epoch 16/45\n",
      "210/210 [==============================] - ETA: 0s - loss: 0.7472 - accuracy: 0.7060\n",
      "Epoch 16: val_loss did not improve from 0.72975\n",
      "210/210 [==============================] - 410s 2s/step - loss: 0.7472 - accuracy: 0.7060 - val_loss: 1.3647 - val_accuracy: 0.5750 - lr: 0.0015\n",
      "Epoch 17/45\n",
      "210/210 [==============================] - ETA: 0s - loss: 0.7100 - accuracy: 0.7048\n",
      "Epoch 17: val_loss did not improve from 0.72975\n",
      "210/210 [==============================] - 411s 2s/step - loss: 0.7100 - accuracy: 0.7048 - val_loss: 0.9251 - val_accuracy: 0.6208 - lr: 0.0015\n",
      "Epoch 18/45\n",
      "210/210 [==============================] - ETA: 0s - loss: 0.6240 - accuracy: 0.7417\n",
      "Epoch 18: val_loss did not improve from 0.72975\n",
      "210/210 [==============================] - 409s 2s/step - loss: 0.6240 - accuracy: 0.7417 - val_loss: 0.9057 - val_accuracy: 0.6875 - lr: 0.0015\n",
      "Epoch 19/45\n",
      "210/210 [==============================] - ETA: 0s - loss: 0.6336 - accuracy: 0.7232\n",
      "Epoch 19: ReduceLROnPlateau reducing learning rate to 0.0009000000078231095.\n",
      "\n",
      "Epoch 19: val_loss did not improve from 0.72975\n",
      "210/210 [==============================] - 418s 2s/step - loss: 0.6336 - accuracy: 0.7232 - val_loss: 2.3013 - val_accuracy: 0.4208 - lr: 0.0015\n",
      "Epoch 20/45\n",
      "210/210 [==============================] - ETA: 0s - loss: 0.6128 - accuracy: 0.7494\n",
      "Epoch 20: val_loss did not improve from 0.72975\n",
      "210/210 [==============================] - 425s 2s/step - loss: 0.6128 - accuracy: 0.7494 - val_loss: 0.9723 - val_accuracy: 0.6625 - lr: 9.0000e-04\n",
      "Epoch 21/45\n",
      "210/210 [==============================] - ETA: 0s - loss: 0.5796 - accuracy: 0.7583\n",
      "Epoch 21: val_loss improved from 0.72975 to 0.58532, saving model to ./checkpoints/V4.1.2\\FOLD-4\n",
      "INFO:tensorflow:Assets written to: ./checkpoints/V4.1.2\\FOLD-4\\assets\n"
     ]
    },
    {
     "name": "stderr",
     "output_type": "stream",
     "text": [
      "INFO:tensorflow:Assets written to: ./checkpoints/V4.1.2\\FOLD-4\\assets\n"
     ]
    },
    {
     "name": "stdout",
     "output_type": "stream",
     "text": [
      "210/210 [==============================] - 421s 2s/step - loss: 0.5796 - accuracy: 0.7583 - val_loss: 0.5853 - val_accuracy: 0.7542 - lr: 9.0000e-04\n",
      "Epoch 22/45\n",
      "210/210 [==============================] - ETA: 0s - loss: 0.5933 - accuracy: 0.7667\n",
      "Epoch 22: val_loss did not improve from 0.58532\n",
      "210/210 [==============================] - 408s 2s/step - loss: 0.5933 - accuracy: 0.7667 - val_loss: 1.2490 - val_accuracy: 0.6083 - lr: 9.0000e-04\n",
      "Epoch 23/45\n",
      "210/210 [==============================] - ETA: 0s - loss: 0.5427 - accuracy: 0.7756\n",
      "Epoch 23: val_loss improved from 0.58532 to 0.52909, saving model to ./checkpoints/V4.1.2\\FOLD-4\n",
      "INFO:tensorflow:Assets written to: ./checkpoints/V4.1.2\\FOLD-4\\assets\n"
     ]
    },
    {
     "name": "stderr",
     "output_type": "stream",
     "text": [
      "INFO:tensorflow:Assets written to: ./checkpoints/V4.1.2\\FOLD-4\\assets\n"
     ]
    },
    {
     "name": "stdout",
     "output_type": "stream",
     "text": [
      "210/210 [==============================] - 417s 2s/step - loss: 0.5427 - accuracy: 0.7756 - val_loss: 0.5291 - val_accuracy: 0.8167 - lr: 9.0000e-04\n",
      "Epoch 24/45\n",
      "210/210 [==============================] - ETA: 0s - loss: 0.6163 - accuracy: 0.7506\n",
      "Epoch 24: val_loss did not improve from 0.52909\n",
      "210/210 [==============================] - 408s 2s/step - loss: 0.6163 - accuracy: 0.7506 - val_loss: 1.0035 - val_accuracy: 0.6542 - lr: 9.0000e-04\n",
      "Epoch 25/45\n",
      "210/210 [==============================] - ETA: 0s - loss: 0.5798 - accuracy: 0.7554\n",
      "Epoch 25: val_loss did not improve from 0.52909\n",
      "210/210 [==============================] - 410s 2s/step - loss: 0.5798 - accuracy: 0.7554 - val_loss: 0.7390 - val_accuracy: 0.7000 - lr: 9.0000e-04\n",
      "Epoch 26/45\n",
      "210/210 [==============================] - ETA: 0s - loss: 0.5356 - accuracy: 0.7768\n",
      "Epoch 26: val_loss did not improve from 0.52909\n",
      "210/210 [==============================] - 409s 2s/step - loss: 0.5356 - accuracy: 0.7768 - val_loss: 1.3243 - val_accuracy: 0.5042 - lr: 9.0000e-04\n",
      "Epoch 27/45\n",
      "210/210 [==============================] - ETA: 0s - loss: 0.5199 - accuracy: 0.7899\n",
      "Epoch 27: val_loss did not improve from 0.52909\n",
      "210/210 [==============================] - 408s 2s/step - loss: 0.5199 - accuracy: 0.7899 - val_loss: 0.5668 - val_accuracy: 0.7917 - lr: 9.0000e-04\n",
      "Epoch 28/45\n",
      "210/210 [==============================] - ETA: 0s - loss: 0.5760 - accuracy: 0.7726\n",
      "Epoch 28: val_loss improved from 0.52909 to 0.38258, saving model to ./checkpoints/V4.1.2\\FOLD-4\n",
      "INFO:tensorflow:Assets written to: ./checkpoints/V4.1.2\\FOLD-4\\assets\n"
     ]
    },
    {
     "name": "stderr",
     "output_type": "stream",
     "text": [
      "INFO:tensorflow:Assets written to: ./checkpoints/V4.1.2\\FOLD-4\\assets\n"
     ]
    },
    {
     "name": "stdout",
     "output_type": "stream",
     "text": [
      "210/210 [==============================] - 415s 2s/step - loss: 0.5760 - accuracy: 0.7726 - val_loss: 0.3826 - val_accuracy: 0.8750 - lr: 9.0000e-04\n",
      "Epoch 29/45\n",
      "210/210 [==============================] - ETA: 0s - loss: 0.5307 - accuracy: 0.7917\n",
      "Epoch 29: val_loss improved from 0.38258 to 0.34883, saving model to ./checkpoints/V4.1.2\\FOLD-4\n",
      "INFO:tensorflow:Assets written to: ./checkpoints/V4.1.2\\FOLD-4\\assets\n"
     ]
    },
    {
     "name": "stderr",
     "output_type": "stream",
     "text": [
      "INFO:tensorflow:Assets written to: ./checkpoints/V4.1.2\\FOLD-4\\assets\n"
     ]
    },
    {
     "name": "stdout",
     "output_type": "stream",
     "text": [
      "210/210 [==============================] - 425s 2s/step - loss: 0.5307 - accuracy: 0.7917 - val_loss: 0.3488 - val_accuracy: 0.8500 - lr: 9.0000e-04\n",
      "Epoch 30/45\n",
      "210/210 [==============================] - ETA: 0s - loss: 0.5168 - accuracy: 0.7929\n",
      "Epoch 30: val_loss did not improve from 0.34883\n",
      "210/210 [==============================] - 409s 2s/step - loss: 0.5168 - accuracy: 0.7929 - val_loss: 1.0977 - val_accuracy: 0.5917 - lr: 9.0000e-04\n",
      "Epoch 31/45\n",
      "210/210 [==============================] - ETA: 0s - loss: 0.4910 - accuracy: 0.8018\n",
      "Epoch 31: val_loss did not improve from 0.34883\n",
      "210/210 [==============================] - 409s 2s/step - loss: 0.4910 - accuracy: 0.8018 - val_loss: 0.5223 - val_accuracy: 0.8208 - lr: 9.0000e-04\n",
      "Epoch 32/45\n",
      "210/210 [==============================] - ETA: 0s - loss: 0.4720 - accuracy: 0.8173\n",
      "Epoch 32: val_loss did not improve from 0.34883\n",
      "210/210 [==============================] - 408s 2s/step - loss: 0.4720 - accuracy: 0.8173 - val_loss: 0.5187 - val_accuracy: 0.8417 - lr: 9.0000e-04\n",
      "Epoch 33/45\n",
      "210/210 [==============================] - ETA: 0s - loss: 0.5176 - accuracy: 0.7899\n",
      "Epoch 33: val_loss did not improve from 0.34883\n",
      "210/210 [==============================] - 415s 2s/step - loss: 0.5176 - accuracy: 0.7899 - val_loss: 0.6058 - val_accuracy: 0.7833 - lr: 9.0000e-04\n",
      "Epoch 34/45\n",
      "210/210 [==============================] - ETA: 0s - loss: 0.4827 - accuracy: 0.8161\n",
      "Epoch 34: val_loss did not improve from 0.34883\n",
      "210/210 [==============================] - 412s 2s/step - loss: 0.4827 - accuracy: 0.8161 - val_loss: 0.7754 - val_accuracy: 0.7083 - lr: 9.0000e-04\n",
      "Epoch 35/45\n",
      "210/210 [==============================] - ETA: 0s - loss: 0.5004 - accuracy: 0.7976\n",
      "Epoch 35: val_loss did not improve from 0.34883\n",
      "210/210 [==============================] - 407s 2s/step - loss: 0.5004 - accuracy: 0.7976 - val_loss: 0.4170 - val_accuracy: 0.8583 - lr: 9.0000e-04\n",
      "Epoch 36/45\n",
      "210/210 [==============================] - ETA: 0s - loss: 0.4732 - accuracy: 0.8131\n",
      "Epoch 36: val_loss did not improve from 0.34883\n",
      "210/210 [==============================] - 418s 2s/step - loss: 0.4732 - accuracy: 0.8131 - val_loss: 1.5777 - val_accuracy: 0.4833 - lr: 9.0000e-04\n",
      "Epoch 37/45\n",
      "210/210 [==============================] - ETA: 0s - loss: 0.4703 - accuracy: 0.8179\n",
      "Epoch 37: val_loss did not improve from 0.34883\n",
      "210/210 [==============================] - 414s 2s/step - loss: 0.4703 - accuracy: 0.8179 - val_loss: 1.2998 - val_accuracy: 0.5875 - lr: 9.0000e-04\n",
      "Epoch 38/45\n",
      "210/210 [==============================] - ETA: 0s - loss: 0.4952 - accuracy: 0.8089\n",
      "Epoch 38: val_loss did not improve from 0.34883\n",
      "210/210 [==============================] - 410s 2s/step - loss: 0.4952 - accuracy: 0.8089 - val_loss: 0.5978 - val_accuracy: 0.8000 - lr: 9.0000e-04\n",
      "Epoch 39/45\n",
      "210/210 [==============================] - ETA: 0s - loss: 0.4336 - accuracy: 0.8304\n",
      "Epoch 39: ReduceLROnPlateau reducing learning rate to 0.0005399999907240271.\n",
      "\n",
      "Epoch 39: val_loss did not improve from 0.34883\n",
      "210/210 [==============================] - 408s 2s/step - loss: 0.4336 - accuracy: 0.8304 - val_loss: 1.1027 - val_accuracy: 0.5208 - lr: 9.0000e-04\n",
      "Epoch 40/45\n",
      "210/210 [==============================] - ETA: 0s - loss: 0.4074 - accuracy: 0.8417\n",
      "Epoch 40: val_loss did not improve from 0.34883\n",
      "210/210 [==============================] - 408s 2s/step - loss: 0.4074 - accuracy: 0.8417 - val_loss: 0.7967 - val_accuracy: 0.6792 - lr: 5.4000e-04\n",
      "Epoch 41/45\n",
      "210/210 [==============================] - ETA: 0s - loss: 0.3818 - accuracy: 0.8500\n",
      "Epoch 41: val_loss did not improve from 0.34883\n",
      "210/210 [==============================] - 409s 2s/step - loss: 0.3818 - accuracy: 0.8500 - val_loss: 0.6313 - val_accuracy: 0.7708 - lr: 5.4000e-04\n",
      "Epoch 42/45\n",
      "210/210 [==============================] - ETA: 0s - loss: 0.3994 - accuracy: 0.8417\n",
      "Epoch 42: val_loss did not improve from 0.34883\n",
      "210/210 [==============================] - 408s 2s/step - loss: 0.3994 - accuracy: 0.8417 - val_loss: 0.5740 - val_accuracy: 0.7583 - lr: 5.4000e-04\n",
      "Epoch 43/45\n",
      "210/210 [==============================] - ETA: 0s - loss: 0.4061 - accuracy: 0.8494\n",
      "Epoch 43: val_loss did not improve from 0.34883\n",
      "210/210 [==============================] - 410s 2s/step - loss: 0.4061 - accuracy: 0.8494 - val_loss: 1.6788 - val_accuracy: 0.4750 - lr: 5.4000e-04\n",
      "Epoch 44/45\n",
      "210/210 [==============================] - ETA: 0s - loss: 0.3906 - accuracy: 0.8506\n",
      "Epoch 44: val_loss did not improve from 0.34883\n",
      "210/210 [==============================] - 410s 2s/step - loss: 0.3906 - accuracy: 0.8506 - val_loss: 0.4483 - val_accuracy: 0.8125 - lr: 5.4000e-04\n",
      "Epoch 45/45\n",
      "210/210 [==============================] - ETA: 0s - loss: 0.3851 - accuracy: 0.8542\n",
      "Epoch 45: val_loss did not improve from 0.34883\n",
      "210/210 [==============================] - 409s 2s/step - loss: 0.3851 - accuracy: 0.8542 - val_loss: 0.5550 - val_accuracy: 0.8083 - lr: 5.4000e-04\n"
     ]
    },
    {
     "data": {
      "image/png": "[encoded data removed]",
      "text/plain": [
       "<Figure size 300x200 with 1 Axes>"
      ]
     },
     "metadata": {},
     "output_type": "display_data"
    },
    {
     "data": {
      "image/png": "[encoded data removed]",
      "text/plain": [
       "<Figure size 300x200 with 1 Axes>"
      ]
     },
     "metadata": {},
     "output_type": "display_data"
    },
    {
     "name": "stdout",
     "output_type": "stream",
     "text": [
      "Fold Training Time: 5 hour(s) and 26 mins\n",
      "Precision: 88.64628672599792  -  Recall: 84.58333611488342\n",
      "Accuracy: 85.00000238418579\n",
      "F1Score: Building 73.17073059082031 | Plant 90.43478393554688 | Road 94.91525268554688 | Vehicle 82.25807189941406\n",
      "[neptune] [info   ] Shutting down background jobs, please wait a moment...\n",
      "[neptune] [info   ] Done!\n",
      "[neptune] [info   ] Neptune initialized. Open in the app: offline/4f5bce7c-9b95-4992-b85a-1397fef03f33\n",
      "Epoch 1/45\n",
      "210/210 [==============================] - ETA: 0s - loss: 25.3028 - accuracy: 0.4500\n",
      "Epoch 1: val_loss improved from inf to 2.84351, saving model to ./checkpoints/V4.1.2\\FOLD-5\n",
      "INFO:tensorflow:Assets written to: ./checkpoints/V4.1.2\\FOLD-5\\assets\n"
     ]
    },
    {
     "name": "stderr",
     "output_type": "stream",
     "text": [
      "INFO:tensorflow:Assets written to: ./checkpoints/V4.1.2\\FOLD-5\\assets\n"
     ]
    },
    {
     "name": "stdout",
     "output_type": "stream",
     "text": [
      "210/210 [==============================] - 466s 2s/step - loss: 25.3028 - accuracy: 0.4500 - val_loss: 2.8435 - val_accuracy: 0.4333 - lr: 0.0015\n",
      "Epoch 2/45\n",
      "210/210 [==============================] - ETA: 0s - loss: 1.3854 - accuracy: 0.5143\n",
      "Epoch 2: val_loss improved from 2.84351 to 0.82449, saving model to ./checkpoints/V4.1.2\\FOLD-5\n",
      "INFO:tensorflow:Assets written to: ./checkpoints/V4.1.2\\FOLD-5\\assets\n"
     ]
    },
    {
     "name": "stderr",
     "output_type": "stream",
     "text": [
      "INFO:tensorflow:Assets written to: ./checkpoints/V4.1.2\\FOLD-5\\assets\n"
     ]
    },
    {
     "name": "stdout",
     "output_type": "stream",
     "text": [
      "210/210 [==============================] - 460s 2s/step - loss: 1.3854 - accuracy: 0.5143 - val_loss: 0.8245 - val_accuracy: 0.5875 - lr: 0.0015\n",
      "Epoch 3/45\n",
      "210/210 [==============================] - ETA: 0s - loss: 1.0130 - accuracy: 0.5589\n",
      "Epoch 3: val_loss improved from 0.82449 to 0.78230, saving model to ./checkpoints/V4.1.2\\FOLD-5\n",
      "INFO:tensorflow:Assets written to: ./checkpoints/V4.1.2\\FOLD-5\\assets\n"
     ]
    },
    {
     "name": "stderr",
     "output_type": "stream",
     "text": [
      "INFO:tensorflow:Assets written to: ./checkpoints/V4.1.2\\FOLD-5\\assets\n"
     ]
    },
    {
     "name": "stdout",
     "output_type": "stream",
     "text": [
      "210/210 [==============================] - 465s 2s/step - loss: 1.0130 - accuracy: 0.5589 - val_loss: 0.7823 - val_accuracy: 0.7125 - lr: 0.0015\n",
      "Epoch 4/45\n",
      "210/210 [==============================] - ETA: 0s - loss: 1.0168 - accuracy: 0.5923\n",
      "Epoch 4: val_loss improved from 0.78230 to 0.69968, saving model to ./checkpoints/V4.1.2\\FOLD-5\n",
      "INFO:tensorflow:Assets written to: ./checkpoints/V4.1.2\\FOLD-5\\assets\n"
     ]
    },
    {
     "name": "stderr",
     "output_type": "stream",
     "text": [
      "INFO:tensorflow:Assets written to: ./checkpoints/V4.1.2\\FOLD-5\\assets\n"
     ]
    },
    {
     "name": "stdout",
     "output_type": "stream",
     "text": [
      "210/210 [==============================] - 453s 2s/step - loss: 1.0168 - accuracy: 0.5923 - val_loss: 0.6997 - val_accuracy: 0.6792 - lr: 0.0015\n",
      "Epoch 5/45\n",
      "210/210 [==============================] - ETA: 0s - loss: 0.9599 - accuracy: 0.6042\n",
      "Epoch 5: val_loss did not improve from 0.69968\n",
      "210/210 [==============================] - 441s 2s/step - loss: 0.9599 - accuracy: 0.6042 - val_loss: 0.7360 - val_accuracy: 0.7375 - lr: 0.0015\n",
      "Epoch 6/45\n",
      "210/210 [==============================] - ETA: 0s - loss: 1.0292 - accuracy: 0.5571\n",
      "Epoch 6: val_loss did not improve from 0.69968\n",
      "210/210 [==============================] - 442s 2s/step - loss: 1.0292 - accuracy: 0.5571 - val_loss: 0.8083 - val_accuracy: 0.6917 - lr: 0.0015\n",
      "Epoch 7/45\n",
      "210/210 [==============================] - ETA: 0s - loss: 0.9883 - accuracy: 0.5595\n",
      "Epoch 7: val_loss did not improve from 0.69968\n",
      "210/210 [==============================] - 439s 2s/step - loss: 0.9883 - accuracy: 0.5595 - val_loss: 2.2697 - val_accuracy: 0.4917 - lr: 0.0015\n",
      "Epoch 8/45\n",
      "210/210 [==============================] - ETA: 0s - loss: 1.0843 - accuracy: 0.5190\n",
      "Epoch 8: val_loss did not improve from 0.69968\n",
      "210/210 [==============================] - 441s 2s/step - loss: 1.0843 - accuracy: 0.5190 - val_loss: 0.9086 - val_accuracy: 0.6042 - lr: 0.0015\n",
      "Epoch 9/45\n",
      "210/210 [==============================] - ETA: 0s - loss: 1.1000 - accuracy: 0.5149\n",
      "Epoch 9: val_loss did not improve from 0.69968\n",
      "210/210 [==============================] - 441s 2s/step - loss: 1.1000 - accuracy: 0.5149 - val_loss: 1.4703 - val_accuracy: 0.2375 - lr: 0.0015\n",
      "Epoch 10/45\n",
      "210/210 [==============================] - ETA: 0s - loss: 1.1725 - accuracy: 0.4565\n",
      "Epoch 10: val_loss did not improve from 0.69968\n",
      "210/210 [==============================] - 441s 2s/step - loss: 1.1725 - accuracy: 0.4565 - val_loss: 1.2084 - val_accuracy: 0.4000 - lr: 0.0015\n",
      "Epoch 11/45\n",
      "210/210 [==============================] - ETA: 0s - loss: 1.1295 - accuracy: 0.4821\n",
      "Epoch 11: val_loss did not improve from 0.69968\n",
      "210/210 [==============================] - 439s 2s/step - loss: 1.1295 - accuracy: 0.4821 - val_loss: 1.0248 - val_accuracy: 0.5333 - lr: 0.0015\n",
      "Epoch 12/45\n",
      "210/210 [==============================] - ETA: 0s - loss: 1.0945 - accuracy: 0.5125\n",
      "Epoch 12: val_loss did not improve from 0.69968\n",
      "210/210 [==============================] - 441s 2s/step - loss: 1.0945 - accuracy: 0.5125 - val_loss: 1.3274 - val_accuracy: 0.3542 - lr: 0.0015\n",
      "Epoch 13/45\n",
      "210/210 [==============================] - ETA: 0s - loss: 0.9836 - accuracy: 0.5595\n",
      "Epoch 13: val_loss did not improve from 0.69968\n",
      "210/210 [==============================] - 440s 2s/step - loss: 0.9836 - accuracy: 0.5595 - val_loss: 0.9032 - val_accuracy: 0.5833 - lr: 0.0015\n",
      "Epoch 14/45\n",
      "210/210 [==============================] - ETA: 0s - loss: 1.1924 - accuracy: 0.4905\n",
      "Epoch 14: ReduceLROnPlateau reducing learning rate to 0.0009000000078231095.\n",
      "\n",
      "Epoch 14: val_loss did not improve from 0.69968\n",
      "210/210 [==============================] - 440s 2s/step - loss: 1.1924 - accuracy: 0.4905 - val_loss: 1.3706 - val_accuracy: 0.2958 - lr: 0.0015\n",
      "Epoch 15/45\n",
      "210/210 [==============================] - ETA: 0s - loss: 1.1114 - accuracy: 0.4429\n",
      "Epoch 15: val_loss did not improve from 0.69968\n",
      "210/210 [==============================] - 441s 2s/step - loss: 1.1114 - accuracy: 0.4429 - val_loss: 1.0353 - val_accuracy: 0.5000 - lr: 9.0000e-04\n",
      "Epoch 16/45\n",
      "210/210 [==============================] - ETA: 0s - loss: 0.9978 - accuracy: 0.5327\n",
      "Epoch 16: val_loss did not improve from 0.69968\n",
      "210/210 [==============================] - 441s 2s/step - loss: 0.9978 - accuracy: 0.5327 - val_loss: 0.8882 - val_accuracy: 0.6208 - lr: 9.0000e-04\n",
      "Epoch 17/45\n",
      "210/210 [==============================] - ETA: 0s - loss: 0.9853 - accuracy: 0.5702\n",
      "Epoch 17: val_loss did not improve from 0.69968\n",
      "210/210 [==============================] - 440s 2s/step - loss: 0.9853 - accuracy: 0.5702 - val_loss: 0.8536 - val_accuracy: 0.6250 - lr: 9.0000e-04\n",
      "Epoch 18/45\n",
      "210/210 [==============================] - ETA: 0s - loss: 0.9396 - accuracy: 0.5530\n",
      "Epoch 18: val_loss did not improve from 0.69968\n",
      "210/210 [==============================] - 440s 2s/step - loss: 0.9396 - accuracy: 0.5530 - val_loss: 0.7810 - val_accuracy: 0.6083 - lr: 9.0000e-04\n",
      "Epoch 19/45\n",
      "210/210 [==============================] - ETA: 0s - loss: 0.9286 - accuracy: 0.5756\n",
      "Epoch 19: val_loss did not improve from 0.69968\n",
      "210/210 [==============================] - 440s 2s/step - loss: 0.9286 - accuracy: 0.5756 - val_loss: 1.1185 - val_accuracy: 0.5125 - lr: 9.0000e-04\n",
      "Epoch 20/45\n",
      "210/210 [==============================] - ETA: 0s - loss: 0.9316 - accuracy: 0.5744\n",
      "Epoch 20: val_loss did not improve from 0.69968\n",
      "210/210 [==============================] - 440s 2s/step - loss: 0.9316 - accuracy: 0.5744 - val_loss: 0.8510 - val_accuracy: 0.6042 - lr: 9.0000e-04\n",
      "Epoch 21/45\n",
      "210/210 [==============================] - ETA: 0s - loss: 0.9201 - accuracy: 0.6089\n",
      "Epoch 21: val_loss did not improve from 0.69968\n",
      "210/210 [==============================] - 441s 2s/step - loss: 0.9201 - accuracy: 0.6089 - val_loss: 0.7545 - val_accuracy: 0.7000 - lr: 9.0000e-04\n",
      "Epoch 22/45\n",
      "210/210 [==============================] - ETA: 0s - loss: 0.8393 - accuracy: 0.6298\n",
      "Epoch 22: val_loss did not improve from 0.69968\n",
      "210/210 [==============================] - 441s 2s/step - loss: 0.8393 - accuracy: 0.6298 - val_loss: 1.0256 - val_accuracy: 0.5542 - lr: 9.0000e-04\n",
      "Epoch 23/45\n",
      "210/210 [==============================] - ETA: 0s - loss: 0.8315 - accuracy: 0.6280\n",
      "Epoch 23: val_loss improved from 0.69968 to 0.59952, saving model to ./checkpoints/V4.1.2\\FOLD-5\n",
      "INFO:tensorflow:Assets written to: ./checkpoints/V4.1.2\\FOLD-5\\assets\n"
     ]
    },
    {
     "name": "stderr",
     "output_type": "stream",
     "text": [
      "INFO:tensorflow:Assets written to: ./checkpoints/V4.1.2\\FOLD-5\\assets\n"
     ]
    },
    {
     "name": "stdout",
     "output_type": "stream",
     "text": [
      "210/210 [==============================] - 450s 2s/step - loss: 0.8315 - accuracy: 0.6280 - val_loss: 0.5995 - val_accuracy: 0.6958 - lr: 9.0000e-04\n",
      "Epoch 24/45\n",
      "210/210 [==============================] - ETA: 0s - loss: 0.8428 - accuracy: 0.6113\n",
      "Epoch 24: val_loss did not improve from 0.59952\n",
      "210/210 [==============================] - 439s 2s/step - loss: 0.8428 - accuracy: 0.6113 - val_loss: 1.1764 - val_accuracy: 0.4917 - lr: 9.0000e-04\n",
      "Epoch 25/45\n",
      "210/210 [==============================] - ETA: 0s - loss: 0.7920 - accuracy: 0.6304\n",
      "Epoch 25: val_loss did not improve from 0.59952\n",
      "210/210 [==============================] - 441s 2s/step - loss: 0.7920 - accuracy: 0.6304 - val_loss: 0.6538 - val_accuracy: 0.6958 - lr: 9.0000e-04\n",
      "Epoch 26/45\n",
      "210/210 [==============================] - ETA: 0s - loss: 0.7887 - accuracy: 0.6387\n",
      "Epoch 26: val_loss did not improve from 0.59952\n",
      "210/210 [==============================] - 441s 2s/step - loss: 0.7887 - accuracy: 0.6387 - val_loss: 1.9668 - val_accuracy: 0.3958 - lr: 9.0000e-04\n",
      "Epoch 27/45\n",
      "210/210 [==============================] - ETA: 0s - loss: 0.7655 - accuracy: 0.6393\n",
      "Epoch 27: val_loss did not improve from 0.59952\n",
      "210/210 [==============================] - 441s 2s/step - loss: 0.7655 - accuracy: 0.6393 - val_loss: 1.1506 - val_accuracy: 0.5083 - lr: 9.0000e-04\n",
      "Epoch 28/45\n",
      "210/210 [==============================] - ETA: 0s - loss: 0.8543 - accuracy: 0.6083\n",
      "Epoch 28: val_loss did not improve from 0.59952\n",
      "210/210 [==============================] - 439s 2s/step - loss: 0.8543 - accuracy: 0.6083 - val_loss: 0.6741 - val_accuracy: 0.7042 - lr: 9.0000e-04\n",
      "Epoch 29/45\n",
      "210/210 [==============================] - ETA: 0s - loss: 0.8218 - accuracy: 0.6435\n",
      "Epoch 29: val_loss did not improve from 0.59952\n",
      "210/210 [==============================] - 440s 2s/step - loss: 0.8218 - accuracy: 0.6435 - val_loss: 1.4586 - val_accuracy: 0.3833 - lr: 9.0000e-04\n",
      "Epoch 30/45\n",
      "210/210 [==============================] - ETA: 0s - loss: 0.7458 - accuracy: 0.6720\n",
      "Epoch 30: val_loss did not improve from 0.59952\n",
      "210/210 [==============================] - 441s 2s/step - loss: 0.7458 - accuracy: 0.6720 - val_loss: 0.6198 - val_accuracy: 0.7167 - lr: 9.0000e-04\n",
      "Epoch 31/45\n",
      "210/210 [==============================] - ETA: 0s - loss: 0.8056 - accuracy: 0.6506\n",
      "Epoch 31: val_loss did not improve from 0.59952\n",
      "210/210 [==============================] - 441s 2s/step - loss: 0.8056 - accuracy: 0.6506 - val_loss: 1.0691 - val_accuracy: 0.5500 - lr: 9.0000e-04\n",
      "Epoch 32/45\n",
      "210/210 [==============================] - ETA: 0s - loss: 0.6757 - accuracy: 0.6815\n",
      "Epoch 32: val_loss did not improve from 0.59952\n",
      "210/210 [==============================] - 439s 2s/step - loss: 0.6757 - accuracy: 0.6815 - val_loss: 2.3412 - val_accuracy: 0.4583 - lr: 9.0000e-04\n",
      "Epoch 33/45\n",
      "210/210 [==============================] - ETA: 0s - loss: 0.7864 - accuracy: 0.6208\n",
      "Epoch 33: ReduceLROnPlateau reducing learning rate to 0.0005399999907240271.\n",
      "\n",
      "Epoch 33: val_loss did not improve from 0.59952\n",
      "210/210 [==============================] - 439s 2s/step - loss: 0.7864 - accuracy: 0.6208 - val_loss: 1.8728 - val_accuracy: 0.3042 - lr: 9.0000e-04\n",
      "Epoch 34/45\n",
      "210/210 [==============================] - ETA: 0s - loss: 0.7228 - accuracy: 0.6708\n",
      "Epoch 34: val_loss did not improve from 0.59952\n",
      "210/210 [==============================] - 440s 2s/step - loss: 0.7228 - accuracy: 0.6708 - val_loss: 0.6518 - val_accuracy: 0.6625 - lr: 5.4000e-04\n",
      "Epoch 35/45\n",
      "210/210 [==============================] - ETA: 0s - loss: 0.6332 - accuracy: 0.6839\n",
      "Epoch 35: val_loss did not improve from 0.59952\n",
      "210/210 [==============================] - 441s 2s/step - loss: 0.6332 - accuracy: 0.6839 - val_loss: 3.2449 - val_accuracy: 0.2875 - lr: 5.4000e-04\n",
      "Epoch 36/45\n",
      "210/210 [==============================] - ETA: 0s - loss: 0.5945 - accuracy: 0.7417\n",
      "Epoch 36: val_loss did not improve from 0.59952\n",
      "210/210 [==============================] - 439s 2s/step - loss: 0.5945 - accuracy: 0.7417 - val_loss: 0.9611 - val_accuracy: 0.6083 - lr: 5.4000e-04\n",
      "Epoch 37/45\n",
      "210/210 [==============================] - ETA: 0s - loss: 0.5813 - accuracy: 0.7500\n",
      "Epoch 37: val_loss improved from 0.59952 to 0.47518, saving model to ./checkpoints/V4.1.2\\FOLD-5\n",
      "INFO:tensorflow:Assets written to: ./checkpoints/V4.1.2\\FOLD-5\\assets\n"
     ]
    },
    {
     "name": "stderr",
     "output_type": "stream",
     "text": [
      "INFO:tensorflow:Assets written to: ./checkpoints/V4.1.2\\FOLD-5\\assets\n"
     ]
    },
    {
     "name": "stdout",
     "output_type": "stream",
     "text": [
      "210/210 [==============================] - 450s 2s/step - loss: 0.5813 - accuracy: 0.7500 - val_loss: 0.4752 - val_accuracy: 0.8208 - lr: 5.4000e-04\n",
      "Epoch 38/45\n",
      "210/210 [==============================] - ETA: 0s - loss: 0.6170 - accuracy: 0.7351\n",
      "Epoch 38: val_loss did not improve from 0.47518\n",
      "210/210 [==============================] - 440s 2s/step - loss: 0.6170 - accuracy: 0.7351 - val_loss: 0.8514 - val_accuracy: 0.6208 - lr: 5.4000e-04\n",
      "Epoch 39/45\n",
      "210/210 [==============================] - ETA: 0s - loss: 0.6359 - accuracy: 0.7464\n",
      "Epoch 39: val_loss did not improve from 0.47518\n",
      "210/210 [==============================] - 440s 2s/step - loss: 0.6359 - accuracy: 0.7464 - val_loss: 0.8897 - val_accuracy: 0.6167 - lr: 5.4000e-04\n",
      "Epoch 40/45\n",
      "210/210 [==============================] - ETA: 0s - loss: 0.5521 - accuracy: 0.7619\n",
      "Epoch 40: val_loss did not improve from 0.47518\n",
      "210/210 [==============================] - 439s 2s/step - loss: 0.5521 - accuracy: 0.7619 - val_loss: 0.4816 - val_accuracy: 0.8167 - lr: 5.4000e-04\n",
      "Epoch 41/45\n",
      "210/210 [==============================] - ETA: 0s - loss: 0.5774 - accuracy: 0.7589\n",
      "Epoch 41: val_loss improved from 0.47518 to 0.47229, saving model to ./checkpoints/V4.1.2\\FOLD-5\n",
      "INFO:tensorflow:Assets written to: ./checkpoints/V4.1.2\\FOLD-5\\assets\n"
     ]
    },
    {
     "name": "stderr",
     "output_type": "stream",
     "text": [
      "INFO:tensorflow:Assets written to: ./checkpoints/V4.1.2\\FOLD-5\\assets\n"
     ]
    },
    {
     "name": "stdout",
     "output_type": "stream",
     "text": [
      "210/210 [==============================] - 448s 2s/step - loss: 0.5774 - accuracy: 0.7589 - val_loss: 0.4723 - val_accuracy: 0.8125 - lr: 5.4000e-04\n",
      "Epoch 42/45\n",
      "210/210 [==============================] - ETA: 0s - loss: 0.5545 - accuracy: 0.7744\n",
      "Epoch 42: val_loss did not improve from 0.47229\n",
      "210/210 [==============================] - 440s 2s/step - loss: 0.5545 - accuracy: 0.7744 - val_loss: 0.6648 - val_accuracy: 0.7458 - lr: 5.4000e-04\n",
      "Epoch 43/45\n",
      "210/210 [==============================] - ETA: 0s - loss: 0.5736 - accuracy: 0.7643\n",
      "Epoch 43: val_loss improved from 0.47229 to 0.45805, saving model to ./checkpoints/V4.1.2\\FOLD-5\n",
      "INFO:tensorflow:Assets written to: ./checkpoints/V4.1.2\\FOLD-5\\assets\n"
     ]
    },
    {
     "name": "stderr",
     "output_type": "stream",
     "text": [
      "INFO:tensorflow:Assets written to: ./checkpoints/V4.1.2\\FOLD-5\\assets\n"
     ]
    },
    {
     "name": "stdout",
     "output_type": "stream",
     "text": [
      "210/210 [==============================] - 445s 2s/step - loss: 0.5736 - accuracy: 0.7643 - val_loss: 0.4580 - val_accuracy: 0.8375 - lr: 5.4000e-04\n",
      "Epoch 44/45\n",
      "210/210 [==============================] - ETA: 0s - loss: 0.5479 - accuracy: 0.7702\n",
      "Epoch 44: val_loss did not improve from 0.45805\n",
      "210/210 [==============================] - 438s 2s/step - loss: 0.5479 - accuracy: 0.7702 - val_loss: 1.9255 - val_accuracy: 0.4167 - lr: 5.4000e-04\n",
      "Epoch 45/45\n",
      "210/210 [==============================] - ETA: 0s - loss: 0.5642 - accuracy: 0.7726\n",
      "Epoch 45: val_loss did not improve from 0.45805\n",
      "210/210 [==============================] - 437s 2s/step - loss: 0.5642 - accuracy: 0.7726 - val_loss: 2.0951 - val_accuracy: 0.3375 - lr: 5.4000e-04\n"
     ]
    },
    {
     "data": {
      "image/png": "[encoded data removed]",
      "text/plain": [
       "<Figure size 300x200 with 1 Axes>"
      ]
     },
     "metadata": {},
     "output_type": "display_data"
    },
    {
     "data": {
      "image/png": "[encoded data removed]",
      "text/plain": [
       "<Figure size 300x200 with 1 Axes>"
      ]
     },
     "metadata": {},
     "output_type": "display_data"
    },
    {
     "name": "stdout",
     "output_type": "stream",
     "text": [
      "Fold Training Time: 5 hour(s) and 32 mins\n",
      "Precision: 86.32075190544128  -  Recall: 76.2499988079071\n",
      "Accuracy: 83.74999761581421\n",
      "F1Score: Building 74.24242401123047 | Plant 94.82758331298828 | Road 92.56198120117188 | Vehicle 73.87387084960938\n",
      "[neptune] [info   ] Shutting down background jobs, please wait a moment...\n",
      "[neptune] [info   ] Done!\n",
      "[neptune] [info   ] Neptune initialized. Open in the app: offline/5db11ebf-5398-4fcc-87fe-e34bbd308733\n",
      "Epoch 1/45\n",
      "210/210 [==============================] - ETA: 0s - loss: 19.3633 - accuracy: 0.5149\n",
      "Epoch 1: val_loss improved from inf to 3.99501, saving model to ./checkpoints/V4.1.2\\FOLD-6\n",
      "INFO:tensorflow:Assets written to: ./checkpoints/V4.1.2\\FOLD-6\\assets\n"
     ]
    },
    {
     "name": "stderr",
     "output_type": "stream",
     "text": [
      "INFO:tensorflow:Assets written to: ./checkpoints/V4.1.2\\FOLD-6\\assets\n"
     ]
    },
    {
     "name": "stdout",
     "output_type": "stream",
     "text": [
      "210/210 [==============================] - 471s 2s/step - loss: 19.3633 - accuracy: 0.5149 - val_loss: 3.9950 - val_accuracy: 0.3875 - lr: 0.0015\n",
      "Epoch 2/45\n",
      "210/210 [==============================] - ETA: 0s - loss: 1.6293 - accuracy: 0.5655\n",
      "Epoch 2: val_loss improved from 3.99501 to 1.07568, saving model to ./checkpoints/V4.1.2\\FOLD-6\n",
      "INFO:tensorflow:Assets written to: ./checkpoints/V4.1.2\\FOLD-6\\assets\n"
     ]
    },
    {
     "name": "stderr",
     "output_type": "stream",
     "text": [
      "INFO:tensorflow:Assets written to: ./checkpoints/V4.1.2\\FOLD-6\\assets\n"
     ]
    },
    {
     "name": "stdout",
     "output_type": "stream",
     "text": [
      "210/210 [==============================] - 445s 2s/step - loss: 1.6293 - accuracy: 0.5655 - val_loss: 1.0757 - val_accuracy: 0.5500 - lr: 0.0015\n",
      "Epoch 3/45\n",
      "210/210 [==============================] - ETA: 0s - loss: 1.0105 - accuracy: 0.5750\n",
      "Epoch 3: val_loss improved from 1.07568 to 0.82262, saving model to ./checkpoints/V4.1.2\\FOLD-6\n",
      "INFO:tensorflow:Assets written to: ./checkpoints/V4.1.2\\FOLD-6\\assets\n"
     ]
    },
    {
     "name": "stderr",
     "output_type": "stream",
     "text": [
      "INFO:tensorflow:Assets written to: ./checkpoints/V4.1.2\\FOLD-6\\assets\n"
     ]
    },
    {
     "name": "stdout",
     "output_type": "stream",
     "text": [
      "210/210 [==============================] - 446s 2s/step - loss: 1.0105 - accuracy: 0.5750 - val_loss: 0.8226 - val_accuracy: 0.6583 - lr: 0.0015\n",
      "Epoch 4/45\n",
      "210/210 [==============================] - ETA: 0s - loss: 0.9250 - accuracy: 0.5917\n",
      "Epoch 4: val_loss improved from 0.82262 to 0.77196, saving model to ./checkpoints/V4.1.2\\FOLD-6\n",
      "INFO:tensorflow:Assets written to: ./checkpoints/V4.1.2\\FOLD-6\\assets\n"
     ]
    },
    {
     "name": "stderr",
     "output_type": "stream",
     "text": [
      "INFO:tensorflow:Assets written to: ./checkpoints/V4.1.2\\FOLD-6\\assets\n"
     ]
    },
    {
     "name": "stdout",
     "output_type": "stream",
     "text": [
      "210/210 [==============================] - 445s 2s/step - loss: 0.9250 - accuracy: 0.5917 - val_loss: 0.7720 - val_accuracy: 0.6667 - lr: 0.0015\n",
      "Epoch 5/45\n",
      "210/210 [==============================] - ETA: 0s - loss: 0.9808 - accuracy: 0.5625\n",
      "Epoch 5: val_loss did not improve from 0.77196\n",
      "210/210 [==============================] - 438s 2s/step - loss: 0.9808 - accuracy: 0.5625 - val_loss: 1.1619 - val_accuracy: 0.4625 - lr: 0.0015\n",
      "Epoch 6/45\n",
      "210/210 [==============================] - ETA: 0s - loss: 1.0796 - accuracy: 0.5113\n",
      "Epoch 6: val_loss did not improve from 0.77196\n",
      "210/210 [==============================] - 436s 2s/step - loss: 1.0796 - accuracy: 0.5113 - val_loss: 1.4146 - val_accuracy: 0.6000 - lr: 0.0015\n",
      "Epoch 7/45\n",
      "210/210 [==============================] - ETA: 0s - loss: 1.0368 - accuracy: 0.5530\n",
      "Epoch 7: val_loss did not improve from 0.77196\n",
      "210/210 [==============================] - 437s 2s/step - loss: 1.0368 - accuracy: 0.5530 - val_loss: 0.8521 - val_accuracy: 0.6583 - lr: 0.0015\n",
      "Epoch 8/45\n",
      "210/210 [==============================] - ETA: 0s - loss: 1.0720 - accuracy: 0.5381\n",
      "Epoch 8: val_loss did not improve from 0.77196\n",
      "210/210 [==============================] - 437s 2s/step - loss: 1.0720 - accuracy: 0.5381 - val_loss: 0.9060 - val_accuracy: 0.6125 - lr: 0.0015\n",
      "Epoch 9/45\n",
      "210/210 [==============================] - ETA: 0s - loss: 1.0611 - accuracy: 0.5298\n",
      "Epoch 9: val_loss did not improve from 0.77196\n",
      "210/210 [==============================] - 438s 2s/step - loss: 1.0611 - accuracy: 0.5298 - val_loss: 1.4824 - val_accuracy: 0.5000 - lr: 0.0015\n",
      "Epoch 10/45\n",
      "210/210 [==============================] - ETA: 0s - loss: 1.0813 - accuracy: 0.5208\n",
      "Epoch 10: val_loss did not improve from 0.77196\n",
      "210/210 [==============================] - 437s 2s/step - loss: 1.0813 - accuracy: 0.5208 - val_loss: 2.2687 - val_accuracy: 0.3875 - lr: 0.0015\n",
      "Epoch 11/45\n",
      "210/210 [==============================] - ETA: 0s - loss: 1.1357 - accuracy: 0.5077\n",
      "Epoch 11: val_loss did not improve from 0.77196\n",
      "210/210 [==============================] - 437s 2s/step - loss: 1.1357 - accuracy: 0.5077 - val_loss: 1.0550 - val_accuracy: 0.5542 - lr: 0.0015\n",
      "Epoch 12/45\n",
      "210/210 [==============================] - ETA: 0s - loss: 1.1460 - accuracy: 0.5423\n",
      "Epoch 12: val_loss did not improve from 0.77196\n",
      "210/210 [==============================] - 437s 2s/step - loss: 1.1460 - accuracy: 0.5423 - val_loss: 1.7975 - val_accuracy: 0.2917 - lr: 0.0015\n",
      "Epoch 13/45\n",
      "210/210 [==============================] - ETA: 0s - loss: 1.0854 - accuracy: 0.5399\n",
      "Epoch 13: val_loss did not improve from 0.77196\n",
      "210/210 [==============================] - 438s 2s/step - loss: 1.0854 - accuracy: 0.5399 - val_loss: 1.4571 - val_accuracy: 0.3833 - lr: 0.0015\n",
      "Epoch 14/45\n",
      "210/210 [==============================] - ETA: 0s - loss: 1.0112 - accuracy: 0.5542\n",
      "Epoch 14: ReduceLROnPlateau reducing learning rate to 0.0009000000078231095.\n",
      "\n",
      "Epoch 14: val_loss did not improve from 0.77196\n",
      "210/210 [==============================] - 437s 2s/step - loss: 1.0112 - accuracy: 0.5542 - val_loss: 1.0116 - val_accuracy: 0.5417 - lr: 0.0015\n",
      "Epoch 15/45\n",
      "210/210 [==============================] - ETA: 0s - loss: 0.9484 - accuracy: 0.5952\n",
      "Epoch 15: val_loss did not improve from 0.77196\n",
      "210/210 [==============================] - 438s 2s/step - loss: 0.9484 - accuracy: 0.5952 - val_loss: 0.9449 - val_accuracy: 0.5917 - lr: 9.0000e-04\n",
      "Epoch 16/45\n",
      "210/210 [==============================] - ETA: 0s - loss: 0.9556 - accuracy: 0.6006\n",
      "Epoch 16: val_loss improved from 0.77196 to 0.74817, saving model to ./checkpoints/V4.1.2\\FOLD-6\n",
      "INFO:tensorflow:Assets written to: ./checkpoints/V4.1.2\\FOLD-6\\assets\n"
     ]
    },
    {
     "name": "stderr",
     "output_type": "stream",
     "text": [
      "INFO:tensorflow:Assets written to: ./checkpoints/V4.1.2\\FOLD-6\\assets\n"
     ]
    },
    {
     "name": "stdout",
     "output_type": "stream",
     "text": [
      "210/210 [==============================] - 456s 2s/step - loss: 0.9556 - accuracy: 0.6006 - val_loss: 0.7482 - val_accuracy: 0.7208 - lr: 9.0000e-04\n",
      "Epoch 17/45\n",
      "210/210 [==============================] - ETA: 0s - loss: 0.8956 - accuracy: 0.6006\n",
      "Epoch 17: val_loss did not improve from 0.74817\n",
      "210/210 [==============================] - 439s 2s/step - loss: 0.8956 - accuracy: 0.6006 - val_loss: 1.2616 - val_accuracy: 0.6042 - lr: 9.0000e-04\n",
      "Epoch 18/45\n",
      "210/210 [==============================] - ETA: 0s - loss: 0.9172 - accuracy: 0.6048\n",
      "Epoch 18: val_loss did not improve from 0.74817\n",
      "210/210 [==============================] - 440s 2s/step - loss: 0.9172 - accuracy: 0.6048 - val_loss: 1.3357 - val_accuracy: 0.4083 - lr: 9.0000e-04\n",
      "Epoch 19/45\n",
      "210/210 [==============================] - ETA: 0s - loss: 0.9919 - accuracy: 0.5881\n",
      "Epoch 19: val_loss did not improve from 0.74817\n",
      "210/210 [==============================] - 438s 2s/step - loss: 0.9919 - accuracy: 0.5881 - val_loss: 1.5234 - val_accuracy: 0.3583 - lr: 9.0000e-04\n",
      "Epoch 20/45\n",
      "210/210 [==============================] - ETA: 0s - loss: 0.9104 - accuracy: 0.6030\n",
      "Epoch 20: val_loss did not improve from 0.74817\n",
      "210/210 [==============================] - 438s 2s/step - loss: 0.9104 - accuracy: 0.6030 - val_loss: 0.9182 - val_accuracy: 0.6167 - lr: 9.0000e-04\n",
      "Epoch 21/45\n",
      "210/210 [==============================] - ETA: 0s - loss: 0.9165 - accuracy: 0.6173\n",
      "Epoch 21: val_loss did not improve from 0.74817\n",
      "210/210 [==============================] - 437s 2s/step - loss: 0.9165 - accuracy: 0.6173 - val_loss: 1.2064 - val_accuracy: 0.5167 - lr: 9.0000e-04\n",
      "Epoch 22/45\n",
      "210/210 [==============================] - ETA: 0s - loss: 0.9552 - accuracy: 0.5869\n",
      "Epoch 22: val_loss did not improve from 0.74817\n",
      "210/210 [==============================] - 438s 2s/step - loss: 0.9552 - accuracy: 0.5869 - val_loss: 1.8163 - val_accuracy: 0.4625 - lr: 9.0000e-04\n",
      "Epoch 23/45\n",
      "210/210 [==============================] - ETA: 0s - loss: 0.9342 - accuracy: 0.6048\n",
      "Epoch 23: val_loss did not improve from 0.74817\n",
      "210/210 [==============================] - 435s 2s/step - loss: 0.9342 - accuracy: 0.6048 - val_loss: 0.9600 - val_accuracy: 0.5667 - lr: 9.0000e-04\n",
      "Epoch 24/45\n",
      "210/210 [==============================] - ETA: 0s - loss: 0.8988 - accuracy: 0.6339\n",
      "Epoch 24: val_loss did not improve from 0.74817\n",
      "210/210 [==============================] - 438s 2s/step - loss: 0.8988 - accuracy: 0.6339 - val_loss: 3.4322 - val_accuracy: 0.4125 - lr: 9.0000e-04\n",
      "Epoch 25/45\n",
      "210/210 [==============================] - ETA: 0s - loss: 0.8592 - accuracy: 0.6476\n",
      "Epoch 25: val_loss did not improve from 0.74817\n",
      "210/210 [==============================] - 559s 3s/step - loss: 0.8592 - accuracy: 0.6476 - val_loss: 0.8245 - val_accuracy: 0.6833 - lr: 9.0000e-04\n",
      "Epoch 26/45\n",
      "210/210 [==============================] - ETA: 0s - loss: 0.8098 - accuracy: 0.6643\n",
      "Epoch 26: val_loss improved from 0.74817 to 0.67919, saving model to ./checkpoints/V4.1.2\\FOLD-6\n",
      "INFO:tensorflow:Assets written to: ./checkpoints/V4.1.2\\FOLD-6\\assets\n"
     ]
    },
    {
     "name": "stderr",
     "output_type": "stream",
     "text": [
      "INFO:tensorflow:Assets written to: ./checkpoints/V4.1.2\\FOLD-6\\assets\n"
     ]
    },
    {
     "name": "stdout",
     "output_type": "stream",
     "text": [
      "210/210 [==============================] - 602s 3s/step - loss: 0.8098 - accuracy: 0.6643 - val_loss: 0.6792 - val_accuracy: 0.7750 - lr: 9.0000e-04\n",
      "Epoch 27/45\n",
      "210/210 [==============================] - ETA: 0s - loss: 0.8595 - accuracy: 0.6375\n",
      "Epoch 27: val_loss did not improve from 0.67919\n",
      "210/210 [==============================] - 527s 3s/step - loss: 0.8595 - accuracy: 0.6375 - val_loss: 0.8800 - val_accuracy: 0.6625 - lr: 9.0000e-04\n",
      "Epoch 28/45\n",
      "210/210 [==============================] - ETA: 0s - loss: 0.8341 - accuracy: 0.6530\n",
      "Epoch 28: val_loss did not improve from 0.67919\n",
      "210/210 [==============================] - 585s 3s/step - loss: 0.8341 - accuracy: 0.6530 - val_loss: 9.0936 - val_accuracy: 0.2625 - lr: 9.0000e-04\n",
      "Epoch 29/45\n",
      "210/210 [==============================] - ETA: 0s - loss: 1.0519 - accuracy: 0.5607\n",
      "Epoch 29: val_loss did not improve from 0.67919\n",
      "210/210 [==============================] - 565s 3s/step - loss: 1.0519 - accuracy: 0.5607 - val_loss: 0.9680 - val_accuracy: 0.5708 - lr: 9.0000e-04\n",
      "Epoch 30/45\n",
      "210/210 [==============================] - ETA: 0s - loss: 0.8116 - accuracy: 0.6601\n",
      "Epoch 30: val_loss did not improve from 0.67919\n",
      "210/210 [==============================] - 570s 3s/step - loss: 0.8116 - accuracy: 0.6601 - val_loss: 6.0097 - val_accuracy: 0.2583 - lr: 9.0000e-04\n",
      "Epoch 31/45\n",
      "210/210 [==============================] - ETA: 0s - loss: 0.7876 - accuracy: 0.6798\n",
      "Epoch 31: val_loss did not improve from 0.67919\n",
      "210/210 [==============================] - 568s 3s/step - loss: 0.7876 - accuracy: 0.6798 - val_loss: 2.4122 - val_accuracy: 0.4167 - lr: 9.0000e-04\n",
      "Epoch 32/45\n",
      "210/210 [==============================] - ETA: 0s - loss: 0.7247 - accuracy: 0.7036\n",
      "Epoch 32: val_loss did not improve from 0.67919\n",
      "210/210 [==============================] - 567s 3s/step - loss: 0.7247 - accuracy: 0.7036 - val_loss: 0.9949 - val_accuracy: 0.6375 - lr: 9.0000e-04\n",
      "Epoch 33/45\n",
      "210/210 [==============================] - ETA: 0s - loss: 0.7195 - accuracy: 0.6899\n",
      "Epoch 33: val_loss did not improve from 0.67919\n",
      "210/210 [==============================] - 488s 2s/step - loss: 0.7195 - accuracy: 0.6899 - val_loss: 0.8853 - val_accuracy: 0.6542 - lr: 9.0000e-04\n",
      "Epoch 34/45\n",
      "210/210 [==============================] - ETA: 0s - loss: 0.6925 - accuracy: 0.7208\n",
      "Epoch 34: val_loss improved from 0.67919 to 0.65245, saving model to ./checkpoints/V4.1.2\\FOLD-6\n",
      "INFO:tensorflow:Assets written to: ./checkpoints/V4.1.2\\FOLD-6\\assets\n"
     ]
    },
    {
     "name": "stderr",
     "output_type": "stream",
     "text": [
      "INFO:tensorflow:Assets written to: ./checkpoints/V4.1.2\\FOLD-6\\assets\n"
     ]
    },
    {
     "name": "stdout",
     "output_type": "stream",
     "text": [
      "210/210 [==============================] - 494s 2s/step - loss: 0.6925 - accuracy: 0.7208 - val_loss: 0.6524 - val_accuracy: 0.7833 - lr: 9.0000e-04\n",
      "Epoch 35/45\n",
      "210/210 [==============================] - ETA: 0s - loss: 0.7707 - accuracy: 0.6881\n",
      "Epoch 35: val_loss did not improve from 0.65245\n",
      "210/210 [==============================] - 484s 2s/step - loss: 0.7707 - accuracy: 0.6881 - val_loss: 0.8086 - val_accuracy: 0.6542 - lr: 9.0000e-04\n",
      "Epoch 36/45\n",
      "210/210 [==============================] - ETA: 0s - loss: 0.6395 - accuracy: 0.7339\n",
      "Epoch 36: val_loss did not improve from 0.65245\n",
      "210/210 [==============================] - 487s 2s/step - loss: 0.6395 - accuracy: 0.7339 - val_loss: 1.5849 - val_accuracy: 0.4250 - lr: 9.0000e-04\n",
      "Epoch 37/45\n",
      "210/210 [==============================] - ETA: 0s - loss: 0.7364 - accuracy: 0.7024\n",
      "Epoch 37: val_loss did not improve from 0.65245\n",
      "210/210 [==============================] - 465s 2s/step - loss: 0.7364 - accuracy: 0.7024 - val_loss: 0.8549 - val_accuracy: 0.6542 - lr: 9.0000e-04\n",
      "Epoch 38/45\n",
      "210/210 [==============================] - ETA: 0s - loss: 0.7165 - accuracy: 0.7119\n",
      "Epoch 38: val_loss did not improve from 0.65245\n",
      "210/210 [==============================] - 461s 2s/step - loss: 0.7165 - accuracy: 0.7119 - val_loss: 1.0014 - val_accuracy: 0.6083 - lr: 9.0000e-04\n",
      "Epoch 39/45\n",
      "210/210 [==============================] - ETA: 0s - loss: 0.6288 - accuracy: 0.7345\n",
      "Epoch 39: val_loss did not improve from 0.65245\n",
      "210/210 [==============================] - 462s 2s/step - loss: 0.6288 - accuracy: 0.7345 - val_loss: 0.9881 - val_accuracy: 0.6458 - lr: 9.0000e-04\n",
      "Epoch 40/45\n",
      "210/210 [==============================] - ETA: 0s - loss: 0.6286 - accuracy: 0.7399\n",
      "Epoch 40: val_loss did not improve from 0.65245\n",
      "210/210 [==============================] - 523s 2s/step - loss: 0.6286 - accuracy: 0.7399 - val_loss: 0.7623 - val_accuracy: 0.6833 - lr: 9.0000e-04\n",
      "Epoch 41/45\n",
      "210/210 [==============================] - ETA: 0s - loss: 0.6966 - accuracy: 0.7167\n",
      "Epoch 41: val_loss did not improve from 0.65245\n",
      "210/210 [==============================] - 571s 3s/step - loss: 0.6966 - accuracy: 0.7167 - val_loss: 3.2184 - val_accuracy: 0.2708 - lr: 9.0000e-04\n",
      "Epoch 42/45\n",
      "210/210 [==============================] - ETA: 0s - loss: 0.5973 - accuracy: 0.7583\n",
      "Epoch 42: val_loss improved from 0.65245 to 0.60781, saving model to ./checkpoints/V4.1.2\\FOLD-6\n",
      "INFO:tensorflow:Assets written to: ./checkpoints/V4.1.2\\FOLD-6\\assets\n"
     ]
    },
    {
     "name": "stderr",
     "output_type": "stream",
     "text": [
      "INFO:tensorflow:Assets written to: ./checkpoints/V4.1.2\\FOLD-6\\assets\n"
     ]
    },
    {
     "name": "stdout",
     "output_type": "stream",
     "text": [
      "210/210 [==============================] - 542s 3s/step - loss: 0.5973 - accuracy: 0.7583 - val_loss: 0.6078 - val_accuracy: 0.7833 - lr: 9.0000e-04\n",
      "Epoch 43/45\n",
      "210/210 [==============================] - ETA: 0s - loss: 0.6511 - accuracy: 0.7435\n",
      "Epoch 43: val_loss improved from 0.60781 to 0.57503, saving model to ./checkpoints/V4.1.2\\FOLD-6\n",
      "INFO:tensorflow:Assets written to: ./checkpoints/V4.1.2\\FOLD-6\\assets\n"
     ]
    },
    {
     "name": "stderr",
     "output_type": "stream",
     "text": [
      "INFO:tensorflow:Assets written to: ./checkpoints/V4.1.2\\FOLD-6\\assets\n"
     ]
    },
    {
     "name": "stdout",
     "output_type": "stream",
     "text": [
      "210/210 [==============================] - 558s 3s/step - loss: 0.6511 - accuracy: 0.7435 - val_loss: 0.5750 - val_accuracy: 0.7417 - lr: 9.0000e-04\n",
      "Epoch 44/45\n",
      "210/210 [==============================] - ETA: 0s - loss: 0.5928 - accuracy: 0.7732\n",
      "Epoch 44: val_loss did not improve from 0.57503\n",
      "210/210 [==============================] - 507s 2s/step - loss: 0.5928 - accuracy: 0.7732 - val_loss: 1.1457 - val_accuracy: 0.5875 - lr: 9.0000e-04\n",
      "Epoch 45/45\n",
      "210/210 [==============================] - ETA: 0s - loss: 0.6610 - accuracy: 0.7256\n",
      "Epoch 45: val_loss did not improve from 0.57503\n",
      "210/210 [==============================] - 551s 3s/step - loss: 0.6610 - accuracy: 0.7256 - val_loss: 1.1011 - val_accuracy: 0.5333 - lr: 9.0000e-04\n"
     ]
    },
    {
     "data": {
      "image/png": "[encoded data removed]",
      "text/plain": [
       "<Figure size 300x200 with 1 Axes>"
      ]
     },
     "metadata": {},
     "output_type": "display_data"
    },
    {
     "data": {
      "image/png": "[encoded data removed]",
      "text/plain": [
       "<Figure size 300x200 with 1 Axes>"
      ]
     },
     "metadata": {},
     "output_type": "display_data"
    },
    {
     "name": "stdout",
     "output_type": "stream",
     "text": [
      "Fold Training Time: 6 hour(s) and 2 mins\n",
      "Precision: 83.75634551048279  -  Recall: 68.75\n",
      "Accuracy: 74.16666746139526\n",
      "F1Score: Building 61.068702697753906 | Plant 88.33333587646484 | Road 84.68468475341797 | Vehicle 64.40677642822266\n",
      "[neptune] [info   ] Shutting down background jobs, please wait a moment...\n",
      "[neptune] [info   ] Done!\n",
      "[neptune] [info   ] Neptune initialized. Open in the app: offline/cc7a7bde-d9f4-4199-bbf3-2c862b363fd7\n",
      "Epoch 1/45\n",
      "210/210 [==============================] - ETA: 0s - loss: 20.2811 - accuracy: 0.4917\n",
      "Epoch 1: val_loss improved from inf to 4.19714, saving model to ./checkpoints/V4.1.2\\FOLD-7\n",
      "INFO:tensorflow:Assets written to: ./checkpoints/V4.1.2\\FOLD-7\\assets\n"
     ]
    },
    {
     "name": "stderr",
     "output_type": "stream",
     "text": [
      "INFO:tensorflow:Assets written to: ./checkpoints/V4.1.2\\FOLD-7\\assets\n"
     ]
    },
    {
     "name": "stdout",
     "output_type": "stream",
     "text": [
      "210/210 [==============================] - 613s 3s/step - loss: 20.2811 - accuracy: 0.4917 - val_loss: 4.1971 - val_accuracy: 0.3250 - lr: 0.0015\n",
      "Epoch 2/45\n",
      "210/210 [==============================] - ETA: 0s - loss: 1.6109 - accuracy: 0.5917\n",
      "Epoch 2: val_loss improved from 4.19714 to 0.87423, saving model to ./checkpoints/V4.1.2\\FOLD-7\n",
      "INFO:tensorflow:Assets written to: ./checkpoints/V4.1.2\\FOLD-7\\assets\n"
     ]
    },
    {
     "name": "stderr",
     "output_type": "stream",
     "text": [
      "INFO:tensorflow:Assets written to: ./checkpoints/V4.1.2\\FOLD-7\\assets\n"
     ]
    },
    {
     "name": "stdout",
     "output_type": "stream",
     "text": [
      "210/210 [==============================] - 539s 3s/step - loss: 1.6109 - accuracy: 0.5917 - val_loss: 0.8742 - val_accuracy: 0.6333 - lr: 0.0015\n",
      "Epoch 3/45\n",
      "210/210 [==============================] - ETA: 0s - loss: 0.9814 - accuracy: 0.6357\n",
      "Epoch 3: val_loss did not improve from 0.87423\n",
      "210/210 [==============================] - 502s 2s/step - loss: 0.9814 - accuracy: 0.6357 - val_loss: 0.9673 - val_accuracy: 0.6375 - lr: 0.0015\n",
      "Epoch 4/45\n",
      "210/210 [==============================] - ETA: 0s - loss: 0.8907 - accuracy: 0.6470\n",
      "Epoch 4: val_loss improved from 0.87423 to 0.68817, saving model to ./checkpoints/V4.1.2\\FOLD-7\n",
      "INFO:tensorflow:Assets written to: ./checkpoints/V4.1.2\\FOLD-7\\assets\n"
     ]
    },
    {
     "name": "stderr",
     "output_type": "stream",
     "text": [
      "INFO:tensorflow:Assets written to: ./checkpoints/V4.1.2\\FOLD-7\\assets\n"
     ]
    },
    {
     "name": "stdout",
     "output_type": "stream",
     "text": [
      "210/210 [==============================] - 570s 3s/step - loss: 0.8907 - accuracy: 0.6470 - val_loss: 0.6882 - val_accuracy: 0.7250 - lr: 0.0015\n",
      "Epoch 5/45\n",
      "210/210 [==============================] - ETA: 0s - loss: 0.8767 - accuracy: 0.6595\n",
      "Epoch 5: val_loss did not improve from 0.68817\n",
      "210/210 [==============================] - 557s 3s/step - loss: 0.8767 - accuracy: 0.6595 - val_loss: 1.5746 - val_accuracy: 0.5958 - lr: 0.0015\n",
      "Epoch 6/45\n",
      "210/210 [==============================] - ETA: 0s - loss: 0.8660 - accuracy: 0.6393\n",
      "Epoch 6: val_loss did not improve from 0.68817\n",
      "210/210 [==============================] - 530s 3s/step - loss: 0.8660 - accuracy: 0.6393 - val_loss: 0.9437 - val_accuracy: 0.6625 - lr: 0.0015\n",
      "Epoch 7/45\n",
      "210/210 [==============================] - ETA: 0s - loss: 0.8819 - accuracy: 0.6565\n",
      "Epoch 7: val_loss improved from 0.68817 to 0.65241, saving model to ./checkpoints/V4.1.2\\FOLD-7\n",
      "INFO:tensorflow:Assets written to: ./checkpoints/V4.1.2\\FOLD-7\\assets\n"
     ]
    },
    {
     "name": "stderr",
     "output_type": "stream",
     "text": [
      "INFO:tensorflow:Assets written to: ./checkpoints/V4.1.2\\FOLD-7\\assets\n"
     ]
    },
    {
     "name": "stdout",
     "output_type": "stream",
     "text": [
      "210/210 [==============================] - 524s 2s/step - loss: 0.8819 - accuracy: 0.6565 - val_loss: 0.6524 - val_accuracy: 0.7208 - lr: 0.0015\n",
      "Epoch 8/45\n",
      "210/210 [==============================] - ETA: 0s - loss: 0.8015 - accuracy: 0.6518\n",
      "Epoch 8: val_loss did not improve from 0.65241\n",
      "210/210 [==============================] - 509s 2s/step - loss: 0.8015 - accuracy: 0.6518 - val_loss: 0.8293 - val_accuracy: 0.6708 - lr: 0.0015\n",
      "Epoch 9/45\n",
      "210/210 [==============================] - ETA: 0s - loss: 0.8736 - accuracy: 0.6345\n",
      "Epoch 9: val_loss did not improve from 0.65241\n",
      "210/210 [==============================] - 513s 2s/step - loss: 0.8736 - accuracy: 0.6345 - val_loss: 0.7798 - val_accuracy: 0.6417 - lr: 0.0015\n",
      "Epoch 10/45\n",
      "210/210 [==============================] - ETA: 0s - loss: 0.8631 - accuracy: 0.6381\n",
      "Epoch 10: val_loss did not improve from 0.65241\n",
      "210/210 [==============================] - 509s 2s/step - loss: 0.8631 - accuracy: 0.6381 - val_loss: 0.7451 - val_accuracy: 0.6292 - lr: 0.0015\n",
      "Epoch 11/45\n",
      "210/210 [==============================] - ETA: 0s - loss: 0.7961 - accuracy: 0.6917\n",
      "Epoch 11: val_loss did not improve from 0.65241\n",
      "210/210 [==============================] - 508s 2s/step - loss: 0.7961 - accuracy: 0.6917 - val_loss: 1.1082 - val_accuracy: 0.6292 - lr: 0.0015\n",
      "Epoch 12/45\n",
      "210/210 [==============================] - ETA: 0s - loss: 0.7825 - accuracy: 0.6798\n",
      "Epoch 12: val_loss did not improve from 0.65241\n",
      "210/210 [==============================] - 516s 2s/step - loss: 0.7825 - accuracy: 0.6798 - val_loss: 1.9149 - val_accuracy: 0.5458 - lr: 0.0015\n",
      "Epoch 13/45\n",
      "210/210 [==============================] - ETA: 0s - loss: 0.7853 - accuracy: 0.7077\n",
      "Epoch 13: val_loss did not improve from 0.65241\n",
      "210/210 [==============================] - 583s 3s/step - loss: 0.7853 - accuracy: 0.7077 - val_loss: 0.7420 - val_accuracy: 0.7833 - lr: 0.0015\n",
      "Epoch 14/45\n",
      "210/210 [==============================] - ETA: 0s - loss: 0.7315 - accuracy: 0.7298\n",
      "Epoch 14: val_loss did not improve from 0.65241\n",
      "210/210 [==============================] - 582s 3s/step - loss: 0.7315 - accuracy: 0.7298 - val_loss: 1.6411 - val_accuracy: 0.3917 - lr: 0.0015\n",
      "Epoch 15/45\n",
      "210/210 [==============================] - ETA: 0s - loss: 0.8014 - accuracy: 0.6851\n",
      "Epoch 15: val_loss did not improve from 0.65241\n",
      "210/210 [==============================] - 711s 3s/step - loss: 0.8014 - accuracy: 0.6851 - val_loss: 1.6931 - val_accuracy: 0.4292 - lr: 0.0015\n",
      "Epoch 16/45\n",
      "210/210 [==============================] - ETA: 0s - loss: 0.7282 - accuracy: 0.7167\n",
      "Epoch 16: val_loss did not improve from 0.65241\n",
      "210/210 [==============================] - 536s 3s/step - loss: 0.7282 - accuracy: 0.7167 - val_loss: 1.1053 - val_accuracy: 0.5750 - lr: 0.0015\n",
      "Epoch 17/45\n",
      "210/210 [==============================] - ETA: 0s - loss: 0.6832 - accuracy: 0.7417\n",
      "Epoch 17: val_loss improved from 0.65241 to 0.51637, saving model to ./checkpoints/V4.1.2\\FOLD-7\n",
      "INFO:tensorflow:Assets written to: ./checkpoints/V4.1.2\\FOLD-7\\assets\n"
     ]
    },
    {
     "name": "stderr",
     "output_type": "stream",
     "text": [
      "INFO:tensorflow:Assets written to: ./checkpoints/V4.1.2\\FOLD-7\\assets\n"
     ]
    },
    {
     "name": "stdout",
     "output_type": "stream",
     "text": [
      "210/210 [==============================] - 828s 4s/step - loss: 0.6832 - accuracy: 0.7417 - val_loss: 0.5164 - val_accuracy: 0.7833 - lr: 0.0015\n",
      "Epoch 18/45\n",
      "210/210 [==============================] - ETA: 0s - loss: 0.6426 - accuracy: 0.7548\n",
      "Epoch 18: val_loss did not improve from 0.51637\n",
      "210/210 [==============================] - 644s 3s/step - loss: 0.6426 - accuracy: 0.7548 - val_loss: 0.5623 - val_accuracy: 0.7708 - lr: 0.0015\n",
      "Epoch 19/45\n",
      "210/210 [==============================] - ETA: 0s - loss: 0.6185 - accuracy: 0.7637\n",
      "Epoch 19: val_loss improved from 0.51637 to 0.51055, saving model to ./checkpoints/V4.1.2\\FOLD-7\n",
      "INFO:tensorflow:Assets written to: ./checkpoints/V4.1.2\\FOLD-7\\assets\n"
     ]
    },
    {
     "name": "stderr",
     "output_type": "stream",
     "text": [
      "INFO:tensorflow:Assets written to: ./checkpoints/V4.1.2\\FOLD-7\\assets\n"
     ]
    },
    {
     "name": "stdout",
     "output_type": "stream",
     "text": [
      "210/210 [==============================] - 701s 3s/step - loss: 0.6185 - accuracy: 0.7637 - val_loss: 0.5105 - val_accuracy: 0.8000 - lr: 0.0015\n",
      "Epoch 20/45\n",
      "210/210 [==============================] - ETA: 0s - loss: 0.6399 - accuracy: 0.7583\n",
      "Epoch 20: val_loss did not improve from 0.51055\n",
      "210/210 [==============================] - 553s 3s/step - loss: 0.6399 - accuracy: 0.7583 - val_loss: 0.9914 - val_accuracy: 0.5792 - lr: 0.0015\n",
      "Epoch 21/45\n",
      "210/210 [==============================] - ETA: 0s - loss: 0.7310 - accuracy: 0.7167\n",
      "Epoch 21: val_loss did not improve from 0.51055\n",
      "210/210 [==============================] - 546s 3s/step - loss: 0.7310 - accuracy: 0.7167 - val_loss: 1.9005 - val_accuracy: 0.4208 - lr: 0.0015\n",
      "Epoch 22/45\n",
      "210/210 [==============================] - ETA: 0s - loss: 0.5418 - accuracy: 0.7851\n",
      "Epoch 22: val_loss did not improve from 0.51055\n",
      "210/210 [==============================] - 522s 2s/step - loss: 0.5418 - accuracy: 0.7851 - val_loss: 0.5760 - val_accuracy: 0.7750 - lr: 0.0015\n",
      "Epoch 23/45\n",
      "210/210 [==============================] - ETA: 0s - loss: 0.6061 - accuracy: 0.7690\n",
      "Epoch 23: val_loss did not improve from 0.51055\n",
      "210/210 [==============================] - 494s 2s/step - loss: 0.6061 - accuracy: 0.7690 - val_loss: 0.5581 - val_accuracy: 0.7708 - lr: 0.0015\n",
      "Epoch 24/45\n",
      "210/210 [==============================] - ETA: 0s - loss: 0.5567 - accuracy: 0.7923\n",
      "Epoch 24: val_loss did not improve from 0.51055\n",
      "210/210 [==============================] - 462s 2s/step - loss: 0.5567 - accuracy: 0.7923 - val_loss: 1.2428 - val_accuracy: 0.4875 - lr: 0.0015\n",
      "Epoch 25/45\n",
      "210/210 [==============================] - ETA: 0s - loss: 0.5821 - accuracy: 0.7887\n",
      "Epoch 25: val_loss did not improve from 0.51055\n",
      "210/210 [==============================] - 460s 2s/step - loss: 0.5821 - accuracy: 0.7887 - val_loss: 0.6334 - val_accuracy: 0.7583 - lr: 0.0015\n",
      "Epoch 26/45\n",
      "210/210 [==============================] - ETA: 0s - loss: 0.5497 - accuracy: 0.7952\n",
      "Epoch 26: val_loss did not improve from 0.51055\n",
      "210/210 [==============================] - 461s 2s/step - loss: 0.5497 - accuracy: 0.7952 - val_loss: 0.9425 - val_accuracy: 0.6208 - lr: 0.0015\n",
      "Epoch 27/45\n",
      "210/210 [==============================] - ETA: 0s - loss: 0.5542 - accuracy: 0.7917\n",
      "Epoch 27: val_loss did not improve from 0.51055\n",
      "210/210 [==============================] - 578s 3s/step - loss: 0.5542 - accuracy: 0.7917 - val_loss: 0.8755 - val_accuracy: 0.6125 - lr: 0.0015\n",
      "Epoch 28/45\n",
      "210/210 [==============================] - ETA: 0s - loss: 0.5219 - accuracy: 0.7869\n",
      "Epoch 28: val_loss did not improve from 0.51055\n",
      "210/210 [==============================] - 573s 3s/step - loss: 0.5219 - accuracy: 0.7869 - val_loss: 1.2530 - val_accuracy: 0.5125 - lr: 0.0015\n",
      "Epoch 29/45\n",
      "210/210 [==============================] - ETA: 0s - loss: 0.5633 - accuracy: 0.7798\n",
      "Epoch 29: ReduceLROnPlateau reducing learning rate to 0.0009000000078231095.\n",
      "\n",
      "Epoch 29: val_loss did not improve from 0.51055\n",
      "210/210 [==============================] - 535s 3s/step - loss: 0.5633 - accuracy: 0.7798 - val_loss: 0.7340 - val_accuracy: 0.6042 - lr: 0.0015\n",
      "Epoch 30/45\n",
      "210/210 [==============================] - ETA: 0s - loss: 0.4395 - accuracy: 0.8268\n",
      "Epoch 30: val_loss did not improve from 0.51055\n",
      "210/210 [==============================] - 512s 2s/step - loss: 0.4395 - accuracy: 0.8268 - val_loss: 1.8268 - val_accuracy: 0.4792 - lr: 9.0000e-04\n",
      "Epoch 31/45\n",
      "210/210 [==============================] - ETA: 0s - loss: 0.3987 - accuracy: 0.8446\n",
      "Epoch 31: val_loss did not improve from 0.51055\n",
      "210/210 [==============================] - 498s 2s/step - loss: 0.3987 - accuracy: 0.8446 - val_loss: 0.6523 - val_accuracy: 0.7708 - lr: 9.0000e-04\n",
      "Epoch 32/45\n",
      "210/210 [==============================] - ETA: 0s - loss: 0.4139 - accuracy: 0.8357\n",
      "Epoch 32: val_loss did not improve from 0.51055\n",
      "210/210 [==============================] - 490s 2s/step - loss: 0.4139 - accuracy: 0.8357 - val_loss: 0.6149 - val_accuracy: 0.7500 - lr: 9.0000e-04\n",
      "Epoch 33/45\n",
      "210/210 [==============================] - ETA: 0s - loss: 0.4767 - accuracy: 0.8173\n",
      "Epoch 33: val_loss improved from 0.51055 to 0.46271, saving model to ./checkpoints/V4.1.2\\FOLD-7\n",
      "INFO:tensorflow:Assets written to: ./checkpoints/V4.1.2\\FOLD-7\\assets\n"
     ]
    },
    {
     "name": "stderr",
     "output_type": "stream",
     "text": [
      "INFO:tensorflow:Assets written to: ./checkpoints/V4.1.2\\FOLD-7\\assets\n"
     ]
    },
    {
     "name": "stdout",
     "output_type": "stream",
     "text": [
      "210/210 [==============================] - 529s 3s/step - loss: 0.4767 - accuracy: 0.8173 - val_loss: 0.4627 - val_accuracy: 0.8208 - lr: 9.0000e-04\n",
      "Epoch 34/45\n",
      "210/210 [==============================] - ETA: 0s - loss: 0.4421 - accuracy: 0.8262\n",
      "Epoch 34: val_loss did not improve from 0.46271\n",
      "210/210 [==============================] - 537s 3s/step - loss: 0.4421 - accuracy: 0.8262 - val_loss: 1.4662 - val_accuracy: 0.5875 - lr: 9.0000e-04\n",
      "Epoch 35/45\n",
      "210/210 [==============================] - ETA: 0s - loss: 0.5056 - accuracy: 0.8185\n",
      "Epoch 35: val_loss did not improve from 0.46271\n",
      "210/210 [==============================] - 484s 2s/step - loss: 0.5056 - accuracy: 0.8185 - val_loss: 0.9117 - val_accuracy: 0.7167 - lr: 9.0000e-04\n",
      "Epoch 36/45\n",
      "210/210 [==============================] - ETA: 0s - loss: 0.4600 - accuracy: 0.8232\n",
      "Epoch 36: val_loss did not improve from 0.46271\n",
      "210/210 [==============================] - 463s 2s/step - loss: 0.4600 - accuracy: 0.8232 - val_loss: 0.8989 - val_accuracy: 0.6208 - lr: 9.0000e-04\n",
      "Epoch 37/45\n",
      "210/210 [==============================] - ETA: 0s - loss: 0.4283 - accuracy: 0.8327\n",
      "Epoch 37: val_loss did not improve from 0.46271\n",
      "210/210 [==============================] - 462s 2s/step - loss: 0.4283 - accuracy: 0.8327 - val_loss: 0.6412 - val_accuracy: 0.7625 - lr: 9.0000e-04\n",
      "Epoch 38/45\n",
      "210/210 [==============================] - ETA: 0s - loss: 0.4034 - accuracy: 0.8548\n",
      "Epoch 38: val_loss did not improve from 0.46271\n",
      "210/210 [==============================] - 475s 2s/step - loss: 0.4034 - accuracy: 0.8548 - val_loss: 1.4145 - val_accuracy: 0.5417 - lr: 9.0000e-04\n",
      "Epoch 39/45\n",
      "210/210 [==============================] - ETA: 0s - loss: 0.4215 - accuracy: 0.8315\n",
      "Epoch 39: val_loss improved from 0.46271 to 0.44939, saving model to ./checkpoints/V4.1.2\\FOLD-7\n",
      "INFO:tensorflow:Assets written to: ./checkpoints/V4.1.2\\FOLD-7\\assets\n"
     ]
    },
    {
     "name": "stderr",
     "output_type": "stream",
     "text": [
      "INFO:tensorflow:Assets written to: ./checkpoints/V4.1.2\\FOLD-7\\assets\n"
     ]
    },
    {
     "name": "stdout",
     "output_type": "stream",
     "text": [
      "210/210 [==============================] - 550s 3s/step - loss: 0.4215 - accuracy: 0.8315 - val_loss: 0.4494 - val_accuracy: 0.8208 - lr: 9.0000e-04\n",
      "Epoch 40/45\n",
      "210/210 [==============================] - ETA: 0s - loss: 0.4593 - accuracy: 0.8321\n",
      "Epoch 40: val_loss did not improve from 0.44939\n",
      "210/210 [==============================] - 525s 3s/step - loss: 0.4593 - accuracy: 0.8321 - val_loss: 0.5389 - val_accuracy: 0.8042 - lr: 9.0000e-04\n",
      "Epoch 41/45\n",
      "210/210 [==============================] - ETA: 0s - loss: 0.4068 - accuracy: 0.8405\n",
      "Epoch 41: val_loss did not improve from 0.44939\n",
      "210/210 [==============================] - 542s 3s/step - loss: 0.4068 - accuracy: 0.8405 - val_loss: 0.5636 - val_accuracy: 0.7708 - lr: 9.0000e-04\n",
      "Epoch 42/45\n",
      "210/210 [==============================] - ETA: 0s - loss: 0.3805 - accuracy: 0.8476\n",
      "Epoch 42: val_loss did not improve from 0.44939\n",
      "210/210 [==============================] - 484s 2s/step - loss: 0.3805 - accuracy: 0.8476 - val_loss: 1.1748 - val_accuracy: 0.5750 - lr: 9.0000e-04\n",
      "Epoch 43/45\n",
      "210/210 [==============================] - ETA: 0s - loss: 0.4008 - accuracy: 0.8595\n",
      "Epoch 43: val_loss did not improve from 0.44939\n",
      "210/210 [==============================] - 481s 2s/step - loss: 0.4008 - accuracy: 0.8595 - val_loss: 0.9521 - val_accuracy: 0.6500 - lr: 9.0000e-04\n",
      "Epoch 44/45\n",
      "210/210 [==============================] - ETA: 0s - loss: 0.3935 - accuracy: 0.8548\n",
      "Epoch 44: val_loss did not improve from 0.44939\n",
      "210/210 [==============================] - 481s 2s/step - loss: 0.3935 - accuracy: 0.8548 - val_loss: 0.6214 - val_accuracy: 0.7583 - lr: 9.0000e-04\n",
      "Epoch 45/45\n",
      "210/210 [==============================] - ETA: 0s - loss: 0.4003 - accuracy: 0.8506\n",
      "Epoch 45: val_loss did not improve from 0.44939\n",
      "210/210 [==============================] - 460s 2s/step - loss: 0.4003 - accuracy: 0.8506 - val_loss: 0.5328 - val_accuracy: 0.7792 - lr: 9.0000e-04\n"
     ]
    },
    {
     "data": {
      "image/png": "[encoded data removed]",
      "text/plain": [
       "<Figure size 300x200 with 1 Axes>"
      ]
     },
     "metadata": {},
     "output_type": "display_data"
    },
    {
     "data": {
      "image/png": "[encoded data removed]",
      "text/plain": [
       "<Figure size 300x200 with 1 Axes>"
      ]
     },
     "metadata": {},
     "output_type": "display_data"
    },
    {
     "name": "stdout",
     "output_type": "stream",
     "text": [
      "Fold Training Time: 6 hour(s) and 42 mins\n",
      "Precision: 83.55555534362793  -  Recall: 78.33333611488342\n",
      "Accuracy: 82.08333253860474\n",
      "F1Score: Building 70.1754379272461 | Plant 88.18897247314453 | Road 93.22034454345703 | Vehicle 76.03305053710938\n",
      "[neptune] [info   ] Shutting down background jobs, please wait a moment...\n",
      "[neptune] [info   ] Done!\n",
      "Total Training Time: 46 hour(s) and 28 mins\n"
     ]
    }
   ],
   "source": [
    "# ============================\n",
    "# Log performance of each fold\n",
    "# ============================\n",
    "\n",
    "precisions = []\n",
    "recalls = []\n",
    "accuracies = []\n",
    "f1_blds = []\n",
    "f1_plants = []\n",
    "f1_roads = []\n",
    "f1_vhcls = []\n",
    "\n",
    "counter = 0\n",
    "start = perf_counter()\n",
    "for train, test in kfold.split(train_x, train_y):\n",
    "    start_fold = perf_counter()\n",
    "\n",
    "    run = neptune.init_run(\n",
    "        name= f\"{model_name}-FOLD_{counter}\",\n",
    "        project=project_name,\n",
    "        mode=\"offline\"     # To prevent issue when internet sucks. Just manually sync it\n",
    "    )  # your credentials\n",
    "\n",
    "    run[\"parameters\"] = params\n",
    "    model = make_model(params)\n",
    "    cat_y = tf.keras.utils.to_categorical(train_y)\n",
    "    train_dataset = tf.data.Dataset.from_tensor_slices((train_x[train], cat_y[train]))\n",
    "    train_fold = train_dataset.shuffle(buffer_size=train_dataset.cardinality(), seed=1).batch(params['batch_size'])\n",
    "    \n",
    "    test_dataset = tf.data.Dataset.from_tensor_slices((train_x[test], cat_y[test]))\n",
    "    test_fold = test_dataset.shuffle(buffer_size=test_dataset.cardinality(), seed=1).batch(params['batch_size'])\n",
    "    \n",
    "    hist = model.fit(train_fold, \n",
    "                     validation_data=test_fold,\n",
    "                     batch_size=params['batch_size'],\n",
    "                     epochs=params['epochs'],\n",
    "                     verbose=1,\n",
    "                     callbacks=create_callbacks(counter))\n",
    "    end_fold = perf_counter()\n",
    "\n",
    "    # PLOTTING ==================================================\n",
    "    run[\"fig-train_loss\"].upload(plot_loss(hist))\n",
    "    run[\"fig-train_acc\"].upload(plot_acc(hist))\n",
    "    \n",
    "    # EVALUATING ==================================================\n",
    "    model = tf.keras.models.load_model(checkpoint_path + str(counter))\n",
    "    \n",
    "    pre = Precision()\n",
    "    rec = Recall()\n",
    "    c_acc = CategoricalAccuracy()\n",
    "    f1_score = F1Score()\n",
    "    for batch in test_fold.as_numpy_iterator():\n",
    "        X, y = batch\n",
    "        yhat = model.predict(X, verbose=0)\n",
    "        f1_score.update_state(y, yhat)\n",
    "        pre.update_state(y, yhat)\n",
    "        rec.update_state(y, yhat)\n",
    "        c_acc.update_state(y, yhat)\n",
    "        \n",
    "    precisions.append(pre.result().numpy() * 100)\n",
    "    recalls.append(rec.result().numpy() * 100)\n",
    "    accuracies.append(c_acc.result().numpy() * 100)\n",
    "    f1_s = f1_score.result().numpy() * 100\n",
    "    \n",
    "    f1_blds.append(f1_s[0])\n",
    "    f1_plants.append(f1_s[1])\n",
    "    f1_roads.append(f1_s[2])\n",
    "    f1_vhcls.append(f1_s[3])\n",
    "    \n",
    "    run[\"eval/ACC/\"] = accuracies[counter]\n",
    "    run[\"eval/REC/\"] = recalls[counter]\n",
    "    run[\"eval/PRE/\"] = precisions[counter]\n",
    "    run[\"eval/F1-Bld\"] = f1_blds[counter]\n",
    "    run[\"eval/F1-Plant\"] = f1_plants[counter]\n",
    "    run[\"eval/F1-Road\"] = f1_roads[counter]\n",
    "    run[\"eval/F1-Vhcl\"] = f1_vhcls[counter]\n",
    "\n",
    "    # SAVE MODEL TO NEPTUNE AI =======================================\n",
    "    model_save_path = f\"./models/V4-1-2_Fold-{counter}.keras\"\n",
    "    model.save(model_save_path)\n",
    "    run['/checkpoint/model'].upload(model_save_path)\n",
    "    \n",
    "    # PRINTING RESULTS ===========================================\n",
    "    print(f'Fold Training Time: {math.floor((end_fold-start_fold)/3600) } hour(s) and {math.floor((end_fold-start_fold)/60)%60} mins')\n",
    "    print(f'Precision: {precisions[counter]}  -  Recall: {recalls[counter]}')\n",
    "    print(f'Accuracy: {accuracies[counter]}')\n",
    "    print(f'F1Score: Building {f1_blds[counter]} | Plant {f1_plants[counter]} | Road {f1_roads[counter]} | Vehicle {f1_vhcls[counter]}')\n",
    "    \n",
    "    run.stop()\n",
    "    \n",
    "    counter += 1\n",
    "\n",
    "end = perf_counter()\n",
    "\n",
    "print(f'Total Training Time: {math.floor((end-start)/3600) } hour(s) and {math.floor((end-start)/60)%60} mins')"
   ]
  },
  {
   "cell_type": "markdown",
   "id": "0cdcaea3-c498-44dd-be65-c899e9ba695c",
   "metadata": {},
   "source": [
    "# Get Average Performance of Model"
   ]
  },
  {
   "cell_type": "markdown",
   "id": "0e6a42b9-a558-4ea3-a099-c111c57b7ccf",
   "metadata": {},
   "source": [
    "## Save to Neptune AI"
   ]
  },
  {
   "cell_type": "code",
   "execution_count": 49,
   "id": "d13e1214-9537-4e9a-9e85-9b2f481506c3",
   "metadata": {},
   "outputs": [
    {
     "name": "stdout",
     "output_type": "stream",
     "text": [
      "[neptune] [info   ] Neptune initialized. Open in the app: offline/3d7484a7-3b6a-4b86-8689-b4fe6fd070a3\n",
      "[neptune] [info   ] Shutting down background jobs, please wait a moment...\n",
      "[neptune] [info   ] Done!\n"
     ]
    }
   ],
   "source": [
    "run = neptune.init_run(\n",
    "        name= f\"{model_name}-AVG\",\n",
    "        project=project_name,\n",
    "        mode='offline',\n",
    "        # api_token=api_token, # Api token is saved in user's environemnt variables\n",
    "    )  # your credentials\n",
    "\n",
    "run[\"eval/PRE/\"] = avg_rate(precisions)\n",
    "run[\"eval/REC/\"] = avg_rate(recalls)\n",
    "run[\"eval/ACC/\"] = avg_rate(accuracies)\n",
    "run[\"eval/F1-Bld\"] = avg_rate(f1_blds)\n",
    "run[\"eval/F1-Plant\"] = avg_rate(f1_plants)\n",
    "run[\"eval/F1-Road\"] = avg_rate(f1_roads)\n",
    "run[\"eval/F1-Vhcl\"] = avg_rate(f1_vhcls)\n",
    "\n",
    "run.stop()"
   ]
  },
  {
   "cell_type": "markdown",
   "id": "e69c613b-b1b9-4a1b-9ecf-969e62123fc9",
   "metadata": {},
   "source": [
    "## Save to Tensorboard"
   ]
  },
  {
   "cell_type": "code",
   "execution_count": 50,
   "id": "31ea4d93-bce3-4a78-a309-280b83d61676",
   "metadata": {},
   "outputs": [],
   "source": [
    "# Command to access TensorBoard HParams:\n",
    "\n",
    "# tensorboard --logdir PATH/logs/hparam_tuning\n",
    "with tf.summary.create_file_writer(f'./logs/hparam_tuning/{model_name}').as_default():\n",
    "    hparams = {\n",
    "        'CONV_F1': 32,\n",
    "        'CONV_F2': 32,\n",
    "        'CONV_F3': 64,\n",
    "        'CONV_F4': 64,\n",
    "        'CONV_F5': 128,\n",
    "        'CONV_F6': 128,\n",
    "        'DROPOUT': 0.2,\n",
    "        'D_UNITS_1': 640,\n",
    "        'DROPOUT': 0.2,\n",
    "        'D_UNITS_2': 256,\n",
    "    }\n",
    "    hp.hparams(hparams)\n",
    "    tf.summary.scalar('PRE', avg_rate(precisions), step=1)\n",
    "    tf.summary.scalar('REC', avg_rate(recalls), step=1)\n",
    "    tf.summary.scalar('ACC', avg_rate(accuracies), step=1)\n",
    "    tf.summary.scalar('F1 - Building', avg_rate(f1_blds), step=1)\n",
    "    tf.summary.scalar('F1 - Plant', avg_rate(f1_plants), step=1)\n",
    "    tf.summary.scalar('F1 - Road', avg_rate(f1_roads), step=1)\n",
    "    tf.summary.scalar('F1 - Vehicle', avg_rate(f1_vhcls), step=1)"
   ]
  },
  {
   "cell_type": "code",
   "execution_count": null,
   "id": "53362329-adc7-4db5-a223-a27367cbb06a",
   "metadata": {},
   "outputs": [],
   "source": []
  },
  {
   "cell_type": "markdown",
   "id": "3a48f537-6a6e-4696-afc1-c608ffc793f3",
   "metadata": {},
   "source": [
    "# Asd"
   ]
  },
  {
   "cell_type": "markdown",
   "id": "98e06983-0acb-4201-bb07-4c6579d25cbd",
   "metadata": {
    "jp-MarkdownHeadingCollapsed": true
   },
   "source": [
    "# Others"
   ]
  },
  {
   "cell_type": "code",
   "execution_count": null,
   "id": "6590ec4c-5fc3-470e-bc7c-26503425ab8c",
   "metadata": {
    "scrolled": true
   },
   "outputs": [],
   "source": [
    "model= make_model()\n",
    "model.fit(\n",
    "    x_train,\n",
    "    y_train,\n",
    "    validation_data=(x_test,y_test),\n",
    "    epochs=params[\"epochs\"],\n",
    "    batch_size=params[\"batch_size\"],\n",
    "    callbacks=create_callbacks(0),\n",
    ")"
   ]
  },
  {
   "cell_type": "code",
   "execution_count": null,
   "id": "64460324-7348-47a8-bfed-b23556965940",
   "metadata": {
    "scrolled": true
   },
   "outputs": [],
   "source": [
    "true_test_dataset = tf.data.Dataset.from_tensor_slices((x_test, y_test))\n",
    "true_test_set = true_test_dataset.shuffle(buffer_size=true_test_dataset.cardinality(), seed=1).batch(64)\n",
    "\n",
    "f1 = F1Score()\n",
    "pre = Precision()\n",
    "rec = Recall()\n",
    "c_acc = CategoricalAccuracy()\n",
    "for batch in true_test_set.as_numpy_iterator():\n",
    "    X, y = batch\n",
    "    yhat = model.predict(X)\n",
    "    yhat_max = []\n",
    "    for i in yhat:\n",
    "        maxed = np.argmax(i)\n",
    "        yhat_max.append(maxed)\n",
    "    yhat = np.array(yhat_max)\n",
    "    f1.update_state(y, yhat)\n",
    "    pre.update_state(y, yhat)\n",
    "    rec.update_state(y, yhat)\n",
    "    c_acc.update_state(y, yhat)\n"
   ]
  },
  {
   "cell_type": "code",
   "execution_count": null,
   "id": "9e4864d2-4fb0-4526-95d3-9421c7bfa082",
   "metadata": {},
   "outputs": [],
   "source": [
    "run[\"eval/ACC/\"] = float(c_acc.result().numpy() * 100)\n",
    "run[\"eval/REC/\"] = float(rec.result().numpy() * 100)\n",
    "run[\"eval/PRE/\"] = float(pre.result().numpy() * 100)\n"
   ]
  },
  {
   "cell_type": "code",
   "execution_count": null,
   "id": "3a9f5d4a-c095-4788-8b9c-0f67f2631f42",
   "metadata": {},
   "outputs": [],
   "source": [
    "run.stop()"
   ]
  },
  {
   "cell_type": "code",
   "execution_count": null,
   "id": "153bb951-edfb-42a4-93ae-30f5d37fcbab",
   "metadata": {},
   "outputs": [],
   "source": []
  },
  {
   "cell_type": "code",
   "execution_count": null,
   "id": "1becccd6-290d-486c-9f34-f5b4b025b4f4",
   "metadata": {},
   "outputs": [],
   "source": []
  },
  {
   "cell_type": "code",
   "execution_count": null,
   "id": "bf6ba075-09fd-4fc7-8886-c600b17d2938",
   "metadata": {},
   "outputs": [],
   "source": [
    "eval_metrics = model.evaluate(x_test, y_test, verbose=0)\n",
    "for j, metric in enumerate(eval_metrics):\n",
    "    run[\"eval/AVG-ACC/{}\".format(model.metrics_names[j])] = metric\n",
    "\n",
    "run.stop()"
   ]
  },
  {
   "cell_type": "code",
   "execution_count": null,
   "id": "09100e0c-0d94-4e3d-8202-ec6e2872234d",
   "metadata": {},
   "outputs": [],
   "source": [
    "for j, metric in enumerate(eval_metrics):\n",
    "    print(model.metrics_names[j])"
   ]
  },
  {
   "cell_type": "markdown",
   "id": "91f20526-bb52-4153-a291-c18829f55825",
   "metadata": {},
   "source": [
    "## Neptune AI Notes"
   ]
  },
  {
   "cell_type": "raw",
   "id": "59ff9add-a7ad-4ccf-b4f4-e3b9dd83564d",
   "metadata": {},
   "source": [
    "1. neptune callback keeps track of learning rate - can use ReduceLROnPlateau\n",
    "2. neptune seems better used with one run each, but we can just create 1 more RUN before tuning the hyperparameters, name it with \"AVG\", have an \"AVG\" tag, and then save the average result\n",
    "3. The code below creates column in Neptune AI's website\n",
    "\n",
    "  for j, metric in enumerate(eval_metrics):\n",
    "    run[\"eval/AVG-ACC/{}\".format(model.metrics_names[j])] = metric\n",
    "    "
   ]
  },
  {
   "cell_type": "code",
   "execution_count": null,
   "id": "2603ac1c-fe1d-4a21-b8f0-9d8a32e67462",
   "metadata": {},
   "outputs": [],
   "source": []
  }
 ],
 "metadata": {
  "kernelspec": {
   "display_name": "neptune",
   "language": "python",
   "name": "neptune"
  },
  "language_info": {
   "codemirror_mode": {
    "name": "ipython",
    "version": 3
   },
   "file_extension": ".py",
   "mimetype": "text/x-python",
   "name": "python",
   "nbconvert_exporter": "python",
   "pygments_lexer": "ipython3",
   "version": "3.10.9"
  }
 },
 "nbformat": 4,
 "nbformat_minor": 5
}
